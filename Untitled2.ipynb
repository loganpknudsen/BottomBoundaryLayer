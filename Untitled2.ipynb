{
 "cells": [
  {
   "cell_type": "code",
   "execution_count": 11,
   "id": "03f05a8d",
   "metadata": {},
   "outputs": [],
   "source": [
    "import numpy as np\n",
    "import matplotlib.pyplot as plt"
   ]
  },
  {
   "cell_type": "code",
   "execution_count": 66,
   "id": "d9485382",
   "metadata": {},
   "outputs": [],
   "source": [
    "Sinf = np.arange(0,4,0.0001)"
   ]
  },
  {
   "cell_type": "code",
   "execution_count": 67,
   "id": "e4490cb9",
   "metadata": {},
   "outputs": [],
   "source": [
    "def magnitude_u_vel_upper_limit(Sinf):\n",
    "    N2 = 1e-5\n",
    "    delta = 0.5\n",
    "    f = 1e-4\n",
    "    theta = np.arctan(Sinf*f/N2)\n",
    "    gamma = (np.cos(theta)*(1+(1-delta)*Sinf**2))**(-1)\n",
    "    lmbd = N2*gamma*np.tan(theta)/f\n",
    "    beta = (1+Sinf**2)**(0.5)\n",
    "    return lmbd*delta*beta**(-1)"
   ]
  },
  {
   "cell_type": "code",
   "execution_count": 68,
   "id": "6c64b866",
   "metadata": {},
   "outputs": [],
   "source": [
    "def magnitude_v_vel_upper_limit(Sinf):\n",
    "    N2 = 1e-5\n",
    "    delta = 0.5\n",
    "    f = 1e-4\n",
    "    theta = np.arctan(Sinf*f/N2)\n",
    "    gamma = (np.cos(theta)*(1+(1-delta)*Sinf**2))**(-1)\n",
    "    lmbd = N2*gamma*np.tan(theta)/f\n",
    "    beta = (1+Sinf**2)**(0.5)\n",
    "    return lmbd*delta*beta**(-2)"
   ]
  },
  {
   "cell_type": "code",
   "execution_count": 69,
   "id": "bd6eb863",
   "metadata": {},
   "outputs": [],
   "source": [
    "def magnitude_u_vel_lower_limit(Sinf):\n",
    "    N2 = 1e-5\n",
    "    delta = 0.5\n",
    "    f = 1e-4\n",
    "    theta = np.arctan(Sinf*f/N2)\n",
    "    gamma = (3-Sinf**2)*(np.cos(theta)*(3*(1+Sinf**2)-4*delta*Sinf**2))**(-1)\n",
    "    lmbd = N2*gamma*np.tan(theta)/f\n",
    "    beta = (1+Sinf**2)**(0.5)\n",
    "    return delta*lmbd+lmbd*delta*beta**(-1)"
   ]
  },
  {
   "cell_type": "code",
   "execution_count": 70,
   "id": "7bb0f819",
   "metadata": {},
   "outputs": [],
   "source": [
    "def magnitude_v_vel_lower_limit(Sinf):\n",
    "    N2 = 1e-5\n",
    "    delta = 0.5\n",
    "    f = 1e-4\n",
    "    theta = np.arctan(Sinf*f/N2)\n",
    "    gamma = (3-Sinf**2)*(np.cos(theta)*(3*(1+Sinf**2)-4*delta*Sinf**2))**(-1)\n",
    "    lmbd = N2*gamma*np.tan(theta)/f\n",
    "    beta = (1+Sinf**2)**(0.5)\n",
    "    return delta*lmbd+lmbd*delta*beta**(-2)"
   ]
  },
  {
   "cell_type": "code",
   "execution_count": 71,
   "id": "87313a38",
   "metadata": {},
   "outputs": [],
   "source": [
    "def magnitude_strat_upper_limit(Sinf):\n",
    "    N2 = 1e-5\n",
    "    delta = 0.5\n",
    "    f = 1e-4\n",
    "    theta = np.arctan(Sinf*f/N2)\n",
    "    gamma = (np.cos(theta)*(1+(1-delta)*Sinf**2))**(-1)\n",
    "    lmbd = N2*gamma*np.tan(theta)/f\n",
    "    beta = (1+Sinf**2)**(0.5)\n",
    "    return -1*lmbd**2*delta*gamma**(-1)*beta**(-2)"
   ]
  },
  {
   "cell_type": "code",
   "execution_count": 72,
   "id": "2aee6d36",
   "metadata": {},
   "outputs": [],
   "source": [
    "def magnitude_strat_lower_limit(Sinf):\n",
    "    N2 = 1e-5\n",
    "    delta = 0.5\n",
    "    f = 1e-4\n",
    "    theta = np.arctan(Sinf*f/N2)\n",
    "    gamma = (3-Sinf**2)*(np.cos(theta)*(3*(1+Sinf**2)-4*delta*Sinf**2))**(-1)\n",
    "    lmbd = N2*gamma*np.tan(theta)/f\n",
    "    beta = (1+Sinf**2)**(0.5)\n",
    "    return -1*lmbd**2*delta*gamma**(-1)*beta**(-2)"
   ]
  },
  {
   "cell_type": "code",
   "execution_count": 73,
   "id": "2b968414",
   "metadata": {},
   "outputs": [
    {
     "data": {
      "text/plain": [
       "<matplotlib.collections.LineCollection at 0x7fbd43bd2280>"
      ]
     },
     "execution_count": 73,
     "metadata": {},
     "output_type": "execute_result"
    },
    {
     "data": {
      "image/png": "[encoded data removed]",
      "text/plain": [
       "<Figure size 432x288 with 1 Axes>"
      ]
     },
     "metadata": {
      "needs_background": "light"
     },
     "output_type": "display_data"
    }
   ],
   "source": [
    "u = magnitude_u_vel_upper_limit(Sinf)\n",
    "v = magnitude_v_vel_upper_limit(Sinf)\n",
    "B = magnitude_strat_upper_limit(Sinf)\n",
    "plt.plot(Sinf,u,color=\"red\")\n",
    "plt.plot(Sinf,v,color=\"blue\")\n",
    "plt.plot(Sinf,B,color=\"magenta\")\n",
    "plt.hlines(-2,xmin=0,xmax=2,color=\"k\",linestyle=\"--\")"
   ]
  },
  {
   "cell_type": "code",
   "execution_count": 74,
   "id": "5b5a5a4d",
   "metadata": {},
   "outputs": [
    {
     "data": {
      "text/plain": [
       "[<matplotlib.lines.Line2D at 0x7fbd447a0640>]"
      ]
     },
     "execution_count": 74,
     "metadata": {},
     "output_type": "execute_result"
    },
    {
     "data": {
      "image/png": "[encoded data removed]",
      "text/plain": [
       "<Figure size 432x288 with 1 Axes>"
      ]
     },
     "metadata": {
      "needs_background": "light"
     },
     "output_type": "display_data"
    }
   ],
   "source": [
    "u = magnitude_u_vel_lower_limit(Sinf)\n",
    "v = magnitude_v_vel_lower_limit(Sinf)\n",
    "B = magnitude_strat_lower_limit(Sinf)\n",
    "plt.plot(Sinf,u,color=\"red\")\n",
    "plt.plot(Sinf,v,color=\"blue\")\n",
    "plt.plot(Sinf,B,color=\"magenta\")\n",
    "# plt.vlines(np.sqrt(3),ymin=-0.2,ymax=0.4)\n",
    "# plt.hlines(0,xmin=0,xmax=4,color=\"k\",linestyle=\"--\")"
   ]
  },
  {
   "cell_type": "code",
   "execution_count": null,
   "id": "bb4b6aed",
   "metadata": {},
   "outputs": [],
   "source": []
  },
  {
   "cell_type": "code",
   "execution_count": null,
   "id": "7d297742",
   "metadata": {},
   "outputs": [],
   "source": []
  }
 ],
 "metadata": {
  "kernelspec": {
   "display_name": "Python 3 (ipykernel)",
   "language": "python",
   "name": "python3"
  },
  "language_info": {
   "codemirror_mode": {
    "name": "ipython",
    "version": 3
   },
   "file_extension": ".py",
   "mimetype": "text/x-python",
   "name": "python",
   "nbconvert_exporter": "python",
   "pygments_lexer": "ipython3",
   "version": "3.8.10"
  }
 },
 "nbformat": 4,
 "nbformat_minor": 5
}
