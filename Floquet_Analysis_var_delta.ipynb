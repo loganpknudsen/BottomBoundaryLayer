{
 "cells": [
  {
   "cell_type": "code",
   "execution_count": 11,
   "id": "59e5fc3f",
   "metadata": {},
   "outputs": [],
   "source": [
    "import numpy as np\n",
    "import scipy.integrate as sc\n",
    "import matplotlib.pyplot as plt\n",
    "import matplotlib.colors as cl\n",
    "import xarray as xr"
   ]
  },
  {
   "cell_type": "code",
   "execution_count": 12,
   "id": "156c0cc0",
   "metadata": {},
   "outputs": [],
   "source": [
    "# N2 = 1e-5\n",
    "# theta = 1*1.8113*np.pi/180\n",
    "# f = 1e-4\n",
    "# S2 = N2*np.tan(theta)**2/f**2\n",
    "# beta = (1+S2)**(0.5)\n",
    "# fstar = f*np.cos(theta)*beta\n",
    "# delta = 0.5\n",
    "# gm =  (np.cos(theta)*(1+(1-delta)*S2))**(-1) \n",
    "# lmbd = N2*np.tan(theta)*gm/f\n",
    "# n = f/lmbd\n",
    "# Ri = N2*(np.cos(theta)-gm)/lmbd**2\n",
    "# alpha = N2*(np.cos(theta)-gm)*np.tan(theta)/(f*lmbd)"
   ]
  },
  {
   "cell_type": "code",
   "execution_count": 14,
   "id": "b381e377",
   "metadata": {},
   "outputs": [],
   "source": [
    "def m_t(t, m, fstar, delta, lmbd):\n",
    "    phi = np.pi/2\n",
    "    return m + delta*lmbd/(fstar)*np.sin(t+phi)"
   ]
  },
  {
   "cell_type": "code",
   "execution_count": 15,
   "id": "0ce869d5",
   "metadata": {},
   "outputs": [],
   "source": [
    "def PSI_system(v,t,m,theta,gm,S2,delta,lmbd):\n",
    "    psi, D = v\n",
    "    fstar = f*np.cos(theta)*(1+S2)**(0.5)\n",
    "    A0 = (np.tan(theta)**2-S2)/(np.tan(theta)*(1+S2))*(m-np.tan(theta)*(np.tan(theta)**2-S2)**(-1)*((S2/(np.tan(theta)**2))*(1-gm*np.cos(theta)**(-4))+np.tan(theta)**2))\n",
    "    A1 = m+(S2-np.tan(theta)**2)*(np.tan(theta)*(1+S2))**(-1)\n",
    "    dpsidt = (A0-A1*m_t(t,m,fstar,delta,lmbd))*D\n",
    "    dDdt = (1+m_t(t,m,fstar,delta,lmbd)**2)**(-1)*psi\n",
    "    return [dpsidt, dDdt]"
   ]
  },
  {
   "cell_type": "code",
   "execution_count": null,
   "id": "81ed4b7a-0eba-4267-9d87-b44ac614838b",
   "metadata": {},
   "outputs": [],
   "source": []
  },
  {
   "cell_type": "code",
   "execution_count": 16,
   "id": "697cfc5d",
   "metadata": {},
   "outputs": [],
   "source": [
    "def delta_gamma(gml,gmu):\n",
    "    if (gmu-gml) <= 1e-3:\n",
    "        return 0.001\n",
    "    elif (gmu-gml) <= 16e-3:\n",
    "        return 0.002\n",
    "    elif (gmu-gml) <= 3e-2:\n",
    "        return 0.005\n",
    "    elif (gmu-gml) <= 15e-2:\n",
    "        return 0.025\n",
    "    else:\n",
    "        return 0.01"
   ]
  },
  {
   "cell_type": "code",
   "execution_count": 17,
   "id": "d6a33044-dfd2-4dcb-95c9-21e71a82d194",
   "metadata": {},
   "outputs": [
    {
     "data": {
      "text/plain": [
       "16.671226866884776"
      ]
     },
     "execution_count": 17,
     "metadata": {},
     "output_type": "execute_result"
    }
   ],
   "source": [
    "0.16671226866884775/1e-2"
   ]
  },
  {
   "cell_type": "code",
   "execution_count": null,
   "id": "40835303-9f26-4974-867f-10e1d8675b0d",
   "metadata": {},
   "outputs": [],
   "source": []
  },
  {
   "cell_type": "code",
   "execution_count": null,
   "id": "b5b726e1-4032-4eb1-8f80-6e185132d939",
   "metadata": {},
   "outputs": [],
   "source": []
  },
  {
   "cell_type": "code",
   "execution_count": null,
   "id": "2a5a37f5",
   "metadata": {},
   "outputs": [],
   "source": [
    "max_grs = []\n",
    "max_ms = []\n",
    "max_frs = []\n",
    "N2 = 1e-5\n",
    "# theta = 1.8113*np.pi/180*np.array([0.1,0.25,0.5,0.75,1.0,1.25,1.5,1.75,2])\n",
    "theta_list = [1.8113*np.pi/180] #*np.arange(0.1,2.1,0.5) #*np.array([0.1,0.2,0.3,0.4,0.5,0.6,0.7,0.8,0.9,1.0,1.1,1.2,1.3,1.4,1.5,1.6,1.7,1.8,1.9,2])\n",
    "f = 1e-4\n",
    "\n",
    "tau = 2*np.pi\n",
    "dt = 50\n",
    "t = np.linspace(0, tau+1/dt, dt)\n",
    "# gm = np.linspace(0.01, 1.01, 50)\n",
    "m = np.linspace(-50, 50, 160)\n",
    "delta_list = np.linspace(0,1.05,26)\n",
    "for theta in theta_list:\n",
    "    max_grs_sub2 = []\n",
    "    max_ms_sub2 = []\n",
    "    max_frs_sub2 = []\n",
    "    for i in delta_list:\n",
    "        # print(i)\n",
    "        max_grs_sub = []\n",
    "        max_ms_sub = []\n",
    "        max_frs_sub = []\n",
    "        S2 = N2*np.tan(theta)**2/f**2\n",
    "        beta = (1+S2)**(0.5)\n",
    "        fstar = f*np.cos(theta)*beta\n",
    "        gml = (1+(1-2)*S2)/(1+S2) #max(0.05,(3-S2)*(np.cos(theta)*(3*(1+S2)))**(-1))\n",
    "        gmu = (1+(1-4/5)*S2)/(1+S2) #(np.cos(theta)*(1+S2))**(-1)\n",
    "        # gm = ((np.cos(i)*(1+S2))**(-1)+(3-S2)*(np.cos(i)*(3*(1+S2)))**(-1))/2\n",
    "        # dgm = delta_gamma(gml,gmu)\n",
    "        # gm = np.arange(gml,gmu,dgm)\n",
    "        gm_list = np.linspace(gml,gmu,26)\n",
    "        for gm in gm_list:\n",
    "            # print(j)\n",
    "            lmbd = N2*np.tan(theta)*gm/f\n",
    "            n = f/lmbd\n",
    "            Ri = N2*(np.cos(theta)-gm)/lmbd**2\n",
    "            alpha = N2*(np.cos(theta)-gm)*np.tan(theta)/(f*lmbd)\n",
    "            frequencies = []\n",
    "            growth_rates = []\n",
    "            for q in m:\n",
    "                sol1 = sc.odeint(PSI_system, [1, 0], t, args=(q, theta, gm, S2, i, lmbd))\n",
    "            #     print(sol1[-1,:])\n",
    "                sol2 = sc.odeint(PSI_system, [0, 1], t, args=(q, theta, gm, S2, i,lmbd)) \n",
    "            #     print(sol2[-1,:])\n",
    "                M = np.array([[sol1[-1, 0], sol1[-1, 1]], [sol2[-1, 0], sol2[-1, 1]]])\n",
    "            #     print(M)\n",
    "                eigs = np.log(np.linalg.eig(M)[0]+0*1j)/(tau)\n",
    "            #     print(np.linalg.eig(M)[1][:,0])\n",
    "            #     print(eigs)\n",
    "                growth_rates.append(eigs.real)\n",
    "                frequencies.append(eigs.imag)\n",
    "            frequencies = np.array(frequencies)\n",
    "            growth_rates = np.array(growth_rates)\n",
    "            gr = growth_rates[np.argmax(np.abs(growth_rates[:,0])),:]\n",
    "            fr = frequencies[np.argmax(np.abs(growth_rates[:,0])),:]\n",
    "            m_max = m[np.argmax(np.abs(growth_rates[:,0]))]\n",
    "            max_grs_sub.append(gr)\n",
    "            max_ms_sub.append(m_max)\n",
    "            max_frs_sub.append(fr)\n",
    "        max_grs_sub2.append(max_grs_sub)\n",
    "        max_ms_sub2.append(max_ms_sub)\n",
    "        max_frs_sub2.append(max_frs_sub)\n",
    "    max_grs.append(max_grs_sub2)\n",
    "    max_ms.append(max_ms_sub2)\n",
    "    max_frs.append(max_frs_sub2)\n",
    "max_gr = np.array(max_grs)\n",
    "max_ms = np.array(max_ms)\n",
    "max_fr = np.array(max_frs)"
   ]
  },
  {
   "cell_type": "code",
   "execution_count": null,
   "id": "b1567ab4-c818-42c0-be00-129b163077aa",
   "metadata": {},
   "outputs": [],
   "source": [
    "gms = []\n",
    "for theta in theta_list:\n",
    "    gms_2 = []\n",
    "    for i in delta_list:\n",
    "        S2 = N2*np.tan(theta)**2/f**2\n",
    "        gml = (1+(1-2)*S2)/(1+S2) #max(0.05,(3-S2)*(np.cos(theta)*(3*(1+S2)))**(-1))\n",
    "        gmu = (1+(1-4/5)*S2)/(1+S2) #(np.cos(theta)*(1+S2))**(-1)\n",
    "        gm_list = np.linspace(gml,gmu,26)\n",
    "        gms_2.append(gm_list)\n",
    "    gms.append(gms_2)\n",
    "gms = np.array(gms)    "
   ]
  },
  {
   "cell_type": "code",
   "execution_count": 22,
   "id": "8a008b9d-0956-4fdb-b80d-12de75378c1b",
   "metadata": {},
   "outputs": [
    {
     "ename": "ValueError",
     "evalue": "conflicting sizes for dimension 'strat_index': length 11 on 'strat_index' and length 21 on {'theta': 'growth_rate', 'delta': 'growth_rate', 'strat_index': 'growth_rate'}",
     "output_type": "error",
     "traceback": [
      "\u001b[0;31m---------------------------------------------------------------------------\u001b[0m",
      "\u001b[0;31mValueError\u001b[0m                                Traceback (most recent call last)",
      "Cell \u001b[0;32mIn[22], line 1\u001b[0m\n\u001b[0;32m----> 1\u001b[0m test \u001b[38;5;241m=\u001b[39m \u001b[43mxr\u001b[49m\u001b[38;5;241;43m.\u001b[39;49m\u001b[43mDataset\u001b[49m\u001b[43m(\u001b[49m\u001b[43m{\u001b[49m\u001b[38;5;124;43m\"\u001b[39;49m\u001b[38;5;124;43mgrowth_rate\u001b[39;49m\u001b[38;5;124;43m\"\u001b[39;49m\u001b[43m:\u001b[49m\u001b[43m(\u001b[49m\u001b[43m[\u001b[49m\u001b[38;5;124;43m\"\u001b[39;49m\u001b[38;5;124;43mtheta\u001b[39;49m\u001b[38;5;124;43m\"\u001b[39;49m\u001b[43m,\u001b[49m\u001b[38;5;124;43m\"\u001b[39;49m\u001b[38;5;124;43mdelta\u001b[39;49m\u001b[38;5;124;43m\"\u001b[39;49m\u001b[43m,\u001b[49m\u001b[38;5;124;43m\"\u001b[39;49m\u001b[38;5;124;43mstrat_index\u001b[39;49m\u001b[38;5;124;43m\"\u001b[39;49m\u001b[43m,\u001b[49m\u001b[43m]\u001b[49m\u001b[43m,\u001b[49m\u001b[43mnp\u001b[49m\u001b[38;5;241;43m.\u001b[39;49m\u001b[43mabs\u001b[49m\u001b[43m(\u001b[49m\u001b[43mmax_gr\u001b[49m\u001b[43m[\u001b[49m\u001b[43m:\u001b[49m\u001b[43m,\u001b[49m\u001b[43m:\u001b[49m\u001b[43m,\u001b[49m\u001b[43m:\u001b[49m\u001b[43m,\u001b[49m\u001b[38;5;241;43m0\u001b[39;49m\u001b[43m]\u001b[49m\u001b[43m)\u001b[49m\u001b[43m)\u001b[49m\u001b[43m,\u001b[49m\n\u001b[1;32m      2\u001b[0m \u001b[43m            \u001b[49m\u001b[38;5;124;43m\"\u001b[39;49m\u001b[38;5;124;43mfrequency\u001b[39;49m\u001b[38;5;124;43m\"\u001b[39;49m\u001b[43m:\u001b[49m\u001b[43m(\u001b[49m\u001b[43m[\u001b[49m\u001b[38;5;124;43m\"\u001b[39;49m\u001b[38;5;124;43mtheta\u001b[39;49m\u001b[38;5;124;43m\"\u001b[39;49m\u001b[43m,\u001b[49m\u001b[38;5;124;43m\"\u001b[39;49m\u001b[38;5;124;43mdelta\u001b[39;49m\u001b[38;5;124;43m\"\u001b[39;49m\u001b[43m,\u001b[49m\u001b[38;5;124;43m\"\u001b[39;49m\u001b[38;5;124;43mstrat_index\u001b[39;49m\u001b[38;5;124;43m\"\u001b[39;49m\u001b[43m]\u001b[49m\u001b[43m,\u001b[49m\u001b[43mnp\u001b[49m\u001b[38;5;241;43m.\u001b[39;49m\u001b[43mabs\u001b[49m\u001b[43m(\u001b[49m\u001b[43mmax_fr\u001b[49m\u001b[43m[\u001b[49m\u001b[43m:\u001b[49m\u001b[43m,\u001b[49m\u001b[43m:\u001b[49m\u001b[43m,\u001b[49m\u001b[43m:\u001b[49m\u001b[43m,\u001b[49m\u001b[38;5;241;43m0\u001b[39;49m\u001b[43m]\u001b[49m\u001b[43m)\u001b[49m\u001b[43m)\u001b[49m\u001b[43m,\u001b[49m\n\u001b[1;32m      3\u001b[0m \u001b[43m            \u001b[49m\u001b[38;5;124;43m\"\u001b[39;49m\u001b[38;5;124;43mslope_angle\u001b[39;49m\u001b[38;5;124;43m\"\u001b[39;49m\u001b[43m:\u001b[49m\u001b[43m(\u001b[49m\u001b[43m[\u001b[49m\u001b[38;5;124;43m\"\u001b[39;49m\u001b[38;5;124;43mtheta\u001b[39;49m\u001b[38;5;124;43m\"\u001b[39;49m\u001b[43m,\u001b[49m\u001b[38;5;124;43m\"\u001b[39;49m\u001b[38;5;124;43mdelta\u001b[39;49m\u001b[38;5;124;43m\"\u001b[39;49m\u001b[43m,\u001b[49m\u001b[38;5;124;43m\"\u001b[39;49m\u001b[38;5;124;43mstrat_index\u001b[39;49m\u001b[38;5;124;43m\"\u001b[39;49m\u001b[43m]\u001b[49m\u001b[43m,\u001b[49m\u001b[43mmax_ms\u001b[49m\u001b[43m)\u001b[49m\u001b[43m,\u001b[49m\n\u001b[1;32m      4\u001b[0m \u001b[43m           \u001b[49m\u001b[38;5;124;43m\"\u001b[39;49m\u001b[38;5;124;43mstrat_values\u001b[39;49m\u001b[38;5;124;43m\"\u001b[39;49m\u001b[43m:\u001b[49m\u001b[43m(\u001b[49m\u001b[43m[\u001b[49m\u001b[38;5;124;43m\"\u001b[39;49m\u001b[38;5;124;43mtheta\u001b[39;49m\u001b[38;5;124;43m\"\u001b[39;49m\u001b[43m,\u001b[49m\u001b[38;5;124;43m\"\u001b[39;49m\u001b[38;5;124;43mdelta\u001b[39;49m\u001b[38;5;124;43m\"\u001b[39;49m\u001b[43m,\u001b[49m\u001b[38;5;124;43m\"\u001b[39;49m\u001b[38;5;124;43mstrat_index\u001b[39;49m\u001b[38;5;124;43m\"\u001b[39;49m\u001b[43m]\u001b[49m\u001b[43m,\u001b[49m\u001b[43mgms\u001b[49m\u001b[43m)\u001b[49m\u001b[43m}\u001b[49m\u001b[43m,\u001b[49m\n\u001b[1;32m      5\u001b[0m \u001b[43m           \u001b[49m\u001b[43mcoords\u001b[49m\u001b[43m \u001b[49m\u001b[38;5;241;43m=\u001b[39;49m\u001b[43m \u001b[49m\u001b[43m{\u001b[49m\u001b[38;5;124;43m\"\u001b[39;49m\u001b[38;5;124;43mtheta\u001b[39;49m\u001b[38;5;124;43m\"\u001b[39;49m\u001b[43m:\u001b[49m\u001b[43mtheta_list\u001b[49m\u001b[43m,\u001b[49m\u001b[38;5;124;43m\"\u001b[39;49m\u001b[38;5;124;43mdelta\u001b[39;49m\u001b[38;5;124;43m\"\u001b[39;49m\u001b[43m:\u001b[49m\u001b[43mdelta_list\u001b[49m\u001b[43m,\u001b[49m\u001b[38;5;124;43m\"\u001b[39;49m\u001b[38;5;124;43mstrat_index\u001b[39;49m\u001b[38;5;124;43m\"\u001b[39;49m\u001b[43m:\u001b[49m\u001b[43mnp\u001b[49m\u001b[38;5;241;43m.\u001b[39;49m\u001b[43marange\u001b[49m\u001b[43m(\u001b[49m\u001b[38;5;241;43m0\u001b[39;49m\u001b[43m,\u001b[49m\u001b[38;5;241;43m11\u001b[39;49m\u001b[43m,\u001b[49m\u001b[38;5;241;43m1\u001b[39;49m\u001b[43m)\u001b[49m\u001b[43m}\u001b[49m\u001b[43m)\u001b[49m\n",
      "File \u001b[0;32m~/.local/lib/python3.10/site-packages/xarray/core/dataset.py:710\u001b[0m, in \u001b[0;36mDataset.__init__\u001b[0;34m(self, data_vars, coords, attrs)\u001b[0m\n\u001b[1;32m    707\u001b[0m \u001b[38;5;28;01mif\u001b[39;00m \u001b[38;5;28misinstance\u001b[39m(coords, Dataset):\n\u001b[1;32m    708\u001b[0m     coords \u001b[38;5;241m=\u001b[39m coords\u001b[38;5;241m.\u001b[39m_variables\n\u001b[0;32m--> 710\u001b[0m variables, coord_names, dims, indexes, _ \u001b[38;5;241m=\u001b[39m \u001b[43mmerge_data_and_coords\u001b[49m\u001b[43m(\u001b[49m\n\u001b[1;32m    711\u001b[0m \u001b[43m    \u001b[49m\u001b[43mdata_vars\u001b[49m\u001b[43m,\u001b[49m\u001b[43m \u001b[49m\u001b[43mcoords\u001b[49m\n\u001b[1;32m    712\u001b[0m \u001b[43m\u001b[49m\u001b[43m)\u001b[49m\n\u001b[1;32m    714\u001b[0m \u001b[38;5;28mself\u001b[39m\u001b[38;5;241m.\u001b[39m_attrs \u001b[38;5;241m=\u001b[39m \u001b[38;5;28mdict\u001b[39m(attrs) \u001b[38;5;28;01mif\u001b[39;00m attrs \u001b[38;5;28;01melse\u001b[39;00m \u001b[38;5;28;01mNone\u001b[39;00m\n\u001b[1;32m    715\u001b[0m \u001b[38;5;28mself\u001b[39m\u001b[38;5;241m.\u001b[39m_close \u001b[38;5;241m=\u001b[39m \u001b[38;5;28;01mNone\u001b[39;00m\n",
      "File \u001b[0;32m~/.local/lib/python3.10/site-packages/xarray/core/dataset.py:424\u001b[0m, in \u001b[0;36mmerge_data_and_coords\u001b[0;34m(data_vars, coords)\u001b[0m\n\u001b[1;32m    420\u001b[0m     coords \u001b[38;5;241m=\u001b[39m create_coords_with_default_indexes(coords, data_vars)\n\u001b[1;32m    422\u001b[0m \u001b[38;5;66;03m# exclude coords from alignment (all variables in a Coordinates object should\u001b[39;00m\n\u001b[1;32m    423\u001b[0m \u001b[38;5;66;03m# already be aligned together) and use coordinates' indexes to align data_vars\u001b[39;00m\n\u001b[0;32m--> 424\u001b[0m \u001b[38;5;28;01mreturn\u001b[39;00m \u001b[43mmerge_core\u001b[49m\u001b[43m(\u001b[49m\n\u001b[1;32m    425\u001b[0m \u001b[43m    \u001b[49m\u001b[43m[\u001b[49m\u001b[43mdata_vars\u001b[49m\u001b[43m,\u001b[49m\u001b[43m \u001b[49m\u001b[43mcoords\u001b[49m\u001b[43m]\u001b[49m\u001b[43m,\u001b[49m\n\u001b[1;32m    426\u001b[0m \u001b[43m    \u001b[49m\u001b[43mcompat\u001b[49m\u001b[38;5;241;43m=\u001b[39;49m\u001b[38;5;124;43m\"\u001b[39;49m\u001b[38;5;124;43mbroadcast_equals\u001b[39;49m\u001b[38;5;124;43m\"\u001b[39;49m\u001b[43m,\u001b[49m\n\u001b[1;32m    427\u001b[0m \u001b[43m    \u001b[49m\u001b[43mjoin\u001b[49m\u001b[38;5;241;43m=\u001b[39;49m\u001b[38;5;124;43m\"\u001b[39;49m\u001b[38;5;124;43mouter\u001b[39;49m\u001b[38;5;124;43m\"\u001b[39;49m\u001b[43m,\u001b[49m\n\u001b[1;32m    428\u001b[0m \u001b[43m    \u001b[49m\u001b[43mexplicit_coords\u001b[49m\u001b[38;5;241;43m=\u001b[39;49m\u001b[38;5;28;43mtuple\u001b[39;49m\u001b[43m(\u001b[49m\u001b[43mcoords\u001b[49m\u001b[43m)\u001b[49m\u001b[43m,\u001b[49m\n\u001b[1;32m    429\u001b[0m \u001b[43m    \u001b[49m\u001b[43mindexes\u001b[49m\u001b[38;5;241;43m=\u001b[39;49m\u001b[43mcoords\u001b[49m\u001b[38;5;241;43m.\u001b[39;49m\u001b[43mxindexes\u001b[49m\u001b[43m,\u001b[49m\n\u001b[1;32m    430\u001b[0m \u001b[43m    \u001b[49m\u001b[43mpriority_arg\u001b[49m\u001b[38;5;241;43m=\u001b[39;49m\u001b[38;5;241;43m1\u001b[39;49m\u001b[43m,\u001b[49m\n\u001b[1;32m    431\u001b[0m \u001b[43m    \u001b[49m\u001b[43mskip_align_args\u001b[49m\u001b[38;5;241;43m=\u001b[39;49m\u001b[43m[\u001b[49m\u001b[38;5;241;43m1\u001b[39;49m\u001b[43m]\u001b[49m\u001b[43m,\u001b[49m\n\u001b[1;32m    432\u001b[0m \u001b[43m\u001b[49m\u001b[43m)\u001b[49m\n",
      "File \u001b[0;32m~/.local/lib/python3.10/site-packages/xarray/core/merge.py:705\u001b[0m, in \u001b[0;36mmerge_core\u001b[0;34m(objects, compat, join, combine_attrs, priority_arg, explicit_coords, indexes, fill_value, skip_align_args)\u001b[0m\n\u001b[1;32m    700\u001b[0m prioritized \u001b[38;5;241m=\u001b[39m _get_priority_vars_and_indexes(aligned, priority_arg, compat\u001b[38;5;241m=\u001b[39mcompat)\n\u001b[1;32m    701\u001b[0m variables, out_indexes \u001b[38;5;241m=\u001b[39m merge_collected(\n\u001b[1;32m    702\u001b[0m     collected, prioritized, compat\u001b[38;5;241m=\u001b[39mcompat, combine_attrs\u001b[38;5;241m=\u001b[39mcombine_attrs\n\u001b[1;32m    703\u001b[0m )\n\u001b[0;32m--> 705\u001b[0m dims \u001b[38;5;241m=\u001b[39m \u001b[43mcalculate_dimensions\u001b[49m\u001b[43m(\u001b[49m\u001b[43mvariables\u001b[49m\u001b[43m)\u001b[49m\n\u001b[1;32m    707\u001b[0m coord_names, noncoord_names \u001b[38;5;241m=\u001b[39m determine_coords(coerced)\n\u001b[1;32m    708\u001b[0m \u001b[38;5;28;01mif\u001b[39;00m compat \u001b[38;5;241m==\u001b[39m \u001b[38;5;124m\"\u001b[39m\u001b[38;5;124mminimal\u001b[39m\u001b[38;5;124m\"\u001b[39m:\n\u001b[1;32m    709\u001b[0m     \u001b[38;5;66;03m# coordinates may be dropped in merged results\u001b[39;00m\n",
      "File \u001b[0;32m~/.local/lib/python3.10/site-packages/xarray/core/variable.py:3008\u001b[0m, in \u001b[0;36mcalculate_dimensions\u001b[0;34m(variables)\u001b[0m\n\u001b[1;32m   3006\u001b[0m             last_used[dim] \u001b[38;5;241m=\u001b[39m k\n\u001b[1;32m   3007\u001b[0m         \u001b[38;5;28;01melif\u001b[39;00m dims[dim] \u001b[38;5;241m!=\u001b[39m size:\n\u001b[0;32m-> 3008\u001b[0m             \u001b[38;5;28;01mraise\u001b[39;00m \u001b[38;5;167;01mValueError\u001b[39;00m(\n\u001b[1;32m   3009\u001b[0m                 \u001b[38;5;124mf\u001b[39m\u001b[38;5;124m\"\u001b[39m\u001b[38;5;124mconflicting sizes for dimension \u001b[39m\u001b[38;5;132;01m{\u001b[39;00mdim\u001b[38;5;132;01m!r}\u001b[39;00m\u001b[38;5;124m: \u001b[39m\u001b[38;5;124m\"\u001b[39m\n\u001b[1;32m   3010\u001b[0m                 \u001b[38;5;124mf\u001b[39m\u001b[38;5;124m\"\u001b[39m\u001b[38;5;124mlength \u001b[39m\u001b[38;5;132;01m{\u001b[39;00msize\u001b[38;5;132;01m}\u001b[39;00m\u001b[38;5;124m on \u001b[39m\u001b[38;5;132;01m{\u001b[39;00mk\u001b[38;5;132;01m!r}\u001b[39;00m\u001b[38;5;124m and length \u001b[39m\u001b[38;5;132;01m{\u001b[39;00mdims[dim]\u001b[38;5;132;01m}\u001b[39;00m\u001b[38;5;124m on \u001b[39m\u001b[38;5;132;01m{\u001b[39;00mlast_used\u001b[38;5;132;01m!r}\u001b[39;00m\u001b[38;5;124m\"\u001b[39m\n\u001b[1;32m   3011\u001b[0m             )\n\u001b[1;32m   3012\u001b[0m \u001b[38;5;28;01mreturn\u001b[39;00m dims\n",
      "\u001b[0;31mValueError\u001b[0m: conflicting sizes for dimension 'strat_index': length 11 on 'strat_index' and length 21 on {'theta': 'growth_rate', 'delta': 'growth_rate', 'strat_index': 'growth_rate'}"
     ]
    }
   ],
   "source": [
    "test = xr.Dataset({\"growth_rate\":([\"theta\",\"delta\",\"strat_index\",],np.abs(max_gr[:,:,:,0])),\n",
    "            \"frequency\":([\"theta\",\"delta\",\"strat_index\"],np.abs(max_fr[:,:,:,0])),\n",
    "            \"slope_angle\":([\"theta\",\"delta\",\"strat_index\"],max_ms),\n",
    "           \"strat_values\":([\"theta\",\"delta\",\"strat_index\"],gms)},\n",
    "           coords = {\"theta\":theta_list,\"delta\":delta_list,\"strat_index\":np.arange(0,11,1)})"
   ]
  },
  {
   "cell_type": "code",
   "execution_count": null,
   "id": "d963e235-1450-4f6b-8375-c7c0c88fee64",
   "metadata": {},
   "outputs": [],
   "source": [
    "plt.plot(test.strat_index,test.growth_rate)"
   ]
  },
  {
   "cell_type": "code",
   "execution_count": 23,
   "id": "9abd7beb-0b05-4d33-852a-b9675113919e",
   "metadata": {},
   "outputs": [
    {
     "ename": "NameError",
     "evalue": "name 'test' is not defined",
     "output_type": "error",
     "traceback": [
      "\u001b[0;31m---------------------------------------------------------------------------\u001b[0m",
      "\u001b[0;31mNameError\u001b[0m                                 Traceback (most recent call last)",
      "Cell \u001b[0;32mIn[23], line 1\u001b[0m\n\u001b[0;32m----> 1\u001b[0m \u001b[43mtest\u001b[49m\u001b[38;5;241m.\u001b[39mto_netcdf(\u001b[38;5;124m\"\u001b[39m\u001b[38;5;124mtest.nc\u001b[39m\u001b[38;5;124m\"\u001b[39m)\n",
      "\u001b[0;31mNameError\u001b[0m: name 'test' is not defined"
     ]
    }
   ],
   "source": [
    "test.to_netcdf(\"test.nc\")"
   ]
  },
  {
   "cell_type": "code",
   "execution_count": null,
   "id": "7ae5b91e",
   "metadata": {},
   "outputs": [],
   "source": []
  },
  {
   "cell_type": "code",
   "execution_count": 37,
   "id": "580e70da",
   "metadata": {},
   "outputs": [],
   "source": [
    "gm_arr = np.array([gms]).T*np.ones(np.shape(max_gr)[1:-1])\n",
    "sinf_arr = np.array([N2**(0.5)*np.tan(theta)/f]).T*np.ones(np.shape(max_gr)[1:-1])"
   ]
  },
  {
   "cell_type": "code",
   "execution_count": 43,
   "id": "15970460",
   "metadata": {},
   "outputs": [
    {
     "data": {
      "text/plain": [
       "(1, 10, 21)"
      ]
     },
     "execution_count": 43,
     "metadata": {},
     "output_type": "execute_result"
    }
   ],
   "source": [
    "np.shape(gms)"
   ]
  },
  {
   "cell_type": "code",
   "execution_count": 26,
   "id": "e8432d16",
   "metadata": {},
   "outputs": [
    {
     "data": {
      "text/plain": [
       "(1, 10, 21, 2)"
      ]
     },
     "execution_count": 26,
     "metadata": {},
     "output_type": "execute_result"
    }
   ],
   "source": [
    "np.shape(max_gr)"
   ]
  },
  {
   "cell_type": "code",
   "execution_count": 27,
   "id": "db4fd152",
   "metadata": {},
   "outputs": [],
   "source": [
    "def gamma_lower_limit(S,d):\n",
    "    v = (3-S**2)/(3*(1+S**2)-4*d*S**2)\n",
    "    if type(v)!=float:\n",
    "        v[v<=0]=0\n",
    "        return v\n",
    "    else:\n",
    "        return v"
   ]
  },
  {
   "cell_type": "code",
   "execution_count": 28,
   "id": "ec5de683",
   "metadata": {},
   "outputs": [],
   "source": [
    "def gamma_upper_limit(S,d):\n",
    "    return (1+(1-d)*S**2)**(-1)"
   ]
  },
  {
   "cell_type": "code",
   "execution_count": 29,
   "id": "013ea23c",
   "metadata": {},
   "outputs": [],
   "source": [
    "deltafix = 0\n",
    "Sinflist = [0.1,0.1,0.1,0.5,0.5,0.5,1.0,1.0,1.0,1.5,1.5,1.5,2.0,2.0,2.0,0.25,0.25,0.25,0.75,0.75,0.75,1.25,1.25,1.25,1.75,1.75,1.75]\n",
    "gammalist = [ gamma_upper_limit(0.1,deltafix), \n",
    "             (gamma_upper_limit(0.1,deltafix)+ gamma_lower_limit(0.1,deltafix))/2,\n",
    "                 gamma_lower_limit(0.1,deltafix),\n",
    "             gamma_upper_limit(0.5,deltafix), \n",
    "                 (gamma_upper_limit(0.5,deltafix)+ gamma_lower_limit(0.5,deltafix))/2,\n",
    "                 gamma_lower_limit(0.5,deltafix),\n",
    "             gamma_upper_limit(1,deltafix), \n",
    "                 (gamma_upper_limit(1,deltafix)+ gamma_lower_limit(1,deltafix))/2,\n",
    "                 gamma_lower_limit(1,deltafix),\n",
    "             gamma_upper_limit(1.5,deltafix), \n",
    "                 (gamma_upper_limit(1.5,deltafix)+ gamma_lower_limit(1.5,deltafix))/2,\n",
    "                 gamma_lower_limit(1.5,deltafix), \n",
    "             gamma_upper_limit(2,deltafix), \n",
    "                 (gamma_upper_limit(2,deltafix)+ gamma_lower_limit(2,deltafix))/2,\n",
    "                 0.05,\n",
    "             gamma_upper_limit(0.25,deltafix),\n",
    "                (gamma_upper_limit(0.25,deltafix)+ gamma_lower_limit(0.25,deltafix))/2,\n",
    "                gamma_lower_limit(0.25,deltafix),\n",
    "             gamma_upper_limit(0.75,deltafix),\n",
    "                (gamma_upper_limit(0.75,deltafix)+ gamma_lower_limit(0.75,deltafix))/2,\n",
    "                gamma_lower_limit(0.75,deltafix),\n",
    "             gamma_upper_limit(1.25,deltafix),\n",
    "                (gamma_upper_limit(1.25,deltafix)+ gamma_lower_limit(1.25,deltafix))/2,\n",
    "                 gamma_lower_limit(1.25,deltafix),\n",
    "             gamma_upper_limit(1.75,deltafix),\n",
    "                (gamma_upper_limit(1.75,deltafix)+ gamma_lower_limit(1.75,deltafix))/2,\n",
    "                0.05]\n",
    "growth_rates = np.array([0.2292,0.2411,0.2545,\n",
    "                         0.2071,0.2263,0.2228,\n",
    "                         0.1881,0.1904,0.1592,\n",
    "                         0.1761,0.1350,0.05769,\n",
    "                         0.1525,0.07551,0.03771,\n",
    "                         0.2207,0.2476,0.2500,\n",
    "                         0.2058,0.2156,0.1959,\n",
    "                         0.1811,0.1633,0.1103,\n",
    "                         0.1724,0.1131,0.0376])\n",
    "S_ar = np.array(Sinflist)\n",
    "cl_growth_rates = growth_rates/(2*(1+S_ar**2)**(0.5))\n",
    "stb_growth_rates = np.array([0.1290,0.1354,0.1404,\n",
    "                             0.1188,0.1201,0.1195,\n",
    "                             0.09028,0.07998,0.0671,\n",
    "                             0.07140,0.04627,0.01944,\n",
    "                             0.05728,0.01979,0.01490,\n",
    "                             0.1295,0.1361,0.1395,\n",
    "                             0.1051,0.09984,0.09354,\n",
    "                             0.08080,0.06208,0.04232,\n",
    "                             0.06367,0.03229,0.01379 ])"
   ]
  },
  {
   "cell_type": "code",
   "execution_count": 50,
   "id": "072eb6d7-bc4e-4690-b400-0828024fd945",
   "metadata": {},
   "outputs": [
    {
     "data": {
      "text/plain": [
       "(1, 10)"
      ]
     },
     "execution_count": 50,
     "metadata": {},
     "output_type": "execute_result"
    }
   ],
   "source": [
    "np.shape(np.array([delta_list]))"
   ]
  },
  {
   "cell_type": "code",
   "execution_count": 53,
   "id": "99c989a1",
   "metadata": {},
   "outputs": [
    {
     "data": {
      "text/plain": [
       "<matplotlib.colorbar.Colorbar at 0x14a14933e0e0>"
      ]
     },
     "execution_count": 53,
     "metadata": {},
     "output_type": "execute_result"
    },
    {
     "data": {
      "image/png": "[encoded data removed]",
      "text/plain": [
       "<Figure size 640x480 with 2 Axes>"
      ]
     },
     "metadata": {},
     "output_type": "display_data"
    }
   ],
   "source": [
    "Sinf = N2**(0.5)*np.tan(theta)/f\n",
    "gm_l_no_d =(3-(N2**(0.5)*np.tan(theta)/f)**2)*(np.cos(theta)*3*(1+(N2**(0.5)*np.tan(theta)/f)**2))**(-1)\n",
    "gm_l_d =(3-(N2**(0.5)*np.tan(theta)/f)**2)*(np.cos(theta)*(3*(1+(N2**(0.5)*np.tan(theta)/f)**2)-4*0.5*(N2**(0.5)*np.tan(theta)/f)**2))**(-1)\n",
    "gm_u_no_d = (np.cos(theta)*(1+(1-0)*(N2**(0.5)*np.tan(theta)/f)**2))**(-1)\n",
    "gm_u_d = (np.cos(theta)*(1+(1-0.5)*(N2**(0.5)*np.tan(theta)/f)**2))**(-1)\n",
    "\n",
    "plt.contourf((sinf_arr**2/((1+sinf_arr**2)*(1-gms[0,:,:]))),np.array([delta_list]).T*np.ones(np.shape(max_gr)[1:-1]),np.abs(max_gr[0,:,:,0]),cmap=\"RdYlBu\",alpha=1,levels=100) # ,norm=cl.LogNorm(vmin=0.001,vmax=10)\n",
    "# plt.plot(Sinf,gm_l_no_d,c=\"k\",linestyle=\"--\",alpha=0.25)\n",
    "# plt.scatter(Sinflist,gammalist,c=cl_growth_rates,alpha=1,cmap=cs.cmap,edgecolors=\"k\",label=\"Simulation Growth Rates\") # RdYlGn_r\n",
    "# plt.plot(Sinf,gm_u_no_d,c=\"k\",linestyle=\"--\",alpha=0.25)\n",
    "# plt.xlim([0,2.05])\n",
    "# plt.ylim([gm_l_no_d[-2]-0.05,1.05])\n",
    "plt.colorbar(label=r\"Growth Rate ($\\omega f^{-1}$)\")\n",
    "\n",
    "# plt.legend()\n",
    "# plt.savefig(\"example_param_space.jpeg\")\n"
   ]
  },
  {
   "cell_type": "code",
   "execution_count": 64,
   "id": "3626ea4a-aad7-4b74-a880-643542afa4ed",
   "metadata": {},
   "outputs": [
    {
     "data": {
      "text/plain": [
       "<matplotlib.colorbar.Colorbar at 0x14a148f7bb50>"
      ]
     },
     "execution_count": 64,
     "metadata": {},
     "output_type": "execute_result"
    },
    {
     "data": {
      "image/png": "[encoded data removed]",
      "text/plain": [
       "<Figure size 640x480 with 2 Axes>"
      ]
     },
     "metadata": {},
     "output_type": "display_data"
    }
   ],
   "source": [
    "Sinf = N2**(0.5)*np.tan(theta)/f\n",
    "gm_l_no_d =(3-(N2**(0.5)*np.tan(theta)/f)**2)*(np.cos(theta)*3*(1+(N2**(0.5)*np.tan(theta)/f)**2))**(-1)\n",
    "gm_l_d =(3-(N2**(0.5)*np.tan(theta)/f)**2)*(np.cos(theta)*(3*(1+(N2**(0.5)*np.tan(theta)/f)**2)-4*0.5*(N2**(0.5)*np.tan(theta)/f)**2))**(-1)\n",
    "gm_u_no_d = (np.cos(theta)*(1+(1-0)*(N2**(0.5)*np.tan(theta)/f)**2))**(-1)\n",
    "gm_u_d = (np.cos(theta)*(1+(1-0.5)*(N2**(0.5)*np.tan(theta)/f)**2))**(-1)\n",
    "\n",
    "plt.contourf((sinf_arr**2/((1+sinf_arr**2)*(1-gms[0,:,:]))),np.array([delta_list]).T*np.ones(np.shape(max_fr)[1:-1]),np.abs(max_fr[0,:,:,0]),cmap=\"RdYlBu\",alpha=1,levels=100) # ,norm=cl.LogNorm(vmin=0.001,vmax=10)\n",
    "# plt.plot(Sinf,gm_l_no_d,c=\"k\",linestyle=\"--\",alpha=0.25)\n",
    "# plt.scatter(Sinflist,gammalist,c=cl_growth_rates,alpha=1,cmap=cs.cmap,edgecolors=\"k\",label=\"Simulation Growth Rates\") # RdYlGn_r\n",
    "# plt.plot(Sinf,gm_u_no_d,c=\"k\",linestyle=\"--\",alpha=0.25)\n",
    "# plt.xlim([0,2.05])\n",
    "# plt.ylim([gm_l_no_d[-2]-0.05,1.05])\n",
    "plt.colorbar(label=r\"Growth Rate ($\\omega f^{-1}$)\")\n",
    "\n",
    "# plt.legend()\n",
    "# plt.savefig(\"example_param_space.jpeg\")\n"
   ]
  },
  {
   "cell_type": "code",
   "execution_count": 61,
   "id": "6b6bafd2-c213-47f4-991b-c7f800b6a483",
   "metadata": {},
   "outputs": [],
   "source": [
    "# (N2*np.tan(theta)**2/f**2)/((1+(N2*np.tan(theta)**2/f**2))*(1-gms))"
   ]
  },
  {
   "cell_type": "code",
   "execution_count": 58,
   "id": "d9c3ada0",
   "metadata": {},
   "outputs": [
    {
     "ename": "ValueError",
     "evalue": "x and y must be the same size",
     "output_type": "error",
     "traceback": [
      "\u001b[0;31m---------------------------------------------------------------------------\u001b[0m",
      "\u001b[0;31mValueError\u001b[0m                                Traceback (most recent call last)",
      "Cell \u001b[0;32mIn[58], line 8\u001b[0m\n\u001b[1;32m      5\u001b[0m gm_u_d \u001b[38;5;241m=\u001b[39m (np\u001b[38;5;241m.\u001b[39mcos(theta)\u001b[38;5;241m*\u001b[39m(\u001b[38;5;241m1\u001b[39m\u001b[38;5;241m+\u001b[39m(\u001b[38;5;241m1\u001b[39m\u001b[38;5;241m-\u001b[39m\u001b[38;5;241m0.5\u001b[39m)\u001b[38;5;241m*\u001b[39m(N2\u001b[38;5;241m*\u001b[39m\u001b[38;5;241m*\u001b[39m(\u001b[38;5;241m0.5\u001b[39m)\u001b[38;5;241m*\u001b[39mnp\u001b[38;5;241m.\u001b[39mtan(theta)\u001b[38;5;241m/\u001b[39mf)\u001b[38;5;241m*\u001b[39m\u001b[38;5;241m*\u001b[39m\u001b[38;5;241m2\u001b[39m))\u001b[38;5;241m*\u001b[39m\u001b[38;5;241m*\u001b[39m(\u001b[38;5;241m-\u001b[39m\u001b[38;5;241m1\u001b[39m)\n\u001b[1;32m      7\u001b[0m \u001b[38;5;28;01mfor\u001b[39;00m i \u001b[38;5;129;01min\u001b[39;00m \u001b[38;5;28mrange\u001b[39m(\u001b[38;5;241m10\u001b[39m):\n\u001b[0;32m----> 8\u001b[0m     \u001b[43mplt\u001b[49m\u001b[38;5;241;43m.\u001b[39;49m\u001b[43mscatter\u001b[49m\u001b[43m(\u001b[49m\u001b[43mSinf\u001b[49m\u001b[43m,\u001b[49m\u001b[43mgms\u001b[49m\u001b[43m[\u001b[49m\u001b[43m:\u001b[49m\u001b[43m,\u001b[49m\u001b[43mi\u001b[49m\u001b[43m]\u001b[49m\u001b[43m,\u001b[49m\u001b[43mc\u001b[49m\u001b[38;5;241;43m=\u001b[39;49m\u001b[43mnp\u001b[49m\u001b[38;5;241;43m.\u001b[39;49m\u001b[43mabs\u001b[49m\u001b[43m(\u001b[49m\u001b[43mmax_gr\u001b[49m\u001b[43m[\u001b[49m\u001b[43m:\u001b[49m\u001b[43m,\u001b[49m\u001b[43mi\u001b[49m\u001b[43m,\u001b[49m\u001b[38;5;241;43m0\u001b[39;49m\u001b[43m]\u001b[49m\u001b[43m)\u001b[49m\u001b[43m,\u001b[49m\u001b[43mcmap\u001b[49m\u001b[38;5;241;43m=\u001b[39;49m\u001b[38;5;124;43m\"\u001b[39;49m\u001b[38;5;124;43mRdYlBu\u001b[39;49m\u001b[38;5;124;43m\"\u001b[39;49m\u001b[43m)\u001b[49m\n\u001b[1;32m      9\u001b[0m \u001b[38;5;66;03m# plt.contourf(np.array([Sinf]).T*np.ones(np.shape(gms)),gms[:,:],np.abs(max_gr[:,:,0]))\u001b[39;00m\n\u001b[1;32m     11\u001b[0m plt\u001b[38;5;241m.\u001b[39mcolorbar(label\u001b[38;5;241m=\u001b[39m\u001b[38;5;124mr\u001b[39m\u001b[38;5;124m\"\u001b[39m\u001b[38;5;124mGrowth Rate ($\u001b[39m\u001b[38;5;124m\\\u001b[39m\u001b[38;5;124momega f^\u001b[39m\u001b[38;5;124m{\u001b[39m\u001b[38;5;124m-1}$)\u001b[39m\u001b[38;5;124m\"\u001b[39m,ticks\u001b[38;5;241m=\u001b[39m[\u001b[38;5;241m0.025\u001b[39m,\u001b[38;5;241m0.05\u001b[39m,\u001b[38;5;241m0.075\u001b[39m,\u001b[38;5;241m0.1\u001b[39m,\u001b[38;5;241m0.125\u001b[39m,\u001b[38;5;241m0.15\u001b[39m])\n",
      "File \u001b[0;32m/glade/u/apps/jupyterhub/jh-23.11/lib/python3.10/site-packages/matplotlib/pyplot.py:3687\u001b[0m, in \u001b[0;36mscatter\u001b[0;34m(x, y, s, c, marker, cmap, norm, vmin, vmax, alpha, linewidths, edgecolors, plotnonfinite, data, **kwargs)\u001b[0m\n\u001b[1;32m   3668\u001b[0m \u001b[38;5;129m@_copy_docstring_and_deprecators\u001b[39m(Axes\u001b[38;5;241m.\u001b[39mscatter)\n\u001b[1;32m   3669\u001b[0m \u001b[38;5;28;01mdef\u001b[39;00m \u001b[38;5;21mscatter\u001b[39m(\n\u001b[1;32m   3670\u001b[0m     x: \u001b[38;5;28mfloat\u001b[39m \u001b[38;5;241m|\u001b[39m ArrayLike,\n\u001b[0;32m   (...)\u001b[0m\n\u001b[1;32m   3685\u001b[0m     \u001b[38;5;241m*\u001b[39m\u001b[38;5;241m*\u001b[39mkwargs,\n\u001b[1;32m   3686\u001b[0m ) \u001b[38;5;241m-\u001b[39m\u001b[38;5;241m>\u001b[39m PathCollection:\n\u001b[0;32m-> 3687\u001b[0m     __ret \u001b[38;5;241m=\u001b[39m \u001b[43mgca\u001b[49m\u001b[43m(\u001b[49m\u001b[43m)\u001b[49m\u001b[38;5;241;43m.\u001b[39;49m\u001b[43mscatter\u001b[49m\u001b[43m(\u001b[49m\n\u001b[1;32m   3688\u001b[0m \u001b[43m        \u001b[49m\u001b[43mx\u001b[49m\u001b[43m,\u001b[49m\n\u001b[1;32m   3689\u001b[0m \u001b[43m        \u001b[49m\u001b[43my\u001b[49m\u001b[43m,\u001b[49m\n\u001b[1;32m   3690\u001b[0m \u001b[43m        \u001b[49m\u001b[43ms\u001b[49m\u001b[38;5;241;43m=\u001b[39;49m\u001b[43ms\u001b[49m\u001b[43m,\u001b[49m\n\u001b[1;32m   3691\u001b[0m \u001b[43m        \u001b[49m\u001b[43mc\u001b[49m\u001b[38;5;241;43m=\u001b[39;49m\u001b[43mc\u001b[49m\u001b[43m,\u001b[49m\n\u001b[1;32m   3692\u001b[0m \u001b[43m        \u001b[49m\u001b[43mmarker\u001b[49m\u001b[38;5;241;43m=\u001b[39;49m\u001b[43mmarker\u001b[49m\u001b[43m,\u001b[49m\n\u001b[1;32m   3693\u001b[0m \u001b[43m        \u001b[49m\u001b[43mcmap\u001b[49m\u001b[38;5;241;43m=\u001b[39;49m\u001b[43mcmap\u001b[49m\u001b[43m,\u001b[49m\n\u001b[1;32m   3694\u001b[0m \u001b[43m        \u001b[49m\u001b[43mnorm\u001b[49m\u001b[38;5;241;43m=\u001b[39;49m\u001b[43mnorm\u001b[49m\u001b[43m,\u001b[49m\n\u001b[1;32m   3695\u001b[0m \u001b[43m        \u001b[49m\u001b[43mvmin\u001b[49m\u001b[38;5;241;43m=\u001b[39;49m\u001b[43mvmin\u001b[49m\u001b[43m,\u001b[49m\n\u001b[1;32m   3696\u001b[0m \u001b[43m        \u001b[49m\u001b[43mvmax\u001b[49m\u001b[38;5;241;43m=\u001b[39;49m\u001b[43mvmax\u001b[49m\u001b[43m,\u001b[49m\n\u001b[1;32m   3697\u001b[0m \u001b[43m        \u001b[49m\u001b[43malpha\u001b[49m\u001b[38;5;241;43m=\u001b[39;49m\u001b[43malpha\u001b[49m\u001b[43m,\u001b[49m\n\u001b[1;32m   3698\u001b[0m \u001b[43m        \u001b[49m\u001b[43mlinewidths\u001b[49m\u001b[38;5;241;43m=\u001b[39;49m\u001b[43mlinewidths\u001b[49m\u001b[43m,\u001b[49m\n\u001b[1;32m   3699\u001b[0m \u001b[43m        \u001b[49m\u001b[43medgecolors\u001b[49m\u001b[38;5;241;43m=\u001b[39;49m\u001b[43medgecolors\u001b[49m\u001b[43m,\u001b[49m\n\u001b[1;32m   3700\u001b[0m \u001b[43m        \u001b[49m\u001b[43mplotnonfinite\u001b[49m\u001b[38;5;241;43m=\u001b[39;49m\u001b[43mplotnonfinite\u001b[49m\u001b[43m,\u001b[49m\n\u001b[1;32m   3701\u001b[0m \u001b[43m        \u001b[49m\u001b[38;5;241;43m*\u001b[39;49m\u001b[38;5;241;43m*\u001b[39;49m\u001b[43m(\u001b[49m\u001b[43m{\u001b[49m\u001b[38;5;124;43m\"\u001b[39;49m\u001b[38;5;124;43mdata\u001b[39;49m\u001b[38;5;124;43m\"\u001b[39;49m\u001b[43m:\u001b[49m\u001b[43m \u001b[49m\u001b[43mdata\u001b[49m\u001b[43m}\u001b[49m\u001b[43m \u001b[49m\u001b[38;5;28;43;01mif\u001b[39;49;00m\u001b[43m \u001b[49m\u001b[43mdata\u001b[49m\u001b[43m \u001b[49m\u001b[38;5;129;43;01mis\u001b[39;49;00m\u001b[43m \u001b[49m\u001b[38;5;129;43;01mnot\u001b[39;49;00m\u001b[43m \u001b[49m\u001b[38;5;28;43;01mNone\u001b[39;49;00m\u001b[43m \u001b[49m\u001b[38;5;28;43;01melse\u001b[39;49;00m\u001b[43m \u001b[49m\u001b[43m{\u001b[49m\u001b[43m}\u001b[49m\u001b[43m)\u001b[49m\u001b[43m,\u001b[49m\n\u001b[1;32m   3702\u001b[0m \u001b[43m        \u001b[49m\u001b[38;5;241;43m*\u001b[39;49m\u001b[38;5;241;43m*\u001b[39;49m\u001b[43mkwargs\u001b[49m\u001b[43m,\u001b[49m\n\u001b[1;32m   3703\u001b[0m \u001b[43m    \u001b[49m\u001b[43m)\u001b[49m\n\u001b[1;32m   3704\u001b[0m     sci(__ret)\n\u001b[1;32m   3705\u001b[0m     \u001b[38;5;28;01mreturn\u001b[39;00m __ret\n",
      "File \u001b[0;32m/glade/u/apps/jupyterhub/jh-23.11/lib/python3.10/site-packages/matplotlib/__init__.py:1465\u001b[0m, in \u001b[0;36m_preprocess_data.<locals>.inner\u001b[0;34m(ax, data, *args, **kwargs)\u001b[0m\n\u001b[1;32m   1462\u001b[0m \u001b[38;5;129m@functools\u001b[39m\u001b[38;5;241m.\u001b[39mwraps(func)\n\u001b[1;32m   1463\u001b[0m \u001b[38;5;28;01mdef\u001b[39;00m \u001b[38;5;21minner\u001b[39m(ax, \u001b[38;5;241m*\u001b[39margs, data\u001b[38;5;241m=\u001b[39m\u001b[38;5;28;01mNone\u001b[39;00m, \u001b[38;5;241m*\u001b[39m\u001b[38;5;241m*\u001b[39mkwargs):\n\u001b[1;32m   1464\u001b[0m     \u001b[38;5;28;01mif\u001b[39;00m data \u001b[38;5;129;01mis\u001b[39;00m \u001b[38;5;28;01mNone\u001b[39;00m:\n\u001b[0;32m-> 1465\u001b[0m         \u001b[38;5;28;01mreturn\u001b[39;00m \u001b[43mfunc\u001b[49m\u001b[43m(\u001b[49m\u001b[43max\u001b[49m\u001b[43m,\u001b[49m\u001b[43m \u001b[49m\u001b[38;5;241;43m*\u001b[39;49m\u001b[38;5;28;43mmap\u001b[39;49m\u001b[43m(\u001b[49m\u001b[43msanitize_sequence\u001b[49m\u001b[43m,\u001b[49m\u001b[43m \u001b[49m\u001b[43margs\u001b[49m\u001b[43m)\u001b[49m\u001b[43m,\u001b[49m\u001b[43m \u001b[49m\u001b[38;5;241;43m*\u001b[39;49m\u001b[38;5;241;43m*\u001b[39;49m\u001b[43mkwargs\u001b[49m\u001b[43m)\u001b[49m\n\u001b[1;32m   1467\u001b[0m     bound \u001b[38;5;241m=\u001b[39m new_sig\u001b[38;5;241m.\u001b[39mbind(ax, \u001b[38;5;241m*\u001b[39margs, \u001b[38;5;241m*\u001b[39m\u001b[38;5;241m*\u001b[39mkwargs)\n\u001b[1;32m   1468\u001b[0m     auto_label \u001b[38;5;241m=\u001b[39m (bound\u001b[38;5;241m.\u001b[39marguments\u001b[38;5;241m.\u001b[39mget(label_namer)\n\u001b[1;32m   1469\u001b[0m                   \u001b[38;5;129;01mor\u001b[39;00m bound\u001b[38;5;241m.\u001b[39mkwargs\u001b[38;5;241m.\u001b[39mget(label_namer))\n",
      "File \u001b[0;32m/glade/u/apps/jupyterhub/jh-23.11/lib/python3.10/site-packages/matplotlib/axes/_axes.py:4652\u001b[0m, in \u001b[0;36mAxes.scatter\u001b[0;34m(self, x, y, s, c, marker, cmap, norm, vmin, vmax, alpha, linewidths, edgecolors, plotnonfinite, **kwargs)\u001b[0m\n\u001b[1;32m   4650\u001b[0m y \u001b[38;5;241m=\u001b[39m np\u001b[38;5;241m.\u001b[39mma\u001b[38;5;241m.\u001b[39mravel(y)\n\u001b[1;32m   4651\u001b[0m \u001b[38;5;28;01mif\u001b[39;00m x\u001b[38;5;241m.\u001b[39msize \u001b[38;5;241m!=\u001b[39m y\u001b[38;5;241m.\u001b[39msize:\n\u001b[0;32m-> 4652\u001b[0m     \u001b[38;5;28;01mraise\u001b[39;00m \u001b[38;5;167;01mValueError\u001b[39;00m(\u001b[38;5;124m\"\u001b[39m\u001b[38;5;124mx and y must be the same size\u001b[39m\u001b[38;5;124m\"\u001b[39m)\n\u001b[1;32m   4654\u001b[0m \u001b[38;5;28;01mif\u001b[39;00m s \u001b[38;5;129;01mis\u001b[39;00m \u001b[38;5;28;01mNone\u001b[39;00m:\n\u001b[1;32m   4655\u001b[0m     s \u001b[38;5;241m=\u001b[39m (\u001b[38;5;241m20\u001b[39m \u001b[38;5;28;01mif\u001b[39;00m mpl\u001b[38;5;241m.\u001b[39mrcParams[\u001b[38;5;124m'\u001b[39m\u001b[38;5;124m_internal.classic_mode\u001b[39m\u001b[38;5;124m'\u001b[39m] \u001b[38;5;28;01melse\u001b[39;00m\n\u001b[1;32m   4656\u001b[0m          mpl\u001b[38;5;241m.\u001b[39mrcParams[\u001b[38;5;124m'\u001b[39m\u001b[38;5;124mlines.markersize\u001b[39m\u001b[38;5;124m'\u001b[39m] \u001b[38;5;241m*\u001b[39m\u001b[38;5;241m*\u001b[39m \u001b[38;5;241m2.0\u001b[39m)\n",
      "\u001b[0;31mValueError\u001b[0m: x and y must be the same size"
     ]
    },
    {
     "data": {
      "image/png": "[encoded data removed]",
      "text/plain": [
       "<Figure size 640x480 with 1 Axes>"
      ]
     },
     "metadata": {},
     "output_type": "display_data"
    }
   ],
   "source": [
    "Sinf = N2**(0.5)*np.tan(theta_list)/f\n",
    "gm_l_no_d =(3-(N2**(0.5)*np.tan(theta)/f)**2)*(np.cos(theta)*3*(1+(N2**(0.5)*np.tan(theta)/f)**2))**(-1)\n",
    "gm_l_d =(3-(N2**(0.5)*np.tan(theta)/f)**2)*(np.cos(theta)*(3*(1+(N2**(0.5)*np.tan(theta)/f)**2)-4*0.5*(N2**(0.5)*np.tan(theta)/f)**2))**(-1)\n",
    "gm_u_no_d = (np.cos(theta)*(1+(1-0)*(N2**(0.5)*np.tan(theta)/f)**2))**(-1)\n",
    "gm_u_d = (np.cos(theta)*(1+(1-0.5)*(N2**(0.5)*np.tan(theta)/f)**2))**(-1)\n",
    "\n",
    "for i in range(10):\n",
    "    plt.scatter(Sinf,gms[:,i],c=np.abs(max_gr[:,i,0]),cmap=\"RdYlBu\")\n",
    "# plt.contourf(np.array([Sinf]).T*np.ones(np.shape(gms)),gms[:,:],np.abs(max_gr[:,:,0]))\n",
    "\n",
    "plt.colorbar(label=r\"Growth Rate ($\\omega f^{-1}$)\",ticks=[0.025,0.05,0.075,0.1,0.125,0.15])\n",
    "plt.plot(Sinf,gm_l_no_d,c=\"k\",linestyle=\"--\",label=r\"$\\gamma^*_l$\",alpha=0.5)\n",
    "# plt.plot(Sinf,gm_l_d,c=\"k\",label=r\"$\\delta=0.5,\\, \\gamma^*_l$\")\n",
    "plt.plot(Sinf,gm_u_no_d,c=\"k\",linestyle=\"--\",label=r\"$\\gamma^*_u$\",alpha=0.5)\n",
    "# plt.plot(Sinf,gm_u_d,c=\"k\",label=r\"$\\delta=0.5,\\, \\gamma^*_u$\")\n",
    "# plt.hlines(0,0,2,color=\"k\")\n",
    "plt.xlim([0,np.max(Sinf)])\n",
    "plt.legend()\n",
    "# plt.savefig(\"example_param_space.jpeg\")\n"
   ]
  },
  {
   "cell_type": "code",
   "execution_count": 60,
   "id": "6a19b7ee",
   "metadata": {},
   "outputs": [
    {
     "ename": "IndexError",
     "evalue": "index 10 is out of bounds for axis 1 with size 10",
     "output_type": "error",
     "traceback": [
      "\u001b[0;31m---------------------------------------------------------------------------\u001b[0m",
      "\u001b[0;31mIndexError\u001b[0m                                Traceback (most recent call last)",
      "Cell \u001b[0;32mIn[60], line 6\u001b[0m\n\u001b[1;32m      4\u001b[0m mean_angle_2 \u001b[38;5;241m=\u001b[39m []\n\u001b[1;32m      5\u001b[0m \u001b[38;5;28;01mfor\u001b[39;00m j \u001b[38;5;129;01min\u001b[39;00m \u001b[38;5;28mrange\u001b[39m(np\u001b[38;5;241m.\u001b[39mshape(gms)[\u001b[38;5;241m-\u001b[39m\u001b[38;5;241m1\u001b[39m]):\n\u001b[0;32m----> 6\u001b[0m     angle \u001b[38;5;241m=\u001b[39m \u001b[38;5;241m-\u001b[39m(N2\u001b[38;5;241m*\u001b[39mnp\u001b[38;5;241m.\u001b[39mcos(theta_list[i])\u001b[38;5;241m*\u001b[39m(\u001b[38;5;241m1\u001b[39m\u001b[38;5;241m-\u001b[39m\u001b[43mgms\u001b[49m\u001b[43m[\u001b[49m\u001b[43mi\u001b[49m\u001b[43m,\u001b[49m\u001b[43mj\u001b[49m\u001b[43m]\u001b[49m\u001b[38;5;241m/\u001b[39mnp\u001b[38;5;241m.\u001b[39mcos(theta_list[i])\u001b[38;5;241m*\u001b[39m\u001b[38;5;241m*\u001b[39m\u001b[38;5;241m2\u001b[39m)\u001b[38;5;241m/\u001b[39m(N2\u001b[38;5;241m*\u001b[39mnp\u001b[38;5;241m.\u001b[39msin(theta_list[i]))) \u001b[38;5;66;03m# *np.tan(theta[i])\u001b[39;00m\n\u001b[1;32m      7\u001b[0m     mean_angle_2\u001b[38;5;241m.\u001b[39mappend(angle)\n\u001b[1;32m      8\u001b[0m mean_angle\u001b[38;5;241m.\u001b[39mappend(mean_angle_2)\n",
      "\u001b[0;31mIndexError\u001b[0m: index 10 is out of bounds for axis 1 with size 10"
     ]
    }
   ],
   "source": [
    "Sinf = N2**(0.5)*np.tan(theta_list)/f\n",
    "mean_angle = []\n",
    "for i in range(len(Sinf)):\n",
    "    mean_angle_2 = []\n",
    "    for j in range(np.shape(gms)[-1]):\n",
    "        angle = -(N2*np.cos(theta_list[i])*(1-gms[i,j]/np.cos(theta_list[i])**2)/(N2*np.sin(theta_list[i]))) # *np.tan(theta[i])\n",
    "        mean_angle_2.append(angle)\n",
    "    mean_angle.append(mean_angle_2)\n",
    "mean_angle = np.array(mean_angle)"
   ]
  },
  {
   "cell_type": "code",
   "execution_count": null,
   "id": "67ef82e6",
   "metadata": {},
   "outputs": [],
   "source": [
    "np.min(mean_angle**(-1))"
   ]
  },
  {
   "cell_type": "code",
   "execution_count": null,
   "id": "12aeef16",
   "metadata": {},
   "outputs": [],
   "source": [
    "# for i in range(10):\n",
    "#     plt.scatter(Sinf,gms[:,i],c=max_ms[:,i],cmap=\"RdYlBu\")\n",
    "plt.contourf(np.abs(np.array([Sinf]).T*np.ones(np.shape(gms))),gms[:,:],mean_angle,cmap=\"RdYlBu\"\n",
    "             ,alpha=1) # norm=cl.SymLogNorm(linthresh=1e-1)\n",
    "\n",
    "plt.colorbar(label=r\"Vertical Wave Number\")\n",
    "plt.plot(Sinf,(gm_l_no_d),c=\"k\",linestyle=\"--\",label=r\"$\\gamma^*_l$\",alpha=0.5)\n",
    "# plt.plot(Sinf,gm_l_d,c=\"k\",label=r\"$\\delta=0.5,\\, \\gamma^*_l$\")\n",
    "plt.plot(Sinf,np.abs(gm_u_no_d),c=\"k\",linestyle=\"--\",label=r\"$\\gamma^*_u$\",alpha=0.5)\n",
    "# plt.plot(Sinf,gm_u_d,c=\"k\",label=r\"$\\delta=0.5,\\, \\gamma^*_u$\")\n",
    "# plt.hlines(0,0,2,color=\"k\")\n",
    "plt.xlim([0,2.025])\n",
    "plt.ylim([gm_l_no_d[-2]-0.025,1.025])\n",
    "\n",
    "# plt.legend()\n",
    "plt.savefig(\"example_param_space_wave_mode.jpeg\")"
   ]
  },
  {
   "cell_type": "code",
   "execution_count": null,
   "id": "75e92b4c",
   "metadata": {},
   "outputs": [],
   "source": [
    "import matplotlib.colors as cl"
   ]
  },
  {
   "cell_type": "code",
   "execution_count": null,
   "id": "d154ef8a",
   "metadata": {},
   "outputs": [],
   "source": [
    "Sinf = N2**(0.5)*np.tan(theta)/f\n",
    "gm_l_no_d =(3-(N2**(0.5)*np.tan(theta)/f)**2)*(np.cos(theta)*3*(1+(N2**(0.5)*np.tan(theta)/f)**2))**(-1)\n",
    "gm_l_d =(3-(N2**(0.5)*np.tan(theta)/f)**2)*(np.cos(theta)*(3*(1+(N2**(0.5)*np.tan(theta)/f)**2)-4*0.5*(N2**(0.5)*np.tan(theta)/f)**2))**(-1)\n",
    "gm_u_no_d = (np.cos(theta)*(1+(1-0)*(N2**(0.5)*np.tan(theta)/f)**2))**(-1)\n",
    "gm_u_d = (np.cos(theta)*(1+(1-0.5)*(N2**(0.5)*np.tan(theta)/f)**2))**(-1)\n",
    "# np.array([np.tan(theta)]).T*np.ones(np.shape(gms))*\n",
    "# for i in range(10):\n",
    "#     plt.scatter(Sinf,gms[:,i],c=max_ms[:,i],cmap=\"RdYlBu\")\n",
    "plt.contourf(np.abs(np.array([Sinf]).T*np.ones(np.shape(gms))),gms[:,:],((max_ms[:,:])/mean_angle),cmap=\"RdYlBu\"\n",
    "             ,alpha=1)\n",
    "\n",
    "plt.colorbar(label=r\"Fraction of Mean Angle\")\n",
    "plt.plot(Sinf,(gm_l_no_d),c=\"k\",linestyle=\"--\",label=r\"$\\gamma^*_l$\",alpha=1)\n",
    "# plt.plot(Sinf,gm_l_d,c=\"k\",label=r\"$\\delta=0.5,\\, \\gamma^*_l$\")\n",
    "plt.plot(Sinf,np.abs(gm_u_no_d),c=\"k\",linestyle=\"--\",label=r\"$\\gamma^*_u$\",alpha=1)\n",
    "# plt.plot(Sinf,gm_u_d,c=\"k\",label=r\"$\\delta=0.5,\\, \\gamma^*_u$\")\n",
    "# plt.hlines(0,0,2,color=\"k\")\n",
    "plt.xlim([0,2.025])\n",
    "plt.ylim([gm_l_no_d[-2]-0.025,1.025])\n",
    "\n",
    "# plt.legend()\n",
    "plt.savefig(\"example_param_space_wave_mode.jpeg\")\n"
   ]
  },
  {
   "cell_type": "code",
   "execution_count": null,
   "id": "0b7e9c51",
   "metadata": {},
   "outputs": [],
   "source": [
    "import matplotlib as pl"
   ]
  },
  {
   "cell_type": "code",
   "execution_count": 62,
   "id": "6a60a2af",
   "metadata": {},
   "outputs": [
    {
     "ename": "TypeError",
     "evalue": "object of type 'numpy.float64' has no len()",
     "output_type": "error",
     "traceback": [
      "\u001b[0;31m---------------------------------------------------------------------------\u001b[0m",
      "\u001b[0;31mTypeError\u001b[0m                                 Traceback (most recent call last)",
      "Cell \u001b[0;32mIn[62], line 6\u001b[0m\n\u001b[1;32m      4\u001b[0m Sinf \u001b[38;5;241m=\u001b[39m N2\u001b[38;5;241m*\u001b[39m\u001b[38;5;241m*\u001b[39m(\u001b[38;5;241m0.5\u001b[39m)\u001b[38;5;241m*\u001b[39mnp\u001b[38;5;241m.\u001b[39mtan(theta)\u001b[38;5;241m/\u001b[39mf\n\u001b[1;32m      5\u001b[0m WSPRT \u001b[38;5;241m=\u001b[39m []\n\u001b[0;32m----> 6\u001b[0m \u001b[38;5;28;01mfor\u001b[39;00m j \u001b[38;5;129;01min\u001b[39;00m \u001b[38;5;28mrange\u001b[39m(\u001b[38;5;28;43mlen\u001b[39;49m\u001b[43m(\u001b[49m\u001b[43mSinf\u001b[49m\u001b[43m)\u001b[49m):\n\u001b[1;32m      7\u001b[0m     WSPRT2 \u001b[38;5;241m=\u001b[39m []\n\u001b[1;32m      8\u001b[0m \u001b[38;5;66;03m#     WSPl = []\u001b[39;00m\n\u001b[1;32m      9\u001b[0m \u001b[38;5;66;03m#     kel = []\u001b[39;00m\n",
      "\u001b[0;31mTypeError\u001b[0m: object of type 'numpy.float64' has no len()"
     ]
    }
   ],
   "source": [
    "tau = 2*np.pi\n",
    "dt = 100\n",
    "t = np.linspace(0,tau+1/dt,dt)\n",
    "Sinf = N2**(0.5)*np.tan(theta)/f\n",
    "WSPRT = []\n",
    "for j in range(len(Sinf)):\n",
    "    WSPRT2 = []\n",
    "#     WSPl = []\n",
    "#     kel = []\n",
    "    for i in range(np.shape(gms)[-1]):\n",
    "        sol = sc.odeint(PSI_system,[0,1],t,args=(max_ms[j,i],theta[j],gms[j,i],Sinf[j]**2))\n",
    "        lmbd = N2*np.tan(theta[j])*gms[j,i]/(f*np.cos(theta[j]))\n",
    "        n = f*np.cos(theta[j])*(1+Sinf[j]**2)**(0.5)/lmbd\n",
    "        beta = (1+Sinf[j]**2)**(0.5)\n",
    "        delta = 0.5\n",
    "        fstar = f*np.cos(theta[j])*beta\n",
    "        w = ((m_t(t,max_ms[j,i],fstar))**2+1)**(-1)*sol[:,0]\n",
    "        u = m_t(t,max_ms[j,i],fstar)*w*n\n",
    "        v = -f*(gms[j,i]*Sinf[j]**2/np.sin(theta[j])-np.sin(theta[j])+max_ms[j,i]*np.cos(theta[j]))*sol[:,1]/(lmbd)\n",
    "        b = -N2*np.sin(theta[j])*(max_ms[j,i]+(1-gms[j,i]/np.cos(theta[j])**2)/np.tan(theta[j]))*sol[:,1]/(N2*np.cos(theta[j])*(1-gms[j,i]/(np.cos(theta[j])**2)))\n",
    "        ke = 0.5*(u**2+v**2+n**2*w**2)\n",
    "        WSP = -u*w*delta*np.cos(t+np.pi/2)+v*w*(f*np.cos(theta[j])*delta/fstar*np.sin(t+np.pi/2))\n",
    "        WSPRT2.append((sc.cumulative_trapezoid(WSP,t)[-1])/(ke[-1]-ke[0]))\n",
    "    WSPRT.append(WSPRT2)\n",
    "WSPRT = np.array(WSPRT)\n",
    "norm = cl.Normalize(vmin = 0, vmax = 1.5)\n",
    "sm = pl.cm.ScalarMappable(norm = norm, cmap = 'RdYlBu')\n",
    "fig = plt.figure()\n",
    "contour = plt.contourf(np.array([Sinf]).T*np.ones(np.shape(gms)),gms,WSPRT,norm=norm,cmap=\"RdYlBu\")\n",
    "plt.plot(Sinf,gm_l_no_d,c=\"k\",linestyle=\"--\",label=r\"$\\gamma^*_l$\",alpha=0.5)\n",
    "# plt.plot(Sinf,gm_l_d,c=\"k\",label=r\"$\\delta=0.5,\\, \\gamma^*_l$\")\n",
    "plt.plot(Sinf,gm_u_no_d,c=\"k\",linestyle=\"--\",label=r\"$\\gamma^*_u$\",alpha=0.5)\n",
    "plt.xlim([0,np.max(Sinf)])\n",
    "plt.ylim([0.05,1.05])\n",
    "cbar_ax = fig.add_axes([0.9, 0.15, 0.05, 0.7])\n",
    "cbar = plt.colorbar(sm,cax=cbar_ax,label=r\"WSP Contribution\")\n",
    "# plt.plot(Sinf,gm_u_d,c=\"k\",label=r\"$\\delta=0.5,\\, \\gamma^*_u$\")\n",
    "# plt.hlines(0,0,2,color=\"k\")\n",
    "\n",
    "\n",
    "# plt.legend()\n",
    "plt.savefig(\"example_param_space_wave_mode.jpeg\")"
   ]
  },
  {
   "cell_type": "code",
   "execution_count": null,
   "id": "72e6e309",
   "metadata": {},
   "outputs": [],
   "source": [
    "tau = 2*np.pi\n",
    "dt = 100\n",
    "t = np.linspace(0,tau+1/dt,dt)\n",
    "Sinf = N2**(0.5)*np.tan(theta)/f\n",
    "WSPRTx = []\n",
    "for j in range(len(Sinf)):\n",
    "    WSPRTx2 = []\n",
    "#     WSPl = []\n",
    "#     kel = []\n",
    "    for i in range(np.shape(gms)[-1]):\n",
    "        sol = sc.odeint(PSI_system,[0,1],t,args=(max_ms[j,i],theta[j],gms[j,i],Sinf[j]**2))\n",
    "        lmbd = N2*np.tan(theta[j])*gms[j,i]/(f*np.cos(theta[j]))\n",
    "        n = f*np.cos(theta[j])*(1+Sinf[j]**2)**(0.5)/lmbd\n",
    "        beta = (1+Sinf[j]**2)**(0.5)\n",
    "        delta = 0.5\n",
    "        fstar = f*np.cos(theta[j])*beta\n",
    "        w = ((m_t(t,max_ms[j,i],fstar))**2+1)**(-1)*sol[:,0]\n",
    "        u = m_t(t,max_ms[j,i],fstar)*w*n\n",
    "        v = -f*(gms[j,i]*Sinf[j]**2/np.sin(theta[j])-np.sin(theta[j])+max_ms[j,i]*np.cos(theta[j]))*sol[:,1]/(lmbd)\n",
    "        b = -N2*np.sin(theta[j])*(max_ms[j,i]+(1-gms[j,i]/np.cos(theta[j])**2)/np.tan(theta[j]))*sol[:,1]/(N2*np.cos(theta[j])*(1-gms[j,i]/(np.cos(theta[j])**2)))\n",
    "        ke = 0.5*(u**2+v**2+n**2*w**2)\n",
    "        WSPx = -u*w*delta*np.cos(t+np.pi/2)\n",
    "        WSPRTx2.append((sc.cumulative_trapezoid(WSPx,t)[-1])/(ke[-1]-ke[0]))\n",
    "    WSPRTx.append(WSPRTx2)\n",
    "WSPRTx = np.array(WSPRTx)\n",
    "plt.contourf(np.array([Sinf]).T*np.ones(np.shape(gms)),gms,WSPRTx,cmap=\"RdYlBu\")\n",
    "plt.colorbar(label=r\"WSPx Contribution\")\n",
    "plt.plot(Sinf,gm_l_no_d,c=\"k\",linestyle=\"--\",label=r\"$\\gamma^*_l$\",alpha=0.5)\n",
    "# plt.plot(Sinf,gm_l_d,c=\"k\",label=r\"$\\delta=0.5,\\, \\gamma^*_l$\")\n",
    "plt.plot(Sinf,gm_u_no_d,c=\"k\",linestyle=\"--\",label=r\"$\\gamma^*_u$\",alpha=0.5)\n",
    "# plt.plot(Sinf,gm_u_d,c=\"k\",label=r\"$\\delta=0.5,\\, \\gamma^*_u$\")\n",
    "# plt.hlines(0,0,2,color=\"k\")\n",
    "\n",
    "plt.xlim([0,np.max(Sinf)])\n",
    "# plt.legend()\n",
    "plt.savefig(\"example_param_space_wave_mode.jpeg\")"
   ]
  },
  {
   "cell_type": "code",
   "execution_count": null,
   "id": "139a565c",
   "metadata": {},
   "outputs": [],
   "source": [
    "tau = 2*np.pi\n",
    "dt = 100\n",
    "t = np.linspace(0,tau+1/dt,dt)\n",
    "Sinf = N2**(0.5)*np.tan(theta)/f\n",
    "WSPRTy = []\n",
    "for j in range(len(Sinf)):\n",
    "    WSPRTy2 = []\n",
    "    for i in range(np.shape(gms)[-1]):\n",
    "        sol = sc.odeint(PSI_system,[0,1],t,args=(max_ms[j,i],theta[j],gms[j,i],Sinf[j]**2))\n",
    "        lmbd = N2*np.tan(theta[j])*gms[j,i]/(f*np.cos(theta[j]))\n",
    "        n = f*np.cos(theta[j])*(1+Sinf[j]**2)**(0.5)/lmbd\n",
    "        beta = (1+Sinf[j]**2)**(0.5)\n",
    "        delta = 0.5\n",
    "        fstar = f*np.cos(theta[j])*beta\n",
    "        w = ((m_t(t,max_ms[j,i],fstar))**2+1)**(-1)*sol[:,0]\n",
    "        u = m_t(t,max_ms[j,i],fstar)*w*n\n",
    "        v = -f*(gms[j,i]*Sinf[j]**2/np.sin(theta[j])-np.sin(theta[j])+max_ms[j,i]*np.cos(theta[j]))*sol[:,1]/(lmbd)\n",
    "        b = -N2*np.sin(theta[j])*(max_ms[j,i]+(1-gms[j,i]/np.cos(theta[j])**2)/np.tan(theta[j]))*sol[:,1]/(N2*np.cos(theta[j])*(1-gms[j,i]/(np.cos(theta[j])**2)))\n",
    "        ke = 0.5*(u**2+v**2+n**2*w**2)\n",
    "        WSPy = v*w*(f*np.cos(theta[j])*delta/fstar*np.sin(t+np.pi/2))\n",
    "        WSPRTy2.append((sc.cumulative_trapezoid(WSPy,t)[-1])/(ke[-1]-ke[0]))\n",
    "    WSPRTy.append(WSPRTy2)\n",
    "WSPRTy = np.array(WSPRTy)\n",
    "plt.contourf(np.array([Sinf]).T*np.ones(np.shape(gms)),gms,WSPRTy,cmap=\"RdYlBu\")\n",
    "plt.colorbar(label=r\"WSPy Contribution\")\n",
    "plt.plot(Sinf,gm_l_no_d,c=\"k\",linestyle=\"--\",label=r\"$\\gamma^*_l$\",alpha=0.5)\n",
    "# plt.plot(Sinf,gm_l_d,c=\"k\",label=r\"$\\delta=0.5,\\, \\gamma^*_l$\")\n",
    "plt.plot(Sinf,gm_u_no_d,c=\"k\",linestyle=\"--\",label=r\"$\\gamma^*_u$\",alpha=0.5)\n",
    "# plt.plot(Sinf,gm_u_d,c=\"k\",label=r\"$\\delta=0.5,\\, \\gamma^*_u$\")\n",
    "# plt.hlines(0,0,2,color=\"k\")\n",
    "\n",
    "plt.xlim([0,np.max(Sinf)])\n",
    "# plt.legend()\n",
    "plt.savefig(\"example_param_space_wave_mode.jpeg\")"
   ]
  },
  {
   "cell_type": "code",
   "execution_count": null,
   "id": "612d373d",
   "metadata": {},
   "outputs": [],
   "source": []
  },
  {
   "cell_type": "code",
   "execution_count": null,
   "id": "5b69e1b0",
   "metadata": {},
   "outputs": [],
   "source": [
    "tau = 2*np.pi\n",
    "dt = 100\n",
    "t = np.linspace(0,tau+1/dt,dt)\n",
    "Sinf = N2**(0.5)*np.tan(theta)/f\n",
    "BFLUXRT = []\n",
    "for j in range(len(Sinf)):\n",
    "    BFLUXRT2 = []\n",
    "    for i in range(np.shape(gms)[-1]):\n",
    "        sol = sc.odeint(PSI_system,[0,1],t,args=(max_ms[j,i],theta[j],gms[j,i],Sinf[j]**2))\n",
    "        lmbd = N2*np.tan(theta[j])*gms[j,i]/(f*np.cos(theta[j]))\n",
    "        n = f*np.cos(theta[j])*(1+Sinf[j]**2)**(0.5)/lmbd\n",
    "        beta = (1+Sinf[j]**2)**(0.5)\n",
    "        alpha = N2*np.cos(theta[j])*(1-gms[j,i]/np.cos(theta[j])**2)*np.tan(theta[j])/(f*lmbd)\n",
    "        Ri = N2*np.cos(theta[j])*(1-gms[j,i]/np.cos(theta[j])**2)/lmbd**2\n",
    "        delta = 0.5\n",
    "        fstar = f*np.cos(theta[j])*beta\n",
    "        w = ((m_t(t,max_ms[j,i],fstar))**2+1)**(-1)*sol[:,0]\n",
    "        u = m_t(t,max_ms[j,i],fstar)*w*n\n",
    "        v = -f*(gms[j,i]*Sinf[j]**2/np.sin(theta[j])-np.sin(theta[j])+max_ms[j,i]*np.cos(theta[j]))*sol[:,1]/(lmbd)\n",
    "        b = -N2*np.sin(theta[j])*(max_ms[j,i]+(1-gms[j,i]/np.cos(theta[j])**2)/np.tan(theta[j]))*sol[:,1]/(N2*np.cos(theta[j])*(1-gms[j,i]/(np.cos(theta[j])**2)))\n",
    "        ke = 0.5*(u**2+v**2+n**2*w**2)\n",
    "        BFLUX = alpha*beta**(-1)*u*b+w*b*Ri\n",
    "        BFLUXRT2.append((sc.cumulative_trapezoid(BFLUX,t)[-1])/(ke[-1]-ke[0]))\n",
    "    BFLUXRT.append(BFLUXRT2)\n",
    "BFLUXRT = np.array(BFLUXRT)\n",
    "plt.contourf(np.array([Sinf]).T*np.ones(np.shape(gms)),gms,BFLUXRT,cmap=\"RdYlBu\")\n",
    "plt.colorbar(label=r\"BFLUX Contribution\")\n",
    "plt.plot(Sinf,gm_l_no_d,c=\"k\",linestyle=\"--\",label=r\"$\\gamma^*_l$\",alpha=0.5)\n",
    "# plt.plot(Sinf,gm_l_d,c=\"k\",label=r\"$\\delta=0.5,\\, \\gamma^*_l$\")\n",
    "plt.plot(Sinf,gm_u_no_d,c=\"k\",linestyle=\"--\",label=r\"$\\gamma^*_u$\",alpha=0.5)\n",
    "# plt.plot(Sinf,gm_u_d,c=\"k\",label=r\"$\\delta=0.5,\\, \\gamma^*_u$\")\n",
    "# plt.hlines(0,0,2,color=\"k\")\n",
    "\n",
    "plt.xlim([0,np.max(Sinf)])\n",
    "# plt.legend()\n",
    "plt.savefig(\"example_param_space_wave_mode.jpeg\")"
   ]
  },
  {
   "cell_type": "code",
   "execution_count": null,
   "id": "2de70e6f",
   "metadata": {},
   "outputs": [],
   "source": [
    "tau = 2*np.pi\n",
    "dt = 100\n",
    "t = np.linspace(0,tau+1/dt,dt)\n",
    "Sinf = N2**(0.5)*np.tan(theta)/f\n",
    "BFLUXxRT = []\n",
    "for j in range(len(Sinf)):\n",
    "    BFLUXxRT2 = []\n",
    "    for i in range(np.shape(gms)[-1]):\n",
    "        sol = sc.odeint(PSI_system,[0,1],t,args=(max_ms[j,i],theta[j],gms[j,i],Sinf[j]**2))\n",
    "        lmbd = N2*np.tan(theta[j])*gms[j,i]/(f*np.cos(theta[j]))\n",
    "        n = f*np.cos(theta[j])*(1+Sinf[j]**2)**(0.5)/lmbd\n",
    "        beta = (1+Sinf[j]**2)**(0.5)\n",
    "        alpha = N2*np.cos(theta[j])*(1-gms[j,i]/np.cos(theta[j])**2)*np.tan(theta[j])/(f*lmbd)\n",
    "        Ri = N2*np.cos(theta[j])*(1-gms[j,i]/np.cos(theta[j])**2)/lmbd**2\n",
    "        delta = 0.5\n",
    "        fstar = f*np.cos(theta[j])*beta\n",
    "        w = ((m_t(t,max_ms[j,i],fstar))**2+1)**(-1)*sol[:,0]\n",
    "        u = m_t(t,max_ms[j,i],fstar)*w*n\n",
    "        v = -f*(gms[j,i]*Sinf[j]**2/np.sin(theta[j])-np.sin(theta[j])+max_ms[j,i]*np.cos(theta[j]))*sol[:,1]/(lmbd)\n",
    "        b = -N2*np.sin(theta[j])*(max_ms[j,i]+(1-gms[j,i]/np.cos(theta[j])**2)/np.tan(theta[j]))*sol[:,1]/(N2*np.cos(theta[j])*(1-gms[j,i]/(np.cos(theta[j])**2)))\n",
    "        ke = 0.5*(u**2+v**2+n**2*w**2)\n",
    "        BFLUXx = alpha*beta**(-1)*u*b\n",
    "        BFLUXxRT2.append((sc.cumulative_trapezoid(BFLUXx,t)[-1])/(ke[-1]-ke[0]))\n",
    "    BFLUXxRT.append(BFLUXxRT2)\n",
    "BFLUXxRT = np.array(BFLUXxRT)\n",
    "plt.contourf(np.array([Sinf]).T*np.ones(np.shape(gms)),gms,BFLUXxRT,cmap=\"RdYlBu\")\n",
    "plt.colorbar(label=r\"BFLUXx Contribution\")\n",
    "plt.plot(Sinf,gm_l_no_d,c=\"k\",linestyle=\"--\",label=r\"$\\gamma^*_l$\",alpha=0.5)\n",
    "# plt.plot(Sinf,gm_l_d,c=\"k\",label=r\"$\\delta=0.5,\\, \\gamma^*_l$\")\n",
    "plt.plot(Sinf,gm_u_no_d,c=\"k\",linestyle=\"--\",label=r\"$\\gamma^*_u$\",alpha=0.5)\n",
    "# plt.plot(Sinf,gm_u_d,c=\"k\",label=r\"$\\delta=0.5,\\, \\gamma^*_u$\")\n",
    "# plt.hlines(0,0,2,color=\"k\")\n",
    "\n",
    "plt.xlim([0,np.max(Sinf)])\n",
    "# plt.legend()\n",
    "plt.savefig(\"example_param_space_wave_mode.jpeg\")"
   ]
  },
  {
   "cell_type": "code",
   "execution_count": null,
   "id": "1f6f3802",
   "metadata": {},
   "outputs": [],
   "source": [
    "tau = 2*np.pi\n",
    "dt = 100\n",
    "t = np.linspace(0,tau+1/dt,dt)\n",
    "Sinf = N2**(0.5)*np.tan(theta)/f\n",
    "BFLUXzRT = []\n",
    "for j in range(len(Sinf)):\n",
    "    BFLUXzRT2 = []\n",
    "    for i in range(np.shape(gms)[-1]):\n",
    "        sol = sc.odeint(PSI_system,[0,1],t,args=(max_ms[j,i],theta[j],gms[j,i],Sinf[j]**2))\n",
    "        lmbd = N2*np.tan(theta[j])*gms[j,i]/(f*np.cos(theta[j]))\n",
    "        n = f*np.cos(theta[j])*(1+Sinf[j]**2)**(0.5)/lmbd\n",
    "        beta = (1+Sinf[j]**2)**(0.5)\n",
    "        alpha = N2*np.cos(theta[j])*(1-gms[j,i]/np.cos(theta[j])**2)*np.tan(theta[j])/(f*lmbd)\n",
    "        Ri = N2*np.cos(theta[j])*(1-gms[j,i]/np.cos(theta[j])**2)/lmbd**2\n",
    "        delta = 0.5\n",
    "        fstar = f*np.cos(theta[j])*beta\n",
    "        w = ((m_t(t,max_ms[j,i],fstar))**2+1)**(-1)*sol[:,0]\n",
    "        u = m_t(t,max_ms[j,i],fstar)*w*n\n",
    "        v = -f*(gms[j,i]*Sinf[j]**2/np.sin(theta[j])-np.sin(theta[j])+max_ms[j,i]*np.cos(theta[j]))*sol[:,1]/(lmbd)\n",
    "        b = -N2*np.sin(theta[j])*(max_ms[j,i]+(1-gms[j,i]/np.cos(theta[j])**2)/np.tan(theta[j]))*sol[:,1]/(N2*np.cos(theta[j])*(1-gms[j,i]/(np.cos(theta[j])**2)))\n",
    "        ke = 0.5*(u**2+v**2+n**2*w**2)\n",
    "        BFLUXz = w*b*Ri\n",
    "        BFLUXzRT2.append((sc.cumulative_trapezoid(BFLUXz,t)[-1])/(ke[-1]-ke[0]))\n",
    "    BFLUXzRT.append(BFLUXzRT2)\n",
    "BFLUXzRT = np.array(BFLUXzRT)\n",
    "plt.contourf(np.array([Sinf]).T*np.ones(np.shape(gms)),gms,BFLUXzRT,cmap=\"RdYlBu\")\n",
    "plt.colorbar(label=r\"BFLUXz Contribution\")\n",
    "plt.plot(Sinf,gm_l_no_d,c=\"k\",linestyle=\"--\",label=r\"$\\gamma^*_l$\",alpha=0.5)\n",
    "# plt.plot(Sinf,gm_l_d,c=\"k\",label=r\"$\\delta=0.5,\\, \\gamma^*_l$\")\n",
    "plt.plot(Sinf,gm_u_no_d,c=\"k\",linestyle=\"--\",label=r\"$\\gamma^*_u$\",alpha=0.5)\n",
    "# plt.plot(Sinf,gm_u_d,c=\"k\",label=r\"$\\delta=0.5,\\, \\gamma^*_u$\")\n",
    "# plt.hlines(0,0,2,color=\"k\")\n",
    "\n",
    "plt.xlim([0,np.max(Sinf)])\n",
    "# plt.legend()\n",
    "plt.savefig(\"example_param_space_wave_mode.jpeg\")"
   ]
  },
  {
   "cell_type": "code",
   "execution_count": null,
   "id": "2bf47e40",
   "metadata": {},
   "outputs": [],
   "source": [
    "tau = 2*np.pi\n",
    "dt = 100\n",
    "t = np.linspace(0,tau+1/dt,dt)\n",
    "Sinf = N2**(0.5)*np.tan(theta)/f\n",
    "GSPRT = []\n",
    "for j in range(len(Sinf)):\n",
    "    GSPRT2 = []\n",
    "    for i in range(np.shape(gms)[-1]):\n",
    "        sol = sc.odeint(PSI_system,[0,1],t,args=(max_ms[j,i],theta[j],gms[j,i],Sinf[j]**2))\n",
    "        lmbd = N2*np.tan(theta[j])*gms[j,i]/(f*np.cos(theta[j]))\n",
    "        n = f*np.cos(theta[j])*(1+Sinf[j]**2)**(0.5)/lmbd\n",
    "        beta = (1+Sinf[j]**2)**(0.5)\n",
    "        alpha = N2*np.cos(theta[j])*(1-gms[j,i]/np.cos(theta[j])**2)*np.tan(theta[j])/(f*lmbd)\n",
    "        Ri = N2*np.cos(theta[j])*(1-gms[j,i]/np.cos(theta[j])**2)/lmbd**2\n",
    "        delta = 0.5\n",
    "        fstar = f*np.cos(theta[j])*beta\n",
    "        w = ((m_t(t,max_ms[j,i],fstar))**2+1)**(-1)*sol[:,0]\n",
    "        u = m_t(t,max_ms[j,i],fstar)*w*n\n",
    "        v = -f*(gms[j,i]*Sinf[j]**2/np.sin(theta[j])-np.sin(theta[j])+max_ms[j,i]*np.cos(theta[j]))*sol[:,1]/(lmbd)\n",
    "        b = -N2*np.sin(theta[j])*(max_ms[j,i]+(1-gms[j,i]/np.cos(theta[j])**2)/np.tan(theta[j]))*sol[:,1]/(N2*np.cos(theta[j])*(1-gms[j,i]/(np.cos(theta[j])**2)))\n",
    "        ke = 0.5*(u**2+v**2+n**2*w**2)\n",
    "        GSP = -v*w\n",
    "        GSPRT2.append((sc.cumulative_trapezoid(GSP,t)[-1])/((ke[-1]-ke[0])))\n",
    "    GSPRT.append(GSPRT2)\n",
    "GSPRT = np.array(GSPRT)\n",
    "plt.contourf(np.array([Sinf]).T*np.ones(np.shape(gms)),gms,GSPRT,cmap=\"RdYlBu\")\n",
    "\n",
    "plt.colorbar(label=r\"GSP Contribution\")\n",
    "plt.plot(Sinf,gm_l_no_d,c=\"k\",linestyle=\"--\",label=r\"$\\gamma^*_l$\",alpha=0.5)\n",
    "# plt.plot(Sinf,gm_l_d,c=\"k\",label=r\"$\\delta=0.5,\\, \\gamma^*_l$\")\n",
    "plt.plot(Sinf,gm_u_no_d,c=\"k\",linestyle=\"--\",label=r\"$\\gamma^*_u$\",alpha=0.5)\n",
    "# plt.plot(Sinf,gm_u_d,c=\"k\",label=r\"$\\delta=0.5,\\, \\gamma^*_u$\")\n",
    "# plt.hlines(0,0,2,color=\"k\")\n",
    "\n",
    "plt.xlim([0,np.max(Sinf)])\n",
    "# plt.legend()\n",
    "plt.savefig(\"example_param_space_wave_mode.jpeg\")"
   ]
  },
  {
   "cell_type": "code",
   "execution_count": null,
   "id": "6ebdcaef",
   "metadata": {},
   "outputs": [],
   "source": [
    "tau = 2*np.pi\n",
    "dt = 100\n",
    "t = np.linspace(0,tau+1/dt,dt)\n",
    "Sinf = N2**(0.5)*np.tan(theta)/f\n",
    "BFLUXGSPRT = []\n",
    "for j in range(len(Sinf)):\n",
    "    BFLUXGSPRT2 = []\n",
    "    for i in range(np.shape(gms)[-1]):\n",
    "        sol = sc.odeint(PSI_system,[0,1],t,args=(max_ms[j,i],theta[j],gms[j,i],Sinf[j]**2))\n",
    "        lmbd = N2*np.tan(theta[j])*gms[j,i]/(f*np.cos(theta[j]))\n",
    "        n = f*np.cos(theta[j])*(1+Sinf[j]**2)**(0.5)/lmbd\n",
    "        beta = (1+Sinf[j]**2)**(0.5)\n",
    "        alpha = N2*np.cos(theta[j])*(1-gms[j,i]/np.cos(theta[j])**2)*np.tan(theta[j])/(f*lmbd)\n",
    "        Ri = N2*np.cos(theta[j])*(1-gms[j,i]/np.cos(theta[j])**2)/lmbd**2\n",
    "        delta = 0.5\n",
    "        fstar = f*np.cos(theta[j])*beta\n",
    "        w = ((m_t(t,max_ms[j,i],fstar))**2+1)**(-1)*sol[:,0]\n",
    "        u = m_t(t,max_ms[j,i],fstar)*w*n\n",
    "        v = -f*(gms[j,i]*Sinf[j]**2/np.sin(theta[j])-np.sin(theta[j])+max_ms[j,i]*np.cos(theta[j]))*sol[:,1]/(lmbd)\n",
    "        b = -N2*np.sin(theta[j])*(max_ms[j,i]+(1-gms[j,i]/np.cos(theta[j])**2)/np.tan(theta[j]))*sol[:,1]/(N2*np.cos(theta[j])*(1-gms[j,i]/(np.cos(theta[j])**2)))\n",
    "        ke = 0.5*(u**2+v**2+n**2*w**2)\n",
    "        BFLUXGSP = alpha*beta**(-1)*u*b+w*b*Ri-v*w\n",
    "        BFLUXGSPRT2.append((sc.cumulative_trapezoid(BFLUX,t)[-1])/(ke[-1]-ke[0]))\n",
    "    BFLUXGSPRT.append(BFLUXGSPRT2)\n",
    "BFLUXGSPRT = np.array(BFLUXGSPRT)\n",
    "plt.contourf(np.array([Sinf]).T*np.ones(np.shape(gms)),gms,BFLUXGSPRT,cmap=\"RdYlBu\")\n",
    "plt.colorbar(label=r\"GSP+BFLUX Contribution\")\n",
    "plt.plot(Sinf,gm_l_no_d,c=\"k\",linestyle=\"--\",label=r\"$\\gamma^*_l$\",alpha=0.5)\n",
    "# plt.plot(Sinf,gm_l_d,c=\"k\",label=r\"$\\delta=0.5,\\, \\gamma^*_l$\")\n",
    "plt.plot(Sinf,gm_u_no_d,c=\"k\",linestyle=\"--\",label=r\"$\\gamma^*_u$\",alpha=0.5)\n",
    "# plt.plot(Sinf,gm_u_d,c=\"k\",label=r\"$\\delta=0.5,\\, \\gamma^*_u$\")\n",
    "# plt.hlines(0,0,2,color=\"k\")\n",
    "\n",
    "plt.xlim([0,np.max(Sinf)])\n",
    "# plt.legend()\n",
    "plt.savefig(\"example_param_space_wave_mode.jpeg\")"
   ]
  },
  {
   "cell_type": "code",
   "execution_count": null,
   "id": "b350a658",
   "metadata": {},
   "outputs": [],
   "source": [
    "Sinf = N2**(0.5)*np.tan(theta)/f\n",
    "gm_l_no_d =(3-(N2**(0.5)*np.tan(theta)/f)**2)*(np.cos(theta)*3*(1+(N2**(0.5)*np.tan(theta)/f)**2))**(-1)\n",
    "gm_l_d =(3-(N2**(0.5)*np.tan(theta)/f)**2)*(np.cos(theta)*(3*(1+(N2**(0.5)*np.tan(theta)/f)**2)-4*0.5*(N2**(0.5)*np.tan(theta)/f)**2))**(-1)\n",
    "gm_u_no_d = (np.cos(theta)*(1+(1-0)*(N2**(0.5)*np.tan(theta)/f)**2))**(-1)\n",
    "gm_u_d = (np.cos(theta)*(1+(1-0.5)*(N2**(0.5)*np.tan(theta)/f)**2))**(-1)\n",
    "\n",
    "for i in range(10):\n",
    "    plt.scatter(Sinf,gms[:,i],c=np.abs(max_ms[:,i]),cmap=\"RdYlBu\")\n",
    "plt.colorbar(label=r\"Normalized Vertical Wave Number\")\n",
    "plt.plot(Sinf,gm_l_no_d,c=\"k\",linestyle=\"--\")\n",
    "# plt.plot(Sinf,gm_l_d,c=\"k\",label=r\"$\\delta=0.5,\\, \\gamma^*_l$\")\n",
    "plt.plot(Sinf,gm_u_no_d,c=\"k\",linestyle=\"--\")\n",
    "# plt.plot(Sinf,gm_u_d,c=\"k\",label=r\"$\\delta=0.5,\\, \\gamma^*_u$\")\n",
    "# plt.hlines(0,0,2,color=\"k\")\n",
    "\n",
    "plt.xlim([0,np.max(Sinf)])\n",
    "# plt.legend()\n",
    "plt.savefig(\"example_param_space_wave_mode.jpeg\")\n"
   ]
  },
  {
   "cell_type": "code",
   "execution_count": null,
   "id": "93b0a56e",
   "metadata": {},
   "outputs": [],
   "source": []
  },
  {
   "cell_type": "code",
   "execution_count": null,
   "id": "ac60d1f5",
   "metadata": {},
   "outputs": [],
   "source": [
    "for i in range(10):\n",
    "    plt.scatter(Sinf,gms[:,i],c=np.log10(0.1*np.cos(theta)/(10**(-5/2)*Sinf*gms[:,i])),cmap=\"RdYlBu\")\n",
    "plt.colorbar()"
   ]
  },
  {
   "cell_type": "code",
   "execution_count": null,
   "id": "97bd94c3",
   "metadata": {
    "scrolled": true
   },
   "outputs": [],
   "source": [
    "# # plt.contourf(Sinf,np.linspace(-0.2,1,30),np.abs(max_gr[:,:]),levels=1000,cmap=\"RdYlBu\")\n",
    "# plt.colorbar()\n",
    "# plt.plot(Sinf,gm_l_no_d,c=\"c\")\n",
    "# plt.plot(Sinf,gm_l_d,c=\"r\")\n",
    "# plt.plot(Sinf,gm_u_no_d,c=\"c\")\n",
    "# plt.plot(Sinf,gm_u_d,c=\"r\")"
   ]
  },
  {
   "cell_type": "code",
   "execution_count": null,
   "id": "ce5b830a",
   "metadata": {},
   "outputs": [],
   "source": [
    "plt.contourf(Sinf,np.linspace(-0.2,1,30),(max_fr[:,:,0]).T,levels=1000,cmap=\"Accent\")\n",
    "plt.colorbar()\n",
    "plt.plot(Sinf,gm_l_no_d,c=\"c\")\n",
    "plt.plot(Sinf,gm_l_d,c=\"r\")\n",
    "plt.plot(Sinf,gm_u_no_d,c=\"c\")\n",
    "plt.plot(Sinf,gm_u_d,c=\"r\")"
   ]
  },
  {
   "cell_type": "code",
   "execution_count": null,
   "id": "ba667615",
   "metadata": {},
   "outputs": [],
   "source": [
    "for i in range(10):\n",
    "    plt.scatter(Sinf,gms[:,i],c=max_fr[:,i,0]/(1+Sinf**2)**(0.5),vmin=0,vmax=1)\n",
    "plt.colorbar()\n",
    "plt.plot(Sinf,gm_l_no_d,c=\"k\")\n",
    "plt.plot(Sinf,gm_l_d,c=\"r\")\n",
    "plt.plot(Sinf,gm_u_no_d,c=\"k\")\n",
    "plt.plot(Sinf,gm_u_d,c=\"r\")\n",
    "plt.hlines(0,0,2)"
   ]
  },
  {
   "cell_type": "code",
   "execution_count": null,
   "id": "3ae741c7",
   "metadata": {},
   "outputs": [],
   "source": [
    "plt.plot(N2**(0.5)*np.tan(theta)/f,max_gr[:,0])\n",
    "plt.plot(N2**(0.5)*np.tan(theta)/f,max_gr[:,1])\n",
    "plt.vlines(np.sqrt(3),-0.15,0.15)"
   ]
  },
  {
   "cell_type": "code",
   "execution_count": null,
   "id": "e9dadc85",
   "metadata": {},
   "outputs": [],
   "source": [
    "plt.plot(N2**(0.5)*np.tan(theta)/f,max_ms[:])\n",
    "# plt.plot(N2**(0.5)*np.tan(theta)/f,max_ms[:,1])\n",
    "# plt.vlines(np.sqrt(3),-0.15,0.15)\n",
    "# plt.xscale(\"log\")"
   ]
  },
  {
   "cell_type": "code",
   "execution_count": null,
   "id": "32fdaa55",
   "metadata": {},
   "outputs": [],
   "source": [
    "plt.plot(N2**(0.5)*np.tan(theta)/f,max_fr[:,0]/(N2*np.tan(theta)**2/f**2+1)**(0.5))\n",
    "plt.plot(N2**(0.5)*np.tan(theta)/f,max_fr[:,1]/(N2*np.tan(theta)**2/f**2+1)**(0.5))\n",
    "# plt.vlines(np.sqrt(3),-0.15,0.15)\n",
    "# plt.yscale(\"symlog\",linthresh=1e-3)"
   ]
  },
  {
   "cell_type": "code",
   "execution_count": null,
   "id": "e499f159",
   "metadata": {},
   "outputs": [],
   "source": [
    "plt.scatter(m,growth_rates[:,0],marker=\".\",color=\"k\")\n",
    "plt.scatter(m,growth_rates[:,1],marker=\".\",color=\"k\")\n",
    "plt.xlabel(\"Vertical Wave Mode\")\n",
    "plt.ylabel(\"Growth Rate\")\n",
    "# plt.yscale(\"symlog\",linthresh=1e-4)\n",
    "# plt.xscale(\"symlog\",linthresh=1e-2)"
   ]
  },
  {
   "cell_type": "code",
   "execution_count": null,
   "id": "03737c21",
   "metadata": {},
   "outputs": [],
   "source": [
    "plt.scatter(m,frequencies[:,0]/beta,marker=\".\",color=\"k\")\n",
    "plt.scatter(m,frequencies[:,1]/beta,marker=\".\",color=\"k\")\n",
    "# plt.hlines(0.5,0,3,color=\"k\")"
   ]
  },
  {
   "cell_type": "code",
   "execution_count": null,
   "id": "2e4349ff",
   "metadata": {},
   "outputs": [],
   "source": [
    "gr = growth_rates[np.argmax(np.abs(growth_rates[:,0])),:]\n",
    "fr = frequencies[np.argmax(np.abs(growth_rates[:,0])),:]\n",
    "m_max = m[np.argmax(np.abs(growth_rates[:,0]))]\n",
    "gr"
   ]
  },
  {
   "cell_type": "code",
   "execution_count": null,
   "id": "a5be4212",
   "metadata": {},
   "outputs": [],
   "source": []
  }
 ],
 "metadata": {
  "kernelspec": {
   "display_name": "Python 3 (ipykernel)",
   "language": "python",
   "name": "python3"
  },
  "language_info": {
   "codemirror_mode": {
    "name": "ipython",
    "version": 3
   },
   "file_extension": ".py",
   "mimetype": "text/x-python",
   "name": "python",
   "nbconvert_exporter": "python",
   "pygments_lexer": "ipython3",
   "version": "3.10.13"
  }
 },
 "nbformat": 4,
 "nbformat_minor": 5
}
