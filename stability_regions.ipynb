{
 "cells": [
  {
   "cell_type": "code",
   "execution_count": 1,
   "id": "bd53e81d",
   "metadata": {},
   "outputs": [],
   "source": [
    "import numpy as np\n",
    "import matplotlib.pyplot as plt"
   ]
  },
  {
   "cell_type": "markdown",
   "id": "79d67842",
   "metadata": {},
   "source": [
    "$$\\gamma \\geq \\dfrac{3-S^2_\\infty}{3(1+S^2_\\infty)}$$"
   ]
  },
  {
   "cell_type": "code",
   "execution_count": 2,
   "id": "bdac8f94",
   "metadata": {},
   "outputs": [],
   "source": [
    "def gamma_lower_limit_no_delta(S):\n",
    "    return (3-S**2)/(3*(1+S**2))"
   ]
  },
  {
   "cell_type": "code",
   "execution_count": 3,
   "id": "525bb4a4",
   "metadata": {},
   "outputs": [],
   "source": [
    "def gamma_upper_limit_no_delta(S):\n",
    "    return (1+S**2)**(-1)"
   ]
  },
  {
   "cell_type": "code",
   "execution_count": 4,
   "id": "d224c8c6",
   "metadata": {},
   "outputs": [],
   "source": [
    "Sinf = np.arange(-10**(-3),2.1,0.0001)\n",
    "g = gamma_lower_limit_no_delta(Sinf)"
   ]
  },
  {
   "cell_type": "code",
   "execution_count": 5,
   "id": "e13373ee",
   "metadata": {},
   "outputs": [
    {
     "data": {
      "image/png": "[encoded data removed]",
      "text/plain": [
       "<Figure size 432x288 with 1 Axes>"
      ]
     },
     "metadata": {
      "needs_background": "light"
     },
     "output_type": "display_data"
    }
   ],
   "source": [
    "plt.fill_between(Sinf,g,gamma_upper_limit_no_delta(Sinf),color=\"k\",alpha=0.2)\n",
    "plt.fill_between(Sinf,gamma_upper_limit_no_delta(Sinf),1.,color=\"b\",alpha=0.15)\n",
    "plt.plot(Sinf,gamma_upper_limit_no_delta(Sinf),c=\"k\")\n",
    "plt.plot(Sinf,g,c=\"k\")\n",
    "# plt.ylabel(r\"$\\gamma$\",fontsize=14)\n",
    "# plt.xlabel(r\"$S_\\infty$\",fontsize=14)\n",
    "# plt.text(2.5,0.5,\"Symmetrically Unstable\",fontsize=16)\n",
    "# plt.text(4,-0.15,\"PSI Unstable\",fontsize=16)\n",
    "# plt.text(0,-0.15,\"Stable\",fontsize=16)\n",
    "# plt.title(r\"Unstable Region for $\\gamma$ with respect to $S_\\infty$ and $\\delta=0$\")\n",
    "# plt.savefig(\"Stability_Diagram_delta_0.jpeg\")\n",
    "plt.show()"
   ]
  },
  {
   "cell_type": "markdown",
   "id": "5c69d93d",
   "metadata": {},
   "source": [
    "$$ \\gamma \\geq \\dfrac{3-S^2_\\infty}{3(1+S^2_\\infty)-4\\delta S^2_\\infty} $$ "
   ]
  },
  {
   "cell_type": "code",
   "execution_count": 6,
   "id": "bcf945a2",
   "metadata": {},
   "outputs": [],
   "source": [
    "def gamma_lower_limit(S,d):\n",
    "    v = (3-S**2)/(3*(1+S**2)-4*d*S**2)\n",
    "    if type(v)!=float:\n",
    "        v[v<=0]=0\n",
    "        return v\n",
    "    else:\n",
    "        return v"
   ]
  },
  {
   "cell_type": "code",
   "execution_count": 7,
   "id": "1a4818fa",
   "metadata": {},
   "outputs": [],
   "source": [
    "def gamma_lower_limit_upwelling(S,d):\n",
    "    v = (3-S**2)/(3*(1+S**2)-4*d*S**2)\n",
    "    if type(v)!=float:\n",
    "        new_array = v[v<=0]\n",
    "        new_S = S[v<=0]\n",
    "        return new_array, new_S\n",
    "    else:\n",
    "        return S, v"
   ]
  },
  {
   "cell_type": "code",
   "execution_count": 8,
   "id": "108f6d21",
   "metadata": {},
   "outputs": [],
   "source": [
    "def gamma_upper_limit(S,d):\n",
    "    return (1+(1-d)*S**2)**(-1)"
   ]
  },
  {
   "cell_type": "code",
   "execution_count": 9,
   "id": "bc324297",
   "metadata": {},
   "outputs": [
    {
     "data": {
      "text/plain": [
       "0.0"
      ]
     },
     "execution_count": 9,
     "metadata": {},
     "output_type": "execute_result"
    }
   ],
   "source": [
    "deltafix = 0.5\n",
    "gd = gamma_lower_limit(Sinf,deltafix)\n",
    "gd[-1]"
   ]
  },
  {
   "cell_type": "code",
   "execution_count": 10,
   "id": "f7099ebd",
   "metadata": {},
   "outputs": [
    {
     "data": {
      "text/plain": [
       "0.47058823529411764"
      ]
     },
     "execution_count": 10,
     "metadata": {},
     "output_type": "execute_result"
    }
   ],
   "source": [
    "gamma_upper_limit(1.5,deltafix)"
   ]
  },
  {
   "cell_type": "code",
   "execution_count": 11,
   "id": "207cee6c",
   "metadata": {},
   "outputs": [
    {
     "data": {
      "text/plain": [
       "0.14285714285714285"
      ]
     },
     "execution_count": 11,
     "metadata": {},
     "output_type": "execute_result"
    }
   ],
   "source": [
    " (gamma_lower_limit(1.5,deltafix)+ gamma_lower_limit(1.5,deltafix))/2"
   ]
  },
  {
   "cell_type": "code",
   "execution_count": 12,
   "id": "c8ba4901",
   "metadata": {},
   "outputs": [
    {
     "data": {
      "text/plain": [
       "0.14285714285714285"
      ]
     },
     "execution_count": 12,
     "metadata": {},
     "output_type": "execute_result"
    }
   ],
   "source": [
    "gamma_lower_limit(1.5,deltafix)"
   ]
  },
  {
   "cell_type": "code",
   "execution_count": 13,
   "id": "5e3044ce",
   "metadata": {},
   "outputs": [],
   "source": [
    "Sinflist = [0.1,0.1,0.1,0.5,0.5,0.5,1.0,1.0,1.0,1.5,1.5,1.5,2.0,2.0,2.0,0.25,0.25,0.25,0.75,0.75,0.75,1.25,1.25,1.25,1.75,1.75,1.75]\n",
    "gammalist = [ gamma_upper_limit(0.1,deltafix), (gamma_upper_limit(0.1,deltafix)+ gamma_lower_limit(0.1,deltafix))/2,\n",
    "                 gamma_upper_limit(0.1,deltafix),gamma_upper_limit(0.5,deltafix), \n",
    "                 (gamma_upper_limit(0.5,deltafix)+ gamma_lower_limit(0.5,deltafix))/2,\n",
    "                 gamma_lower_limit(0.5,deltafix),gamma_upper_limit(1,deltafix), \n",
    "                 (gamma_upper_limit(1,deltafix)+ gamma_lower_limit(1,deltafix))/2,\n",
    "                 gamma_lower_limit(1,deltafix),gamma_upper_limit(1.5,deltafix), \n",
    "                 (gamma_upper_limit(1.5,deltafix)+ gamma_lower_limit(1.5,deltafix))/2,\n",
    "                 gamma_lower_limit(1.5,deltafix), gamma_upper_limit(2,deltafix), \n",
    "                 (gamma_upper_limit(2,deltafix)+ gamma_lower_limit(2,deltafix))/2,\n",
    "                 0.05,gamma_upper_limit(0.25,deltafix),\n",
    "                (gamma_upper_limit(0.25,deltafix)+ gamma_lower_limit(0.25,deltafix))/2,\n",
    "                gamma_lower_limit(0.25,deltafix),gamma_upper_limit(0.75,deltafix),\n",
    "                (gamma_upper_limit(0.75,deltafix)+ gamma_lower_limit(0.75,deltafix))/2,\n",
    "                gamma_lower_limit(0.75,deltafix),gamma_upper_limit(1.25,deltafix),\n",
    "                (gamma_upper_limit(1.25,deltafix)+ gamma_lower_limit(1.25,deltafix))/2,\n",
    "                 gamma_lower_limit(1.25,deltafix),gamma_upper_limit(1.75,deltafix),\n",
    "                (gamma_upper_limit(1.75,deltafix)+ gamma_lower_limit(1.75,deltafix))/2,\n",
    "                0.05]\n",
    "growth_rates = np.array([0.2241,0.2318,0.2419,0.2029,0.2182,0.2365,0.1724,0.1883,0.1713,0.1415,0.09712,0.06245,\n",
    "                    -1,0.01693,0.02195,0.2250,0.2341,0.2345,0.1873,0.2055,0.2075,0.1582,0.1491,0.1204,0.09481,0.04663,0.01544])"
   ]
  },
  {
   "cell_type": "code",
   "execution_count": 14,
   "id": "ee99c88d",
   "metadata": {},
   "outputs": [
    {
     "data": {
      "text/plain": [
       "5e-06"
      ]
     },
     "execution_count": 14,
     "metadata": {},
     "output_type": "execute_result"
    }
   ],
   "source": [
    "1e-5*(1-gamma_lower_limit(1,deltafix))"
   ]
  },
  {
   "cell_type": "code",
   "execution_count": 16,
   "id": "875b7fca",
   "metadata": {},
   "outputs": [
    {
     "data": {
      "image/png": "[encoded data removed]",
      "text/plain": [
       "<Figure size 576x360 with 2 Axes>"
      ]
     },
     "metadata": {
      "needs_background": "light"
     },
     "output_type": "display_data"
    }
   ],
   "source": [
    "plt.figure(figsize=(8,5))\n",
    "plt.fill_between(Sinf,gd,gamma_upper_limit(Sinf,deltafix),color=\"k\",alpha=0.2)\n",
    "plt.fill_between(Sinf,gamma_upper_limit(Sinf,deltafix),1.1,color=\"b\",alpha=0.2)\n",
    "# plt.plot(Sinf,gamma_upper_limit(Sinf,deltafix),c=\"k\",alpha=0.5)\n",
    "gmu, Sm =gamma_lower_limit_upwelling(Sinf,deltafix)\n",
    "plt.fill_between(Sm,gmu,0,color=\"k\",facecolor=\"none\",alpha=0.6,hatch=\"/\")\n",
    "# plt.plot(Sinf,gd,c=\"k\",alpha=0.5)\n",
    "plt.plot(Sinf,gamma_upper_limit(Sinf,deltafix),c=\"k\",alpha=0.25)\n",
    "plt.plot(Sinf,gd,c=\"k\",alpha=0.25)\n",
    "plt.plot(Sm,gmu,c=\"k\",alpha=0.25)\n",
    "plt.scatter(Sinflist,gammalist,c=growth_rates/2,alpha=1,cmap=\"RdYlBu\",edgecolors=\"k\",vmin=0) # RdYlGn_r\n",
    "plt.colorbar(label=r\"Growth Rate [$\\omega f^{-1}$]\")\n",
    "plt.ylabel(r\"$\\gamma$\",fontsize=14)\n",
    "plt.xlabel(r\"$S_\\infty$\",fontsize=14)\n",
    "# plt.text(1.5,0.8,\"SI\",fontsize=16)\n",
    "# plt.text(1.5,0.25,\"PSI\",fontsize=16)\n",
    "# plt.text(0.4,0.25,\"Stable\",fontsize=16)\n",
    "# plt.title(r\"Unstable Region for $S_\\infty$ vs and $\\delta=0.1$\")\n",
    "plt.ylim([-0.2,1.1])\n",
    "plt.xlim([0,2.1])\n",
    "plt.savefig(\"Stability_Diagram_delta_0_5_grwth_rt.png\")\n",
    "# plt.yscale(\"symlog\",linthresh=1e-3)\n",
    "plt.show()"
   ]
  },
  {
   "cell_type": "code",
   "execution_count": null,
   "id": "38652edb",
   "metadata": {},
   "outputs": [],
   "source": [
    "delta = np.arange(0,1,0.001)\n",
    "Sfix = 1 #np.sqrt(3.1)#np.arange(0,3,0.003) #np.sqrt(3)#(1e-5/5)**(0.5)*(5*10**(-3))*1e4\n",
    "gd2 = gamma_lower_limit(Sfix,delta)"
   ]
  },
  {
   "cell_type": "code",
   "execution_count": null,
   "id": "49fb7232",
   "metadata": {},
   "outputs": [],
   "source": [
    "def gamma_lower_limit_unconstrained(S,d):\n",
    "    v = (3-S**2)/(3*(1+S**2)-4*d*S**2)\n",
    "    v[v<=0]=0\n",
    "    print(v)\n",
    "    return v"
   ]
  },
  {
   "cell_type": "code",
   "execution_count": null,
   "id": "a1e59385",
   "metadata": {},
   "outputs": [],
   "source": [
    "def gamma_mid_limit_unconstrained(S,d):\n",
    "    v = ((3-S**2)/(3*(1+S**2)-4*d*S**2)+(1+(1-d)*S**2)**(-1))/2\n",
    "    return v"
   ]
  },
  {
   "cell_type": "code",
   "execution_count": null,
   "id": "525e4457",
   "metadata": {},
   "outputs": [],
   "source": [
    "def gamma_three_quarter_limit_unconstrained(S,d):\n",
    "    v = ((3-S**2)/(3*(1+S**2)-4*d*S**2)+3*(1+(1-d)*S**2)**(-1))/4\n",
    "    return v"
   ]
  },
  {
   "cell_type": "code",
   "execution_count": null,
   "id": "cd23cb23",
   "metadata": {},
   "outputs": [],
   "source": []
  },
  {
   "cell_type": "code",
   "execution_count": null,
   "id": "9eb49fae",
   "metadata": {},
   "outputs": [],
   "source": [
    "gd_nl = gamma_lower_limit_unconstrained(Sinf,0.5)\n",
    "gul = gamma_upper_limit(Sinf,deltafix)\n",
    "plt.figure(figsize=(8,5))\n",
    "plt.plot(Sinf,Sinf**2*gul,c=\"k\",label=r\"$\\gamma^*_u$\",linestyle=\"-\")\n",
    "# plt.plot(Sinf,Sinf**2*gamma_three_quarter_limit_unconstrained(Sinf,0.5),c=\"k\",label=r\"$\\gamma_{3/4}$\",linestyle=\"--\")\n",
    "plt.plot(Sinf,Sinf**2*gamma_mid_limit_unconstrained(Sinf,0.5),c=\"k\",label=r\"$\\gamma_m$\",linestyle=\"-.\")\n",
    "plt.plot(Sinf,Sinf**2*gd_nl,c=\"k\",label=r\"$\\gamma^*_l$\",linestyle=\":\")\n",
    "plt.ylabel(r\"$LBP/VBP$\",fontsize=14)\n",
    "plt.xlabel(r\"$S_\\infty$\",fontsize=14)\n",
    "plt.xlim([0,2.1])\n",
    "plt.legend()\n",
    "plt.show()"
   ]
  },
  {
   "cell_type": "code",
   "execution_count": null,
   "id": "bb938dfe",
   "metadata": {},
   "outputs": [],
   "source": [
    "0.75*(1+(2)**(-2))"
   ]
  },
  {
   "cell_type": "code",
   "execution_count": null,
   "id": "880dfeff",
   "metadata": {
    "scrolled": true
   },
   "outputs": [],
   "source": [
    "plt.fill_between(delta,gd2,gamma_upper_limit(Sfix,delta),color=\"k\",alpha=0.2)\n",
    "plt.fill_between(delta,gamma_upper_limit(Sfix,delta),1,color=\"b\",alpha=0.2)\n",
    "plt.plot(delta,gd2,c=\"k\")\n",
    "plt.plot(delta,gamma_upper_limit(Sfix,delta),c=\"k\")\n",
    "# plt.hlines(gamma_upper_limit_no_delta(Sfix),xmin=0,xmax=1,color=\"b\",alpha=0.2)\n",
    "# plt.hlines(gamma_lower_limit_no_delta(Sfix),xmin=0,xmax=1,color=\"b\",alpha=0.2)\n",
    "\n",
    "plt.ylabel(r\"$\\gamma$\",fontsize=14)\n",
    "plt.xlabel(r\"$\\delta$\",fontsize=14)\n",
    "plt.text(0.4,0.8,\"SI\",fontsize=16)\n",
    "plt.text(0.39,0.55,\"PSI\",fontsize=16)\n",
    "plt.text(0.7,0.55,\"Stable\",fontsize=16)\n",
    "# plt.ylim([0,1.02])\n",
    "# plt.title(r\"Unstable Region for $\\gamma$ for $S_\\infty=1$ and $\\delta$\")\n",
    "plt.savefig(\"Stability_Diagram_S_inf_1.jpeg\")\n",
    "plt.show()"
   ]
  },
  {
   "cell_type": "code",
   "execution_count": null,
   "id": "45d247b6",
   "metadata": {},
   "outputs": [],
   "source": [
    "np.sqrt(3)+1e-4"
   ]
  },
  {
   "cell_type": "code",
   "execution_count": null,
   "id": "ecd9c4a5",
   "metadata": {},
   "outputs": [],
   "source": [
    "Sinf[17331]"
   ]
  },
  {
   "cell_type": "code",
   "execution_count": null,
   "id": "bbef6a8f",
   "metadata": {},
   "outputs": [],
   "source": [
    "Sinf[1.7320==Sinf]"
   ]
  },
  {
   "cell_type": "code",
   "execution_count": null,
   "id": "de9197dd",
   "metadata": {},
   "outputs": [],
   "source": [
    "fig, axs = plt.subplots(1,2,sharey=False,figsize=(12,4))\n",
    "axs[0].fill_between(Sinf,gd,gamma_upper_limit(Sinf,deltafix),color=\"k\",alpha=0.2)\n",
    "axs[0].fill_between(Sinf,gamma_upper_limit(Sinf,deltafix),1,color=\"b\",alpha=0.2)\n",
    "gmu, Sm =gamma_lower_limit_upwelling(Sinf,deltafix)\n",
    "axs[0].fill_between(Sm,gmu,0,color=\"k\",facecolor=\"none\",alpha=1,hatch=\"/\")\n",
    "axs[0].plot(Sinf,gamma_upper_limit(Sinf,deltafix),c=\"k\")\n",
    "axs[0].plot(Sinf,gd,c=\"k\")\n",
    "axs[0].plot(Sm,gmu,c=\"k\")\n",
    "axs[0].set_ylabel(r\"$\\gamma$\",fontsize=14)\n",
    "axs[0].set_xlabel(r\"$S_\\infty$\",fontsize=14)\n",
    "axs[0].set_xlim([0,2])\n",
    "axs[0].set_ylim([-0.15,1])\n",
    "axs[0].text(1.5,0.8,\"SI\",fontsize=16)\n",
    "axs[0].text(1.5,0.25,\"PSI\",fontsize=16)\n",
    "axs[0].text(0.4,0.25,\"Stable\",fontsize=16)\n",
    "axs[0].text(0,1.025,\"(a.)\")\n",
    "axs[1].fill_between(delta,gd2,gamma_upper_limit(Sfix,delta),color=\"k\",alpha=0.2)\n",
    "axs[1].fill_between(delta,gamma_upper_limit(Sfix,delta),1,color=\"b\",alpha=0.2)\n",
    "axs[1].plot(delta,gd2,c=\"k\")\n",
    "axs[1].plot(delta,gamma_upper_limit(Sfix,delta),c=\"k\")\n",
    "# axs[1].set_ylabel(r\"$\\gamma$\",fontsize=14)\n",
    "axs[1].set_xlabel(r\"$\\delta$\",fontsize=14)\n",
    "axs[1].text(0.4,0.8,\"SI\",fontsize=16)\n",
    "axs[1].text(0.39,0.55,\"PSI\",fontsize=16)\n",
    "axs[1].text(0.75,0.55,\"Stable\",fontsize=16)\n",
    "axs[1].set_xlim([0,1])\n",
    "axs[1].set_ylim([0.3,1])\n",
    "axs[1].text(0,1.015,\"(b.)\")\n",
    "plt.savefig(\"parameter_space_figure.pdf\")"
   ]
  },
  {
   "cell_type": "code",
   "execution_count": null,
   "id": "a84bb6ab",
   "metadata": {},
   "outputs": [],
   "source": [
    "# plt.fill_between(delta,Sfix,gamma_upper_limit(Sfix,delta),color=\"k\",alpha=0.2)\n",
    "# plt.fill_between(delta,gamma_upper_limit(Sfix,delta),1,color=\"b\",alpha=0.2)\n",
    "plt.contourf(delta,Sfix,gd2,c=\"k\")\n",
    "plt.plot(delta,gamma_upper_limit(Sfix,delta),c=\"k\")\n",
    "# plt.hlines(gamma_upper_limit_no_delta(Sfix),xmin=0,xmax=1,color=\"b\",alpha=0.2)\n",
    "# plt.hlines(gamma_lower_limit_no_delta(Sfix),xmin=0,xmax=1,color=\"b\",alpha=0.2)\n",
    "\n",
    "# plt.ylabel(r\"$\\gamma$\",fontsize=14)\n",
    "# plt.xlabel(r\"$\\delta$\",fontsize=14)\n",
    "# plt.text(0.4,0.8,\"SI\",fontsize=16)\n",
    "# plt.text(0.39,0.53,\"PSI\",fontsize=16)\n",
    "# plt.text(0.7,0.45,\"Stable\",fontsize=16)\n",
    "# plt.title(r\"Unstable Region for $\\gamma$ for $S_\\infty=1$ and $\\delta$\")\n",
    "plt.show()"
   ]
  },
  {
   "cell_type": "code",
   "execution_count": null,
   "id": "06a118b6",
   "metadata": {},
   "outputs": [],
   "source": [
    "plt.fill_between(delta,gd2,1.)\n",
    "plt.plot(delta,gd2,c=\"k\")"
   ]
  },
  {
   "cell_type": "code",
   "execution_count": null,
   "id": "00816cb4",
   "metadata": {},
   "outputs": [],
   "source": [
    "f = 1e-4\n",
    "N2 = Sinf**2*f**2/(5e-3)**2"
   ]
  },
  {
   "cell_type": "code",
   "execution_count": null,
   "id": "5fd68f5b",
   "metadata": {},
   "outputs": [],
   "source": [
    "plt.fill_between(Sinf,(1-gd*(1+Sinf**2)+gd*deltafix*Sinf**2),(1-gamma_upper_limit(Sinf,deltafix)*(1+Sinf**2)+gamma_upper_limit(Sinf,deltafix)*deltafix*Sinf**2),color=\"k\",alpha=0.2) #,hatch=\".\"\n",
    "plt.fill_between(Sinf,10**(-20),(1-gamma_upper_limit(Sinf,deltafix)*(1+Sinf**2)+gamma_upper_limit(Sinf,deltafix)*deltafix*Sinf**2),color=\"b\",alpha=0.2)\n",
    "plt.plot(Sinf,(1-gamma_upper_limit(Sinf,deltafix)*(1+Sinf**2)+gamma_upper_limit(Sinf,deltafix)*deltafix*Sinf**2),c=\"k\")\n",
    "plt.plot(Sinf,(1-gd*(1+Sinf**2)+gd*deltafix*Sinf**2),c=\"k\")\n",
    "plt.ylabel(r\"$\\dfrac{q}{q_{\\infty}}$\",fontsize=14)\n",
    "plt.xlabel(r\"$S_\\infty$\",fontsize=14)\n",
    "plt.text(0.4,1.25,\"Stable\",fontsize=16)\n",
    "plt.text(1.5,0.25,\"PSI Unstable\",fontsize=16)\n",
    "# plt.yscale(\"log\")\n",
    "# plt.title(r\"PV for $\\gamma$ for $S_\\infty$ and $\\delta=0.5$\")\n",
    "plt.savefig(\"PV_values_delta_0_5.pdf\")\n",
    "plt.show()"
   ]
  },
  {
   "cell_type": "code",
   "execution_count": null,
   "id": "04a5441f",
   "metadata": {},
   "outputs": [],
   "source": [
    "def omega_permitted(vo,gamma,S,t):\n",
    "    top = 1e-4*(1-gamma*(1+S)+1e4*t*vo)\n",
    "    bottom = 1-gamma\n",
    "    return 2*np.sqrt(top/bottom)"
   ]
  },
  {
   "cell_type": "code",
   "execution_count": null,
   "id": "701a8229",
   "metadata": {},
   "outputs": [],
   "source": []
  },
  {
   "cell_type": "code",
   "execution_count": null,
   "id": "d8fe9ab5",
   "metadata": {},
   "outputs": [],
   "source": []
  },
  {
   "cell_type": "code",
   "execution_count": null,
   "id": "05ccee26",
   "metadata": {},
   "outputs": [],
   "source": [
    "vo = np.arange(0,1,1e-5)"
   ]
  },
  {
   "cell_type": "code",
   "execution_count": null,
   "id": "1a4890ae",
   "metadata": {},
   "outputs": [],
   "source": [
    "plt.plot(vo,omega_permitted(vo,0.5,1,5e-3),c=\"k\")\n",
    "plt.fill_between(vo,0,omega_permitted(vo,0.5,1,5e-3),color=\"k\",alpha=0.2,hatch=\"/\")\n",
    "plt.xlabel(r\"$v_o$ magnitude\")\n",
    "plt.ylabel(\"Frequency\")\n",
    "plt.title(r\"Frequency for $\\gamma=0.5$, $S_\\infty^2=1$, and $\\theta=5\\times 10^{-3}$\")\n",
    "plt.text(3e-4,2e-3,\"Unstable Frequencies\",fontsize=16)\n",
    "plt.text(1e-5,5e-3,\"Stable Frequencies\",fontsize=16)\n",
    "plt.show()"
   ]
  },
  {
   "cell_type": "code",
   "execution_count": null,
   "id": "23a8a715",
   "metadata": {},
   "outputs": [],
   "source": [
    "def omega_permitted_our_setup(gamma,S,delta):\n",
    "    top = 1e-4*(1-gamma*(1+S)+delta*S*gamma)\n",
    "    bottom = 1-gamma\n",
    "    return 2*np.sqrt(top/bottom)"
   ]
  },
  {
   "cell_type": "code",
   "execution_count": null,
   "id": "96f9e9b9",
   "metadata": {},
   "outputs": [],
   "source": [
    "def gamma_upper_limit_adj(S,d):\n",
    "    return 0.999*((1+S**2)-d*S**2)**(-1)"
   ]
  },
  {
   "cell_type": "code",
   "execution_count": null,
   "id": "2fdd0f77",
   "metadata": {},
   "outputs": [],
   "source": [
    "dt_l = np.arange(0,1,0.01)"
   ]
  },
  {
   "cell_type": "code",
   "execution_count": null,
   "id": "f9a99b4e",
   "metadata": {},
   "outputs": [],
   "source": [
    "plt.plot(dt_l,omega_permitted_our_setup(-1,1,dt_l),c=\"k\")\n",
    "plt.fill_between(dt_l,1e-6,omega_permitted_our_setup(-1,1,dt_l),color=\"k\",alpha=0.2,hatch=\"/\")\n",
    "plt.hlines(1e-4*np.sqrt(2),xmin=dt_l[0],xmax=dt_l[-1],color=\"r\")\n",
    "plt.xlabel(r\"$\\delta$\")\n",
    "plt.ylabel(\"Frequency\")\n",
    "# plt.yscale(\"log\")\n",
    "plt.title(r\"Frequency for $\\gamma=0.999\\gamma^u$, $S_\\infty^2=1$, and $\\delta$ vary\")\n",
    "# plt.text(0.21,8e-3,\"Unstable Frequencies\",fontsize=16)\n",
    "# plt.text(0.3,5e-3,\"Stable Frequencies\",fontsize=16)\n",
    "plt.show()"
   ]
  },
  {
   "cell_type": "code",
   "execution_count": null,
   "id": "5c4f8275",
   "metadata": {},
   "outputs": [],
   "source": [
    "plt.plot(dt_l,omega_permitted_our_setup(gamma_lower_limit(1,dt_l),1,dt_l),c=\"k\")\n",
    "plt.fill_between(dt_l,1e-6,omega_permitted_our_setup(gamma_lower_limit(1,dt_l),1,dt_l),color=\"k\",alpha=0.2,hatch=\"/\")\n",
    "plt.hlines(1e-4*np.sqrt(2),xmin=dt_l[0],xmax=dt_l[-1],color=\"r\")\n",
    "plt.xlabel(r\"$\\delta$\")\n",
    "plt.ylabel(\"Frequency\")\n",
    "# plt.yscale(\"log\")\n",
    "plt.title(r\"Frequency for $\\gamma=\\gamma^l$, $S_\\infty^2=1$ and $\\delta$ vary\")\n",
    "plt.text(0.21,8e-3,\"Unstable Frequencies\",fontsize=16)\n",
    "# plt.text(0.3,5e-3,\"Stable Frequencies\",fontsize=16)\n",
    "plt.show()"
   ]
  },
  {
   "cell_type": "code",
   "execution_count": null,
   "id": "cb6193bb",
   "metadata": {},
   "outputs": [],
   "source": []
  }
 ],
 "metadata": {
  "kernelspec": {
   "display_name": "Python 3 (ipykernel)",
   "language": "python",
   "name": "python3"
  },
  "language_info": {
   "codemirror_mode": {
    "name": "ipython",
    "version": 3
   },
   "file_extension": ".py",
   "mimetype": "text/x-python",
   "name": "python",
   "nbconvert_exporter": "python",
   "pygments_lexer": "ipython3",
   "version": "3.8.10"
  }
 },
 "nbformat": 4,
 "nbformat_minor": 5
}
