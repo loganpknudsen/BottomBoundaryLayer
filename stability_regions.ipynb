{
 "cells": [
  {
   "cell_type": "code",
   "execution_count": null,
   "id": "bd53e81d",
   "metadata": {},
   "outputs": [],
   "source": [
    "import numpy as np\n",
    "import matplotlib.pyplot as plt"
   ]
  },
  {
   "cell_type": "markdown",
   "id": "79d67842",
   "metadata": {},
   "source": [
    "$$\\gamma \\geq \\dfrac{3-S^2_\\infty}{3(1+S^2_\\infty)}$$"
   ]
  },
  {
   "cell_type": "code",
   "execution_count": null,
   "id": "bdac8f94",
   "metadata": {},
   "outputs": [],
   "source": [
    "def gamma_lower_limit_no_delta(S):\n",
    "    return (3-S**2)/(3*(1+S**2))"
   ]
  },
  {
   "cell_type": "code",
   "execution_count": null,
   "id": "525bb4a4",
   "metadata": {},
   "outputs": [],
   "source": [
    "def gamma_upper_limit_no_delta(S):\n",
    "    return (1+S**2)**(-1)"
   ]
  },
  {
   "cell_type": "code",
   "execution_count": null,
   "id": "d224c8c6",
   "metadata": {},
   "outputs": [],
   "source": [
    "Sinf = np.arange(-10**(-3),1*10**(1),0.0001)\n",
    "g = gamma_lower_limit_no_delta(Sinf)"
   ]
  },
  {
   "cell_type": "code",
   "execution_count": null,
   "id": "e13373ee",
   "metadata": {},
   "outputs": [],
   "source": [
    "plt.fill_between(Sinf,g,gamma_upper_limit_no_delta(Sinf),color=\"k\",alpha=0.2)\n",
    "plt.fill_between(Sinf,gamma_upper_limit_no_delta(Sinf),1.01,color=\"b\",alpha=0.2)\n",
    "plt.plot(Sinf,gamma_upper_limit_no_delta(Sinf),c=\"k\")\n",
    "plt.plot(Sinf,g,c=\"k\")\n",
    "plt.ylabel(r\"$\\gamma$\",fontsize=14)\n",
    "plt.xlabel(r\"$S_\\infty$\",fontsize=14)\n",
    "plt.text(2.5,0.5,\"Symmetrically Unstable\",fontsize=16)\n",
    "plt.text(4,-0.15,\"PSI Unstable\",fontsize=16)\n",
    "plt.text(0,-0.15,\"Stable\",fontsize=16)\n",
    "plt.title(r\"Unstable Region for $\\gamma$ with respect to $S_\\infty$ and $\\delta=0$\")\n",
    "plt.savefig(\"Stability_Diagram_delta_0.jpeg\")\n",
    "plt.show()"
   ]
  },
  {
   "cell_type": "markdown",
   "id": "5c69d93d",
   "metadata": {},
   "source": [
    "$$ \\gamma \\geq \\dfrac{3-S^2_\\infty}{3(1+S^2_\\infty)-4\\delta S^2_\\infty} $$ "
   ]
  },
  {
   "cell_type": "code",
   "execution_count": null,
   "id": "bcf945a2",
   "metadata": {},
   "outputs": [],
   "source": [
    "def gamma_lower_limit(S,d):\n",
    "    return (3-S**2)/(3*(1+S**2)-4*d*S**2)"
   ]
  },
  {
   "cell_type": "code",
   "execution_count": null,
   "id": "108f6d21",
   "metadata": {},
   "outputs": [],
   "source": [
    "def gamma_upper_limit(S,d):\n",
    "    return ((1+S**2)-d*S**2)**(-1)"
   ]
  },
  {
   "cell_type": "code",
   "execution_count": null,
   "id": "bc324297",
   "metadata": {},
   "outputs": [],
   "source": [
    "deltafix = 0.5\n",
    "gd = gamma_lower_limit(Sinf,deltafix)"
   ]
  },
  {
   "cell_type": "code",
   "execution_count": null,
   "id": "875b7fca",
   "metadata": {},
   "outputs": [],
   "source": [
    "plt.fill_between(Sinf,gd,gamma_upper_limit(Sinf,deltafix),color=\"k\",alpha=0.2)\n",
    "plt.fill_between(Sinf,gamma_upper_limit(Sinf,deltafix),1.01,color=\"b\",alpha=0.2)\n",
    "plt.plot(Sinf,gamma_upper_limit(Sinf,deltafix),c=\"k\")\n",
    "plt.plot(Sinf,gd,c=\"k\")\n",
    "plt.ylabel(r\"$\\gamma$\",fontsize=14)\n",
    "plt.xlabel(r\"$S_\\infty$\",fontsize=14)\n",
    "plt.text(2.5,0.5,\"Symmetrically Unstable\",fontsize=16)\n",
    "plt.text(4,-0.4,\"PSI Unstable\",fontsize=16)\n",
    "plt.text(0,-0.5,\"Stable\",fontsize=16)\n",
    "plt.title(r\"Unstable Region for $\\gamma$ for $S_\\infty$ and $\\delta=0.5$\")\n",
    "plt.savefig(\"Stability_Diagram_delta_0_5.jpeg\")\n",
    "plt.show()"
   ]
  },
  {
   "cell_type": "code",
   "execution_count": null,
   "id": "d7e6d45b",
   "metadata": {},
   "outputs": [],
   "source": [
    "((1e-5)**(0.5)*(5*10**(-3))*1e4)"
   ]
  },
  {
   "cell_type": "code",
   "execution_count": null,
   "id": "38652edb",
   "metadata": {},
   "outputs": [],
   "source": [
    "delta = np.arange(0,1,0.001)\n",
    "Sfix = (1e-5)**(0.5)*(5*10**(-3))*1e4\n",
    "gd2 = gamma_lower_limit(Sfix,delta)"
   ]
  },
  {
   "cell_type": "code",
   "execution_count": null,
   "id": "880dfeff",
   "metadata": {},
   "outputs": [],
   "source": [
    "plt.fill_between(delta,gd2,gamma_upper_limit(Sfix,delta),color=\"k\",alpha=0.2)\n",
    "plt.fill_between(delta,gamma_upper_limit(Sfix,delta),1,color=\"b\",alpha=0.2)\n",
    "plt.plot(delta,gd2,c=\"k\")\n",
    "plt.plot(delta,gamma_upper_limit(Sfix,delta),c=\"k\")\n",
    "plt.ylabel(r\"$\\gamma$\",fontsize=14)\n",
    "plt.xlabel(r\"$\\delta$\",fontsize=14)\n",
    "# plt.text(0.2,0.6,\"Symmetrically Unstable\",fontsize=16)\n",
    "# plt.text(0.35,0.425,\"PSI Unstable\",fontsize=16)\n",
    "plt.title(r\"Unstable Region for $\\gamma$ for $S_\\infty=1$ and $\\delta$\")\n",
    "plt.show()"
   ]
  },
  {
   "cell_type": "code",
   "execution_count": null,
   "id": "06a118b6",
   "metadata": {},
   "outputs": [],
   "source": [
    "plt.fill_between(delta,gd2,1.)\n",
    "plt.plot(delta,gd2,c=\"k\")"
   ]
  },
  {
   "cell_type": "code",
   "execution_count": null,
   "id": "00816cb4",
   "metadata": {},
   "outputs": [],
   "source": [
    "f = 1e-4\n",
    "N2 = Sinf**2*f**2/(5e-3)**2"
   ]
  },
  {
   "cell_type": "code",
   "execution_count": null,
   "id": "5fd68f5b",
   "metadata": {},
   "outputs": [],
   "source": [
    "plt.fill_between(Sinf,(1-gd*(1+Sinf**2)+gd*deltafix*Sinf**2),(1-gamma_upper_limit(Sinf,deltafix)*(1+Sinf**2)+gamma_upper_limit(Sinf,deltafix)*deltafix*Sinf**2),color=\"k\",alpha=0.2) #,hatch=\".\"\n",
    "plt.fill_between(Sinf,10**(-20),(1-gamma_upper_limit(Sinf,deltafix)*(1+Sinf**2)+gamma_upper_limit(Sinf,deltafix)*deltafix*Sinf**2),color=\"b\",alpha=0.2)\n",
    "plt.plot(Sinf,(1-gamma_upper_limit(Sinf,deltafix)*(1+Sinf**2)+gamma_upper_limit(Sinf,deltafix)*deltafix*Sinf**2),c=\"k\")\n",
    "plt.plot(Sinf,(1-gd*(1+Sinf**2)+gd*deltafix*Sinf**2),c=\"k\")\n",
    "plt.ylabel(r\"$\\dfrac{q}{q_{\\infty}}$\",fontsize=14)\n",
    "plt.xlabel(r\"$S_\\infty$\",fontsize=14)\n",
    "plt.text(2,25,\"Stable\",fontsize=16)\n",
    "plt.text(6,10,\"PSI Unstable\",fontsize=16)\n",
    "# plt.yscale(\"log\")\n",
    "plt.title(r\"PV for $\\gamma$ for $S_\\infty$ and $\\delta=0.5$\")\n",
    "plt.savefig(\"PV_values_delta_0_5.pdf\")\n",
    "plt.show()"
   ]
  },
  {
   "cell_type": "code",
   "execution_count": null,
   "id": "04a5441f",
   "metadata": {},
   "outputs": [],
   "source": [
    "def omega_permitted(vo,gamma,S,t):\n",
    "    top = 1e-4*(1-gamma*(1+S)+1e4*t*vo)\n",
    "    bottom = 1-gamma\n",
    "    return 2*np.sqrt(top/bottom)"
   ]
  },
  {
   "cell_type": "code",
   "execution_count": null,
   "id": "dac2f83c",
   "metadata": {},
   "outputs": [],
   "source": []
  },
  {
   "cell_type": "code",
   "execution_count": null,
   "id": "05ccee26",
   "metadata": {},
   "outputs": [],
   "source": [
    "vo = np.arange(0,1,1e-5)"
   ]
  },
  {
   "cell_type": "code",
   "execution_count": null,
   "id": "1a4890ae",
   "metadata": {},
   "outputs": [],
   "source": [
    "plt.plot(vo,omega_permitted(vo,0.5,1,5e-3),c=\"k\")\n",
    "plt.fill_between(vo,0,omega_permitted(vo,0.5,1,5e-3),color=\"k\",alpha=0.2,hatch=\"/\")\n",
    "plt.xlabel(r\"$v_o$ magnitude\")\n",
    "plt.ylabel(\"Frequency\")\n",
    "plt.title(r\"Frequency for $\\gamma=0.5$, $S_\\infty^2=1$, and $\\theta=5\\times 10^{-3}$\")\n",
    "plt.text(3e-4,2e-3,\"Unstable Frequencies\",fontsize=16)\n",
    "plt.text(1e-5,5e-3,\"Stable Frequencies\",fontsize=16)\n",
    "plt.show()"
   ]
  },
  {
   "cell_type": "code",
   "execution_count": null,
   "id": "23a8a715",
   "metadata": {},
   "outputs": [],
   "source": [
    "def omega_permitted_our_setup(gamma,S,delta):\n",
    "    top = 1e-4*(1-gamma*(1+S)+delta*S*gamma)\n",
    "    bottom = 1-gamma\n",
    "    return 2*np.sqrt(top/bottom)"
   ]
  },
  {
   "cell_type": "code",
   "execution_count": null,
   "id": "96f9e9b9",
   "metadata": {},
   "outputs": [],
   "source": [
    "def gamma_upper_limit_adj(S,d):\n",
    "    return 0.999*((1+S**2)-d*S**2)**(-1)"
   ]
  },
  {
   "cell_type": "code",
   "execution_count": null,
   "id": "2fdd0f77",
   "metadata": {},
   "outputs": [],
   "source": [
    "dt_l = np.arange(0,1,0.01)"
   ]
  },
  {
   "cell_type": "code",
   "execution_count": null,
   "id": "f9a99b4e",
   "metadata": {},
   "outputs": [],
   "source": [
    "plt.plot(dt_l,omega_permitted_our_setup(-1,1,dt_l),c=\"k\")\n",
    "plt.fill_between(dt_l,1e-6,omega_permitted_our_setup(-1,1,dt_l),color=\"k\",alpha=0.2,hatch=\"/\")\n",
    "plt.hlines(1e-4*np.sqrt(2),xmin=dt_l[0],xmax=dt_l[-1],color=\"r\")\n",
    "plt.xlabel(r\"$\\delta$\")\n",
    "plt.ylabel(\"Frequency\")\n",
    "# plt.yscale(\"log\")\n",
    "plt.title(r\"Frequency for $\\gamma=0.999\\gamma^u$, $S_\\infty^2=1$, and $\\delta$ vary\")\n",
    "# plt.text(0.21,8e-3,\"Unstable Frequencies\",fontsize=16)\n",
    "# plt.text(0.3,5e-3,\"Stable Frequencies\",fontsize=16)\n",
    "plt.show()"
   ]
  },
  {
   "cell_type": "code",
   "execution_count": null,
   "id": "5c4f8275",
   "metadata": {},
   "outputs": [],
   "source": [
    "plt.plot(dt_l,omega_permitted_our_setup(gamma_lower_limit(1,dt_l),1,dt_l),c=\"k\")\n",
    "plt.fill_between(dt_l,1e-6,omega_permitted_our_setup(gamma_lower_limit(1,dt_l),1,dt_l),color=\"k\",alpha=0.2,hatch=\"/\")\n",
    "plt.hlines(1e-4*np.sqrt(2),xmin=dt_l[0],xmax=dt_l[-1],color=\"r\")\n",
    "plt.xlabel(r\"$\\delta$\")\n",
    "plt.ylabel(\"Frequency\")\n",
    "# plt.yscale(\"log\")\n",
    "plt.title(r\"Frequency for $\\gamma=\\gamma^l$, $S_\\infty^2=1$ and $\\delta$ vary\")\n",
    "plt.text(0.21,8e-3,\"Unstable Frequencies\",fontsize=16)\n",
    "# plt.text(0.3,5e-3,\"Stable Frequencies\",fontsize=16)\n",
    "plt.show()"
   ]
  },
  {
   "cell_type": "code",
   "execution_count": null,
   "id": "cb6193bb",
   "metadata": {},
   "outputs": [],
   "source": []
  }
 ],
 "metadata": {
  "kernelspec": {
   "display_name": "Python 3 (ipykernel)",
   "language": "python",
   "name": "python3"
  },
  "language_info": {
   "codemirror_mode": {
    "name": "ipython",
    "version": 3
   },
   "file_extension": ".py",
   "mimetype": "text/x-python",
   "name": "python",
   "nbconvert_exporter": "python",
   "pygments_lexer": "ipython3",
   "version": "3.8.10"
  }
 },
 "nbformat": 4,
 "nbformat_minor": 5
}
