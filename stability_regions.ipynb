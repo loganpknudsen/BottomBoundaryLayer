{
 "cells": [
  {
   "cell_type": "code",
   "execution_count": null,
   "id": "bd53e81d",
   "metadata": {},
   "outputs": [],
   "source": [
    "import numpy as np\n",
    "import matplotlib.pyplot as plt"
   ]
  },
  {
   "cell_type": "markdown",
   "id": "79d67842",
   "metadata": {},
   "source": [
    "$$\\gamma \\geq \\dfrac{3-S^2_\\infty}{3(1+S^2_\\infty)}$$"
   ]
  },
  {
   "cell_type": "code",
   "execution_count": null,
   "id": "bdac8f94",
   "metadata": {},
   "outputs": [],
   "source": [
    "def gamma(S):\n",
    "    return (3-S**2)/(3*(1+S**2))"
   ]
  },
  {
   "cell_type": "code",
   "execution_count": null,
   "id": "525bb4a4",
   "metadata": {},
   "outputs": [],
   "source": [
    "def gamma0(S):\n",
    "    return (1+S**2)**(-1)"
   ]
  },
  {
   "cell_type": "code",
   "execution_count": null,
   "id": "d224c8c6",
   "metadata": {},
   "outputs": [],
   "source": [
    "Sinf = np.arange(-10**(-3),1*10**(1),0.0001)\n",
    "g = gamma(Sinf)"
   ]
  },
  {
   "cell_type": "code",
   "execution_count": null,
   "id": "e13373ee",
   "metadata": {},
   "outputs": [],
   "source": [
    "plt.fill_between(Sinf,g,gamma0(Sinf),color=\"k\",alpha=0.2)\n",
    "plt.fill_between(Sinf,gamma0(Sinf),1.01,color=\"b\",alpha=0.2)\n",
    "plt.plot(Sinf,gamma0(Sinf),c=\"k\")\n",
    "plt.plot(Sinf,g,c=\"k\")\n",
    "plt.ylabel(\"$\\gamma$\",fontsize=14)\n",
    "plt.xlabel(\"$S_\\infty$\",fontsize=14)\n",
    "plt.text(2.5,0.5,\"Symmetrically Unstable\",fontsize=16)\n",
    "plt.text(4,-0.15,\"PSI Unstable\",fontsize=16)\n",
    "plt.title(\"Unstable Region for $\\gamma$ with respect to $S_\\infty$\")\n",
    "plt.show()"
   ]
  },
  {
   "cell_type": "markdown",
   "id": "5c69d93d",
   "metadata": {},
   "source": [
    "$$ \\gamma \\geq \\dfrac{3-S^2_\\infty}{3(1+S^2_\\infty)-\\delta S^2_\\infty} $$ "
   ]
  },
  {
   "cell_type": "code",
   "execution_count": null,
   "id": "bcf945a2",
   "metadata": {},
   "outputs": [],
   "source": [
    "def gammad(S,d):\n",
    "    return (3-S**2)/(3*(1+S**2)-d*S**2)"
   ]
  },
  {
   "cell_type": "code",
   "execution_count": null,
   "id": "bc324297",
   "metadata": {},
   "outputs": [],
   "source": [
    "deltafix = 0.5\n",
    "gd = gammad(Sinf,deltafix)"
   ]
  },
  {
   "cell_type": "code",
   "execution_count": null,
   "id": "875b7fca",
   "metadata": {},
   "outputs": [],
   "source": [
    "plt.fill_between(Sinf,gd,gamma0(Sinf),color=\"k\",alpha=0.2)\n",
    "plt.fill_between(Sinf,gamma0(Sinf),1.01,color=\"b\",alpha=0.2)\n",
    "plt.plot(Sinf,gamma0(Sinf),c=\"k\")\n",
    "plt.plot(Sinf,gd,c=\"k\")\n",
    "plt.ylabel(\"$\\gamma$\",fontsize=14)\n",
    "plt.xlabel(\"$S_\\infty$\",fontsize=14)\n",
    "plt.text(2.5,0.5,\"Symmetrically Unstable\",fontsize=16)\n",
    "plt.text(4,-0.2,\"PSI Unstable\",fontsize=16)\n",
    "plt.title(\"Unstable Region for $\\gamma$ for $S_\\infty$ and $\\delta=0.5$\")\n",
    "plt.show()"
   ]
  },
  {
   "cell_type": "code",
   "execution_count": null,
   "id": "d7e6d45b",
   "metadata": {},
   "outputs": [],
   "source": [
    "((1e-5)**(0.5)*(5*10**(-3))*1e4)"
   ]
  },
  {
   "cell_type": "code",
   "execution_count": null,
   "id": "38652edb",
   "metadata": {},
   "outputs": [],
   "source": [
    "delta = np.arange(0,1,0.001)\n",
    "Sfix = (1e-5)**(0.5)*(5*10**(-3))*1e4\n",
    "gd2 = gammad(Sfix,delta)"
   ]
  },
  {
   "cell_type": "code",
   "execution_count": null,
   "id": "880dfeff",
   "metadata": {},
   "outputs": [],
   "source": [
    "plt.fill_between(delta,gd2,gamma0(Sfix),color=\"k\",alpha=0.2)\n",
    "plt.fill_between(delta,gamma0(Sfix),1,color=\"b\",alpha=0.2)\n",
    "plt.plot(delta,gd2,c=\"k\")\n",
    "plt.plot(delta,gamma0(Sfix)*np.ones(len(delta)),c=\"k\")\n",
    "plt.ylabel(\"$\\gamma$\",fontsize=14)\n",
    "plt.xlabel(\"$\\delta$\",fontsize=14)\n",
    "# plt.text(0.2,0.6,\"Symmetrically Unstable\",fontsize=16)\n",
    "# plt.text(0.35,0.425,\"PSI Unstable\",fontsize=16)\n",
    "plt.title(\"Unstable Region for $\\gamma$ for $S_\\infty=1$ and $\\delta$\")\n",
    "plt.show()"
   ]
  },
  {
   "cell_type": "code",
   "execution_count": null,
   "id": "06a118b6",
   "metadata": {},
   "outputs": [],
   "source": [
    "plt.fill_between(delta,gd2,1.)\n",
    "plt.plot(delta,gd2,c=\"k\")"
   ]
  },
  {
   "cell_type": "code",
   "execution_count": null,
   "id": "36238ea1",
   "metadata": {},
   "outputs": [],
   "source": [
    "delta = np.arange(0,1,0.001)\n",
    "gd3 = gammad(Sinf,delta[0]),ndmin=2"
   ]
  },
  {
   "cell_type": "code",
   "execution_count": null,
   "id": "a5d3b316",
   "metadata": {},
   "outputs": [],
   "source": [
    "gd3"
   ]
  },
  {
   "cell_type": "code",
   "execution_count": null,
   "id": "8d59fced",
   "metadata": {},
   "outputs": [],
   "source": [
    "# plt.plot(Sinf,delta,gd3)"
   ]
  },
  {
   "cell_type": "code",
   "execution_count": null,
   "id": "ed62407e",
   "metadata": {},
   "outputs": [],
   "source": [
    "((1e-4)**(0.5)*(1e-1))/1e-4"
   ]
  },
  {
   "cell_type": "code",
   "execution_count": null,
   "id": "f1c0a845",
   "metadata": {},
   "outputs": [],
   "source": [
    "(1e-4*0.05)/"
   ]
  },
  {
   "cell_type": "code",
   "execution_count": null,
   "id": "5fd68f5b",
   "metadata": {},
   "outputs": [],
   "source": []
  }
 ],
 "metadata": {
  "kernelspec": {
   "display_name": "Python 3 (ipykernel)",
   "language": "python",
   "name": "python3"
  },
  "language_info": {
   "codemirror_mode": {
    "name": "ipython",
    "version": 3
   },
   "file_extension": ".py",
   "mimetype": "text/x-python",
   "name": "python",
   "nbconvert_exporter": "python",
   "pygments_lexer": "ipython3",
   "version": "3.8.10"
  }
 },
 "nbformat": 4,
 "nbformat_minor": 5
}
