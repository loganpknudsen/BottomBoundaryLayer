{
 "cells": [
  {
   "cell_type": "code",
   "execution_count": 1,
   "id": "53d101b3",
   "metadata": {},
   "outputs": [],
   "source": [
    "import numpy as np\n",
    "import matplotlib.pyplot as plt"
   ]
  },
  {
   "cell_type": "markdown",
   "id": "cdb00763",
   "metadata": {},
   "source": [
    "Below the parameters (stratification, coriolis, interior velocity and geostrophic scaling factor) are set for the background flow fields. The slope Burger number is varied using the slope angle, $\\theta$), but this could easily be changed in code"
   ]
  },
  {
   "cell_type": "code",
   "execution_count": 2,
   "id": "ae9ea811",
   "metadata": {},
   "outputs": [],
   "source": [
    "N2 = 1e-5    # s^-2, interior stratification\n",
    "f = 1e-4     # s^-1 coriolis parameter\n",
    "Vinf = 0.1   # m s^-1 interior velocity\n",
    "delta = 0.5  # geostrophic scaling factor "
   ]
  },
  {
   "cell_type": "markdown",
   "id": "d356e939",
   "metadata": {},
   "source": [
    "Below the background conditions at time t are calculated with only v-shear as initial condition. Note that $\\theta$ is calculated for the given slope Burger number, $S_\\infty$, and the preset coriolis and stratification parameters. \n",
    "The code also can calculate the background velocities for either the upper or lower limit of gamma given an input string."
   ]
  },
  {
   "cell_type": "code",
   "execution_count": 3,
   "id": "faafb922",
   "metadata": {},
   "outputs": [],
   "source": [
    "def shear_osc(t,Sinf,g):\n",
    "    theta = np.arctan(Sinf*f/N2**(0.5))    # calculate the slope angle\n",
    "    if g==\"gammau\":    # if else that calculates gamma at either the upper (gammau) or lower (gammal) limit\n",
    "        gamma = (np.cos(theta)*(1+(1-delta)*Sinf**2))**(-1)\n",
    "    elif g==\"gammal\":\n",
    "        gamma = (3-Sinf**2)*(np.cos(theta)*(3*(1+Sinf**2)-4*delta*Sinf**2))**(-1)\n",
    "    vo = N2**(0.5)*Sinf*gamma*delta     # initial v-shear\n",
    "    fstar = f*np.cos(theta)*(1+Sinf**2)**(0.5)    # modified intertial frequency\n",
    "    u = (f*np.cos(theta)*vo)/(fstar)*np.sin(fstar*t)    # calculate u-velocity\n",
    "    v = vo+(f**2*np.cos(theta)**2*vo)/(fstar**2)*(np.cos(fstar*t)-1)    # calculate v-velocity\n",
    "    N = N2*np.sin(theta)*(f*np.cos(theta)*vo)/(fstar**2)*(np.cos(fstar*t)-1)    # calculate buoyancy anomaly\n",
    "    return [u,v,N]"
   ]
  },
  {
   "cell_type": "code",
   "execution_count": 4,
   "id": "53200e47",
   "metadata": {},
   "outputs": [],
   "source": [
    "def shear_osc_JH(t,Sinf,g):\n",
    "    theta = np.arctan(Sinf*f/N2**(0.5))    # calculate the slope angle\n",
    "    if g==\"gammau\":    # if else that calculates gamma at either the upper (gammau) or lower (gammal) limit\n",
    "        gamma = (np.cos(theta)*(1+(1-delta)*Sinf**2))**(-1)\n",
    "    elif g==\"gammal\":\n",
    "        gamma = (3-Sinf**2)*(np.cos(theta)*(3*(1+Sinf**2)-4*delta*Sinf**2))**(-1)\n",
    "    vo = N2**(0.5)*Sinf*gamma*delta     # initial v-shear\n",
    "    fstar = f*np.cos(theta)*(1+Sinf**2)**(0.5)    # modified intertial frequency\n",
    "    u = vo*np.sin(fstar*t)  # calculate u-velocity\n",
    "    v = f*np.cos(theta)/fstar*vo*np.cos(fstar*t)    # calculate v-velocity\n",
    "    N = N2*np.sin(theta)/fstar*vo*np.cos(fstar*t)     # calculate buoyancy anomaly\n",
    "    return [u,v,N]"
   ]
  },
  {
   "cell_type": "code",
   "execution_count": 5,
   "id": "c85531aa",
   "metadata": {},
   "outputs": [],
   "source": [
    "def shear_osc_gen(t,Sinf,g,phi):\n",
    "    theta = np.arctan(Sinf*f/N2**(0.5))    # calculate the slope angle\n",
    "    if g==\"gammau\":    # if else that calculates gamma at either the upper (gammau) or lower (gammal) limit\n",
    "        gamma = (np.cos(theta)*(1+(1-delta)*Sinf**2))**(-1)\n",
    "    elif g==\"gammal\":\n",
    "        gamma = (3-Sinf**2)*(np.cos(theta)*(3*(1+Sinf**2)-4*delta*Sinf**2))**(-1)\n",
    "    vo = N2**(0.5)*Sinf*gamma*delta     # initial v-shear\n",
    "    fstar = f*np.cos(theta)*(1+Sinf**2)**(0.5) \n",
    "    beta = (1+Sinf**2)**(0.5) \n",
    "    u = 0.5*vo*(1+beta**(-1))*np.cos(fstar*t-phi)+0.5*vo*(1-beta**(-1))*np.cos(fstar*t+phi)\n",
    "    v = vo*(1-beta**(-2))-0.5*vo*(beta**(-1)+beta**(-2))*np.sin(fstar*t-phi)+0.5*vo*(beta**(-2)-beta**(-1))*np.sin(fstar*t+phi)\n",
    "    N = -vo*N2*np.sin(theta)*fstar**(-1)*beta**(-1)*np.sin(phi)-0.5*vo*N2*np.sin(theta)*fstar**(-1)*(beta**(-1)+1)*np.sin(fstar*t-phi)+0.5*vo*N2*np.sin(theta)*fstar**(-1)*(beta**(-1)-1)*np.sin(fstar*t+phi)\n",
    "    return [u,v,N]"
   ]
  },
  {
   "cell_type": "markdown",
   "id": "aba5ed64",
   "metadata": {},
   "source": [
    "Below we calculate the background flow fields for slope Burger number values of 0.1, 0.5, 1, 1.5, and 2 at the upper limit of gamma. $\\theta$ is precalculated and saved along with the inertial frequency as they are utilized to calculate the time interval and later in plots of background flow over a single period."
   ]
  },
  {
   "cell_type": "code",
   "execution_count": 6,
   "id": "12a0d9a0",
   "metadata": {},
   "outputs": [],
   "source": [
    "Sinf1 = 0.1   # slope Burger number\n",
    "theta1 = np.arctan(Sinf1*f/N2**(0.5))   # slope angle\n",
    "fstar1 = f*np.cos(theta1)*(1+Sinf1**2)**(0.5)    # modified inertial frequency\n",
    "t1 = np.linspace(0,2*np.pi/fstar1,50)    # time domain\n",
    "u1,v1,b1 = shear_osc(t1, Sinf1, \"gammau\")   # background flow variables"
   ]
  },
  {
   "cell_type": "code",
   "execution_count": 7,
   "id": "1c249ca7",
   "metadata": {},
   "outputs": [],
   "source": [
    "Sinf2 = 0.5\n",
    "theta = np.arctan(Sinf2*f/N2**(0.5))\n",
    "fstar2 = f*np.cos(theta)*(1+Sinf2**2)**(0.5)\n",
    "t2 = np.linspace(0,2*np.pi/fstar2,50)\n",
    "u2,v2,b2 = shear_osc(t2, Sinf2, \"gammau\")"
   ]
  },
  {
   "cell_type": "code",
   "execution_count": 8,
   "id": "9eb35a11",
   "metadata": {},
   "outputs": [],
   "source": [
    "Sinf3 = 1\n",
    "theta3 = np.arctan(Sinf3*f/N2**(0.5))\n",
    "fstar3 = f*np.cos(theta3)*(1+Sinf3**2)**(0.5)\n",
    "t3 = np.linspace(0,2*np.pi/fstar3,50)\n",
    "u3,v3,b3 = shear_osc(t3, Sinf3, \"gammau\")"
   ]
  },
  {
   "cell_type": "code",
   "execution_count": 9,
   "id": "2570cfc3",
   "metadata": {},
   "outputs": [],
   "source": [
    "Sinf3 = 1\n",
    "theta3 = np.arctan(Sinf3*f/N2**(0.5))\n",
    "fstar3 = f*np.cos(theta3)*(1+Sinf3**2)**(0.5)\n",
    "t3 = np.linspace(0,2*np.pi/fstar3,50)\n",
    "u3a,v3a,b3a = shear_osc_JH(t3, Sinf3, \"gammau\")"
   ]
  },
  {
   "cell_type": "code",
   "execution_count": 10,
   "id": "10c862bc",
   "metadata": {},
   "outputs": [],
   "source": [
    "u3b,v3b,b3b = shear_osc_gen(t3, Sinf3, \"gammau\",np.pi/2)"
   ]
  },
  {
   "cell_type": "code",
   "execution_count": 11,
   "id": "16b06484",
   "metadata": {},
   "outputs": [],
   "source": [
    "from scipy.integrate import odeint"
   ]
  },
  {
   "cell_type": "code",
   "execution_count": 12,
   "id": "35e09c54",
   "metadata": {},
   "outputs": [],
   "source": [
    "def num_sol(y,t,theta):\n",
    "    u,v,b = y\n",
    "    dydt = [f*np.cos(theta)*v+np.sin(theta)*b,-f*np.cos(theta)*u, -N2*np.sin(theta)*u]\n",
    "    return dydt"
   ]
  },
  {
   "cell_type": "code",
   "execution_count": 13,
   "id": "951557ef",
   "metadata": {},
   "outputs": [],
   "source": [
    "t = np.linspace(0,2*np.pi/fstar3,50)\n",
    "sol = odeint(num_sol,[0,N2**(0.5)*Sinf3*(np.cos(theta3)*(1+(1-delta)*Sinf3**2))**(-1)*delta, 0],t,args=(theta3,))"
   ]
  },
  {
   "cell_type": "code",
   "execution_count": 14,
   "id": "173fb5ff",
   "metadata": {},
   "outputs": [
    {
     "data": {
      "text/plain": [
       "array([ 0.00000000e+00,  9.53457910e-05,  1.89160718e-04,  2.79853435e-04,\n",
       "        3.65953389e-04,  4.46043752e-04,  5.18808807e-04,  5.83054026e-04,\n",
       "        6.37725772e-04,  6.81925848e-04,  7.14928473e-04,  7.36191814e-04,\n",
       "        7.45365987e-04,  7.42300379e-04,  7.27042727e-04,  6.99846994e-04,\n",
       "        6.61161274e-04,  6.11619263e-04,  5.52034254e-04,  4.83386094e-04,\n",
       "        4.06801070e-04,  3.23536964e-04,  2.34959929e-04,  1.42526027e-04,\n",
       "        4.77519665e-05, -4.78054104e-05, -1.42577624e-04, -2.35007899e-04,\n",
       "       -3.23578738e-04, -4.06836056e-04, -4.83412273e-04, -5.52050735e-04,\n",
       "       -6.11623411e-04, -6.61153478e-04, -6.99826188e-04, -7.27008187e-04,\n",
       "       -7.42251557e-04, -7.45307691e-04, -7.36124976e-04, -7.14855539e-04,\n",
       "       -6.81847670e-04, -6.37644187e-04, -5.82970506e-04, -5.18724648e-04,\n",
       "       -4.45961637e-04, -3.65876062e-04, -2.79783339e-04, -1.89095842e-04,\n",
       "       -9.53040427e-05,  5.14804688e-08])"
      ]
     },
     "execution_count": 14,
     "metadata": {},
     "output_type": "execute_result"
    }
   ],
   "source": [
    "sol[:,0]"
   ]
  },
  {
   "cell_type": "code",
   "execution_count": 27,
   "id": "fb677958",
   "metadata": {},
   "outputs": [
    {
     "data": {
      "text/plain": [
       "(-0.0008, 0.0015)"
      ]
     },
     "execution_count": 27,
     "metadata": {},
     "output_type": "execute_result"
    },
    {
     "data": {
      "image/png": "[encoded data removed]",
      "text/plain": [
       "<Figure size 432x288 with 1 Axes>"
      ]
     },
     "metadata": {
      "needs_background": "light"
     },
     "output_type": "display_data"
    }
   ],
   "source": [
    "plt.plot(u3,v3,color=\"r\",label=\"Original Solutions\")\n",
    "plt.plot(u3a,v3a,color=\"b\",label=\"New Solutions\")\n",
    "plt.plot(sol[:,0],sol[:,1],color=\"k\",label=\"Numerical Solutions\",linestyle=\"--\")\n",
    "# plt.plot(u3b,v3b,color=\"c\")\n",
    "plt.legend(loc=\"upper left\")\n",
    "plt.xlim([-2e-3,2e-3])\n",
    "plt.ylim([-8e-4,1.5e-3])"
   ]
  },
  {
   "cell_type": "code",
   "execution_count": null,
   "id": "e02f7b65",
   "metadata": {},
   "outputs": [],
   "source": []
  },
  {
   "cell_type": "code",
   "execution_count": null,
   "id": "47ee35ba",
   "metadata": {},
   "outputs": [],
   "source": [
    "plt.plot(u3,b3,color=\"b\")\n",
    "plt.plot(u3a,b3a,color=\"r\")\n",
    "plt.plot(u3b,b3b,color=\"c\")\n",
    "plt.plot(sol[:,0],sol[:,2],color=\"k\")"
   ]
  },
  {
   "cell_type": "code",
   "execution_count": null,
   "id": "e05f1349",
   "metadata": {},
   "outputs": [],
   "source": [
    "Sinf4 = 1.5\n",
    "theta = np.arctan(Sinf4*f/N2**(0.5))\n",
    "fstar4 = f*np.cos(theta)*(1+Sinf4**2)**(0.5)\n",
    "t4 = np.linspace(0,2*np.pi/fstar4,50)\n",
    "u4,v4,b4 = shear_osc(t4, Sinf4, \"gammau\")"
   ]
  },
  {
   "cell_type": "code",
   "execution_count": null,
   "id": "bf27c9a1",
   "metadata": {},
   "outputs": [],
   "source": [
    "Sinf5 = 2\n",
    "theta5 = np.arctan(Sinf5*f/N2**(0.5))\n",
    "fstar5 = f*np.cos(theta5)*(1+Sinf5**2)**(0.5)\n",
    "t5 = np.linspace(0,2*np.pi/fstar5,50)\n",
    "u5, v5, b5 = shear_osc(t5, Sinf5, \"gammau\")"
   ]
  },
  {
   "cell_type": "markdown",
   "id": "26bbcff5",
   "metadata": {},
   "source": [
    "Plots of the hodographs for u vs v and then u vs b for the upper limit of gamma. Note that they are normalized by the initial geostrophic shear"
   ]
  },
  {
   "cell_type": "code",
   "execution_count": null,
   "id": "b9bd0342",
   "metadata": {},
   "outputs": [],
   "source": [
    "plt.plot(u1/v1[0],v1/v1[0],color=\"red\",label = \"$S_\\infty$=0.1\")\n",
    "plt.plot(u2/v2[0],v2/v2[0],color=\"orange\",label = \"$S_\\infty$=0.5\")\n",
    "plt.plot(u3/v3[0],v3/v3[0],color=\"green\",label = \"$S_\\infty$=1\")\n",
    "plt.plot(u4/v4[0],v4/v4[0],color=\"blue\",label = \"$S_\\infty$=1.5\")\n",
    "plt.plot(u5/v5[0],v5/v5[0],color=\"magenta\",label = \"$S_\\infty$=2\")\n",
    "plt.legend(loc=\"lower left\")\n",
    "plt.xlabel(r\"$\\breve{u}$\")\n",
    "plt.ylabel(r\"$\\breve{v}$\")"
   ]
  },
  {
   "cell_type": "code",
   "execution_count": null,
   "id": "4a2db76d",
   "metadata": {},
   "outputs": [],
   "source": [
    "plt.plot(u1/v1[0],b1/v1[0]**2,color=\"red\",label = \"$S_\\infty$=0.1\")\n",
    "plt.plot(u2/v2[0],b2/v2[0]**2,color=\"orange\",label = \"$S_\\infty$=0.5\")\n",
    "plt.plot(u3/v3[0],b3/v3[0]**2,color=\"green\",label = \"$S_\\infty$=1\")\n",
    "plt.plot(u4/v4[0],b4/v4[0]**2,color=\"blue\",label = \"$S_\\infty$=1.5\")\n",
    "plt.plot(u5/v5[0],b5/v5[0]**2,color=\"magenta\",label = \"$S_\\infty$=2\")\n",
    "plt.legend(loc=\"lower left\")\n",
    "plt.xlabel(r\"$\\breve{u}$\")\n",
    "plt.ylabel(r\"$\\breve{b}$\")"
   ]
  },
  {
   "cell_type": "markdown",
   "id": "5d449e9a",
   "metadata": {},
   "source": [
    "Plot the two hodographs previous shown together"
   ]
  },
  {
   "cell_type": "code",
   "execution_count": null,
   "id": "0cfa6c0a",
   "metadata": {},
   "outputs": [],
   "source": [
    "fig, ax = plt.subplots(1,2,figsize=(10,5),sharey=False,sharex=True,constrained_layout=True)\n",
    "ax[0].plot(u1/np.abs(v1[0]),v1/np.abs(v1[0]),color=\"red\",label = \"$S_\\infty$=0.1\")\n",
    "ax[0].plot(u2/np.abs(v2[0]),v2/np.abs(v2[0]),color=\"lime\",label = \"$S_\\infty$=0.5\")\n",
    "ax[0].plot(u3/np.abs(v3[0]),v3/np.abs(v3[0]),color=\"green\",label = \"$S_\\infty$=1\")\n",
    "ax[0].plot(u4/np.abs(v4[0]),v4/np.abs(v4[0]),color=\"blue\",label = \"$S_\\infty$=1.5\")\n",
    "ax[0].plot(u5/np.abs(v5[0]),v5/np.abs(v5[0]),color=\"magenta\",label = \"$S_\\infty$=2\")\n",
    "ax[0].legend(loc=\"lower left\")\n",
    "ax[0].set_xticks([-1,-0.75,-0.5,-0.25,0,0.25,0.5,0.75,1])\n",
    "ax[0].set_yticks([-1,-0.75,-0.5,-0.25,0,0.25,0.5,0.75,1])\n",
    "ax[0].text(-1.275,1.1,\"(a.)\")\n",
    "ax[0].set_xlabel(r\"$\\breve{u}/|\\delta\\Lambda|$\",fontsize=12)\n",
    "ax[0].set_ylabel(r\"$\\breve{v}/|\\delta\\Lambda|$\",fontsize=12)\n",
    "ax[0].set_aspect(1)\n",
    "ax[1].plot(u1/np.abs(v1[0]),delta*b1/(v1[0]**2/(v1[0]/(N2**(0.5)*0.1))),color=\"red\",label = \"$S_\\infty$=0.1\")\n",
    "ax[1].plot(u2/np.abs(v2[0]),delta*b2/(v2[0]**2/(v2[0]/(N2**(0.5)*0.5))),color=\"lime\",label = \"$S_\\infty$=0.5\")\n",
    "ax[1].plot(u3/np.abs(v3[0]),delta*b3/(v3[0]**2/(v3[0]/(N2**(0.5)*1))),color=\"green\",label = \"$S_\\infty$=1\")\n",
    "ax[1].plot(u4/np.abs(v4[0]),delta*b4/(v4[0]**2/(v4[0]/(N2**(0.5)*1.5))),color=\"blue\",label = \"$S_\\infty$=1.5\")\n",
    "ax[1].plot(u5/np.abs(v5[0]),delta*b5/(v5[0]**2/(v5[0]/(N2**(0.5)*2))),color=\"magenta\",label = \"$S_\\infty$=2\")\n",
    "ax[1].set_xlabel(r\"$\\breve{u}/|\\delta\\Lambda|$\",fontsize=12)\n",
    "ax[1].set_xticks([-1,-0.75,-0.5,-0.25,0,0.25,0.5,0.75,1])\n",
    "ax[1].set_yticks([-1,-0.75,-0.5,-0.25,0])\n",
    "ax[1].text(-1.25,0.1,\"(b.)\")\n",
    "ax[1].set_aspect(2)\n",
    "ax[1].set_ylabel(r\"$\\breve{b}/|\\delta\\Lambda\\gamma^{-1}|$\",fontsize=12)\n",
    "# ax[0].hlines(0.8,xmin=-1,xmax=1)\n",
    "# plt.savefig(\"hodograph_delta_0_5_gamma_u.pdf\")\n",
    "plt.show()"
   ]
  },
  {
   "cell_type": "markdown",
   "id": "0e133f0e",
   "metadata": {},
   "source": [
    "Below we calculate the background flow fields for slope Burger number values of 0.1, 0.5, 1, 1.5, and 2 at the lower limit of gamma. $\\theta$ is precalculated and saved along with the inertial frequency as they are utilized to calculate the time interval and later in plots of background flow over a single period."
   ]
  },
  {
   "cell_type": "code",
   "execution_count": null,
   "id": "63ed3afb",
   "metadata": {},
   "outputs": [],
   "source": [
    "Sinf6 = 0.1\n",
    "theta = np.arctan(Sinf6*f/N2**(0.5))\n",
    "fstar = f*np.cos(theta)*(1+Sinf6**2)**(0.5)\n",
    "t6 = np.linspace(0,2*np.pi/fstar,50)\n",
    "u6, v6, b6= shear_osc(t6, Sinf6, \"gammal\")"
   ]
  },
  {
   "cell_type": "code",
   "execution_count": null,
   "id": "fed21fd4",
   "metadata": {},
   "outputs": [],
   "source": [
    "Sinf7 = 0.5\n",
    "theta = np.arctan(Sinf7*f/N2**(0.5))\n",
    "fstar = f*np.cos(theta)*(1+Sinf7**2)**(0.5)\n",
    "t7 = np.linspace(0,2*np.pi/fstar,50)\n",
    "u7,v7,b7 = shear_osc(t7, Sinf7, \"gammal\")"
   ]
  },
  {
   "cell_type": "code",
   "execution_count": null,
   "id": "66363a73",
   "metadata": {},
   "outputs": [],
   "source": [
    "Sinf8 = 1\n",
    "theta = np.arctan(Sinf8*f/N2**(0.5))\n",
    "fstar8 = f*np.cos(theta)*(1+Sinf8**2)**(0.5)\n",
    "t8 = np.linspace(0,2*np.pi/fstar8,50)\n",
    "u8, v8, b8 = shear_osc(t8, Sinf8, \"gammal\")"
   ]
  },
  {
   "cell_type": "code",
   "execution_count": null,
   "id": "d9a8d3f7",
   "metadata": {},
   "outputs": [],
   "source": [
    "Sinf9 = 1.5\n",
    "theta = np.arctan(Sinf9*f/N2**(0.5))\n",
    "fstar = f*np.cos(theta)*(1+Sinf9**2)**(0.5)\n",
    "t9 = np.linspace(0,2*np.pi/fstar,50)\n",
    "u9, v9, b9 = shear_osc(t9, Sinf9, \"gammal\")"
   ]
  },
  {
   "cell_type": "code",
   "execution_count": null,
   "id": "d1c55264",
   "metadata": {},
   "outputs": [],
   "source": [
    "Sinf10 = 2\n",
    "theta10 = np.arctan(Sinf10*f/N2**(0.5))\n",
    "fstar10 = f*np.cos(theta10)*(1+Sinf10**2)**(0.5)\n",
    "t10 = np.linspace(0,2*np.pi/fstar10,50)\n",
    "u10, v10, b10 = shear_osc(t10, Sinf10, \"gammal\")"
   ]
  },
  {
   "cell_type": "markdown",
   "id": "d0f9197d",
   "metadata": {},
   "source": [
    "Plots of the hodographs for u vs v and then u vs b for the lower limit of gamma. Note that they are normalized by the initial geostrophic shear"
   ]
  },
  {
   "cell_type": "code",
   "execution_count": null,
   "id": "14274851",
   "metadata": {},
   "outputs": [],
   "source": [
    "plt.plot(u6,v6,color=\"red\",label = \"$S_\\infty$=0.1\")\n",
    "plt.plot(u7,v7,color=\"orange\",label = \"$S_\\infty$=0.5\")\n",
    "plt.plot(u8,v8,color=\"green\",label = \"$S_\\infty$=1\")\n",
    "plt.plot(u9,v9,color=\"blue\",label = \"$S_\\infty$=1.5\")\n",
    "plt.plot(u10,v10,color=\"magenta\",label = \"$S_\\infty$=2\")\n",
    "plt.legend()\n",
    "plt.xlabel(r\"$\\breve{u}$\")\n",
    "plt.ylabel(r\"$\\breve{v}$\")\n"
   ]
  },
  {
   "cell_type": "code",
   "execution_count": null,
   "id": "b78c2371",
   "metadata": {},
   "outputs": [],
   "source": [
    "plt.plot(u6,b6,color=\"red\",label = \"$S_\\infty$=0.1\")\n",
    "plt.plot(u7,b7,color=\"orange\",label = \"$S_\\infty$=0.5\")\n",
    "plt.plot(u8,b8,color=\"green\",label = \"$S_\\infty$=1\")\n",
    "plt.plot(u9,b9,color=\"blue\",label = \"$S_\\infty$=1.5\")\n",
    "plt.plot(u10,b10,color=\"magenta\",label = \"$S_\\infty$=2\")\n",
    "plt.legend(loc=\"lower left\")\n",
    "plt.xlabel(r\"$\\breve{u}$\")\n",
    "plt.ylabel(r\"$\\breve{b}$\")"
   ]
  },
  {
   "cell_type": "markdown",
   "id": "dfa949ab",
   "metadata": {},
   "source": [
    "Plot the hodographs together"
   ]
  },
  {
   "cell_type": "code",
   "execution_count": null,
   "id": "dfd056fb",
   "metadata": {},
   "outputs": [],
   "source": [
    "ax = plt.figure(figsize=(10,5),constrained_layout=True).subplots(1,2,sharex=True)\n",
    "ax[0].plot(u6/np.abs(v6[0]),v6/np.abs(v6[0]),color=\"red\",label = \"$S_\\infty$=0.1\")\n",
    "ax[0].plot(u7/np.abs(v7[0]),v7/np.abs(v7[0]),color=\"lime\",label = \"$S_\\infty$=0.5\")\n",
    "ax[0].plot(u8/np.abs(v8[0]),v8/np.abs(v8[0]),color=\"green\",label = \"$S_\\infty$=1\")\n",
    "ax[0].plot(u9/np.abs(v9[0]),v9/np.abs(v9[0]),color=\"blue\",label = \"$S_\\infty$=1.5\")\n",
    "ax[0].plot(u10/np.abs(v10[0]),v10/np.abs(v10[0]),color=\"magenta\",label = \"$S_\\infty$=2\")\n",
    "ax[0].legend(loc=\"lower left\")\n",
    "ax[0].set_xticks([-1,-0.75,-0.5,-0.25,0,0.25,0.5,0.75,1])\n",
    "ax[0].set_yticks([-1,-0.75,-0.5,-0.25,0,0.25,0.5,0.75,1])\n",
    "ax[0].text(-1.25,1.1,\"(a.)\")\n",
    "ax[0].set_aspect(1)\n",
    "ax[0].set_xlabel(r\"$\\breve{u}/|\\delta\\Lambda|$\",fontsize=12)\n",
    "ax[0].set_ylabel(r\"$\\breve{v}/|\\delta\\Lambda|$\",fontsize=12)\n",
    "ax[1].plot(u6/np.abs(v6[0]),delta*b6/(v6[0]**2/np.abs(v6[0]/(N2**(0.5)*0.1))),color=\"red\")\n",
    "ax[1].plot(u7/np.abs(v7[0]),delta*b7/(v7[0]**2/np.abs(v7[0]/(N2**(0.5)*0.5))),color=\"lime\")\n",
    "ax[1].plot(u8/np.abs(v8[0]),delta*b8/(v8[0]**2/np.abs(v8[0]/(N2**(0.5)*1))),color=\"green\")\n",
    "ax[1].plot(u9/np.abs(v9[0]),delta*b9/(v9[0]**2/np.abs(v9[0]/(N2**(0.5)*1.5))),color=\"blue\")\n",
    "ax[1].plot(u10/np.abs(v10[0]),delta*b10/np.abs(v10[0]**2/(v10[0]/(N2**(0.5)*2))),color=\"magenta\")\n",
    "ax[1].text(-1.325,0.3,\"(b.)\")\n",
    "ax[1].set_xlabel(r\"$\\breve{u}/|\\delta\\Lambda|$\",fontsize=12)\n",
    "ax[1].set_ylabel(r\"$\\breve{b}/|\\delta\\Lambda^2\\gamma^{-1}|$\",fontsize=12)\n",
    "ax[1].set_xticks([-1,-0.75,-0.5,-0.25,0,0.25,0.5,0.75,1])\n",
    "ax[1].set_yticks([-1,-0.75,-0.5,-0.25,0,0.25])\n",
    "ax[1].set_aspect(2/1.2)\n",
    "plt.savefig(\"hodograph_delta_0_5_gamma_l.pdf\")\n",
    "plt.show()"
   ]
  },
  {
   "cell_type": "markdown",
   "id": "43094f8e",
   "metadata": {},
   "source": [
    "Plots of background flow over a single inertial period"
   ]
  },
  {
   "cell_type": "code",
   "execution_count": null,
   "id": "ea37aa82",
   "metadata": {},
   "outputs": [],
   "source": [
    "plt.figure(figsize=(8,4))\n",
    "plt.plot(t3*fstar3/(2*np.pi),u3/v3[0],color=\"k\",label=r\"$u/(\\delta\\Lambda)$\")\n",
    "plt.plot(t3*fstar3/(2*np.pi),v3/v3[0],color=\"blue\",label=r\"$v/(\\delta\\Lambda)$\")\n",
    "plt.plot(t3*fstar3/(2*np.pi),(1+0.5*Sinf3)**(-1)*delta*b3/v3[0]**2,color=\"red\",label=r\"$b/(\\delta\\Lambda^2\\gamma^{-1})$\")\n",
    "plt.xlabel(\"Inertial Period\")\n",
    "plt.legend()"
   ]
  },
  {
   "cell_type": "code",
   "execution_count": null,
   "id": "abf45e27",
   "metadata": {},
   "outputs": [],
   "source": [
    "plt.figure(figsize=(8,4))\n",
    "plt.plot(t3*fstar3/(2*np.pi),(f*v3+np.sin(theta3)*b3)/(f*v3[0]),color=\"k\",label=r\"$\\dfrac{1}{f\\delta\\Lambda}\\dfrac{\\partial u}{\\partial t}$\")\n",
    "plt.plot(t3*fstar3/(2*np.pi),-f*u3/(f*v3[0]),color=\"blue\",label=r\"$\\dfrac{1}{f\\delta\\Lambda}\\dfrac{\\partial v}{\\partial t}$\")\n",
    "plt.plot(t3*fstar3/(2*np.pi),-N2*np.sin(theta3)*u3/(f*v3[0]**2/delta),color=\"red\",label=r\"$\\dfrac{1}{f\\delta\\Lambda^2}\\dfrac{\\partial b}{\\partial t}$\")\n",
    "plt.xlabel(\"Inertial Period\")\n",
    "plt.legend()"
   ]
  },
  {
   "cell_type": "markdown",
   "id": "ff737d40",
   "metadata": {},
   "source": [
    "Plot the velocities and accelerations over a single inertial period"
   ]
  },
  {
   "cell_type": "code",
   "execution_count": null,
   "id": "633a0161",
   "metadata": {},
   "outputs": [],
   "source": [
    "fig, ax = plt.subplots(2,1,figsize=(8,8),sharey=False,sharex=True,constrained_layout=True)\n",
    "ax[0].plot(t3*fstar3/(2*np.pi),u3/v3[0],color=\"k\",label=r\"$\\dfrac{\\breve{u}}{\\delta\\Lambda}$\")\n",
    "ax[0].plot(t3*fstar3/(2*np.pi),v3/v3[0],color=\"blue\",label=r\"$\\dfrac{\\breve{v}}{\\delta\\Lambda}$\")\n",
    "ax[0].plot(t3*fstar3/(2*np.pi),(1+0.5)**(-1)*delta*b3/v3[0]**2,color=\"red\",label=r\"$\\dfrac{\\breve{b}}{\\delta\\Lambda^2\\gamma^{-1}}$\")\n",
    "ax[0].set_xlim([0,1])\n",
    "ax[0].text(-0.05,1.16,\"(a.)\")\n",
    "ax[0].legend(loc = \"lower left\",ncol=3)\n",
    "ax[1].plot(t3*fstar3/(2*np.pi),(f*v3+np.sin(theta3)*b3)/(f*v3[0]),color=\"k\",label=r\"$\\dfrac{1}{f\\delta\\Lambda}\\dfrac{\\partial \\breve{u}}{\\partial t}$\")\n",
    "ax[1].plot(t3*fstar3/(2*np.pi),(f*v3)/(f*v3[0]),color=\"k\",linestyle=\"--\",label=r\"$\\dfrac{f\\breve{v}}{f\\delta\\Lambda}$\")\n",
    "ax[1].plot(t3*fstar3/(2*np.pi),(np.sin(theta3)*b3)/(f*v3[0]),color=\"k\",linestyle=\"-.\",label=r\"$\\dfrac{\\sin\\theta\\breve{b}}{f\\delta\\Lambda}$\")\n",
    "ax[1].plot(t3*fstar3/(2*np.pi),-f*u3/(f*v3[0]),color=\"m\",linestyle=\"-\",label=r\"$\\dfrac{1}{f\\delta\\Lambda^{ }}\\,\\dfrac{\\partial \\breve{v}}{\\partial t}\\,, \\,\\dfrac{1}{f\\delta\\Lambda^2\\gamma^{-1}}\\,\\dfrac{\\partial \\breve{b}}{\\partial t}$\")\n",
    "ax[1].set_xlabel(\"Modified Inertial Period\")\n",
    "ax[1].set_ylim([-1.5,1.3])\n",
    "ax[1].text(-0.05,1.16,\"(b.)\")\n",
    "ax[1].legend(loc = \"lower left\",ncol=5)\n",
    "plt.savefig(\"inertial_period_background_plot.pdf\")\n",
    "plt.show()"
   ]
  },
  {
   "cell_type": "markdown",
   "id": "b03fef68",
   "metadata": {},
   "source": [
    "Energy plots of KE and PE over a single inertial period at $S_\\infty=1$ and gamma at the upper limit:"
   ]
  },
  {
   "cell_type": "code",
   "execution_count": null,
   "id": "fbacb032",
   "metadata": {},
   "outputs": [],
   "source": [
    "fig, ax = plt.subplots(2,1,figsize=(8,8),sharey=False,sharex=True,constrained_layout=True)\n",
    "ax[0].plot(t3*fstar3/(2*np.pi),u3*(f*v3+np.sin(theta3)*b3)/(f*(v3[0]**2)),color=\"k\",linestyle = \"-.\",label=r\"$\\dfrac{1}{2f\\breve{k}_o}\\dfrac{\\partial \\breve{u}^2}{\\partial t}$\")\n",
    "ax[0].plot(t3*fstar3/(2*np.pi),v3*(-f*u3)/(f*(v3[0]**2)),color=\"k\",linestyle=\"--\",label=r\"$\\dfrac{1}{2f\\breve{k}_o}\\dfrac{\\partial \\breve{v}^2}{\\partial t}$\")\n",
    "ax[0].plot(t3*fstar3/(2*np.pi),v3*(-f*u3)/(f*(v3[0]**2))+u3*(f*v3+np.sin(theta3)*b3)/(f*(v3[0]**2)),color=\"k\",label=r\"$\\dfrac{1}{2f\\breve{k}_o}\\dfrac{\\partial\\breve{k}}{\\partial t}$\")\n",
    "ax[0].plot(t3*fstar3/(2*np.pi),b3*(-N2*np.sin(theta3)*u3)/(f*N2*(v3[0]**2)),color=\"red\",label=r\"$\\dfrac{1}{2f\\breve{k}_oN^2_\\infty}\\dfrac{\\partial \\breve{b}^2}{\\partial t}$\")\n",
    "ax[0].plot(t3*fstar3/(2*np.pi),v3*(-f*u3)/(f*(v3[0]**2))+u3*(f*v3+np.sin(theta3)*b3)/(f*(v3[0]**2))+b3*(-N2*np.sin(theta3)*u3)/(f*N2*(v3[0]**2)),color=\"blue\",label=r\"$\\dfrac{\\partial E}{\\partial t}$\")\n",
    "ax[0].set_xlim([0,1])\n",
    "ax[0].text(-0.05,0.55,\"(a.)\")\n",
    "ax[0].set_ylim([-0.6,0.5])\n",
    "ax[0].legend(loc = \"lower left\",ncol=5)\n",
    "H = 0.1/((1e-5)**(0.5)*2/3)\n",
    "ax[1].plot(t3*fstar3/(2*np.pi),((u3)**2+(v3)**2)/(2*(v3[0]**2/2)),color=\"k\",label=r\"$\\dfrac{\\breve{k}}{\\breve{k}_o}$\")\n",
    "ax[1].plot(t3*fstar3/(2*np.pi),(b3)**2/(2*N2*(v3[0]**2/2)),color=\"red\",label=r\"$\\dfrac{\\breve{P}}{\\breve{k}_o}$\")\n",
    "ax[1].plot(t3*fstar3/(2*np.pi),(b3)**2/(2*N2*(v3[0]**2/2))+((u3)**2+(v3)**2)/(2*(v3[0]**2/2)),color=\"blue\",label=r\"$\\dfrac{E}{\\breve{k}_o}$\")\n",
    "ax[1].set_xlabel(\"Modified Inertial Period\")\n",
    "ax[1].hlines(1,xmin=t3[0]*fstar3/(2*np.pi),xmax=t3[-1]*fstar3/(2*np.pi))\n",
    "ax[1].legend(loc=\"lower left\",ncol=3)\n",
    "ax[1].text(-0.05,1.075,\"(b.)\")\n",
    "plt.savefig(\"inertial_period_background_energy_plot.pdf\")\n",
    "plt.show()"
   ]
  },
  {
   "cell_type": "markdown",
   "id": "6df1cf5b",
   "metadata": {},
   "source": [
    "Energy plots of KE and PE over a single inertial period at $S_\\infty=2$ and gamma at the lower limit:"
   ]
  },
  {
   "cell_type": "code",
   "execution_count": null,
   "id": "f5639fc0",
   "metadata": {},
   "outputs": [],
   "source": [
    "fig, ax = plt.subplots(2,1,figsize=(8,8),sharey=False,sharex=True,constrained_layout=True)\n",
    "ax[0].plot(t10*fstar10/(2*np.pi),u10*(f*v10+np.sin(theta10)*b10)/(f*(v10[0]**2/2)),color=\"k\",linestyle = \"-.\",label=r\"$\\dfrac{1}{f(\\delta\\Lambda)^2}\\dfrac{\\partial \\breve{u}^2}{\\partial t}$\")\n",
    "ax[0].plot(t10*fstar10/(2*np.pi),v10*(-f*u10)/(f*(v10[0]**2/2)),color=\"k\",linestyle=\"--\",label=r\"$\\dfrac{1}{f(\\delta\\Lambda)^2}\\dfrac{\\partial \\breve{v}^2}{\\partial t}$\")\n",
    "ax[0].plot(t10*fstar10/(2*np.pi),v10*(-f*u10)/(f*(v10[0]**2/2))+u10*(f*np.cos(theta10)*v10+np.sin(theta10)*b10)/(f*np.cos(theta10)*(v10[0]**2/2)),color=\"k\",label=r\"$\\dfrac{1}{f(\\delta\\Lambda)^2}\\dfrac{\\partial\\breve{k}^2}{\\partial t}$\")\n",
    "ax[0].plot(t10*fstar10/(2*np.pi),b10*(-N2*np.sin(theta10)*u10)/(f*np.cos(theta10)*N2*(v10[0]**2/2)),color=\"red\",label=r\"$\\dfrac{1}{0.5fN^2(\\delta\\Lambda)^2}\\dfrac{\\partial \\breve{b}^2}{\\partial t}$\")\n",
    "ax[0].plot(t10*fstar10/(2*np.pi),v10*(-f*u10)/(f*(v10[0]**2/2))+u10*(f*np.cos(theta10)*v10+np.sin(theta10)*b10)/(f*np.cos(theta10)*(v10[0]**2/2))+b10*(-N2*np.sin(theta10)*u10)/(f*np.cos(theta10)*N2*(v10[0]**2/2)),color=\"blue\",label=r\"$\\dfrac{\\partial E}{\\partial t}$\")\n",
    "ax[0].set_xlim([0,1])\n",
    "# ax[0].xlabel(\"Inertial Period\")\n",
    "ax[0].set_ylim([-1.25,1.0])\n",
    "# plt.text(-0.05,1.16,\"(b.)\")\n",
    "ax[0].legend(loc = \"lower left\",ncol=5)\n",
    "H = 0.1/((1e-5)**(0.5)*2/3)\n",
    "ax[1].plot(t10*fstar10/(2*np.pi),((u10)**2+(v10)**2)/(2*(v10[0]**2/2)),color=\"k\",label=r\"$KE$\")\n",
    "ax[1].plot(t10*fstar10/(2*np.pi),(b10)**2/(2*N2*(v10[0]**2/2)),color=\"red\",label=r\"$PE$\")\n",
    "ax[1].plot(t10*fstar10/(2*np.pi),(b10)**2/(2*N2*(v10[0]**2/2))+((u10)**2+(v10)**2)/(2*(v10[0]**2/2)),color=\"blue\",label=r\"E\")\n",
    "ax[1].set_xlabel(\"Inertial Period\")\n",
    "ax[1].hlines(1,xmin=t5[0]*fstar5/(2*np.pi),xmax=t5[-1]*fstar5/(2*np.pi))\n",
    "ax[1].legend(loc=\"lower left\",ncol=3)\n",
    "# plt.savefig(\"inertial_period_background_plot.pdf\")\n",
    "plt.show()"
   ]
  },
  {
   "cell_type": "markdown",
   "id": "2b3fe482",
   "metadata": {},
   "source": [
    "Plot of buoyancy anomaly at lower limit for various slope Burger numbers"
   ]
  },
  {
   "cell_type": "code",
   "execution_count": null,
   "id": "d8cf47c9",
   "metadata": {},
   "outputs": [],
   "source": [
    "plt.plot(t1*fstar1/(2*np.pi),delta*b1/v1[0]**2,color=\"k\",label=r\"$S_\\infty=0.1$\")\n",
    "plt.plot(t2*fstar2/(2*np.pi),delta*b2/v2[0]**2,color=\"red\",label=r\"$S_\\infty=0.5$\")\n",
    "plt.plot(t3*fstar3/(2*np.pi),delta*b3/v3[0]**2,color=\"blue\",label=r\"$S_\\infty=1$\")\n",
    "plt.plot(t4*fstar4/(2*np.pi),delta*b4/v4[0]**2,color=\"green\",label=r\"$S_\\infty=1.5$\")\n",
    "plt.plot(t5*fstar5/(2*np.pi),delta*b5/v5[0]**2,color=\"magenta\",label=r\"$S_\\infty=2$\")\n",
    "\n",
    "plt.xlabel(\"Inertial Period\")\n",
    "plt.legend()"
   ]
  },
  {
   "cell_type": "code",
   "execution_count": null,
   "id": "87b950ca",
   "metadata": {},
   "outputs": [],
   "source": []
  },
  {
   "cell_type": "code",
   "execution_count": null,
   "id": "093380a2",
   "metadata": {},
   "outputs": [],
   "source": []
  }
 ],
 "metadata": {
  "kernelspec": {
   "display_name": "Python 3 (ipykernel)",
   "language": "python",
   "name": "python3"
  },
  "language_info": {
   "codemirror_mode": {
    "name": "ipython",
    "version": 3
   },
   "file_extension": ".py",
   "mimetype": "text/x-python",
   "name": "python",
   "nbconvert_exporter": "python",
   "pygments_lexer": "ipython3",
   "version": "3.8.10"
  }
 },
 "nbformat": 4,
 "nbformat_minor": 5
}
