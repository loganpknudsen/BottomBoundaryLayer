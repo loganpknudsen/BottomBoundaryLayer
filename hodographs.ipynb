{
 "cells": [
  {
   "cell_type": "code",
   "execution_count": null,
   "id": "53d101b3",
   "metadata": {},
   "outputs": [],
   "source": [
    "import numpy as np\n",
    "import matplotlib.pyplot as plt"
   ]
  },
  {
   "cell_type": "code",
   "execution_count": null,
   "id": "ae9ea811",
   "metadata": {},
   "outputs": [],
   "source": [
    "N2 = 1e-5 # s^-2, interior stratification\n",
    "# theta = 0.1812*np.pi/180 # 0.01 # angle of the slope 2.716\n",
    "f = 1e-4 # s^-1 coriolis parameter\n",
    "Vinf = 0.1\n",
    "# m s^-1 interior velocity\n",
    "delta = 0.5\n"
   ]
  },
  {
   "cell_type": "code",
   "execution_count": null,
   "id": "faafb922",
   "metadata": {},
   "outputs": [],
   "source": [
    "def shear_osc(t,Sinf,g):\n",
    "    theta = np.arctan(Sinf*f/N2**(0.5))\n",
    "    if g==\"gammau\":\n",
    "        gamma = (np.cos(theta)*(1+(1-delta)*Sinf**2))**(-1)\n",
    "    elif g==\"gammal\":\n",
    "        gamma = (3-Sinf**2)*(np.cos(theta)*(3*(1+Sinf**2)-4*delta*Sinf**2))**(-1)\n",
    "    vo = N2**(0.5)*Sinf*gamma*delta\n",
    "    u = (f*vo)/(fstar)*np.sin(fstar*t)\n",
    "    v = vo+(f**2*vo)/(fstar**2)*(np.cos(fstar*t)-1)\n",
    "    N = N2*theta*(f*vo)/(fstar**2)*(np.cos(fstar*t)-1)\n",
    "    return [u,v,N]"
   ]
  },
  {
   "cell_type": "code",
   "execution_count": null,
   "id": "12a0d9a0",
   "metadata": {},
   "outputs": [],
   "source": [
    "Sinf1 = 0.1\n",
    "theta = np.arctan(Sinf1*f/N2**(0.5))\n",
    "fstar = f*np.cos(theta)*(1+Sinf1**2)**(0.5)\n",
    "t1 = np.linspace(0,2*np.pi/fstar,50)\n",
    "u1,v1,b1 = shear_osc(t1, Sinf1, \"gammau\")"
   ]
  },
  {
   "cell_type": "code",
   "execution_count": null,
   "id": "1c249ca7",
   "metadata": {},
   "outputs": [],
   "source": [
    "Sinf2 = 0.5\n",
    "theta = np.arctan(Sinf2*f/N2**(0.5))\n",
    "fstar = f*np.cos(theta)*(1+Sinf2**2)**(0.5)\n",
    "t2 = np.linspace(0,2*np.pi/fstar,50)\n",
    "u2,v2,b2 = shear_osc(t2, Sinf2, \"gammau\")"
   ]
  },
  {
   "cell_type": "code",
   "execution_count": null,
   "id": "9eb35a11",
   "metadata": {},
   "outputs": [],
   "source": [
    "Sinf3 = 1\n",
    "theta = np.arctan(Sinf3*f/N2**(0.5))\n",
    "fstar = f*np.cos(theta)*(1+Sinf3**2)**(0.5)\n",
    "t3 = np.linspace(0,2*np.pi/fstar,50)\n",
    "u3,v3,b3 = shear_osc(t3, Sinf3, \"gammau\")"
   ]
  },
  {
   "cell_type": "code",
   "execution_count": null,
   "id": "e05f1349",
   "metadata": {},
   "outputs": [],
   "source": [
    "Sinf4 = 1.5\n",
    "theta = np.arctan(Sinf4*f/N2**(0.5))\n",
    "fstar = f*np.cos(theta)*(1+Sinf4**2)**(0.5)\n",
    "t4 = np.linspace(0,2*np.pi/fstar,50)\n",
    "u4,v4,b4 = shear_osc(t4, Sinf4, \"gammau\")"
   ]
  },
  {
   "cell_type": "code",
   "execution_count": null,
   "id": "bf27c9a1",
   "metadata": {},
   "outputs": [],
   "source": [
    "Sinf5 = 2\n",
    "theta = np.arctan(Sinf5*f/N2**(0.5))\n",
    "fstar = f*np.cos(theta)*(1+Sinf5**2)**(0.5)\n",
    "t5 = np.linspace(0,2*np.pi/fstar,50)\n",
    "u5, v5, b5 = shear_osc(t5, Sinf5, \"gammau\")"
   ]
  },
  {
   "cell_type": "code",
   "execution_count": null,
   "id": "b9bd0342",
   "metadata": {},
   "outputs": [],
   "source": [
    "plt.plot(u1,v1,color=\"red\",label = \"$S_\\infty$=0.1\")\n",
    "plt.plot(u2,v2,color=\"orange\",label = \"$S_\\infty$=0.5\")\n",
    "plt.plot(u3,v3,color=\"green\",label = \"$S_\\infty$=1\")\n",
    "plt.plot(u4,v4,color=\"blue\",label = \"$S_\\infty$=1.5\")\n",
    "plt.plot(u5,v5,color=\"magenta\",label = \"$S_\\infty$=2\")\n",
    "plt.legend()\n",
    "plt.xlabel(r\"$\\breve{u}$\")\n",
    "plt.ylabel(r\"$\\breve{v}$\")"
   ]
  },
  {
   "cell_type": "code",
   "execution_count": null,
   "id": "4a2db76d",
   "metadata": {},
   "outputs": [],
   "source": [
    "plt.plot(u1,b1,color=\"red\",label = \"$S_\\infty$=0.1\")\n",
    "plt.plot(u2,b2,color=\"orange\",label = \"$S_\\infty$=0.5\")\n",
    "plt.plot(u3,b3,color=\"green\",label = \"$S_\\infty$=1\")\n",
    "plt.plot(u4,b4,color=\"blue\",label = \"$S_\\infty$=1.5\")\n",
    "plt.plot(u5,b5,color=\"magenta\",label = \"$S_\\infty$=2\")\n",
    "plt.legend(loc=\"lower left\")\n",
    "plt.xlabel(r\"$\\breve{u}$\")\n",
    "plt.ylabel(r\"$\\breve{b}$\")"
   ]
  },
  {
   "cell_type": "code",
   "execution_count": null,
   "id": "63ed3afb",
   "metadata": {},
   "outputs": [],
   "source": []
  },
  {
   "cell_type": "code",
   "execution_count": null,
   "id": "fed21fd4",
   "metadata": {},
   "outputs": [],
   "source": []
  }
 ],
 "metadata": {
  "kernelspec": {
   "display_name": "Python 3 (ipykernel)",
   "language": "python",
   "name": "python3"
  },
  "language_info": {
   "codemirror_mode": {
    "name": "ipython",
    "version": 3
   },
   "file_extension": ".py",
   "mimetype": "text/x-python",
   "name": "python",
   "nbconvert_exporter": "python",
   "pygments_lexer": "ipython3",
   "version": "3.8.10"
  }
 },
 "nbformat": 4,
 "nbformat_minor": 5
}
