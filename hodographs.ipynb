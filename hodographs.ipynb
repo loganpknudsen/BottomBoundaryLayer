{
 "cells": [
  {
   "cell_type": "code",
   "execution_count": null,
   "id": "53d101b3",
   "metadata": {},
   "outputs": [],
   "source": [
    "import numpy as np\n",
    "import matplotlib.pyplot as plt"
   ]
  },
  {
   "cell_type": "code",
   "execution_count": null,
   "id": "ae9ea811",
   "metadata": {},
   "outputs": [],
   "source": [
    "N2 = 1e-5 # s^-2, interior stratification\n",
    "# theta = 0.1812*np.pi/180 # 0.01 # angle of the slope 2.716\n",
    "f = 1e-4 # s^-1 coriolis parameter\n",
    "Vinf = 0.1\n",
    "# m s^-1 interior velocity\n",
    "delta = 0.5\n"
   ]
  },
  {
   "cell_type": "code",
   "execution_count": null,
   "id": "faafb922",
   "metadata": {},
   "outputs": [],
   "source": [
    "def shear_osc(t,Sinf,g):\n",
    "    theta = np.arctan(Sinf*f/N2**(0.5))\n",
    "#     print(theta)\n",
    "    if g==\"gammau\":\n",
    "        gamma = (np.cos(theta)*(1+(1-delta)*Sinf**2))**(-1)\n",
    "    elif g==\"gammal\":\n",
    "        gamma = (3-Sinf**2)*(np.cos(theta)*(3*(1+Sinf**2)-4*delta*Sinf**2))**(-1)\n",
    "    vo = N2**(0.5)*Sinf*gamma*delta\n",
    "#     print(vo)\n",
    "    fstar = f*np.cos(theta)*(1+Sinf**2)**(0.5)\n",
    "    u = (f*np.cos(theta)*vo)/(fstar)*np.sin(fstar*t)\n",
    "    v = vo+(f**2*np.cos(theta)**2*vo)/(fstar**2)*(np.cos(fstar*t)-1)\n",
    "    N = N2*np.sin(theta)*(f*np.cos(theta)*vo)/(fstar**2)*(np.cos(fstar*t)-1)\n",
    "    return [u,v,N]"
   ]
  },
  {
   "cell_type": "code",
   "execution_count": null,
   "id": "12a0d9a0",
   "metadata": {},
   "outputs": [],
   "source": [
    "Sinf1 = 0.1\n",
    "theta = np.arctan(Sinf1*f/N2**(0.5))\n",
    "fstar1 = f*np.cos(theta)*(1+Sinf1**2)**(0.5)\n",
    "t1 = np.linspace(0,2*np.pi/fstar1,50)\n",
    "u1,v1,b1 = shear_osc(t1, Sinf1, \"gammau\")"
   ]
  },
  {
   "cell_type": "code",
   "execution_count": null,
   "id": "1c249ca7",
   "metadata": {},
   "outputs": [],
   "source": [
    "Sinf2 = 0.5\n",
    "theta = np.arctan(Sinf2*f/N2**(0.5))\n",
    "fstar2 = f*np.cos(theta)*(1+Sinf2**2)**(0.5)\n",
    "t2 = np.linspace(0,2*np.pi/fstar2,50)\n",
    "u2,v2,b2 = shear_osc(t2, Sinf2, \"gammau\")"
   ]
  },
  {
   "cell_type": "code",
   "execution_count": null,
   "id": "9eb35a11",
   "metadata": {},
   "outputs": [],
   "source": [
    "Sinf3 = 1\n",
    "theta3 = np.arctan(Sinf3*f/N2**(0.5))\n",
    "fstar3 = f*np.cos(theta3)*(1+Sinf3**2)**(0.5)\n",
    "t3 = np.linspace(0,2*np.pi/fstar3,50)\n",
    "u3,v3,b3 = shear_osc(t3, Sinf3, \"gammau\")"
   ]
  },
  {
   "cell_type": "code",
   "execution_count": null,
   "id": "e05f1349",
   "metadata": {},
   "outputs": [],
   "source": [
    "Sinf4 = 1.5\n",
    "theta = np.arctan(Sinf4*f/N2**(0.5))\n",
    "fstar4 = f*np.cos(theta)*(1+Sinf4**2)**(0.5)\n",
    "t4 = np.linspace(0,2*np.pi/fstar4,50)\n",
    "u4,v4,b4 = shear_osc(t4, Sinf4, \"gammau\")"
   ]
  },
  {
   "cell_type": "code",
   "execution_count": null,
   "id": "bf27c9a1",
   "metadata": {},
   "outputs": [],
   "source": [
    "Sinf5 = 2\n",
    "theta5 = np.arctan(Sinf5*f/N2**(0.5))\n",
    "fstar5 = f*np.cos(theta5)*(1+Sinf5**2)**(0.5)\n",
    "t5 = np.linspace(0,2*np.pi/fstar5,50)\n",
    "u5, v5, b5 = shear_osc(t5, Sinf5, \"gammau\")"
   ]
  },
  {
   "cell_type": "code",
   "execution_count": null,
   "id": "353af2e2",
   "metadata": {},
   "outputs": [],
   "source": [
    "Sinfq = 1e3\n",
    "theta = np.arctan(Sinfq*f/N2**(0.5))\n",
    "fstarq = f*np.cos(theta)*(1+Sinfq**2)**(0.5)\n",
    "tq = np.linspace(0,2*np.pi/fstarq,50)\n",
    "uq, vq, bq = shear_osc(tq, Sinfq, \"gammau\")"
   ]
  },
  {
   "cell_type": "code",
   "execution_count": null,
   "id": "b9bd0342",
   "metadata": {},
   "outputs": [],
   "source": [
    "plt.plot(u1/v1[0],v1/v1[0],color=\"red\",label = \"$S_\\infty$=0.1\")\n",
    "plt.plot(u2/v2[0],v2/v2[0],color=\"orange\",label = \"$S_\\infty$=0.5\")\n",
    "plt.plot(u3/v3[0],v3/v3[0],color=\"green\",label = \"$S_\\infty$=1\")\n",
    "plt.plot(u4/v4[0],v4/v4[0],color=\"blue\",label = \"$S_\\infty$=1.5\")\n",
    "plt.plot(u5/v5[0],v5/v5[0],color=\"magenta\",label = \"$S_\\infty$=2\")\n",
    "plt.legend()\n",
    "plt.xlabel(r\"$\\breve{u}$\")\n",
    "plt.ylabel(r\"$\\breve{v}$\")"
   ]
  },
  {
   "cell_type": "code",
   "execution_count": null,
   "id": "4a2db76d",
   "metadata": {},
   "outputs": [],
   "source": [
    "plt.plot(u1/v1[0],b1/v1[0]**2,color=\"red\",label = \"$S_\\infty$=0.1\")\n",
    "plt.plot(u2/v2[0],b2/v2[0]**2,color=\"orange\",label = \"$S_\\infty$=0.5\")\n",
    "plt.plot(u3/v3[0],b3/v3[0]**2,color=\"green\",label = \"$S_\\infty$=1\")\n",
    "plt.plot(u4/v4[0],b4/v4[0]**2,color=\"blue\",label = \"$S_\\infty$=1.5\")\n",
    "plt.plot(u5/v5[0],b5/v5[0]**2,color=\"magenta\",label = \"$S_\\infty$=2\")\n",
    "plt.legend(loc=\"lower left\")\n",
    "plt.xlabel(r\"$\\breve{u}$\")\n",
    "plt.ylabel(r\"$\\breve{b}$\")"
   ]
  },
  {
   "cell_type": "code",
   "execution_count": null,
   "id": "0cfa6c0a",
   "metadata": {},
   "outputs": [],
   "source": [
    "fig, ax = plt.subplots(1,2,figsize=(10,5),sharey=False,sharex=True,constrained_layout=True)\n",
    "ax[0].plot(u1/np.abs(v1[0]),v1/np.abs(v1[0]),color=\"red\",label = \"$S_\\infty$=0.1\")\n",
    "ax[0].plot(u2/np.abs(v2[0]),v2/np.abs(v2[0]),color=\"lime\",label = \"$S_\\infty$=0.5\")\n",
    "ax[0].plot(u3/np.abs(v3[0]),v3/np.abs(v3[0]),color=\"green\",label = \"$S_\\infty$=1\")\n",
    "ax[0].plot(u4/np.abs(v4[0]),v4/np.abs(v4[0]),color=\"blue\",label = \"$S_\\infty$=1.5\")\n",
    "ax[0].plot(u5/np.abs(v5[0]),v5/np.abs(v5[0]),color=\"magenta\",label = \"$S_\\infty$=2\")\n",
    "ax[0].legend(loc=\"lower left\")\n",
    "ax[0].text(-1.275,1.1,\"(a.)\")\n",
    "ax[0].set_xlabel(r\"$\\breve{u}/|\\delta\\Lambda|$\",fontsize=12)\n",
    "ax[0].set_ylabel(r\"$\\breve{v}/|\\delta\\Lambda|$\",fontsize=12)\n",
    "ax[0].set_aspect(1)\n",
    "ax[1].plot(u1/np.abs(v1[0]),delta*b1/(v1[0]**2/(v1[0]/(N2**(0.5)*0.1))),color=\"red\",label = \"$S_\\infty$=0.1\")\n",
    "ax[1].plot(u2/np.abs(v2[0]),delta*b2/(v2[0]**2/(v2[0]/(N2**(0.5)*0.5))),color=\"lime\",label = \"$S_\\infty$=0.5\")\n",
    "ax[1].plot(u3/np.abs(v3[0]),delta*b3/(v3[0]**2/(v3[0]/(N2**(0.5)*1))),color=\"green\",label = \"$S_\\infty$=1\")\n",
    "ax[1].plot(u4/np.abs(v4[0]),delta*b4/(v4[0]**2/(v4[0]/(N2**(0.5)*1.5))),color=\"blue\",label = \"$S_\\infty$=1.5\")\n",
    "ax[1].plot(u5/np.abs(v5[0]),delta*b5/(v5[0]**2/(v5[0]/(N2**(0.5)*2))),color=\"magenta\",label = \"$S_\\infty$=2\")\n",
    "ax[1].set_xlabel(r\"$\\breve{u}/|\\delta\\Lambda|$\",fontsize=12)\n",
    "ax[1].text(-1.25,0.1,\"(b.)\")\n",
    "ax[1].set_aspect(2)\n",
    "ax[1].set_ylabel(r\"$\\breve{b}/|\\delta\\Lambda\\gamma^{-1}|$\",fontsize=12)\n",
    "# ax[0].hlines(0.8,xmin=-1,xmax=1)\n",
    "plt.savefig(\"hodograph_delta_0_5_gamma_u.jpeg\")\n",
    "plt.show()"
   ]
  },
  {
   "cell_type": "code",
   "execution_count": null,
   "id": "63ed3afb",
   "metadata": {},
   "outputs": [],
   "source": [
    "Sinf6 = 0.1\n",
    "theta = np.arctan(Sinf6*f/N2**(0.5))\n",
    "fstar = f*np.cos(theta)*(1+Sinf6**2)**(0.5)\n",
    "t6 = np.linspace(0,2*np.pi/fstar,50)\n",
    "u6, v6, b6= shear_osc(t6, Sinf6, \"gammal\")"
   ]
  },
  {
   "cell_type": "code",
   "execution_count": null,
   "id": "fed21fd4",
   "metadata": {},
   "outputs": [],
   "source": [
    "Sinf7 = 0.5\n",
    "theta = np.arctan(Sinf7*f/N2**(0.5))\n",
    "fstar = f*np.cos(theta)*(1+Sinf7**2)**(0.5)\n",
    "t7 = np.linspace(0,2*np.pi/fstar,50)\n",
    "u7,v7,b7 = shear_osc(t7, Sinf7, \"gammal\")"
   ]
  },
  {
   "cell_type": "code",
   "execution_count": null,
   "id": "66363a73",
   "metadata": {},
   "outputs": [],
   "source": [
    "Sinf8 = 1\n",
    "theta = np.arctan(Sinf8*f/N2**(0.5))\n",
    "fstar8 = f*np.cos(theta)*(1+Sinf8**2)**(0.5)\n",
    "t8 = np.linspace(0,2*np.pi/fstar8,50)\n",
    "u8, v8, b8 = shear_osc(t8, Sinf8, \"gammal\")"
   ]
  },
  {
   "cell_type": "code",
   "execution_count": null,
   "id": "d9a8d3f7",
   "metadata": {},
   "outputs": [],
   "source": [
    "Sinf9 = 1.5\n",
    "theta = np.arctan(Sinf9*f/N2**(0.5))\n",
    "fstar = f*np.cos(theta)*(1+Sinf9**2)**(0.5)\n",
    "t9 = np.linspace(0,2*np.pi/fstar,50)\n",
    "u9, v9, b9 = shear_osc(t9, Sinf9, \"gammal\")"
   ]
  },
  {
   "cell_type": "code",
   "execution_count": null,
   "id": "d1c55264",
   "metadata": {},
   "outputs": [],
   "source": [
    "Sinf10 = 2\n",
    "theta10 = np.arctan(Sinf10*f/N2**(0.5))\n",
    "fstar10 = f*np.cos(theta10)*(1+Sinf10**2)**(0.5)\n",
    "t10 = np.linspace(0,2*np.pi/fstar10,50)\n",
    "u10, v10, b10 = shear_osc(t10, Sinf10, \"gammal\")"
   ]
  },
  {
   "cell_type": "code",
   "execution_count": null,
   "id": "bffbc5e1",
   "metadata": {},
   "outputs": [],
   "source": [
    "Sinf11 = 4\n",
    "theta = np.arctan(Sinf11*f/N2**(0.5))\n",
    "fstar11 = f*np.cos(theta)*(1+Sinf11**2)**(0.5)\n",
    "t11 = np.linspace(0,2*np.pi/fstar11,50)\n",
    "u11, v11, b11 = shear_osc(t11, Sinf11, \"gammal\")"
   ]
  },
  {
   "cell_type": "code",
   "execution_count": null,
   "id": "14274851",
   "metadata": {},
   "outputs": [],
   "source": [
    "plt.plot(u6,v6,color=\"red\",label = \"$S_\\infty$=0.1\")\n",
    "plt.plot(u7,v7,color=\"orange\",label = \"$S_\\infty$=0.5\")\n",
    "plt.plot(u8,v8,color=\"green\",label = \"$S_\\infty$=1\")\n",
    "plt.plot(u9,v9,color=\"blue\",label = \"$S_\\infty$=1.5\")\n",
    "plt.plot(u10,v10,color=\"magenta\",label = \"$S_\\infty$=2\")\n",
    "plt.legend()\n",
    "plt.xlabel(r\"$\\breve{u}$\")\n",
    "plt.ylabel(r\"$\\breve{v}$\")\n",
    "# plt.hlines(-N2**(0.5)/2,xmin=-6e-4,xmax=6e-4)"
   ]
  },
  {
   "cell_type": "code",
   "execution_count": null,
   "id": "b78c2371",
   "metadata": {},
   "outputs": [],
   "source": [
    "plt.plot(u6,b6,color=\"red\",label = \"$S_\\infty$=0.1\")\n",
    "plt.plot(u7,b7,color=\"orange\",label = \"$S_\\infty$=0.5\")\n",
    "plt.plot(u8,b8,color=\"green\",label = \"$S_\\infty$=1\")\n",
    "plt.plot(u9,b9,color=\"blue\",label = \"$S_\\infty$=1.5\")\n",
    "plt.plot(u10,b10,color=\"magenta\",label = \"$S_\\infty$=2\")\n",
    "plt.legend(loc=\"lower left\")\n",
    "plt.xlabel(r\"$\\breve{u}$\")\n",
    "plt.ylabel(r\"$\\breve{b}$\")"
   ]
  },
  {
   "cell_type": "code",
   "execution_count": null,
   "id": "dfd056fb",
   "metadata": {},
   "outputs": [],
   "source": [
    "ax = plt.figure(figsize=(10,5),constrained_layout=True).subplots(1,2,sharex=True)\n",
    "ax[0].plot(u6/np.abs(v6[0]),v6/np.abs(v6[0]),color=\"red\",label = \"$S_\\infty$=0.1\")\n",
    "ax[0].plot(u7/np.abs(v7[0]),v7/np.abs(v7[0]),color=\"lime\",label = \"$S_\\infty$=0.5\")\n",
    "ax[0].plot(u8/np.abs(v8[0]),v8/np.abs(v8[0]),color=\"green\",label = \"$S_\\infty$=1\")\n",
    "ax[0].plot(u9/np.abs(v9[0]),v9/np.abs(v9[0]),color=\"blue\",label = \"$S_\\infty$=1.5\")\n",
    "ax[0].plot(u10/np.abs(v10[0]),v10/np.abs(v10[0]),color=\"magenta\",label = \"$S_\\infty$=2\")\n",
    "ax[0].legend(loc=\"lower left\")\n",
    "ax[0].text(-1.25,1.1,\"(a.)\")\n",
    "ax[0].set_aspect(1)\n",
    "ax[0].set_xlabel(r\"$\\breve{u}/|\\delta\\Lambda|$\",fontsize=12)\n",
    "ax[0].set_ylabel(r\"$\\breve{v}/|\\delta\\Lambda|$\",fontsize=12)\n",
    "ax[1].plot(u6/np.abs(v6[0]),delta*b6/(v6[0]**2/np.abs(v6[0]/(N2**(0.5)*0.1))),color=\"red\")\n",
    "ax[1].plot(u7/np.abs(v7[0]),delta*b7/(v7[0]**2/np.abs(v7[0]/(N2**(0.5)*0.5))),color=\"lime\")\n",
    "ax[1].plot(u8/np.abs(v8[0]),delta*b8/(v8[0]**2/np.abs(v8[0]/(N2**(0.5)*1))),color=\"green\")\n",
    "ax[1].plot(u9/np.abs(v9[0]),delta*b9/(v9[0]**2/np.abs(v9[0]/(N2**(0.5)*1.5))),color=\"blue\")\n",
    "ax[1].plot(u10/np.abs(v10[0]),delta*b10/np.abs(v10[0]**2/(v10[0]/(N2**(0.5)*2))),color=\"magenta\")\n",
    "# ax[1].text(-1.325,3.1,\"(b.)\")\n",
    "ax[1].set_xlabel(r\"$\\breve{u}/|\\delta\\Lambda|$\",fontsize=12)\n",
    "ax[1].set_ylabel(r\"$\\breve{b}/|\\delta\\Lambda^2\\gamma^{-1}|$\",fontsize=12)\n",
    "ax[1].set_aspect(2/1.2)\n",
    "plt.savefig(\"hodograph_delta_0_5_gamma_l.pdf\")\n",
    "plt.show()"
   ]
  },
  {
   "cell_type": "code",
   "execution_count": null,
   "id": "ea37aa82",
   "metadata": {},
   "outputs": [],
   "source": [
    "plt.figure(figsize=(8,4))\n",
    "plt.plot(t3*fstar3/(2*np.pi),u3/v3[0],color=\"k\",label=r\"$u/\\Lambda$\")\n",
    "plt.plot(t3*fstar3/(2*np.pi),v3/v3[0],color=\"blue\",label=r\"$v/\\Lambda$\")\n",
    "plt.plot(t3*fstar3/(2*np.pi),delta*b3/v3[0]**2,color=\"red\",label=r\"$b/(\\delta\\Lambda^2)$\")\n",
    "plt.xlabel(\"Inertial Period\")\n",
    "plt.legend()"
   ]
  },
  {
   "cell_type": "code",
   "execution_count": null,
   "id": "abf45e27",
   "metadata": {},
   "outputs": [],
   "source": [
    "plt.figure(figsize=(8,4))\n",
    "plt.plot(t3*fstar3/(2*np.pi),(f*v3+np.sin(theta3)*b3)/(f*v3[0]),color=\"k\",label=r\"$\\dfrac{1}{f\\Lambda}\\dfrac{\\partial u}{\\partial t}$\")\n",
    "plt.plot(t3*fstar3/(2*np.pi),-f*u3/(f*v3[0]),color=\"blue\",label=r\"$\\dfrac{1}{f\\Lambda}\\dfrac{\\partial v}{\\partial t}$\")\n",
    "plt.plot(t3*fstar3/(2*np.pi),-N2*np.sin(theta3)*u3/(f*v3[0]**2/delta),color=\"red\",label=r\"$b/(f\\delta\\Lambda^2)$\")\n",
    "plt.xlabel(\"Inertial Period\")\n",
    "plt.legend()"
   ]
  },
  {
   "cell_type": "code",
   "execution_count": null,
   "id": "633a0161",
   "metadata": {},
   "outputs": [],
   "source": [
    "fig, ax = plt.subplots(2,1,figsize=(8,8),sharey=False,sharex=True,constrained_layout=True)\n",
    "ax[0].plot(t3*fstar3/(2*np.pi),u3/v3[0],color=\"k\",label=r\"$\\dfrac{\\breve{u}}{\\delta\\Lambda}$\")\n",
    "ax[0].plot(t3*fstar3/(2*np.pi),v3/v3[0],color=\"blue\",label=r\"$\\dfrac{\\breve{v}}{\\delta\\Lambda}$\")\n",
    "ax[0].plot(t3*fstar3/(2*np.pi),delta*b3/v3[0]**2,color=\"red\",label=r\"$\\dfrac{\\breve{b}}{\\delta\\Lambda^2}$\")\n",
    "ax[0].set_xlim([0,1])\n",
    "ax[0].text(-0.05,1.16,\"(a.)\")\n",
    "ax[0].legend(loc = \"lower left\",ncol=3)\n",
    "ax[1].plot(t3*fstar3/(2*np.pi),(f*v3+np.sin(theta3)*b3)/(f*v3[0]),color=\"k\",label=r\"$\\dfrac{1}{f\\delta\\Lambda}\\dfrac{\\partial \\breve{u}}{\\partial t}$\")\n",
    "ax[1].plot(t3*fstar3/(2*np.pi),(f*v3)/(f*v3[0]),color=\"k\",linestyle=\"--\",label=r\"$\\dfrac{f\\breve{v}}{f\\delta\\Lambda}$\")\n",
    "ax[1].plot(t3*fstar3/(2*np.pi),(np.sin(theta3)*b3)/(f*v3[0]),color=\"k\",linestyle=\"-.\",label=r\"$\\dfrac{\\sin\\theta\\breve{b}}{f\\delta\\Lambda}$\")\n",
    "\n",
    "ax[1].plot(t3*fstar3/(2*np.pi),-f*u3/(f*v3[0]),color=\"blue\",label=r\"$\\dfrac{1}{f\\delta\\Lambda}\\dfrac{\\partial \\breve{v}}{\\partial t}$\")\n",
    "ax[1].plot(t3*fstar3/(2*np.pi),-N2*np.sin(theta3)*u3/(f*v3[0]**2/delta),color=\"red\",label=r\"$\\dfrac{1}{f\\delta\\Lambda^2}\\dfrac{\\partial \\breve{b}}{\\partial t}$\")\n",
    "ax[1].set_xlabel(\"Inertial Period\")\n",
    "ax[1].set_ylim([-1.5,1.3])\n",
    "ax[1].text(-0.05,1.16,\"(b.)\")\n",
    "ax[1].legend(loc = \"lower left\",ncol=5)\n",
    "# plt.savefig(\"inertial_period_background_plot.pdf\")\n",
    "plt.show()"
   ]
  },
  {
   "cell_type": "code",
   "execution_count": null,
   "id": "c7578958",
   "metadata": {},
   "outputs": [],
   "source": []
  },
  {
   "cell_type": "code",
   "execution_count": null,
   "id": "fbacb032",
   "metadata": {},
   "outputs": [],
   "source": [
    "fig, ax = plt.subplots(2,1,figsize=(8,8),sharey=False,sharex=True,constrained_layout=True)\n",
    "ax[0].plot(t3*fstar3/(2*np.pi),u3*(f*v3+np.sin(theta3)*b3)/(f*(v3[0]**2/2)),color=\"k\",linestyle = \"-.\",label=r\"$\\dfrac{1}{f(\\delta\\Lambda)^2}\\dfrac{\\partial \\breve{u}^2}{\\partial t}$\")\n",
    "ax[0].plot(t3*fstar3/(2*np.pi),v3*(-f*u3)/(f*(v3[0]**2/2)),color=\"k\",linestyle=\"--\",label=r\"$\\dfrac{1}{f(\\delta\\Lambda)^2}\\dfrac{\\partial \\breve{v}^2}{\\partial t}$\")\n",
    "ax[0].plot(t3*fstar3/(2*np.pi),v3*(-f*u3)/(f*(v3[0]**2/2))+u3*(f*v3+np.sin(theta3)*b3)/(f*(v3[0]**2/2)),color=\"k\",label=r\"$\\dfrac{1}{f(\\delta\\Lambda)^2}\\dfrac{\\partial\\breve{k}}{\\partial t}$\")\n",
    "ax[0].plot(t3*fstar3/(2*np.pi),b3*(-N2*np.sin(theta3)*u3)/(f*N2*(v3[0]**2/2)),color=\"red\",label=r\"$\\dfrac{1}{0.5fN^2(\\delta\\Lambda)^2}\\dfrac{\\partial \\breve{b}^2}{\\partial t}$\")\n",
    "ax[0].plot(t3*fstar3/(2*np.pi),v3*(-f*u3)/(f*(v3[0]**2/2))+u3*(f*v3+np.sin(theta3)*b3)/(f*(v3[0]**2/2))+b3*(-N2*np.sin(theta3)*u3)/(f*N2*(v3[0]**2/2)),color=\"blue\",label=r\"$\\dfrac{\\partial E}{\\partial t}$\")\n",
    "ax[0].set_xlim([0,1])\n",
    "ax[0].text(-0.05,1.1,\"(a.)\")\n",
    "# ax[0].xlabel(\"Inertial Period\")\n",
    "ax[0].set_ylim([-1.25,1.0])\n",
    "# plt.text(-0.05,1.16,\"(b.)\")\n",
    "ax[0].legend(loc = \"lower left\",ncol=5)\n",
    "H = 0.1/((1e-5)**(0.5)*2/3)\n",
    "ax[1].plot(t3*fstar3/(2*np.pi),((u3)**2+(v3)**2)/(2*(v3[0]**2/2)),color=\"k\",label=r\"$\\dfrac{\\breve{k}}{(\\delta\\Lambda)^2}$\")\n",
    "ax[1].plot(t3*fstar3/(2*np.pi),(b3)**2/(2*N2*(v3[0]**2/2)),color=\"red\",label=r\"$\\dfrac{\\breve{P}}{(\\delta\\Lambda)^2}$\")\n",
    "ax[1].plot(t3*fstar3/(2*np.pi),(b3)**2/(2*N2*(v3[0]**2/2))+((u3)**2+(v3)**2)/(2*(v3[0]**2/2)),color=\"blue\",label=r\"$\\dfrac{E}{(\\delta\\Lambda)^2}$\")\n",
    "ax[1].set_xlabel(\"Inertial Period\")\n",
    "ax[1].hlines(1,xmin=t5[0]*fstar5/(2*np.pi),xmax=t5[-1]*fstar5/(2*np.pi))\n",
    "ax[1].legend(loc=\"lower left\",ncol=3)\n",
    "ax[1].text(-0.05,1.075,\"(b.)\")\n",
    "plt.savefig(\"inertial_period_background_energy_plot.pdf\")\n",
    "plt.show()"
   ]
  },
  {
   "cell_type": "code",
   "execution_count": null,
   "id": "f5639fc0",
   "metadata": {},
   "outputs": [],
   "source": [
    "fig, ax = plt.subplots(2,1,figsize=(8,8),sharey=False,sharex=True,constrained_layout=True)\n",
    "ax[0].plot(t10*fstar10/(2*np.pi),u10*(f*v10+np.sin(theta10)*b10)/(f*(v10[0]**2/2)),color=\"k\",linestyle = \"-.\",label=r\"$\\dfrac{1}{f(\\delta\\Lambda)^2}\\dfrac{\\partial \\breve{u}^2}{\\partial t}$\")\n",
    "ax[0].plot(t10*fstar10/(2*np.pi),v10*(-f*u10)/(f*(v10[0]**2/2)),color=\"k\",linestyle=\"--\",label=r\"$\\dfrac{1}{f(\\delta\\Lambda)^2}\\dfrac{\\partial \\breve{v}^2}{\\partial t}$\")\n",
    "ax[0].plot(t10*fstar10/(2*np.pi),v10*(-f*u10)/(f*(v10[0]**2/2))+u10*(f*np.cos(theta10)*v10+np.sin(theta10)*b10)/(f*np.cos(theta10)*(v10[0]**2/2)),color=\"k\",label=r\"$\\dfrac{1}{f(\\delta\\Lambda)^2}\\dfrac{\\partial\\breve{k}^2}{\\partial t}$\")\n",
    "ax[0].plot(t10*fstar10/(2*np.pi),b10*(-N2*np.sin(theta10)*u10)/(f*np.cos(theta10)*N2*(v10[0]**2/2)),color=\"red\",label=r\"$\\dfrac{1}{0.5fN^2(\\delta\\Lambda)^2}\\dfrac{\\partial \\breve{b}^2}{\\partial t}$\")\n",
    "ax[0].plot(t10*fstar10/(2*np.pi),v10*(-f*u10)/(f*(v10[0]**2/2))+u10*(f*np.cos(theta10)*v10+np.sin(theta10)*b10)/(f*np.cos(theta10)*(v10[0]**2/2))+b10*(-N2*np.sin(theta10)*u10)/(f*np.cos(theta10)*N2*(v10[0]**2/2)),color=\"blue\",label=r\"$\\dfrac{\\partial E}{\\partial t}$\")\n",
    "ax[0].set_xlim([0,1])\n",
    "# ax[0].xlabel(\"Inertial Period\")\n",
    "ax[0].set_ylim([-1.25,1.0])\n",
    "# plt.text(-0.05,1.16,\"(b.)\")\n",
    "ax[0].legend(loc = \"lower left\",ncol=5)\n",
    "H = 0.1/((1e-5)**(0.5)*2/3)\n",
    "ax[1].plot(t10*fstar10/(2*np.pi),((u10)**2+(v10)**2)/(2*(v10[0]**2/2)),color=\"k\",label=r\"$KE$\")\n",
    "ax[1].plot(t10*fstar10/(2*np.pi),(b10)**2/(2*N2*(v10[0]**2/2)),color=\"red\",label=r\"$PE$\")\n",
    "ax[1].plot(t10*fstar10/(2*np.pi),(b10)**2/(2*N2*(v10[0]**2/2))+((u10)**2+(v10)**2)/(2*(v10[0]**2/2)),color=\"blue\",label=r\"E\")\n",
    "ax[1].set_xlabel(\"Inertial Period\")\n",
    "ax[1].hlines(1,xmin=t5[0]*fstar5/(2*np.pi),xmax=t5[-1]*fstar5/(2*np.pi))\n",
    "ax[1].legend(loc=\"lower left\",ncol=3)\n",
    "# plt.savefig(\"inertial_period_background_plot.pdf\")\n",
    "plt.show()"
   ]
  },
  {
   "cell_type": "code",
   "execution_count": null,
   "id": "f0236c1a",
   "metadata": {},
   "outputs": [],
   "source": [
    "plt.figure(figsize=(8,4))\n",
    "H = 0.1/((1e-5)**(0.5)*2/3)\n",
    "plt.plot(t5*fstar5/(2*np.pi),((u5)**2+(v5)**2)/(2*(v5[0]**2/2)),color=\"k\",label=r\"$KE$\")\n",
    "plt.plot(t5*fstar5/(2*np.pi),(b5)**2/(2*N2*(v5[0]**2/2)),color=\"red\",label=r\"$PE$\")\n",
    "plt.plot(t5*fstar5/(2*np.pi),(b5)**2/(2*N2*(v5[0]**2/2))+((u5)**2+(v5)**2)/(2*(v5[0]**2/2)),color=\"red\",label=r\"Total\")\n",
    "plt.xlabel(\"Inertial Period\")\n",
    "plt.hlines(1,xmin=t5[0]*fstar5/(2*np.pi),xmax=t5[-1]*fstar5/(2*np.pi))\n",
    "plt.legend()"
   ]
  },
  {
   "cell_type": "code",
   "execution_count": null,
   "id": "90afbc83",
   "metadata": {},
   "outputs": [],
   "source": [
    "plt.plot(t5*fstar5/(2*np.pi),u5/v5[0],color=\"k\",label=r\"$u/v_{max}$ for $\\gamma_u$\")\n",
    "plt.plot(t5*fstar5/(2*np.pi),v5/v5[0],color=\"blue\",label=r\"$v/v_{max}$ for $\\gamma_u$\")\n",
    "plt.plot(t5*fstar5/(2*np.pi),delta*b5/v5[0]**2,color=\"red\",label=r\"$b/b_{max}$ for $\\gamma_u$\")\n",
    "plt.xlabel(\"Inertial Period\")\n",
    "plt.legend()"
   ]
  },
  {
   "cell_type": "code",
   "execution_count": null,
   "id": "d8cf47c9",
   "metadata": {},
   "outputs": [],
   "source": [
    "plt.plot(t1*fstar1/(2*np.pi),delta*b1/v1[0]**2,color=\"k\",label=r\"$S_\\infty=0.1$\")\n",
    "plt.plot(t2*fstar2/(2*np.pi),delta*b2/v2[0]**2,color=\"red\",label=r\"$S_\\infty=0.5$\")\n",
    "plt.plot(t3*fstar3/(2*np.pi),delta*b3/v3[0]**2,color=\"blue\",label=r\"$S_\\infty=1$\")\n",
    "plt.plot(t4*fstar4/(2*np.pi),delta*b4/v4[0]**2,color=\"green\",label=r\"$S_\\infty=1.5$\")\n",
    "plt.plot(t5*fstar5/(2*np.pi),delta*b5/v5[0]**2,color=\"magenta\",label=r\"$S_\\infty=2$\")\n",
    "\n",
    "plt.xlabel(\"Inertial Period\")\n",
    "plt.legend()"
   ]
  },
  {
   "cell_type": "code",
   "execution_count": null,
   "id": "372cb38e",
   "metadata": {},
   "outputs": [],
   "source": [
    "fig, ax = plt.subplots(2,1,figsize=(8,8),sharey=False,sharex=True,constrained_layout=True)\n",
    "ax[0].plot(t3*fstar3/(2*np.pi),u3*b3*np.sin(theta3),color=\"k\",label=r\"$\\dfrac{\\breve{u}}{\\delta\\Lambda}$\")\n",
    "# ax[0].plot(t3*fstar3/(2*np.pi),v3/v3[0],color=\"blue\",label=r\"$\\dfrac{\\breve{v}}{\\delta\\Lambda}$\")\n",
    "# ax[0].plot(t3*fstar3/(2*np.pi),delta*b3/v3[0]**2,color=\"red\",label=r\"$\\dfrac{\\breve{b}}{\\delta\\Lambda^2}$\")\n",
    "ax[0].set_xlim([0,1])\n",
    "ax[0].text(-0.05,1.16,\"(a.)\")\n",
    "ax[0].legend(loc = \"lower left\",ncol=3)\n",
    "ax[1].plot(t3*fstar3/(2*np.pi),(f*v3+np.sin(theta3)*b3)/(f*v3[0]),color=\"k\",label=r\"$\\dfrac{1}{f\\delta\\Lambda}\\dfrac{\\partial \\breve{u}}{\\partial t}$\")\n",
    "ax[1].plot(t3*fstar3/(2*np.pi),(f*v3)/(f*v3[0]),color=\"k\",linestyle=\"--\",label=r\"$\\dfrac{f\\breve{v}}{f\\delta\\Lambda}$\")\n",
    "ax[1].plot(t3*fstar3/(2*np.pi),(np.sin(theta3)*b3)/(f*v3[0]),color=\"k\",linestyle=\"-.\",label=r\"$\\dfrac{\\sin\\theta\\breve{b}}{f\\delta\\Lambda}$\")\n",
    "\n",
    "ax[1].plot(t3*fstar3/(2*np.pi),-f*u3/(f*v3[0]),color=\"blue\",label=r\"$\\dfrac{1}{f\\delta\\Lambda}\\dfrac{\\partial \\breve{v}}{\\partial t}$\")\n",
    "ax[1].plot(t3*fstar3/(2*np.pi),-N2*np.sin(theta3)*u3/(f*v3[0]**2/delta),color=\"red\",label=r\"$\\dfrac{1}{f\\delta\\Lambda^2}\\dfrac{\\partial \\breve{b}}{\\partial t}$\")\n",
    "ax[1].set_xlabel(\"Inertial Period\")\n",
    "ax[1].set_ylim([-1.5,1.3])\n",
    "ax[1].text(-0.05,1.16,\"(b.)\")\n",
    "ax[1].legend(loc = \"lower left\",ncol=5)\n",
    "# plt.savefig(\"inertial_period_background_plot.pdf\")\n",
    "plt.show()"
   ]
  },
  {
   "cell_type": "code",
   "execution_count": null,
   "id": "f6b87d44",
   "metadata": {},
   "outputs": [],
   "source": [
    "plt.plot(t3*fstar3/(2*np.pi),u3**2+(v3[0]/delta-v3)**2,color=\"b\")"
   ]
  },
  {
   "cell_type": "code",
   "execution_count": null,
   "id": "fcfddb46",
   "metadata": {},
   "outputs": [],
   "source": []
  },
  {
   "cell_type": "code",
   "execution_count": null,
   "id": "6f7bc3e8",
   "metadata": {},
   "outputs": [],
   "source": []
  },
  {
   "cell_type": "code",
   "execution_count": null,
   "id": "87b950ca",
   "metadata": {},
   "outputs": [],
   "source": []
  },
  {
   "cell_type": "code",
   "execution_count": null,
   "id": "093380a2",
   "metadata": {},
   "outputs": [],
   "source": []
  }
 ],
 "metadata": {
  "kernelspec": {
   "display_name": "Python 3 (ipykernel)",
   "language": "python",
   "name": "python3"
  },
  "language_info": {
   "codemirror_mode": {
    "name": "ipython",
    "version": 3
   },
   "file_extension": ".py",
   "mimetype": "text/x-python",
   "name": "python",
   "nbconvert_exporter": "python",
   "pygments_lexer": "ipython3",
   "version": "3.8.10"
  }
 },
 "nbformat": 4,
 "nbformat_minor": 5
}
