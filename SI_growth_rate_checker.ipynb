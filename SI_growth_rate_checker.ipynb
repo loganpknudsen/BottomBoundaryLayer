{
 "cells": [
  {
   "cell_type": "code",
   "execution_count": null,
   "id": "0c5f3220-9679-4b98-bd5d-234ce65d9fc8",
   "metadata": {},
   "outputs": [],
   "source": [
    "import numpy as np\n",
    "import matplotlib.pyplot as plt\n",
    "import xarray as xr"
   ]
  },
  {
   "cell_type": "code",
   "execution_count": null,
   "id": "7fef362a",
   "metadata": {},
   "outputs": [],
   "source": [
    "data3=xr.open_dataset(\"PSI_non_dim_full_form_mid_res.nc\")"
   ]
  },
  {
   "cell_type": "code",
   "execution_count": null,
   "id": "4f909ef2-1323-47e2-af0a-03c47c2d5324",
   "metadata": {},
   "outputs": [],
   "source": [
    "S2 = 0.25\n",
    "gamma = 0.81 #0.5*(1+(1+2)**(-1))\n",
    "omega1 = data3.growth_rate #.isel(delta=0,N=0,gamma_index=0) #np.linspace(0,1.6,41)#np.arange(0,1.5,0.01)"
   ]
  },
  {
   "cell_type": "markdown",
   "id": "c9402a13",
   "metadata": {},
   "source": [
    "##### S2"
   ]
  },
  {
   "cell_type": "code",
   "execution_count": null,
   "id": "eaec4feb",
   "metadata": {},
   "outputs": [],
   "source": [
    "omega1"
   ]
  },
  {
   "cell_type": "code",
   "execution_count": null,
   "id": "a8eec6c1-cfa9-4b4f-bc64-386559347e75",
   "metadata": {},
   "outputs": [],
   "source": [
    "def theta(omega):\n",
    "    top = -1*(1+omega**2)*(1-gamma)+gamma*S2\n",
    "    bottom = 1+omega**2\n",
    "    return -1*(top/bottom)**(0.5)"
   ]
  },
  {
   "cell_type": "code",
   "execution_count": null,
   "id": "94053e14-3096-4909-8484-0b0f56a65044",
   "metadata": {},
   "outputs": [],
   "source": [
    "def k(omega):\n",
    "    t = theta(omega)\n",
    "    tp = (1+S2+omega**2)*(np.arctan(t)+np.pi)\n",
    "    bttm = S2*(-1*(1+omega**2)*(1-gamma)+gamma*S2)\n",
    "    return tp/(bttm)**(0.5)"
   ]
  },
  {
   "cell_type": "code",
   "execution_count": null,
   "id": "e9bdf020",
   "metadata": {},
   "outputs": [],
   "source": [
    "def k_shift(omega,q):\n",
    "    tp = (1+S2+np.power(omega,2))*(q)\n",
    "    bttm = S2*(-1*(1+np.power(omega,2))*(1-gamma)+gamma*S2)\n",
    "    return tp/(bttm)**(0.5)"
   ]
  },
  {
   "cell_type": "code",
   "execution_count": null,
   "id": "514dbede",
   "metadata": {},
   "outputs": [],
   "source": [
    "def w_max():\n",
    "    return (gamma*S2/(1-gamma)-1)**(0.5)"
   ]
  },
  {
   "cell_type": "code",
   "execution_count": null,
   "id": "493e9e10-6d90-4d28-81a1-9359c00dd2c7",
   "metadata": {},
   "outputs": [],
   "source": [
    "k_list = k(omega1)"
   ]
  },
  {
   "cell_type": "code",
   "execution_count": null,
   "id": "eb3c890e",
   "metadata": {},
   "outputs": [],
   "source": [
    "theta(omega1)"
   ]
  },
  {
   "cell_type": "code",
   "execution_count": null,
   "id": "9886bb34",
   "metadata": {},
   "outputs": [],
   "source": [
    "omega1[:]"
   ]
  },
  {
   "cell_type": "code",
   "execution_count": null,
   "id": "7c4200c5",
   "metadata": {},
   "outputs": [],
   "source": [
    "k_list[:]"
   ]
  },
  {
   "cell_type": "code",
   "execution_count": null,
   "id": "5598be46-d0af-4b00-b127-33eeca4a30da",
   "metadata": {},
   "outputs": [],
   "source": [
    "plt.plot(k_list[:],omega1[:])\n",
    "# plt.xticks(np.arange(8,32,1))\n",
    "plt.show()"
   ]
  },
  {
   "cell_type": "code",
   "execution_count": null,
   "id": "509f20d2",
   "metadata": {},
   "outputs": [],
   "source": [
    "# data3.growth_rate.isel(delta=0,N=0,t=0,gamma_index=0).values\n",
    "data3"
   ]
  },
  {
   "cell_type": "code",
   "execution_count": null,
   "id": "84144600",
   "metadata": {},
   "outputs": [],
   "source": [
    "shft = 0 #2.45#4*np.pi/6\n",
    "k_m = data3.k[:]+k_shift(data3.growth_rate,shft)[:]\n",
    "plt.plot(data3.k[:],data3.growth_rate.isel(N=0,gamma_index=0,delta=0).mean(['t'])[:],color=\"b\",linestyle=\"dashed\",label=\"Dedalus Ouput\")\n",
    "# plt.plot(k_list[0,:],omega1[0,:],linestyle=\"dashed\",c=\"r\", label=\"Analytic solution\")\n",
    "# plt.hlines(w_max(),xmin=np.min([np.array([k_list[0]]),k_m.values[0]]),xmax=np.max([np.array([k_list[-1]]),k_m.values[-1]]),linestyles=\"dotted\",color=\"k\",label=\"Upper Limit of Analytical Solution\")\n",
    "plt.legend(loc=\"lower right\")\n",
    "plt.title(f\"Growth Rate for $S^2=${S2} and $\\gamma=${gamma}\")\n",
    "plt.xlabel(\"Horizontal Wave Number\")\n",
    "plt.ylabel(\"Growth Rate\")"
   ]
  },
  {
   "cell_type": "code",
   "execution_count": null,
   "id": "17994673",
   "metadata": {
    "scrolled": false
   },
   "outputs": [],
   "source": [
    "diff = (k_list[0,:]-data3.k[:])\n",
    "omg = data3.growth_rate.isel(delta=0,N=0,gamma_index=0)\n",
    "top= (1+S2+np.power(omg,2))\n",
    "bttm = S2*(-1*(1+np.power(omg,2))*(1-gamma)+gamma*S2)\n",
    "np.median(diff*(bttm)**(0.5)/top)"
   ]
  },
  {
   "cell_type": "code",
   "execution_count": null,
   "id": "ebc1a5c6",
   "metadata": {},
   "outputs": [],
   "source": [
    "diff*(bttm)**(0.5)/top"
   ]
  },
  {
   "cell_type": "code",
   "execution_count": null,
   "id": "6c194c4b",
   "metadata": {},
   "outputs": [],
   "source": [
    "k_shift(data3.growth_rate.isel(delta=0,N=0,gamma_index=0),shft)[:]"
   ]
  },
  {
   "cell_type": "code",
   "execution_count": null,
   "id": "6ca405b9",
   "metadata": {},
   "outputs": [],
   "source": [
    "data4=xr.open_dataset(\"SI_non_dim_field.nc\")"
   ]
  },
  {
   "cell_type": "code",
   "execution_count": null,
   "id": "dab28cc3",
   "metadata": {},
   "outputs": [],
   "source": [
    "k_m = data4.k[:]\n",
    "plt.plot(k_m[:],data4.growth_rate.isel(delta=0,N=0,gamma_index=0)[:],color=\"b\",linestyle=\"dashed\",label=\"Dedalus Ouput\")\n",
    "plt.xlabel(\"Horizontal Wavenumber\")\n",
    "plt.ylabel(\"Growth Rate\")"
   ]
  },
  {
   "cell_type": "code",
   "execution_count": null,
   "id": "5affb0d1",
   "metadata": {},
   "outputs": [],
   "source": [
    "data5=xr.open_dataset(\"PSI_non_dim_field_mid_res.nc\")"
   ]
  },
  {
   "cell_type": "code",
   "execution_count": null,
   "id": "cd77441e",
   "metadata": {},
   "outputs": [],
   "source": [
    "data5.t"
   ]
  },
  {
   "cell_type": "code",
   "execution_count": null,
   "id": "d7ed6011",
   "metadata": {},
   "outputs": [],
   "source": [
    "plt.plot(data5.v_structure.isel(k=8,t=5),data5.z)\n",
    "plt.ylabel(\"Vertical Height\")\n",
    "plt.xlabel(\"v-velocity\")"
   ]
  },
  {
   "cell_type": "code",
   "execution_count": null,
   "id": "f3094db5",
   "metadata": {},
   "outputs": [],
   "source": [
    "plt.pcolormesh(data5.z,data5.t,data5.v_structure.sel(k=16) )"
   ]
  },
  {
   "cell_type": "code",
   "execution_count": null,
   "id": "85988d1e",
   "metadata": {},
   "outputs": [],
   "source": []
  }
 ],
 "metadata": {
  "kernelspec": {
   "display_name": "Python 3 (ipykernel)",
   "language": "python",
   "name": "python3"
  },
  "language_info": {
   "codemirror_mode": {
    "name": "ipython",
    "version": 3
   },
   "file_extension": ".py",
   "mimetype": "text/x-python",
   "name": "python",
   "nbconvert_exporter": "python",
   "pygments_lexer": "ipython3",
   "version": "3.8.10"
  }
 },
 "nbformat": 4,
 "nbformat_minor": 5
}
