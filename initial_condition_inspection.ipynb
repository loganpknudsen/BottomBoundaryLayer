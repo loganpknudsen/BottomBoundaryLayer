{
 "cells": [
  {
   "cell_type": "code",
   "execution_count": 58,
   "id": "5bd991f6",
   "metadata": {},
   "outputs": [],
   "source": [
    "import numpy as np\n",
    "import matplotlib.pyplot as plt\n",
    "import math as mt"
   ]
  },
  {
   "cell_type": "code",
   "execution_count": 89,
   "id": "eca78195",
   "metadata": {},
   "outputs": [
    {
     "data": {
      "text/plain": [
       "3.1622776601683145e-05"
      ]
     },
     "execution_count": 89,
     "metadata": {},
     "output_type": "execute_result"
    }
   ],
   "source": [
    "# parameters\n",
    "N2 = 9e-6\n",
    "theta =5e-3\n",
    "f = 1e-4\n",
    "Vinf = 0.05\n",
    "Sinf2 = (N2*theta**2)/f**2\n",
    "gamma = (1+Sinf2)**(-1)\n",
    "h = mt.ceil((f*Vinf)/(gamma*N2*theta))\n",
    "fstar = (f**2+theta**2*N2)**(0.5)\n",
    "delta = 0.1\n",
    "uo = 0\n",
    "vo = gamma*delta*N2*theta/f\n",
    "bo = 0 #vₒ*(N2*theta/(f))*0.1 # 0#-gamma*N2#\n",
    "PV = f*N2*(1-gamma)-(N2**2*theta**2*gamma)/f+N2*theta*vo-f*bo\n",
    "omega_min = (1e-4*PV/(N2*(1-gamma)))**(0.5)\n",
    "omega_min"
   ]
  },
  {
   "cell_type": "markdown",
   "id": "e1d13e77",
   "metadata": {},
   "source": [
    "Richardson number:\n",
    "$$ Ri\\equiv \\dfrac{f^2(1-\\gamma)}{N^2_\\infty\\theta^2\\gamma^2}$$"
   ]
  },
  {
   "cell_type": "code",
   "execution_count": 101,
   "id": "1908aab0",
   "metadata": {},
   "outputs": [
    {
     "data": {
      "text/plain": [
       "0.9876543209876589"
      ]
     },
     "execution_count": 101,
     "metadata": {},
     "output_type": "execute_result"
    }
   ],
   "source": [
    "Ri = ((f**2*(1-gamma))/(N2*theta**2*gamma**2))\n",
    "Ri**(-1)"
   ]
  },
  {
   "cell_type": "code",
   "execution_count": 97,
   "id": "8bf72e19",
   "metadata": {},
   "outputs": [
    {
     "data": {
      "text/plain": [
       "0.01234567901234568"
      ]
     },
     "execution_count": 97,
     "metadata": {},
     "output_type": "execute_result"
    }
   ],
   "source": [
    "Ro = (gamma*N2*theta**2)/f**2\n",
    "Ro"
   ]
  },
  {
   "cell_type": "code",
   "execution_count": 98,
   "id": "66f06e91",
   "metadata": {},
   "outputs": [
    {
     "data": {
      "text/plain": [
       "1.5713484026366273e-05"
      ]
     },
     "execution_count": 98,
     "metadata": {},
     "output_type": "execute_result"
    }
   ],
   "source": [
    "f*(1+Ro-Ri**(-1))**(0.5)"
   ]
  },
  {
   "cell_type": "code",
   "execution_count": 79,
   "id": "ffbfd3ae",
   "metadata": {},
   "outputs": [
    {
     "data": {
      "text/plain": [
       "0.8059701492537533"
      ]
     },
     "execution_count": 79,
     "metadata": {},
     "output_type": "execute_result"
    }
   ],
   "source": [
    "(((1-gamma)*N2-perts[2][0])/((N2*theta*gamma)/f-perts[1][0])**2)**(-1)"
   ]
  },
  {
   "cell_type": "code",
   "execution_count": 69,
   "id": "f5950345",
   "metadata": {},
   "outputs": [
    {
     "data": {
      "text/plain": [
       "0.0"
      ]
     },
     "execution_count": 69,
     "metadata": {},
     "output_type": "execute_result"
    }
   ],
   "source": [
    "perts[2][0]"
   ]
  },
  {
   "cell_type": "code",
   "execution_count": 62,
   "id": "aa5f6d44",
   "metadata": {},
   "outputs": [],
   "source": [
    "def shear_osc(t):\n",
    "        u = uo*np.cos(fstar*t)+(f*vo+bo*theta)/(fstar)*np.sin(fstar*t)\n",
    "        v = (f**2*vo+f*bo*theta)/(fstar**2)*np.cos(fstar*t)-(f*uo)/(fstar)*np.sin(fstar*t)+((fstar**2-f**2)*vo-f*theta*bo)/(fstar**2)\n",
    "        N = N2*theta*(f*vo+bo*theta)/(fstar**2)*np.cos(fstar*t)-N2*theta*(uo)/(fstar)*np.sin(fstar*t)+bo-N2*theta*(f*vo+theta*bo)/(fstar**2)\n",
    "        return [u,v,N]"
   ]
  },
  {
   "cell_type": "code",
   "execution_count": 63,
   "id": "9a748d97",
   "metadata": {},
   "outputs": [],
   "source": [
    "t = np.arange(0,(2*np.pi)/fstar,1)\n",
    "perts = shear_osc(t)"
   ]
  },
  {
   "cell_type": "code",
   "execution_count": 64,
   "id": "e5943724",
   "metadata": {},
   "outputs": [
    {
     "data": {
      "text/plain": [
       "5.012484413940856e-05"
      ]
     },
     "execution_count": 64,
     "metadata": {},
     "output_type": "execute_result"
    }
   ],
   "source": [
    "fstar/2"
   ]
  },
  {
   "cell_type": "code",
   "execution_count": 65,
   "id": "1a1a7701",
   "metadata": {},
   "outputs": [
    {
     "data": {
      "text/plain": [
       "2.4875621890540523e-12"
      ]
     },
     "execution_count": 65,
     "metadata": {},
     "output_type": "execute_result"
    }
   ],
   "source": [
    "PV2 = (f+theta*perts[1][0]-gamma*(N2*theta**2)/(f))*((1-gamma)*N2-perts[2][0])-(gamma*N2*theta/f-perts[1][0])*(theta*gamma*N2+theta*perts[2][0])\n",
    "PV2"
   ]
  },
  {
   "cell_type": "code",
   "execution_count": 85,
   "id": "f35280a3",
   "metadata": {},
   "outputs": [
    {
     "data": {
      "text/plain": [
       "(array([46546]),)"
      ]
     },
     "execution_count": 85,
     "metadata": {},
     "output_type": "execute_result"
    }
   ],
   "source": [
    "np.where(t==round(0.75*(2*np.pi)/fstar))"
   ]
  },
  {
   "cell_type": "code",
   "execution_count": 86,
   "id": "85973241",
   "metadata": {},
   "outputs": [
    {
     "name": "stdout",
     "output_type": "stream",
     "text": [
      "u max4.6977383243609016e-05\n",
      "v max4.878048780487806e-05\n",
      "b max-2.4390243902439033e-08\n"
     ]
    }
   ],
   "source": [
    "uma = max(perts[0])\n",
    "vma = max(perts[1])\n",
    "bma = max(perts[2])\n",
    "print(f\"u max{uma}\")\n",
    "print(f\"v max{vma}\")\n",
    "print(f\"b max{bma}\")"
   ]
  },
  {
   "cell_type": "code",
   "execution_count": 87,
   "id": "8eacddc8",
   "metadata": {},
   "outputs": [
    {
     "name": "stdout",
     "output_type": "stream",
     "text": [
      "u min-4.697738322756296e-05\n",
      "v min-4.402141577778199e-05\n",
      "b min-7.079119569376908e-08\n"
     ]
    }
   ],
   "source": [
    "umi = min(perts[0])\n",
    "vmi = min(perts[1])\n",
    "bmi = min(perts[2])\n",
    "print(f\"u min{umi}\")\n",
    "print(f\"v min{vmi}\")\n",
    "print(f\"b min{bmi}\")"
   ]
  },
  {
   "cell_type": "code",
   "execution_count": 88,
   "id": "a9743a76",
   "metadata": {},
   "outputs": [
    {
     "data": {
      "image/png": "[encoded data removed]",
      "text/plain": [
       "<Figure size 432x288 with 1 Axes>"
      ]
     },
     "metadata": {
      "needs_background": "light"
     },
     "output_type": "display_data"
    }
   ],
   "source": [
    "plt.plot(perts[0],perts[1])\n",
    "plt.hlines(0,umi,uma,colors=\"k\")\n",
    "plt.vlines(0,0,vma,colors=\"k\")\n",
    "plt.gca().set_aspect('equal')"
   ]
  },
  {
   "cell_type": "code",
   "execution_count": 89,
   "id": "75fd17e6",
   "metadata": {},
   "outputs": [
    {
     "data": {
      "text/plain": [
       "<matplotlib.collections.LineCollection at 0x7f83f2483f10>"
      ]
     },
     "execution_count": 89,
     "metadata": {},
     "output_type": "execute_result"
    },
    {
     "data": {
      "image/png": "[encoded data removed]",
      "text/plain": [
       "<Figure size 432x288 with 1 Axes>"
      ]
     },
     "metadata": {
      "needs_background": "light"
     },
     "output_type": "display_data"
    }
   ],
   "source": [
    "plt.plot(perts[0],perts[2])\n",
    "plt.hlines(0,umi,uma,colors=\"k\")\n",
    "plt.vlines(0,bmi,bma,colors=\"k\")"
   ]
  },
  {
   "cell_type": "code",
   "execution_count": 27,
   "id": "722bd9ab",
   "metadata": {},
   "outputs": [
    {
     "data": {
      "text/plain": [
       "[<matplotlib.lines.Line2D at 0x7f959219dca0>]"
      ]
     },
     "execution_count": 27,
     "metadata": {},
     "output_type": "execute_result"
    },
    {
     "data": {
      "image/png": "[encoded data removed]",
      "text/plain": [
       "<Figure size 432x288 with 1 Axes>"
      ]
     },
     "metadata": {
      "needs_background": "light"
     },
     "output_type": "display_data"
    }
   ],
   "source": [
    "plt.plot(perts[2])\n",
    "# plt.gca().set_aspect('equal')"
   ]
  },
  {
   "cell_type": "code",
   "execution_count": 12,
   "id": "8a39c71f",
   "metadata": {},
   "outputs": [
    {
     "data": {
      "text/plain": [
       "[<matplotlib.lines.Line2D at 0x7f9591d9aa90>]"
      ]
     },
     "execution_count": 12,
     "metadata": {},
     "output_type": "execute_result"
    },
    {
     "data": {
      "image/png": "[encoded data removed]",
      "text/plain": [
       "<Figure size 432x288 with 1 Axes>"
      ]
     },
     "metadata": {
      "needs_background": "light"
     },
     "output_type": "display_data"
    }
   ],
   "source": [
    "z = np.arange(0,h+1,1)\n",
    "# plt.plot(vprofile,z,color=\"r\")\n",
    "vprofile = Vinf-gamma*theta*N2/f*(h-z)\n",
    "plt.plot(vprofile,z,color=\"b\")\n",
    "plt.plot(vprofile+perts[1][-1]*(h-z),z,c=\"y\")\n",
    "# plt.ylim([0,1])"
   ]
  },
  {
   "cell_type": "code",
   "execution_count": 13,
   "id": "6531a349",
   "metadata": {},
   "outputs": [
    {
     "data": {
      "text/plain": [
       "<matplotlib.collections.LineCollection at 0x7f9591e8df70>"
      ]
     },
     "execution_count": 13,
     "metadata": {},
     "output_type": "execute_result"
    },
    {
     "data": {
      "image/png": "[encoded data removed]",
      "text/plain": [
       "<Figure size 432x288 with 1 Axes>"
      ]
     },
     "metadata": {
      "needs_background": "light"
     },
     "output_type": "display_data"
    }
   ],
   "source": [
    "# plt.plot(vprofile,z,color=\"r\")\n",
    "uprofile = h*uo*np.ones(np.size(z))\n",
    "# plt.plot(uprofile,z,color=\"b\")\n",
    "plt.plot(perts[0][0]*(h-z),z,c=\"y\")\n",
    "plt.vlines(0,0,h)\n",
    "# plt.ylim([0,1])"
   ]
  },
  {
   "cell_type": "code",
   "execution_count": 14,
   "id": "3a42006a",
   "metadata": {},
   "outputs": [
    {
     "data": {
      "text/plain": [
       "0.00025"
      ]
     },
     "execution_count": 14,
     "metadata": {},
     "output_type": "execute_result"
    }
   ],
   "source": [
    "gamma1\n",
    "Sinf21"
   ]
  },
  {
   "cell_type": "code",
   "execution_count": 15,
   "id": "6855cc1d",
   "metadata": {},
   "outputs": [
    {
     "data": {
      "text/plain": [
       "[<matplotlib.lines.Line2D at 0x7f9591f82c10>]"
      ]
     },
     "execution_count": 15,
     "metadata": {},
     "output_type": "execute_result"
    },
    {
     "data": {
      "image/png": "[encoded data removed]",
      "text/plain": [
       "<Figure size 432x288 with 1 Axes>"
      ]
     },
     "metadata": {
      "needs_background": "light"
     },
     "output_type": "display_data"
    }
   ],
   "source": [
    "bint = N2*(h+z)+N2*theta*100\n",
    "bprofile = N2*z+gamma*N2*(h-z)+N2*theta*100\n",
    "plt.plot(bint,z+h,\"y\")\n",
    "plt.plot(bprofile,z,c=\"b\")\n",
    "plt.plot(bprofile+perts[2][15515]*(h-z),z,c=\"r\")\n",
    "# plt.ylim([99,111])"
   ]
  },
  {
   "cell_type": "code",
   "execution_count": 16,
   "id": "a9272c7d",
   "metadata": {},
   "outputs": [
    {
     "data": {
      "text/plain": [
       "5.000000000000001e-09"
      ]
     },
     "execution_count": 16,
     "metadata": {},
     "output_type": "execute_result"
    }
   ],
   "source": [
    "PV = f*N2*(1-gamma)-(N2**2*theta**2*gamma)/f+N2*theta*vo-f*bo\n",
    "# omega_min = np.sqrt(PV/N2)\n",
    "PV"
   ]
  },
  {
   "cell_type": "code",
   "execution_count": 17,
   "id": "d606bb7a",
   "metadata": {},
   "outputs": [
    {
     "data": {
      "text/plain": [
       "0.00010124228365658294"
      ]
     },
     "execution_count": 17,
     "metadata": {},
     "output_type": "execute_result"
    }
   ],
   "source": [
    "fstar"
   ]
  },
  {
   "cell_type": "code",
   "execution_count": null,
   "id": "5a6b5ee5",
   "metadata": {},
   "outputs": [],
   "source": []
  }
 ],
 "metadata": {
  "kernelspec": {
   "display_name": "Python 3 (ipykernel)",
   "language": "python",
   "name": "python3"
  },
  "language_info": {
   "codemirror_mode": {
    "name": "ipython",
    "version": 3
   },
   "file_extension": ".py",
   "mimetype": "text/x-python",
   "name": "python",
   "nbconvert_exporter": "python",
   "pygments_lexer": "ipython3",
   "version": "3.8.10"
  }
 },
 "nbformat": 4,
 "nbformat_minor": 5
}
