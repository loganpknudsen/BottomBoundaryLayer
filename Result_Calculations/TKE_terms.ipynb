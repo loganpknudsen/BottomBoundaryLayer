{
 "cells": [
  {
   "cell_type": "code",
   "execution_count": null,
   "metadata": {},
   "outputs": [],
   "source": [
    "import xarray as xr\n",
    "import numpy as np\n",
    "import matplotlib.pyplot as plt\n",
    "import pandas as pd"
   ]
  },
  {
   "cell_type": "code",
   "execution_count": null,
   "metadata": {},
   "outputs": [],
   "source": [
    "# ocean_data=xr.open_dataset(\"/Users/loganknudsen/Documents/UMD_Research_Local_File_Saves/psi_base_test_remove_b.nc\")\n",
    "ocean_data=xr.open_dataset(\"/Users/loganknudsen/Documents/UMD_Research_Local_File_Saves/BBL_w_O_50_base_test_w_p.nc\") #i=103"
   ]
  },
  {
   "cell_type": "code",
   "execution_count": null,
   "metadata": {},
   "outputs": [],
   "source": [
    "ocean_data.k"
   ]
  },
  {
   "cell_type": "code",
   "execution_count": null,
   "metadata": {},
   "outputs": [],
   "source": [
    "u = ocean_data.u#+ocean_data.U\n",
    "v = ocean_data.v#+ocean_data.V\n",
    "b = ocean_data.B\n",
    "# B = ocean_data.B\n",
    "w = ocean_data.w"
   ]
  },
  {
   "cell_type": "code",
   "execution_count": null,
   "metadata": {},
   "outputs": [],
   "source": [
    "KE_spatial_average_time_series = ocean_data.k.mean(dim=['xF','yC','zC'])\n",
    "KE_spatial_average_time_series"
   ]
  },
  {
   "cell_type": "code",
   "execution_count": null,
   "metadata": {},
   "outputs": [],
   "source": [
    "inertial_period = KE_spatial_average_time_series.time/pd.Timedelta(\"1s\")*(1e-4)/(2*np.pi)\n",
    "KE_spatial_average_time_series_ip = KE_spatial_average_time_series.assign_coords(intp = ('time',inertial_period.data))"
   ]
  },
  {
   "cell_type": "code",
   "execution_count": null,
   "metadata": {},
   "outputs": [],
   "source": [
    "inertial_period[2061]"
   ]
  },
  {
   "cell_type": "code",
   "execution_count": null,
   "metadata": {},
   "outputs": [],
   "source": [
    "plt.plot(KE_spatial_average_time_series_ip.intp,KE_spatial_average_time_series_ip.values)\n",
    "plt.show()"
   ]
  },
  {
   "cell_type": "code",
   "execution_count": null,
   "metadata": {},
   "outputs": [],
   "source": [
    "timeKE = KE_spatial_average_time_series.time\n",
    "timeKE*1e-9"
   ]
  },
  {
   "cell_type": "markdown",
   "metadata": {},
   "source": []
  },
  {
   "cell_type": "code",
   "execution_count": null,
   "metadata": {},
   "outputs": [],
   "source": [
    "plt.plot(KE_spatial_average_time_series_ip.intp,KE_spatial_average_time_series_ip.values/KE_spatial_average_time_series_ip.values[518])\n",
    "plt.title(\"Pertubation kinetic energy over time\")\n",
    "plt.ylabel('$k$/$k_5$')\n",
    "plt.xlabel('$t$')\n",
    "plt.yscale('log')\n",
    "plt.show()"
   ]
  },
  {
   "cell_type": "code",
   "execution_count": null,
   "metadata": {},
   "outputs": [],
   "source": [
    "ts = 518\n",
    "tf = 2061\n",
    "plt.plot(KE_spatial_average_time_series_ip.intp[ts:tf],KE_spatial_average_time_series_ip.values[ts:tf]/KE_spatial_average_time_series_ip.values[ts])\n",
    "plt.ylabel('$k$/$k_0$')\n",
    "plt.xlabel('$t\\dfrac{2\\pi}{f}$')\n",
    "plt.yscale('log')\n",
    "plt.show()"
   ]
  },
  {
   "cell_type": "code",
   "execution_count": null,
   "metadata": {},
   "outputs": [],
   "source": [
    "ocean_data"
   ]
  },
  {
   "cell_type": "code",
   "execution_count": null,
   "metadata": {},
   "outputs": [],
   "source": [
    "AGSP_spatial_average_time_series = ocean_data.AGSP.mean(dim=['xF','yC','zC'])\n",
    "inertial_period = AGSP_spatial_average_time_series.time/pd.Timedelta(\"1s\")*(1e-4)/(2*np.pi)\n",
    "AGSP_spatial_average_time_series_ip = AGSP_spatial_average_time_series.assign_coords(intp = ('time',inertial_period.data))\n"
   ]
  },
  {
   "cell_type": "code",
   "execution_count": null,
   "metadata": {},
   "outputs": [],
   "source": [
    "plt.plot(AGSP_spatial_average_time_series_ip.intp[100:140],AGSP_spatial_average_time_series_ip.values[100:140]/KE_spatial_average_time_series_ip.values[100:140])\n",
    "plt.ylabel('$k$/$k_0$')\n",
    "plt.xlabel('$t$')\n",
    "# plt.yscale('log')\n",
    "plt.show()"
   ]
  },
  {
   "cell_type": "code",
   "execution_count": null,
   "metadata": {},
   "outputs": [],
   "source": [
    "GSP_spatial_average_time_series = ocean_data.GSP.mean(dim=['xC','yF','zC'])\n",
    "inertial_period = GSP_spatial_average_time_series.time/pd.Timedelta(\"1s\")*(1e-4)/(2*np.pi)\n",
    "GSP_spatial_average_time_series_ip = GSP_spatial_average_time_series.assign_coords(intp = ('time',inertial_period.data))\n"
   ]
  },
  {
   "cell_type": "code",
   "execution_count": null,
   "metadata": {},
   "outputs": [],
   "source": [
    "plt.plot(GSP_spatial_average_time_series_ip.intp[100:140],GSP_spatial_average_time_series_ip.values[100:140]/KE_spatial_average_time_series_ip.values[100:140])\n",
    "plt.ylabel('$k$/$k_0$')\n",
    "plt.xlabel('$t$')\n",
    "# plt.yscale('log')\n",
    "plt.show()"
   ]
  },
  {
   "cell_type": "code",
   "execution_count": null,
   "metadata": {},
   "outputs": [],
   "source": [
    "BFLUX_spatial_average_time_series = ocean_data.BFLUX.mean(dim=['xC','yC','zF'])\n",
    "inertial_period = BFLUX_spatial_average_time_series.time/pd.Timedelta(\"1s\")*(1e-4)/(2*np.pi)\n",
    "BFLUX_spatial_average_time_series_ip = BFLUX_spatial_average_time_series.assign_coords(intp = ('time',inertial_period.data))\n"
   ]
  },
  {
   "cell_type": "code",
   "execution_count": null,
   "metadata": {},
   "outputs": [],
   "source": [
    "plt.plot(BFLUX_spatial_average_time_series_ip.intp[100:140],BFLUX_spatial_average_time_series_ip.values[100:140]/KE_spatial_average_time_series_ip.values[100:140])\n",
    "plt.ylabel('$k$/$k_0$')\n",
    "plt.xlabel('$t$')\n",
    "# plt.yscale('log')\n",
    "plt.show()"
   ]
  },
  {
   "cell_type": "code",
   "execution_count": null,
   "metadata": {},
   "outputs": [],
   "source": [
    "E_spatial_average_time_series = ocean_data.E.mean(dim=['xC','yC','zC'])\n",
    "inertial_period = E_spatial_average_time_series.time/pd.Timedelta(\"1s\")*(1e-4)/(2*np.pi)\n",
    "E_spatial_average_time_series_ip = E_spatial_average_time_series.assign_coords(intp = ('time',inertial_period.data))\n"
   ]
  },
  {
   "cell_type": "code",
   "execution_count": null,
   "metadata": {},
   "outputs": [],
   "source": [
    "plt.plot(E_spatial_average_time_series_ip.intp[100:140],-1*E_spatial_average_time_series_ip.values[100:140]/KE_spatial_average_time_series_ip.values[100:140])\n",
    "plt.ylabel('$k$/$k_0$')\n",
    "plt.xlabel('$t$')\n",
    "# plt.yscale('log')\n",
    "plt.show()"
   ]
  },
  {
   "cell_type": "code",
   "execution_count": null,
   "metadata": {},
   "outputs": [],
   "source": [
    "PWORK_spatial_average_time_series = ocean_data.PWORK.mean(dim=['xC','yC','zC'])\n",
    "inertial_period = PWORK_spatial_average_time_series.time/pd.Timedelta(\"1s\")*(1e-4)/(2*np.pi)\n",
    "PWORK_spatial_average_time_series_ip = PWORK_spatial_average_time_series.assign_coords(intp = ('time',inertial_period.data))"
   ]
  },
  {
   "cell_type": "code",
   "execution_count": null,
   "metadata": {},
   "outputs": [],
   "source": [
    "plt.plot(PWORK_spatial_average_time_series_ip.intp,1e4*PWORK_spatial_average_time_series_ip.values/KE_spatial_average_time_series_ip.values)\n",
    "plt.ylabel('$k$/$k_0$')\n",
    "plt.xlabel('$t$')\n",
    "# plt.yscale('log')\n",
    "plt.show()"
   ]
  },
  {
   "cell_type": "code",
   "execution_count": null,
   "metadata": {},
   "outputs": [],
   "source": []
  },
  {
   "cell_type": "code",
   "execution_count": null,
   "metadata": {},
   "outputs": [],
   "source": [
    "KE_turb = ocean_data.k.mean(dim=['xF','yC','zC'])\n",
    "KE_turb\n"
   ]
  },
  {
   "cell_type": "code",
   "execution_count": null,
   "metadata": {},
   "outputs": [],
   "source": [
    "ts = 120\n",
    "tf = 2061\n",
    "KE_turb = ocean_data.k.mean(dim=['xF','yC','zC'])\n",
    "seconds = KE_turb.time/pd.Timedelta(\"1s\")\n",
    "inertial_period = KE_turb.time/pd.Timedelta(\"1s\")*(1e-4)/(2*np.pi)\n",
    "KE_turb_ip = KE_turb.assign_coords(intp = ('time',inertial_period.data))\n",
    "KE_turb_ip = KE_turb_ip.assign_coords(sec = ('time',seconds.data))\n",
    "# seconds = KE_spatial_average_time_series.time/pd.Timedelta(\"1s\")\n",
    "# inertial_period = KE_spatial_average_time_series.time/pd.Timedelta(\"1s\")*(1e-4)/(2*np.pi)\n",
    "# KE_spatial_average_time_series_s= KE_spatial_average_time_series.assign_coords(sec = ('time',seconds.data))\n",
    "# KE_spatial_average_time_series_intp = KE_spatial_average_time_series.assign_coords(intp = ('time',inertial_period.data))\n",
    "dkdt = KE_turb_ip.differentiate(coord='sec',edge_order=2)\n",
    "# np.gradient(KE_spatial_average_time_series_ip,KE_spatial_average_time_series_ip.time)\n",
    "plt.plot(inertial_period[100:140],dkdt[100:140]/KE_spatial_average_time_series_s[100:140])\n"
   ]
  },
  {
   "cell_type": "code",
   "execution_count": null,
   "metadata": {},
   "outputs": [],
   "source": [
    "dkdt"
   ]
  },
  {
   "cell_type": "code",
   "execution_count": null,
   "metadata": {},
   "outputs": [],
   "source": [
    "inertial_period[1244]"
   ]
  },
  {
   "cell_type": "code",
   "execution_count": null,
   "metadata": {},
   "outputs": [],
   "source": [
    "dkdt"
   ]
  },
  {
   "cell_type": "code",
   "execution_count": null,
   "metadata": {},
   "outputs": [],
   "source": [
    "AGSP_spatial_average_time_series_ip"
   ]
  },
  {
   "cell_type": "code",
   "execution_count": null,
   "metadata": {},
   "outputs": [],
   "source": [
    "ts = 1037\n",
    "tf = 1244\n",
    "plt.plot(dkdt.intp[ts:tf],1e4*dkdt[ts:tf]/KE_turb_ip[ts:tf],color=\"k\",label='$\\dfrac{1}{k}\\dfrac{\\partial k}{\\partial t}$')\n",
    "plt.plot(AGSP_spatial_average_time_series_ip.intp[ts:tf],1e4*AGSP_spatial_average_time_series_ip.values[ts:tf]/KE_turb_ip.values[ts:tf],color='red',label='AGSP/k')\n",
    "plt.plot(GSP_spatial_average_time_series_ip.intp[ts:tf],GSP_spatial_average_time_series_ip.values[ts:tf]/KE_turb_ip.values[ts:tf]*1e4,color='green',label='GSP/k')\n",
    "plt.plot(BFLUX_spatial_average_time_series_ip.intp[ts:tf],BFLUX_spatial_average_time_series_ip.values[ts:tf]/KE_turb_ip.values[ts:tf]*1e4,color='blue',label='BFLUX/k')\n",
    "plt.plot(E_spatial_average_time_series_ip.intp[ts:tf],-1*E_spatial_average_time_series_ip.values[ts:tf]/KE_turb_ip.values[ts:tf]*1e4,color='pink',label='$-\\epsilon/k$')\n",
    "plt.plot(PWORK_spatial_average_time_series_ip.intp[ts:tf],1e4*PWORK_spatial_average_time_series_ip.values[ts:tf]/KE_spatial_average_time_series_ip.values[ts:tf],color='orange')\n",
    "plt.axhline(color=\"violet\")\n",
    "plt.xlabel(\"$t\\dfrac{2\\pi}{f}$\")\n",
    "plt.ylabel(\"TKE growth rate/f\")\n",
    "plt.legend(loc='lower left')\n",
    "plt.figure(figsize=(12,5))\n",
    "plt.show()"
   ]
  },
  {
   "cell_type": "code",
   "execution_count": null,
   "metadata": {},
   "outputs": [],
   "source": [
    "eps_spatial_average_time_series = ocean_data.E.mean(dim=['xC','yC','zC'])"
   ]
  },
  {
   "cell_type": "code",
   "execution_count": null,
   "metadata": {},
   "outputs": [],
   "source": [
    "plt.plot(eps_spatial_average_time_series.time[50:100]*(1e-4)/(2*np.pi),eps_spatial_average_time_series.values[50:100])\n",
    "plt.show()"
   ]
  },
  {
   "cell_type": "code",
   "execution_count": null,
   "metadata": {},
   "outputs": [],
   "source": [
    "AGSP_spatial_average_time_series_ip"
   ]
  },
  {
   "cell_type": "code",
   "execution_count": null,
   "metadata": {},
   "outputs": [],
   "source": [
    "seconds = GSP_spatial_average_time_series_ip.time/pd.Timedelta(\"1s\")\n",
    "AGSP_spatial_average_time_series_ip = AGSP_spatial_average_time_series_ip.assign_coords(sec = ('time',seconds.data))\n",
    "integrated_AGSP = (AGSP_spatial_average_time_series_ip).cumulative_integrate(coord=\"sec\")\n",
    "plt.plot(integrated_AGSP.intp,integrated_AGSP)\n",
    "plt.title(\"Time Integrated AGSP\")\n",
    "plt.xlabel(\"$t\\dfrac{2\\pi}{f}$\")\n",
    "plt.ylabel(\"k\")\n",
    "# plt.yscale('log')\n",
    "plt.show()"
   ]
  },
  {
   "cell_type": "code",
   "execution_count": null,
   "metadata": {},
   "outputs": [],
   "source": [
    "seconds = GSP_spatial_average_time_series_ip.time/pd.Timedelta(\"1s\")\n",
    "GSP_spatial_average_time_series_ip = GSP_spatial_average_time_series_ip.assign_coords(sec = ('time',seconds.data))\n",
    "integrated_GSP = (GSP_spatial_average_time_series_ip).cumulative_integrate(coord=\"sec\")\n",
    "plt.plot(integrated_GSP.intp,integrated_GSP)\n",
    "plt.title(\"Time Integrated GSP\")\n",
    "plt.xlabel(\"$t\\dfrac{2\\pi}{f}$\")\n",
    "plt.ylabel(\"k\")\n",
    "# plt.yscale('log')\n",
    "plt.show()"
   ]
  },
  {
   "cell_type": "code",
   "execution_count": null,
   "metadata": {},
   "outputs": [],
   "source": [
    "seconds = BFLUX_spatial_average_time_series_ip.time/pd.Timedelta(\"1s\")\n",
    "BFLUX_spatial_average_time_series_ip = BFLUX_spatial_average_time_series_ip.assign_coords(sec = ('time',seconds.data))\n",
    "integrated_BFLUX = (BFLUX_spatial_average_time_series_ip).cumulative_integrate(coord=\"sec\")\n",
    "plt.plot(integrated_BFLUX.intp,integrated_BFLUX)\n",
    "plt.title(\"Time Integrated BFLUX\")\n",
    "plt.xlabel(\"$t\\dfrac{2\\pi}{f}$\")\n",
    "plt.ylabel(\"k\")\n",
    "# plt.yscale('log')\n",
    "plt.show()"
   ]
  },
  {
   "cell_type": "code",
   "execution_count": null,
   "metadata": {},
   "outputs": [],
   "source": [
    "seconds = E_spatial_average_time_series_ip.time/pd.Timedelta(\"1s\")\n",
    "E_spatial_average_time_series_ip = E_spatial_average_time_series_ip.assign_coords(sec = ('time',seconds.data))\n",
    "integrated_E = (-1*E_spatial_average_time_series_ip).cumulative_integrate(coord=\"sec\")\n",
    "plt.plot(integrated_E.intp,integrated_E)\n",
    "plt.title(\"Time Integrated E\")\n",
    "plt.xlabel(\"$t\\dfrac{2\\pi}{f}$\")\n",
    "plt.ylabel(\"k\")\n",
    "# plt.yscale('log')\n",
    "plt.show()"
   ]
  },
  {
   "cell_type": "code",
   "execution_count": null,
   "metadata": {},
   "outputs": [],
   "source": [
    "seconds = PWORK_spatial_average_time_series_ip.time/pd.Timedelta(\"1s\")\n",
    "PWORK_spatial_average_time_series_ip = PWORK_spatial_average_time_series_ip.assign_coords(sec = ('time',seconds.data))\n",
    "integrated_PWORK = (PWORK_spatial_average_time_series_ip).cumulative_integrate(coord=\"sec\")\n",
    "plt.plot(integrated_PWORK.intp,integrated_PWORK)\n",
    "plt.title(\"Time Integrated PWORK\")\n",
    "plt.xlabel(\"$t\\dfrac{2\\pi}{f}$\")\n",
    "plt.ylabel(\"k\")\n",
    "# plt.yscale('log')\n",
    "plt.show()"
   ]
  },
  {
   "cell_type": "code",
   "execution_count": null,
   "metadata": {},
   "outputs": [],
   "source": [
    "plt.plot(KE_turb_ip.intp,KE_turb_ip)\n",
    "plt.title(\"Time Integrated E\")\n",
    "plt.xlabel(\"$t\\dfrac{2\\pi}{f}$\")\n",
    "plt.ylabel(\"k\")\n",
    "# plt.yscale('log')\n",
    "plt.show()"
   ]
  },
  {
   "cell_type": "code",
   "execution_count": null,
   "metadata": {},
   "outputs": [],
   "source": [
    "ts = 0\n",
    "tf = -1\n",
    "plt.plot(KE_turb_ip.intp[ts:tf],KE_turb_ip[ts:tf],label=\"$k$\",color=\"k\")\n",
    "plt.plot(integrated_AGSP.intp[ts:tf],integrated_AGSP[ts:tf],label=\"$\\int_0^tAGSP\\,dt'$\",color=\"red\")\n",
    "plt.plot(integrated_GSP.intp[ts:tf],integrated_GSP[ts:tf],label=\"$\\int_0^tGSP\\,dt'$\",color=\"green\")\n",
    "plt.plot(integrated_BFLUX.intp[ts:tf],integrated_BFLUX[ts:tf],label=\"$\\int_0^tBFLUX\\,dt'$\",color=\"blue\")\n",
    "plt.plot(integrated_E.intp[ts:tf],integrated_E[ts:tf],label=\"$-\\int_0^t\\epsilon\\,dt'$\",color=\"pink\")\n",
    "plt.axhline(color=\"violet\")\n",
    "# plt.yscale(\"log\")\n",
    "plt.xlim(left=0)\n",
    "plt.xlabel(\"$t\\dfrac{2\\pi}{f}$\")\n",
    "plt.ylabel(\"k\")\n",
    "plt.legend()\n",
    "plt.show()"
   ]
  },
  {
   "cell_type": "code",
   "execution_count": null,
   "metadata": {},
   "outputs": [],
   "source": [
    "dkdt"
   ]
  },
  {
   "cell_type": "code",
   "execution_count": null,
   "metadata": {},
   "outputs": [],
   "source": [
    "dkdt"
   ]
  },
  {
   "cell_type": "code",
   "execution_count": null,
   "metadata": {},
   "outputs": [],
   "source": [
    "integrated_KE = (dkdt).cumulative_integrate(coord=\"intp\")\n",
    "plt.plot(integrated_KE.intp,integrated_KE)\n",
    "plt.title(\"Time Integrated dkdt\")\n",
    "plt.xlabel(\"$t\\dfrac{2\\pi}{f}$\")\n",
    "plt.ylabel(\"k\")\n",
    "# plt.yscale('log')\n",
    "plt.show()"
   ]
  },
  {
   "cell_type": "code",
   "execution_count": null,
   "metadata": {},
   "outputs": [],
   "source": [
    "KE_check = ocean_data.k.mean(dim=['xF','yC','zC'])\n",
    "inertial_period = KE_check.time/pd.Timedelta(\"1s\")*(1e-4)/(2*np.pi)\n",
    "KE_check_ip = KE_check.assign_coords(intp = ('time',inertial_period.data))\n",
    "plt.plot(KE_check_ip.intp[0:250],KE_check_ip[0:250]