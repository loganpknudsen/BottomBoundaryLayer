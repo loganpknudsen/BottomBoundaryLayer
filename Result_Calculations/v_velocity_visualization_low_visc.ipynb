{
 "cells": [
  {
   "cell_type": "code",
   "execution_count": null,
   "metadata": {},
   "outputs": [],
   "source": [
    "import xarray as xr\n",
    "import numpy as np\n",
    "import matplotlib.pyplot as plt"
   ]
  },
  {
   "cell_type": "code",
   "execution_count": null,
   "metadata": {},
   "outputs": [],
   "source": [
    "# ocean_data=xr.open_dataset(\"/Users/loganknudsen/Documents/UMD_Research_Local_File_Saves/psi_base_test_remove_b.nc\")\n",
    "ocean_data=xr.open_dataset(\"/Users/loganknudsen/Documents/UMD_Research_Local_File_Saves/BLL_w_O_PV_chec_low_visc.nc\") #i=103"
   ]
  },
  {
   "cell_type": "code",
   "execution_count": null,
   "metadata": {},
   "outputs": [],
   "source": [
    "ocean_data"
   ]
  },
  {
   "cell_type": "code",
   "execution_count": null,
   "metadata": {},
   "outputs": [],
   "source": [
    "u = ocean_data.u#+ocean_data.U\n",
    "v = ocean_data.v#+ocean_data.V\n",
    "b = ocean_data.b + ocean_data.B\n",
    "# B = ocean_data.B\n",
    "w = ocean_data.w"
   ]
  },
  {
   "cell_type": "code",
   "execution_count": null,
   "metadata": {},
   "outputs": [],
   "source": [
    "f = 2*(7.292115e-5)*np.sin(np.pi/4)\n",
    "v.time[103]*(f/(2*np.pi))"
   ]
  },
  {
   "cell_type": "code",
   "execution_count": null,
   "metadata": {},
   "outputs": [],
   "source": [
    "# ocean_data.E"
   ]
  },
  {
   "cell_type": "code",
   "execution_count": null,
   "metadata": {},
   "outputs": [],
   "source": [
    "# vmin and vmax control colorbar range\n",
    "# for i in range(len(ocean_data.time)):\n",
    "# show timw -20, -25, -30, -35\n",
    "q = -2\n",
    "v[q].plot()\n",
    "# xr.plot.contour(b[q,:,:,0],levels=20,cmap=\"gray\")\n",
    "# # plt.title(\"Small Pertubations w/0 Background\")\n",
    "# plt.show()"
   ]
  },
  {
   "cell_type": "code",
   "execution_count": null,
   "metadata": {},
   "outputs": [],
   "source": [
    "b[0,:,0,:].dims"
   ]
  },
  {
   "cell_type": "code",
   "execution_count": null,
   "metadata": {},
   "outputs": [],
   "source": [
    "# plt.contour(b[0])\n",
    "b[0,:,0,:].mean(dim='xC').plot()#.plot.contour()"
   ]
  },
  {
   "cell_type": "code",
   "execution_count": null,
   "metadata": {},
   "outputs": [],
   "source": [
    "import matplotlib.animation\n",
    "import matplotlib.pyplot as plt\n",
    "import numpy as np\n",
    "\n",
    "plt.rcParams[\"animation.html\"] = \"jshtml\"\n",
    "plt.rcParams['animation.embed_limit'] = 2**128\n",
    "# plt.rcParams['figure.dpi'] = 150  \n",
    "plt.ioff()\n",
    "fig, axs = plt.subplots()\n",
    "\n",
    "frms = len(v.time)\n",
    "def animate(t):\n",
    "    plt.clf()\n",
    "    u[t].plot(add_colorbar=True,vmin=-0.001,vmax=0.001,cmap='bwr') # vmin=-0.001,vmax=0.001\n",
    "    # plt.contour(b[t,:,0,:],cmap=\"Greys\")\n",
    "    b[t,:,0,:].plot.contour(cmap=\"ocean\",levels= 10)\n",
    "\n",
    "matplotlib.animation.FuncAnimation(fig, animate, frames=frms)\n",
    "# anim = matplotlib.animation.FuncAnimation(fig, animate, frames=frms)\n",
    "# # writervideo = matplotlib.animation.FFMpegWriter(fps=60) \n",
    "# anim.save('u_base_test_case_downwelling_color_change.gif') \n",
    "# plt.close()"
   ]
  },
  {
   "cell_type": "code",
   "execution_count": null,
   "metadata": {},
   "outputs": [],
   "source": [
    "import matplotlib.animation\n",
    "import matplotlib.pyplot as plt\n",
    "import numpy as np\n",
    "\n",
    "plt.rcParams[\"animation.html\"] = \"jshtml\"\n",
    "plt.rcParams['animation.embed_limit'] = 2**128\n",
    "# plt.rcParams['figure.dpi'] = 150  \n",
    "plt.ioff()\n",
    "fig, axs = plt.subplots()\n",
    "\n",
    "frms = len(v.time)\n",
    "def animate(t):\n",
    "    plt.clf()\n",
    "    v[t].plot(add_colorbar=True,vmin=-0.001,vmax=0.001,cmap='bwr') # vmin=-0.001,vmax=0.001\n",
    "    # plt.contour(b[t,:,0,:],cmap=\"Greys\")\n",
    "    b[t,:,0,:].plot.contour(cmap=\"ocean\",levels= 10)\n",
    "\n",
    "matplotlib.animation.FuncAnimation(fig, animate, frames=frms)\n",
    "# anim = matplotlib.animation.FuncAnimation(fig, animate, frames=frms)\n",
    "# # writervideo = matplotlib.animation.FFMpegWriter(fps=60) \n",
    "# anim.save('u_base_test_case_downwelling_color_change.gif') \n",
    "# plt.close()"
   ]
  },
  {
   "cell_type": "code",
   "execution_count": null,
   "metadata": {},
   "outputs": [],
   "source": [
    "import matplotlib.animation\n",
    "import matplotlib.pyplot as plt\n",
    "import numpy as np\n",
    "\n",
    "plt.rcParams[\"animation.html\"] = \"jshtml\"\n",
    "plt.rcParams['animation.embed_limit'] = 2**128\n",
    "# plt.rcParams['figure.dpi'] = 150  \n",
    "plt.ioff()\n",
    "fig, axs = plt.subplots()\n",
    "\n",
    "frms = len(v.time)\n",
    "def animate(t):\n",
    "    plt.clf()\n",
    "    ocean_data.PV[t].plot(add_colorbar=True,vmin=-1e-9,vmax=1e-9,cmap='seismic') # vmin=-0.001,vmax=0.001\n",
    "    # plt.contour(b[t,:,0,:],cmap=\"Greys\")\n",
    "    b[t,:,0,:].plot.contour(cmap=\"ocean\",levels= 10)\n",
    "\n",
    "matplotlib.animation.FuncAnimation(fig, animate, frames=frms)\n",
    "# anim = matplotlib.animation.FuncAnimation(fig, animate, frames=frms)\n",
    "# # writervideo = matplotlib.animation.FFMpegWriter(fps=60) \n",
    "# anim.save('u_base_test_case_downwelling_color_change.gif') \n",
    "# plt.close()"
   ]
  },
  {
   "cell_type": "code",
   "execution_count": null,
   "metadata": {},
   "outputs": [],
   "source": [
    "import matplotlib.animation\n",
    "import matplotlib.pyplot as plt\n",
    "import numpy as np\n",
    "\n",
    "plt.rcParams[\"animation.html\"] = \"jshtml\"\n",
    "plt.rcParams['animation.embed_limit'] = 2**128\n",
    "# plt.rcParams['figure.dpi'] = 150  \n",
    "plt.ioff()\n",
    "fig, axs = plt.subplots()\n",
    "\n",
    "frms = len(v.time)\n",
    "def animate(t):\n",
    "    plt.clf()\n",
    "    ocean_data.KE[t].plot(add_colorbar=True,vmin=0,vmax=1e-7,cmap='bwr') # vmin=-0.001,vmax=0.001\n",
    "    # plt.contour(b[t,:,0,:],cmap=\"Greys\")\n",
    "    b[t,:,0,:].plot.contour(cmap=\"ocean\",levels= 10)\n",
    "\n",
    "matplotlib.animation.FuncAnimation(fig, animate, frames=frms)\n",
    "# anim = matplotlib.animation.FuncAnimation(fig, animate, frames=frms)\n",
    "# # writervideo = matplotlib.animation.FFMpegWriter(fps=60) \n",
    "# anim.save('u_base_test_case_downwelling_color_change.gif') \n",
    "# plt.close()"
   ]
  },
  {
   "cell_type": "code",
   "execution_count": 11,
   "metadata": {},
   "outputs": [],
   "source": [
    "KE_spatial_average_time_series = ocean_data.KE.mean(dim=['xC','yC','zC'])"
   ]
  },
  {
   "cell_type": "code",
   "execution_count": 15,
   "metadata": {},
   "outputs": [
    {
     "data": {
      "image/png": "[encoded data removed]",
      "text/plain": [
       "<Figure size 640x480 with 1 Axes>"
      ]
     },
     "metadata": {},
     "output_type": "display_data"
    }
   ],
   "source": [
    "plt.plot(KE_spatial_average_time_series.time[100:200]*(1e-4)/(2*np.pi),KE_spatial_average_time_series.values[100:200]/KE_spatial_average_time_series.values[100])\n",
    "plt.yscale('log')\n",
    "plt.show()"
   ]
  },
  {
   "cell_type": "code",
   "execution_count": 16,
   "metadata": {},
   "outputs": [],
   "source": [
    "eps_spatial_average_time_series = ocean_data.ε.mean(dim=['xC','yC','zC'])"
   ]
  },
  {
   "cell_type": "code",
   "execution_count": 20,
   "metadata": {},
   "outputs": [
    {
     "data": {
      "image/png": "[encoded data removed]",
      "text/plain": [
       "<Figure size 640x480 with 1 Axes>"
      ]
     },
     "metadata": {},
     "output_type": "display_data"
    }
   ],
   "source": [
    "plt.plot(eps_spatial_average_time_series.time[0:50]*(1e-4)/(2*np.pi),-1*eps_spatial_average_time_series.values[0:50]*10**(4)/KE_spatial_average_time_series.values[0:50])\n",
    "plt.show()"
   ]
  },
  {
   "cell_type": "code",
   "execution_count": null,
   "metadata": {},
   "outputs": [],
   "source": [
    "PV_spatial_average_time_series = ocean_data.PV.mean(dim=['xF','yF'])\n",
    "PV_spatial_average_time_series"
   ]
  },
  {
   "cell_type": "code",
   "execution_count": null,
   "metadata": {},
   "outputs": [],
   "source": [
    "import matplotlib.animation\n",
    "import matplotlib.pyplot as plt\n",
    "import numpy as np\n",
    "\n",
    "plt.rcParams[\"animation.html\"] = \"jshtml\"\n",
    "# plt.rcParams['figure.dpi'] = 150  \n",
    "plt.ioff()\n",
    "fig, axs = plt.subplots()\n",
    "\n",
    "frms = len(v.time)\n",
    "def animate(t):\n",
    "    plt.clf()\n",
    "    PV_spatial_average_time_series[t].plot()\n",
    "    plt.ylim([-0.0001,0.001])\n",
    "    # plt.contour(b[t,:,0,:],cmap=\"Greys\")\n",
    "    # b[t,:,0,:].plot.contour(cmap=\"Greys\",levels= 10)\n",
    "\n",
    "# anim = matplotlib.animation.FuncAnimation(fig, animate, frames=frms)\n",
    "# # writervideo = matplotlib.animation.FFMpegWriter(fps=60) \n",
    "# anim.save('jump_p_u.gif') \n",
    "# plt.close()\n",
    "matplotlib.animation.FuncAnimation(fig, animate, frames=frms)"
   ]
  },
  {
   "cell_type": "code",
   "execution_count": null,
   "metadata": {},
   "outputs": [],
   "source": []
  },
  {
   "cell_type": "code",
   "execution_count": null,
   "metadata": {},
   "outputs": [],
   "source": [
    "import matplotlib.animation\n",
    "import matplotlib.pyplot as plt\n",
    "import numpy as np\n",
    "\n",
    "plt.rcParams[\"animation.html\"] = \"jshtml\"\n",
    "# plt.rcParams['figure.dpi'] = 150  \n",
    "plt.ioff()\n",
    "fig, axs = plt.subplots()\n",
    "\n",
    "frms = len(v.time)\n",
    "def animate(t):\n",
    "    plt.clf()\n",
    "    u[t].plot(add_colorbar=True,vmin=-0.001,vmax=0.001)\n",
    "    # plt.contour(b[t,:,0,:],cmap=\"Greys\")\n",
    "    b[t,:,0,:].plot.contour(cmap=\"Greys\",levels= 10)\n",
    "\n",
    "# matplotlib.animation.FuncAnimation(fig, animate, frames=frms)\n",
    "anim = matplotlib.animation.FuncAnimation(fig, animate, frames=frms)\n",
    "# writervideo = matplotlib.animation.FFMpegWriter(fps=60) \n",
    "anim.save('base_test_case_downwelling_color_change.gif') \n",
    "plt.close()"
   ]
  },
  {
   "cell_type": "code",
   "execution_count": null,
   "metadata": {},
   "outputs": [],
   "source": [
    "import matplotlib.animation\n",
    "import matplotlib.pyplot as plt\n",
    "import numpy as np\n",
    "\n",
    "plt.rcParams[\"animation.html\"] = \"jshtml\"\n",
    "# plt.rcParams['figure.dpi'] = 150  \n",
    "plt.ioff()\n",
    "fig, axs = plt.subplots()\n",
    "\n",
    "frms = len(v.time)\n",
    "def animate(t):\n",
    "    plt.clf()\n",
    "    u[t].mean('xF').plot()\n",
    "    plt.ylim([-0.01,0.01])\n",
    "    # plt.contour(b[t,:,0,:],cmap=\"Greys\")\n",
    "    # b[t,:,0,:].plot.contour(cmap=\"Greys\",levels= 10)\n",
    "\n",
    "# anim = matplotlib.animation.FuncAnimation(fig, animate, frames=frms)\n",
    "# # writervideo = matplotlib.animation.FFMpegWriter(fps=60) \n",
    "# anim.save('jump_p_u.gif') \n",
    "# plt.close()\n",
    "matplotlib.animation.FuncAnimation(fig, animate, frames=frms)"
   ]
  },
  {
   "cell_type": "code",
   "execution_count": null,
   "metadata": {},
   "outputs": [],
   "source": [
    "import matplotlib.animation\n",
    "import matplotlib.pyplot as plt\n",
    "import numpy as np\n",
    "\n",
    "plt.rcParams[\"animation.html\"] = \"jshtml\"\n",
    "# plt.rcParams['figure.dpi'] = 150  \n",
    "plt.ioff()\n",
    "fig, axs = plt.subplots()\n",
    "\n",
    "frms = len(v.time)\n",
    "def animate(t):\n",
    "    plt.clf()\n",
    "    v[t].mean('xC').plot()\n",
    "    plt.ylim([-0.01,0.01])\n",
    "    # plt.contour(b[t,:,0,:],cmap=\"Greys\")\n",
    "    # b[t,:,0,:].plot.contour(cmap=\"Greys\",levels= 10)\n",
    "\n",
    "# anim = matplotlib.animation.FuncAnimation(fig, animate, frames=frms)\n",
    "# # writervideo = matplotlib.animation.FFMpegWriter(fps=60) \n",
    "# anim.save('jump_p_v.gif') \n",
    "# plt.close()\n",
    "matplotlib.animation.FuncAnimation(fig, animate, frames=frms)"
   ]
  },
  {
   "cell_type": "code",
   "execution_count": null,
   "metadata": {},
   "outputs": [],
   "source": [
    "import matplotlib.animation\n",
    "import matplotlib.pyplot as plt\n",
    "import numpy as np\n",
    "\n",
    "plt.rcParams[\"animation.html\"] = \"jshtml\"\n",
    "# plt.rcParams['figure.dpi'] = 150  \n",
    "plt.ioff()\n",
    "fig, axs = plt.subplots()\n",
    "\n",
    "frms = len(v.time)\n",
    "def animate(t):\n",
    "    plt.clf()\n",
    "    b[t].mean('xC').plot()\n",
    "    plt.ylim([-0.0001,0.0001])\n",
    "    # plt.contour(b[t,:,0,:],cmap=\"Greys\")\n",
    "    # b[t,:,0,:].plot.contour(cmap=\"Greys\",levels= 10)\n",
    "\n",
    "# anim = matplotlib.animation.FuncAnimation(fig, animate, frames=frms)\n",
    "# # writervideo = matplotlib.animation.FFMpegWriter(fps=60) \n",
    "# anim.save('jump_p_b.gif') \n",
    "# plt.close()\n",
    "matplotlib.animation.FuncAnimation(fig, animate, frames=frms)"
   ]
  },
  {
   "cell_type": "code",
   "execution_count": null,
   "metadata": {},
   "outputs": [],
   "source": [
    "import matplotlib.animation\n",
    "import matplotlib.pyplot as plt\n",
    "import numpy as np\n",
    "# plt.rcParams[\"animation.html\"] = \"jshtml\"\n",
    "# plt.rcParams['figure.dpi'] = 150  \n",
    "plt.ioff()\n",
    "fig, ax = plt.subplots()\n",
    "\n",
    "frms = len(v.time)\n",
    "def animate(t):\n",
    "    plt.clf()\n",
    "    v[t].plot(add_colorbar=True,vmin=-0.0001,vmax=0.0001)\n",
    "    # plt.contour(b[t,:,0,:],cmap=\"Greys\")\n",
    "    b[t,:,0,:].plot.contour(cmap=\"Greys\",levels= 20)\n",
    "\n",
    "anim = matplotlib.animation.FuncAnimation(fig, animate, frames=frms)\n",
    "# writervideo = matplotlib.animation.FFMpegWriter(fps=60) \n",
    "anim.save('base_test_case_downwelling.gif') \n",
    "plt.close()"
   ]
  },
  {
   "cell_type": "code",
   "execution_count": null,
   "metadata": {},
   "outputs": [],
   "source": [
    "import matplotlib.animation\n",
    "import matplotlib.pyplot as plt\n",
    "import numpy as np\n",
    "plt.rcParams[\"animation.html\"] = \"jshtml\"\n",
    "# plt.rcParams['figure.dpi'] = 150  \n",
    "plt.ioff()\n",
    "fig, ax = plt.subplots()\n",
    "\n",
    "frms = len(v.time)\n",
    "def animate(t):\n",
    "    plt.clf()\n",
    "    cf = v[t].plot(add_colorbar=True)\n",
    "\n",
    "matplotlib.animation.FuncAnimation(fig, animate, frames=frms)"
   ]
  },
  {
   "cell_type": "markdown",
   "metadata": {},
   "source": [
    "b[1].plot()"
   ]
  },
  {
   "cell_type": "code",
   "execution_count": null,
   "metadata": {},
   "outputs": [],
   "source": []
  }
 ],
 "metadata": {
  "kernelspec": {
   "display_name": "Python 3",
   "language": "python",
   "name": "python3"
  },
  "language_info": {
   "codemirror_mode": {
    "name": "ipython",
    "version": 3
   },
   "file_extension": ".py",
   "mimetype": "text/x-python",
   "name": "python",
   "nbconvert_exporter": "python",
   "pygments_lexer": "ipython3",
   "version": "3.9.13"
  },
  "orig_nbformat": 4
 },
 "nbformat": 4,
 "nbformat_minor": 2
}
