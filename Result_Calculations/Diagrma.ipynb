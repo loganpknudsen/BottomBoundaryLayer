{
 "cells": [
  {
   "cell_type": "code",
   "execution_count": null,
   "id": "b289f5d6-3ff5-45c7-b49c-3cf9f082d8e7",
   "metadata": {},
   "outputs": [],
   "source": [
    "import numpy as np\n",
    "import scipy.integrate as sc\n",
    "import matplotlib.pyplot as plt\n",
    "import matplotlib.colors as cl"
   ]
  },
  {
   "cell_type": "code",
   "execution_count": null,
   "id": "f138c597-b733-4a1c-808c-8a209ea1c3fd",
   "metadata": {},
   "outputs": [],
   "source": [
    "N2 = 1e-5\n",
    "f = 1e-4\n",
    "delta = 0.5"
   ]
  },
  {
   "cell_type": "code",
   "execution_count": null,
   "id": "fe14c75d-c407-480d-91f2-c057281ddd8f",
   "metadata": {},
   "outputs": [],
   "source": [
    "def m_t(t,m,beta):\n",
    "    return m-delta*beta**(-2)*(np.cos(beta*t)-1)"
   ]
  },
  {
   "cell_type": "code",
   "execution_count": null,
   "id": "a5cdb27e-0505-45e0-b3fe-014d7db59b5a",
   "metadata": {},
   "outputs": [],
   "source": [
    "def PSI_system(v,t,m,alpha,Ri,gamma,beta,theta,n):\n",
    "    psi, D = v\n",
    "    dpsidt = (alpha*m_t(t,m,beta)-Ri*np.cos(theta))*(1-Ri**(-1)*gamma**(-1)*m)*D+(n*np.sin(theta)+np.cos(theta)*m_t(t,m,beta))*(1-m-delta-n*np.sin(theta))*D\n",
    "    dDdt = (n**2+m_t(t,m,beta)**2)**(-1)*psi\n",
    "    return [dpsidt, dDdt]"
   ]
  },
  {
   "cell_type": "code",
   "execution_count": null,
   "id": "7a75b3c1-03d0-4752-887d-408f306c7ffb",
   "metadata": {},
   "outputs": [],
   "source": [
    "def max_growth_rate(gamma,Sinf):\n",
    "    theta =np.arctan(Sinf*f/N2**(0.5))\n",
    "    S2 = Sinf**2\n",
    "    beta = (1+S2)**(0.5)\n",
    "    fstar = f*np.cos(theta)*beta\n",
    "    delta = 0.5\n",
    "    lmbd = N2*np.tan(theta)*gamma/f\n",
    "    n = f/lmbd\n",
    "    Ri = N2*(1-gamma)/lmbd**2\n",
    "    alpha = N2*(1-gamma)*np.tan(theta)/(f*lmbd)\n",
    "    m = np.linspace(0,1.5,150)\n",
    "    frequencies = []\n",
    "    growth_rates = []\n",
    "    for i in m:\n",
    "        t = np.linspace(0,2*np.pi/beta,100)\n",
    "        sol1 = sc.odeint(PSI_system,[1,0],t,args=(i,alpha,Ri,gamma,beta,theta,n,)) \n",
    "        sol2 = sc.odeint(PSI_system,[0,1],t,args=(i,alpha,Ri,gamma,beta,theta,n,)) \n",
    "        M = np.array([[sol1[-1,0],sol1[-1,1]],[sol2[-1,0],sol2[-1,1]]])\n",
    "        eigs = np.log(np.linalg.eig(M)[0]+0*1j)/(2*np.pi/beta)\n",
    "        frequencies.append(eigs.imag)\n",
    "        growth_rates.append(eigs.real)\n",
    "    frequencies = np.array(frequencies)\n",
    "    growth_rates = np.array(growth_rates)\n",
    "    gr = growth_rates[np.argmax(growth_rates[:,0]),:]\n",
    "    fr = frequencies[np.argmax(growth_rates[:,0]),:]\n",
    "    m_max = m[np.argmax(growth_rates[:,0])]\n",
    "    return gr, fr, m_max"
   ]
  },
  {
   "cell_type": "code",
   "execution_count": null,
   "id": "8dbeb86d-96c4-480c-ae47-7799dc90b61e",
   "metadata": {},
   "outputs": [],
   "source": [
    "Sinf = np.linspace(0.001,2.001,40)\n",
    "gamma = np.linspace(0.001,1.101,40)\n",
    "gr_list = []\n",
    "fr_list = []\n",
    "mm_list = []\n",
    "for i in Sinf:\n",
    "    gr_list2 =[]\n",
    "    fr_list2 =[]\n",
    "    mm_list2 =[]\n",
    "    print(i)\n",
    "    for j in gamma:\n",
    "        sigma, fr, m_max = max_growth_rate(j,i)\n",
    "        gr_list2.append(sigma)\n",
    "        fr_list2.append(fr)\n",
    "        mm_list2.append(m_max)\n",
    "    gr_list.append(gr_list2)\n",
    "    fr_list.append(fr_list2)\n",
    "    mm_list.append(mm_list2)"
   ]
  },
  {
   "cell_type": "code",
   "execution_count": null,
   "id": "9b993673-e253-4a99-b86c-2be6fc4c27c7",
   "metadata": {},
   "outputs": [],
   "source": [
    "sigmas = np.array(gr_list)\n",
    "freqs = np.array(fr_list)\n",
    "m_nums = np.array(mm_list)"
   ]
  },
  {
   "cell_type": "code",
   "execution_count": null,
   "id": "c4136641-ffab-42d4-a58f-631382495d5d",
   "metadata": {},
   "outputs": [],
   "source": [
    "plt.contourf(Sinf,gamma,np.abs(sigmas[:,:,0]).T,norm=cl.LogNorm(vmax=1),cmap=\"seismic\")\n",
    "plt.plot(Sinf,(1+0.5*Sinf**2)**(-1))\n",
    "plt.plot(Sinf[:34],(3-Sinf[:34]**2)*(3*(1+Sinf[:34]**2)-0.5*4*Sinf[:34]**2)**(-1))\n",
    "plt.colorbar()"
   ]
  },
  {
   "cell_type": "code",
   "execution_count": null,
   "id": "54b71622-07f3-466f-80b6-9532acda408f",
   "metadata": {},
   "outputs": [],
   "source": [
    "np.sqrt(3)"
   ]
  },
  {
   "cell_type": "code",
   "execution_count": null,
   "id": "a7d77e97-6fe0-4114-983e-f33a2e105127",
   "metadata": {},
   "outputs": [],
   "source": [
    "Sinf[34]"
   ]
  },
  {
   "cell_type": "code",
   "execution_count": null,
   "id": "4774ce10-1207-4374-907b-75fe5a695285",
   "metadata": {},
   "outputs": [],
   "source": [
    "plt.contourf(Sinf,gamma,np.abs(freqs[:,:,0]).T/(1+Sinf**2)**(0.5),cmap=\"bwr\")\n",
    "plt.plot(Sinf,(1+0.5*Sinf**2)**(-1),c=\"k\")\n",
    "plt.plot(Sinf[:34],(3-Sinf[:34]**2)*(3*(1+Sinf[:34]**2)-0.5*4*Sinf[:34]**2)**(-1),c=\"k\")\n",
    "plt.colorbar()"
   ]
  },
  {
   "cell_type": "code",
   "execution_count": null,
   "id": "44e0c3b9-8585-42c5-80c1-079469925548",
   "metadata": {},
   "outputs": [],
   "source": [
    "plt.contourf(Sinf,gamma,np.abs(m_nums[:,:]).T)\n",
    "plt.plot(Sinf,(1+0.5*Sinf**2)**(-1),c=\"k\")\n",
    "plt.plot(Sinf[:34],(3-Sinf[:34]**2)*(3*(1+Sinf[:34]**2)-0.5*4*Sinf[:34]**2)**(-1),c=\"k\")\n",
    "plt.colorbar()"
   ]
  },
  {
   "cell_type": "code",
   "execution_count": null,
   "id": "2f7801eb-a6db-4f74-a62e-5aeb8926d103",
   "metadata": {},
   "outputs": [],
   "source": []
  }
 ],
 "metadata": {
  "kernelspec": {
   "display_name": "Python 3 (ipykernel)",
   "language": "python",
   "name": "python3"
  },
  "language_info": {
   "codemirror_mode": {
    "name": "ipython",
    "version": 3
   },
   "file_extension": ".py",
   "mimetype": "text/x-python",
   "name": "python",
   "nbconvert_exporter": "python",
   "pygments_lexer": "ipython3",
   "version": "3.10.13"
  }
 },
 "nbformat": 4,
 "nbformat_minor": 5
}
