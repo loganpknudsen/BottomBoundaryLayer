{
 "cells": [
  {
   "cell_type": "code",
   "execution_count": 1,
   "metadata": {},
   "outputs": [],
   "source": [
    "import xarray as xr\n",
    "import numpy as np\n",
    "import matplotlib.pyplot as plt\n",
    "import matplotlib\n",
    "import pandas as pd"
   ]
  },
  {
   "cell_type": "code",
   "execution_count": 2,
   "metadata": {},
   "outputs": [],
   "source": [
    "theta1 = 0.005\n",
    "theta = str(theta1)\n",
    "N21 = 9.9e-6\n",
    "N2 = \"9.9e-6\"\n",
    "Vinf1 = 0.05\n",
    "Vinf = str(Vinf1)\n",
    "h = str(104.0)\n",
    "fstar = (1e-8+theta1**2*N21)**(0.5)\n",
    "delta = 0.1\n",
    "bo = 0"
   ]
  },
  {
   "cell_type": "code",
   "execution_count": 3,
   "metadata": {},
   "outputs": [],
   "source": [
    "# ocean_data=xr.open_dataset(\"/Users/loganknudsen/Documents/UMD_Research_Local_File_Saves/psi_base_test_remove_b.nc\")\n",
    "# file = \"flow_fields_height_101.0_theta_0.005_stratification_1.0e-5_interior_velocity_0.05_delta_0.1_bo_0.nc\" #f\"dataflow_fields_height_{h}_theta_{theta}_stratification_{N2}_interior_velocity_{Vinf}.nc\"\n",
    "# file = f\"flow_fields_height_{h}_theta_{theta}_stratification_{N2}_interior_velocity_{Vinf}_delta_0.1_bo_0.nc\"\n",
    "# file = \"flow_fields_height_103.125_theta_0.005_stratification_1.0e-5_interior_velocity_0.05_delta_0.1_bo_0_visc_0_boundary_fix9.nc\"\n",
    "file = \"olddata/dataflow_fields_height_103.0_theta_0.005_stratification_1.0e-5_interior_velocity_0.05.nc\"\n",
    "ocean_data=xr.open_dataset(\"/glade/derecho/scratch/knudsenl/data/\"+file)#.isel(time=slice(0,4000)) #i=103\n",
    "seconds = ocean_data.time/pd.Timedelta(\"1s\")\n",
    "ocean_data = ocean_data.assign_coords(time = ('time',seconds.data))"
   ]
  },
  {
   "cell_type": "code",
   "execution_count": 52,
   "metadata": {},
   "outputs": [
    {
     "data": {
      "text/plain": [
       "102.49999999999999"
      ]
     },
     "execution_count": 52,
     "metadata": {},
     "output_type": "execute_result"
    }
   ],
   "source": [
    "h1 = (1e-4*0.05)/(1e-5*5*1e-3*(1+1e-5*(5*1e-3)**2*1e8)**(-1))\n",
    "h1"
   ]
  },
  {
   "cell_type": "code",
   "execution_count": 4,
   "metadata": {},
   "outputs": [],
   "source": [
    "# ocean_data=xr.open_dataset(\"/Users/loganknudsen/Documents/UMD_Research_Local_File_Saves/psi_base_test_remove_b.nc\")\n",
    "# ocean_data=xr.open_dataset(\"/glade/derecho/scratch/knudsenl/data/dataflow_fields_height_123.0_theta_0.005_stratification_1.0e-5_interior_velocity_0.06.nc\") #i=103\n",
    "# ocean_data=xr.open_dataset(\"../BBL_w_O_updated_diagnostics_extra_flow_terms.nc\") #i=103\n",
    "\n",
    "# ocean_data2=xr.open_dataset(\"../BBL_w_O_updated_diagnostics_TKE_terms.nc\") #i=103"
   ]
  },
  {
   "cell_type": "code",
   "execution_count": 5,
   "metadata": {},
   "outputs": [],
   "source": [
    "# ocean_data"
   ]
  },
  {
   "cell_type": "code",
   "execution_count": 6,
   "metadata": {},
   "outputs": [],
   "source": [
    "# print((1/pd.Timedelta(\"1s\"))*ocean_data.time[-1]*(1e-8+0*1e-4*1e-5)**(0.5)/(2*np.pi))\n",
    "# print(ocean_data2.time[-1]/pd.Timedelta(\"1s\")*(1e-8+0*1e-4*1e-5)**(0.5)/(2*np.pi))"
   ]
  },
  {
   "cell_type": "code",
   "execution_count": 7,
   "metadata": {},
   "outputs": [],
   "source": [
    "# Vi = 0.1\n",
    "# N2 = 1E-5\n",
    "# theta = 1E-2\n",
    "# f = 1E-4\n",
    "# s2 = N2*theta**2/f**2\n",
    "# gamma = (1+s2)**(-1) \n",
    "# h = (f*Vi)/(gamma*N2*theta)\n",
    "# ocean_data = ocean_data.sel(zC=slice(0,h),zF=slice(0,h))"
   ]
  },
  {
   "cell_type": "code",
   "execution_count": 8,
   "metadata": {},
   "outputs": [],
   "source": [
    "ua = ocean_data.ua\n",
    "u = ocean_data.u.interp_like(ocean_data.ua.xF)\n",
    "ub = ocean_data.ub"
   ]
  },
  {
   "cell_type": "code",
   "execution_count": 9,
   "metadata": {},
   "outputs": [
    {
     "ename": "NameError",
     "evalue": "name 'unb' is not defined",
     "output_type": "error",
     "traceback": [
      "\u001b[0;31m---------------------------------------------------------------------------\u001b[0m",
      "\u001b[0;31mNameError\u001b[0m                                 Traceback (most recent call last)",
      "Cell \u001b[0;32mIn[9], line 2\u001b[0m\n\u001b[1;32m      1\u001b[0m una \u001b[38;5;241m=\u001b[39m np\u001b[38;5;241m.\u001b[39madd(ua\u001b[38;5;241m.\u001b[39mvalues,ub\u001b[38;5;241m.\u001b[39mvalues)\n\u001b[0;32m----> 2\u001b[0m ut \u001b[38;5;241m=\u001b[39m np\u001b[38;5;241m.\u001b[39madd(\u001b[43munb\u001b[49m,u\u001b[38;5;241m.\u001b[39mvalues)\n\u001b[1;32m      3\u001b[0m una \u001b[38;5;241m=\u001b[39m xr\u001b[38;5;241m.\u001b[39mDataArray(una,coords\u001b[38;5;241m=\u001b[39m {\u001b[38;5;124m'\u001b[39m\u001b[38;5;124mtime\u001b[39m\u001b[38;5;124m'\u001b[39m:ocean_data\u001b[38;5;241m.\u001b[39mtime,\u001b[38;5;124m'\u001b[39m\u001b[38;5;124mzC\u001b[39m\u001b[38;5;124m'\u001b[39m:ocean_data\u001b[38;5;241m.\u001b[39mzC,\u001b[38;5;124m'\u001b[39m\u001b[38;5;124myC\u001b[39m\u001b[38;5;124m'\u001b[39m:ocean_data\u001b[38;5;241m.\u001b[39myC,\u001b[38;5;124m'\u001b[39m\u001b[38;5;124mxF\u001b[39m\u001b[38;5;124m'\u001b[39m:ocean_data\u001b[38;5;241m.\u001b[39mxF})\n\u001b[1;32m      4\u001b[0m ut \u001b[38;5;241m=\u001b[39m xr\u001b[38;5;241m.\u001b[39mDataArray(ut,coords\u001b[38;5;241m=\u001b[39m {\u001b[38;5;124m'\u001b[39m\u001b[38;5;124mtime\u001b[39m\u001b[38;5;124m'\u001b[39m:ocean_data\u001b[38;5;241m.\u001b[39mtime,\u001b[38;5;124m'\u001b[39m\u001b[38;5;124mzC\u001b[39m\u001b[38;5;124m'\u001b[39m:ocean_data\u001b[38;5;241m.\u001b[39mzC,\u001b[38;5;124m'\u001b[39m\u001b[38;5;124myC\u001b[39m\u001b[38;5;124m'\u001b[39m:ocean_data\u001b[38;5;241m.\u001b[39myC,\u001b[38;5;124m'\u001b[39m\u001b[38;5;124mxF\u001b[39m\u001b[38;5;124m'\u001b[39m:ocean_data\u001b[38;5;241m.\u001b[39mxF})\n",
      "\u001b[0;31mNameError\u001b[0m: name 'unb' is not defined"
     ]
    }
   ],
   "source": [
    "una = np.add(ua.values,ub.values)\n",
    "ut = np.add(unb,u.values)\n",
    "una = xr.DataArray(una,coords= {'time':ocean_data.time,'zC':ocean_data.zC,'yC':ocean_data.yC,'xF':ocean_data.xF})\n",
    "ut = xr.DataArray(ut,coords= {'time':ocean_data.time,'zC':ocean_data.zC,'yC':ocean_data.yC,'xF':ocean_data.xF})"
   ]
  },
  {
   "cell_type": "code",
   "execution_count": null,
   "metadata": {
    "scrolled": true
   },
   "outputs": [],
   "source": [
    "va = ocean_data.va\n",
    "v = ocean_data.v\n",
    "vb = ocean_data.vb.interp_like(ocean_data.va.xC)"
   ]
  },
  {
   "cell_type": "code",
   "execution_count": null,
   "metadata": {},
   "outputs": [],
   "source": [
    "ocean_data.vb"
   ]
  },
  {
   "cell_type": "code",
   "execution_count": null,
   "metadata": {},
   "outputs": [],
   "source": [
    "vna = np.add(va.values,vb.values)\n",
    "vt = np.add(vnb,v.values)\n",
    "vna = xr.DataArray(vna,coords= {'time':ocean_data.time,'zC':ocean_data.zC,'yC':ocean_data.yC,'xC':ocean_data.xC})\n",
    "vt = xr.DataArray(vt,coords= {'time':ocean_data.time,'zC':ocean_data.zC,'yC':ocean_data.yC,'xC':ocean_data.xC})"
   ]
  },
  {
   "cell_type": "code",
   "execution_count": null,
   "metadata": {},
   "outputs": [],
   "source": [
    "bna = ocean_data.ba +ocean_data.B\n",
    "bt = bna+ ocean_data.b"
   ]
  },
  {
   "cell_type": "code",
   "execution_count": null,
   "metadata": {},
   "outputs": [],
   "source": []
  },
  {
   "cell_type": "code",
   "execution_count": null,
   "metadata": {},
   "outputs": [],
   "source": [
    "# vtz = vt.differentiate(\"zC\")\n",
    "# # vtx = vt.differentiate(\"xC\")\n",
    "# vnbz = ocean_data.vb.differentiate(\"zC\")\n",
    "# vnbx = ocean_data.vb.differentiate(\"xF\")\n",
    "# vnax = ocean_data.vb.differentiate(\"xF\")\n",
    "# btz = bt.differentiate(\"zC\")\n",
    "bnaz = ocean_data.ba.differentiate(\"zC\")\n",
    "# bnax = ocean_data.B.differentiate(\"zC\")*5*10**(-3)*(-1)"
   ]
  },
  {
   "cell_type": "code",
   "execution_count": null,
   "metadata": {},
   "outputs": [],
   "source": [
    "bnaz.isel(time=-1).plot(cbar_kwargs={'label': \"Stratification Anomaly\"})"
   ]
  },
  {
   "cell_type": "code",
   "execution_count": null,
   "metadata": {},
   "outputs": [],
   "source": [
    "PVt = (1e-4-theta1*vtzm)*btzm-vtzm*(-theta1*btzm)\n",
    "PVt"
   ]
  },
  {
   "cell_type": "code",
   "execution_count": null,
   "metadata": {},
   "outputs": [],
   "source": [
    "(1e-5*theta1*gamma)/1e-4-(1e-5*theta1*gamma)/1e-4*0.1"
   ]
  },
  {
   "cell_type": "code",
   "execution_count": null,
   "metadata": {},
   "outputs": [],
   "source": [
    "ocean_data.b"
   ]
  },
  {
   "cell_type": "code",
   "execution_count": null,
   "metadata": {},
   "outputs": [],
   "source": [
    "ocean_data.v.isel(time=300,zC = slice(0,50)).plot()"
   ]
  },
  {
   "cell_type": "code",
   "execution_count": null,
   "metadata": {
    "scrolled": true
   },
   "outputs": [],
   "source": [
    "ocean_data.b.isel(time=300,zC = slice(0,50)).plot()"
   ]
  },
  {
   "cell_type": "code",
   "execution_count": null,
   "metadata": {},
   "outputs": [],
   "source": [
    "gamma = (1+(5e-3)**2*1e-5/1e-8)**(-1)\n",
    "PVna2 = (1e-4)*(bnazm)-(vnazm)*(bnaxm)\n",
    "PVna2"
   ]
  },
  {
   "cell_type": "code",
   "execution_count": null,
   "metadata": {},
   "outputs": [],
   "source": [
    "gamma = (1+(5e-3)**2*1e-5/1e-8)**(-1)\n",
    "PVna = (1e-4+vnaxm-theta1*vnazm)*(bnazm+theta1*bnazm)-(vnazm+theta1*vnaxm)*(bnazm-theta1*bnazm)\n",
    "PVna"
   ]
  },
  {
   "cell_type": "code",
   "execution_count": null,
   "metadata": {},
   "outputs": [],
   "source": [
    "\n",
    "# vt = np.add(ocean_data.vb.values,ocean_data.va.values)\n",
    "# vt = xr.DataArray(vt,coords= {'time':ocean_data.time,'zC':ocean_data.zC,'yC':ocean_data.yC,'xC':ocean_data.xC})"
   ]
  },
  {
   "cell_type": "code",
   "execution_count": null,
   "metadata": {},
   "outputs": [],
   "source": [
    "# vt"
   ]
  },
  {
   "cell_type": "code",
   "execution_count": null,
   "metadata": {},
   "outputs": [],
   "source": [
    "# f = 2*(7.292115e-5)*np.sin(np.pi/4)\n",
    "v.time[19]*(fstar/(2*np.pi))"
   ]
  },
  {
   "cell_type": "code",
   "execution_count": null,
   "metadata": {},
   "outputs": [],
   "source": [
    "s = (ocean_data.u**2+ocean_data.v**2+ocean_data.w**2)**(0.5)"
   ]
  },
  {
   "cell_type": "code",
   "execution_count": null,
   "metadata": {},
   "outputs": [],
   "source": [
    "ocean_data"
   ]
  },
  {
   "cell_type": "code",
   "execution_count": null,
   "metadata": {},
   "outputs": [],
   "source": [
    "PVm = (ocean_data.PV)\n",
    "gamma = (1+(5e-3)**2*0.99e-5/1e-8)**(-1)"
   ]
  },
  {
   "cell_type": "code",
   "execution_count": null,
   "metadata": {
    "scrolled": true
   },
   "outputs": [],
   "source": [
    "((PVm.isel(yF=0,xF=256,zF=30)*(1e-4)/(0.99e-5*(1-gamma)))**(0.5)).plot()\n",
    "plt.show()"
   ]
  },
  {
   "cell_type": "code",
   "execution_count": null,
   "metadata": {},
   "outputs": [],
   "source": [
    "1e-4*(0.1)**(0.5)"
   ]
  },
  {
   "cell_type": "code",
   "execution_count": null,
   "metadata": {},
   "outputs": [],
   "source": [
    "(1e-8*())"
   ]
  },
  {
   "cell_type": "code",
   "execution_count": null,
   "metadata": {
    "scrolled": true
   },
   "outputs": [],
   "source": [
    "gamma = (1+((5e-3)**2*0.99e-5)/1e-8)**(-1)\n",
    "pvmn = (((ocean_data.PV.isel(zF=slice(0,25)))*(1e-4/(0.99e-5*(1-gamma))))**(0.5)) # \n",
    "pvmn"
   ]
  },
  {
   "cell_type": "code",
   "execution_count": null,
   "metadata": {},
   "outputs": [],
   "source": [
    "(1e-8+(5e-3)**2*0.99e-5)**(0.5)/2"
   ]
  },
  {
   "cell_type": "code",
   "execution_count": null,
   "metadata": {},
   "outputs": [],
   "source": [
    "pvmn.plot()\n",
    "plt.show()"
   ]
  },
  {
   "cell_type": "code",
   "execution_count": 71,
   "metadata": {},
   "outputs": [
    {
     "data": {
      "image/png": "[encoded data removed]",
      "text/plain": [
       "<Figure size 640x480 with 2 Axes>"
      ]
     },
     "metadata": {},
     "output_type": "display_data"
    }
   ],
   "source": [
    "# vmin and vmax control colorbar range\n",
    "# for i in range(len(ocean_data.time)):\n",
    "# show timw -20, -25, -30, -35\n",
    "q = 306\n",
    "tm = str(round(ocean_data.time[q].values*fstar/(2*np.pi),2))\n",
    "ocean_data.v.isel(time=q,zC=slice(0,75)).plot(cbar_kwargs={'label': \" \"}) # cmap=\"Accent\"zC=slice(0,70)\n",
    "ocean_data.B.isel(time=q,yC=0,zC=slice(0,75)).plot.contour(colors=\"k\")\n",
    "# xr.plot.contour(bt.isel(time=q,yC=0,zC=slice(0,66)),x=bt.dims[3],y=bt.dims[1],levels=10)#.plot.contour(cmap=\"ocean\",levels= 10)\n",
    "plt.title(r\"$\\dfrac{tf^*}{2\\pi}=$\"+str(tm))\n",
    "plt.xlabel(\"Along Slope Direction (m)\")\n",
    "plt.ylabel(\"Slope Normal Direction (m)\")\n",
    "plt.hlines(h1,xmin=0,xmax=2000,linestyles=\"--\",color=\"grey\")\n",
    "# xr.plot.contour(b[q,:,:,0],levels=20,cmap=\"gray\")\n",
    "# # plt.title(\"Small Pertubations w/0 Background\")\n",
    "plt.savefig(\"vvelocity_\"+tm+\".png\")\n",
    "plt.show()"
   ]
  },
  {
   "cell_type": "code",
   "execution_count": null,
   "metadata": {},
   "outputs": [],
   "source": [
    "ocean_data.PV"
   ]
  },
  {
   "cell_type": "code",
   "execution_count": null,
   "metadata": {},
   "outputs": [],
   "source": [
    "ocean_data.PV.cumulative_integrate(\"xF\")"
   ]
  },
  {
   "cell_type": "code",
   "execution_count": null,
   "metadata": {},
   "outputs": [],
   "source": [
    "b[0,:,0,:].dims"
   ]
  },
  {
   "cell_type": "code",
   "execution_count": null,
   "metadata": {},
   "outputs": [],
   "source": [
    "# plt.contour(b[0])\n",
    "b[0,:,0,:].mean(dim='xC').plot()#.plot.contour()"
   ]
  },
  {
   "cell_type": "code",
   "execution_count": null,
   "metadata": {},
   "outputs": [],
   "source": [
    "import matplotlib.animation\n",
    "import matplotlib.pyplot as plt\n",
    "import numpy as np\n",
    "\n",
    "plt.rcParams[\"animation.html\"] = \"jshtml\"\n",
    "plt.rcParams['animation.embed_limit'] = 2**128\n",
    "# plt.rcParams['figure.dpi'] = 150  \n",
    "plt.ioff()\n",
    "fig, axs = plt.subplots()\n",
    "\n",
    "frms = len(ocean_data.u.time[0:500])\n",
    "def animate(t):\n",
    "    plt.clf()\n",
    "    tm = round(ocean_data.time[t].data*(1e-8+1e-4*1e-5)**(0.5)/(2*np.pi),2)\n",
    "    # norm = matplotlib.colors.SymLogNorm(linthresh=0.000001,linscale=1,base=10,vmin=ocean_data.v.min(),vmax=10**(-4))\n",
    "    ocean_data.v[t].plot(add_colorbar=True,cmap='seismic',norm = matplotlib.colors.SymLogNorm(linthresh=0.00005,linscale=1,base=10,vmin=-10**(-1),vmax=10**(-1)),cbar_kwargs={'label': \"perturbation v-velocity (m/s)\"}) # vmin=-0.001,vmax=0.001\n",
    "    plt.xlabel(\"Along Slope Direction (m)\")\n",
    "    plt.ylabel(\"Slope Normal Direction (m)\")\n",
    "    # ocean_data.v[t].plot(add_colorbar=True,cmap='bwr',vmin=0,vmax=1e-9) # vmin=-0.001,vmax=0.001\n",
    "    # plt.contour(b[t,:,0,:],cmap=\"Greys\")\n",
    "    # bt[t,:,0,:].plot.contour(cmap=\"ocean\",levels= 10)\n",
    "    plt.title(\"$v$-velocity at $t\\dfrac{f^*}{2\\pi}=$\"+str(tm))\n",
    "\n",
    "# matplotlib.animation.FuncAnimation(fig, animate, frames=frms)\n",
    "anim = matplotlib.animation.FuncAnimation(fig, animate, frames=frms)\n",
    "writervideo = matplotlib.animation.FFMpegWriter(fps=60) \n",
    "anim.save('v_base_PSI.gif') \n",
    "plt.close()"
   ]
  },
  {
   "cell_type": "code",
   "execution_count": null,
   "metadata": {},
   "outputs": [],
   "source": [
    "tm = np.round(ocean_data.time.data*(1e-8+1e-4*1e-5)**(0.5)/(2*np.pi),2)\n"
   ]
  },
  {
   "cell_type": "code",
   "execution_count": null,
   "metadata": {},
   "outputs": [],
   "source": [
    "tm[500]"
   ]
  },
  {
   "cell_type": "code",
   "execution_count": null,
   "metadata": {},
   "outputs": [],
   "source": [
    "import matplotlib.animation\n",
    "import matplotlib.pyplot as plt\n",
    "import numpy as np\n",
    "\n",
    "plt.rcParams[\"animation.html\"] = \"jshtml\"\n",
    "plt.rcParams['animation.embed_limit'] = 2**128\n",
    "# plt.rcParams['figure.dpi'] = 150  \n",
    "plt.ioff()\n",
    "fig, axs = plt.subplots()\n",
    "\n",
    "frms = len(ocean_data.u.time)\n",
    "def animate(t):\n",
    "    plt.clf()\n",
    "    tm = round(ocean_data.time[t].data*(1e-8+1e-4*1e-5)**(0.5)/(2*np.pi),2)\n",
    "    ocean_data.PV[t].plot(add_colorbar=True,cmap='bwr',norm = matplotlib.colors.SymLogNorm(linthresh=0.000001,linscale=1,base=10,vmin=-0.05,vmax=0.05)) # vmin=-0.001,vmax=0.001\n",
    "    # plt.contour(b[t,:,0,:],cmap=\"Greys\")\n",
    "    b[t,:,0,:].plot.contour(cmap=\"ocean\",levels= 10)\n",
    "    plt.title(\"$v$-velocity at $t\\dfrac{f^*}{2\\pi}=$\"+str(tm))\n",
    "\n",
    "matplotlib.animation.FuncAnimation(fig, animate, frames=frms)\n",
    "# anim = matplotlib.animation.FuncAnimation(fig, animate, frames=frms)\n",
    "# writervideo = matplotlib.animation.FFMpegWriter(fps=60) \n",
    "# anim.save('u_base_PSI.gif') \n",
    "# plt.close()"
   ]
  },
  {
   "cell_type": "code",
   "execution_count": null,
   "metadata": {},
   "outputs": [],
   "source": [
    "import matplotlib.animation\n",
    "import matplotlib.pyplot as plt\n",
    "import numpy as np\n",
    "\n",
    "plt.rcParams[\"animation.html\"] = \"jshtml\"\n",
    "plt.rcParams['animation.embed_limit'] = 2**128\n",
    "# plt.rcParams['figure.dpi'] = 150  \n",
    "plt.ioff()\n",
    "fig, axs = plt.subplots()\n",
    "\n",
    "frms = len(v.time)\n",
    "def animate(t):\n",
    "    plt.clf()\n",
    "    ocean_data.B[t].plot(add_colorbar=True,vmin=-0.0001,vmax=0.0001,cmap='bwr') # vmin=-0.001,vmax=0.001\n",
    "    # plt.contour(b[t,:,0,:],cmap=\"Greys\")\n",
    "    b[t,:,0,:].plot.contour(cmap=\"ocean\",levels= 10)\n",
    "\n",
    "# matplotlib.animation.FuncAnimation(fig, animate, frames=frms)\n",
    "anim = matplotlib.animation.FuncAnimation(fig, animate, frames=frms)\n",
    "# writervideo = matplotlib.animation.FFMpegWriter(fps=240) \n",
    "anim.save('v_total_PSI_base.gif',fps=240) \n",
    "plt.close()"
   ]
  },
  {
   "cell_type": "code",
   "execution_count": null,
   "metadata": {},
   "outputs": [],
   "source": [
    "t = 367\n",
    "tm = ocean_data.time[t]/pd.Timedelta(\"1s\")*(1e-8+1e-4*1e-5)**(0.5)/(2*np.pi)\n",
    "tm.data"
   ]
  },
  {
   "cell_type": "code",
   "execution_count": null,
   "metadata": {},
   "outputs": [],
   "source": [
    "t = 401 # 191 295\n",
    "tm = round(ocean_data.time[t].data*(1e-8+1e-4*1e-5)**(0.5)/(2*np.pi),2)\n",
    "fig, axs = plt.subplots()\n",
    "ocean_data.V[t].plot(add_colorbar=True,vmin=-0.1,vmax=0.1,cmap='bwr',cbar_kwargs={'label': \"Across slope velocity ($v\\,[m/s]$)\"}) # vmin=-0.001,vmax=0.001\n",
    "# plt.contour(b[t,:,0,:],cmap=\"Greys\")\n",
    "b[t,:,0,:].plot.contour(cmap=\"black\",levels= 10)\n",
    "plt.title(\"$v$-velocity at $t\\dfrac{f^*}{2\\pi}=$\"+str(tm))\n",
    "plt.xlabel(\"Distance along-slope ($y\\,[m]$)\")\n",
    "plt.ylabel(\"Height above slope ($z\\,[m]$)\")\n",
    "# plt.savefig(\"vtotalplot20_5.pdf\")\n",
    "plt.show()\n",
    "tm"
   ]
  },
  {
   "cell_type": "code",
   "execution_count": null,
   "metadata": {},
   "outputs": [],
   "source": [
    "t = 419 # 201 307\n",
    "tm = round(ocean_data.time[t].data/pd.Timedelta(\"1s\")*(1e-8+1e-4*1e-5)**(0.5)/(2*np.pi),2)\n",
    "fig, axs = plt.subplots()\n",
    "ocean_data.[t].plot(add_colorbar=True,vmin=-0.01,vmax=0.01,cmap='bwr',cbar_kwargs={'label': \"Across slope velocity($v[m/s]$)\"}) # vmin=-0.001,vmax=0.001\n",
    "# plt.contour(b[t,:,0,:],cmap=\"Greys\")\n",
    "b[t,:,0,:].plot.contour(cmap=\"black\",levels= 10)\n",
    "plt.title(\"$v$-velocity at $t\\dfrac{f^*}{2\\pi}=$\"+str(tm))\n",
    "plt.xlabel(\"Distance along-slope($y[m]$)\")\n",
    "plt.ylabel(\"Height above slope($z[m]$)\")\n",
    "plt.show()\n",
    "tm"
   ]
  },
  {
   "cell_type": "code",
   "execution_count": null,
   "metadata": {},
   "outputs": [],
   "source": [
    "import matplotlib.animation\n",
    "import matplotlib.pyplot as plt\n",
    "import numpy as np\n",
    "\n",
    "plt.rcParams[\"animation.html\"] = \"jshtml\"\n",
    "plt.rcParams['animation.embed_limit'] = 2**128\n",
    "# plt.rcParams['figure.dpi'] = 150  \n",
    "plt.ioff()\n",
    "fig, axs = plt.subplots()\n",
    "\n",
    "frms = len(w.time)\n",
    "def animate(t):\n",
    "    plt.clf()\n",
    "    ocean_data.w[t].plot(add_colorbar=True,vmin=-0.0001,vmax=0.0001,cmap='bwr') # vmin=-0.001,vmax=0.001\n",
    "    # plt.contour(b[t,:,0,:],cmap=\"Greys\")\n",
    "    b[t,:,0,:].plot.contour(cmap=\"ocean\",levels= 10)\n",
    "\n",
    "# matplotlib.animation.FuncAnimation(fig, animate, frames=frms)\n",
    "anim = matplotlib.animation.FuncAnimation(fig, animate, frames=frms)\n",
    "# writervideo = matplotlib.animation.FFMpegWriter(fps=240) \n",
    "anim.save('w_PSI_base.gif',fps=240) \n",
    "plt.close()"
   ]
  },
  {
   "cell_type": "code",
   "execution_count": null,
   "metadata": {},
   "outputs": [],
   "source": [
    "import matplotlib.animation\n",
    "import matplotlib.pyplot as plt\n",
    "import numpy as np\n",
    "\n",
    "plt.rcParams[\"animation.html\"] = \"jshtml\"\n",
    "plt.rcParams['animation.embed_limit'] = 2**128\n",
    "# plt.rcParams['figure.dpi'] = 150  \n",
    "plt.ioff()\n",
    "fig, axs = plt.subplots()\n",
    "\n",
    "frms = len(v.time)\n",
    "def animate(t):\n",
    "    plt.clf()\n",
    "    ocean_data.PV[t].plot(add_colorbar=True,vmin=-1e-9,vmax=1e-9,cmap='bwr') # vmin=-0.001,vmax=0.001\n",
    "    # plt.contour(b[t,:,0,:],cmap=\"Greys\")\n",
    "    b[t,:,0,:].plot.contour(cmap=\"ocean\",levels= 10)\n",
    "\n",
    "# matplotlib.animation.FuncAnimation(fig, animate, frames=frms)\n",
    "anim = matplotlib.animation.FuncAnimation(fig, animate, frames=frms)\n",
    "# writervideo = matplotlib.animation.FFMpegWriter(fps=60) \n",
    "anim.save('PV_PSI_base_bwr.gif') \n",
    "plt.close()"
   ]
  },
  {
   "cell_type": "code",
   "execution_count": null,
   "metadata": {},
   "outputs": [],
   "source": [
    "ocean_data_2=xr.open_dataset(\"/Users/loganknudsen/Documents/UMD_Research_Local_File_Saves/BBL_w_O_updated_diagnostics_TKE_terms.nc\") #i=103"
   ]
  },
  {
   "cell_type": "code",
   "execution_count": null,
   "metadata": {},
   "outputs": [],
   "source": [
    "import matplotlib.animation\n",
    "import matplotlib.pyplot as plt\n",
    "import numpy as np\n",
    "\n",
    "plt.rcParams[\"animation.html\"] = \"jshtml\"\n",
    "plt.rcParams['animation.embed_limit'] = 2**128\n",
    "# plt.rcParams['figure.dpi'] = 150  \n",
    "plt.ioff()\n",
    "fig, axs = plt.subplots()\n",
    "\n",
    "frms = len(ocean_data_2.KE.time)\n",
    "def animate(t):\n",
    "    plt.clf()\n",
    "    ocean_data_2.KE[t].plot(add_colorbar=True,norm=matplotlib.colors.LogNorm(vmin=10**(-8),vmax=10**(-3)),cmap='bwr') # vmin=-0.001,vmax=0.001\n",
    "    # plt.contour(b[t,:,0,:],cmap=\"Greys\")\n",
    "    # b[t*10,:,0,:].plot.contour(cmap=\"ocean\",levels= 10)\n",
    "\n",
    "# matplotlib.animation.FuncAnimation(fig, animate, frames=frms)\n",
    "anim = matplotlib.animation.FuncAnimation(fig, animate, frames=frms)\n",
    "# # writervideo = matplotlib.animation.FFMpegWriter(fps=60) \n",
    "anim.save('KE_plot.gif',fps=480) \n",
    "plt.close()"
   ]
  },
  {
   "cell_type": "code",
   "execution_count": null,
   "metadata": {},
   "outputs": [],
   "source": []
  },
  {
   "cell_type": "code",
   "execution_count": null,
   "metadata": {},
   "outputs": [],
   "source": [
    "KE_spatial_average_time_series = ocean_data.KE.mean(dim=['xC','yC','zC'])\n",
    "KE_spatial_average_time_series"
   ]
  },
  {
   "cell_type": "code",
   "execution_count": null,
   "metadata": {},
   "outputs": [],
   "source": [
    "inertial_period = KE_spatial_average_time_series.time/pd.Timedelta(\"1s\")*(1e-4)/(2*np.pi)\n",
    "KE_spatial_average_time_series_ip = KE_spatial_average_time_series.assign_coords(intp = ('time',inertial_period.data))"
   ]
  },
  {
   "cell_type": "code",
   "execution_count": null,
   "metadata": {},
   "outputs": [],
   "source": [
    "inertial_period[2061]"
   ]
  },
  {
   "cell_type": "code",
   "execution_count": null,
   "metadata": {},
   "outputs": [],
   "source": [
    "plt.plot(KE_spatial_average_time_series_ip.intp,KE_spatial_average_time_series_ip.values)\n",
    "plt.show()"
   ]
  },
  {
   "cell_type": "code",
   "execution_count": null,
   "metadata": {},
   "outputs": [],
   "source": [
    "timeKE = KE_spatial_average_time_series.time\n",
    "timeKE*1e-9"
   ]
  },
  {
   "cell_type": "markdown",
   "metadata": {},
   "source": []
  },
  {
   "cell_type": "code",
   "execution_count": null,
   "metadata": {},
   "outputs": [],
   "source": [
    "plt.plot(KE_spatial_average_time_series_ip.intp,KE_spatial_average_time_series_ip.values/KE_spatial_average_time_series_ip.values[518])\n",
    "plt.title(\"Pertubation kinetic energy over time\")\n",
    "plt.ylabel('$k$/$k_5$')\n",
    "plt.xlabel('$t$')\n",
    "plt.yscale('log')\n",
    "plt.show()"
   ]
  },
  {
   "cell_type": "code",
   "execution_count": null,
   "metadata": {},
   "outputs": [],
   "source": [
    "ts = 518\n",
    "tf = 2061\n",
    "plt.plot(KE_spatial_average_time_series_ip.intp[ts:tf],KE_spatial_average_time_series_ip.values[ts:tf]/KE_spatial_average_time_series_ip.values[ts])\n",
    "plt.ylabel('$k$/$k_0$')\n",
    "plt.xlabel('$t\\dfrac{2\\pi}{f}$')\n",
    "plt.yscale('log')\n",
    "plt.show()"
   ]
  },
  {
   "cell_type": "code",
   "execution_count": null,
   "metadata": {},
   "outputs": [],
   "source": [
    "ocean_data"
   ]
  },
  {
   "cell_type": "code",
   "execution_count": null,
   "metadata": {},
   "outputs": [],
   "source": [
    "AGSP_spatial_average_time_series = ocean_data.AGSP.mean(dim=['xF','yC','zC'])\n",
    "inertial_period = AGSP_spatial_average_time_series.time/pd.Timedelta(\"1s\")*(1e-4)/(2*np.pi)\n",
    "AGSP_spatial_average_time_series_ip = AGSP_spatial_average_time_series.assign_coords(intp = ('time',inertial_period.data))\n"
   ]
  },
  {
   "cell_type": "code",
   "execution_count": null,
   "metadata": {},
   "outputs": [],
   "source": [
    "plt.plot(AGSP_spatial_average_time_series_ip.intp[100:140],AGSP_spatial_average_time_series_ip.values[100:140]/KE_spatial_average_time_series_ip.values[100:140])\n",
    "plt.ylabel('$k$/$k_0$')\n",
    "plt.xlabel('$t$')\n",
    "# plt.yscale('log')\n",
    "plt.show()"
   ]
  },
  {
   "cell_type": "code",
   "execution_count": null,
   "metadata": {},
   "outputs": [],
   "source": [
    "GSP_spatial_average_time_series = ocean_data.GSP.mean(dim=['xC','yF','zC'])\n",
    "inertial_period = GSP_spatial_average_time_series.time/pd.Timedelta(\"1s\")*(1e-4)/(2*np.pi)\n",
    "GSP_spatial_average_time_series_ip = GSP_spatial_average_time_series.assign_coords(intp = ('time',inertial_period.data))\n"
   ]
  },
  {
   "cell_type": "code",
   "execution_count": null,
   "metadata": {},
   "outputs": [],
   "source": [
    "plt.plot(GSP_spatial_average_time_series_ip.intp[100:140],GSP_spatial_average_time_series_ip.values[100:140]/KE_spatial_average_time_series_ip.values[100:140])\n",
    "plt.ylabel('$k$/$k_0$')\n",
    "plt.xlabel('$t$')\n",
    "# plt.yscale('log')\n",
    "plt.show()"
   ]
  },
  {
   "cell_type": "code",
   "execution_count": null,
   "metadata": {},
   "outputs": [],
   "source": [
    "BFLUX_spatial_average_time_series = ocean_data.BFLUX.mean(dim=['xC','yC','zF'])\n",
    "inertial_period = BFLUX_spatial_average_time_series.time/pd.Timedelta(\"1s\")*(1e-4)/(2*np.pi)\n",
    "BFLUX_spatial_average_time_series_ip = BFLUX_spatial_average_time_series.assign_coords(intp = ('time',inertial_period.data))\n"
   ]
  },
  {
   "cell_type": "code",
   "execution_count": null,
   "metadata": {},
   "outputs": [],
   "source": [
    "plt.plot(BFLUX_spatial_average_time_series_ip.intp[100:140],BFLUX_spatial_average_time_series_ip.values[100:140]/KE_spatial_average_time_series_ip.values[100:140])\n",
    "plt.ylabel('$k$/$k_0$')\n",
    "plt.xlabel('$t$')\n",
    "# plt.yscale('log')\n",
    "plt.show()"
   ]
  },
  {
   "cell_type": "code",
   "execution_count": null,
   "metadata": {},
   "outputs": [],
   "source": [
    "E_spatial_average_time_series = ocean_data.E.mean(dim=['xC','yC','zC'])\n",
    "inertial_period = E_spatial_average_time_series.time/pd.Timedelta(\"1s\")*(1e-4)/(2*np.pi)\n",
    "E_spatial_average_time_series_ip = E_spatial_average_time_series.assign_coords(intp = ('time',inertial_period.data))\n"
   ]
  },
  {
   "cell_type": "code",
   "execution_count": null,
   "metadata": {},
   "outputs": [],
   "source": [
    "plt.plot(E_spatial_average_time_series_ip.intp[100:140],-1*E_spatial_average_time_series_ip.values[100:140]/KE_spatial_average_time_series_ip.values[100:140])\n",
    "plt.ylabel('$k$/$k_0$')\n",
    "plt.xlabel('$t$')\n",
    "# plt.yscale('log')\n",
    "plt.show()"
   ]
  },
  {
   "cell_type": "code",
   "execution_count": null,
   "metadata": {},
   "outputs": [],
   "source": [
    "PWORK_spatial_average_time_series = ocean_data.PWORK.mean(dim=['xC','yC','zC'])\n",
    "inertial_period = PWORK_spatial_average_time_series.time/pd.Timedelta(\"1s\")*(1e-4)/(2*np.pi)\n",
    "PWORK_spatial_average_time_series_ip = PWORK_spatial_average_time_series.assign_coords(intp = ('time',inertial_period.data))"
   ]
  },
  {
   "cell_type": "code",
   "execution_count": null,
   "metadata": {},
   "outputs": [],
   "source": [
    "plt.plot(PWORK_spatial_average_time_series_ip.intp[100:140],PWORK_spatial_average_time_series_ip.values[100:140]/KE_spatial_average_time_series_ip.values[100:140])\n",
    "plt.ylabel('$k$/$k_0$')\n",
    "plt.xlabel('$t$')\n",
    "# plt.yscale('log')\n",
    "plt.show()"
   ]
  },
  {
   "cell_type": "code",
   "execution_count": null,
   "metadata": {},
   "outputs": [],
   "source": [
    "ts = 120\n",
    "tf = 2061\n",
    "seconds = KE_spatial_average_time_series.time/pd.Timedelta(\"1s\")\n",
    "inertial_period = KE_spatial_average_time_series.time/pd.Timedelta(\"1s\")*(1e-4)/(2*np.pi)\n",
    "KE_spatial_average_time_series_s= KE_spatial_average_time_series.assign_coords(sec = ('time',seconds.data))\n",
    "dkdt = KE_spatial_average_time_series_s.differentiate(coord='sec',edge_order=2)\n",
    "# np.gradient(KE_spatial_average_time_series_ip,KE_spatial_average_time_series_ip.time)\n",
    "plt.plot(inertial_period[100:140],dkdt[100:140]/KE_spatial_average_time_series_s[100:140])\n"
   ]
  },
  {
   "cell_type": "code",
   "execution_count": null,
   "metadata": {},
   "outputs": [],
   "source": [
    "inertial_period[1244]"
   ]
  },
  {
   "cell_type": "code",
   "execution_count": null,
   "metadata": {},
   "outputs": [],
   "source": [
    "ts = 1037\n",
    "tf = 1244\n",
    "plt.plot(inertial_period[ts:tf],dkdt[ts:tf]/KE_spatial_average_time_series_s[ts:tf]*1e4,color=\"k\",label='$\\dfrac{1}{k}\\dfrac{\\partial k}{\\partial t}$')\n",
    "plt.plot(AGSP_spatial_average_time_series_ip.intp[ts:tf],AGSP_spatial_average_time_series_ip.values[ts:tf]/KE_spatial_average_time_series_ip.values[ts:tf]*1e4,color='red',label='AGSP/k')\n",
    "plt.plot(GSP_spatial_average_time_series_ip.intp[ts:tf],GSP_spatial_average_time_series_ip.values[ts:tf]/KE_spatial_average_time_series_ip.values[ts:tf]*1e4,color='green',label='GSP/k')\n",
    "plt.plot(BFLUX_spatial_average_time_series_ip.intp[ts:tf],BFLUX_spatial_average_time_series_ip.values[ts:tf]/KE_spatial_average_time_series_ip.values[ts:tf]*1e4,color='blue',label='BFLUX/k')\n",
    "plt.plot(E_spatial_average_time_series_ip.intp[ts:tf],-1*E_spatial_average_time_series_ip.values[ts:tf]/KE_spatial_average_time_series_ip.values[ts:tf]*1e4,color='pink',label='$-\\epsilon/k$')\n",
    "# plt.plot(PWORK_spatial_average_time_series_ip.intp[ts:tf],PWORK_spatial_average_time_series_ip.values[ts:tf]/KE_spatial_average_time_series_ip.values[ts:tf],color='orange')\n",
    "plt.axhline(color=\"violet\")\n",
    "plt.xlabel(\"$t\\dfrac{2\\pi}{f}$\")\n",
    "plt.ylabel(\"TKE growth rate/f\")\n",
    "plt.legend(loc='lower left')\n",
    "plt.figure(figsize=(12,5))\n",
    "plt.show()"
   ]
  },
  {
   "cell_type": "code",
   "execution_count": null,
   "metadata": {},
   "outputs": [],
   "source": [
    "tm = ocean_data.time*(1e-8+1e-4*1e-5)**(0.5)/(2*np.pi)\n",
    "tm[359]"
   ]
  },
  {
   "cell_type": "code",
   "execution_count": null,
   "metadata": {},
   "outputs": [],
   "source": [
    "ts = 295\n",
    "tf = 398\n",
    "tm = ocean_data.time*(1e-8+1e-4*1e-5)**(0.5)/(2*np.pi)\n",
    "plt.plot(tm[ts:tf],ocean_data.u[ts:tf,20,0,250]/ocean_data.v[96,20,0,250],color=\"blue\",label=\"$\\dfrac{u'}{v_5}$\")\n",
    "plt.plot(tm[ts:tf],ocean_data.v[ts:tf,20,0,250]/ocean_data.v[96,20,0,250],color=\"red\",linestyle='dashed',label=\"$\\dfrac{v'}{v_5}$\")\n",
    "# plt.plot(ocean_data.time[490:]*(1e-8+1e-4*1e-5)**(0.5)/(2*np.pi),ocean_data.U[490:,20,0,250]/ocean_data.V[490,20,0,250],color=\"red\")\n",
    "# plt.ylabel(\"$u/v_5$\")\n",
    "plt.xlabel(\"$t\\,\\dfrac{f^*}{2\\pi}$\")\n",
    "plt.legend()\n",
    "plt.show()"
   ]
  },
  {
   "cell_type": "code",
   "execution_count": null,
   "metadata": {},
   "outputs": [],
   "source": [
    "times = (tm[96].values*np.ones(7)+np.linspace(0,12,7))#*2*np.pi/(1e-8+1e-4*1e-5)**(0.5)\n",
    "times"
   ]
  },
  {
   "cell_type": "code",
   "execution_count": null,
   "metadata": {},
   "outputs": [],
   "source": [
    "np.linspace(0,8,5)"
   ]
  },
  {
   "cell_type": "code",
   "execution_count": null,
   "metadata": {},
   "outputs": [],
   "source": [
    "# normalized the data\n",
    "ts = 96\n",
    "# ocean_data2 = ocean_data.to_dataframe\n",
    "times = 2*np.pi/(1e-8+1e-4*1e-5)**(0.5)*tm[96].values*np.ones(7)+2*np.pi/(1e-8+1e-4*1e-5)**(0.5)*np.linspace(0,12,7)\n",
    "times = times.astype(\"str\")\n",
    "value = ((ocean_data[\"u\"]/ocean_data.v[ts+1,20,0,250]).drop_duplicates(dim=\"time\")).sel(time=times,xF=\"250\", yC=\"0\",zC=\"20\", method=\"nearest\")"
   ]
  },
  {
   "cell_type": "code",
   "execution_count": null,
   "metadata": {},
   "outputs": [],
   "source": [
    "value.values"
   ]
  },
  {
   "cell_type": "code",
   "execution_count": null,
   "metadata": {},
   "outputs": [],
   "source": [
    "dlnxdt = np.diff(np.log(np.abs(value.values)))\n",
    "dt =np.diff(value.time)\n",
    "r = np.mean(dlnxdt/dt)\n",
    "print(r)\n",
    "ocean_data_norm = (ocean_data/ocean_data.v[ts+1,20,0,250]).u.sel(xF=\"250\", yC=\"0\",zC=\"20\",method=\"nearest\")/np.exp(r*ocean_data.time)\n",
    "plt.plot(ocean_data_norm.time[96:360]*(1e-8+1e-4*1e-5)**(0.5)/(2*np.pi),ocean_data_norm[96:360])"
   ]
  },
  {
   "cell_type": "code",
   "execution_count": null,
   "metadata": {},
   "outputs": [],
   "source": [
    "ts = 96\n",
    "tf = 245\n",
    "tm = ocean_data.time*(1e-8+1e-4*1e-5)**(0.5)/(2*np.pi)\n",
    "# plt.plot(tm[ts:tf],ocean_data.u[ts:tf,20,0,250]/ocean_data.v[ts,20,0,250],color=\"blue\",label=\"$\\dfrac{u'}{v_5}$\")\n",
    "mean = ocean_data.u[ts:tf,20,0,250].rolling(time=3, center=True).mean().dropna(\"time\")\n",
    "# plt.plot(tm[ts+1:tf-1],mean[:]/ocean_data.v[ts,20,0,250],color=\"red\",linestyle='dashed',label=\"$\\dfrac{v'}{v_5}$\")\n",
    "plt.plot(tm[ts+1:tf-1],(ocean_data.u[ts+1:tf-1,20,0,250]-mean[:])/ocean_data.v[ts+1,20,0,250],color=\"red\",linestyle='dashed',label=\"$\\dfrac{v'}{v_5}$\")\n",
    "# plt.plot(ocean_data.time[490:]*(1e-8+1e-4*1e-5)**(0.5)/(2*np.pi),ocean_data.U[490:,20,0,250]/ocean_data.V[490,20,0,250],color=\"red\")\n",
    "# plt.ylabel(\"$u/v_5$\")\n",
    "plt.xlabel(\"$t\\,\\dfrac{f^*}{2\\pi}$\")\n",
    "plt.legend()\n",
    "plt.show()"
   ]
  },
  {
   "cell_type": "code",
   "execution_count": null,
   "metadata": {},
   "outputs": [],
   "source": [
    "import numpy as np\n",
    "import scipy as sc"
   ]
  },
  {
   "cell_type": "code",
   "execution_count": null,
   "metadata": {},
   "outputs": [],
   "source": [
    "# round(x[-1].values)"
   ]
  },
  {
   "cell_type": "code",
   "execution_count": null,
   "metadata": {},
   "outputs": [],
   "source": [
    "x = ocean_data_norm.time.drop_duplicates(dim=\"time\")\n",
    "y = ocean_data_norm.drop_duplicates(dim=\"time\")\n",
    "\n",
    "cs = sc.interpolate.CubicSpline(x,y)\n",
    "t = np.arange(96**(1e-8+1e-4*1e-5)**(0.5)/(2*np.pi),x[-1],3000)\n",
    "plt.plot(t[96:360],cs(t[96:360]))\n",
    "plt.plot(ocean_data_norm.time[96:360],ocean_data_norm[96:360])\n"
   ]
  },
  {
   "cell_type": "code",
   "execution_count": null,
   "metadata": {},
   "outputs": [],
   "source": [
    "FFT = np.fft.fft(cs(t[96:360]),axis=-1)\n",
    "# time = ocean_data.time/pd.Timedelta(\"1s\")\n",
    "FREQ = np.fft.fftfreq(t[96:360].shape[-1])"
   ]
  },
  {
   "cell_type": "code",
   "execution_count": null,
   "metadata": {},
   "outputs": [],
   "source": [
    "y1 = np.arange(-5,5,0.1)#ocean_data.time.shape\n",
    "x1 = np.ones(len(y1))\n",
    "print(fstar)"
   ]
  },
  {
   "cell_type": "code",
   "execution_count": null,
   "metadata": {},
   "outputs": [],
   "source": [
    "plt.plot(FREQ,FFT.real)\n",
    "fstar = (1e-8+1e-4*1e-5)**(0.5)/2\n",
    "plt.plot(1e3*fstar*x1,y1,color=\"r\")\n",
    "plt.show()"
   ]
  },
  {
   "cell_type": "code",
   "execution_count": null,
   "metadata": {},
   "outputs": [],
   "source": [
    "plt.plot(ocean_data.time[9:]*(1e-4)/(2*np.pi),ocean_data.v[9:,20,0,250]/ocean_data.v[9,20,0,250])\n",
    "plt.plot(ocean_data.time[9:]*(1e-4)/(2*np.pi),ocean_data.V[9:,20,0,250]/ocean_data.V[9,20,0,250])\n",
    "plt.ylabel(\"$u/v_1$,$U/V_1$\")\n",
    "plt.show()"
   ]
  },
  {
   "cell_type": "code",
   "execution_count": null,
   "metadata": {},
   "outputs": [],
   "source": [
    "plt.plot(ocean_data.time[10:]*(1e-4)/(2*np.pi),ocean_data.U[10:,20,0,250]/ocean_data.V[10,20,0,250])\n",
    "plt.ylabel(\"$U/U_1$\")\n",
    "plt.show()"
   ]
  },
  {
   "cell_type": "code",
   "execution_count": null,
   "metadata": {},
   "outputs": [],
   "source": [
    "plt.plot(ocean_data.time[10:]*(1e-4)/(2*np.pi),ocean_data.V[10:,20,0,250]/ocean_data.V[10,20,0,250])\n",
    "plt.ylabel(\"$V/V_1$\")\n",
    "plt.show()"
   ]
  },
  {
   "cell_type": "code",
   "execution_count": null,
   "metadata": {},
   "outputs": [],
   "source": [
    "ts = 518\n",
    "tf = 2061\n",
    "plt.plot(ocean_data.U[ts:tf,20,0,250],ocean_data.V[ts:tf,20,0,250])\n",
    "plt.title(\"Total velocity hodograph over linear instability period\")\n",
    "plt.xlabel(\"$u_T$\")\n",
    "plt.ylabel(\"$v_T$\")\n",
    "plt.gca().set_aspect(\"equal\")\n",
    "plt.show()"
   ]
  },
  {
   "cell_type": "code",
   "execution_count": null,
   "metadata": {},
   "outputs": [],
   "source": [
    "time = ocean_data.time[10:]*1e-9\n",
    "plt.plot(time*(1e-4)/(2*np.pi),ocean_data.v[10:,20,0,250]/ocean_data.v[10,20,0,250])\n",
    "plt.ylabel(\"$v/v_1$\")\n",
    "plt.show()"
   ]
  },
  {
   "cell_type": "code",
   "execution_count": null,
   "metadata": {},
   "outputs": [],
   "source": [
    "plt.plot(ocean_data.u[10:,20,0,250],ocean_data.v[10:,20,0,250])\n",
    "plt.xlabel(\"u\")\n",
    "plt.ylabel(\"v\")\n",
    "plt.show()"
   ]
  },
  {
   "cell_type": "code",
   "execution_count": null,
   "metadata": {},
   "outputs": [],
   "source": [
    "KE_spatial_average_time_series.differentiate(\"time\",datetime_unit='timedelta64[ns]')"
   ]
  },
  {
   "cell_type": "code",
   "execution_count": null,
   "metadata": {},
   "outputs": [],
   "source": [
    "eps_spatial_average_time_series = ocean_data.ε.mean(dim=['xC','yC','zC'])"
   ]
  },
  {
   "cell_type": "code",
   "execution_count": null,
   "metadata": {},
   "outputs": [],
   "source": [
    "plt.plot(eps_spatial_average_time_series.time[50:100]*(1e-4)/(2*np.pi),eps_spatial_average_time_series.values[50:100])\n",
    "plt.show()"
   ]
  },
  {
   "cell_type": "code",
   "execution_count": null,
   "metadata": {},
   "outputs": [],
   "source": [
    "PV_spatial_average_time_series = ocean_data.PV.mean(dim=['xF','yF'])\n",
    "PV_spatial_average_time_series"
   ]
  },
  {
   "cell_type": "code",
   "execution_count": null,
   "metadata": {},
   "outputs": [],
   "source": [
    "v.zC"
   ]
  },
  {
   "cell_type": "code",
   "execution_count": null,
   "metadata": {},
   "outputs": [],
   "source": [
    "plt.plot(u.isel(xF=500,yC=0,zC=25),v.isel(xC=500,yF=0,zC=25))\n",
    "plt.gca().set_aspect('equal')"
   ]
  },
  {
   "cell_type": "code",
   "execution_count": null,
   "metadata": {},
   "outputs": [],
   "source": [
    "Vi = 0.1\n",
    "N2 = 1E-5\n",
    "theta = 1E-2\n",
    "f = 1E-4\n",
    "s2 = N2*theta**2/f**2\n",
    "gamma = (1+s2)**(-1) \n",
    "h = (f*Vi)/(gamma*N2*theta)\n",
    "dVdz = gamma*N2*theta/f\n",
    "v.sel(zC=slice(0,h))"
   ]
  },
  {
   "cell_type": "code",
   "execution_count": null,
   "metadata": {},
   "outputs": [],
   "source": [
    "Vi = 0.1\n",
    "N2 = 1E-5\n",
    "theta = 1E-2\n",
    "f = 1E-4\n",
    "s2 = N2*theta**2/f**2\n",
    "gamma = (1+s2)**(-1) \n",
    "h = (f*Vi)/(gamma*N2*theta)\n",
    "dVdz = gamma*N2*theta/f\n",
    "u_sel = ocean_data.U.sel(zC=slice(0,h))\n",
    "v_sel = ocean_data.V.sel(zC=slice(0,h))\n",
    "w_sel = ocean_data.w.sel(zF=slice(0,h))\n",
    "u_z_average = u_sel.mean(dim=['zC'])\n",
    "v_z_average = (v_sel+dVdz*(h-v_sel.zC)-Vi).mean(dim=['zC'])\n",
    "w_z_average = w_sel.mean(dim=['zF'])\n",
    "# .isel(zC=np.arange(0,55))\n",
    "u_diff = (u_sel-u_z_average).mean(dim=['xF','yC','zC'])\n",
    "# v_diff = (v_sel-v_z_average+dVdz*(h-v_sel.zC)-Vi).mean(dim=['xC','yF','zC'])\n",
    "v_diff = (v-v_z_average+dVdz*(h-v_sel.zC)-Vi).mean(dim=['xC','yF','zC'])\n",
    "# w_diff = (w_sel-w_z_average).mean(dim=['xC','yC','zF'])\n",
    "w_diff = (w_sel).mean(dim=['xC','yC','zF'])"
   ]
  },
  {
   "cell_type": "code",
   "execution_count": null,
   "metadata": {},
   "outputs": [],
   "source": [
    "(v_sel-v_z_average+dVdz*(h-v_sel.zC)-Vi).mean(dim=['xC','yF','zC'])"
   ]
  },
  {
   "cell_type": "code",
   "execution_count": null,
   "metadata": {},
   "outputs": [],
   "source": [
    "h"
   ]
  },
  {
   "cell_type": "code",
   "execution_count": null,
   "metadata": {},
   "outputs": [],
   "source": [
    "dVdz"
   ]
  },
  {
   "cell_type": "code",
   "execution_count": null,
   "metadata": {},
   "outputs": [],
   "source": [
    "K = 1/2 *(u_diff**2+v_diff**2+w_diff**2)\n",
    "inertial_period = K.time/pd.Timedelta(\"1s\")*(1e-4)/(2*np.pi)\n",
    "K_ip = K.assign_coords(intp = ('time',inertial_period.data))\n",
    "K_ip/K_ip[0]"
   ]
  },
  {
   "cell_type": "code",
   "execution_count": null,
   "metadata": {},
   "outputs": [],
   "source": [
    "plt.plot(K_ip.intp,K_ip/K_ip[0])\n",
    "# plt.plot(KE_spatial_average_time_series_ip.intp,KE_spatial_average_time_series_ip.intp/K_ip[0])\n",
    "plt.show()"
   ]
  },
  {
   "cell_type": "code",
   "execution_count": null,
   "metadata": {},
   "outputs": [],
   "source": [
    "AGSP_spatial_average_time_series_ip"
   ]
  },
  {
   "cell_type": "code",
   "execution_count": null,
   "metadata": {},
   "outputs": [],
   "source": [
    "integrated_AGSP = AGSP_spatial_average_time_series_ip.cumulative_integrate(coord=\"intp\")\n",
    "plt.plot(AGSP_spatial_average_time_series_ip.intp,integrated_AGSP)\n",
    "plt.title(\"Time Integrated AGSP\")\n",
    "plt.xlabel(\"$t\\dfrac{2\\pi}{f}$\")\n",
    "plt.ylabel(\"k\")\n",
    "# plt.yscale('log')\n",
    "plt.show()"
   ]
  },
  {
   "cell_type": "code",
   "execution_count": null,
   "metadata": {},
   "outputs": [],
   "source": [
    "\n",
    "plt.plot(np.array(K.time)*(1e-13)/(2*np.pi),K,color=\"k\")\n",
    "# plt.plot(KE_spatial_average_time_series.time*(1e-4)/(2*np.pi),KE_spatial_average_time_series.values/K.values[0])\n",
    "plt.show()"
   ]
  },
  {
   "cell_type": "code",
   "execution_count": null,
   "metadata": {},
   "outputs": [],
   "source": [
    "import matplotlib.animation\n",
    "import matplotlib.pyplot as plt\n",
    "import numpy as np\n",
    "\n",
    "plt.rcParams[\"animation.html\"] = \"jshtml\"\n",
    "# plt.rcParams['figure.dpi'] = 150  \n",
    "plt.ioff()\n",
    "fig, axs = plt.subplots()\n",
    "\n",
    "frms = len(v.time)\n",
    "def animate(t):\n",
    "    plt.clf()\n",
    "    PV_spatial_average_time_series[t].plot()\n",
    "    plt.ylim([0,1e-9])\n",
    "    # plt.contour(b[t,:,0,:],cmap=\"Greys\")\n",
    "    # b[t,:,0,:].plot.contour(cmap=\"Greys\",levels= 10)\n",
    "\n",
    "# anim = matplotlib.animation.FuncAnimation(fig, animate, frames=frms)\n",
    "# # writervideo = matplotlib.animation.FFMpegWriter(fps=60) \n",
    "# anim.save('spatially_averaged_PV_standard_case_zoomed_in.gif') \n",
    "# plt.close()\n",
    "matplotlib.animation.FuncAnimation(fig, animate, frames=frms)"
   ]
  },
  {
   "cell_type": "code",
   "execution_count": null,
   "metadata": {},
   "outputs": [],
   "source": []
  },
  {
   "cell_type": "code",
   "execution_count": null,
   "metadata": {},
   "outputs": [],
   "source": [
    "import matplotlib.animation\n",
    "import matplotlib.pyplot as plt\n",
    "import numpy as np\n",
    "\n",
    "plt.rcParams[\"animation.html\"] = \"jshtml\"\n",
    "# plt.rcParams['figure.dpi'] = 150  \n",
    "plt.ioff()\n",
    "fig, axs = plt.subplots()\n",
    "\n",
    "frms = len(v.time)\n",
    "def animate(t):\n",
    "    plt.clf()\n",
    "    u[t].plot(add_colorbar=True,vmin=-0.001,vmax=0.001)\n",
    "    # plt.contour(b[t,:,0,:],cmap=\"Greys\")\n",
    "    b[t,:,0,:].plot.contour(cmap=\"Greys\",levels= 10)\n",
    "\n",
    "# matplotlib.animation.FuncAnimation(fig, animate, frames=frms)\n",
    "anim = matplotlib.animation.FuncAnimation(fig, animate, frames=frms)\n",
    "# writervideo = matplotlib.animation.FFMpegWriter(fps=60) \n",
    "anim.save('base_test_case_downwelling_color_change.gif') \n",
    "plt.close()"
   ]
  },
  {
   "cell_type": "code",
   "execution_count": null,
   "metadata": {},
   "outputs": [],
   "source": [
    "import matplotlib.animation\n",
    "import matplotlib.pyplot as plt\n",
    "import numpy as np\n",
    "\n",
    "plt.rcParams[\"animation.html\"] = \"jshtml\"\n",
    "# plt.rcParams['figure.dpi'] = 150  \n",
    "plt.ioff()\n",
    "fig, axs = plt.subplots()\n",
    "\n",
    "frms = len(v.time)\n",
    "def animate(t):\n",
    "    plt.clf()\n",
    "    u[t].mean('xF').plot()\n",
    "    plt.ylim([-0.01,0.01])\n",
    "    # plt.contour(b[t,:,0,:],cmap=\"Greys\")\n",
    "    # b[t,:,0,:].plot.contour(cmap=\"Greys\",levels= 10)\n",
    "\n",
    "# anim = matplotlib.animation.FuncAnimation(fig, animate, frames=frms)\n",
    "# # writervideo = matplotlib.animation.FFMpegWriter(fps=60) \n",
    "# anim.save('jump_p_u.gif') \n",
    "# plt.close()\n",
    "matplotlib.animation.FuncAnimation(fig, animate, frames=frms)"
   ]
  },
  {
   "cell_type": "code",
   "execution_count": null,
   "metadata": {},
   "outputs": [],
   "source": [
    "import matplotlib.animation\n",
    "import matplotlib.pyplot as plt\n",
    "import numpy as np\n",
    "\n",
    "plt.rcParams[\"animation.html\"] = \"jshtml\"\n",
    "# plt.rcParams['figure.dpi'] = 150  \n",
    "plt.ioff()\n",
    "fig, axs = plt.subplots()\n",
    "\n",
    "frms = len(v.time)\n",
    "def animate(t):\n",
    "    plt.clf()\n",
    "    v[t].mean('xC').plot()\n",
    "    plt.ylim([-0.01,0.01])\n",
    "    # plt.contour(b[t,:,0,:],cmap=\"Greys\")\n",
    "    # b[t,:,0,:].plot.contour(cmap=\"Greys\",levels= 10)\n",
    "\n",
    "# anim = matplotlib.animation.FuncAnimation(fig, animate, frames=frms)\n",
    "# # writervideo = matplotlib.animation.FFMpegWriter(fps=60) \n",
    "# anim.save('jump_p_v.gif') \n",
    "# plt.close()\n",
    "matplotlib.animation.FuncAnimation(fig, animate, frames=frms)"
   ]
  },
  {
   "cell_type": "code",
   "execution_count": null,
   "metadata": {},
   "outputs": [],
   "source": [
    "import matplotlib.animation\n",
    "import matplotlib.pyplot as plt\n",
    "import numpy as np\n",
    "\n",
    "plt.rcParams[\"animation.html\"] = \"jshtml\"\n",
    "# plt.rcParams['figure.dpi'] = 150  \n",
    "plt.ioff()\n",
    "fig, axs = plt.subplots()\n",
    "\n",
    "frms = len(v.time)\n",
    "def animate(t):\n",
    "    plt.clf()\n",
    "    b[t].mean('xC').plot()\n",
    "    plt.ylim([-0.0001,0.0001])\n",
    "    # plt.contour(b[t,:,0,:],cmap=\"Greys\")\n",
    "    # b[t,:,0,:].plot.contour(cmap=\"Greys\",levels= 10)\n",
    "\n",
    "# anim = matplotlib.animation.FuncAnimation(fig, animate, frames=frms)\n",
    "# # writervideo = matplotlib.animation.FFMpegWriter(fps=60) \n",
    "# anim.save('jump_p_b.gif') \n",
    "# plt.close()\n",
    "matplotlib.animation.FuncAnimation(fig, animate, frames=frms)"
   ]
  },
  {
   "cell_type": "code",
   "execution_count": null,
   "metadata": {},
   "outputs": [],
   "source": [
    "import matplotlib.animation\n",
    "import matplotlib.pyplot as plt\n",
    "import numpy as np\n",
    "# plt.rcParams[\"animation.html\"] = \"jshtml\"\n",
    "# plt.rcParams['figure.dpi'] = 150  \n",
    "plt.ioff()\n",
    "fig, ax = plt.subplots()\n",
    "\n",
    "frms = len(v.time)\n",
    "def animate(t):\n",
    "    plt.clf()\n",
    "    v[t].plot(add_colorbar=True,vmin=-0.0001,vmax=0.0001)\n",
    "    # plt.contour(b[t,:,0,:],cmap=\"Greys\")\n",
    "    b[t,:,0,:].plot.contour(cmap=\"Greys\",levels= 20)\n",
    "\n",
    "anim = matplotlib.animation.FuncAnimation(fig, animate, frames=frms)\n",
    "# writervideo = matplotlib.animation.FFMpegWriter(fps=60) \n",
    "anim.save('base_test_case_downwelling.gif') \n",
    "plt.close()"
   ]
  },
  {
   "cell_type": "code",
   "execution_count": null,
   "metadata": {},
   "outputs": [],
   "source": [
    "import matplotlib.animation\n",
    "import matplotlib.pyplot as plt\n",
    "import numpy as np\n",
    "plt.rcParams[\"animation.html\"] = \"jshtml\"\n",
    "# plt.rcParams['figure.dpi'] = 150  \n",
    "plt.ioff()\n",
    "fig, ax = plt.subplots()\n",
    "\n",
    "frms = len(v.time)\n",
    "def animate(t):\n",
    "    plt.clf()\n",
    "    cf = v[t].plot(add_colorbar=True)\n",
    "\n",
    "matplotlib.animation.FuncAnimation(fig, animate, frames=frms)"
   ]
  },
  {
   "cell_type": "markdown",
   "metadata": {},
   "source": [
    "b[1].plot()"
   ]
  },
  {
   "cell_type": "code",
   "execution_count": null,
   "metadata": {},
   "outputs": [],
   "source": []
  }
 ],
 "metadata": {
  "kernelspec": {
   "display_name": "Python 3 (ipykernel)",
   "language": "python",
   "name": "python3"
  },
  "language_info": {
   "codemirror_mode": {
    "name": "ipython",
    "version": 3
   },
   "file_extension": ".py",
   "mimetype": "text/x-python",
   "name": "python",
   "nbconvert_exporter": "python",
   "pygments_lexer": "ipython3",
   "version": "3.10.13"
  }
 },
 "nbformat": 4,
 "nbformat_minor": 4
}
