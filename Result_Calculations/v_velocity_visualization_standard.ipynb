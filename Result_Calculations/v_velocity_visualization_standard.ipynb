{
 "cells": [
  {
   "cell_type": "code",
   "execution_count": null,
   "metadata": {},
   "outputs": [],
   "source": [
    "import xarray as xr\n",
    "import numpy as np\n",
    "import matplotlib.pyplot as plt"
   ]
  },
  {
   "cell_type": "code",
   "execution_count": null,
   "metadata": {},
   "outputs": [],
   "source": [
    "# ocean_data=xr.open_dataset(\"/Users/loganknudsen/Documents/UMD_Research_Local_File_Saves/psi_base_test_remove_b.nc\")\n",
    "ocean_data=xr.open_dataset(\"/Users/loganknudsen/Documents/UMD_Research_Local_File_Saves/BBL_w_O_10_base.nc\") #i=103"
   ]
  },
  {
   "cell_type": "code",
   "execution_count": null,
   "metadata": {},
   "outputs": [],
   "source": [
    "ocean_data"
   ]
  },
  {
   "cell_type": "code",
   "execution_count": null,
   "metadata": {},
   "outputs": [],
   "source": [
    "u = ocean_data.u+ocean_data.U\n",
    "v = ocean_data.v+ocean_data.V\n",
    "b = ocean_data.b + ocean_data.B\n",
    "# B = ocean_data.B\n",
    "w = ocean_data.w"
   ]
  },
  {
   "cell_type": "code",
   "execution_count": null,
   "metadata": {},
   "outputs": [],
   "source": [
    "f = 2*(7.292115e-5)*np.sin(np.pi/4)\n",
    "v.time[19]*(f/(2*np.pi))"
   ]
  },
  {
   "cell_type": "code",
   "execution_count": null,
   "metadata": {},
   "outputs": [],
   "source": [
    "# ocean_data.E"
   ]
  },
  {
   "cell_type": "code",
   "execution_count": null,
   "metadata": {},
   "outputs": [],
   "source": [
    "# vmin and vmax control colorbar range\n",
    "# for i in range(len(ocean_data.time)):\n",
    "# show timw -20, -25, -30, -35\n",
    "q = -2\n",
    "v[q].plot()\n",
    "# xr.plot.contour(b[q,:,:,0],levels=20,cmap=\"gray\")\n",
    "# # plt.title(\"Small Pertubations w/0 Background\")\n",
    "# plt.show()"
   ]
  },
  {
   "cell_type": "code",
   "execution_count": null,
   "metadata": {},
   "outputs": [],
   "source": [
    "b[0,:,0,:].dims"
   ]
  },
  {
   "cell_type": "code",
   "execution_count": null,
   "metadata": {},
   "outputs": [],
   "source": [
    "# plt.contour(b[0])\n",
    "b[0,:,0,:].mean(dim='xC').plot()#.plot.contour()"
   ]
  },
  {
   "cell_type": "code",
   "execution_count": null,
   "metadata": {},
   "outputs": [],
   "source": [
    "import matplotlib.animation\n",
    "import matplotlib.pyplot as plt\n",
    "import numpy as np\n",
    "\n",
    "plt.rcParams[\"animation.html\"] = \"jshtml\"\n",
    "plt.rcParams['animation.embed_limit'] = 2**128\n",
    "# plt.rcParams['figure.dpi'] = 150  \n",
    "plt.ioff()\n",
    "fig, axs = plt.subplots()\n",
    "\n",
    "frms = len(ocean_data.u.time)\n",
    "def animate(t):\n",
    "    plt.clf()\n",
    "    ocean_data.u[t].plot(add_colorbar=True,vmin=-0.01,vmax=0.01,cmap='bwr') # vmin=-0.001,vmax=0.001\n",
    "    # plt.contour(b[t,:,0,:],cmap=\"Greys\")\n",
    "    b[t,:,0,:].plot.contour(cmap=\"ocean\",levels= 10)\n",
    "\n",
    "# matplotlib.animation.FuncAnimation(fig, animate, frames=frms)\n",
    "anim = matplotlib.animation.FuncAnimation(fig, animate, frames=frms)\n",
    "# writervideo = matplotlib.animation.FFMpegWriter(fps=60) \n",
    "anim.save('u_base_test_PSI.gif') \n",
    "plt.close()"
   ]
  },
  {
   "cell_type": "code",
   "execution_count": null,
   "metadata": {},
   "outputs": [],
   "source": [
    "import matplotlib.animation\n",
    "import matplotlib.pyplot as plt\n",
    "import numpy as np\n",
    "\n",
    "plt.rcParams[\"animation.html\"] = \"jshtml\"\n",
    "plt.rcParams['animation.embed_limit'] = 2**128\n",
    "# plt.rcParams['figure.dpi'] = 150  \n",
    "plt.ioff()\n",
    "fig, axs = plt.subplots()\n",
    "\n",
    "frms = len(v.time)\n",
    "def animate(t):\n",
    "    plt.clf()\n",
    "    ocean_data.v[t].plot(add_colorbar=True,vmin=-0.01,vmax=0.01,cmap='bwr') # vmin=-0.001,vmax=0.001\n",
    "    # plt.contour(b[t,:,0,:],cmap=\"Greys\")\n",
    "    b[t,:,0,:].plot.contour(cmap=\"ocean\",levels= 10)\n",
    "\n",
    "# matplotlib.animation.FuncAnimation(fig, animate, frames=frms)\n",
    "anim = matplotlib.animation.FuncAnimation(fig, animate, frames=frms)\n",
    "# writervideo = matplotlib.animation.FFMpegWriter(fps=60) \n",
    "anim.save('v_base_test_PSI.gif') \n",
    "plt.close()"
   ]
  },
  {
   "cell_type": "code",
   "execution_count": null,
   "metadata": {},
   "outputs": [],
   "source": [
    "import matplotlib.animation\n",
    "import matplotlib.pyplot as plt\n",
    "import numpy as np\n",
    "\n",
    "plt.rcParams[\"animation.html\"] = \"jshtml\"\n",
    "plt.rcParams['animation.embed_limit'] = 2**128\n",
    "# plt.rcParams['figure.dpi'] = 150  \n",
    "plt.ioff()\n",
    "fig, axs = plt.subplots()\n",
    "\n",
    "frms = len(v.time)\n",
    "def animate(t):\n",
    "    plt.clf()\n",
    "    ocean_data.PV[t].plot(add_colorbar=True,vmin=-1e-9,vmax=1e-9,cmap='bwr') # vmin=-0.001,vmax=0.001\n",
    "    # plt.contour(b[t,:,0,:],cmap=\"Greys\")\n",
    "    b[t,:,0,:].plot.contour(cmap=\"ocean\",levels= 10)\n",
    "\n",
    "# matplotlib.animation.FuncAnimation(fig, animate, frames=frms)\n",
    "anim = matplotlib.animation.FuncAnimation(fig, animate, frames=frms)\n",
    "# writervideo = matplotlib.animation.FFMpegWriter(fps=60) \n",
    "anim.save('PV_base_test_PSI_bwr.gif') \n",
    "plt.close()"
   ]
  },
  {
   "cell_type": "code",
   "execution_count": null,
   "metadata": {},
   "outputs": [],
   "source": [
    "import matplotlib.animation\n",
    "import matplotlib.pyplot as plt\n",
    "import numpy as np\n",
    "\n",
    "plt.rcParams[\"animation.html\"] = \"jshtml\"\n",
    "plt.rcParams['animation.embed_limit'] = 2**128\n",
    "# plt.rcParams['figure.dpi'] = 150  \n",
    "plt.ioff()\n",
    "fig, axs = plt.subplots()\n",
    "\n",
    "frms = len(v.time)\n",
    "def animate(t):\n",
    "    plt.clf()\n",
    "    ocean_data.KE[t].plot(add_colorbar=True,vmin=0,vmax=1e-7,cmap='bwr') # vmin=-0.001,vmax=0.001\n",
    "    # plt.contour(b[t,:,0,:],cmap=\"Greys\")\n",
    "    b[t,:,0,:].plot.contour(cmap=\"ocean\",levels= 10)\n",
    "\n",
    "matplotlib.animation.FuncAnimation(fig, animate, frames=frms)\n",
    "# anim = matplotlib.animation.FuncAnimation(fig, animate, frames=frms)\n",
    "# # writervideo = matplotlib.animation.FFMpegWriter(fps=60) \n",
    "# anim.save('u_base_test_case_downwelling_color_change.gif') \n",
    "# plt.close()"
   ]
  },
  {
   "cell_type": "code",
   "execution_count": null,
   "metadata": {},
   "outputs": [],
   "source": [
    "KE_spatial_average_time_series = ocean_data.KE.mean(dim=['xC','yC','zC'])\n",
    "KE_spatial_average_time_series"
   ]
  },
  {
   "cell_type": "markdown",
   "metadata": {},
   "source": []
  },
  {
   "cell_type": "code",
   "execution_count": null,
   "metadata": {},
   "outputs": [],
   "source": [
    "plt.plot(KE_spatial_average_time_series[19:].time*(1e-4)/(2*np.pi),KE_spatial_average_time_series[19:].values/KE_spatial_average_time_series.values[19])\n",
    "plt.ylabel('$k$/$k_5$')\n",
    "plt.xlabel('$tf$/$2\\pi$ $* 10^{9}$')\n",
    "plt.yscale('log')\n",
    "plt.show()"
   ]
  },
  {
   "cell_type": "code",
   "execution_count": null,
   "metadata": {},
   "outputs": [],
   "source": [
    "ocean_data.time[10]*10**(-4)/(2*np.pi)"
   ]
  },
  {
   "cell_type": "code",
   "execution_count": null,
   "metadata": {},
   "outputs": [],
   "source": [
    "plt.plot(ocean_data.time[10:]*(1e-4)/(2*np.pi),ocean_data.u[10:,20,0,250]/ocean_data.v[10,20,0,250])\n",
    "plt.ylabel(\"$u/u_1$\")\n",
    "plt.show()"
   ]
  },
  {
   "cell_type": "code",
   "execution_count": null,
   "metadata": {},
   "outputs": [],
   "source": [
    "plt.plot(ocean_data.time[10:]*(1e-4)/(2*np.pi),ocean_data.U[10:,20,0,250]/ocean_data.V[10,20,0,250])\n",
    "plt.ylabel(\"$U/U_1$\")\n",
    "plt.show()"
   ]
  },
  {
   "cell_type": "code",
   "execution_count": null,
   "metadata": {},
   "outputs": [],
   "source": [
    "plt.plot(ocean_data.time[10:]*(1e-4)/(2*np.pi),ocean_data.V[10:,20,0,250]/ocean_data.V[10,20,0,250])\n",
    "plt.ylabel(\"$V/V_1$\")\n",
    "plt.show()"
   ]
  },
  {
   "cell_type": "code",
   "execution_count": null,
   "metadata": {},
   "outputs": [],
   "source": [
    "time = ocean_data.time[10:]*1e-9\n",
    "plt.plot(time*(1e-4)/(2*np.pi),ocean_data.v[10:,20,0,250]/ocean_data.v[10,20,0,250])\n",
    "plt.ylabel(\"$v/v_1$\")\n",
    "plt.show()"
   ]
  },
  {
   "cell_type": "code",
   "execution_count": null,
   "metadata": {},
   "outputs": [],
   "source": [
    "plt.plot(ocean_data.u[10:,20,0,250],ocean_data.v[10:,20,0,250])\n",
    "plt.xlabel(\"u\")\n",
    "plt.ylabel(\"v\")\n",
    "plt.show()"
   ]
  },
  {
   "cell_type": "code",
   "execution_count": null,
   "metadata": {},
   "outputs": [],
   "source": [
    "KE_spatial_average_time_series.differentiate(\"time\",datetime_unit='timedelta64[ns]')"
   ]
  },
  {
   "cell_type": "code",
   "execution_count": null,
   "metadata": {},
   "outputs": [],
   "source": [
    "eps_spatial_average_time_series = ocean_data.ε.mean(dim=['xC','yC','zC'])"
   ]
  },
  {
   "cell_type": "code",
   "execution_count": null,
   "metadata": {},
   "outputs": [],
   "source": [
    "plt.plot(eps_spatial_average_time_series.time[50:100]*(1e-4)/(2*np.pi),eps_spatial_average_time_series.values[50:100])\n",
    "plt.show()"
   ]
  },
  {
   "cell_type": "code",
   "execution_count": null,
   "metadata": {},
   "outputs": [],
   "source": [
    "PV_spatial_average_time_series = ocean_data.PV.mean(dim=['xF','yF'])\n",
    "PV_spatial_average_time_series"
   ]
  },
  {
   "cell_type": "code",
   "execution_count": null,
   "metadata": {},
   "outputs": [],
   "source": [
    "v.zC"
   ]
  },
  {
   "cell_type": "code",
   "execution_count": null,
   "metadata": {},
   "outputs": [],
   "source": [
    "plt.plot(u.isel(xF=500,yC=0,zC=25),v.isel(xC=500,yF=0,zC=25))\n",
    "plt.gca().set_aspect('equal')"
   ]
  },
  {
   "cell_type": "code",
   "execution_count": null,
   "metadata": {},
   "outputs": [],
   "source": [
    "Vi = 0.1\n",
    "N2 = 1E-5\n",
    "theta = 1E-2\n",
    "f = 1E-4\n",
    "s2 = N2*theta**2/f**2\n",
    "gamma = (1+s2)**(-1) \n",
    "h = (f*Vi)/(gamma*N2*theta)\n",
    "dVdz = gamma*N2*theta/f\n",
    "u_z_average = u.mean(dim=['zC'])\n",
    "v_z_average = (v+dVdz*(h-v.zC)*np.heaviside(-v.zC+110,1)-Vi).mean(dim=['zC'])\n",
    "w_z_average = w.mean(dim=['zF'])\n",
    "# .isel(zC=np.arange(0,55))\n",
    "u_diff = (u-u_z_average).mean(dim=['xF','yC','zC'])\n",
    "v_diff = (v-v_z_average+dVdz*(h-v.zC)*np.heaviside(-v.zC+110,1)-Vi).mean(dim=['xC','yF','zC'])\n",
    "w_diff = (w-w_z_average).mean(dim=['xC','yC','zF'])"
   ]
  },
  {
   "cell_type": "code",
   "execution_count": null,
   "metadata": {},
   "outputs": [],
   "source": [
    "K = 1/2 *(u_diff**2+v_diff**2+w_diff**2)"
   ]
  },
  {
   "cell_type": "code",
   "execution_count": null,
   "metadata": {},
   "outputs": [],
   "source": [
    "plt.plot(K.time*(1e-4)/(2*np.pi),K.values/K.values[0],color=\"k\")\n",
    "# plt.plot(KE_spatial_average_time_series.time*(1e-4)/(2*np.pi),KE_spatial_average_time_series.values/K.values[0])\n",
    "plt.show()"
   ]
  },
  {
   "cell_type": "code",
   "execution_count": null,
   "metadata": {},
   "outputs": [],
   "source": [
    "import matplotlib.animation\n",
    "import matplotlib.pyplot as plt\n",
    "import numpy as np\n",
    "\n",
    "plt.rcParams[\"animation.html\"] = \"jshtml\"\n",
    "# plt.rcParams['figure.dpi'] = 150  \n",
    "plt.ioff()\n",
    "fig, axs = plt.subplots()\n",
    "\n",
    "frms = len(v.time)\n",
    "def animate(t):\n",
    "    plt.clf()\n",
    "    PV_spatial_average_time_series[t].plot()\n",
    "    plt.ylim([0,1e-9])\n",
    "    # plt.contour(b[t,:,0,:],cmap=\"Greys\")\n",
    "    # b[t,:,0,:].plot.contour(cmap=\"Greys\",levels= 10)\n",
    "\n",
    "# anim = matplotlib.animation.FuncAnimation(fig, animate, frames=frms)\n",
    "# # writervideo = matplotlib.animation.FFMpegWriter(fps=60) \n",
    "# anim.save('spatially_averaged_PV_standard_case_zoomed_in.gif') \n",
    "# plt.close()\n",
    "matplotlib.animation.FuncAnimation(fig, animate, frames=frms)"
   ]
  },
  {
   "cell_type": "code",
   "execution_count": null,
   "metadata": {},
   "outputs": [],
   "source": []
  },
  {
   "cell_type": "code",
   "execution_count": null,
   "metadata": {},
   "outputs": [],
   "source": [
    "import matplotlib.animation\n",
    "import matplotlib.pyplot as plt\n",
    "import numpy as np\n",
    "\n",
    "plt.rcParams[\"animation.html\"] = \"jshtml\"\n",
    "# plt.rcParams['figure.dpi'] = 150  \n",
    "plt.ioff()\n",
    "fig, axs = plt.subplots()\n",
    "\n",
    "frms = len(v.time)\n",
    "def animate(t):\n",
    "    plt.clf()\n",
    "    u[t].plot(add_colorbar=True,vmin=-0.001,vmax=0.001)\n",
    "    # plt.contour(b[t,:,0,:],cmap=\"Greys\")\n",
    "    b[t,:,0,:].plot.contour(cmap=\"Greys\",levels= 10)\n",
    "\n",
    "# matplotlib.animation.FuncAnimation(fig, animate, frames=frms)\n",
    "anim = matplotlib.animation.FuncAnimation(fig, animate, frames=frms)\n",
    "# writervideo = matplotlib.animation.FFMpegWriter(fps=60) \n",
    "anim.save('base_test_case_downwelling_color_change.gif') \n",
    "plt.close()"
   ]
  },
  {
   "cell_type": "code",
   "execution_count": null,
   "metadata": {},
   "outputs": [],
   "source": [
    "import matplotlib.animation\n",
    "import matplotlib.pyplot as plt\n",
    "import numpy as np\n",
    "\n",
    "plt.rcParams[\"animation.html\"] = \"jshtml\"\n",
    "# plt.rcParams['figure.dpi'] = 150  \n",
    "plt.ioff()\n",
    "fig, axs = plt.subplots()\n",
    "\n",
    "frms = len(v.time)\n",
    "def animate(t):\n",
    "    plt.clf()\n",
    "    u[t].mean('xF').plot()\n",
    "    plt.ylim([-0.01,0.01])\n",
    "    # plt.contour(b[t,:,0,:],cmap=\"Greys\")\n",
    "    # b[t,:,0,:].plot.contour(cmap=\"Greys\",levels= 10)\n",
    "\n",
    "# anim = matplotlib.animation.FuncAnimation(fig, animate, frames=frms)\n",
    "# # writervideo = matplotlib.animation.FFMpegWriter(fps=60) \n",
    "# anim.save('jump_p_u.gif') \n",
    "# plt.close()\n",
    "matplotlib.animation.FuncAnimation(fig, animate, frames=frms)"
   ]
  },
  {
   "cell_type": "code",
   "execution_count": null,
   "metadata": {},
   "outputs": [],
   "source": [
    "import matplotlib.animation\n",
    "import matplotlib.pyplot as plt\n",
    "import numpy as np\n",
    "\n",
    "plt.rcParams[\"animation.html\"] = \"jshtml\"\n",
    "# plt.rcParams['figure.dpi'] = 150  \n",
    "plt.ioff()\n",
    "fig, axs = plt.subplots()\n",
    "\n",
    "frms = len(v.time)\n",
    "def animate(t):\n",
    "    plt.clf()\n",
    "    v[t].mean('xC').plot()\n",
    "    plt.ylim([-0.01,0.01])\n",
    "    # plt.contour(b[t,:,0,:],cmap=\"Greys\")\n",
    "    # b[t,:,0,:].plot.contour(cmap=\"Greys\",levels= 10)\n",
    "\n",
    "# anim = matplotlib.animation.FuncAnimation(fig, animate, frames=frms)\n",
    "# # writervideo = matplotlib.animation.FFMpegWriter(fps=60) \n",
    "# anim.save('jump_p_v.gif') \n",
    "# plt.close()\n",
    "matplotlib.animation.FuncAnimation(fig, animate, frames=frms)"
   ]
  },
  {
   "cell_type": "code",
   "execution_count": null,
   "metadata": {},
   "outputs": [],
   "source": [
    "import matplotlib.animation\n",
    "import matplotlib.pyplot as plt\n",
    "import numpy as np\n",
    "\n",
    "plt.rcParams[\"animation.html\"] = \"jshtml\"\n",
    "# plt.rcParams['figure.dpi'] = 150  \n",
    "plt.ioff()\n",
    "fig, axs = plt.subplots()\n",
    "\n",
    "frms = len(v.time)\n",
    "def animate(t):\n",
    "    plt.clf()\n",
    "    b[t].mean('xC').plot()\n",
    "    plt.ylim([-0.0001,0.0001])\n",
    "    # plt.contour(b[t,:,0,:],cmap=\"Greys\")\n",
    "    # b[t,:,0,:].plot.contour(cmap=\"Greys\",levels= 10)\n",
    "\n",
    "# anim = matplotlib.animation.FuncAnimation(fig, animate, frames=frms)\n",
    "# # writervideo = matplotlib.animation.FFMpegWriter(fps=60) \n",
    "# anim.save('jump_p_b.gif') \n",
    "# plt.close()\n",
    "matplotlib.animation.FuncAnimation(fig, animate, frames=frms)"
   ]
  },
  {
   "cell_type": "code",
   "execution_count": null,
   "metadata": {},
   "outputs": [],
   "source": [
    "import matplotlib.animation\n",
    "import matplotlib.pyplot as plt\n",
    "import numpy as np\n",
    "# plt.rcParams[\"animation.html\"] = \"jshtml\"\n",
    "# plt.rcParams['figure.dpi'] = 150  \n",
    "plt.ioff()\n",
    "fig, ax = plt.subplots()\n",
    "\n",
    "frms = len(v.time)\n",
    "def animate(t):\n",
    "    plt.clf()\n",
    "    v[t].plot(add_colorbar=True,vmin=-0.0001,vmax=0.0001)\n",
    "    # plt.contour(b[t,:,0,:],cmap=\"Greys\")\n",
    "    b[t,:,0,:].plot.contour(cmap=\"Greys\",levels= 20)\n",
    "\n",
    "anim = matplotlib.animation.FuncAnimation(fig, animate, frames=frms)\n",
    "# writervideo = matplotlib.animation.FFMpegWriter(fps=60) \n",
    "anim.save('base_test_case_downwelling.gif') \n",
    "plt.close()"
   ]
  },
  {
   "cell_type": "code",
   "execution_count": null,
   "metadata": {},
   "outputs": [],
   "source": [
    "import matplotlib.animation\n",
    "import matplotlib.pyplot as plt\n",
    "import numpy as np\n",
    "plt.rcParams[\"animation.html\"] = \"jshtml\"\n",
    "# plt.rcParams['figure.dpi'] = 150  \n",
    "plt.ioff()\n",
    "fig, ax = plt.subplots()\n",
    "\n",
    "frms = len(v.time)\n",
    "def animate(t):\n",
    "    plt.clf()\n",
    "    cf = v[t].plot(add_colorbar=True)\n",
    "\n",
    "matplotlib.animation.FuncAnimation(fig, animate, frames=frms)"
   ]
  },
  {
   "cell_type": "markdown",
   "metadata": {},
   "source": [
    "b[1].plot()"
   ]
  },
  {
   "cell_type": "code",
   "execution_count": null,
   "metadata": {},
   "outputs": [],
   "source": []
  }
 ],
 "metadata": {
  "kernelspec": {
   "display_name": "Python 3",
   "language": "python",
   "name": "python3"
  },
  "language_info": {
   "codemirror_mode": {
    "name": "ipython",
    "version": 3
   },
   "file_extension": ".py",
   "mimetype": "text/x-python",
   "name": "python",
   "nbconvert_exporter": "python",
   "pygments_lexer": "ipython3",
   "version": "3.9.13"
  },
  "orig_nbformat": 4
 },
 "nbformat": 4,
 "nbformat_minor": 2
}
