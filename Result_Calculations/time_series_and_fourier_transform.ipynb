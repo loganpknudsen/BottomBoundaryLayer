{
 "cells": [
  {
   "cell_type": "code",
   "execution_count": null,
   "id": "e346ab14-f263-4a89-982f-c50edeeffe11",
   "metadata": {},
   "outputs": [],
   "source": [
    "# Load in Python Library\n",
    "import xarray as xr\n",
    "import numpy as np\n",
    "import matplotlib.pyplot as plt\n",
    "import pandas as pd\n",
    "import scipy as sc\n",
    "import xrft as xf\n",
    "import matplotlib.colors as colors"
   ]
  },
  {
   "cell_type": "code",
   "execution_count": null,
   "id": "12de1d1e-1256-456e-b494-4b22b832aba7",
   "metadata": {},
   "outputs": [],
   "source": [
    "# Here are the parameters for the specific case this calculation is done for\n",
    "theta = 1.8113*np.pi/180  # slope angle\n",
    "N2 = 10**(-5)  # stratification\n",
    "delta = 0.5  # wave magnitude\n",
    "Vinf = 0.1  # interior velocity\n",
    "f = 1e-4  # coriolis frequency\n",
    "S2 = N2*np.tan(theta)**2/f**2  # squared Burger number\n",
    "gamma = 0.5002284142579378  # stratification parameter\n",
    "h = (f*Vinf)/(N2*gamma*np.tan(theta))  # boundary layer height\n",
    "lmbd = (N2*gamma*np.tan(theta))/f  # geostrophic shear\n",
    "fstar = np.cos(theta)*(f**2+N2*np.tan(theta)**2)**(0.5)  # modified inertial frequency\n",
    "beta = np.cos(theta)*(1+S2)**(0.5)  # beta (portion of modified inertial frequency that modifies it)"
   ]
  },
  {
   "cell_type": "code",
   "execution_count": null,
   "id": "92869405-0ee4-48e6-9fe2-a64cae9088aa",
   "metadata": {},
   "outputs": [],
   "source": [
    "# Access the output file\n",
    "file = \"flow_fields_height_63.21485960107034_interior_velocity_0.1_visc_1.0e-5_Sinf_1.0000287024749517_gamma_0.5002284142579378_theta_1.8113_f_0.0001_N2_1.0e-5.nc\"\n",
    "ocean_data=xr.open_dataset(\"/glade/derecho/scratch/knudsenl/data/new_data/vinffixed/\"+file)#.isel(time=slice(0,4000)) #i=103\n",
    "seconds = ocean_data.time/pd.Timedelta(\"1s\")\n",
    "ocean_data = ocean_data.assign_coords(time = ('time',seconds.data))"
   ]
  },
  {
   "cell_type": "code",
   "execution_count": null,
   "id": "11e4961b-9b99-4511-9423-fc5679f57d41",
   "metadata": {},
   "outputs": [],
   "source": [
    "def z_change(t, z, x):  # advection by isopycnals\n",
    "    z_osc = f*np.cos(theta)*delta*lmbd/(fstar**2)*(np.cos(fstar*t)-1)*(h-z)\n",
    "    return z_osc"
   ]
  },
  {
   "cell_type": "code",
   "execution_count": null,
   "id": "72d879ab-9eac-4487-8723-221b51d9f621",
   "metadata": {},
   "outputs": [],
   "source": [
    "# Caclulate the modified inertial period\n",
    "inertial_period = ocean_data.time*fstar/(2*np.pi)\n",
    "ocean_data_ip = ocean_data.assign_coords(intp = ('time',inertial_period.data))"
   ]
  },
  {
   "cell_type": "code",
   "execution_count": null,
   "id": "517f5e93-e5d2-4bb4-9f5b-106f3f48d0a7",
   "metadata": {},
   "outputs": [],
   "source": [
    "# Calculate the Quasi-Lagrangian v-velocity\n",
    "ti = 200\n",
    "tf = 800\n",
    "zi = 40\n",
    "xi = 512\n",
    "v_lagrange = ocean_data.v.sel(xC=ocean_data.xC[xi]-z_change(ocean_data.time[ti:tf], \n",
    "                                                            ocean_data.zC[zi],ocean_data.xC[xi]), \n",
    "                              zC=ocean_data.zC[zi], time=ocean_data.time[ti:tf], method=\"nearest\")\n",
    "# Drops the dimensions so that time series can be plotted\n",
    "v_lagrange = v_lagrange.drop_vars(['xC','yF','zC'])"
   ]
  },
  {
   "cell_type": "code",
   "execution_count": null,
   "id": "5d579611-ebb0-4cee-9b98-a86fc82b61aa",
   "metadata": {},
   "outputs": [],
   "source": [
    "# Calculate the Quasi-Lagrangian v-velocity\n",
    "ti = 200\n",
    "tf = 800\n",
    "zi = 40\n",
    "xi = 256\n",
    "u_lagrange = ocean_data.u.sel(xF=ocean_data.xF[xi]-z_change(ocean_data.time[ti:tf], \n",
    "                                                            ocean_data.zC[zi], ocean_data.xF[xi]), \n",
    "                              zC=ocean_data.zC[zi], time=ocean_data.time[ti:tf], method=\"nearest\")\n",
    "# Drops the dimensions so that time series can be plotted\n",
    "u_lagrange = u_lagrange.drop_vars(['xF','yC','zC'])"
   ]
  },
  {
   "cell_type": "code",
   "execution_count": null,
   "id": "90d84349-2a8b-4825-891c-3052664bc1ef",
   "metadata": {},
   "outputs": [],
   "source": [
    "# Plot Quasi-Lagrangian u,v-velocities\n",
    "plt.plot(u_lagrange.time*(fstar)/(2*np.pi),u_lagrange.values/u_lagrange.values[0],color = \"r\",label=f\"$u/u_2$ at z={ocean_data_ip.zC[zi].values}\")\n",
    "plt.plot(v_lagrange.time*(fstar)/(2*np.pi),v_lagrange.values/u_lagrange.values[0],color = \"k\",alpha=0.8,label=f\"$v/u_2$ at z={ocean_data_ip.zC[zi].values}\")\n",
    "plt.xlabel(\"Interial Period $(tf^*(2\\pi)^{-1})$\")\n",
    "plt.yscale(\"symlog\",linthresh=1)\n",
    "plt.legend(loc=\"lower left\")\n",
    "# plt.savefig(\"S1_gamma_l_delta_0_5_quasi_lagrangian_time_series.pdf\")\n",
    "plt.show()"
   ]
  },
  {
   "cell_type": "code",
   "execution_count": null,
   "id": "e5f0c271-046d-4528-a995-5d5e1b2c90ff",
   "metadata": {},
   "outputs": [],
   "source": [
    "# Plot background velocities\n",
    "ti = 200\n",
    "tf = 281\n",
    "zi = 20\n",
    "xi = 256\n",
    "plt.plot(ocean_data.time[ti:tf]*(fstar)/(2*np.pi),ocean_data.ub.sel(xF=ocean_data.xC[xi],zC=ocean_data.zC[zi],time=ocean_data.time[ti:tf],method=\"nearest\").values/ocean_data.vb.sel(xC=ocean_data.xC[xi],zC=ocean_data.zC[zi],time=ocean_data.time[ti],method=\"nearest\").values,color = \"r\",label=\"$U/V_{10}$ at z=\"+str(ocean_data_ip.zC[zi].values))\n",
    "plt.plot(ocean_data.time[ti:tf]*(fstar)/(2*np.pi),ocean_data.vb.sel(xC=ocean_data.xC[xi],zC=ocean_data.zC[zi],time=ocean_data.time[ti:tf],method=\"nearest\").values/ocean_data.vb.sel(xC=ocean_data.xC[xi],zC=ocean_data.zC[zi],time=ocean_data.time[ti],method=\"nearest\").values,color = \"k\",alpha=0.8,label=\"$V/V_{10}$ at z=\"+str(ocean_data_ip.zC[zi].values))\n",
    "plt.xlim([10,14])\n",
    "plt.xlabel(\"Interial Period $(tf^*(2\\pi)^{-1})$\")\n",
    "# plt.yscale(\"symlog\",linthresh=1)\n",
    "plt.legend(loc=\"lower left\",prop={'size':9})\n",
    "# plt.gca().set_aspect(1.1)\n",
    "# plt.figure(figsize=(12,8))\n",
    "plt.text(9.4,1,\"(c.)\", ha=\"left\",va=\"top\")\n",
    "plt.savefig(\"background_time_series_10_14.png\")\n",
    "# plt.xticks([5,7,9,11,13,15])\n",
    "plt.show()"
   ]
  },
  {
   "cell_type": "code",
   "execution_count": null,
   "id": "3f181a11-d0aa-4cf5-b81e-da0e18ea5ddd",
   "metadata": {},
   "outputs": [],
   "source": [
    "# Plot the total power spectrum\n",
    "transform_lagrange = xf.power_spectrum(u_lagrange,dim=\"time\")\n",
    "transform_lagrange.plot()\n",
    "plt.xscale(\"symlog\",linthresh=1e-10)"
   ]
  },
  {
   "cell_type": "code",
   "execution_count": null,
   "id": "41c527c6-fd82-41c9-b8f4-a7547b945f01",
   "metadata": {},
   "outputs": [],
   "source": [
    "# Plot power spectrum w/ quasi-lagrangian times series\n",
    "fig, ax_dict = plt.subplot_mosaic([['(a.)','(b.)']],layout=\"constrained\",figsize=(9,4))\n",
    "ax = ax_dict['(b.)']\n",
    "ax.plot(u_lagrange.time[:201]*(fstar)/(2*np.pi),u_lagrange.values[:201]/u_lagrange.values[0],color = \"r\",label=\"$u/u_{10}$ at z=16.02 m\")\n",
    "ax.plot(v_lagrange.time[:201]*(fstar)/(2*np.pi),v_lagrange.values[:201]/u_lagrange.values[0],color = \"k\",alpha=0.8,label=\"$v/u_{10}$ at z=16.02 m\")\n",
    "# plt.xlim([4.8,15.2])\n",
    "ax.set_xlabel(\"Modified Inertial Period\")\n",
    "ax.set_xlim([10,20])\n",
    "ax.set_yscale(\"symlog\",linthresh=1)\n",
    "ax.legend(loc=\"lower left\")\n",
    "ax.set_box_aspect(0.75)\n",
    "ax.set_title(\"(b.)\", fontfamily='serif', loc='left', fontsize='medium')\n",
    "ax = ax_dict['(a.)']\n",
    "ax.plot(transform_lagrange.freq_time[:]*2*np.pi,transform_lagrange[:],color=\"k\")\n",
    "ax.vlines(0.5*fstar,ymin=0,ymax=np.max(transform_lagrange)*1.05,color=\"b\",alpha=0.5,linestyles=\"dotted\",label=\"$f^*/2$\")\n",
    "ax.vlines(fstar,ymin=0,ymax=np.max(transform_lagrange)*1.05,color=\"k\",alpha=0.5,linestyles=\"dotted\",label=\"$f^*$\")\n",
    "ax.set_xlim([1e-05,transform_lagrange.freq_time[:].max()*2*np.pi])\n",
    "ax.set_ylim([0,np.max(transform_lagrange)*1.05])\n",
    "ax.set_box_aspect(0.9)\n",
    "ax.set_title(\"(a.)\", fontfamily='serif', loc='left', fontsize='medium')\n",
    "ax.legend()\n",
    "ax.set_xlabel(\"Frequency [s$^{-1}$]\")\n",
    "ax.set_xscale(\"log\")\n",
    "ax.set_ylabel(\"Power Spectrum Density [m$^3$ s$^{-2}$]\")\n",
    "# plt.savefig(\"S_1_gamma_l_delta_0_5_power_spectral_density_times_series.pdf\")\n",
    "plt.show()"
   ]
  },
  {
   "cell_type": "code",
   "execution_count": null,
   "id": "332b96c8-72f4-4184-add3-a709b994377f",
   "metadata": {},
   "outputs": [],
   "source": [
    "# Plot Power Spectrum Solely\n",
    "plt.plot(transform_lagrange.freq_time[:]*2*np.pi,transform_lagrange[:],color=\"k\")\n",
    "plt.vlines(0.5*fstar,ymin=0,ymax=np.max(np.abs(transform_lagrange))*1.1,color=\"b\",alpha=0.5,linestyles=\"dotted\",label=\"$f^*/2$\")\n",
    "plt.vlines(fstar,ymin=0,ymax=np.max(np.abs(transform_lagrange))*1.1,color=\"k\",alpha=0.5,linestyles=\"dotted\",label=\"$f^*$\")\n",
    "plt.xlim([1.1218508e-05,0.001])\n",
    "# plt.ylim([0.1,30])\n",
    "plt.legend()\n",
    "plt.xlabel(\"Frequency [s$^{-1}$]\")\n",
    "plt.xscale(\"log\")\n",
    "# plt.yscale(\"log\")\n",
    "plt.ylabel(\"Power Spectrum Density [m$^3$ s$^{-2}$]\")\n",
    "# plt.text(-0.0001,0.23,\"(b.)\", ha=\"left\",va=\"top\")\n",
    "# plt.title(\"Quasi-Lagrangian Fourier Transform of u-velocity\")\n",
    "# plt.savefig(\"QL_fourier_transform.png\")\n",
    "plt.show()"
   ]
  },
  {
   "cell_type": "code",
   "execution_count": null,
   "id": "9ecdb03d-0b19-4031-a213-c570b0aade7f",
   "metadata": {},
   "outputs": [],
   "source": [
    "# None Quasi-Lagrangian velocities\n",
    "ti = -200\n",
    "tf = -1\n",
    "plt.plot(ocean_data_ip.intp.isel(time=slice(ti, tf)), ocean_data_ip.u.isel(zC=64, yC=0, xF=128, time=slice(ti, tf))/ocean_data_ip.v.isel(zC=64, yF=0, xC=128, time=ti),color = \"r\",label=f\"$u/v_5$ at z={ocean_data_ip.zC[64].values}\")\n",
    "plt.plot(ocean_data_ip.intp.isel(time=slice(ti, tf)), ocean_data_ip.v.isel(zC=64, yF=0, xC=128, time=slice(ti, tf))/ocean_data_ip.v.isel(zC=64, yF=0, xC=128, time=ti),color = \"k\",label=f\"$v/v_5$ at z={ocean_data_ip.zC[64].values}\")\n",
    "# plt.xlim([4.8,15.2])\n",
    "plt.xlabel(\"Interial Period $(tf^*(2\\pi)^{-1})$\")\n",
    "plt.legend()\n",
    "# plt.xticks([5,7,9,11,13,15])\n",
    "plt.show()"
   ]
  },
  {
   "cell_type": "code",
   "execution_count": null,
   "id": "aafaf267-bf70-44f1-8617-e31b80ec07d6",
   "metadata": {},
   "outputs": [],
   "source": []
  }
 ],
 "metadata": {
  "kernelspec": {
   "display_name": "Python 3 (ipykernel)",
   "language": "python",
   "name": "python3"
  },
  "language_info": {
   "codemirror_mode": {
    "name": "ipython",
    "version": 3
   },
   "file_extension": ".py",
   "mimetype": "text/x-python",
   "name": "python",
   "nbconvert_exporter": "python",
   "pygments_lexer": "ipython3",
   "version": "3.10.13"
  }
 },
 "nbformat": 4,
 "nbformat_minor": 5
}
