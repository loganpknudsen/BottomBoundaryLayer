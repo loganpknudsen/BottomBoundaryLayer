{
 "cells": [
  {
   "cell_type": "code",
   "execution_count": null,
   "id": "1f4cace5-8349-406e-903d-51aabed599de",
   "metadata": {},
   "outputs": [],
   "source": [
    "import xarray as xr\n",
    "import numpy as np\n",
    "import matplotlib.pyplot as plt\n",
    "import pandas as pd\n",
    "import scipy as sc"
   ]
  },
  {
   "cell_type": "code",
   "execution_count": null,
   "id": "bac5f851-c9dd-4745-b2a1-aec104e1fa0b",
   "metadata": {},
   "outputs": [],
   "source": [
    "file = \"/vinffixed/TKE_terms_height_47.41001066043573_interior_velocity_0.1_visc_1.0e-5_Sinf_1.0000287024749517_gamma_0.6669871728624278_theta_1.8113_f_0.0001_N2_1.0e-5.nc\"\n",
    "# file = \"TKE_terms_height_89.38331984271203_interior_velocity_0.2_visc_1.0e-5_Sinf_1.3806802438147472_gamma_0.5124841097586215_theta_2.5_f_0.0001_N2_1.0e-5.nc\"\n",
    "\n",
    "ocean_data2=xr.open_dataset(\"/glade/derecho/scratch/knudsenl/data/new_data/\"+file)"
   ]
  },
  {
   "cell_type": "code",
   "execution_count": null,
   "id": "fc05adb1-051f-49bd-8ab3-32b879ce8256",
   "metadata": {},
   "outputs": [],
   "source": [
    "file = \"/vinffixed/TKE_terms_height_71.1393201122899_interior_velocity_0.1_visc_1.0e-5_Sinf_0.5000274178256063_gamma_0.8889891719883259_theta_0.9059_f_0.0001_N2_1.0e-5.nc\"\n",
    "# file = \"TKE_terms_height_89.38331984271203_interior_velocity_0.2_visc_1.0e-5_Sinf_1.3806802438147472_gamma_0.5124841097586215_theta_2.5_f_0.0001_N2_1.0e-5.nc\"\n",
    "\n",
    "ocean_data1=xr.open_dataset(\"/glade/derecho/scratch/knudsenl/data/new_data/\"+file)"
   ]
  },
  {
   "cell_type": "code",
   "execution_count": null,
   "id": "09524ba8-da14-41d3-9f17-03afa05f7dd8",
   "metadata": {},
   "outputs": [],
   "source": [
    "file = \"/vinffixed/TKE_terms_height_44.7488608084817_interior_velocity_0.1_visc_1.0e-5_Sinf_1.5001427892662003_gamma_0.47106996773982085_theta_2.716_f_0.0001_N2_1.0e-5.nc\"\n",
    "# file = \"TKE_terms_height_89.38331984271203_interior_velocity_0.2_visc_1.0e-5_Sinf_1.3806802438147472_gamma_0.5124841097586215_theta_2.5_f_0.0001_N2_1.0e-5.nc\"\n",
    "\n",
    "ocean_data3=xr.open_dataset(\"/glade/derecho/scratch/knudsenl/data/new_data/\"+file)"
   ]
  },
  {
   "cell_type": "code",
   "execution_count": null,
   "id": "f17fea0c-623c-4dcc-ad87-4f61fca05e52",
   "metadata": {},
   "outputs": [],
   "source": [
    "fstar = 1e-4*np.cos(0.9059*np.pi/180)*(1+1e-5*np.tan(0.9059*np.pi/180)**2*1e8)**(0.5)\n",
    "GSP_spatial_average_time_series = ocean_data1.GSP #.mean(dim=['xC','yC','zC']) # sel(zC=np.arange(0,h+dh,dh),method=\"nearest\").\n",
    "inertial_period = GSP_spatial_average_time_series.time/pd.Timedelta(\"1s\")*(fstar)/(2*np.pi)\n",
    "GSP_1 = GSP_spatial_average_time_series.assign_coords(intp = ('time',inertial_period.data))\n",
    "GSP_1 = GSP_1.cumulative_integrate(\"time\")"
   ]
  },
  {
   "cell_type": "code",
   "execution_count": null,
   "id": "31396684-6aa7-4161-9c34-4738d3612121",
   "metadata": {},
   "outputs": [],
   "source": [
    "fstar = 1e-4*np.cos(0.9059*np.pi/180)*(1+1e-5*np.tan(0.9059*np.pi/180)**2*1e8)**(0.5)\n",
    "BFLUX_spatial_average_time_series = ocean_data1.BFLUX #.mean(dim=['xC','yC','zC']) # sel(zC=np.arange(0,h+dh,dh),method=\"nearest\").\n",
    "inertial_period = BFLUX_spatial_average_time_series.time/pd.Timedelta(\"1s\")*(fstar)/(2*np.pi)\n",
    "BFLUX_1 = BFLUX_spatial_average_time_series.assign_coords(intp = ('time',inertial_period.data))\n",
    "BFLUX_1 = BFLUX_1.cumulative_integrate(\"time\")"
   ]
  },
  {
   "cell_type": "code",
   "execution_count": null,
   "id": "58071995-5445-49ae-bedb-a37b10aef69d",
   "metadata": {},
   "outputs": [],
   "source": [
    "fstar = 1e-4*np.cos(0.9059*np.pi/180)*(1+1e-5*np.tan(0.9059*np.pi/180)**2*1e8)**(0.5)\n",
    "k_spatial_average_time_series = ocean_data1.k #.mean(dim=['xC','yC','zC']) # sel(zC=np.arange(0,h+dh,dh),method=\"nearest\").\n",
    "inertial_period = k_spatial_average_time_series.time/pd.Timedelta(\"1s\")*(fstar)/(2*np.pi)\n",
    "TKE_1 = k_spatial_average_time_series.assign_coords(intp = ('time',inertial_period.data))"
   ]
  },
  {
   "cell_type": "code",
   "execution_count": null,
   "id": "4331b8aa-0284-4c35-8d53-8887fab2fc10",
   "metadata": {},
   "outputs": [],
   "source": [
    "fstar = 1e-4*np.cos(1.8112*np.pi/180)*(1+1e-5*np.tan(1.8112*np.pi/180)**2*1e8)**(0.5)\n",
    "GSP_spatial_average_time_series = ocean_data2.GSP #.mean(dim=['xC','yC','zC']) # sel(zC=np.arange(0,h+dh,dh),method=\"nearest\").\n",
    "inertial_period = GSP_spatial_average_time_series.time/pd.Timedelta(\"1s\")*(fstar)/(2*np.pi)\n",
    "GSP_2 = GSP_spatial_average_time_series.assign_coords(intp = ('time',inertial_period.data))\n",
    "GSP_2 = GSP_2.cumulative_integrate(\"time\")"
   ]
  },
  {
   "cell_type": "code",
   "execution_count": null,
   "id": "5bdd651f-ab9f-402f-9e06-50223d9f6b6b",
   "metadata": {},
   "outputs": [],
   "source": [
    "fstar = 1e-4*np.cos(1.8112*np.pi/180)*(1+1e-5*np.tan(1.8112*np.pi/180)**2*1e8)**(0.5)\n",
    "BFLUX_spatial_average_time_series = ocean_data2.BFLUX #.mean(dim=['xC','yC','zC']) # sel(zC=np.arange(0,h+dh,dh),method=\"nearest\").\n",
    "inertial_period = BFLUX_spatial_average_time_series.time/pd.Timedelta(\"1s\")*(fstar)/(2*np.pi)\n",
    "BFLUX_2 = BFLUX_spatial_average_time_series.assign_coords(intp = ('time',inertial_period.data))\n",
    "BFLUX_2 = BFLUX_2.cumulative_integrate(\"time\")"
   ]
  },
  {
   "cell_type": "code",
   "execution_count": null,
   "id": "f32960f0-3a8d-49ca-9924-6cfbbfb112b1",
   "metadata": {},
   "outputs": [],
   "source": [
    "fstar = 1e-4*np.cos(1.8112*np.pi/180)*(1+1e-5*np.tan(1.8112*np.pi/180)**2*1e8)**(0.5)\n",
    "k_spatial_average_time_series = ocean_data2.k #.mean(dim=['xC','yC','zC']) # sel(zC=np.arange(0,h+dh,dh),method=\"nearest\").\n",
    "inertial_period = k_spatial_average_time_series.time/pd.Timedelta(\"1s\")*(fstar)/(2*np.pi)\n",
    "TKE_2 = k_spatial_average_time_series.assign_coords(intp = ('time',inertial_period.data))"
   ]
  },
  {
   "cell_type": "code",
   "execution_count": null,
   "id": "fbb2408b-8e0b-4d3c-8cc5-5d8175aa1a11",
   "metadata": {},
   "outputs": [],
   "source": [
    "fstar = 1e-4*np.cos(2.716*np.pi/180)*(1+1e-5*np.tan(2.716*np.pi/180)**2*1e8)**(0.5)\n",
    "GSP_spatial_average_time_series = ocean_data3.GSP #.mean(dim=['xC','yC','zC']) # sel(zC=np.arange(0,h+dh,dh),method=\"nearest\").\n",
    "inertial_period = GSP_spatial_average_time_series.time/pd.Timedelta(\"1s\")*(fstar)/(2*np.pi)\n",
    "GSP_3 = GSP_spatial_average_time_series.assign_coords(intp = ('time',inertial_period.data))\n",
    "GSP_3 = GSP_3.cumulative_integrate(\"time\")"
   ]
  },
  {
   "cell_type": "code",
   "execution_count": null,
   "id": "630c337d-7bbc-4a3a-8cf2-2b8a0900867d",
   "metadata": {},
   "outputs": [],
   "source": [
    "fstar = 1e-4*np.cos(2.716*np.pi/180)*(1+1e-5*np.tan(2.716*np.pi/180)**2*1e8)**(0.5)\n",
    "BFLUX_spatial_average_time_series = ocean_data3.BFLUX #.mean(dim=['xC','yC','zC']) # sel(zC=np.arange(0,h+dh,dh),method=\"nearest\").\n",
    "inertial_period = BFLUX_spatial_average_time_series.time/pd.Timedelta(\"1s\")*(fstar)/(2*np.pi)\n",
    "BFLUX_3 = BFLUX_spatial_average_time_series.assign_coords(intp = ('time',inertial_period.data))\n",
    "BFLUX_3 = BFLUX_3.cumulative_integrate(\"time\")"
   ]
  },
  {
   "cell_type": "code",
   "execution_count": null,
   "id": "541bb087-8cc0-4958-a995-9c617ae72b03",
   "metadata": {},
   "outputs": [],
   "source": [
    "fstar = 1e-4*np.cos(2.716*np.pi/180)*(1+1e-5*np.tan(2.716*np.pi/180)**2*1e8)**(0.5)\n",
    "k_spatial_average_time_series = ocean_data3.k #.mean(dim=['xC','yC','zC']) # sel(zC=np.arange(0,h+dh,dh),method=\"nearest\").\n",
    "inertial_period = k_spatial_average_time_series.time/pd.Timedelta(\"1s\")*(fstar)/(2*np.pi)\n",
    "TKE_3 = k_spatial_average_time_series.assign_coords(intp = ('time',inertial_period.data))"
   ]
  },
  {
   "cell_type": "code",
   "execution_count": null,
   "id": "43bced0a-0395-4e65-84ba-b6e632c51725",
   "metadata": {},
   "outputs": [],
   "source": [
    "plt.plot(GSP_1.intp[2000:4000]-GSP_1.intp[2000],GSP_1.values[2000:4000]/np.abs(GSP_1.values[2000]),color=\"green\",label=r\"$GSP/|GSP_0|$\")\n",
    "plt.plot(BFLUX_1.intp[2000:4000]-GSP_1.intp[2000],BFLUX_1.values[2000:4000]/np.abs(GSP_1.values[2000]),color=\"blue\",label=r\"$BFLUX/|GSP_0|$\") # ,label=r\"$S_\\infty=0.5$\"\n",
    "plt.plot(GSP_2.intp[4000:6000]-GSP_2.intp[4000],GSP_2.values[4000:6000]/np.abs(GSP_2.values[4000]),color=\"green\",linestyle=\"--\")\n",
    "plt.plot(BFLUX_2.intp[4000:6000]-GSP_2.intp[4000],BFLUX_2.values[4000:6000]/np.abs(GSP_2.values[4000]),color=\"blue\",linestyle=\"--\") # ,label=r\"$S_\\infty=1$\"\n",
    "plt.plot(GSP_3.intp[6000:8000]-GSP_3.intp[6000],GSP_3.values[6000:8000]/np.abs(GSP_3.values[6000]),color=\"green\",linestyle=\"-.\")\n",
    "plt.plot(BFLUX_3.intp[6000:8000]-GSP_3.intp[6000],BFLUX_3.values[6000:8000]/np.abs(GSP_3.values[6000]),color=\"blue\",linestyle=\"-.\") # ,label=r\"$S_\\infty=1.5$\"\n",
    "linestyle_legend = [plt.Line2D([0],[0],linestyle=i[0],label=i[1],color=\"k\") for i in [[\"-\", r\"$S_\\infty=0.5$\"],[\"--\",r\"$S_\\infty=1.0$\"],[\"-.\",r\"$S_\\infty=1.5$\"]]]\n",
    "plt.yscale(\"symlog\",linthresh=1)\n",
    "lgnd = plt.legend(handles=linestyle_legend,loc=\"lower left\")\n",
    "plt.gca().add_artist(lgnd)\n",
    "# plt.legend(loc=\"lower left\",bbox_to_anchor=(0.225,-1e-4))\n",
    "plt.xlim([0,10])\n",
    "plt.xlabel(\"Modified Intertial Period\")\n",
    "plt.savefig(\"BFLUX_GSP_comp_graph_upper_limit.pdf\")\n",
    "# plt.ylabel(\"TKE term/$|T|$\")\n",
    "# plt.ylim([-150,10])\n",
    "plt.show()"
   ]
  },
  {
   "cell_type": "code",
   "execution_count": null,
   "id": "1b3ea666-87b2-4a44-b1d7-abb992c156e9",
   "metadata": {},
   "outputs": [],
   "source": [
    "file = \"/vinffixed/TKE_terms_height_74.73267997286224_interior_velocity_0.1_visc_1.0e-5_Sinf_0.5000274178256063_gamma_0.8462440435081712_theta_0.9059_f_0.0001_N2_1.0e-5.nc\"\n",
    "# file = \"TKE_terms_height_89.38331984271203_interior_velocity_0.2_visc_1.0e-5_Sinf_1.3806802438147472_gamma_0.5124841097586215_theta_2.5_f_0.0001_N2_1.0e-5.nc\"\n",
    "\n",
    "ocean_data4=xr.open_dataset(\"/glade/derecho/scratch/knudsenl/data/new_data/\"+file)"
   ]
  },
  {
   "cell_type": "code",
   "execution_count": null,
   "id": "2065112f-7004-4a88-8583-5eaff9714f0e",
   "metadata": {},
   "outputs": [],
   "source": [
    "fstar = 1e-4*np.cos(0.9059*np.pi/180)*(1+1e-5*np.tan(0.9059*np.pi/180)**2*1e8)**(0.5)\n",
    "GSP_spatial_average_time_series = ocean_data4.GSP #.mean(dim=['xC','yC','zC']) # sel(zC=np.arange(0,h+dh,dh),method=\"nearest\").\n",
    "inertial_period = GSP_spatial_average_time_series.time/pd.Timedelta(\"1s\")*(fstar)/(2*np.pi)\n",
    "GSP_4 = GSP_spatial_average_time_series.assign_coords(intp = ('time',inertial_period.data))\n",
    "GSP_4 = GSP_4.cumulative_integrate(\"time\")"
   ]
  },
  {
   "cell_type": "code",
   "execution_count": null,
   "id": "f0a4bcea-d87d-45a0-871f-3d0b706242d6",
   "metadata": {},
   "outputs": [],
   "source": [
    "fstar = 1e-4*np.cos(0.9059*np.pi/180)*(1+1e-5*np.tan(0.9059*np.pi/180)**2*1e8)**(0.5)\n",
    "BFLUX_spatial_average_time_series = ocean_data4.BFLUX #.mean(dim=['xC','yC','zC']) # sel(zC=np.arange(0,h+dh,dh),method=\"nearest\").\n",
    "inertial_period = BFLUX_spatial_average_time_series.time/pd.Timedelta(\"1s\")*(fstar)/(2*np.pi)\n",
    "BFLUX_4 = BFLUX_spatial_average_time_series.assign_coords(intp = ('time',inertial_period.data))\n",
    "BFLUX_4 = BFLUX_4.cumulative_integrate(\"time\")"
   ]
  },
  {
   "cell_type": "code",
   "execution_count": null,
   "id": "b2d967c4-5202-4774-9bd6-69a697e6c1bf",
   "metadata": {},
   "outputs": [],
   "source": [
    "file = \"/vinffixed/TKE_terms_height_63.21485960107034_interior_velocity_0.1_visc_1.0e-5_Sinf_1.0000287024749517_gamma_0.5002284142579378_theta_1.8113_f_0.0001_N2_1.0e-5.nc\"\n",
    "# file = \"TKE_terms_height_89.38331984271203_interior_velocity_0.2_visc_1.0e-5_Sinf_1.3806802438147472_gamma_0.5124841097586215_theta_2.5_f_0.0001_N2_1.0e-5.nc\"\n",
    "\n",
    "ocean_data5=xr.open_dataset(\"/glade/derecho/scratch/knudsenl/data/new_data/\"+file)"
   ]
  },
  {
   "cell_type": "code",
   "execution_count": null,
   "id": "7a7afe41-d7f7-43f0-b4ed-1a29f43199c2",
   "metadata": {},
   "outputs": [],
   "source": [
    "fstar = 1e-4*np.cos(1.8112*np.pi/180)*(1+1e-5*np.tan(1.8112*np.pi/180)**2*1e8)**(0.5)\n",
    "GSP_spatial_average_time_series = ocean_data5.GSP #.mean(dim=['xC','yC','zC']) # sel(zC=np.arange(0,h+dh,dh),method=\"nearest\").\n",
    "inertial_period = GSP_spatial_average_time_series.time/pd.Timedelta(\"1s\")*(fstar)/(2*np.pi)\n",
    "GSP_5 = GSP_spatial_average_time_series.assign_coords(intp = ('time',inertial_period.data))\n",
    "GSP_5 = GSP_5.cumulative_integrate(\"time\")"
   ]
  },
  {
   "cell_type": "code",
   "execution_count": null,
   "id": "90b67da5-9e62-4745-9453-691f8807ec01",
   "metadata": {},
   "outputs": [],
   "source": [
    "fstar = 1e-4*np.cos(1.8112*np.pi/180)*(1+1e-5*np.tan(1.8112*np.pi/180)**2*1e8)**(0.5)\n",
    "BFLUX_spatial_average_time_series = ocean_data5.BFLUX #.mean(dim=['xC','yC','zC']) # sel(zC=np.arange(0,h+dh,dh),method=\"nearest\").\n",
    "inertial_period = BFLUX_spatial_average_time_series.time/pd.Timedelta(\"1s\")*(fstar)/(2*np.pi)\n",
    "BFLUX_5 = BFLUX_spatial_average_time_series.assign_coords(intp = ('time',inertial_period.data))\n",
    "BFLUX_5 = BFLUX_5.cumulative_integrate(\"time\")"
   ]
  },
  {
   "cell_type": "code",
   "execution_count": null,
   "id": "2051fac5-ae4a-4c79-a128-d16a5dc3552a",
   "metadata": {},
   "outputs": [],
   "source": [
    "file = \"/vinffixed/TKE_terms_height_147.4894258415078_interior_velocity_0.1_visc_1.0e-5_Sinf_1.5001427892662003_gamma_0.14292444558091658_theta_2.716_f_0.0001_N2_1.0e-5.nc\"\n",
    "# file = \"TKE_terms_height_89.38331984271203_interior_velocity_0.2_visc_1.0e-5_Sinf_1.3806802438147472_gamma_0.5124841097586215_theta_2.5_f_0.0001_N2_1.0e-5.nc\"\n",
    "\n",
    "ocean_data6=xr.open_dataset(\"/glade/derecho/scratch/knudsenl/data/new_data/\"+file)"
   ]
  },
  {
   "cell_type": "code",
   "execution_count": null,
   "id": "f2d4ad2d-e5cf-46af-95a7-47dcff5f650e",
   "metadata": {},
   "outputs": [],
   "source": [
    "fstar = 1e-4*np.cos(2.716*np.pi/180)*(1+1e-5*np.tan(2.716*np.pi/180)**2*1e8)**(0.5)\n",
    "GSP_spatial_average_time_series = ocean_data6.GSP #.mean(dim=['xC','yC','zC']) # sel(zC=np.arange(0,h+dh,dh),method=\"nearest\").\n",
    "inertial_period = GSP_spatial_average_time_series.time/pd.Timedelta(\"1s\")*(fstar)/(2*np.pi)\n",
    "GSP_6 = GSP_spatial_average_time_series.assign_coords(intp = ('time',inertial_period.data))\n",
    "GSP_6 = GSP_6.cumulative_integrate(\"time\")"
   ]
  },
  {
   "cell_type": "code",
   "execution_count": null,
   "id": "86eddef2-a069-4d32-a08a-52de1b8aa168",
   "metadata": {},
   "outputs": [],
   "source": [
    "fstar = 1e-4*np.cos(2.716*np.pi/180)*(1+1e-5*np.tan(2.716*np.pi/180)**2*1e8)**(0.5)\n",
    "BFLUX_spatial_average_time_series = ocean_data6.BFLUX #.mean(dim=['xC','yC','zC']) # sel(zC=np.arange(0,h+dh,dh),method=\"nearest\").\n",
    "inertial_period = BFLUX_spatial_average_time_series.time/pd.Timedelta(\"1s\")*(fstar)/(2*np.pi)\n",
    "BFLUX_6 = BFLUX_spatial_average_time_series.assign_coords(intp = ('time',inertial_period.data))\n",
    "BFLUX_6 = BFLUX_6.cumulative_integrate(\"time\")"
   ]
  },
  {
   "cell_type": "code",
   "execution_count": null,
   "id": "46c9d1d9-75ed-4263-8f0e-273e207412a1",
   "metadata": {},
   "outputs": [],
   "source": [
    "GSP_6.intp[16000]"
   ]
  },
  {
   "cell_type": "code",
   "execution_count": null,
   "id": "58d983f1-85f5-4d4b-be50-d37d43cb2ef7",
   "metadata": {},
   "outputs": [],
   "source": [
    "plt.plot(GSP_4.intp[2000:4000]-GSP_4.intp[2000],GSP_4.values[2000:4000]/np.abs(GSP_4.values[2000]),color=\"green\",label=r\"$GSP/|GSP_0|$\")\n",
    "plt.plot(BFLUX_4.intp[2000:4000]-GSP_4.intp[2000],BFLUX_4.values[2000:4000]/np.abs(GSP_4.values[2000]),color=\"blue\",label=r\"$BFLUX/|GSP_0|$\") # ,label=r\"$S_\\infty=0.5$\"\n",
    "plt.plot(GSP_5.intp[6000:8000]-GSP_5.intp[6000],GSP_5.values[6000:8000]/np.abs(GSP_5.values[6000]),color=\"green\",linestyle=\"--\")\n",
    "plt.plot(BFLUX_5.intp[6000:8000]-GSP_5.intp[6000],BFLUX_5.values[6000:8000]/np.abs(GSP_5.values[6000]),color=\"blue\",linestyle=\"--\") # ,label=r\"$S_\\infty=1$\"\n",
    "plt.plot(GSP_6.intp[16000:18000]-GSP_6.intp[16000],GSP_6.values[16000:18000]/np.abs(GSP_6.values[18000]),color=\"green\",linestyle=\"-.\")\n",
    "plt.plot(BFLUX_6.intp[16000:18000]-GSP_6.intp[16000],BFLUX_6.values[16000:18000]/np.abs(GSP_6.values[18000]),color=\"blue\",linestyle=\"-.\") # ,label=r\"$S_\\infty=1.5$\"\n",
    "linestyle_legend = [plt.Line2D([0],[0],linestyle=i[0],label=i[1],color=\"k\") for i in [[\"-\", r\"$S_\\infty=0.5$\"],[\"--\",r\"$S_\\infty=1.0$\"],[\"-.\",r\"$S_\\infty=1.5$\"]]]\n",
    "plt.yscale(\"symlog\",linthresh=1)\n",
    "lgnd = plt.legend(handles=linestyle_legend,loc=\"lower left\")\n",
    "plt.gca().add_artist(lgnd)\n",
    "# plt.legend(loc=\"lower left\",bbox_to_anchor=(0.225,-1e-4))\n",
    "plt.xlim([0,10])\n",
    "plt.xlabel(\"Modified Intertial Period\")\n",
    "plt.savefig(\"BFLUX_GSP_comp_graph_lower_limit.pdf\")\n",
    "# plt.ylabel(\"TKE term/$|T|$\")\n",
    "# plt.ylim([-150,10])\n",
    "plt.show()"
   ]
  },
  {
   "cell_type": "code",
   "execution_count": null,
   "id": "f902d891-834c-4ce4-ab7d-2a723df4a0d7",
   "metadata": {},
   "outputs": [],
   "source": []
  }
 ],
 "metadata": {
  "kernelspec": {
   "display_name": "Python 3 (ipykernel)",
   "language": "python",
   "name": "python3"
  },
  "language_info": {
   "codemirror_mode": {
    "name": "ipython",
    "version": 3
   },
   "file_extension": ".py",
   "mimetype": "text/x-python",
   "name": "python",
   "nbconvert_exporter": "python",
   "pygments_lexer": "ipython3",
   "version": "3.10.13"
  }
 },
 "nbformat": 4,
 "nbformat_minor": 5
}
