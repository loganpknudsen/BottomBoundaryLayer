{
 "cells": [
  {
   "cell_type": "code",
   "execution_count": null,
   "id": "98a5d886-261d-4072-b28c-8e23ec482f7b",
   "metadata": {},
   "outputs": [],
   "source": [
    "import xarray as xr\n",
    "import numpy as np\n",
    "import matplotlib.pyplot as plt\n",
    "import pandas as pd\n",
    "import scipy as sc"
   ]
  },
  {
   "cell_type": "code",
   "execution_count": null,
   "id": "140c52c0-2a9d-4ac4-bb3b-201374cc2ff9",
   "metadata": {},
   "outputs": [],
   "source": [
    "file = \"TKE_terms_height_114.47837535574962_interior_velocity_0.05_visc_1.0e-5_Sinf_0.5240777928304121_gamma_0.8333948061558454_theta_3_f_0.0001_N2_1.0e-6.nc\"\n",
    "ocean_data1=xr.open_dataset(\"/glade/derecho/scratch/knudsenl/data/new_data/\"+file)\n",
    "theta = 3*np.pi/180\n",
    "N2 = 10**(-6)\n",
    "Vinf = 0.05\n",
    "f = 10**(-4)\n",
    "gm = 0.8333948061558454\n",
    "h = f*Vinf/(N2*np.tan(theta)*gm)\n",
    "fstar1 = np.cos(theta)*(f**2+np.tan(theta)**2*N2)**(0.5)\n",
    "lmbd = (N2*np.tan(theta)*gm)/f\n",
    "delta = 0.5\n",
    "KE_turb_1 = ocean_data1.k \n",
    "inertial_period = (KE_turb_1.time/pd.Timedelta(\"1s\"))*(f/(2*np.pi))\n",
    "KE_turb_1 = KE_turb_1.assign_coords(intp = ('time',inertial_period.data))"
   ]
  },
  {
   "cell_type": "code",
   "execution_count": null,
   "id": "eda5b762-f154-4464-91db-275357afc096",
   "metadata": {},
   "outputs": [],
   "source": [
    "KE_turb_1.intp[3157]"
   ]
  },
  {
   "cell_type": "code",
   "execution_count": null,
   "id": "133c1b24-9ad6-483a-9fd7-3703b49cf20c",
   "metadata": {},
   "outputs": [],
   "source": [
    "data1 = KE_turb_1.isel(time=slice(2255,3358))\n",
    "plt.plot(data1.intp,data1)\n",
    "plt.yscale(\"log\")"
   ]
  },
  {
   "cell_type": "code",
   "execution_count": null,
   "id": "f768ec4c-d77a-4f0a-bdca-3485e644ccaa",
   "metadata": {},
   "outputs": [],
   "source": [
    "file = \"TKE_terms_height_114.90091685637621_interior_velocity_0.05_visc_0.0001_Sinf_0.5240777928304121_gamma_0.8303300447802014_theta_3_f_0.0001_N2_1.0e-6.nc\"\n",
    "ocean_data2=xr.open_dataset(\"/glade/derecho/scratch/knudsenl/data/new_data/\"+file)\n",
    "theta = 3*np.pi/180\n",
    "N2 = 10**(-6)\n",
    "Vinf = 0.05\n",
    "f = 10**(-4)\n",
    "gm = 0.8333948061558454\n",
    "h = f*Vinf/(N2*np.tan(theta)*gm)\n",
    "fstar2 = np.cos(theta)*(f**2+np.tan(theta)**2*N2)**(0.5)\n",
    "lmbd = (N2*np.tan(theta)*gm)/f\n",
    "delta = 0.5\n",
    "KE_turb_2 = ocean_data2.k \n",
    "inertial_period = (KE_turb_2.time/pd.Timedelta(\"1s\"))*(f/(2*np.pi))\n",
    "KE_turb_2 = KE_turb_2.assign_coords(intp = ('time',inertial_period.data))"
   ]
  },
  {
   "cell_type": "code",
   "execution_count": null,
   "id": "afa75cba-1deb-4179-b3c2-3557cac134d6",
   "metadata": {},
   "outputs": [],
   "source": [
    "KE_turb_2.intp[-362]"
   ]
  },
  {
   "cell_type": "code",
   "execution_count": null,
   "id": "043ab818-f630-4ac1-941f-c8b4e5c876a3",
   "metadata": {},
   "outputs": [],
   "source": [
    "data2 = KE_turb_2.isel(time=slice(-1490,-362))\n",
    "plt.plot(data2.intp,data2)\n",
    "plt.yscale(\"log\")"
   ]
  },
  {
   "cell_type": "code",
   "execution_count": null,
   "id": "65a7074c-c423-4aac-9abf-dbd3feda2490",
   "metadata": {},
   "outputs": [],
   "source": [
    "file = \"TKE_terms_height_101.81692779564025_interior_velocity_0.05_visc_0.0001_Sinf_0.5240777928304121_gamma_0.9370316459570712_theta_3_f_0.0001_N2_1.0e-6.nc\"\n",
    "ocean_data3=xr.open_dataset(\"/glade/derecho/scratch/knudsenl/data/new_data/\"+file)\n",
    "theta = 3*np.pi/180\n",
    "N2 = 10**(-6)\n",
    "Vinf = 0.05\n",
    "f = 10**(-4)\n",
    "gm = 0.8333948061558454\n",
    "h = f*Vinf/(N2*np.tan(theta)*gm)\n",
    "fstar3 = np.cos(theta)*(f**2+np.tan(theta)**2*N2)**(0.5)\n",
    "lmbd = (N2*np.tan(theta)*gm)/f\n",
    "delta = 0.5\n",
    "KE_turb_3 = ocean_data3.k \n",
    "inertial_period = (KE_turb_3.time/pd.Timedelta(\"1s\"))*(f/(2*np.pi))\n",
    "KE_turb_3 = KE_turb_3.assign_coords(intp = ('time',inertial_period.data))"
   ]
  },
  {
   "cell_type": "code",
   "execution_count": null,
   "id": "4dfcd164-208b-4c7a-93a7-d683b300a295",
   "metadata": {},
   "outputs": [],
   "source": [
    "KE_turb_3.intp[2254]"
   ]
  },
  {
   "cell_type": "code",
   "execution_count": null,
   "id": "299e4991-1f93-434d-be98-184093d44d65",
   "metadata": {},
   "outputs": [],
   "source": [
    "data3 = KE_turb_3.isel(time=slice(1128,2256))\n",
    "plt.plot(data3.intp,data3)\n",
    "plt.yscale(\"log\")"
   ]
  },
  {
   "cell_type": "code",
   "execution_count": null,
   "id": "7f1cab61-9307-4312-ba2a-318b2ff02eb0",
   "metadata": {},
   "outputs": [],
   "source": [
    "file = \"TKE_terms_height_89.38331984271203_interior_velocity_0.2_visc_0.0001_Sinf_1.3806802438147472_gamma_0.5124841097586215_theta_2.5_f_0.0001_N2_1.0e-5.nc\"\n",
    "ocean_data4=xr.open_dataset(\"/glade/derecho/scratch/knudsenl/data/new_data/\"+file)\n",
    "theta = 3*np.pi/180\n",
    "N2 = 10**(-6)\n",
    "Vinf = 0.05\n",
    "f = 10**(-4)\n",
    "gm = 0.8333948061558454\n",
    "h = f*Vinf/(N2*np.tan(theta)*gm)\n",
    "fstar3 = np.cos(theta)*(f**2+np.tan(theta)**2*N2)**(0.5)\n",
    "lmbd = (N2*np.tan(theta)*gm)/f\n",
    "delta = 0.5\n",
    "KE_turb_4 = ocean_data4.k \n",
    "inertial_period = (KE_turb_4.time/pd.Timedelta(\"1s\"))*(f/(2*np.pi))\n",
    "KE_turb_4= KE_turb_4.assign_coords(intp = ('time',inertial_period.data))"
   ]
  },
  {
   "cell_type": "code",
   "execution_count": null,
   "id": "6c3f899e-1213-410c-a46b-c29740772dd5",
   "metadata": {},
   "outputs": [],
   "source": [
    "KE_turb_4.intp[5110]"
   ]
  },
  {
   "cell_type": "code",
   "execution_count": null,
   "id": "d4c36b10-1f5a-4e93-99f0-76a1ceb6b6b2",
   "metadata": {},
   "outputs": [],
   "source": []
  },
  {
   "cell_type": "code",
   "execution_count": null,
   "id": "9ca2b649-d7d0-4a63-9b1b-83fa9683db94",
   "metadata": {},
   "outputs": [],
   "source": []
  },
  {
   "cell_type": "code",
   "execution_count": null,
   "id": "6f24d734-3900-4cff-b2ad-5bf44bbc6f8d",
   "metadata": {},
   "outputs": [],
   "source": [
    "data4 = KE_turb_4.isel(time=slice(3406,5110))\n",
    "plt.plot(data4.intp,data4)\n",
    "plt.yscale(\"log\")"
   ]
  },
  {
   "cell_type": "code",
   "execution_count": null,
   "id": "e320d86c-4619-4ca2-85e8-445e6aa0a35b",
   "metadata": {},
   "outputs": [],
   "source": [
    "file = \"TKE_terms_height_124.54137959830867_interior_velocity_0.2_visc_0.0001_Sinf_1.3806802438147472_gamma_0.3678097291406951_theta_2.5_f_0.0001_N2_1.0e-5.nc\"\n",
    "ocean_data5=xr.open_dataset(\"/glade/derecho/scratch/knudsenl/data/new_data/\"+file)\n",
    "KE_turb_5 = ocean_data5.k \n",
    "inertial_period = (KE_turb_5.time/pd.Timedelta(\"1s\"))*(f/(2*np.pi))\n",
    "KE_turb_5 = KE_turb_5.assign_coords(intp = ('time',inertial_period.data))"
   ]
  },
  {
   "cell_type": "code",
   "execution_count": null,
   "id": "7c9e0d2c-6723-41ab-948b-296f623872dd",
   "metadata": {},
   "outputs": [],
   "source": [
    "KE_turb_5.intp[5110]"
   ]
  },
  {
   "cell_type": "code",
   "execution_count": null,
   "id": "51519b8b-adb5-4fc8-8797-ff8644f66f0f",
   "metadata": {},
   "outputs": [],
   "source": [
    "data5 = KE_turb_5.isel(time=slice(3406,5110))\n",
    "plt.plot(data5.intp,data5)\n",
    "plt.yscale(\"log\")"
   ]
  },
  {
   "cell_type": "code",
   "execution_count": null,
   "id": "5952d755-c932-40d8-8e28-6e152de31345",
   "metadata": {},
   "outputs": [],
   "source": [
    "file = \"paper_data/TKE_terms_height_205.29033790532833_theta_2.5_stratification_1.0e-5_interior_velocity_0.2_visc_0.0001_Sinf_1.9062779356603496_gamma_0.22313534852276876_f_0.0001.nc\"\n",
    "ocean_data6=xr.open_dataset(\"/glade/derecho/scratch/knudsenl/data/new_data/\"+file)\n",
    "KE_turb_6 = ocean_data6.k \n",
    "inertial_period = (KE_turb_6.time/pd.Timedelta(\"1s\"))*(f/(2*np.pi))\n",
    "KE_turb_6 = KE_turb_6.assign_coords(intp = ('time',inertial_period.data))"
   ]
  },
  {
   "cell_type": "code",
   "execution_count": null,
   "id": "2cf8c788-02dd-4de8-bd80-86d9bc38d902",
   "metadata": {},
   "outputs": [],
   "source": [
    "KE_turb_6.intp[11923]"
   ]
  },
  {
   "cell_type": "code",
   "execution_count": null,
   "id": "c075cd92-4f3b-4f2d-9fc1-b092ad976c89",
   "metadata": {},
   "outputs": [],
   "source": [
    "data6 = KE_turb_6.isel(time=slice(10218,11923))\n",
    "plt.plot(data6.intp,data6)\n",
    "plt.yscale(\"log\")"
   ]
  },
  {
   "cell_type": "code",
   "execution_count": null,
   "id": "97ffeb55-759f-4257-b190-d7e3439e4f36",
   "metadata": {},
   "outputs": [],
   "source": [
    "# _height_108.35892232600824_interior_velocity_0.05_visc_0.0001_Sinf_0.5240777928304121_gamma_0.8804598771442548_theta_3_f_0.0001_N2_1.0e-6.nc"
   ]
  },
  {
   "cell_type": "code",
   "execution_count": null,
   "id": "b8e2f6cf-0109-4e38-b77c-49a427db096e",
   "metadata": {},
   "outputs": [],
   "source": [
    "file = \"TKE_terms_height_108.35892232600824_interior_velocity_0.05_visc_0.0001_Sinf_0.5240777928304121_gamma_0.8804598771442548_theta_3_f_0.0001_N2_1.0e-6.nc\"\n",
    "ocean_data7=xr.open_dataset(\"/glade/derecho/scratch/knudsenl/data/new_data/\"+file)\n",
    "KE_turb_7 = ocean_data7.k \n",
    "inertial_period = (KE_turb_7.time/pd.Timedelta(\"1s\"))*(f/(2*np.pi))\n",
    "KE_turb_7 = KE_turb_7.assign_coords(intp = ('time',inertial_period.data))"
   ]
  },
  {
   "cell_type": "code",
   "execution_count": null,
   "id": "8798d62e-60d1-45ff-a262-0a696830ddc6",
   "metadata": {},
   "outputs": [],
   "source": [
    "KE_turb_7.intp[3382]"
   ]
  },
  {
   "cell_type": "code",
   "execution_count": null,
   "id": "d1ce2d19-c12c-4c4e-8cbd-1424765028b1",
   "metadata": {},
   "outputs": [],
   "source": [
    "data7 = KE_turb_7.isel(time=slice(2254,3383))\n",
    "plt.plot(data7.intp,data7)\n",
    "plt.yscale(\"log\")"
   ]
  },
  {
   "cell_type": "code",
   "execution_count": null,
   "id": "6780913e-197f-4e05-86ef-c964fdfe1038",
   "metadata": {},
   "outputs": [],
   "source": [
    "file = \"TKE_terms_height_100.04907612419997_interior_velocity_0.05_visc_0.0001_Sinf_0.16005862220698383_gamma_0.9873652710877313_theta_0.29_f_0.0001_N2_1.0e-5.nc\"\n",
    "ocean_data8=xr.open_dataset(\"/glade/derecho/scratch/knudsenl/data/new_data/\"+file)\n",
    "KE_turb_8 = ocean_data8.k \n",
    "inertial_period = (KE_turb_8.time/pd.Timedelta(\"1s\"))*(f/(2*np.pi))\n",
    "KE_turb_8 = KE_turb_8.assign_coords(intp = ('time',inertial_period.data))"
   ]
  },
  {
   "cell_type": "code",
   "execution_count": null,
   "id": "ca6c8ca5-dd4b-404d-9014-c727c103a8ad",
   "metadata": {},
   "outputs": [],
   "source": [
    "KE_turb_8.intp[2025]"
   ]
  },
  {
   "cell_type": "code",
   "execution_count": null,
   "id": "4748d056-2a8e-41ab-9a98-866b816c3b1d",
   "metadata": {},
   "outputs": [],
   "source": [
    "data8 = KE_turb_8.isel(time=slice(2025,3039))\n",
    "plt.plot(data8.intp,data8)\n",
    "plt.yscale(\"log\")"
   ]
  },
  {
   "cell_type": "code",
   "execution_count": null,
   "id": "54216fa9-e664-4255-b0fc-20be440af1b5",
   "metadata": {},
   "outputs": [],
   "source": [
    "file = \"TKE_terms_height_100.26676031626604_interior_velocity_0.05_visc_0.0001_Sinf_0.16005862220698383_gamma_0.9852216513015442_theta_0.29_f_0.0001_N2_1.0e-5.nc\"\n",
    "ocean_data9=xr.open_dataset(\"/glade/derecho/scratch/knudsenl/data/new_data/\"+file)\n",
    "KE_turb_9 = ocean_data9.k \n",
    "inertial_period = (KE_turb_9.time/pd.Timedelta(\"1s\"))*(f/(2*np.pi))\n",
    "KE_turb_9 = KE_turb_9.assign_coords(intp = ('time',inertial_period.data))"
   ]
  },
  {
   "cell_type": "code",
   "execution_count": null,
   "id": "5037c487-09c8-4080-a69a-e3daeac31787",
   "metadata": {},
   "outputs": [],
   "source": [
    "KE_turb_9.intp[3038]"
   ]
  },
  {
   "cell_type": "code",
   "execution_count": null,
   "id": "da908cfa-b14e-4c1f-ad6c-a37b101b14d6",
   "metadata": {},
   "outputs": [],
   "source": [
    "data9 = KE_turb_9.isel(time=slice(2025,3039))\n",
    "plt.plot(data9.intp,data9)\n",
    "plt.yscale(\"log\")"
   ]
  },
  {
   "cell_type": "code",
   "execution_count": null,
   "id": "83ade7d9-3d41-48ed-8470-838d4cd8123a",
   "metadata": {},
   "outputs": [],
   "source": [
    "file = \"TKE_terms_height_100.4853938371266_interior_velocity_0.05_visc_0.0001_Sinf_0.16005862220698383_gamma_0.9830780315153569_theta_0.29_f_0.0001_N2_1.0e-5.nc\"\n",
    "ocean_data10=xr.open_dataset(\"/glade/derecho/scratch/knudsenl/data/new_data/\"+file)\n",
    "KE_turb_10 = ocean_data10.k \n",
    "inertial_period = (KE_turb_10.time/pd.Timedelta(\"1s\"))*(f/(2*np.pi))\n",
    "KE_turb_10 = KE_turb_10.assign_coords(intp = ('time',inertial_period.data))"
   ]
  },
  {
   "cell_type": "code",
   "execution_count": null,
   "id": "1ac0cb8e-439e-4036-a99b-b569b9d231df",
   "metadata": {},
   "outputs": [],
   "source": [
    "KE_turb_10.intp[2026]"
   ]
  },
  {
   "cell_type": "code",
   "execution_count": null,
   "id": "58dc7467-92a2-4349-a40d-6c59f8a185ff",
   "metadata": {},
   "outputs": [],
   "source": [
    "data10 = KE_turb_10.isel(time=slice(2025,3039))\n",
    "plt.plot(data10.intp,data10)\n",
    "plt.yscale(\"log\")"
   ]
  },
  {
   "cell_type": "code",
   "execution_count": null,
   "id": "987f42b4-2e41-47b3-a8eb-539d02d547f9",
   "metadata": {},
   "outputs": [],
   "source": [
    "plt.plot(data1.intp-data1.intp[0],data1/data1[0],color=\"black\",label=\"$S_\\infty=0.524,\\,\\delta=0.5,\\gamma=\\gamma^*_l$\")\n",
    "plt.plot(data7.intp-data7.intp[0],data7/data7[0],color=\"red\",label=\"$S_\\infty=0.524,\\,\\delta=0.5,\\gamma=\\gamma^*_u$\")\n",
    "plt.plot(data2.intp-data2.intp[0],data2/data2[0],color=\"blue\",label=\"$S_\\infty=0.524,\\,\\delta=0.25,\\gamma=\\gamma^*_u$\")\n",
    "plt.plot(data3.intp-data3.intp[0],data3/data3[0],color=\"green\",label=\"$S_\\infty=0.524,\\,\\delta=0.75,\\gamma=\\gamma^*_u$\")\n",
    "plt.xlabel(\"Standard Inertial Period ($tf/(2\\pi)$)\")\n",
    "plt.ylabel(\"$k/k_0$\")\n",
    "plt.legend()\n",
    "plt.yscale(\"log\")\n",
    "plt.savefig(\"energy_delta_comp.jpeg\")"
   ]
  },
  {
   "cell_type": "code",
   "execution_count": null,
   "id": "f00bea68-d9df-484b-8d09-69a5313306db",
   "metadata": {},
   "outputs": [],
   "source": []
  },
  {
   "cell_type": "code",
   "execution_count": null,
   "id": "bb4cabe0-2c0c-4633-b501-6e072dc6d0aa",
   "metadata": {},
   "outputs": [],
   "source": []
  },
  {
   "cell_type": "code",
   "execution_count": null,
   "id": "9eebe5af-c3c3-4e7c-a4d9-cf2c98117c19",
   "metadata": {},
   "outputs": [],
   "source": []
  },
  {
   "cell_type": "code",
   "execution_count": null,
   "id": "7a0c31ea-5e77-4f2a-b50c-4956e0525933",
   "metadata": {},
   "outputs": [],
   "source": [
    "plt.plot(data4.intp-data4.intp[0],data4/data4[0],color=\"red\",label=\"$S_\\infty=1.381,\\gamma=\\gamma^*_u$\")\n",
    "plt.plot(data5.intp-data5.intp[0],data5/data5[0],color=\"blue\",label=\"$S_\\infty=1.381,\\,\\gamma=\\gamma^*_m$\")\n",
    "plt.plot(data6.intp-data6.intp[0],data6/data6[0],color=\"green\",label=\"$S_\\infty=1.381,\\,\\gamma=\\gamma^*_l$\")\n",
    "plt.plot(data8.intp-data8.intp[0],data8/data8[0],color=\"red\",linestyle=\"--\",label=\"$S_\\infty=0.160,\\,\\gamma=\\gamma^*_u$\")\n",
    "plt.plot(data9.intp-data9.intp[0],data9/data9[0],color=\"blue\",linestyle=\"--\",label=\"$S_\\infty=0.160,\\,\\gamma=\\gamma^*_m$\")\n",
    "plt.plot(data10.intp-data10.intp[0],data10/data10[0],color=\"green\",linestyle=\"--\",label=\"$S_\\infty=0.160,\\,\\gamma=\\gamma^*_l$\")\n",
    "plt.xlabel(\"Standard Inertial Period ($tf/(2\\pi)$)\")\n",
    "plt.ylabel(\"$k/k_0$\")\n",
    "plt.legend()\n",
    "plt.yscale(\"log\")\n",
    "plt.savefig(\"energy_gamma_comp.jpeg\")"
   ]
  },
  {
   "cell_type": "code",
   "execution_count": null,
   "id": "91739584-064c-4710-88dc-e58d71b92ee6",
   "metadata": {},
   "outputs": [],
   "source": []
  }
 ],
 "metadata": {
  "kernelspec": {
   "display_name": "Python 3 (ipykernel)",
   "language": "python",
   "name": "python3"
  },
  "language_info": {
   "codemirror_mode": {
    "name": "ipython",
    "version": 3
   },
   "file_extension": ".py",
   "mimetype": "text/x-python",
   "name": "python",
   "nbconvert_exporter": "python",
   "pygments_lexer": "ipython3",
   "version": "3.10.13"
  }
 },
 "nbformat": 4,
 "nbformat_minor": 5
}
