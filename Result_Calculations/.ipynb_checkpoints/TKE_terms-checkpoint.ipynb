{
 "cells": [
  {
   "cell_type": "code",
   "execution_count": null,
   "metadata": {},
   "outputs": [],
   "source": [
    "# Load in Python libraries\n",
    "import xarray as xr\n",
    "import numpy as np\n",
    "import matplotlib.pyplot as plt\n",
    "import pandas as pd\n",
    "import scipy as sc"
   ]
  },
  {
   "cell_type": "code",
   "execution_count": null,
   "metadata": {},
   "outputs": [],
   "source": [
    "# Retrieve Data\n",
    "file = \"stbly/TKE_terms_height_63.213952337529214_interior_velocity_0.1_visc_1.0e-5_Sinf_1.0000287024749517_gamma_0.500235593669851_theta_1.8113_f_0.0001_N2_1.0e-5.nc\"\n",
    "\n",
    "ocean_data=xr.open_dataset(\"/glade/derecho/scratch/knudsenl/data/new_data/\"+file).chunk(time=1)#.isel(time=slice(0,4000)) #i=103"
   ]
  },
  {
   "cell_type": "code",
   "execution_count": null,
   "metadata": {},
   "outputs": [],
   "source": [
    "# Set parameters for simulation\n",
    "theta = 1.8113\n",
    "N2 = 1e-5\n",
    "Vinf1 = 0.1\n",
    "Vinf = str(Vinf1)\n",
    "f = 10**(-4)\n",
    "fstar = np.cos(theta*np.pi/180)*(1e-8+np.tan(theta*np.pi/180)**2*N2)**(0.5)"
   ]
  },
  {
   "cell_type": "code",
   "execution_count": null,
   "metadata": {},
   "outputs": [],
   "source": [
    "# Calculate the TKE\n",
    "KE_spatial_average_time_series = ocean_data.k \n",
    "inertial_period = (KE_spatial_average_time_series.time/pd.Timedelta(\"1s\"))*(fstar/(2*np.pi))\n",
    "KE_spatial_average_time_series_ip = KE_spatial_average_time_series.assign_coords(intp = ('time',inertial_period.data))\n",
    "seconds = KE_spatial_average_time_series.time/pd.Timedelta(\"1s\")"
   ]
  },
  {
   "cell_type": "code",
   "execution_count": null,
   "metadata": {},
   "outputs": [],
   "source": [
    "# Plot the TKE\n",
    "plt.plot(KE_spatial_average_time_series_ip.intp[:],KE_spatial_average_time_series_ip.values[:]/KE_spatial_average_time_series_ip.values[0])\n",
    "plt.title(\"Perturbation kinetic energy over time\")\n",
    "plt.ylabel('$k$/$k_5$')\n",
    "plt.xlabel('$tf^*/2\\pi$')\n",
    "plt.yscale('log')\n",
    "# plt.savefig(\"PKEplot.png\")\n",
    "plt.show()"
   ]
  },
  {
   "cell_type": "code",
   "execution_count": null,
   "metadata": {},
   "outputs": [],
   "source": [
    "# Find the linear phase\n",
    "ts = 1000\n",
    "tf = 3000\n",
    "plt.plot(KE_spatial_average_time_series_ip.intp[ts:tf],KE_spatial_average_time_series_ip.values[ts:tf]/KE_spatial_average_time_series_ip.values[ts])\n",
    "# plt.title(\"Pertubation Kinetic Energy During Linear Phase\")\n",
    "plt.ylabel('$k$/$k_{10}$')\n",
    "plt.xlabel('$tf^*/(2\\pi)$')\n",
    "plt.yscale('log')\n",
    "# plt.savefig(\"linear_phase_plot.png\")\n",
    "plt.show()"
   ]
  },
  {
   "cell_type": "code",
   "execution_count": null,
   "metadata": {},
   "outputs": [],
   "source": [
    "# Perform linear regression on the data\n",
    "lr = sc.stats.linregress(x=seconds[ts:tf],y=np.log(KE_spatial_average_time_series_ip.values[ts:tf]/KE_spatial_average_time_series_ip.values[ts]))\n",
    "lr"
   ]
  },
  {
   "cell_type": "code",
   "execution_count": null,
   "metadata": {},
   "outputs": [],
   "source": [
    "# State the growth rate\n",
    "grwthrate = lr.slope\n",
    "grwthrate = np.round(grwthrate,7)\n",
    "grwthrt = str(grwthrate/2)\n",
    "print(f\"The growth rate of the linear phase is {grwthrate} $m^2 s^-3$\")"
   ]
  },
  {
   "cell_type": "code",
   "execution_count": null,
   "metadata": {},
   "outputs": [],
   "source": [
    "# Plot the linear regression to confirm\n",
    "plt.plot(KE_spatial_average_time_series_ip.intp[ts:tf],KE_spatial_average_time_series_ip.values[ts:tf]/KE_spatial_average_time_series_ip.values[ts],label=\"TKE\")\n",
    "plt.plot(seconds[ts:tf]*fstar/(2*np.pi),np.exp(lr.slope*seconds[ts:tf]+lr.intercept),label=\"Linear Regression Fit\")\n",
    "plt.title(r\"Linear Phase: Growth Rate  \"+grwthrt+\" $m^2 s^{-3}$\")\n",
    "plt.ylabel('$k$/$k_{5}$')\n",
    "plt.xlabel('$t\\dfrac{f^*}{2\\pi}$')\n",
    "plt.legend()\n",
    "plt.yscale('log')\n",
    "plt.show()"
   ]
  },
  {
   "cell_type": "markdown",
   "metadata": {},
   "source": [
    "Calculate the TKE terms below"
   ]
  },
  {
   "cell_type": "code",
   "execution_count": null,
   "metadata": {},
   "outputs": [],
   "source": [
    "AGSP_spatial_average_time_series = ocean_data.AGSP # .sel(zC=np.arange(0,h+dh,dh),method=\"nearest\")\n",
    "inertial_period = AGSP_spatial_average_time_series.time/pd.Timedelta(\"1s\")*(fstar)/(2*np.pi)\n",
    "AGSP_spatial_average_time_series_ip = AGSP_spatial_average_time_series.assign_coords(intp = ('time',inertial_period.data))\n"
   ]
  },
  {
   "cell_type": "code",
   "execution_count": null,
   "metadata": {},
   "outputs": [],
   "source": [
    "WSP_spatial_average_time_series = ocean_data.WSP #.mean(dim=['xC','yC','zC']) # sel(zC=np.arange(0,h+dh,dh),method=\"nearest\")\n",
    "inertial_period = WSP_spatial_average_time_series.time/pd.Timedelta(\"1s\")*(fstar)/(2*np.pi)\n",
    "WSP_spatial_average_time_series_ip = WSP_spatial_average_time_series.assign_coords(intp = ('time',inertial_period.data))"
   ]
  },
  {
   "cell_type": "code",
   "execution_count": null,
   "metadata": {},
   "outputs": [],
   "source": [
    "GSP_spatial_average_time_series = ocean_data.GSP #.mean(dim=['xC','yC','zC']) # sel(zC=np.arange(0,h+dh,dh),method=\"nearest\").\n",
    "inertial_period = GSP_spatial_average_time_series.time/pd.Timedelta(\"1s\")*(fstar)/(2*np.pi)\n",
    "GSP_spatial_average_time_series_ip = GSP_spatial_average_time_series.assign_coords(intp = ('time',inertial_period.data))\n"
   ]
  },
  {
   "cell_type": "code",
   "execution_count": null,
   "metadata": {},
   "outputs": [],
   "source": [
    "BFLUX_spatial_average_time_series = ocean_data.BFLUX #.mean(dim=['xC','yC','zC']) # .sel(zC=np.arange(0,h+dh,dh),method=\"nearest\")\n",
    "inertial_period = BFLUX_spatial_average_time_series.time/pd.Timedelta(\"1s\")*(fstar)/(2*np.pi)\n",
    "BFLUX_spatial_average_time_series_ip = BFLUX_spatial_average_time_series.assign_coords(intp = ('time',inertial_period.data))\n"
   ]
  },
  {
   "cell_type": "code",
   "execution_count": null,
   "metadata": {},
   "outputs": [],
   "source": [
    "E_spatial_average_time_series = ocean_data.E #.mean(dim=['xC','yC','zC']) # .sel(zC=np.arange(0,h+dh,dh),method=\"nearest\")\n",
    "inertial_period = E_spatial_average_time_series.time/pd.Timedelta(\"1s\")*(fstar)/(2*np.pi)\n",
    "E_spatial_average_time_series_ip = E_spatial_average_time_series.assign_coords(intp = ('time',inertial_period.data))\n"
   ]
  },
  {
   "cell_type": "code",
   "execution_count": null,
   "metadata": {},
   "outputs": [],
   "source": [
    "KE_turb = ocean_data.k #.mean(dim=['xC','yC','zC']) # .sel(zC=np.arange(0,h+dh,dh)\n",
    "seconds = KE_turb.time/pd.Timedelta(\"1s\")\n",
    "inertial_period = KE_turb.time/pd.Timedelta(\"1s\")*(fstar)/(2*np.pi)\n",
    "KE_turb_ip = KE_turb.assign_coords(intp = ('time',inertial_period.data))\n",
    "KE_turb_ip = KE_turb_ip.assign_coords(sec = ('time',seconds.data))\n",
    "dkdt = KE_turb_ip.differentiate(coord='sec',edge_order=-1)"
   ]
  },
  {
   "cell_type": "code",
   "execution_count": null,
   "metadata": {},
   "outputs": [],
   "source": [
    "# Plot the TKE terms over a single inertial period normalized to TKE\n",
    "ts2 = 2000\n",
    "tf2 = 2801\n",
    "sum = dkdt[ts2:tf2]-AGSP_spatial_average_time_series_ip.values[ts2:tf2]-WSP_spatial_average_time_series_ip.values[ts2:tf2]-GSP_spatial_average_time_series_ip.values[ts2:tf2]-BFLUX_spatial_average_time_series_ip.values[ts2:tf2] +E_spatial_average_time_series_ip.values[ts2:tf2] #+PWORK_spatial_average_time_series_ip.values[ts2:tf2] #+KTRANS_spatial_average_time_series_ip.values[ts2:tf2]+PWORK_spatial_average_time_series_ip.values[ts2:tf2]\n",
    "plt.plot(dkdt.intp[ts2:tf2],dkdt[ts2:tf2]/(KE_turb_ip[ts2:tf2]*fstar),color=\"k\",label='$\\dfrac{1}{k}\\dfrac{\\partial k}{\\partial t}$')\n",
    "plt.plot(AGSP_spatial_average_time_series_ip.intp[ts2:tf2],AGSP_spatial_average_time_series_ip.values[ts2:tf2]/(KE_turb_ip.values[ts2:tf2]*fstar),color='red',label='AGSP/k')\n",
    "plt.plot(GSP_spatial_average_time_series_ip.intp[ts2:tf2],GSP_spatial_average_time_series_ip.values[ts2:tf2]/(KE_turb_ip.values[ts2:tf2]*fstar),color='green',label='GSP/k')\n",
    "plt.plot(WSP_spatial_average_time_series_ip.intp[ts2:tf2],WSP_spatial_average_time_series_ip.values[ts2:tf2]/(KE_turb_ip.values[ts2:tf2]*fstar),color='cyan',label='WSP/k')\n",
    "plt.plot(BFLUX_spatial_average_time_series_ip.intp[ts2:tf2],BFLUX_spatial_average_time_series_ip.values[ts2:tf2]/(KE_turb_ip.values[ts2:tf2]*fstar),color='blue',label='BFLUX/k')\n",
    "plt.plot(E_spatial_average_time_series_ip.intp[ts2:tf2],-1*E_spatial_average_time_series_ip.values[ts2:tf2]/(KE_turb_ip.values[ts2:tf2]*fstar),color='pink',label='$-\\epsilon/k$')\n",
    "plt.plot(dkdt.intp[ts2:tf2],sum.values/(KE_turb_ip[ts2:tf2]*fstar),color=\"k\",linestyle=\"--\", label=\"Residual/k\")\n",
    "plt.ylabel(\"TKE growth rate/$f^*$\")\n",
    "plt.legend(loc=\"lower left\",prop={'size':9},ncol=4,handlelength=1) \n",
    "plt.show()"
   ]
  },
  {
   "cell_type": "code",
   "execution_count": null,
   "metadata": {},
   "outputs": [],
   "source": [
    "# Calculate non-normalized TKE\n",
    "ts = 2000\n",
    "tf = 2801 \n",
    "plt.plot(dkdt.intp[ts:tf],dkdt[ts:tf],color=\"k\",label='$\\dfrac{\\partial k}{\\partial t}$')\n",
    "plt.plot(AGSP_spatial_average_time_series_ip.intp[ts:tf],AGSP_spatial_average_time_series_ip.values[ts:tf],color='red',label='AGSP')\n",
    "plt.plot(GSP_spatial_average_time_series_ip.intp[ts:tf],GSP_spatial_average_time_series_ip.values[ts:tf],color='green',label='GSP')\n",
    "plt.plot(WSP_spatial_average_time_series_ip.intp[ts:tf],WSP_spatial_average_time_series_ip.values[ts:tf],color='cyan',label='WSP')\n",
    "plt.plot(BFLUX_spatial_average_time_series_ip.intp[ts:tf],BFLUX_spatial_average_time_series_ip.values[ts:tf],color='blue',label='BFLUX')\n",
    "# plt.plot(BFLUX_spatial_average_time_series_ip.intp[ts:tf],BFLUX_spatial_average_time_series_ip.values[ts:tf]+GSP_spatial_average_time_series_ip.values[ts:tf],color='grey',label='BFLUX+GSP')\n",
    "plt.plot(E_spatial_average_time_series_ip.intp[ts:tf],-1*E_spatial_average_time_series_ip.values[ts:tf],color='pink',label='$-\\epsilon$')\n",
    "# plt.plot(DIFF_spatial_average_time_series_ip.intp[ts:tf],-1*DIFF_spatial_average_time_series_ip.values[ts:tf],color='orange',label=\"DIFF/k\")\n",
    "# plt.plot(E_spatial_average_time_series_ip.intp[ts:tf],-1*E_spatial_average_time_series_ip.values[ts:tf]+dkdt[ts:tf],color='pink',label='$-\\epsilon$')\n",
    "# plt.plot(PWORK_spatial_average_time_series_ip.intp[ts:tf],-1*PWORK_spatial_average_time_series_ip.values[ts:tf],color='orange',label=\"PWORK/k\")\n",
    "sum = dkdt[ts:tf]-AGSP_spatial_average_time_series_ip.values[ts:tf]-WSP_spatial_average_time_series_ip.values[ts:tf]-GSP_spatial_average_time_series_ip.values[ts:tf]-BFLUX_spatial_average_time_series_ip.values[ts:tf]+E_spatial_average_time_series_ip.values[ts:tf]\n",
    "plt.plot(dkdt.intp[ts:tf],sum.values,color=\"k\",linestyle=\"--\", label=\"Residual/k\")\n",
    "# plt.axhline(color=\"violet\")\n",
    "# plt.yscale(\"symlog\",linthresh=1e-16)\n",
    "plt.xlabel(\"$t\\dfrac{f^*}{2\\pi}$\")\n",
    "plt.ylabel(\"TKE growth rate\")\n",
    "plt.title(\"Non-normalized TKE Terms\")\n",
    "plt.legend(loc='lower left')\n",
    "# plt.yscale(\"symlog\",linthresh=1e-14)\n",
    "plt.figure(figsize=(12,5))\n",
    "# plt.savefig(\"TKE_time_terms.pdf\")\n",
    "plt.show()"
   ]
  },
  {
   "cell_type": "code",
   "execution_count": null,
   "metadata": {},
   "outputs": [],
   "source": [
    "# PLot the non-normalized residual\n",
    "sum = dkdt[ts:tf]-AGSP_spatial_average_time_series_ip.values[ts:tf]-WSP_spatial_average_time_series_ip.values[ts:tf]-GSP_spatial_average_time_series_ip.values[ts:tf]-BFLUX_spatial_average_time_series_ip.values[ts:tf]+E_spatial_average_time_series_ip.values[ts:tf] #+PWORK_spatial_average_time_series_ip.values[ts:tf]\n",
    "plt.plot(sum.intp,sum.values,color=\"k\")\n",
    "plt.axhline(color=\"violet\")\n",
    "plt.xlabel(\"$t\\dfrac{f^*}{2\\pi}$\")\n",
    "plt.ylabel(\"Residual of the TKE\")\n",
    "plt.title(\"Residual of TKE Terms\")\n",
    "# plt.legend(loc='lower left')\n",
    "plt.figure(figsize=(12,5))\n",
    "# plt.savefig(\"TKE_time_terms.pdf\")\n",
    "plt.show()"
   ]
  },
  {
   "cell_type": "markdown",
   "metadata": {},
   "source": [
    "Below we calculate the integrated TKE budget"
   ]
  },
  {
   "cell_type": "code",
   "execution_count": null,
   "metadata": {},
   "outputs": [],
   "source": [
    "seconds = GSP_spatial_average_time_series_ip.time/pd.Timedelta(\"1s\")\n",
    "AGSP_spatial_average_time_series_ip = AGSP_spatial_average_time_series_ip.assign_coords(sec = ('time',seconds.data))\n",
    "integrated_AGSP = (AGSP_spatial_average_time_series_ip.isel(time=slice(0,-1))).cumulative_integrate(coord=\"sec\")"
   ]
  },
  {
   "cell_type": "code",
   "execution_count": null,
   "metadata": {},
   "outputs": [],
   "source": [
    "seconds = WSP_spatial_average_time_series_ip.time/pd.Timedelta(\"1s\")\n",
    "WSP_spatial_average_time_series_ip = WSP_spatial_average_time_series_ip.assign_coords(sec = ('time',seconds.data))\n",
    "integrated_WSP = (WSP_spatial_average_time_series_ip.isel(time=slice(0,-1))).cumulative_integrate(coord=\"sec\")"
   ]
  },
  {
   "cell_type": "code",
   "execution_count": null,
   "metadata": {},
   "outputs": [],
   "source": [
    "seconds = GSP_spatial_average_time_series_ip.time/pd.Timedelta(\"1s\")\n",
    "GSP_spatial_average_time_series_ip = GSP_spatial_average_time_series_ip.assign_coords(sec = ('time',seconds.data))\n",
    "integrated_GSP = (GSP_spatial_average_time_series_ip.isel(time=slice(0,-1))).cumulative_integrate(coord=\"sec\")"
   ]
  },
  {
   "cell_type": "code",
   "execution_count": null,
   "metadata": {},
   "outputs": [],
   "source": [
    "seconds = BFLUX_spatial_average_time_series_ip.time/pd.Timedelta(\"1s\")\n",
    "BFLUX_spatial_average_time_series_ip = BFLUX_spatial_average_time_series_ip.assign_coords(sec = ('time',seconds.data))\n",
    "integrated_BFLUX = (BFLUX_spatial_average_time_series_ip.isel(time=slice(0,-1))).cumulative_integrate(coord=\"sec\")"
   ]
  },
  {
   "cell_type": "code",
   "execution_count": null,
   "metadata": {},
   "outputs": [],
   "source": [
    "seconds = E_spatial_average_time_series_ip.time/pd.Timedelta(\"1s\")\n",
    "E_spatial_average_time_series_ip = E_spatial_average_time_series_ip.assign_coords(sec = ('time',seconds.data))\n",
    "integrated_E = (-1*E_spatial_average_time_series_ip.isel(time=slice(0,-1))).cumulative_integrate(coord=\"sec\")"
   ]
  },
  {
   "cell_type": "code",
   "execution_count": null,
   "metadata": {},
   "outputs": [],
   "source": [
    "KE_turb = ocean_data.k *((fstar)/(2*np.pi))**(2) #.mean(dim=['xC','yC','zC']) # .sel(zC=np.arange(0,h+dh,dh)\n",
    "seconds = KE_turb.time/pd.Timedelta(\"1s\")\n",
    "inertial_period = KE_turb.time/pd.Timedelta(\"1s\")*(fstar)/(2*np.pi)\n",
    "KE_turb_ip = KE_turb.assign_coords(intp = ('time',inertial_period.data))\n",
    "KE_turb_ip = KE_turb_ip.assign_coords(sec = ('time',seconds.data))\n",
    "KE_turb_ip = KE_spatial_average_time_series_ip-KE_spatial_average_time_series_ip.isel(time=0)"
   ]
  },
  {
   "cell_type": "code",
   "execution_count": null,
   "metadata": {},
   "outputs": [],
   "source": [
    "# Plot the integrated TKE terms\n",
    "start = 0 \n",
    "end = -1\n",
    "sum = KE_spatial_average_time_series_ip-integrated_AGSP-integrated_GSP-integrated_WSP-integrated_BFLUX-integrated_E #-integrated_DIFF\n",
    "plt.figure(figsize=(7,5))\n",
    "plt.plot(KE_spatial_average_time_series_ip.intp[start:end],KE_spatial_average_time_series_ip[start:end]-KE_spatial_average_time_series_ip[start],label=\"$k$\",color=\"k\")\n",
    "plt.plot(integrated_AGSP.intp[start:end],integrated_AGSP[start:end]-integrated_AGSP[start],label=\"$\\int_0^tASP\\,dt'$\",color=\"red\")\n",
    "plt.plot(integrated_GSP.intp[start:end],integrated_GSP[start:end]-integrated_GSP[start],label=\"$\\int_0^tGSP\\,dt'$\",color=\"green\")\n",
    "plt.plot(integrated_WSP.intp[start:end],integrated_WSP[start:end]-integrated_WSP[start],label=\"$\\int_0^tWSP\\,dt'$\",color=\"cyan\")\n",
    "plt.plot(integrated_BFLUX.intp[start:end],integrated_BFLUX[start:end]-integrated_BFLUX[start],label=\"$\\int_0^tBP\\,dt'$\",color=\"blue\")\n",
    "plt.plot(integrated_E.intp[start:end],integrated_E[start:end]-integrated_E[start],label=\"$-\\int_0^t\\epsilon\\,dt'$\",color=\"pink\")\n",
    "plt.plot(sum.intp[start:end],sum[start:end]-sum[start],label=\"Residual\",color=\"grey\",alpha=0.9)\n",
    "plt.xlabel(\"Modified Inertial Period\")\n",
    "plt.ylabel(r\"k $(m^2 s^{-2})$\")\n",
    "plt.yscale(\"symlog\",linthresh=1e-16)\n",
    "# plt.yticks([1e-12,-1e-12,1e-10,-1e-10,1e-8,-1e-8,1e-6,-1e-6,1e-4,-1e-4])\n",
    "plt.legend(loc=\"lower left\",prop={'size':7.5},ncol=2,handlelength=0.5)\n",
    "plt.xlim([KE_spatial_average_time_series_ip.intp[start]-0.01,KE_spatial_average_time_series_ip.intp[end]+0.01])\n",
    "# plt.ylim([-5e-4,5e-4])\n",
    "\n",
    "# plt.savefig(\"S_1_0_gamma_l_delta_0_5_time_integrated_TKE_terms_linthresh_1_e_12.pdf\")\n",
    "\n",
    "plt.show()"
   ]
  },
  {
   "cell_type": "code",
   "execution_count": null,
   "metadata": {},
   "outputs": [],
   "source": [
    "# Plot the residual\n",
    "plt.plot(sum.intp,sum)\n",
    "plt.title(\"Residual of Turbulent Kinetic Energy\")\n",
    "plt.xlabel(\"$t\\dfrac{f^*}{2\\pi}$\")\n",
    "plt.ylabel(\"Residual\")"
   ]
  },
  {
   "cell_type": "code",
   "execution_count": null,
   "metadata": {},
   "outputs": [],
   "source": []
  }
 ],
 "metadata": {
  "kernelspec": {
   "display_name": "Python 3 (ipykernel)",
   "language": "python",
   "name": "python3"
  },
  "language_info": {
   "codemirror_mode": {
    "name": "ipython",
    "version": 3
   },
   "file_extension": ".py",
   "mimetype": "text/x-python",
   "name": "python",
   "nbconvert_exporter": "python",
   "pygments_lexer": "ipython3",
   "version": "3.10.13"
  }
 },
 "nbformat": 4,
 "nbformat_minor": 4
}
