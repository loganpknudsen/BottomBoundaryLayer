{
 "cells": [
  {
   "cell_type": "code",
   "execution_count": null,
   "metadata": {},
   "outputs": [],
   "source": [
    "import xarray as xr\n",
    "import numpy as np\n",
    "import matplotlib.pyplot as plt\n",
    "import pandas as pd\n",
    "import scipy as sc"
   ]
  },
  {
   "cell_type": "code",
   "execution_count": null,
   "metadata": {},
   "outputs": [],
   "source": [
    "# file _height_89.38331984271203_interior_velocity_0.2_visc_1.0e-5_Sinf_1.3806802438147472_gamma_0.5124841097586215_theta_2.5_f_0.0001_N2_1.0e-5.nc"
   ]
  },
  {
   "cell_type": "code",
   "execution_count": null,
   "metadata": {},
   "outputs": [],
   "source": [
    "file = \"/paper_data/TKE_terms_height_47.410917897935775_theta_1.8113_stratification_1.0e-5_interior_velocity_0.1_visc_0.0001_Sinf_1.0000574057737353_gamma_0.6669744096466519_f_0.0001.nc\"\n",
    "# file = \"TKE_terms_height_89.38331984271203_interior_velocity_0.2_visc_1.0e-5_Sinf_1.3806802438147472_gamma_0.5124841097586215_theta_2.5_f_0.0001_N2_1.0e-5.nc\"\n",
    "\n",
    "ocean_data=xr.open_dataset(\"/glade/derecho/scratch/knudsenl/data/new_data/\"+file)#.isel(time=slice(0,4000)) #i=103\n",
    "# file2 = f\"flow_fields_height_{h}_theta_{theta}_stratification_{N2}_interior_velocity_{Vinf}_delta_{delta}_bo_{bo}.nc\"\n",
    "# ocean_data2=xr.open_dataset(\"/glade/derecho/scratch/knudsenl/data/\"+file2)#.isel(time=slice(0,4000)) #i=103"
   ]
  },
  {
   "cell_type": "code",
   "execution_count": null,
   "metadata": {},
   "outputs": [],
   "source": [
    "theta = 1.8113\n",
    "N2 = 1e-5\n",
    "Vinf1 = 0.1\n",
    "Vinf = str(Vinf1)\n",
    "f = 10**(-4)\n",
    "fstar = np.cos(theta*np.pi/180)*(1e-8+np.tan(theta*np.pi/180)**2*N2)**(0.5)"
   ]
  },
  {
   "cell_type": "code",
   "execution_count": null,
   "metadata": {},
   "outputs": [],
   "source": [
    "KE_spatial_average_time_series = ocean_data.k #.sel(zC=np.arange(0,h+dh,dh),method=\"nearest\")\n",
    "inertial_period = (KE_spatial_average_time_series.time/pd.Timedelta(\"1s\"))*(fstar/(2*np.pi))\n",
    "KE_spatial_average_time_series_ip = KE_spatial_average_time_series.assign_coords(intp = ('time',inertial_period.data))\n",
    "seconds = KE_spatial_average_time_series.time/pd.Timedelta(\"1s\")"
   ]
  },
  {
   "cell_type": "code",
   "execution_count": null,
   "metadata": {},
   "outputs": [],
   "source": [
    "KE_spatial_average_time_series_ip.intp[-1]"
   ]
  },
  {
   "cell_type": "code",
   "execution_count": null,
   "metadata": {},
   "outputs": [],
   "source": [
    "plt.plot(KE_spatial_average_time_series_ip.intp[:],KE_spatial_average_time_series_ip.values[:]/KE_spatial_average_time_series_ip.values[0])\n",
    "plt.title(\"Perturbation kinetic energy over time\")\n",
    "plt.ylabel('$k$/$k_5$')\n",
    "plt.xlabel('$tf^*/2\\pi$')\n",
    "plt.yscale('log')\n",
    "plt.savefig(\"PKEplot.png\")\n",
    "plt.show()"
   ]
  },
  {
   "cell_type": "code",
   "execution_count": null,
   "metadata": {},
   "outputs": [],
   "source": [
    "ts = 0\n",
    "tf = -1# 2370\n",
    "plt.plot(KE_spatial_average_time_series_ip.intp[ts:tf],KE_spatial_average_time_series_ip.values[ts:tf]/KE_spatial_average_time_series_ip.values[ts])\n",
    "# plt.title(\"Pertubation Kinetic Energy During Linear Phase\")\n",
    "plt.ylabel('$k$/$k_{10}$')\n",
    "plt.xlabel('$tf^*/(2\\pi)$')\n",
    "plt.yscale('log')\n",
    "# plt.savefig(\"linear_phase_plot.png\")\n",
    "plt.show()"
   ]
  },
  {
   "cell_type": "code",
   "execution_count": null,
   "metadata": {},
   "outputs": [],
   "source": [
    "KE_spatial_average_time_series_ip.intp[tf]"
   ]
  },
  {
   "cell_type": "code",
   "execution_count": null,
   "metadata": {},
   "outputs": [],
   "source": [
    "lr = sc.stats.linregress(x=seconds[ts:tf],y=np.log(KE_spatial_average_time_series_ip.values[ts:tf]/KE_spatial_average_time_series_ip.values[ts]))\n",
    "lr"
   ]
  },
  {
   "cell_type": "code",
   "execution_count": null,
   "metadata": {},
   "outputs": [],
   "source": [
    "grwthrate = lr.slope\n",
    "grwthrate = np.round(grwthrate,7)\n",
    "grwthrt = str(grwthrate)\n",
    "print(f\"The growth rate of the linear phase is {grwthrate} $m^2 s^-3$\")"
   ]
  },
  {
   "cell_type": "code",
   "execution_count": null,
   "metadata": {},
   "outputs": [],
   "source": [
    "np.log(np.exp(1))"
   ]
  },
  {
   "cell_type": "code",
   "execution_count": null,
   "metadata": {},
   "outputs": [],
   "source": [
    "plt.plot(KE_spatial_average_time_series_ip.intp[ts:tf],KE_spatial_average_time_series_ip.values[ts:tf]/KE_spatial_average_time_series_ip.values[ts],label=\"TKE\")\n",
    "plt.plot(seconds[ts:tf]*fstar/(2*np.pi),np.exp(lr.slope*seconds[ts:tf]+lr.intercept),label=\"Linear Regression Fit\")\n",
    "plt.title(\"Linear Phase: Slope \"+grwthrt+\" $m^2 s^{-3}$\")\n",
    "plt.ylabel('$k$/$k_5$')\n",
    "plt.xlabel('$t\\dfrac{f^*}{2\\pi}$')\n",
    "plt.legend()\n",
    "plt.yscale('log')\n",
    "plt.show()"
   ]
  },
  {
   "cell_type": "code",
   "execution_count": null,
   "metadata": {},
   "outputs": [],
   "source": [
    "AGSP_spatial_average_time_series = ocean_data.AGSP # .sel(zC=np.arange(0,h+dh,dh),method=\"nearest\")\n",
    "inertial_period = AGSP_spatial_average_time_series.time/pd.Timedelta(\"1s\")*(fstar)/(2*np.pi)\n",
    "AGSP_spatial_average_time_series_ip = AGSP_spatial_average_time_series.assign_coords(intp = ('time',inertial_period.data))\n"
   ]
  },
  {
   "cell_type": "code",
   "execution_count": null,
   "metadata": {},
   "outputs": [],
   "source": [
    "plt.plot(AGSP_spatial_average_time_series_ip.intp[-400:-1],AGSP_spatial_average_time_series_ip.values[-400:-1]/KE_spatial_average_time_series_ip.values[-400:-1])\n",
    "plt.ylabel('$k$/$k_0$')\n",
    "plt.xlabel('$t$')\n",
    "# plt.yscale('log')\n",
    "plt.show()"
   ]
  },
  {
   "cell_type": "code",
   "execution_count": null,
   "metadata": {},
   "outputs": [],
   "source": [
    "WSP_spatial_average_time_series = ocean_data.WSP #.mean(dim=['xC','yC','zC']) # sel(zC=np.arange(0,h+dh,dh),method=\"nearest\")\n",
    "inertial_period = WSP_spatial_average_time_series.time/pd.Timedelta(\"1s\")*(fstar)/(2*np.pi)\n",
    "WSP_spatial_average_time_series_ip = WSP_spatial_average_time_series.assign_coords(intp = ('time',inertial_period.data))"
   ]
  },
  {
   "cell_type": "code",
   "execution_count": null,
   "metadata": {},
   "outputs": [],
   "source": [
    "plt.plot(WSP_spatial_average_time_series_ip.intp[100:140],WSP_spatial_average_time_series_ip.values[100:140]/KE_spatial_average_time_series_ip.values[100:140])\n",
    "plt.ylabel('$k$/$k_0$')\n",
    "plt.xlabel('$t$')\n",
    "# plt.yscale('log')\n",
    "plt.show()"
   ]
  },
  {
   "cell_type": "code",
   "execution_count": null,
   "metadata": {},
   "outputs": [],
   "source": [
    "GSP_spatial_average_time_series = ocean_data.GSP #.mean(dim=['xC','yC','zC']) # sel(zC=np.arange(0,h+dh,dh),method=\"nearest\").\n",
    "inertial_period = GSP_spatial_average_time_series.time/pd.Timedelta(\"1s\")*(fstar)/(2*np.pi)\n",
    "GSP_spatial_average_time_series_ip = GSP_spatial_average_time_series.assign_coords(intp = ('time',inertial_period.data))\n"
   ]
  },
  {
   "cell_type": "code",
   "execution_count": null,
   "metadata": {},
   "outputs": [],
   "source": [
    "plt.plot(GSP_spatial_average_time_series_ip.intp[100:140],GSP_spatial_average_time_series_ip.values[100:140]/KE_spatial_average_time_series_ip.values[100:140])\n",
    "plt.ylabel('$k$/$k_0$')\n",
    "plt.xlabel('$t$')\n",
    "# plt.yscale('log')\n",
    "plt.show()"
   ]
  },
  {
   "cell_type": "code",
   "execution_count": null,
   "metadata": {},
   "outputs": [],
   "source": [
    "BFLUX_spatial_average_time_series = ocean_data.BFLUX #.mean(dim=['xC','yC','zC']) # .sel(zC=np.arange(0,h+dh,dh),method=\"nearest\")\n",
    "inertial_period = BFLUX_spatial_average_time_series.time/pd.Timedelta(\"1s\")*(fstar)/(2*np.pi)\n",
    "BFLUX_spatial_average_time_series_ip = BFLUX_spatial_average_time_series.assign_coords(intp = ('time',inertial_period.data))\n"
   ]
  },
  {
   "cell_type": "code",
   "execution_count": null,
   "metadata": {},
   "outputs": [],
   "source": [
    "plt.plot(BFLUX_spatial_average_time_series_ip.intp[100:140],BFLUX_spatial_average_time_series_ip.values[100:140]/KE_spatial_average_time_series_ip.values[100:140])\n",
    "plt.ylabel('$k$/$k_0$')\n",
    "plt.xlabel('$t$')\n",
    "# plt.yscale('log')\n",
    "plt.show()"
   ]
  },
  {
   "cell_type": "code",
   "execution_count": null,
   "metadata": {},
   "outputs": [],
   "source": [
    "E_spatial_average_time_series = ocean_data.E #.mean(dim=['xC','yC','zC']) # .sel(zC=np.arange(0,h+dh,dh),method=\"nearest\")\n",
    "inertial_period = E_spatial_average_time_series.time/pd.Timedelta(\"1s\")*(fstar)/(2*np.pi)\n",
    "E_spatial_average_time_series_ip = E_spatial_average_time_series.assign_coords(intp = ('time',inertial_period.data))\n"
   ]
  },
  {
   "cell_type": "code",
   "execution_count": null,
   "metadata": {},
   "outputs": [],
   "source": [
    "ocean_data.E"
   ]
  },
  {
   "cell_type": "code",
   "execution_count": null,
   "metadata": {
    "scrolled": true
   },
   "outputs": [],
   "source": [
    "plt.plot(E_spatial_average_time_series_ip.intp,-1*E_spatial_average_time_series_ip.values/KE_spatial_average_time_series_ip.values)\n",
    "plt.ylabel('$k$/$k_0$')\n",
    "plt.xlabel('$t$')\n",
    "# plt.yscale('log')\n",
    "plt.show()"
   ]
  },
  {
   "cell_type": "code",
   "execution_count": null,
   "metadata": {},
   "outputs": [],
   "source": [
    "PWORK_spatial_average_time_series = ocean_data.PWORK #.isel(time=slice(ts,tf)) #.mean(dim=['xC','yC','zC']) # .sel(zC=np.arange(0,h+dh,dh),method=\"nearest\")\n",
    "inertial_period = PWORK_spatial_average_time_series.time/pd.Timedelta(\"1s\")*(fstar)/(2*np.pi)\n",
    "PWORK_spatial_average_time_series_ip = PWORK_spatial_average_time_series.assign_coords(intp = ('time',inertial_period.data))"
   ]
  },
  {
   "cell_type": "code",
   "execution_count": null,
   "metadata": {},
   "outputs": [],
   "source": [
    "PWORK_spatial_average_time_series_ip.plot()"
   ]
  },
  {
   "cell_type": "code",
   "execution_count": null,
   "metadata": {},
   "outputs": [],
   "source": [
    "ADV_spatial_average_time_series = ocean_data.ADV #.isel(time=slice(ts,tf)) #.mean(dim=['xC','yC','zC']) # .sel(zC=np.arange(0,h+dh,dh),method=\"nearest\")\n",
    "inertial_period = ADV_spatial_average_time_series.time/pd.Timedelta(\"1s\")*(fstar)/(2*np.pi)\n",
    "ADV_spatial_average_time_series_ip = ADV_spatial_average_time_series.assign_coords(intp = ('time',inertial_period.data))"
   ]
  },
  {
   "cell_type": "code",
   "execution_count": null,
   "metadata": {},
   "outputs": [],
   "source": [
    "ADV_spatial_average_time_series_ip.plot()"
   ]
  },
  {
   "cell_type": "code",
   "execution_count": null,
   "metadata": {},
   "outputs": [],
   "source": [
    "# DIFF_spatial_average_time_series = ocean_data.DIFF #.isel(time=slice(ts,tf)) #.mean(dim=['xC','yC','zC']) # .sel(zC=np.arange(0,h+dh,dh),method=\"nearest\")\n",
    "# inertial_period = DIFF_spatial_average_time_series.time/pd.Timedelta(\"1s\")*(fstar)/(2*np.pi)\n",
    "# DIFF_spatial_average_time_series_ip = DIFF_spatial_average_time_series.assign_coords(intp = ('time',inertial_period.data))"
   ]
  },
  {
   "cell_type": "code",
   "execution_count": null,
   "metadata": {},
   "outputs": [],
   "source": [
    "# DIFF_spatial_average_time_series_ip.plot()"
   ]
  },
  {
   "cell_type": "code",
   "execution_count": null,
   "metadata": {},
   "outputs": [],
   "source": [
    "# plt.plot(PWORK_spatial_average_time_series_ip.intp[-400:-1],PWORK_spatial_average_time_series_ip.values[-400:-1])\n",
    "# # plt.ylabel('$k$/$k_0$')\n",
    "# # plt.xlabel('$t$')\n",
    "# plt.yscale('symlog')\n",
    "# # plt.show()"
   ]
  },
  {
   "cell_type": "code",
   "execution_count": null,
   "metadata": {},
   "outputs": [],
   "source": []
  },
  {
   "cell_type": "code",
   "execution_count": null,
   "metadata": {},
   "outputs": [],
   "source": [
    "KE_turb = ocean_data.k #.mean(dim=['xC','yC','zC']) # .sel(zC=np.arange(0,h+dh,dh)\n",
    "seconds = KE_turb.time/pd.Timedelta(\"1s\")\n",
    "inertial_period = KE_turb.time/pd.Timedelta(\"1s\")*(fstar)/(2*np.pi)\n",
    "KE_turb_ip = KE_turb.assign_coords(intp = ('time',inertial_period.data))\n",
    "KE_turb_ip = KE_turb_ip.assign_coords(sec = ('time',seconds.data))\n",
    "# seconds = KE_spatial_average_time_series.time/pd.Timedelta(\"1s\")\n",
    "# inertial_period = KE_spatial_average_time_series.time/pd.Timedelta(\"1s\")*(1e-4)/(2*np.pi)\n",
    "# KE_spatial_average_time_series_s= KE_spatial_average_time_series.assign_coords(sec = ('time',seconds.data))\n",
    "# KE_spatial_average_time_series_intp = KE_spatial_average_time_series.assign_coords(intp = ('time',inertial_period.data))\n",
    "dkdt = KE_turb_ip.differentiate(coord='sec',edge_order=2)\n",
    "# np.gradient(KE_spatial_average_time_series_ip,KE_spatial_average_time_series_ip.time)\n",
    "# plt.plot(inertial_period[100:140],dkdt[100:140]/KE_spatial_average_time_series[100:140])\n"
   ]
  },
  {
   "cell_type": "markdown",
   "metadata": {},
   "source": []
  },
  {
   "cell_type": "code",
   "execution_count": null,
   "metadata": {},
   "outputs": [],
   "source": [
    "# ocean_data.BFLUX.isel(time =500,zC=slice(0,62)).plot()"
   ]
  },
  {
   "cell_type": "code",
   "execution_count": null,
   "metadata": {},
   "outputs": [],
   "source": [
    "ts2 = 6000 #3400 # -650 # 1980 \n",
    "tf2 = 6801 # -340 # 2370\n",
    "sum = dkdt[ts2:tf2]-AGSP_spatial_average_time_series_ip.values[ts2:tf2]-WSP_spatial_average_time_series_ip.values[ts2:tf2]-GSP_spatial_average_time_series_ip.values[ts2:tf2]-BFLUX_spatial_average_time_series_ip.values[ts2:tf2] +E_spatial_average_time_series_ip.values[ts2:tf2] +PWORK_spatial_average_time_series_ip.values[ts2:tf2] #+KTRANS_spatial_average_time_series_ip.values[ts2:tf2]+PWORK_spatial_average_time_series_ip.values[ts2:tf2]\n",
    "plt.plot(dkdt.intp[ts2:tf2],dkdt[ts2:tf2]/(KE_turb_ip[ts2:tf2]*fstar),color=\"k\",label='$\\dfrac{1}{k}\\dfrac{\\partial k}{\\partial t}$')\n",
    "plt.plot(AGSP_spatial_average_time_series_ip.intp[ts2:tf2],AGSP_spatial_average_time_series_ip.values[ts2:tf2]/(KE_turb_ip.values[ts2:tf2]*fstar),color='red',label='AGSP/k')\n",
    "plt.plot(GSP_spatial_average_time_series_ip.intp[ts2:tf2],GSP_spatial_average_time_series_ip.values[ts2:tf2]/(KE_turb_ip.values[ts2:tf2]*fstar),color='green',label='GSP/k')\n",
    "plt.plot(WSP_spatial_average_time_series_ip.intp[ts2:tf2],WSP_spatial_average_time_series_ip.values[ts2:tf2]/(KE_turb_ip.values[ts2:tf2]*fstar),color='cyan',label='WSP/k')\n",
    "plt.plot(BFLUX_spatial_average_time_series_ip.intp[ts2:tf2],BFLUX_spatial_average_time_series_ip.values[ts2:tf2]/(KE_turb_ip.values[ts2:tf2]*fstar),color='blue',label='BFLUX/k')\n",
    "# plt.plot(BFLUX_spatial_average_time_series_ip.intp[ts2:tf2],(BFLUX_spatial_average_time_series_ip.values[ts2:tf2]+GSP_spatial_average_time_series_ip.values[ts2:tf2])/(KE_turb_ip.values[ts2:tf2]*fstar),color='k',label='BFLUX/k')\n",
    "plt.plot(E_spatial_average_time_series_ip.intp[ts2:tf2],-1*E_spatial_average_time_series_ip.values[ts2:tf2]/(KE_turb_ip.values[ts2:tf2]*fstar),color='pink',label='$-\\epsilon/k$')\n",
    "plt.plot(dkdt.intp[ts2:tf2],sum.values/(KE_turb_ip[ts2:tf2]*fstar),color=\"k\",linestyle=\"--\", label=\"Residual/k\")\n",
    "plt.plot(PWORK_spatial_average_time_series_ip.intp[ts2:tf2],-1*PWORK_spatial_average_time_series_ip.values[ts2:tf2]/(KE_turb_ip.values[ts2:tf2]*fstar),color='yellow',label=\"PWORK/k\")\n",
    "plt.plot(ADV_spatial_average_time_series_ip.intp[ts2:tf2],-1*ADV_spatial_average_time_series_ip.values[ts2:tf2]/(KE_turb_ip.values[ts2:tf2]*fstar),color='magenta',label=\"ADV/k\")\n",
    "# plt.plot(DIFF_spatial_average_time_series_ip.intp[ts2:tf2],-1*DIFF_spatial_average_time_series_ip.values[ts2:tf2]/(KE_turb_ip.values[ts2:tf2]*fstar),color='orange',label=\"DIFF/k\")\n",
    "plt.ylabel(\"TKE growth rate/$f^*$\")\n",
    "# plt.title(\"Normalized TKE Terms\")\n",
    "# plt.xlim([dkdt.intp[ts2],dkdt.intp[-1]])\n",
    "# plt.ylim([-1,1])\n",
    "plt.legend(loc=\"lower left\",prop={'size':9},ncol=4,handlelength=1) # handlelength=0.7\n",
    "# plt.xticks([])\n",
    "# plt.figure(figsize=(12,8))\n",
    "# plt.text(9.4,1,\"(a.)\", ha=\"left\",va=\"top\")\n",
    "# plt.gca().set_aspect(1.1)\n",
    "# plt.savefig(\"TKE_time_terms_S_0_160.png\")\n",
    "plt.show()"
   ]
  },
  {
   "cell_type": "code",
   "execution_count": null,
   "metadata": {},
   "outputs": [],
   "source": [
    "ts = 6000 #1800\n",
    "tf = 6801 #2200\n",
    "plt.plot(dkdt.intp[ts:tf],dkdt[ts:tf],color=\"k\",label='$\\dfrac{\\partial k}{\\partial t}$')\n",
    "plt.plot(AGSP_spatial_average_time_series_ip.intp[ts:tf],AGSP_spatial_average_time_series_ip.values[ts:tf],color='red',label='AGSP')\n",
    "plt.plot(GSP_spatial_average_time_series_ip.intp[ts:tf],GSP_spatial_average_time_series_ip.values[ts:tf],color='green',label='GSP')\n",
    "plt.plot(WSP_spatial_average_time_series_ip.intp[ts:tf],WSP_spatial_average_time_series_ip.values[ts:tf],color='cyan',label='WSP')\n",
    "plt.plot(BFLUX_spatial_average_time_series_ip.intp[ts:tf],BFLUX_spatial_average_time_series_ip.values[ts:tf],color='blue',label='BFLUX')\n",
    "# plt.plot(BFLUX_spatial_average_time_series_ip.intp[ts:tf],BFLUX_spatial_average_time_series_ip.values[ts:tf]+GSP_spatial_average_time_series_ip.values[ts:tf],color='grey',label='BFLUX+GSP')\n",
    "plt.plot(E_spatial_average_time_series_ip.intp[ts:tf],-1*E_spatial_average_time_series_ip.values[ts:tf],color='pink',label='$-\\epsilon$')\n",
    "# plt.plot(DIFF_spatial_average_time_series_ip.intp[ts:tf],-1*DIFF_spatial_average_time_series_ip.values[ts:tf],color='orange',label=\"DIFF/k\")\n",
    "# plt.plot(E_spatial_average_time_series_ip.intp[ts:tf],-1*E_spatial_average_time_series_ip.values[ts:tf]+dkdt[ts:tf],color='pink',label='$-\\epsilon$')\n",
    "plt.plot(PWORK_spatial_average_time_series_ip.intp[ts:tf],-1*PWORK_spatial_average_time_series_ip.values[ts:tf],color='orange',label=\"PWORK/k\")\n",
    "sum = dkdt[ts:tf]-AGSP_spatial_average_time_series_ip.values[ts:tf]-WSP_spatial_average_time_series_ip.values[ts:tf]-GSP_spatial_average_time_series_ip.values[ts:tf]-BFLUX_spatial_average_time_series_ip.values[ts:tf]+E_spatial_average_time_series_ip.values[ts:tf]\n",
    "plt.plot(dkdt.intp[ts:tf],sum.values,color=\"k\",linestyle=\"--\", label=\"Residual/k\")\n",
    "# plt.axhline(color=\"violet\")\n",
    "# plt.yscale(\"symlog\",linthresh=1e-16)\n",
    "plt.xlabel(\"$t\\dfrac{f^*}{2\\pi}$\")\n",
    "plt.ylabel(\"TKE growth rate\")\n",
    "plt.title(\"Non-normalized TKE Terms\")\n",
    "plt.legend(loc='lower left')\n",
    "# plt.yscale(\"symlog\",linthresh=1e-14)\n",
    "plt.figure(figsize=(12,5))\n",
    "# plt.savefig(\"TKE_time_terms.pdf\")\n",
    "plt.show()"
   ]
  },
  {
   "cell_type": "code",
   "execution_count": null,
   "metadata": {},
   "outputs": [],
   "source": [
    "sum = dkdt[ts:tf]-AGSP_spatial_average_time_series_ip.values[ts:tf]-WSP_spatial_average_time_series_ip.values[ts:tf]-GSP_spatial_average_time_series_ip.values[ts:tf]-BFLUX_spatial_average_time_series_ip.values[ts:tf]+PWORK_spatial_average_time_series_ip.values[ts:tf]+E_spatial_average_time_series_ip.values[ts:tf]\n",
    "plt.plot(sum.intp,sum.values,color=\"k\")\n",
    "plt.axhline(color=\"violet\")\n",
    "plt.xlabel(\"$t\\dfrac{f^*}{2\\pi}$\")\n",
    "plt.ylabel(\"Residual of the TKE\")\n",
    "plt.title(\"Residual of TKE Terms\")\n",
    "# plt.legend(loc='lower left')\n",
    "plt.figure(figsize=(12,5))\n",
    "# plt.savefig(\"TKE_time_terms.pdf\")\n",
    "plt.show()"
   ]
  },
  {
   "cell_type": "code",
   "execution_count": null,
   "metadata": {},
   "outputs": [],
   "source": [
    "# eps_spatial_average_time_series = ocean_data.E.mean(dim=['xC','yC','zC'])"
   ]
  },
  {
   "cell_type": "code",
   "execution_count": null,
   "metadata": {},
   "outputs": [],
   "source": [
    "# plt.plot(eps_spatial_average_time_series.time*(1e-4)/(2*np.pi),-1*eps_spatial_average_time_series.values)\n",
    "# plt.show()"
   ]
  },
  {
   "cell_type": "code",
   "execution_count": null,
   "metadata": {},
   "outputs": [],
   "source": [
    "AGSP_spatial_average_time_series_ip"
   ]
  },
  {
   "cell_type": "code",
   "execution_count": null,
   "metadata": {},
   "outputs": [],
   "source": [
    "AGSP_spatial_average_time_series_ip"
   ]
  },
  {
   "cell_type": "code",
   "execution_count": null,
   "metadata": {},
   "outputs": [],
   "source": [
    "seconds = GSP_spatial_average_time_series_ip.time/pd.Timedelta(\"1s\")\n",
    "AGSP_spatial_average_time_series_ip = AGSP_spatial_average_time_series_ip.assign_coords(sec = ('time',seconds.data))\n",
    "integrated_AGSP = (AGSP_spatial_average_time_series_ip.isel(time=slice(0,-1))).cumulative_integrate(coord=\"sec\")\n",
    "plt.plot(integrated_AGSP.intp,integrated_AGSP)\n",
    "plt.title(\"Time Integrated AGSP\")\n",
    "plt.xlabel(\"$t\\dfrac{2\\pi}{f}$\")\n",
    "plt.ylabel(\"k\")\n",
    "# plt.yscale('log')\n",
    "plt.show()"
   ]
  },
  {
   "cell_type": "code",
   "execution_count": null,
   "metadata": {},
   "outputs": [],
   "source": [
    "AGSP_spatial_average_time_series_ip.sec"
   ]
  },
  {
   "cell_type": "code",
   "execution_count": null,
   "metadata": {},
   "outputs": [],
   "source": [
    "seconds = WSP_spatial_average_time_series_ip.time/pd.Timedelta(\"1s\")\n",
    "WSP_spatial_average_time_series_ip = WSP_spatial_average_time_series_ip.assign_coords(sec = ('time',seconds.data))\n",
    "integrated_WSP = (WSP_spatial_average_time_series_ip.isel(time=slice(0,-1))).cumulative_integrate(coord=\"sec\")\n",
    "plt.plot(integrated_WSP.intp,integrated_WSP)\n",
    "plt.title(\"Time Integrated WSP\")\n",
    "plt.xlabel(\"$t\\dfrac{2\\pi}{f}$\")\n",
    "plt.ylabel(\"k\")\n",
    "# plt.yscale('log')\n",
    "plt.show()"
   ]
  },
  {
   "cell_type": "code",
   "execution_count": null,
   "metadata": {},
   "outputs": [],
   "source": [
    "seconds = GSP_spatial_average_time_series_ip.time/pd.Timedelta(\"1s\")\n",
    "GSP_spatial_average_time_series_ip = GSP_spatial_average_time_series_ip.assign_coords(sec = ('time',seconds.data))\n",
    "integrated_GSP = (GSP_spatial_average_time_series_ip.isel(time=slice(0,-1))).cumulative_integrate(coord=\"sec\")\n",
    "plt.plot(integrated_GSP.intp,integrated_GSP)\n",
    "plt.title(\"Time Integrated GSP\")\n",
    "plt.xlabel(\"$t\\dfrac{2\\pi}{f}$\")\n",
    "plt.ylabel(\"k\")\n",
    "# plt.yscale('log')\n",
    "plt.show()"
   ]
  },
  {
   "cell_type": "code",
   "execution_count": null,
   "metadata": {},
   "outputs": [],
   "source": [
    "seconds = BFLUX_spatial_average_time_series_ip.time/pd.Timedelta(\"1s\")\n",
    "BFLUX_spatial_average_time_series_ip = BFLUX_spatial_average_time_series_ip.assign_coords(sec = ('time',seconds.data))\n",
    "integrated_BFLUX = (BFLUX_spatial_average_time_series_ip.isel(time=slice(0,-1))).cumulative_integrate(coord=\"sec\")\n",
    "plt.plot(integrated_BFLUX.intp,integrated_BFLUX)\n",
    "plt.title(\"Time Integrated BFLUX\")\n",
    "plt.xlabel(\"$t\\dfrac{2\\pi}{f}$\")\n",
    "plt.ylabel(\"k\")\n",
    "# plt.yscale('symlog',linthresh=1e-14)\n",
    "plt.show()"
   ]
  },
  {
   "cell_type": "code",
   "execution_count": null,
   "metadata": {},
   "outputs": [],
   "source": [
    "seconds = PWORK_spatial_average_time_series_ip.time/pd.Timedelta(\"1s\")\n",
    "PWORK_spatial_average_time_series_ip =  PWORK_spatial_average_time_series_ip.assign_coords(sec = ('time',seconds.data))\n",
    "integrated_PWORK = (-1*PWORK_spatial_average_time_series_ip.isel(time=slice(0,-1))).cumulative_integrate(coord=\"sec\")\n",
    "plt.plot(integrated_PWORK.intp,integrated_PWORK)\n",
    "plt.title(\"Time Integrated E\")\n",
    "plt.xlabel(\"$t\\dfrac{2\\pi}{f}$\")\n",
    "plt.ylabel(\"k\")\n",
    "# plt.yscale('log')\n",
    "plt.show()"
   ]
  },
  {
   "cell_type": "code",
   "execution_count": null,
   "metadata": {},
   "outputs": [],
   "source": [
    "seconds = E_spatial_average_time_series_ip.time/pd.Timedelta(\"1s\")\n",
    "E_spatial_average_time_series_ip = E_spatial_average_time_series_ip.assign_coords(sec = ('time',seconds.data))\n",
    "integrated_E = (-1*E_spatial_average_time_series_ip.isel(time=slice(0,-1))).cumulative_integrate(coord=\"sec\")\n",
    "plt.plot(integrated_E.intp,integrated_E)\n",
    "plt.title(\"Time Integrated E\")\n",
    "plt.xlabel(\"$t\\dfrac{2\\pi}{f}$\")\n",
    "plt.ylabel(\"k\")\n",
    "# plt.yscale('log')\n",
    "plt.show()"
   ]
  },
  {
   "cell_type": "code",
   "execution_count": null,
   "metadata": {},
   "outputs": [],
   "source": [
    "seconds = ADV_spatial_average_time_series_ip.time/pd.Timedelta(\"1s\")\n",
    "ADV_spatial_average_time_series_ip = ADV_spatial_average_time_series_ip.assign_coords(sec = ('time',seconds.data))\n",
    "integrated_ADV = (-1*ADV_spatial_average_time_series_ip.isel(time=slice(0,-1))).cumulative_integrate(coord=\"sec\")\n",
    "plt.plot(integrated_ADV.intp,integrated_ADV)\n",
    "plt.title(\"Time Integrated ADV\")\n",
    "plt.xlabel(\"$t\\dfrac{2\\pi}{f}$\")\n",
    "plt.ylabel(\"k\")\n",
    "# plt.yscale('log')\n",
    "plt.show()"
   ]
  },
  {
   "cell_type": "code",
   "execution_count": null,
   "metadata": {},
   "outputs": [],
   "source": [
    "# seconds = DIFF_spatial_average_time_series_ip.time/pd.Timedelta(\"1s\")\n",
    "# DIFF_spatial_average_time_series_ip = DIFF_spatial_average_time_series_ip.assign_coords(sec = ('time',seconds.data))\n",
    "# integrated_DIFF = (-1*DIFF_spatial_average_time_series_ip.isel(time=slice(ts,-1))).cumulative_integrate(coord=\"sec\")\n",
    "# plt.plot(integrated_DIFF.intp,integrated_DIFF)\n",
    "# plt.title(\"Time Integrated DIFF\")\n",
    "# plt.xlabel(\"$t\\dfrac{2\\pi}{f}$\")\n",
    "# plt.ylabel(\"k\")\n",
    "# # plt.yscale('log')\n",
    "# plt.show()"
   ]
  },
  {
   "cell_type": "code",
   "execution_count": null,
   "metadata": {},
   "outputs": [],
   "source": [
    "# seconds = E_spatial_average_time_series_ip.time/pd.Timedelta(\"1s\")\n",
    "# E_spatial_average_time_series_ip = E_spatial_average_time_series_ip.assign_coords(sec = ('time',seconds.data))\n",
    "integrated_residual = (sum).cumulative_integrate(coord=\"sec\")\n",
    "plt.plot(integrated_residual.intp,integrated_residual)\n",
    "plt.title(\"Time Integrated E\")\n",
    "plt.xlabel(\"$t\\dfrac{2\\pi}{f}$\")\n",
    "plt.ylabel(\"k\")\n",
    "# plt.yscale('log')\n",
    "plt.show()"
   ]
  },
  {
   "cell_type": "code",
   "execution_count": null,
   "metadata": {},
   "outputs": [],
   "source": [
    "integrated_dkdt = (dkdt).cumulative_integrate(coord=\"sec\")\n",
    "plt.plot(integrated_dkdt.intp,integrated_dkdt)\n",
    "plt.title(\"Time Integrated E\")\n",
    "plt.xlabel(\"$t\\dfrac{2\\pi}{f}$\")\n",
    "plt.ylabel(\"k\")\n",
    "# plt.yscale('log')\n",
    "plt.show()"
   ]
  },
  {
   "cell_type": "code",
   "execution_count": null,
   "metadata": {},
   "outputs": [],
   "source": [
    "plt.plot(KE_spatial_average_time_series_ip.intp,KE_spatial_average_time_series_ip)\n",
    "plt.title(\"Time Integrated E\")\n",
    "plt.xlabel(\"$t\\dfrac{2\\pi}{f}$\")\n",
    "plt.ylabel(\"k\")\n",
    "# plt.yscale('log')\n",
    "plt.show()"
   ]
  },
  {
   "cell_type": "code",
   "execution_count": null,
   "metadata": {},
   "outputs": [],
   "source": [
    "ocean_data.k *((fstar)/(2*np.pi))**(1)"
   ]
  },
  {
   "cell_type": "code",
   "execution_count": null,
   "metadata": {},
   "outputs": [],
   "source": [
    "KE_turb = ocean_data.k *((fstar)/(2*np.pi))**(2) #.mean(dim=['xC','yC','zC']) # .sel(zC=np.arange(0,h+dh,dh)\n",
    "seconds = KE_turb.time/pd.Timedelta(\"1s\")\n",
    "inertial_period = KE_turb.time/pd.Timedelta(\"1s\")*(fstar)/(2*np.pi)\n",
    "KE_turb_ip = KE_turb.assign_coords(intp = ('time',inertial_period.data))\n",
    "KE_turb_ip = KE_turb_ip.assign_coords(sec = ('time',seconds.data))\n",
    "KE_turb_ip = KE_spatial_average_time_series_ip-KE_spatial_average_time_series_ip.isel(time=0)\n",
    "KE_turb_ip"
   ]
  },
  {
   "cell_type": "code",
   "execution_count": null,
   "metadata": {},
   "outputs": [],
   "source": [
    "KE_spatial_average_time_series_ip"
   ]
  },
  {
   "cell_type": "code",
   "execution_count": null,
   "metadata": {},
   "outputs": [],
   "source": [
    "integrated_AGSP"
   ]
  },
  {
   "cell_type": "code",
   "execution_count": null,
   "metadata": {},
   "outputs": [],
   "source": [
    "start = 2000 #1000 # 1000 #800\n",
    "end = -1 #2800 #2600\n",
    "sum = KE_spatial_average_time_series_ip-integrated_AGSP-integrated_GSP-integrated_WSP-integrated_BFLUX-integrated_E #-integrated_DIFF\n",
    "plt.figure(figsize=(7,5))\n",
    "plt.plot(KE_spatial_average_time_series_ip.intp[start:end],KE_spatial_average_time_series_ip[start:end]-KE_spatial_average_time_series_ip[start],label=\"$k$\",color=\"k\")\n",
    "plt.plot(integrated_AGSP.intp[start:end],integrated_AGSP[start:end]-integrated_AGSP[start],label=\"$\\int_0^tAGSP\\,dt'$\",color=\"red\")\n",
    "plt.plot(integrated_GSP.intp[start:end],integrated_GSP[start:end]-integrated_GSP[start],label=\"$\\int_0^tGSP\\,dt'$\",color=\"green\")\n",
    "plt.plot(integrated_WSP.intp[start:end],integrated_WSP[start:end]-integrated_WSP[start],label=\"$\\int_0^tWSP\\,dt'$\",color=\"cyan\")\n",
    "plt.plot(integrated_BFLUX.intp[start:end],integrated_BFLUX[start:end]-integrated_BFLUX[start],label=\"$\\int_0^tBFLUX\\,dt'$\",color=\"blue\")\n",
    "# plt.plot(integrated_BFLUX.intp[start:end],integrated_BFLUX[start:end]+integrated_GSP[start:end],label=\"$\\int_0^tGSBF\\,dt'$\",color=\"magenta\")\n",
    "plt.plot(integrated_E.intp[start:end],integrated_E[start:end]-integrated_E[start],label=\"$-\\int_0^t\\epsilon\\,dt'$\",color=\"pink\")\n",
    "# plt.plot(integrated_ADV.intp[start:end],integrated_ADV[start:end],label=\"$-\\int_0^tADV\\,dt'$\",color=\"k\",linestyle=\"\")\n",
    "# plt.plot(integrated_DIFF.intp[start:end],integrated_DIFF[start:end],label=\"$-\\int_0^tDIFF\\,dt'$\",color=\"orange\")\n",
    "# plt.plot(integrated_PWORK.intp[start:end],integrated_PWORK[start:end],label=\"$-\\int_0^tPWORK\\,dt'$\",color=\"magenta\")\n",
    "plt.plot(sum.intp[start:end],sum[start:end]-sum[start],label=\"Residual\",color=\"grey\",alpha=0.9)\n",
    "plt.xlabel(\"Inertial Period\")\n",
    "plt.ylabel(r\"k $(m^2 s^{-2})$\")\n",
    "plt.yscale(\"symlog\",linthresh=1e-11)\n",
    "plt.yticks([1e-12,-1e-12,1e-10,-1e-10,1e-8,-1e-8,1e-6,-1e-6,1e-4,-1e-4])\n",
    "plt.legend(loc=\"lower left\",prop={'size':7.5},ncol=2,handlelength=0.5)\n",
    "plt.xlim([KE_spatial_average_time_series_ip.intp[start]-0.01,KE_spatial_average_time_series_ip.intp[end]+0.01])\n",
    "# plt.ylim([-1e-4,1e-4])\n",
    "\n",
    "# plt.savefig(\"S_1_0_gamma_l_delta_0_5_time_integrated_TKE_terms_linthresh_1_e_13.pdf\")\n",
    "\n",
    "plt.show()"
   ]
  },
  {
   "cell_type": "code",
   "execution_count": null,
   "metadata": {},
   "outputs": [],
   "source": [
    "sum = KE_turb_ip-integrated_AGSP-integrated_GSP-integrated_WSP-integrated_BFLUX-integrated_E\n",
    "plt.plot(sum.intp,sum)\n",
    "plt.title(\"Residual of Turbulent Kinetic Energy\")\n",
    "plt.xlabel(\"$t\\dfrac{f^*}{2\\pi}$\")\n",
    "plt.ylabel(\"Residual\")"
   ]
  },
  {
   "cell_type": "code",
   "execution_count": null,
   "metadata": {},
   "outputs": [],
   "source": [
    "dkdt"
   ]
  },
  {
   "cell_type": "code",
   "execution_count": null,
   "metadata": {},
   "outputs": [],
   "source": [
    "dkdt"
   ]
  },
  {
   "cell_type": "code",
   "execution_count": null,
   "metadata": {},
   "outputs": [],
   "source": [
    "integrated_KE = (dkdt).cumulative_integrate(coord=\"intp\")\n",
    "plt.plot(integrated_KE.intp,integrated_KE)\n",
    "plt.title(\"Time Integrated dkdt\")\n",
    "plt.xlabel(\"$t\\dfrac{2\\pi}{f}$\")\n",
    "plt.ylabel(\"k\")\n",
    "# plt.yscale('log')\n",
    "plt.show()"
   ]
  },
  {
   "cell_type": "code",
   "execution_count": null,
   "metadata": {},
   "outputs": [],
   "source": []
  },
  {
   "cell_type": "code",
   "execution_count": null,
   "metadata": {},
   "outputs": [],
   "source": []
  }
 ],
 "metadata": {
  "kernelspec": {
   "display_name": "Python 3 (ipykernel)",
   "language": "python",
   "name": "python3"
  },
  "language_info": {
   "codemirror_mode": {
    "name": "ipython",
    "version": 3
   },
   "file_extension": ".py",
   "mimetype": "text/x-python",
   "name": "python",
   "nbconvert_exporter": "python",
   "pygments_lexer": "ipython3",
   "version": "3.10.13"
  }
 },
 "nbformat": 4,
 "nbformat_minor": 4
}
