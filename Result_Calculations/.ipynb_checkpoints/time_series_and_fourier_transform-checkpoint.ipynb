{
 "cells": [
  {
   "cell_type": "code",
   "execution_count": null,
   "id": "e346ab14-f263-4a89-982f-c50edeeffe11",
   "metadata": {},
   "outputs": [],
   "source": [
    "import xarray as xr\n",
    "import numpy as np\n",
    "import matplotlib.pyplot as plt\n",
    "import pandas as pd\n",
    "import scipy as sc\n",
    "import xrft as xf"
   ]
  },
  {
   "cell_type": "code",
   "execution_count": null,
   "id": "b5700352-358e-459b-8368-d8e0ee2a064e",
   "metadata": {},
   "outputs": [],
   "source": [
    "# !pip install xrft"
   ]
  },
  {
   "cell_type": "code",
   "execution_count": null,
   "id": "12de1d1e-1256-456e-b494-4b22b832aba7",
   "metadata": {},
   "outputs": [],
   "source": [
    "theta1 = 0.005\n",
    "theta = str(theta1)\n",
    "N21 = 1e-5\n",
    "N2 = \"9.9e-6\"\n",
    "Vinf1 = 0.05\n",
    "Vinf = str(Vinf1)\n",
    "h = str(104.0)\n",
    "f = 10**(-4)\n",
    "gm = (1+theta1**2*N21*f**(-2))**(-1)\n",
    "beta = (1+theta1**2*N21*f**(-2))**(0.5)\n",
    "fstar = (1e-8+theta1**2*N21)**(0.5)\n",
    "lmbd = N21*theta1*gm/f\n",
    "delta = 0.1\n",
    "bo = 0"
   ]
  },
  {
   "cell_type": "code",
   "execution_count": null,
   "id": "92869405-0ee4-48e6-9fe2-a64cae9088aa",
   "metadata": {},
   "outputs": [],
   "source": [
    "# file = \"olddata/dataflow_fields_height_103.0_theta_0.005_stratification_1.0e-5_interior_velocity_0.05.nc\"\n",
    "file = \"/new_data/paper_data/flow_fields_height_250.00000000000003_theta_0.05_stratification_1.0e-6_interior_velocity_0.1_delta_0.5_bo_0_visc_5.0e-5.nc\"\n",
    "ocean_data=xr.open_dataset(\"/glade/derecho/scratch/knudsenl/data/\"+file)#.isel(time=slice(0,4000)) #i=103\n",
    "seconds = ocean_data.time/pd.Timedelta(\"1s\")\n",
    "ocean_data = ocean_data.assign_coords(time = ('time',seconds.data))"
   ]
  },
  {
   "cell_type": "code",
   "execution_count": null,
   "id": "f9b159e6-6b7b-4af7-825a-960934380780",
   "metadata": {},
   "outputs": [],
   "source": [
    "ocean_data"
   ]
  },
  {
   "cell_type": "code",
   "execution_count": null,
   "id": "209e6491-3601-4330-a317-fd950f746545",
   "metadata": {},
   "outputs": [],
   "source": [
    "ocean_data.time[-1]*f/(2*np.pi)"
   ]
  },
  {
   "cell_type": "code",
   "execution_count": null,
   "id": "198d1a42-6a5f-48b3-b90e-02c50205ffca",
   "metadata": {},
   "outputs": [],
   "source": [
    "import matplotlib.colors as colors"
   ]
  },
  {
   "cell_type": "code",
   "execution_count": null,
   "id": "926c7793-624c-4b13-9ce9-1d5fe8d577ca",
   "metadata": {},
   "outputs": [],
   "source": [
    "(ocean_data.v).isel(time=-1).plot()\n"
   ]
  },
  {
   "cell_type": "code",
   "execution_count": null,
   "id": "d1264289-9f48-41f5-8ba7-314b03aa2733",
   "metadata": {},
   "outputs": [],
   "source": [
    "(ocean_data.ba).isel(time=0).plot()"
   ]
  },
  {
   "cell_type": "code",
   "execution_count": null,
   "id": "72d879ab-9eac-4487-8723-221b51d9f621",
   "metadata": {},
   "outputs": [],
   "source": [
    "inertial_period = ocean_data.time*fstar/(2*np.pi)\n",
    "ocean_data_ip = ocean_data.assign_coords(intp = ('time',inertial_period.data))"
   ]
  },
  {
   "cell_type": "code",
   "execution_count": null,
   "id": "b16768de-d06c-4444-a811-4e6d13ceac12",
   "metadata": {},
   "outputs": [],
   "source": [
    "tau = 30\n",
    "ocean_data_ip.v.isel(time=tau).plot()\n",
    "print(ocean_data_ip.intp.isel(time=tau))"
   ]
  },
  {
   "cell_type": "code",
   "execution_count": null,
   "id": "9ecdb03d-0b19-4031-a213-c570b0aade7f",
   "metadata": {},
   "outputs": [],
   "source": [
    "plt.plot(ocean_data_ip.intp.isel(time=slice(60, 200)), ocean_data_ip.v.isel(zC=79, yC=0, xC=128, time=slice(60, 200))/ocean_data_ip.v.isel(zC=79, yC=0, xC=128, time=60))\n",
    "# plt.plot(ocean_data_ip.intp.isel(time=slice(100,400)),ocean_data_ip.u.isel(zC=63,yC=0,xC=128,time=slice(100,400))/ocean_data_ip.v.isel(zC=63,yC=0,xC=128,time=100))\n",
    "# plt.plot(ocean_data_ip.intp.isel(time=slice(100,400)),ocean_data_ip.w.isel(zC=63,yC=0,xC=128,time=slice(100,400))/ocean_data_ip.v.isel(zC=63,yC=0,xC=128,time=100))\n",
    "# plt.yscale(\"symlog\",linthresh=0.01)"
   ]
  },
  {
   "cell_type": "code",
   "execution_count": null,
   "id": "71865af2-ae3b-4200-95eb-747f0474597c",
   "metadata": {},
   "outputs": [],
   "source": [
    "plt.plot(ocean_data_ip.intp.isel(time=slice(100, 420)), ocean_data_ip.v.isel(zC=63, yC=0, xC=128, time=slice(100, 420)))\n",
    "# plt.plot(ocean_data_ip.intp.isel(time=slice(100,400)),ocean_data_ip.u.isel(zC=63,yC=0,xC=128,time=slice(100,400))/ocean_data_ip.v.isel(zC=63,yC=0,xC=128,time=100))\n",
    "# plt.plot(ocean_data_ip.intp.isel(time=slice(100,400)),ocean_data_ip.w.isel(zC=63,yC=0,xC=128,time=slice(100,400))/ocean_data_ip.v.isel(zC=63,yC=0,xC=128,time=100))\n",
    "# plt.yscale(\"symlog\",linthresh=0.01)"
   ]
  },
  {
   "cell_type": "code",
   "execution_count": null,
   "id": "e2ab1ca3-c89c-44bf-8354-30b1fa704771",
   "metadata": {},
   "outputs": [],
   "source": [
    "plt.plot(ocean_data_ip.intp.isel(time=slice(200,400)),ocean_data_ip.va.isel(zC=63,yF=0,xC=256,time=slice(200,400)))\n",
    "plt.yscale(\"symlog\",linthresh=0.0001)"
   ]
  },
  {
   "cell_type": "code",
   "execution_count": null,
   "id": "03cddfda-29e4-4b4d-89e5-2f1f78de89da",
   "metadata": {},
   "outputs": [],
   "source": [
    "plt.plot(ocean_data_ip.intp.isel(time=slice(200,400)),ocean_data_ip.vb.isel(zC=63,yC=0,xF=256,time=slice(200,400)))\n",
    "plt.yscale(\"symlog\",linthresh=0.0001)"
   ]
  },
  {
   "cell_type": "code",
   "execution_count": null,
   "id": "c0d2872d-20a6-4012-833f-bbdb3e44d9fa",
   "metadata": {},
   "outputs": [],
   "source": [
    "total = (ocean_data_ip.vb.interp_like(ocean_data_ip.va.xC).interp_like(ocean_data_ip.va.yF)).isel(zC=63,yC=0,xF=256)+ ocean_data_ip.va.isel(zC=63,yF=0,xC=256)"
   ]
  },
  {
   "cell_type": "code",
   "execution_count": null,
   "id": "6f9236a5-d22d-4fc6-88cc-6376c623f5ba",
   "metadata": {},
   "outputs": [],
   "source": [
    "plt.plot(ocean_data_ip.intp.isel(time=slice(200,400)),total.isel(time=slice(200,400)))\n",
    "plt.yscale(\"symlog\",linthresh=0.0001)"
   ]
  },
  {
   "cell_type": "code",
   "execution_count": null,
   "id": "aafaf267-bf70-44f1-8617-e31b80ec07d6",
   "metadata": {},
   "outputs": [],
   "source": []
  },
  {
   "cell_type": "code",
   "execution_count": null,
   "id": "fef41848-f82e-4948-820e-b578f8face34",
   "metadata": {},
   "outputs": [],
   "source": [
    "zi = 155\n",
    "ti = 100\n",
    "tf =  -1\n",
    "# v_mean = ocean_data.v.mean([\"xC\"])\n",
    "fourier_data = ocean_data.v.isel(yC=0,zC=zi,xC=256,time=slice(ti,tf))/ocean_data.v.isel(yC=0,zC=zi, xC=256,time=ti).max()\n",
    "time_data = ocean_data_ip.intp.isel(time=slice(ti,tf))"
   ]
  },
  {
   "cell_type": "code",
   "execution_count": null,
   "id": "4bcaa6ba-56e3-4e53-90a5-c90cbaf8490b",
   "metadata": {},
   "outputs": [],
   "source": [
    "# fourier_data[\"time\"] = fourier_data.time * f/(2*np.pi)\n",
    "plt.plot(time_data,fourier_data)"
   ]
  },
  {
   "cell_type": "code",
   "execution_count": null,
   "id": "87d74872-cdfd-4790-aa4b-9eaa6c7fb623",
   "metadata": {},
   "outputs": [],
   "source": [
    "# fourier_data_ni = fourier_data.drop(['intp'])\n",
    "transform = xf.fft(fourier_data,dim=\"time\")"
   ]
  },
  {
   "cell_type": "code",
   "execution_count": null,
   "id": "a0904777-f937-434e-90ba-26135a043ba8",
   "metadata": {},
   "outputs": [],
   "source": [
    "plt.plot(transform.freq_time*2*np.pi,np.abs(transform))\n",
    "plt.vlines(0.5*beta*f,ymin=0,ymax=np.max(np.abs(transform))*1.1,color=\"b\",alpha=0.5,linestyles=\"dotted\")\n",
    "plt.vlines(1.5*beta*f,ymin=0,ymax=np.max(np.abs(transform))*1.1,color=\"b\",alpha=0.5,linestyles=\"dotted\")"
   ]
  },
  {
   "cell_type": "code",
   "execution_count": null,
   "id": "a67f3bc5-24dc-4358-aec6-043b6567e787",
   "metadata": {},
   "outputs": [],
   "source": [
    "for j in [*range(129,159,40)]:\n",
    "    fourier_data = ocean_data.v.isel(yC=0,zC=j,xC=256,time=slice(25,100))/ocean_data.v.isel(yC=0,zC=63, xC=256,time=25).max()\n",
    "    transform = xf.fft(fourier_data,dim=\"time\")\n",
    "    plt.plot(transform.freq_time*2*np.pi,np.abs(transform),label=f\"Level at z={ocean_data.zC[j].values}\")\n",
    "plt.vlines(0.5*beta*f,ymin=0,ymax=9e4,color=\"b\",alpha=0.5,linestyles=\"dotted\")\n",
    "plt.vlines(beta*f,ymin=0,ymax=9e4,color=\"b\",alpha=0.5,linestyles=\"dotted\")\n",
    "plt.vlines(1.5*beta*f,ymin=0,ymax=9e4,color=\"b\",alpha=0.5,linestyles=\"dotted\")\n",
    "plt.vlines(4.5*beta*f,ymin=0,ymax=9e4,color=\"b\",alpha=0.5,linestyles=\"dotted\")\n",
    "plt.legend(loc=\"upper right\")\n",
    "# plt.yscale(\"log\")\n",
    "# plt.gca().set_aspect(100)\n",
    "plt.xlim([0,0.001])\n",
    "plt.xticks(rotation=15)\n",
    "# plt.xscale(\"symlog\",linthresh=10**(-3))\n",
    "plt.show()"
   ]
  },
  {
   "cell_type": "code",
   "execution_count": null,
   "id": "bb38cc43-e711-4f58-bb15-ef37a91d4f4f",
   "metadata": {},
   "outputs": [],
   "source": []
  },
  {
   "cell_type": "code",
   "execution_count": null,
   "id": "09c7e23b-988f-4de1-bc53-49e93201f2ef",
   "metadata": {},
   "outputs": [],
   "source": []
  },
  {
   "cell_type": "code",
   "execution_count": null,
   "id": "7dd7680e-5b61-4157-aea1-d1f94bf378f4",
   "metadata": {},
   "outputs": [],
   "source": [
    "magnitude = np.abs(fourier_data)\n",
    "growth_rate = sc.stats.linregress(fourier_data.time, np.log(np.abs(fourier_data/fourier_data[0])))"
   ]
  },
  {
   "cell_type": "code",
   "execution_count": null,
   "id": "2438dfc6-7332-4261-b43c-d482af4ab7fe",
   "metadata": {},
   "outputs": [],
   "source": [
    "plt.plot(time_data*fstar/(2*np.pi),magnitude)\n",
    "# plt.yscale(\"log\")"
   ]
  },
  {
   "cell_type": "code",
   "execution_count": null,
   "id": "6922cae8-c1b3-418e-be7c-143e41967626",
   "metadata": {},
   "outputs": [],
   "source": [
    "growth_rate.slope"
   ]
  },
  {
   "cell_type": "code",
   "execution_count": null,
   "id": "b42a3505-662b-42d5-aea2-4c32f69ccde5",
   "metadata": {},
   "outputs": [],
   "source": [
    "normalized_fourier_data = fourier_data/np.exp(growth_rate.slope*fourier_data.time)"
   ]
  },
  {
   "cell_type": "code",
   "execution_count": null,
   "id": "88b42e50-57d8-4728-8f8e-1c6d1840fc51",
   "metadata": {},
   "outputs": [],
   "source": []
  },
  {
   "cell_type": "code",
   "execution_count": null,
   "id": "8eddf365-c468-4b10-a310-68188074b684",
   "metadata": {},
   "outputs": [],
   "source": [
    "transform"
   ]
  },
  {
   "cell_type": "code",
   "execution_count": null,
   "id": "422afe6c-1259-4524-82e1-13f964dd9f66",
   "metadata": {},
   "outputs": [],
   "source": [
    "# fourier_data_ni = fourier_data.drop(['intp'])\n",
    "transform = xf.fft(normalized_fourier_data)\n",
    "np.abs(transform).plot()\n",
    "# plt.vlines(0.5*fstar,ymin=0,ymax=np.max(transform.imag)*1.1,color=\"b\",alpha=0.5,linestyles=\"dotted\")"
   ]
  },
  {
   "cell_type": "code",
   "execution_count": null,
   "id": "cf9307f8-dc09-4238-890f-893a78ff1295",
   "metadata": {},
   "outputs": [],
   "source": [
    "plt.plot(time_data,normalized_fourier_data/np.abs(normalized_fourier_data[0]))\n",
    "plt.xlabel(\"time ($t\\dfrac{f^*}{2\\pi}$)\")\n",
    "plt.ylabel(\"normalized velocity ($m s^{-1}$)\")\n",
    "# plt.yscale(\"log\")"
   ]
  },
  {
   "cell_type": "code",
   "execution_count": null,
   "id": "261e4b3b-9597-4b3a-93d4-38e3a672eb7b",
   "metadata": {},
   "outputs": [],
   "source": [
    "sr = len(time_data)/(time_data[-1]-time_data[0]).values\n",
    "ts = (time_data[-1]-time_data[0])/sr\n",
    "ft = np.fft.rfft(normalized_fourier_data,norm=None)\n",
    "N = len(ft)\n",
    "n = np.arange(N)\n",
    "T = (normalized_fourier_data.time[-1]-normalized_fourier_data.time[-2]).values\n",
    "freq = np.fft.rfftfreq(len(normalized_fourier_data),d=0.05)\n",
    "plt.plot(freq,np.abs(ft),color=\"k\")\n",
    "# plt.vlines(0.5*fstar*10**(4),ymin=0,ymax=np.max(np.abs(ft))*1.1,color=\"b\",alpha=0.5,linestyles=\"dotted\")\n",
    "# plt.vlines(1.5*fstar*10**(4),ymin=0,ymax=np.max(np.abs(ft))*1.1,color=\"b\",alpha=0.5,linestyles=\"dotted\")\n",
    "# plt.vlines(2.5*fstar*10**(4),ymin=0,ymax=np.max(np.abs(ft))*1.1,color=\"b\",alpha=0.5,linestyles=\"dotted\")\n",
    "# plt.vlines(3.5*fstar*10**(4),ymin=0,ymax=np.max(np.abs(ft))*1.1,color=\"b\",alpha=0.5,linestyles=\"dotted\")\n",
    "# plt.vlines(4.5*fstar*10**(4),ymin=0,ymax=np.max(np.abs(ft))*1.1,color=\"b\",alpha=0.5,linestyles=\"dotted\")\n",
    "# plt.vlines(5.5*fstar*10**(4),ymin=0,ymax=np.max(np.abs(ft))*1.1,color=\"b\",alpha=0.5,linestyles=\"dotted\")\n",
    "# plt.vlines(6.5*fstar*10**(4),ymin=0,ymax=np.max(np.abs(ft))*1.1,color=\"b\",alpha=0.5,linestyles=\"dotted\")\n",
    "\n",
    "# plt.vlines(6.5*fstar*10**(4),ymin=0,ymax=0.0007)\n",
    "# plt.xlim([0,0.0001])\n",
    "plt.xlabel(\"Frequency (per intertial period)\")\n",
    "plt.ylabel(\"FFT Amplitude\")"
   ]
  },
  {
   "cell_type": "code",
   "execution_count": null,
   "id": "5e49e1b0-2258-439b-b80b-e9d4cfb8d5cb",
   "metadata": {},
   "outputs": [],
   "source": []
  },
  {
   "cell_type": "code",
   "execution_count": null,
   "id": "2ccaeb01-0dd1-41cd-806e-d877d2b77025",
   "metadata": {},
   "outputs": [],
   "source": [
    "# v_mean = ocean_data.v.mean([\"xC\"])\n",
    "fourier_data_map = (ocean_data.v.isel(time=slice(200,400))/ocean_data.v.isel(time=200).max())"
   ]
  },
  {
   "cell_type": "code",
   "execution_count": null,
   "id": "1b007d77-a89d-4307-acaf-7440de578394",
   "metadata": {},
   "outputs": [],
   "source": [
    "fourier_data_map = fourier_data_map.mean(\"yC\")\n",
    "fourier_data_map"
   ]
  },
  {
   "cell_type": "code",
   "execution_count": null,
   "id": "86a60e05-4275-4cc2-9cc7-8adcd34070bf",
   "metadata": {},
   "outputs": [],
   "source": []
  },
  {
   "cell_type": "code",
   "execution_count": null,
   "id": "e9c1347f-49a9-4e55-af07-dec65a7ab63b",
   "metadata": {},
   "outputs": [],
   "source": [
    "transform_domain = xf.fft(fourier_data_map,dim=[\"zC\"])"
   ]
  },
  {
   "cell_type": "code",
   "execution_count": null,
   "id": "fa1cf846-bbfc-4dc2-9ab9-521f8430195e",
   "metadata": {},
   "outputs": [],
   "source": [
    "plt.plot(transform_domain.freq_zC,transform_domain.isel(time=2,xC=256).real)"
   ]
  },
  {
   "cell_type": "code",
   "execution_count": null,
   "id": "a7771f5a-4660-43b9-9cc9-e112953d12da",
   "metadata": {},
   "outputs": [],
   "source": [
    "xf.ifft(transform_domain)"
   ]
  },
  {
   "cell_type": "code",
   "execution_count": null,
   "id": "263c9359-496d-455c-9422-83370493f87b",
   "metadata": {},
   "outputs": [],
   "source": [
    "plt.plot(transform_domain.freq_xC,transform_domain.real[63,:,:])"
   ]
  },
  {
   "cell_type": "code",
   "execution_count": null,
   "id": "a7975967-cc12-46a3-91fa-d3138d9ce5c2",
   "metadata": {},
   "outputs": [],
   "source": []
  },
  {
   "cell_type": "code",
   "execution_count": null,
   "id": "7bcb18fd-e5c9-43e4-841e-b04366e93215",
   "metadata": {},
   "outputs": [],
   "source": [
    "import matplotlib.colors as colors"
   ]
  },
  {
   "cell_type": "code",
   "execution_count": null,
   "id": "57040bab-fda2-4bd7-99a1-7e56643dcb31",
   "metadata": {},
   "outputs": [],
   "source": [
    "# plt.contourf(transform_domain.freq_xC,transform_domain.freq_time*2*np.pi,transform_domain.real[:,63,:],cmap='Accent',norm=colors.SymLogNorm(linthresh=1e9))\n",
    "# plt.colorbar()\n",
    "# plt.hlines(fstar,xmin=-0.1,xmax=0.1)"
   ]
  },
  {
   "cell_type": "raw",
   "id": "35c64bc2-19d4-4838-a756-f0ec7063a8af",
   "metadata": {},
   "source": [
    "transform_domain"
   ]
  },
  {
   "cell_type": "code",
   "execution_count": null,
   "id": "5d455ee5-8057-44ad-b26b-ada93ddcc850",
   "metadata": {},
   "outputs": [],
   "source": []
  }
 ],
 "metadata": {
  "kernelspec": {
   "display_name": "Python 3 (ipykernel)",
   "language": "python",
   "name": "python3"
  },
  "language_info": {
   "codemirror_mode": {
    "name": "ipython",
    "version": 3
   },
   "file_extension": ".py",
   "mimetype": "text/x-python",
   "name": "python",
   "nbconvert_exporter": "python",
   "pygments_lexer": "ipython3",
   "version": "3.10.13"
  }
 },
 "nbformat": 4,
 "nbformat_minor": 5
}
