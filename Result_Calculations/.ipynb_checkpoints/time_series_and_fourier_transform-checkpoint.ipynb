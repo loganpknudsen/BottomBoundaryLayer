{
 "cells": [
  {
   "cell_type": "code",
   "execution_count": null,
   "id": "e346ab14-f263-4a89-982f-c50edeeffe11",
   "metadata": {},
   "outputs": [],
   "source": [
    "import xarray as xr\n",
    "import numpy as np\n",
    "import matplotlib.pyplot as plt\n",
    "import pandas as pd\n",
    "import scipy as sc\n",
    "import xrft as xf"
   ]
  },
  {
   "cell_type": "code",
   "execution_count": null,
   "id": "b5700352-358e-459b-8368-d8e0ee2a064e",
   "metadata": {},
   "outputs": [],
   "source": [
    "# !pip install xrft"
   ]
  },
  {
   "cell_type": "code",
   "execution_count": null,
   "id": "12de1d1e-1256-456e-b494-4b22b832aba7",
   "metadata": {},
   "outputs": [],
   "source": [
    "theta = 1.8113*np.pi/180\n",
    "N2 = 1*10**(-5)\n",
    "delta = 0.5\n",
    "Vinf = 0.1\n",
    "f = 1e-4\n",
    "S2 = N2*np.tan(theta)**2/f**2\n",
    "gamma = 0.5002284142579378 #((np.cos(theta)*(1+S2*(1-delta)))**(-1)+(3-S2)*(np.cos(theta)*(3*(1+S2)-delta*4*S2))**(-1))/2\n",
    "h = (f*Vinf)/(N2*gamma*np.tan(theta))\n",
    "lmbd = (N2*gamma*np.tan(theta))/f\n",
    "fstar = np.cos(theta)*(f**2+N2*np.tan(theta)**2)**(0.5)\n",
    "beta = np.cos(theta)*(1+S2)**(0.5)"
   ]
  },
  {
   "cell_type": "code",
   "execution_count": null,
   "id": "456b5339-b2ab-4ed1-ae79-afac596fdde7",
   "metadata": {},
   "outputs": [],
   "source": []
  },
  {
   "cell_type": "code",
   "execution_count": null,
   "id": "60a5cee9-810d-4f17-aef2-5e4f13d01b79",
   "metadata": {},
   "outputs": [],
   "source": [
    "# file = \"olddata/flow_fields_height_103.0_theta_0.005_stratification_1.0e-5_interior_velocity_0.05.nc\"\n",
    "# file = \"new_data/paper_data/flow_fields_height_109.0_theta_0.01_stratification_1.0e-5_interior_velocity_0.1_delta_0.1_bo_0_visc_5.0e-5_test.nc\"\n",
    "# TKE_terms_height_98.81324554807192_theta_0.29_stratification_2.0e-7_interior_velocity_0.001_visc_1.0e-6_Sinf_0.0005123752508559594_gamma_0.999713981880998_f_0.0001.nc"
   ]
  },
  {
   "cell_type": "code",
   "execution_count": null,
   "id": "92869405-0ee4-48e6-9fe2-a64cae9088aa",
   "metadata": {},
   "outputs": [],
   "source": [
    "# file = \"olddata/dataflow_fields_height_103.0_theta_0.005_stratification_1.0e-5_interior_velocity_0.05.nc\"\n",
    "file = \"flow_fields_height_63.21485960107034_interior_velocity_0.1_visc_1.0e-5_Sinf_1.0000287024749517_gamma_0.5002284142579378_theta_1.8113_f_0.0001_N2_1.0e-5.nc\"\n",
    "ocean_data=xr.open_dataset(\"/glade/derecho/scratch/knudsenl/data/new_data/vinffixed/\"+file)#.isel(time=slice(0,4000)) #i=103\n",
    "seconds = ocean_data.time/pd.Timedelta(\"1s\")\n",
    "ocean_data = ocean_data.assign_coords(time = ('time',seconds.data))"
   ]
  },
  {
   "cell_type": "code",
   "execution_count": null,
   "id": "11e4961b-9b99-4511-9423-fc5679f57d41",
   "metadata": {},
   "outputs": [],
   "source": [
    "def z_change(t,z,x):\n",
    "    # mean = (ocean_data.B.isel(zC=z, xC=x)).mean()/(N2*np.sin(theta))\n",
    "    # return ocean_data.B.sel(time=t, method=\"nearest\").isel(zC=z, xC=x)/(N2*np.sin(theta)) - mean\n",
    "    z_osc = f*np.cos(theta)*delta*lmbd/(fstar**2)*(np.cos(fstar*t)-1)*(h-z)\n",
    "    # x_mean = N2*np.sin(theta)\n",
    "    # data = (ocean_data.B+ocean_data.ba).sel(time=t,zC=z, xC=x,method=\"nearest\")\n",
    "    # z_osc = ocean_data-ocean_data.mean(\"time\")\n",
    "    # x_mean =(ocean_data.B+ocean_data.ba).sel(time=t,zC=z,method=\"nearest\").differentiate('xC').mean()\n",
    "    return z_osc #/x_mean"
   ]
  },
  {
   "cell_type": "code",
   "execution_count": null,
   "id": "b6d2f292-4800-4446-8267-6208109df6d8",
   "metadata": {},
   "outputs": [],
   "source": [
    "# ocean_data.B.isel(xC=256,yC=0,zC=32).plot(color=\"blue\")\n",
    "# ocean_data.vb.isel(xC=256,yF=0,zC=32).plot(color=\"red\")"
   ]
  },
  {
   "cell_type": "code",
   "execution_count": null,
   "id": "291dc16e-b208-4580-96b2-7a6b1ddd41c3",
   "metadata": {},
   "outputs": [],
   "source": [
    "# ti = 100\n",
    "# tf = 375\n",
    "# lagrangian_z = z_change(ocean_data.time[ti:tf],ocean_data.zC[32],ocean_data.xC[256])\n",
    "# plt.plot(lagrangian_z)"
   ]
  },
  {
   "cell_type": "code",
   "execution_count": null,
   "id": "e5868a88-dc80-449a-b4d9-92f3d75745b8",
   "metadata": {},
   "outputs": [],
   "source": []
  },
  {
   "cell_type": "code",
   "execution_count": null,
   "id": "f1097558-acf3-429f-b760-90eecf876ed2",
   "metadata": {},
   "outputs": [],
   "source": [
    "import matplotlib.colors as colors"
   ]
  },
  {
   "cell_type": "code",
   "execution_count": null,
   "id": "a041fdcc-13e7-403d-b0c6-b5e6ced66aa1",
   "metadata": {},
   "outputs": [],
   "source": []
  },
  {
   "cell_type": "code",
   "execution_count": null,
   "id": "72d879ab-9eac-4487-8723-221b51d9f621",
   "metadata": {},
   "outputs": [],
   "source": [
    "inertial_period = ocean_data.time*fstar/(2*np.pi)\n",
    "ocean_data_ip = ocean_data.assign_coords(intp = ('time',inertial_period.data))"
   ]
  },
  {
   "cell_type": "code",
   "execution_count": null,
   "id": "70bf60a8-7e84-43bf-b457-c961d9a8cd37",
   "metadata": {},
   "outputs": [],
   "source": [
    "inertial_period[250]"
   ]
  },
  {
   "cell_type": "code",
   "execution_count": null,
   "id": "23423340-094b-4ecf-8a54-a3e10dd1a0a0",
   "metadata": {},
   "outputs": [],
   "source": []
  },
  {
   "cell_type": "code",
   "execution_count": null,
   "id": "bff0edc3-59f1-45be-aadd-ec27efcd7f05",
   "metadata": {},
   "outputs": [],
   "source": [
    "ocean_data_ip.intp[250]"
   ]
  },
  {
   "cell_type": "code",
   "execution_count": null,
   "id": "7f349528-ef47-4fc6-8307-5423a6d9be46",
   "metadata": {},
   "outputs": [],
   "source": [
    "# ocean_data_ip.u.isel(time=tau,zC=slice(0,64))*ocean_data_ip.b.isel(time=tau,zC=slice(0,64))"
   ]
  },
  {
   "cell_type": "code",
   "execution_count": null,
   "id": "b16768de-d06c-4444-a811-4e6d13ceac12",
   "metadata": {},
   "outputs": [],
   "source": [
    "tau = 140\n",
    "lagrangian_z = z_change(ocean_data.time[tau],ocean_data.zC[40],ocean_data.xC[230])\n",
    "ocean_data_ip.u.isel(time=tau,zC=slice(0,140)).plot(norm=colors.SymLogNorm(linthresh=1e-12))  # norm=colors.SymLogNorm(linthresh=1e-10)\n",
    "(ocean_data_ip.B).isel(time=tau,yC=0,zC=slice(0,140)).plot.contour()\n",
    "# plt.scatter(ocean_data.xC[230]+lagrangian_z,ocean_data.zC[40], color=\"yellow\")\n",
    "# lagrangian_z"
   ]
  },
  {
   "cell_type": "code",
   "execution_count": null,
   "id": "7124f7d9-cbd2-45bb-ae6a-49f5b790f814",
   "metadata": {},
   "outputs": [],
   "source": [
    "(ocean_data.B.isel(zC=32,xC=256,yC=0)-ocean_data.B.isel(zC=32,xC=256,yC=0).mean()).plot()"
   ]
  },
  {
   "cell_type": "code",
   "execution_count": null,
   "id": "f3bab6db-8b77-422a-a617-337ba8c6b85c",
   "metadata": {},
   "outputs": [],
   "source": [
    "ocean_data.xC[409]"
   ]
  },
  {
   "cell_type": "code",
   "execution_count": null,
   "id": "8a9700c9-026b-453c-873a-b61fdfa0a1b6",
   "metadata": {},
   "outputs": [],
   "source": [
    "# ocean_data.Ri.sel(xC=ocean_data.xC[xi],zF=ocean_data.zC[zi],time=ocean_data.time[ti:tf],method=\"nearest\").plot()"
   ]
  },
  {
   "cell_type": "code",
   "execution_count": null,
   "id": "7487000e-7b3c-440d-a683-cee5385f8a20",
   "metadata": {},
   "outputs": [],
   "source": [
    "ocean_data.zC[40]"
   ]
  },
  {
   "cell_type": "code",
   "execution_count": null,
   "id": "014543e5-0275-4cda-b31f-e37863fee79c",
   "metadata": {},
   "outputs": [],
   "source": [
    "# z_change(ocean_data.time[ti:tf],zi,xi)"
   ]
  },
  {
   "cell_type": "code",
   "execution_count": null,
   "id": "517f5e93-e5d2-4bb4-9f5b-106f3f48d0a7",
   "metadata": {},
   "outputs": [],
   "source": [
    "ti = 200\n",
    "tf = 800\n",
    "zi = 40\n",
    "xi = 512\n",
    "v_lagrange = ocean_data.v.sel(xC=ocean_data.xC[xi]-z_change(ocean_data.time[ti:tf],ocean_data.zC[zi],ocean_data.xC[xi]),zC=ocean_data.zC[zi],time=ocean_data.time[ti:tf],method=\"nearest\")"
   ]
  },
  {
   "cell_type": "code",
   "execution_count": null,
   "id": "5d579611-ebb0-4cee-9b98-a86fc82b61aa",
   "metadata": {},
   "outputs": [],
   "source": [
    "ti = 200\n",
    "tf = 800\n",
    "zi = 40\n",
    "xi = 256\n",
    "u_lagrange = ocean_data.u.sel(xF=ocean_data.xF[xi]-z_change(ocean_data.time[ti:tf],ocean_data.zC[zi],ocean_data.xF[xi]),zC=ocean_data.zC[zi],time=ocean_data.time[ti:tf],method=\"nearest\")"
   ]
  },
  {
   "cell_type": "code",
   "execution_count": null,
   "id": "43389358-b4db-4a75-b0f0-13c35a88364c",
   "metadata": {},
   "outputs": [],
   "source": [
    "u_lagrange.time[-1]*(fstar)/(2*np.pi)"
   ]
  },
  {
   "cell_type": "code",
   "execution_count": null,
   "id": "3a45f4cf-e2e6-4d2b-8ed0-03e636e9688a",
   "metadata": {
    "scrolled": true
   },
   "outputs": [],
   "source": [
    "u_lagrange = u_lagrange.drop_vars(['xF','yC','zC'])\n",
    "v_lagrange = v_lagrange.drop_vars(['xC','yF','zC'])"
   ]
  },
  {
   "cell_type": "code",
   "execution_count": null,
   "id": "90d84349-2a8b-4825-891c-3052664bc1ef",
   "metadata": {},
   "outputs": [],
   "source": [
    "plt.plot(u_lagrange.time*(fstar)/(2*np.pi),u_lagrange.values/u_lagrange.values[0],color = \"r\",label=f\"$u/u_2$ at z={ocean_data_ip.zC[zi].values}\")\n",
    "plt.plot(v_lagrange.time*(fstar)/(2*np.pi),v_lagrange.values/u_lagrange.values[0],color = \"k\",alpha=0.8,label=f\"$v/u_2$ at z={ocean_data_ip.zC[zi].values}\")\n",
    "# plt.xlim([4.8,15.2])\n",
    "plt.xlabel(\"Interial Period $(tf^*(2\\pi)^{-1})$\")\n",
    "plt.yscale(\"symlog\",linthresh=1)\n",
    "plt.legend(loc=\"lower left\")\n",
    "plt.text(8,1000,\"(a.)\", ha=\"left\",va=\"top\")\n",
    "plt.savefig(\"S1_gamma_l_delta_0_5_quasi_lagrangian_time_series.pdf\")\n",
    "# plt.xticks([5,7,9,11,13,15])\n",
    "plt.show()"
   ]
  },
  {
   "cell_type": "code",
   "execution_count": null,
   "id": "dafd0174-bcf1-40ef-b287-e1c40bec7624",
   "metadata": {},
   "outputs": [],
   "source": [
    "plt.plot(u_lagrange.time[0:81]*(fstar)/(2*np.pi),u_lagrange.values[0:81]/v_lagrange.values[0],color = \"r\",label=\"$u/v_{10}$ at z=\"+str(ocean_data_ip.zC[20].values))\n",
    "plt.plot(v_lagrange.time[0:81]*(fstar)/(2*np.pi),v_lagrange.values[0:81]/v_lagrange.values[0],color = \"k\",alpha=0.8,label=\"$u/v_{10}$ at z=\"+str(ocean_data_ip.zC[20].values))\n",
    "# plt.xlim([10,14])\n",
    "# plt.ylim([-18,18])\n",
    "# plt.xlabel(\"Interial Period $(tf^*(2\\pi)^{-1})$\")\n",
    "# plt.yscale(\"symlog\",linthresh=1)\n",
    "plt.legend(loc=\"lower left\",prop={'size':9})\n",
    "# plt.gca().set_aspect(1.5)\n",
    "plt.xticks([])\n",
    "# plt.text(9.4,11.5,\"(b.)\", ha=\"left\",va=\"top\")\n",
    "# plt.figure(figsize=(12,8))\n",
    "# plt.savefig(\"quasi_lagrangian_time_series_10_14.png\")\n",
    "\n",
    "plt.show()"
   ]
  },
  {
   "cell_type": "code",
   "execution_count": null,
   "id": "e5f0c271-046d-4528-a995-5d5e1b2c90ff",
   "metadata": {},
   "outputs": [],
   "source": [
    "ti = 200\n",
    "tf = 281\n",
    "zi = 20\n",
    "xi = 256\n",
    "plt.plot(ocean_data.time[ti:tf]*(fstar)/(2*np.pi),ocean_data.ub.sel(xF=ocean_data.xC[xi],zC=ocean_data.zC[zi],time=ocean_data.time[ti:tf],method=\"nearest\").values/ocean_data.vb.sel(xC=ocean_data.xC[xi],zC=ocean_data.zC[zi],time=ocean_data.time[ti],method=\"nearest\").values,color = \"r\",label=\"$U/V_{10}$ at z=\"+str(ocean_data_ip.zC[zi].values))\n",
    "plt.plot(ocean_data.time[ti:tf]*(fstar)/(2*np.pi),ocean_data.vb.sel(xC=ocean_data.xC[xi],zC=ocean_data.zC[zi],time=ocean_data.time[ti:tf],method=\"nearest\").values/ocean_data.vb.sel(xC=ocean_data.xC[xi],zC=ocean_data.zC[zi],time=ocean_data.time[ti],method=\"nearest\").values,color = \"k\",alpha=0.8,label=\"$V/V_{10}$ at z=\"+str(ocean_data_ip.zC[zi].values))\n",
    "plt.xlim([10,14])\n",
    "plt.xlabel(\"Interial Period $(tf^*(2\\pi)^{-1})$\")\n",
    "# plt.yscale(\"symlog\",linthresh=1)\n",
    "plt.legend(loc=\"lower left\",prop={'size':9})\n",
    "# plt.gca().set_aspect(1.1)\n",
    "# plt.figure(figsize=(12,8))\n",
    "plt.text(9.4,1,\"(c.)\", ha=\"left\",va=\"top\")\n",
    "plt.savefig(\"background_time_series_10_14.png\")\n",
    "# plt.xticks([5,7,9,11,13,15])\n",
    "plt.show()"
   ]
  },
  {
   "cell_type": "code",
   "execution_count": null,
   "id": "43a5eed0-2bf2-4b9e-893c-434abbca19d0",
   "metadata": {},
   "outputs": [],
   "source": [
    "transform_lagrange = xf.power_spectrum(u_lagrange,dim=\"time\")"
   ]
  },
  {
   "cell_type": "code",
   "execution_count": null,
   "id": "4abb2204-7b00-473d-b8a9-f715362c0e6e",
   "metadata": {},
   "outputs": [],
   "source": [
    "np.abs(transform_lagrange[1601:]).values[:,0].argsort()[-4:]"
   ]
  },
  {
   "cell_type": "code",
   "execution_count": null,
   "id": "e365eefa-5e04-4a15-891d-70d6123dac10",
   "metadata": {},
   "outputs": [],
   "source": [
    "# (transform_lagrange[1601:].freq_time[90]+transform_lagrange[1601:].freq_time[68])*2*np.pi"
   ]
  },
  {
   "cell_type": "code",
   "execution_count": null,
   "id": "49058ec5-3c1b-4613-b112-a40d30c307b5",
   "metadata": {},
   "outputs": [],
   "source": [
    "# transform_lagrange[1601:].freq_time[67]"
   ]
  },
  {
   "cell_type": "code",
   "execution_count": null,
   "id": "3f181a11-d0aa-4cf5-b81e-da0e18ea5ddd",
   "metadata": {},
   "outputs": [],
   "source": [
    "transform_lagrange.plot()\n",
    "plt.xscale(\"symlog\",linthresh=1e-10)"
   ]
  },
  {
   "cell_type": "code",
   "execution_count": null,
   "id": "41c527c6-fd82-41c9-b8f4-a7547b945f01",
   "metadata": {},
   "outputs": [],
   "source": [
    "fig, ax_dict = plt.subplot_mosaic([['(a.)','(b.)']],layout=\"constrained\",figsize=(9,4))\n",
    "ax = ax_dict['(b.)']\n",
    "ax.plot(u_lagrange.time[:201]*(fstar)/(2*np.pi),u_lagrange.values[:201]/u_lagrange.values[0],color = \"r\",label=\"$u/u_{10}$ at z=16.02 m\")\n",
    "ax.plot(v_lagrange.time[:201]*(fstar)/(2*np.pi),v_lagrange.values[:201]/u_lagrange.values[0],color = \"k\",alpha=0.8,label=\"$v/u_{10}$ at z=16.02 m\")\n",
    "# plt.xlim([4.8,15.2])\n",
    "ax.set_xlabel(\"Modified Inertial Period\")\n",
    "ax.set_xlim([10,20])\n",
    "ax.set_yscale(\"symlog\",linthresh=1)\n",
    "ax.legend(loc=\"lower left\")\n",
    "ax.set_box_aspect(0.75)\n",
    "ax.set_title(\"(b.)\", fontfamily='serif', loc='left', fontsize='medium')\n",
    "ax = ax_dict['(a.)']\n",
    "ax.plot(transform_lagrange.freq_time[:]*2*np.pi,transform_lagrange[:],color=\"k\")\n",
    "ax.vlines(0.5*fstar,ymin=0,ymax=np.max(transform_lagrange)*1.05,color=\"b\",alpha=0.5,linestyles=\"dotted\",label=\"$f^*/2$\")\n",
    "ax.vlines(fstar,ymin=0,ymax=np.max(transform_lagrange)*1.05,color=\"k\",alpha=0.5,linestyles=\"dotted\",label=\"$f^*$\")\n",
    "ax.set_xlim([1e-05,transform_lagrange.freq_time[:].max()*2*np.pi])\n",
    "ax.set_ylim([0,np.max(transform_lagrange)*1.05])\n",
    "ax.set_box_aspect(0.9)\n",
    "ax.set_title(\"(a.)\", fontfamily='serif', loc='left', fontsize='medium')\n",
    "ax.legend()\n",
    "ax.set_xlabel(\"Frequency [s$^{-1}$]\")\n",
    "ax.set_xscale(\"log\")\n",
    "ax.set_ylabel(\"Power Spectrum Density [m$^3$ s$^{-2}$]\")\n",
    "plt.savefig(\"S_1_gamma_l_delta_0_5_power_spectral_density_times_series.pdf\")\n",
    "plt.show()"
   ]
  },
  {
   "cell_type": "code",
   "execution_count": null,
   "id": "332b96c8-72f4-4184-add3-a709b994377f",
   "metadata": {},
   "outputs": [],
   "source": [
    "plt.plot(transform_lagrange.freq_time[:]*2*np.pi,transform_lagrange[:],color=\"k\")\n",
    "plt.vlines(0.5*fstar,ymin=0,ymax=np.max(np.abs(transform_lagrange))*1.1,color=\"b\",alpha=0.5,linestyles=\"dotted\",label=\"$f^*/2$\")\n",
    "plt.vlines(fstar,ymin=0,ymax=np.max(np.abs(transform_lagrange))*1.1,color=\"k\",alpha=0.5,linestyles=\"dotted\",label=\"$f^*$\")\n",
    "plt.xlim([1.1218508e-05,0.001])\n",
    "# plt.ylim([0.1,30])\n",
    "plt.legend()\n",
    "plt.xlabel(\"Frequency [s$^{-1}$]\")\n",
    "plt.xscale(\"log\")\n",
    "# plt.yscale(\"log\")\n",
    "plt.ylabel(\"Power Spectrum Density [m$^3$ s$^{-2}$]\")\n",
    "# plt.text(-0.0001,0.23,\"(b.)\", ha=\"left\",va=\"top\")\n",
    "# plt.title(\"Quasi-Lagrangian Fourier Transform of u-velocity\")\n",
    "plt.savefig(\"QL_fourier_transform.png\")\n",
    "plt.show()"
   ]
  },
  {
   "cell_type": "code",
   "execution_count": null,
   "id": "9ecdb03d-0b19-4031-a213-c570b0aade7f",
   "metadata": {},
   "outputs": [],
   "source": [
    "ti = -200\n",
    "tf = -1\n",
    "plt.plot(ocean_data_ip.intp.isel(time=slice(ti, tf)), ocean_data_ip.u.isel(zC=64, yC=0, xF=128, time=slice(ti, tf))/ocean_data_ip.v.isel(zC=64, yF=0, xC=128, time=ti),color = \"r\",label=f\"$u/v_5$ at z={ocean_data_ip.zC[64].values}\")\n",
    "plt.plot(ocean_data_ip.intp.isel(time=slice(ti, tf)), ocean_data_ip.v.isel(zC=64, yF=0, xC=128, time=slice(ti, tf))/ocean_data_ip.v.isel(zC=64, yF=0, xC=128, time=ti),color = \"k\",label=f\"$v/v_5$ at z={ocean_data_ip.zC[64].values}\")\n",
    "# plt.xlim([4.8,15.2])\n",
    "plt.xlabel(\"Interial Period $(tf^*(2\\pi)^{-1})$\")\n",
    "plt.legend()\n",
    "# plt.xticks([5,7,9,11,13,15])\n",
    "plt.show()"
   ]
  },
  {
   "cell_type": "code",
   "execution_count": null,
   "id": "785f2b2e-6022-4570-80f9-0baae5249a3d",
   "metadata": {},
   "outputs": [],
   "source": [
    "ti = 99\n",
    "tf = 297\n",
    "# plt.plot(ocean_data_ip.intp.isel(time=slice(ti, tf)), ocean_data_ip.ub.isel(zC=64, yC=0, xF=128, time=slice(ti, tf))/ocean_data_ip.vb.isel(zC=64, yC=0, xF=128, time=ti),color = \"r\",label=f\"$u/v_5$ at z={ocean_data_ip.zC[64].values}\")\n",
    "plt.plot(ocean_data_ip.intp.isel(time=slice(ti, tf)), ocean_data_ip.vb.isel(zC=64, yF=0, xC=128, time=slice(ti, tf))/ocean_data_ip.vb.isel(zC=64, yF=0, xC=128, time=ti),color = \"k\",label=f\"$V(t)/V_5$ at z={ocean_data_ip.zC[64].values}\")\n",
    "plt.xlim([4.8,15.2])\n",
    "plt.xlabel(\"Interial Period $(tf^*(2\\pi)^{-1})$\")\n",
    "plt.ylabel(\"$V/V_5$\")\n",
    "# plt.legend(loc=\"upper left\")\n",
    "plt.xticks([5,7,9,11,13,15])\n",
    "plt.show()"
   ]
  },
  {
   "cell_type": "code",
   "execution_count": null,
   "id": "71865af2-ae3b-4200-95eb-747f0474597c",
   "metadata": {},
   "outputs": [],
   "source": [
    "plt.plot(ocean_data_ip.intp.isel(time=slice(100, 420)), ocean_data_ip.v.isel(zC=63, yF=0, xC=128, time=slice(100, 420)))\n",
    "# plt.plot(ocean_data_ip.intp.isel(time=slice(100,400)),ocean_data_ip.u.isel(zC=63,yC=0,xC=128,time=slice(100,400))/ocean_data_ip.v.isel(zC=63,yC=0,xC=128,time=100))\n",
    "# plt.plot(ocean_data_ip.intp.isel(time=slice(100,400)),ocean_data_ip.w.isel(zC=63,yC=0,xC=128,time=slice(100,400))/ocean_data_ip.v.isel(zC=63,yC=0,xC=128,time=100))\n",
    "# plt.yscale(\"symlog\",linthresh=0.01)"
   ]
  },
  {
   "cell_type": "code",
   "execution_count": null,
   "id": "e2ab1ca3-c89c-44bf-8354-30b1fa704771",
   "metadata": {},
   "outputs": [],
   "source": [
    "plt.plot(ocean_data_ip.intp.isel(time=slice(200,400)),ocean_data_ip.va.isel(zC=63,yF=0,xC=256,time=slice(200,400)))\n",
    "plt.yscale(\"symlog\",linthresh=0.0001)"
   ]
  },
  {
   "cell_type": "code",
   "execution_count": null,
   "id": "03cddfda-29e4-4b4d-89e5-2f1f78de89da",
   "metadata": {},
   "outputs": [],
   "source": [
    "plt.plot(ocean_data_ip.intp.isel(time=slice(200,400)),ocean_data_ip.vb.isel(zC=63,yC=0,xF=256,time=slice(200,400)))\n",
    "plt.yscale(\"symlog\",linthresh=0.0001)"
   ]
  },
  {
   "cell_type": "code",
   "execution_count": null,
   "id": "c0d2872d-20a6-4012-833f-bbdb3e44d9fa",
   "metadata": {},
   "outputs": [],
   "source": [
    "total = (ocean_data_ip.vb.interp_like(ocean_data_ip.va.xC).interp_like(ocean_data_ip.va.yF)).isel(zC=63,yC=0,xF=256)+ ocean_data_ip.va.isel(zC=63,yF=0,xC=256)"
   ]
  },
  {
   "cell_type": "code",
   "execution_count": null,
   "id": "6f9236a5-d22d-4fc6-88cc-6376c623f5ba",
   "metadata": {},
   "outputs": [],
   "source": [
    "plt.plot(ocean_data_ip.intp.isel(time=slice(200,400)),total.isel(time=slice(200,400)))\n",
    "plt.yscale(\"symlog\",linthresh=0.0001)"
   ]
  },
  {
   "cell_type": "code",
   "execution_count": null,
   "id": "aafaf267-bf70-44f1-8617-e31b80ec07d6",
   "metadata": {},
   "outputs": [],
   "source": []
  },
  {
   "cell_type": "code",
   "execution_count": null,
   "id": "fef41848-f82e-4948-820e-b578f8face34",
   "metadata": {},
   "outputs": [],
   "source": [
    "zi = 64\n",
    "ti = 800\n",
    "tf = -1\n",
    "# v_mean = ocean_data.v.mean([\"xC\"])\n",
    "fourier_data = ocean_data.v.isel(yF=0,zC=zi,xC=256,time=slice(ti,tf))/ocean_data.v.isel(yF=0,zC=zi, xC=256,time=ti).max()\n",
    "# time_data = ocean_data.intp.isel(time=slice(ti,tf))"
   ]
  },
  {
   "cell_type": "code",
   "execution_count": null,
   "id": "4bcaa6ba-56e3-4e53-90a5-c90cbaf8490b",
   "metadata": {},
   "outputs": [],
   "source": [
    "# fourier_data[\"time\"] = fourier_data.time * f/(2*np.pi)\n",
    "fourier_data.plot()"
   ]
  },
  {
   "cell_type": "code",
   "execution_count": null,
   "id": "87d74872-cdfd-4790-aa4b-9eaa6c7fb623",
   "metadata": {},
   "outputs": [],
   "source": [
    "# fourier_data_ni = fourier_data.drop(['intp'])\n",
    "transform = xf.fft(fourier_data,dim=\"time\")"
   ]
  },
  {
   "cell_type": "code",
   "execution_count": null,
   "id": "a0904777-f937-434e-90ba-26135a043ba8",
   "metadata": {},
   "outputs": [],
   "source": [
    "plt.plot(transform.freq_time*2*np.pi,np.abs(transform)*1e-6,color=\"k\")\n",
    "plt.vlines(0.5*beta*f,ymin=0,ymax=np.max(np.abs(transform))*1.1*1e-6,color=\"b\",alpha=0.5,linestyles=\"dotted\",label=\"$\\omega=f^*/2$\")\n",
    "plt.xlim([0,0.001])\n",
    "# plt.ylim([0,3.1])\n",
    "# plt.legend()\n",
    "plt.xlabel(\"Frequency (in $s^{-1})$\")\n",
    "plt.ylabel(\"Absolue value of amplitude ($|\\chi(\\omega)| \\cdot 10^{-6}$)\")"
   ]
  },
  {
   "cell_type": "code",
   "execution_count": null,
   "id": "a67f3bc5-24dc-4358-aec6-043b6567e787",
   "metadata": {},
   "outputs": [],
   "source": [
    "for j in [*range(0,65,16)]:\n",
    "    fourier_data = ocean_data.v.isel(yC=0,zC=j,xC=256,time=slice(ti,tf))/ocean_data.v.isel(yC=0,zC=64, xC=256,time=ti).max()\n",
    "    transform = xf.fft(fourier_data,dim=\"time\")\n",
    "    plt.plot(transform.freq_time*2*np.pi,np.abs(transform)*1e-6,label=f\"Level at z={ocean_data.zC[j].values}\")\n",
    "# plt.vlines(0.5*beta*f,ymin=0,ymax=5,color=\"b\",alpha=0.5,linestyles=\"dotted\")\n",
    "# plt.vlines(beta*f,ymin=0,ymax=5,color=\"b\",alpha=0.5,linestyles=\"dotted\")\n",
    "# plt.vlines(1.5*beta*f,ymin=0,ymax=5,color=\"b\",alpha=0.5,linestyles=\"dotted\")\n",
    "# plt.vlines(2.5*beta*f,ymin=0,ymax=5,color=\"b\",alpha=0.5,linestyles=\"dotted\")\n",
    "# plt.legend(loc=\"upper right\")\n",
    "# plt.yscale(\"log\")\n",
    "# plt.gca().set_aspect(100)\n",
    "plt.xlim([0,0.001])\n",
    "plt.xticks(rotation=15)\n",
    "# plt.xscale(\"symlog\",linthresh=10**(-3))\n",
    "plt.show()"
   ]
  },
  {
   "cell_type": "code",
   "execution_count": null,
   "id": "bb38cc43-e711-4f58-bb15-ef37a91d4f4f",
   "metadata": {},
   "outputs": [],
   "source": []
  },
  {
   "cell_type": "code",
   "execution_count": null,
   "id": "09c7e23b-988f-4de1-bc53-49e93201f2ef",
   "metadata": {},
   "outputs": [],
   "source": []
  },
  {
   "cell_type": "code",
   "execution_count": null,
   "id": "7dd7680e-5b61-4157-aea1-d1f94bf378f4",
   "metadata": {},
   "outputs": [],
   "source": [
    "magnitude = np.abs(fourier_data)\n",
    "growth_rate = sc.stats.linregress(fourier_data.time, np.log(np.abs(fourier_data/fourier_data[0])))"
   ]
  },
  {
   "cell_type": "code",
   "execution_count": null,
   "id": "2438dfc6-7332-4261-b43c-d482af4ab7fe",
   "metadata": {},
   "outputs": [],
   "source": [
    "plt.plot(time_data*fstar/(2*np.pi),magnitude)\n",
    "# plt.yscale(\"log\")"
   ]
  },
  {
   "cell_type": "code",
   "execution_count": null,
   "id": "6922cae8-c1b3-418e-be7c-143e41967626",
   "metadata": {},
   "outputs": [],
   "source": [
    "growth_rate.slope"
   ]
  },
  {
   "cell_type": "code",
   "execution_count": null,
   "id": "b42a3505-662b-42d5-aea2-4c32f69ccde5",
   "metadata": {},
   "outputs": [],
   "source": [
    "normalized_fourier_data = fourier_data/np.exp(growth_rate.slope*fourier_data.time)"
   ]
  },
  {
   "cell_type": "code",
   "execution_count": null,
   "id": "88b42e50-57d8-4728-8f8e-1c6d1840fc51",
   "metadata": {},
   "outputs": [],
   "source": []
  },
  {
   "cell_type": "code",
   "execution_count": null,
   "id": "8eddf365-c468-4b10-a310-68188074b684",
   "metadata": {},
   "outputs": [],
   "source": [
    "transform"
   ]
  },
  {
   "cell_type": "code",
   "execution_count": null,
   "id": "422afe6c-1259-4524-82e1-13f964dd9f66",
   "metadata": {},
   "outputs": [],
   "source": [
    "# fourier_data_ni = fourier_data.drop(['intp'])\n",
    "transform = xf.fft(normalized_fourier_data)\n",
    "np.abs(transform).plot()\n",
    "# plt.vlines(0.5*fstar,ymin=0,ymax=np.max(transform.imag)*1.1,color=\"b\",alpha=0.5,linestyles=\"dotted\")"
   ]
  },
  {
   "cell_type": "code",
   "execution_count": null,
   "id": "cf9307f8-dc09-4238-890f-893a78ff1295",
   "metadata": {},
   "outputs": [],
   "source": [
    "plt.plot(time_data,normalized_fourier_data/np.abs(normalized_fourier_data[0]))\n",
    "plt.xlabel(\"time ($t\\dfrac{f^*}{2\\pi}$)\")\n",
    "plt.ylabel(\"normalized velocity ($m s^{-1}$)\")\n",
    "# plt.yscale(\"log\")"
   ]
  },
  {
   "cell_type": "code",
   "execution_count": null,
   "id": "261e4b3b-9597-4b3a-93d4-38e3a672eb7b",
   "metadata": {},
   "outputs": [],
   "source": [
    "sr = len(time_data)/(time_data[-1]-time_data[0]).values\n",
    "ts = (time_data[-1]-time_data[0])/sr\n",
    "ft = np.fft.rfft(normalized_fourier_data,norm=None)\n",
    "N = len(ft)\n",
    "n = np.arange(N)\n",
    "T = (normalized_fourier_data.time[-1]-normalized_fourier_data.time[-2]).values\n",
    "freq = np.fft.rfftfreq(len(normalized_fourier_data),d=0.05)\n",
    "plt.plot(freq,np.abs(ft),color=\"k\")\n",
    "# plt.vlines(0.5*fstar*10**(4),ymin=0,ymax=np.max(np.abs(ft))*1.1,color=\"b\",alpha=0.5,linestyles=\"dotted\")\n",
    "# plt.vlines(1.5*fstar*10**(4),ymin=0,ymax=np.max(np.abs(ft))*1.1,color=\"b\",alpha=0.5,linestyles=\"dotted\")\n",
    "# plt.vlines(2.5*fstar*10**(4),ymin=0,ymax=np.max(np.abs(ft))*1.1,color=\"b\",alpha=0.5,linestyles=\"dotted\")\n",
    "# plt.vlines(3.5*fstar*10**(4),ymin=0,ymax=np.max(np.abs(ft))*1.1,color=\"b\",alpha=0.5,linestyles=\"dotted\")\n",
    "# plt.vlines(4.5*fstar*10**(4),ymin=0,ymax=np.max(np.abs(ft))*1.1,color=\"b\",alpha=0.5,linestyles=\"dotted\")\n",
    "# plt.vlines(5.5*fstar*10**(4),ymin=0,ymax=np.max(np.abs(ft))*1.1,color=\"b\",alpha=0.5,linestyles=\"dotted\")\n",
    "# plt.vlines(6.5*fstar*10**(4),ymin=0,ymax=np.max(np.abs(ft))*1.1,color=\"b\",alpha=0.5,linestyles=\"dotted\")\n",
    "\n",
    "# plt.vlines(6.5*fstar*10**(4),ymin=0,ymax=0.0007)\n",
    "# plt.xlim([0,0.0001])\n",
    "plt.xlabel(\"Frequency (per intertial period)\")\n",
    "plt.ylabel(\"FFT Amplitude\")"
   ]
  },
  {
   "cell_type": "code",
   "execution_count": null,
   "id": "5e49e1b0-2258-439b-b80b-e9d4cfb8d5cb",
   "metadata": {},
   "outputs": [],
   "source": []
  },
  {
   "cell_type": "code",
   "execution_count": null,
   "id": "2ccaeb01-0dd1-41cd-806e-d877d2b77025",
   "metadata": {},
   "outputs": [],
   "source": [
    "# v_mean = ocean_data.v.mean([\"xC\"])\n",
    "fourier_data_map = (ocean_data.v.isel(time=slice(200,400))/ocean_data.v.isel(time=200).max())"
   ]
  },
  {
   "cell_type": "code",
   "execution_count": null,
   "id": "1b007d77-a89d-4307-acaf-7440de578394",
   "metadata": {},
   "outputs": [],
   "source": [
    "fourier_data_map = fourier_data_map.mean(\"yC\")\n",
    "fourier_data_map"
   ]
  },
  {
   "cell_type": "code",
   "execution_count": null,
   "id": "86a60e05-4275-4cc2-9cc7-8adcd34070bf",
   "metadata": {},
   "outputs": [],
   "source": []
  },
  {
   "cell_type": "code",
   "execution_count": null,
   "id": "e9c1347f-49a9-4e55-af07-dec65a7ab63b",
   "metadata": {},
   "outputs": [],
   "source": [
    "transform_domain = xf.fft(fourier_data_map,dim=[\"zC\"])"
   ]
  },
  {
   "cell_type": "code",
   "execution_count": null,
   "id": "fa1cf846-bbfc-4dc2-9ab9-521f8430195e",
   "metadata": {},
   "outputs": [],
   "source": [
    "plt.plot(transform_domain.freq_zC,transform_domain.isel(time=2,xC=256).real)"
   ]
  },
  {
   "cell_type": "code",
   "execution_count": null,
   "id": "a7771f5a-4660-43b9-9cc9-e112953d12da",
   "metadata": {},
   "outputs": [],
   "source": [
    "xf.ifft(transform_domain)"
   ]
  },
  {
   "cell_type": "code",
   "execution_count": null,
   "id": "263c9359-496d-455c-9422-83370493f87b",
   "metadata": {},
   "outputs": [],
   "source": [
    "plt.plot(transform_domain.freq_xC,transform_domain.real[63,:,:])"
   ]
  },
  {
   "cell_type": "code",
   "execution_count": null,
   "id": "a7975967-cc12-46a3-91fa-d3138d9ce5c2",
   "metadata": {},
   "outputs": [],
   "source": []
  },
  {
   "cell_type": "code",
   "execution_count": null,
   "id": "7bcb18fd-e5c9-43e4-841e-b04366e93215",
   "metadata": {},
   "outputs": [],
   "source": [
    "import matplotlib.colors as colors"
   ]
  },
  {
   "cell_type": "code",
   "execution_count": null,
   "id": "57040bab-fda2-4bd7-99a1-7e56643dcb31",
   "metadata": {},
   "outputs": [],
   "source": [
    "# plt.contourf(transform_domain.freq_xC,transform_domain.freq_time*2*np.pi,transform_domain.real[:,63,:],cmap='Accent',norm=colors.SymLogNorm(linthresh=1e9))\n",
    "# plt.colorbar()\n",
    "# plt.hlines(fstar,xmin=-0.1,xmax=0.1)"
   ]
  },
  {
   "cell_type": "raw",
   "id": "35c64bc2-19d4-4838-a756-f0ec7063a8af",
   "metadata": {},
   "source": [
    "transform_domain"
   ]
  },
  {
   "cell_type": "code",
   "execution_count": null,
   "id": "5d455ee5-8057-44ad-b26b-ada93ddcc850",
   "metadata": {},
   "outputs": [],
   "source": []
  }
 ],
 "metadata": {
  "kernelspec": {
   "display_name": "Python 3 (ipykernel)",
   "language": "python",
   "name": "python3"
  },
  "language_info": {
   "codemirror_mode": {
    "name": "ipython",
    "version": 3
   },
   "file_extension": ".py",
   "mimetype": "text/x-python",
   "name": "python",
   "nbconvert_exporter": "python",
   "pygments_lexer": "ipython3",
   "version": "3.10.13"
  }
 },
 "nbformat": 4,
 "nbformat_minor": 5
}
