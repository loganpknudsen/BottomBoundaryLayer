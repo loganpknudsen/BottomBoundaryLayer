{
 "cells": [
  {
   "cell_type": "code",
   "execution_count": null,
   "id": "fe4ce860-3ebb-4083-b532-ea8a2dc2cb24",
   "metadata": {},
   "outputs": [],
   "source": [
    "import xarray as xr\n",
    "import numpy as np\n",
    "import matplotlib.pyplot as plt\n",
    "import pandas as pd\n",
    "import scipy as sc"
   ]
  },
  {
   "cell_type": "code",
   "execution_count": null,
   "id": "775adb32-63dc-4921-ba73-b0c65a9812d3",
   "metadata": {},
   "outputs": [],
   "source": [
    "# file = \"vinffixed/TKE_terms_height_147.4894258415078_interior_velocity_0.1_visc_1.0e-5_Sinf_1.5001427892662003_gamma_0.14292444558091658_theta_2.716_f_0.0001_N2_1.0e-5.nc\"\n",
    "file = \"vinffixed/TKE_terms_height_63.21485960107034_interior_velocity_0.1_visc_1.0e-5_Sinf_1.0000287024749517_gamma_0.5002284142579378_theta_1.8113_f_0.0001_N2_1.0e-5.nc\"\n",
    "\n",
    "ocean_data=xr.open_dataset(\"/glade/derecho/scratch/knudsenl/data/new_data/\"+file)"
   ]
  },
  {
   "cell_type": "code",
   "execution_count": null,
   "id": "e0c48247-42fe-43d2-85b4-abbc14ed0356",
   "metadata": {},
   "outputs": [],
   "source": []
  },
  {
   "cell_type": "code",
   "execution_count": null,
   "id": "40150d58-2e9f-4dd3-8f92-be2d3885b910",
   "metadata": {},
   "outputs": [],
   "source": [
    "theta = 1.8113*np.pi/180\n",
    "N2 = 10**(-5)\n",
    "Vinf = 0.1\n",
    "f = 10**(-4)\n",
    "gm = 0.47106996773982085\n",
    "h = f*Vinf/(N2*np.tan(theta)*gm)\n",
    "fstar = np.cos(theta)*(f**2+np.tan(theta)**2*N2)**(0.5)\n",
    "lmbd = (N2*np.tan(theta)*gm)/f\n",
    "delta = 0.5"
   ]
  },
  {
   "cell_type": "code",
   "execution_count": null,
   "id": "fd915d86-5155-4be1-b6f5-820baa7d21a3",
   "metadata": {},
   "outputs": [],
   "source": []
  },
  {
   "cell_type": "code",
   "execution_count": null,
   "id": "fa94e83f-7f28-449f-907b-ecf36e989b58",
   "metadata": {},
   "outputs": [],
   "source": [
    "KE_spatial_average_time_series = ocean_data.k "
   ]
  },
  {
   "cell_type": "code",
   "execution_count": null,
   "id": "77ed43a9-8031-4452-8044-bd0c28feb014",
   "metadata": {},
   "outputs": [],
   "source": [
    "inertial_period = (KE_spatial_average_time_series.time/pd.Timedelta(\"1s\"))*(fstar/(2*np.pi))\n",
    "KE_spatial_average_time_series_ip = KE_spatial_average_time_series.assign_coords(intp = ('time',inertial_period.data))"
   ]
  },
  {
   "cell_type": "code",
   "execution_count": null,
   "id": "358fce3c-2add-4e91-9509-8af91f2236c3",
   "metadata": {},
   "outputs": [],
   "source": [
    "seconds = KE_spatial_average_time_series.time/pd.Timedelta(\"1s\")"
   ]
  },
  {
   "cell_type": "code",
   "execution_count": null,
   "id": "e9c9586f-2953-4e22-af1a-296f9020a525",
   "metadata": {},
   "outputs": [],
   "source": [
    "AGSP_spatial_average_time_series = ocean_data.AGSP \n",
    "inertial_period = AGSP_spatial_average_time_series.time/pd.Timedelta(\"1s\")*(fstar)/(2*np.pi)\n",
    "AGSP_spatial_average_time_series_ip = AGSP_spatial_average_time_series.assign_coords(intp = ('time',inertial_period.data))\n",
    "WSP_spatial_average_time_series = ocean_data.WSP \n",
    "inertial_period = WSP_spatial_average_time_series.time/pd.Timedelta(\"1s\")*(fstar)/(2*np.pi)\n",
    "WSP_spatial_average_time_series_ip = WSP_spatial_average_time_series.assign_coords(intp = ('time',inertial_period.data))\n",
    "GSP_spatial_average_time_series = ocean_data.GSP \n",
    "inertial_period = GSP_spatial_average_time_series.time/pd.Timedelta(\"1s\")*(fstar)/(2*np.pi)\n",
    "GSP_spatial_average_time_series_ip = GSP_spatial_average_time_series.assign_coords(intp = ('time',inertial_period.data))\n",
    "BFLUX_spatial_average_time_series = ocean_data.BFLUX \n",
    "inertial_period = BFLUX_spatial_average_time_series.time/pd.Timedelta(\"1s\")*(fstar)/(2*np.pi)\n",
    "BFLUX_spatial_average_time_series_ip = BFLUX_spatial_average_time_series.assign_coords(intp = ('time',inertial_period.data))\n",
    "E_spatial_average_time_series = -1*ocean_data.E \n",
    "inertial_period = E_spatial_average_time_series.time/pd.Timedelta(\"1s\")*(fstar)/(2*np.pi)\n",
    "E_spatial_average_time_series_ip = E_spatial_average_time_series.assign_coords(intp = ('time',inertial_period.data))\n",
    "KE_turb = ocean_data.k \n",
    "seconds = KE_turb.time/pd.Timedelta(\"1s\")\n",
    "inertial_period = KE_turb.time/pd.Timedelta(\"1s\")*(fstar)/(2*np.pi)\n",
    "KE_turb_ip = KE_turb.assign_coords(intp = ('time',inertial_period.data))\n",
    "KE_turb_ip = KE_turb_ip.assign_coords(sec = ('time',seconds.data))\n",
    "dkdt = KE_turb_ip.differentiate(coord='sec',edge_order=2)"
   ]
  },
  {
   "cell_type": "code",
   "execution_count": null,
   "id": "af3893ed-7172-469a-836d-6bbd4d5eee77",
   "metadata": {},
   "outputs": [],
   "source": [
    "file = \"vinffixed/flow_fields_height_63.21485960107034_interior_velocity_0.1_visc_1.0e-5_Sinf_1.0000287024749517_gamma_0.5002284142579378_theta_1.8113_f_0.0001_N2_1.0e-5.nc\"\n",
    "flow_fields = xr.open_dataset(\"/glade/derecho/scratch/knudsenl/data/new_data/\"+file)#.isel(time=slice(0,4000)) #i=103\n",
    "seconds = flow_fields.time/pd.Timedelta(\"1s\")\n",
    "flow_fields = flow_fields.assign_coords(time = ('time',seconds.data))"
   ]
  },
  {
   "cell_type": "code",
   "execution_count": null,
   "id": "984c6569-2625-4b85-96ea-7ec3901203ab",
   "metadata": {},
   "outputs": [],
   "source": [
    "def z_change(t,z,x):\n",
    "    z_osc = f*np.cos(theta)*delta*lmbd/(fstar**2)*(np.cos(fstar*t)-1)*(h-z)\n",
    "    return z_osc"
   ]
  },
  {
   "cell_type": "code",
   "execution_count": null,
   "id": "cabaa6ed-3d20-4c6f-b79c-dd7b124047db",
   "metadata": {},
   "outputs": [],
   "source": [
    "flow_fields.u.zC[40]"
   ]
  },
  {
   "cell_type": "code",
   "execution_count": null,
   "id": "e70ccaf3-3769-4084-8532-0a6d5a985dec",
   "metadata": {},
   "outputs": [],
   "source": [
    "ti = 600\n",
    "tf = 681\n",
    "zi = 20\n",
    "xi = 256\n",
    "u_lagrange = flow_fields.u.sel(xF=flow_fields.xF[xi]-z_change(flow_fields.time[ti:tf],flow_fields.zC[zi],flow_fields.xF[xi]),zC=flow_fields.zC[zi],time=flow_fields.time[ti:tf],method=\"nearest\")\n",
    "v_lagrange = flow_fields.v.sel(xC=flow_fields.xF[xi]-z_change(flow_fields.time[ti:tf],flow_fields.zC[zi],flow_fields.xF[xi]),zC=flow_fields.zC[zi],time=flow_fields.time[ti:tf],method=\"nearest\")\n",
    "w_lagrange = flow_fields.w.sel(xC=flow_fields.xF[xi]-z_change(flow_fields.time[ti:tf],flow_fields.zC[zi],flow_fields.xF[xi]),zF=flow_fields.zC[zi],time=flow_fields.time[ti:tf],method=\"nearest\")\n",
    "b_lagrange = flow_fields.b.sel(xC=flow_fields.xF[xi]-z_change(flow_fields.time[ti:tf],flow_fields.zC[zi],flow_fields.xF[xi]),zC=flow_fields.zC[zi],time=flow_fields.time[ti:tf],method=\"nearest\")\n",
    "u_lagrange = u_lagrange.drop_vars(['xF','yC','zC'])\n",
    "v_lagrange = v_lagrange.drop_vars(['xC','yF','zC'])\n",
    "w_lagrange = w_lagrange.drop_vars(['xC','yC','zC'])\n",
    "b_lagrange = b_lagrange.drop_vars(['xC','yC','zC'])\n",
    "Ub = flow_fields.ub.sel(xF=flow_fields.xF[xi],zC=flow_fields.zC[zi],time=flow_fields.time[ti:tf],method=\"nearest\")\n",
    "Vb = flow_fields.vb.sel(xC=flow_fields.xC[xi],zC=flow_fields.zC[zi],time=flow_fields.time[ti:tf],method=\"nearest\")\n",
    "Bb = flow_fields.B.sel(xC=flow_fields.xC[xi],zC=flow_fields.zC[zi],time=flow_fields.time[ti:tf],method=\"nearest\")\n"
   ]
  },
  {
   "cell_type": "code",
   "execution_count": null,
   "id": "534d901e-68fa-406b-8013-8942cdd31651",
   "metadata": {},
   "outputs": [],
   "source": [
    "fig, ax_dict = plt.subplot_mosaic([['(a.)'],['(b.)'],['(c.)']],sharex=True,layout=\"constrained\",figsize=(8,8)) # \n",
    "ax = ax_dict['(a.)']\n",
    "ts2 = 6000 #3400 # -650 # 1980 \n",
    "tf2 = 6801 # -340 # 2370\n",
    "sum = dkdt[ts2:tf2]-AGSP_spatial_average_time_series_ip.values[ts2:tf2]-WSP_spatial_average_time_series_ip.values[ts2:tf2]-GSP_spatial_average_time_series_ip.values[ts2:tf2]-BFLUX_spatial_average_time_series_ip.values[ts2:tf2] -E_spatial_average_time_series_ip.values[ts2:tf2] #+KTRANS_spatial_average_time_series_ip.values[ts2:tf2]+PWORK_spatial_average_time_series_ip.values[ts2:tf2]\n",
    "ax.plot(dkdt.intp[ts2:tf2],dkdt[ts2:tf2]/(KE_turb_ip[ts2:tf2]*fstar),color=\"k\",label='$\\dfrac{1}{k}\\dfrac{\\partial k}{\\partial t}$')\n",
    "ax.plot(AGSP_spatial_average_time_series_ip.intp[ts2:tf2],AGSP_spatial_average_time_series_ip.values[ts2:tf2]/(KE_turb_ip.values[ts2:tf2]*fstar),color='red',label='ASP/k')\n",
    "ax.plot(GSP_spatial_average_time_series_ip.intp[ts2:tf2],GSP_spatial_average_time_series_ip.values[ts2:tf2]/(KE_turb_ip.values[ts2:tf2]*fstar),color='green',label='GSP/k')\n",
    "ax.plot(WSP_spatial_average_time_series_ip.intp[ts2:tf2],WSP_spatial_average_time_series_ip.values[ts2:tf2]/(KE_turb_ip.values[ts2:tf2]*fstar),color='cyan',label='WSP/k')\n",
    "ax.plot(BFLUX_spatial_average_time_series_ip.intp[ts2:tf2],BFLUX_spatial_average_time_series_ip.values[ts2:tf2]/(KE_turb_ip.values[ts2:tf2]*fstar),color='blue',label='BP/k')\n",
    "ax.plot(E_spatial_average_time_series_ip.intp[ts2:tf2],E_spatial_average_time_series_ip.values[ts2:tf2]/(KE_turb_ip.values[ts2:tf2]*fstar),color='pink',label='$-\\epsilon/k$')\n",
    "# ax.plot(dkdt.intp[ts2:tf2],sum.values/(KE_turb_ip[ts2:tf2]*fstar),color=\"k\",linestyle=\"--\", label=\"Residual/k\")\n",
    "ax.legend(loc=\"lower left\",ncols=7,prop={'size':8},handlelength=1.5)\n",
    "ax.set_ylabel(\"TKE Tendency Term/$f^*$\")\n",
    "ax.set_ylim([-0.75,0.5])\n",
    "ax.set_title(\"(a.)\", fontfamily='serif', loc='left', fontsize='medium')\n",
    "ax = ax_dict[\"(c.)\"]\n",
    "ax.plot(u_lagrange.time*fstar/(2*np.pi),u_lagrange.values/v_lagrange.values[0],color=\"k\",label=\"$u/v_{30}$\")\n",
    "ax.plot(b_lagrange.time*fstar/(2*np.pi),b_lagrange.values/b_lagrange.values[0],color=\"b\",alpha=0.8,label=\"$b/b_{30}$\")\n",
    "ax.plot(v_lagrange.time*fstar/(2*np.pi),v_lagrange.values/v_lagrange.values[0],color=\"r\",alpha=0.8,label=\"$v/v_{30}$\")\n",
    "# ax.plot(w_lagrange.time*fstar/(2*np.pi),w_lagrange.values/w_lagrange.values[0],color=\"m\",alpha=0.8,label=\"$w/w_{10}$\")\n",
    "ax.set_yticks([-8,-6,-4,-2,0,2,4,6])\n",
    "ax.legend(loc=\"lower left\",ncols=3,prop={'size':9},handlelength=1.5)\n",
    "ax.set_title(\"(c.)\", fontfamily='serif', loc='left', fontsize='medium')\n",
    "ax.set_xlabel(\"Modified Inertial Period\")\n",
    "# ax.set_ylim([-15.5,15.5])\n",
    "ax = ax_dict[\"(b.)\"]\n",
    "ax.plot(Ub.time*fstar/(2*np.pi),Ub.values/Vb.values[0],color=\"k\",label=\"$U/V_{30}$\")\n",
    "ax.plot(Vb.time*fstar/(2*np.pi),Vb.values/Vb.values[0],color=\"r\",alpha=0.8,label=\"$V/V_{30}$\")\n",
    "ax.plot(Bb.time*fstar/(2*np.pi),Bb.values/Bb.values[0],color=\"b\",alpha=0.8,label=\"$B/B_{30}$\")\n",
    "ax.legend(loc=\"lower left\",ncols=3,prop={'size':9},handlelength=1.5)\n",
    "ax.set_title(\"(b.)\", fontfamily='serif', loc='left', fontsize='medium')\n",
    "ax.set_xlabel(\" \")\n",
    "ax.set_xlim([30,34])\n",
    "ax.set_ylim([-0.75,1.1])\n",
    "plt.savefig(\"Tendency_Terms_S_1_0_gamma_l_delta_0_5.pdf\")\n",
    "plt.show()"
   ]
  },
  {
   "cell_type": "code",
   "execution_count": null,
   "id": "2604bc78-9783-4dd9-b529-f9d65981e849",
   "metadata": {},
   "outputs": [],
   "source": [
    "plt.plot(u_lagrange.values/u_lagrange.values[0],v_lagrange.values/v_lagrange.values[0],color=\"blue\")\n",
    "# plt.plot(u_lagrange.values/u_lagrange.values[0],b_lagrange.values/v_lagrange.values[0])\n",
    "plt.xlabel(\"$u/v_{50}$\")\n",
    "plt.ylabel(\"$v/v_{50}$\")"
   ]
  },
  {
   "cell_type": "code",
   "execution_count": null,
   "id": "ecb95bd9-d935-4fee-a3e6-af77a30dc9cb",
   "metadata": {},
   "outputs": [],
   "source": [
    "# w_lagrange = flow_fields.w.interp_like(flow_fields.v).sel(xC=flow_fields.xC[xi]-z_change(flow_fields.time[ti:tf],flow_fields.zC[zi],flow_fields.xC[xi]),zF=flow_fields.zC[zi],time=flow_fields.time[ti:tf],method=\"nearest\")\n",
    "# w_lagrange = w_lagrange.drop_vars(['xC','yC','zC'])\n",
    "# u_lagrange = u_lagrange.drop_vars(['xF','yC','zC'])\n",
    "# uw = u_lagrange*w_lagrange\n",
    "# vw = v_lagrange*w_lagrange\n",
    "# bw = np.cos(theta)*b_lagrange*w_lagrange\n",
    "# bu = np.sin(theta)*b_lagrange*u_lagrange"
   ]
  },
  {
   "cell_type": "code",
   "execution_count": null,
   "id": "cd1659a0-46e3-4d3b-b0fe-38e2ac1d33bc",
   "metadata": {},
   "outputs": [],
   "source": [
    "# plt.plot(uw.time*fstar/(2*np.pi),uw,color=\"blue\")\n",
    "# plt.plot(vw.time*fstar/(2*np.pi),vw.isel(yF=0,yC=0)/(KE_turb_ip.isel(time=slice(ts2,tf2+1,10)).values*fstar),color=\"red\")\n",
    "# # plt.yscale(\"symlog\",linthresh=1e-15)"
   ]
  },
  {
   "cell_type": "code",
   "execution_count": null,
   "id": "6fb371d2-0742-4214-af22-8172b2260d21",
   "metadata": {},
   "outputs": [],
   "source": [
    "# w_lagrange"
   ]
  },
  {
   "cell_type": "code",
   "execution_count": null,
   "id": "aed1ccb1-2396-4be3-858b-18d89b2add61",
   "metadata": {},
   "outputs": [],
   "source": [
    "# plt.plot(bw.time*fstar/(2*np.pi),bw,color=\"blue\")\n",
    "# plt.plot(bu.time*fstar/(2*np.pi),bu,color=\"red\")\n",
    "# plt.plot(bu.time*fstar/(2*np.pi),(bu+bw).isel(yC=0).values/(KE_turb_ip.isel(time=slice(ts2,tf2+1,10)).values*fstar),color=\"k\")\n",
    "# plt.yscale(\"symlog\",linthresh=1e-17)"
   ]
  },
  {
   "cell_type": "code",
   "execution_count": null,
   "id": "c794a13f-5acc-4caa-a65a-abf9c700bae8",
   "metadata": {},
   "outputs": [],
   "source": [
    "# KE_turb_ip.values[ts2:tf2]"
   ]
  },
  {
   "cell_type": "code",
   "execution_count": null,
   "id": "2ee1391f-2a19-4b2b-af83-0b903dc8bab4",
   "metadata": {},
   "outputs": [],
   "source": []
  }
 ],
 "metadata": {
  "kernelspec": {
   "display_name": "Python 3 (ipykernel)",
   "language": "python",
   "name": "python3"
  },
  "language_info": {
   "codemirror_mode": {
    "name": "ipython",
    "version": 3
   },
   "file_extension": ".py",
   "mimetype": "text/x-python",
   "name": "python",
   "nbconvert_exporter": "python",
   "pygments_lexer": "ipython3",
   "version": "3.10.13"
  }
 },
 "nbformat": 4,
 "nbformat_minor": 5
}
