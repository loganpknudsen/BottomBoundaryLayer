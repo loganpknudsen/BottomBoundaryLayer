{
 "cells": [
  {
   "cell_type": "code",
   "execution_count": null,
   "id": "d4b33249",
   "metadata": {},
   "outputs": [],
   "source": [
    "import numpy as np\n",
    "import matplotlib.pyplot as plt"
   ]
  },
  {
   "cell_type": "code",
   "execution_count": null,
   "id": "d7563bf8",
   "metadata": {},
   "outputs": [],
   "source": [
    "def oscillation(t,S):\n",
    "    theta = 1.8113*np.pi/180\n",
    "    f = 1e-4\n",
    "    N = S*f/np.tan(theta)\n",
    "    gm = 1/(1+S**2)\n",
    "    delta = 0.5\n",
    "    phi = np.pi/2\n",
    "    lmbd = N**2*np.tan(theta)*gm/(f*np.cos(theta))\n",
    "    fstar = f*np.cos(theta)*(1+S**2)**(0.5)\n",
    "    u = delta*lmbd*np.cos(t+phi)\n",
    "    v = -f*np.cos(theta)*delta*lmbd*np.sin(t+phi)/(fstar)\n",
    "    b = N**2*np.sin(theta)*delta*lmbd*np.sin(t+phi)/(fstar)\n",
    "    return [u,v,b]"
   ]
  },
  {
   "cell_type": "code",
   "execution_count": null,
   "id": "77af9b57",
   "metadata": {},
   "outputs": [],
   "source": [
    "t = np.linspace(0,2*np.pi,1000)\n",
    "u, v, b = oscillation(t,1)"
   ]
  },
  {
   "cell_type": "code",
   "execution_count": null,
   "id": "069e54f2",
   "metadata": {},
   "outputs": [],
   "source": [
    "plt.plot(t,u,c=\"r\")\n",
    "plt.plot(t,v,c=\"b\")\n",
    "plt.plot(t,b,c=\"g\")"
   ]
  },
  {
   "cell_type": "code",
   "execution_count": null,
   "id": "cbe6de3d",
   "metadata": {},
   "outputs": [],
   "source": [
    "N = 1e-4/np.tan(1.8113*np.pi/180)\n",
    "plt.plot(t,(u**2+v**2)/2,c=\"r\")\n",
    "plt.plot(t,b**2/(2*N**2),c=\"b\")\n",
    "plt.plot(t,(u**2+v**2)/2+b**2/(2*N**2),c=\"k\")"
   ]
  },
  {
   "cell_type": "code",
   "execution_count": null,
   "id": "5cb2c080",
   "metadata": {},
   "outputs": [],
   "source": [
    "plt.plot(u,v)\n",
    "plt.gca().set_aspect(\"equal\")"
   ]
  },
  {
   "cell_type": "code",
   "execution_count": null,
   "id": "97a6ef5f",
   "metadata": {},
   "outputs": [],
   "source": [
    "plt.plot(u,b)\n",
    "# plt.gca().set_aspect(\"equal\")"
   ]
  },
  {
   "cell_type": "code",
   "execution_count": null,
   "id": "2f2c56b9",
   "metadata": {},
   "outputs": [],
   "source": [
    "a = np.max(u)\n",
    "b = np.max(v)\n",
    "c = (a**2-b**2)**(0.5)\n",
    "ecc = c/a"
   ]
  },
  {
   "cell_type": "code",
   "execution_count": null,
   "id": "9dd0a52d",
   "metadata": {},
   "outputs": [],
   "source": [
    "ecc"
   ]
  },
  {
   "cell_type": "code",
   "execution_count": null,
   "id": "9672ddbc",
   "metadata": {},
   "outputs": [],
   "source": []
  },
  {
   "cell_type": "code",
   "execution_count": null,
   "id": "f2bf52bb",
   "metadata": {},
   "outputs": [],
   "source": []
  }
 ],
 "metadata": {
  "kernelspec": {
   "display_name": "Python 3 (ipykernel)",
   "language": "python",
   "name": "python3"
  },
  "language_info": {
   "codemirror_mode": {
    "name": "ipython",
    "version": 3
   },
   "file_extension": ".py",
   "mimetype": "text/x-python",
   "name": "python",
   "nbconvert_exporter": "python",
   "pygments_lexer": "ipython3",
   "version": "3.8.10"
  }
 },
 "nbformat": 4,
 "nbformat_minor": 5
}
