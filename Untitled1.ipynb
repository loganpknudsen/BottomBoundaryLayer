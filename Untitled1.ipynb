{
 "cells": [
  {
   "cell_type": "code",
   "execution_count": 1,
   "id": "2a959984",
   "metadata": {},
   "outputs": [
    {
     "data": {
      "text/plain": [
       "0.8333948061558454"
      ]
     },
     "execution_count": 1,
     "metadata": {},
     "output_type": "execute_result"
    }
   ],
   "source": [
    "(3-1e-6*tand(3)^2*10^(8))*(cosd(3)*(3*(1+1e-6*tand(3)^2*10^(8))-4*1e-6*0.5*tand(3)^2*10^(8)))^(-1)"
   ]
  },
  {
   "cell_type": "code",
   "execution_count": null,
   "id": "f17f8e90",
   "metadata": {},
   "outputs": [],
   "source": []
  }
 ],
 "metadata": {
  "kernelspec": {
   "display_name": "Julia 1.9.2",
   "language": "julia",
   "name": "julia-1.9"
  },
  "language_info": {
   "file_extension": ".jl",
   "mimetype": "application/julia",
   "name": "julia",
   "version": "1.9.2"
  }
 },
 "nbformat": 4,
 "nbformat_minor": 5
}
