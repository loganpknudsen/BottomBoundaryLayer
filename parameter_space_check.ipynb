{
 "cells": [
  {
   "cell_type": "code",
   "execution_count": 281,
   "id": "5bd991f6",
   "metadata": {},
   "outputs": [],
   "source": [
    "import numpy as np\n",
    "import matplotlib.pyplot as plt\n",
    "import math as mt"
   ]
  },
  {
   "cell_type": "markdown",
   "id": "691f9f87",
   "metadata": {},
   "source": [
    "The parameters for the simulation are declared:"
   ]
  },
  {
   "cell_type": "code",
   "execution_count": 382,
   "id": "eca78195",
   "metadata": {},
   "outputs": [],
   "source": [
    "N2 = 1e-5 # s^-2, interior stratification\n",
    "theta = 0.01 # angle of the slope\n",
    "f = 1e-4 # s^-1 coriolis parameter\n",
    "Vinf = 0.1 # m s^-1 interior velocity\n",
    "delta = 0.1"
   ]
  },
  {
   "cell_type": "markdown",
   "id": "410ea341",
   "metadata": {},
   "source": [
    "The Slope Burger Number is defined as \n",
    "$$ S_\\infty = \\dfrac{N_\\infty\\theta}{f}$$\n",
    "so we calculate it to be"
   ]
  },
  {
   "cell_type": "code",
   "execution_count": 383,
   "id": "478331cb",
   "metadata": {},
   "outputs": [
    {
     "data": {
      "text/plain": [
       "0.31622776601683794"
      ]
     },
     "execution_count": 383,
     "metadata": {},
     "output_type": "execute_result"
    }
   ],
   "source": [
    "Sinf = (N2**(0.5)*theta)/f # Slope Burger Number\n",
    "Sinf"
   ]
  },
  {
   "cell_type": "markdown",
   "id": "c22c2fd6",
   "metadata": {},
   "source": [
    "The gamma parameter is defined to be \n",
    "$$ \\gamma = (1+S_\\infty^2)^{-1}$$\n",
    "so we calculate it to be"
   ]
  },
  {
   "cell_type": "code",
   "execution_count": 384,
   "id": "c26155a5",
   "metadata": {},
   "outputs": [
    {
     "data": {
      "text/plain": [
       "0.9174311926605504"
      ]
     },
     "execution_count": 384,
     "metadata": {},
     "output_type": "execute_result"
    }
   ],
   "source": [
    "gamma = (1+Sinf**2*(1-delta))**(-1) #(1+Sinf**2*(1-delta))**(-1) # 0 PV parameter\n",
    "gamma"
   ]
  },
  {
   "cell_type": "markdown",
   "id": "fcb53acf",
   "metadata": {},
   "source": [
    "The boundary layer height is defined to be \n",
    "$$ h = \\dfrac{fV_\\infty}{\\gamma N^2_\\infty\\theta} $$\n",
    "so we see it is"
   ]
  },
  {
   "cell_type": "code",
   "execution_count": 385,
   "id": "ce305050",
   "metadata": {},
   "outputs": [
    {
     "data": {
      "text/plain": [
       "109.0"
      ]
     },
     "execution_count": 385,
     "metadata": {},
     "output_type": "execute_result"
    }
   ],
   "source": [
    "h = (f*Vinf)/(gamma*N2*theta) # m height\n",
    "h"
   ]
  },
  {
   "cell_type": "code",
   "execution_count": 386,
   "id": "a91ac56e",
   "metadata": {},
   "outputs": [
    {
     "data": {
      "text/plain": [
       "109.0"
      ]
     },
     "execution_count": 386,
     "metadata": {},
     "output_type": "execute_result"
    }
   ],
   "source": [
    "h = (f*Vinf)/(gamma*N2*theta) # m height\n",
    "h"
   ]
  },
  {
   "cell_type": "code",
   "execution_count": null,
   "id": "12a24481",
   "metadata": {},
   "outputs": [],
   "source": []
  },
  {
   "cell_type": "markdown",
   "id": "628deb7a",
   "metadata": {},
   "source": [
    "Note that we round this to the next highest whole number to prevent issues at the boundary height in the simulation. "
   ]
  },
  {
   "cell_type": "markdown",
   "id": "891b710c",
   "metadata": {},
   "source": [
    "We define the modified coriolis parameter to be \n",
    "$$ f^*=(f^2+N^2_\\infty\\theta)^{0.5} $$\n",
    "which we calculate to be "
   ]
  },
  {
   "cell_type": "code",
   "execution_count": 387,
   "id": "fe293659",
   "metadata": {},
   "outputs": [
    {
     "data": {
      "text/plain": [
       "5.244044240850758e-05"
      ]
     },
     "execution_count": 387,
     "metadata": {},
     "output_type": "execute_result"
    }
   ],
   "source": [
    "fstar = (f**2+theta**2*N2)**(0.5) # s^-1 modified coriolis frequency\n",
    "fstar/2"
   ]
  },
  {
   "cell_type": "markdown",
   "id": "8413c233",
   "metadata": {},
   "source": [
    "Richardson number:\n",
    "$$ Ri\\equiv \\dfrac{f^2(1-\\gamma)}{N^2_\\infty\\theta^2\\gamma^2}$$\n",
    "and for $\\gamma=(1+S^2_\\infty)^{-1}$\n",
    "$$ Ri\\equiv \\dfrac{f^2(1-\\gamma)}{N^2_\\infty\\theta^2\\gamma^2}=1+S^2_\\infty$$\n",
    "so we calculate"
   ]
  },
  {
   "cell_type": "code",
   "execution_count": 388,
   "id": "1908aab0",
   "metadata": {},
   "outputs": [
    {
     "data": {
      "text/plain": [
       "0.4500000000000003"
      ]
     },
     "execution_count": 388,
     "metadata": {},
     "output_type": "execute_result"
    }
   ],
   "source": [
    "Ri = (1-gamma)/(Sinf**2*gamma*2)\n",
    "Ri"
   ]
  },
  {
   "cell_type": "code",
   "execution_count": 389,
   "id": "960df190",
   "metadata": {},
   "outputs": [
    {
     "data": {
      "text/plain": [
       "1.2111111111111124"
      ]
     },
     "execution_count": 389,
     "metadata": {},
     "output_type": "execute_result"
    }
   ],
   "source": [
    "(N2*(1-gamma))/(N2*theta*gamma/f-0.1*N2*theta*gamma/f)**2"
   ]
  },
  {
   "cell_type": "markdown",
   "id": "c3244caf",
   "metadata": {},
   "source": [
    "Rossby Number:\n",
    "$$ Ro\\equiv \\dfrac{\\gamma N_\\infty^2\\theta^2}{f^2}=\\dfrac{S^2_\\infty}{1+S^2_\\infty}$$\n",
    "so we calculate"
   ]
  },
  {
   "cell_type": "code",
   "execution_count": 390,
   "id": "a8bf49a8",
   "metadata": {},
   "outputs": [
    {
     "data": {
      "text/plain": [
       "-0.09174311926605505"
      ]
     },
     "execution_count": 390,
     "metadata": {},
     "output_type": "execute_result"
    }
   ],
   "source": [
    "Ro = -(Sinf**2)*gamma\n",
    "Ro"
   ]
  },
  {
   "cell_type": "code",
   "execution_count": 391,
   "id": "b60f6a7f",
   "metadata": {},
   "outputs": [
    {
     "data": {
      "text/plain": [
       "0.0"
      ]
     },
     "execution_count": 391,
     "metadata": {},
     "output_type": "execute_result"
    }
   ],
   "source": [
    "f*N2*(1-gamma*(1+(1-delta)*Sinf**2))"
   ]
  },
  {
   "cell_type": "code",
   "execution_count": 392,
   "id": "8e746644",
   "metadata": {},
   "outputs": [
    {
     "data": {
      "text/plain": [
       "5.244044240850758e-05"
      ]
     },
     "execution_count": 392,
     "metadata": {},
     "output_type": "execute_result"
    }
   ],
   "source": [
    "fstar/2"
   ]
  },
  {
   "cell_type": "markdown",
   "id": "cd555068",
   "metadata": {},
   "source": [
    "The initial conditions and the shear parameter are declared below:"
   ]
  },
  {
   "cell_type": "code",
   "execution_count": 399,
   "id": "b96b9c5d",
   "metadata": {},
   "outputs": [],
   "source": [
    "delta = 0.1 # perturbed shear parameter\n",
    "vo = (gamma*N2*theta)/(f*delta) # s^-1 initial pertubation shear v"
   ]
  },
  {
   "cell_type": "code",
   "execution_count": 400,
   "id": "a85c71f9",
   "metadata": {},
   "outputs": [
    {
     "data": {
      "text/plain": [
       "6.4546279693118e-05"
      ]
     },
     "execution_count": 400,
     "metadata": {},
     "output_type": "execute_result"
    }
   ],
   "source": [
    "(1e-4*3.44e-11/(1e-5*(1-gamma)))**(0.5)"
   ]
  },
  {
   "cell_type": "code",
   "execution_count": 401,
   "id": "79dd93c9",
   "metadata": {},
   "outputs": [
    {
     "data": {
      "text/plain": [
       "5.244044240850758e-05"
      ]
     },
     "execution_count": 401,
     "metadata": {},
     "output_type": "execute_result"
    }
   ],
   "source": [
    "fstar/2"
   ]
  },
  {
   "cell_type": "markdown",
   "id": "c8604b8a",
   "metadata": {},
   "source": [
    "Now, we define the oscillations and calculate them:"
   ]
  },
  {
   "cell_type": "code",
   "execution_count": 402,
   "id": "aa5f6d44",
   "metadata": {},
   "outputs": [],
   "source": [
    "def shear_osc(t):\n",
    "        u = (f*vo)/(fstar)*np.sin(fstar*t)\n",
    "        v = vo+(f**2*vo)/(fstar**2)*(np.cos(fstar*t)-1)\n",
    "        N = N2*theta*(f*vo)/(fstar**2)*(np.cos(fstar*t)-1)\n",
    "        return [u,v,N]"
   ]
  },
  {
   "cell_type": "code",
   "execution_count": 403,
   "id": "9a748d97",
   "metadata": {},
   "outputs": [],
   "source": [
    "t = np.arange(0,(2*np.pi)/fstar,0.1)\n",
    "perts = shear_osc(t)"
   ]
  },
  {
   "cell_type": "markdown",
   "id": "149fa1eb",
   "metadata": {},
   "source": [
    "We know that the ertel potential vorticity is defined to be \n",
    "$$ q\\equiv fN^2_\\infty(1-\\gamma)-\\dfrac{N^4_\\infty \\theta^2\\gamma}{f}+N^2_\\infty\\theta v_o-fb_o$$\n",
    "so we calculate"
   ]
  },
  {
   "cell_type": "code",
   "execution_count": 404,
   "id": "0b165007",
   "metadata": {},
   "outputs": [
    {
     "data": {
      "text/plain": [
       "9.158312431613503e-10"
      ]
     },
     "execution_count": 404,
     "metadata": {},
     "output_type": "execute_result"
    }
   ],
   "source": [
    "PV = f*N2*(1-gamma)-theta*f*N2*(1-gamma)*(N2*theta*gamma)/f-(N2**2*theta**2*gamma**2)/f+N2*theta*vo-f*bo # s^-2 potential vorticity\n",
    "PV"
   ]
  },
  {
   "cell_type": "markdown",
   "id": "d6f484f1",
   "metadata": {},
   "source": [
    "The mininum frequency in a baroclinic flow is given by for our case\n",
    "$$ \\omega_{\\text{min}}\\equiv \\sqrt{\\dfrac{fq}{N^2_\\infty(1-\\gamma)}}$$\n",
    "which we calculate to be"
   ]
  },
  {
   "cell_type": "code",
   "execution_count": 405,
   "id": "9419d413",
   "metadata": {
    "scrolled": true
   },
   "outputs": [
    {
     "data": {
      "text/plain": [
       "9.991276470230777e-05"
      ]
     },
     "execution_count": 405,
     "metadata": {},
     "output_type": "execute_result"
    }
   ],
   "source": [
    "omega_min = (f*PV/(N2*(gamma)))**(0.5)\n",
    "omega_min"
   ]
  },
  {
   "cell_type": "code",
   "execution_count": 406,
   "id": "4824ea41",
   "metadata": {},
   "outputs": [
    {
     "data": {
      "text/plain": [
       "[<matplotlib.lines.Line2D at 0x7fb3c6b9b4f0>]"
      ]
     },
     "execution_count": 406,
     "metadata": {},
     "output_type": "execute_result"
    },
    {
     "data": {
      "image/png": "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