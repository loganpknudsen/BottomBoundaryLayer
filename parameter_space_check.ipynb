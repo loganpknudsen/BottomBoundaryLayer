{
 "cells": [
  {
   "cell_type": "code",
   "execution_count": 32,
   "id": "5bd991f6",
   "metadata": {},
   "outputs": [],
   "source": [
    "import numpy as np\n",
    "import matplotlib.pyplot as plt\n",
    "import math as mt"
   ]
  },
  {
   "cell_type": "markdown",
   "id": "691f9f87",
   "metadata": {},
   "source": [
    "The parameters for the simulation are declared:"
   ]
  },
  {
   "cell_type": "code",
   "execution_count": 33,
   "id": "eca78195",
   "metadata": {},
   "outputs": [],
   "source": [
    "N2 = 1e-5 # s^-2, interior stratification\n",
    "theta = 5e-3 # 0.01 # angle of the slope\n",
    "f = 1e-4 # s^-1 coriolis parameter\n",
    "Vinf = 0.05 # m s^-1 interior velocity\n",
    "delta = 0.1"
   ]
  },
  {
   "cell_type": "markdown",
   "id": "410ea341",
   "metadata": {},
   "source": [
    "The Slope Burger Number is defined as \n",
    "$$ S_\\infty = \\dfrac{N_\\infty\\theta}{f}$$\n",
    "so we calculate it to be"
   ]
  },
  {
   "cell_type": "code",
   "execution_count": 34,
   "id": "478331cb",
   "metadata": {},
   "outputs": [
    {
     "data": {
      "text/plain": [
       "0.15811388300841897"
      ]
     },
     "execution_count": 34,
     "metadata": {},
     "output_type": "execute_result"
    }
   ],
   "source": [
    "Sinf = (N2**(0.5)*theta)/f # Slope Burger Number\n",
    "Sinf"
   ]
  },
  {
   "cell_type": "markdown",
   "id": "c22c2fd6",
   "metadata": {},
   "source": [
    "The gamma parameter is defined to be \n",
    "$$ \\gamma = (1+S_\\infty^2)^{-1}$$\n",
    "so we calculate it to be"
   ]
  },
  {
   "cell_type": "code",
   "execution_count": 35,
   "id": "c26155a5",
   "metadata": {},
   "outputs": [
    {
     "data": {
      "text/plain": [
       "0.973130996834845"
      ]
     },
     "execution_count": 35,
     "metadata": {},
     "output_type": "execute_result"
    }
   ],
   "source": [
    "gamma = ((1+Sinf**2*(1-delta))**(-1)+(3-Sinf**2)/(3*(1+Sinf**2)-delta*Sinf**2))/2 #(1+Sinf**2*(1-delta))**(-1) # 0 PV parameter\n",
    "gamma"
   ]
  },
  {
   "cell_type": "code",
   "execution_count": null,
   "id": "c3be4e04",
   "metadata": {},
   "outputs": [],
   "source": []
  },
  {
   "cell_type": "markdown",
   "id": "fcb53acf",
   "metadata": {},
   "source": [
    "The boundary layer height is defined to be \n",
    "$$ h = \\dfrac{fV_\\infty}{\\gamma N^2_\\infty\\theta} $$\n",
    "so we see it is"
   ]
  },
  {
   "cell_type": "code",
   "execution_count": 36,
   "id": "ce305050",
   "metadata": {},
   "outputs": [
    {
     "data": {
      "text/plain": [
       "102.76108799869161"
      ]
     },
     "execution_count": 36,
     "metadata": {},
     "output_type": "execute_result"
    }
   ],
   "source": [
    "h = (f*Vinf)/(gamma*N2*theta) # m height\n",
    "h"
   ]
  },
  {
   "cell_type": "code",
   "execution_count": 37,
   "id": "a91ac56e",
   "metadata": {},
   "outputs": [
    {
     "data": {
      "text/plain": [
       "102.76108799869161"
      ]
     },
     "execution_count": 37,
     "metadata": {},
     "output_type": "execute_result"
    }
   ],
   "source": [
    "h = (f*Vinf)/(gamma*N2*theta) # m height\n",
    "h"
   ]
  },
  {
   "cell_type": "code",
   "execution_count": null,
   "id": "12a24481",
   "metadata": {},
   "outputs": [],
   "source": []
  },
  {
   "cell_type": "markdown",
   "id": "628deb7a",
   "metadata": {},
   "source": [
    "Note that we round this to the next highest whole number to prevent issues at the boundary height in the simulation. "
   ]
  },
  {
   "cell_type": "markdown",
   "id": "891b710c",
   "metadata": {},
   "source": [
    "We define the modified coriolis parameter to be \n",
    "$$ f^*=(f^2+N^2_\\infty\\theta)^{0.5} $$\n",
    "which we calculate to be "
   ]
  },
  {
   "cell_type": "code",
   "execution_count": 38,
   "id": "fe293659",
   "metadata": {},
   "outputs": [
    {
     "data": {
      "text/plain": [
       "5.062114182829147e-05"
      ]
     },
     "execution_count": 38,
     "metadata": {},
     "output_type": "execute_result"
    }
   ],
   "source": [
    "fstar = (f**2+theta**2*N2)**(0.5) # s^-1 modified coriolis frequency\n",
    "fstar/2"
   ]
  },
  {
   "cell_type": "markdown",
   "id": "8413c233",
   "metadata": {},
   "source": [
    "Richardson number:\n",
    "$$ Ri\\equiv \\dfrac{f^2(1-\\gamma)}{N^2_\\infty\\theta^2\\gamma^2}$$\n",
    "and for $\\gamma=(1+S^2_\\infty)^{-1}$\n",
    "$$ Ri\\equiv \\dfrac{f^2(1-\\gamma)}{N^2_\\infty\\theta^2\\gamma^2}=1+S^2_\\infty$$\n",
    "so we calculate"
   ]
  },
  {
   "cell_type": "code",
   "execution_count": 39,
   "id": "1908aab0",
   "metadata": {},
   "outputs": [
    {
     "data": {
      "text/plain": [
       "0.5522175997383222"
      ]
     },
     "execution_count": 39,
     "metadata": {},
     "output_type": "execute_result"
    }
   ],
   "source": [
    "Ri = (1-gamma)/(Sinf**2*gamma*2)\n",
    "Ri"
   ]
  },
  {
   "cell_type": "code",
   "execution_count": 40,
   "id": "083579eb",
   "metadata": {},
   "outputs": [
    {
     "data": {
      "text/plain": [
       "1.4011476879292841"
      ]
     },
     "execution_count": 40,
     "metadata": {},
     "output_type": "execute_result"
    }
   ],
   "source": [
    "(N2*(1-gamma))/(N2*theta*gamma/f-0.1*N2*theta*gamma/f)**2"
   ]
  },
  {
   "cell_type": "markdown",
   "id": "c3244caf",
   "metadata": {},
   "source": [
    "Rossby Number:\n",
    "$$ Ro\\equiv \\dfrac{\\gamma N_\\infty^2\\theta^2}{f^2}=\\dfrac{S^2_\\infty}{1+S^2_\\infty}$$\n",
    "so we calculate"
   ]
  },
  {
   "cell_type": "code",
   "execution_count": 41,
   "id": "a8bf49a8",
   "metadata": {},
   "outputs": [
    {
     "data": {
      "text/plain": [
       "-0.024328274920871126"
      ]
     },
     "execution_count": 41,
     "metadata": {},
     "output_type": "execute_result"
    }
   ],
   "source": [
    "Ro = -(Sinf**2)*gamma\n",
    "Ro"
   ]
  },
  {
   "cell_type": "code",
   "execution_count": 42,
   "id": "b60f6a7f",
   "metadata": {},
   "outputs": [
    {
     "data": {
      "text/plain": [
       "4.973555736370927e-12"
      ]
     },
     "execution_count": 42,
     "metadata": {},
     "output_type": "execute_result"
    }
   ],
   "source": [
    "f*N2*(1-gamma*(1+(1-delta)*Sinf**2))"
   ]
  },
  {
   "cell_type": "code",
   "execution_count": 43,
   "id": "8e746644",
   "metadata": {},
   "outputs": [
    {
     "data": {
      "text/plain": [
       "5.062114182829147e-05"
      ]
     },
     "execution_count": 43,
     "metadata": {},
     "output_type": "execute_result"
    }
   ],
   "source": [
    "fstar/2"
   ]
  },
  {
   "cell_type": "code",
   "execution_count": 44,
   "id": "216039a4",
   "metadata": {},
   "outputs": [
    {
     "data": {
      "text/plain": [
       "0.5522175997383222"
      ]
     },
     "execution_count": 44,
     "metadata": {},
     "output_type": "execute_result"
    }
   ],
   "source": [
    "Ri"
   ]
  },
  {
   "cell_type": "markdown",
   "id": "cd555068",
   "metadata": {},
   "source": [
    "The initial conditions and the shear parameter are declared below:"
   ]
  },
  {
   "cell_type": "code",
   "execution_count": 14,
   "id": "b96b9c5d",
   "metadata": {},
   "outputs": [],
   "source": [
    "delta = 0.1 # perturbed shear parameter\n",
    "vo = delta*(gamma*N2*theta)/(f) # s^-1 initial pertubation shear v\n",
    "lmbd = (gamma*N2*theta)/(f)"
   ]
  },
  {
   "cell_type": "code",
   "execution_count": 15,
   "id": "a85c71f9",
   "metadata": {},
   "outputs": [
    {
     "data": {
      "text/plain": [
       "0.00011314970969641628"
      ]
     },
     "execution_count": 15,
     "metadata": {},
     "output_type": "execute_result"
    }
   ],
   "source": [
    "(1e-4*3.44e-11/(1e-5*(1-gamma)))**(0.5)"
   ]
  },
  {
   "cell_type": "code",
   "execution_count": 16,
   "id": "c70f4497",
   "metadata": {},
   "outputs": [
    {
     "data": {
      "text/plain": [
       "5.062114182829147e-05"
      ]
     },
     "execution_count": 16,
     "metadata": {},
     "output_type": "execute_result"
    }
   ],
   "source": [
    "fstar/2"
   ]
  },
  {
   "cell_type": "markdown",
   "id": "c8604b8a",
   "metadata": {},
   "source": [
    "Now, we define the oscillations and calculate them:"
   ]
  },
  {
   "cell_type": "code",
   "execution_count": 17,
   "id": "aa5f6d44",
   "metadata": {},
   "outputs": [],
   "source": [
    "def shear_osc(t):\n",
    "        u = (f*vo)/(fstar)*np.sin(fstar*t)\n",
    "        v = vo+(f**2*vo)/(fstar**2)*(np.cos(fstar*t)-1)\n",
    "        N = N2*theta*(f*vo)/(fstar**2)*(np.cos(fstar*t)-1)\n",
    "        return [u,v,N]"
   ]
  },
  {
   "cell_type": "code",
   "execution_count": 18,
   "id": "9a748d97",
   "metadata": {},
   "outputs": [],
   "source": [
    "t = np.arange(0,(2*np.pi)/fstar,0.1)\n",
    "perts = shear_osc(t)"
   ]
  },
  {
   "cell_type": "markdown",
   "id": "149fa1eb",
   "metadata": {},
   "source": [
    "We know that the ertel potential vorticity is defined to be \n",
    "$$ q\\equiv fN^2_\\infty(1-\\gamma)-\\dfrac{N^4_\\infty \\theta^2\\gamma}{f}+N^2_\\infty\\theta v_o-fb_o$$\n",
    "so we calculate"
   ]
  },
  {
   "cell_type": "code",
   "execution_count": 19,
   "id": "0b165007",
   "metadata": {},
   "outputs": [
    {
     "data": {
      "text/plain": [
       "5.58566017909373e-12"
      ]
     },
     "execution_count": 19,
     "metadata": {},
     "output_type": "execute_result"
    }
   ],
   "source": [
    "PV = (f-theta*(lmbd-vo))*(N2*(1-gamma)+N2*theta**2*gamma)-(lmbd-vo)*(f*lmbd-theta*N2*(1-gamma)) # s^-2 potential vorticity\n",
    "PV"
   ]
  },
  {
   "cell_type": "code",
   "execution_count": 20,
   "id": "88dea874",
   "metadata": {},
   "outputs": [
    {
     "data": {
      "text/plain": [
       "4.9735557363709385e-12"
      ]
     },
     "execution_count": 20,
     "metadata": {},
     "output_type": "execute_result"
    }
   ],
   "source": [
    "PV = (f-theta*(lmbd-vo))*(N2*(1-gamma))-(lmbd-vo)*(theta*N2*gamma) # s^-2 potential vorticity\n",
    "PV"
   ]
  },
  {
   "cell_type": "code",
   "execution_count": null,
   "id": "254e030f",
   "metadata": {},
   "outputs": [],
   "source": [
    "f*N2*(1-gamma*(1+(1-delta)*Sinf**2))"
   ]
  },
  {
   "cell_type": "markdown",
   "id": "d6f484f1",
   "metadata": {},
   "source": [
    "The mininum frequency in a baroclinic flow is given by for our case\n",
    "$$ \\omega_{\\text{min}}\\equiv \\sqrt{\\dfrac{fq}{N^2_\\infty(1-\\gamma)}}$$\n",
    "which we calculate to be"
   ]
  },
  {
   "cell_type": "code",
   "execution_count": null,
   "id": "9419d413",
   "metadata": {
    "scrolled": true
   },
   "outputs": [],
   "source": [
    "omega_min = (f*PV/(N2*(gamma)))**(0.5)\n",
    "omega_min"
   ]
  },
  {
   "cell_type": "code",
   "execution_count": null,
   "id": "85d7f266",
   "metadata": {},
   "outputs": [],
   "source": [
    "fstar/6"
   ]
  },
  {
   "cell_type": "code",
   "execution_count": 31,
   "id": "47b43389",
   "metadata": {},
   "outputs": [
    {
     "data": {
      "text/plain": [
       "[<matplotlib.lines.Line2D at 0x7ff5b3c30040>]"
      ]
     },
     "execution_count": 31,
     "metadata": {},
     "output_type": "execute_result"
    },
    {
     "data": {
      "image/png": "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