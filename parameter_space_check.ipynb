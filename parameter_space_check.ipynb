{
 "cells": [
  {
   "cell_type": "code",
   "execution_count": 3,
   "id": "5bd991f6",
   "metadata": {},
   "outputs": [],
   "source": [
    "import numpy as np\n",
    "import matplotlib.pyplot as plt\n",
    "import math as mt"
   ]
  },
  {
   "cell_type": "markdown",
   "id": "691f9f87",
   "metadata": {},
   "source": [
    "The parameters for the simulation are declared:"
   ]
  },
  {
   "cell_type": "code",
   "execution_count": 262,
   "id": "eca78195",
   "metadata": {},
   "outputs": [],
   "source": [
    "N2 = 1e-5 # s^-2, interior stratification\n",
    "theta = 0.1812*np.pi/180 # 0.01 # angle of the slope 2.716\n",
    "f = 1e-4 # s^-1 coriolis parameter\n",
    "Vinf = 0.1\n",
    "# m s^-1 interior velocity\n",
    "delta = 0.5"
   ]
  },
  {
   "cell_type": "code",
   "execution_count": 263,
   "id": "f716f125",
   "metadata": {},
   "outputs": [
    {
     "data": {
      "text/plain": [
       "320.0"
      ]
     },
     "execution_count": 263,
     "metadata": {},
     "output_type": "execute_result"
    }
   ],
   "source": [
    "1.25*256"
   ]
  },
  {
   "cell_type": "code",
   "execution_count": 264,
   "id": "d4282ce6",
   "metadata": {
    "scrolled": true
   },
   "outputs": [
    {
     "data": {
      "text/plain": [
       "3.6188832299832416"
      ]
     },
     "execution_count": 264,
     "metadata": {},
     "output_type": "execute_result"
    }
   ],
   "source": [
    "np.arctan(2*f/N2**(0.5))*180/np.pi"
   ]
  },
  {
   "cell_type": "markdown",
   "id": "410ea341",
   "metadata": {},
   "source": [
    "The Slope Burger Number is defined as \n",
    "$$ S_\\infty = \\dfrac{N_\\infty\\theta}{f}$$\n",
    "so we calculate it to be"
   ]
  },
  {
   "cell_type": "code",
   "execution_count": 265,
   "id": "478331cb",
   "metadata": {},
   "outputs": [
    {
     "data": {
      "text/plain": [
       "0.10000852195890676"
      ]
     },
     "execution_count": 265,
     "metadata": {},
     "output_type": "execute_result"
    }
   ],
   "source": [
    "Sinf = (N2**(0.5)*np.tan(theta))/f # Slope Burger Number\n",
    "Sinf"
   ]
  },
  {
   "cell_type": "markdown",
   "id": "c22c2fd6",
   "metadata": {},
   "source": [
    "The gamma parameter is defined to be \n",
    "$$ \\gamma = (1+S_\\infty^2)^{-1}$$\n",
    "so we calculate it to be"
   ]
  },
  {
   "cell_type": "code",
   "execution_count": 266,
   "id": "286ecc94",
   "metadata": {},
   "outputs": [
    {
     "data": {
      "text/plain": [
       "0.9950290078049405"
      ]
     },
     "execution_count": 266,
     "metadata": {},
     "output_type": "execute_result"
    }
   ],
   "source": [
    "(np.cos(theta)*(1+(1-0.5)*Sinf**2))**(-1)"
   ]
  },
  {
   "cell_type": "code",
   "execution_count": 267,
   "id": "94186b67",
   "metadata": {},
   "outputs": [
    {
     "ename": "NameError",
     "evalue": "name 'gammau' is not defined",
     "output_type": "error",
     "traceback": [
      "\u001b[0;31m---------------------------------------------------------------------------\u001b[0m",
      "\u001b[0;31mNameError\u001b[0m                                 Traceback (most recent call last)",
      "\u001b[0;32m/var/folders/n0/rsxpkn6j2xv8hrpk19m6_r6m0000gn/T/ipykernel_17290/2685433747.py\u001b[0m in \u001b[0;36m<module>\u001b[0;34m\u001b[0m\n\u001b[1;32m      1\u001b[0m \u001b[0mgamma\u001b[0m\u001b[0;34m=\u001b[0m \u001b[0;34m(\u001b[0m\u001b[0mnp\u001b[0m\u001b[0;34m.\u001b[0m\u001b[0mcos\u001b[0m\u001b[0;34m(\u001b[0m\u001b[0mtheta\u001b[0m\u001b[0;34m)\u001b[0m\u001b[0;34m*\u001b[0m\u001b[0;34m(\u001b[0m\u001b[0;36m1\u001b[0m\u001b[0;34m+\u001b[0m\u001b[0;34m(\u001b[0m\u001b[0;36m1\u001b[0m\u001b[0;34m-\u001b[0m\u001b[0mdelta\u001b[0m\u001b[0;34m)\u001b[0m\u001b[0;34m*\u001b[0m\u001b[0mSinf\u001b[0m\u001b[0;34m**\u001b[0m\u001b[0;36m2\u001b[0m\u001b[0;34m)\u001b[0m\u001b[0;34m)\u001b[0m\u001b[0;34m**\u001b[0m\u001b[0;34m(\u001b[0m\u001b[0;34m-\u001b[0m\u001b[0;36m1\u001b[0m\u001b[0;34m)\u001b[0m\u001b[0;34m\u001b[0m\u001b[0;34m\u001b[0m\u001b[0m\n\u001b[0;32m----> 2\u001b[0;31m \u001b[0mgammau\u001b[0m\u001b[0;34m\u001b[0m\u001b[0;34m\u001b[0m\u001b[0m\n\u001b[0m",
      "\u001b[0;31mNameError\u001b[0m: name 'gammau' is not defined"
     ]
    }
   ],
   "source": [
    "gamma= (np.cos(theta)*(1+(1-delta)*Sinf**2))**(-1)\n",
    "gammau"
   ]
  },
  {
   "cell_type": "code",
   "execution_count": 268,
   "id": "c26155a5",
   "metadata": {},
   "outputs": [
    {
     "data": {
      "text/plain": [
       "0.9933593205622109"
      ]
     },
     "execution_count": 268,
     "metadata": {},
     "output_type": "execute_result"
    }
   ],
   "source": [
    "gammal = (3-Sinf**2)*(np.cos(theta)*(3+3*Sinf**2-4*delta*Sinf**2))**(-1)\n",
    "gammal"
   ]
  },
  {
   "cell_type": "code",
   "execution_count": 269,
   "id": "c75decda",
   "metadata": {},
   "outputs": [
    {
     "ename": "NameError",
     "evalue": "name 'gammau' is not defined",
     "output_type": "error",
     "traceback": [
      "\u001b[0;31m---------------------------------------------------------------------------\u001b[0m",
      "\u001b[0;31mNameError\u001b[0m                                 Traceback (most recent call last)",
      "\u001b[0;32m/var/folders/n0/rsxpkn6j2xv8hrpk19m6_r6m0000gn/T/ipykernel_17290/2140079196.py\u001b[0m in \u001b[0;36m<module>\u001b[0;34m\u001b[0m\n\u001b[0;32m----> 1\u001b[0;31m \u001b[0mgammam\u001b[0m \u001b[0;34m=\u001b[0m \u001b[0;34m(\u001b[0m\u001b[0mgammau\u001b[0m\u001b[0;34m+\u001b[0m\u001b[0mgammal\u001b[0m\u001b[0;34m)\u001b[0m\u001b[0;34m/\u001b[0m\u001b[0;36m2\u001b[0m\u001b[0;34m\u001b[0m\u001b[0;34m\u001b[0m\u001b[0m\n\u001b[0m\u001b[1;32m      2\u001b[0m \u001b[0mgammam\u001b[0m\u001b[0;34m\u001b[0m\u001b[0;34m\u001b[0m\u001b[0m\n",
      "\u001b[0;31mNameError\u001b[0m: name 'gammau' is not defined"
     ]
    }
   ],
   "source": [
    "gammam = (gammau+gammal)/2\n",
    "gammam"
   ]
  },
  {
   "cell_type": "code",
   "execution_count": 270,
   "id": "9d3d0a83",
   "metadata": {},
   "outputs": [
    {
     "ename": "NameError",
     "evalue": "name 'gammau' is not defined",
     "output_type": "error",
     "traceback": [
      "\u001b[0;31m---------------------------------------------------------------------------\u001b[0m",
      "\u001b[0;31mNameError\u001b[0m                                 Traceback (most recent call last)",
      "\u001b[0;32m/var/folders/n0/rsxpkn6j2xv8hrpk19m6_r6m0000gn/T/ipykernel_17290/966357808.py\u001b[0m in \u001b[0;36m<module>\u001b[0;34m\u001b[0m\n\u001b[0;32m----> 1\u001b[0;31m \u001b[0mN2\u001b[0m\u001b[0;34m*\u001b[0m\u001b[0;34m(\u001b[0m\u001b[0;36m1\u001b[0m\u001b[0;34m-\u001b[0m\u001b[0mgammau\u001b[0m\u001b[0;34m)\u001b[0m\u001b[0;34m\u001b[0m\u001b[0;34m\u001b[0m\u001b[0m\n\u001b[0m",
      "\u001b[0;31mNameError\u001b[0m: name 'gammau' is not defined"
     ]
    }
   ],
   "source": [
    "N2*(1-gammau)"
   ]
  },
  {
   "cell_type": "code",
   "execution_count": 271,
   "id": "8b4c3361",
   "metadata": {},
   "outputs": [],
   "source": [
    "# -0.6670254617771576"
   ]
  },
  {
   "cell_type": "code",
   "execution_count": 272,
   "id": "6f82f283",
   "metadata": {},
   "outputs": [
    {
     "data": {
      "text/plain": [
       "-0.009935286351225517"
      ]
     },
     "execution_count": 272,
     "metadata": {},
     "output_type": "execute_result"
    }
   ],
   "source": [
    "-(Sinf**2*gammal)"
   ]
  },
  {
   "cell_type": "code",
   "execution_count": 273,
   "id": "2d4ec316",
   "metadata": {},
   "outputs": [
    {
     "ename": "NameError",
     "evalue": "name 'gammam' is not defined",
     "output_type": "error",
     "traceback": [
      "\u001b[0;31m---------------------------------------------------------------------------\u001b[0m",
      "\u001b[0;31mNameError\u001b[0m                                 Traceback (most recent call last)",
      "\u001b[0;32m/var/folders/n0/rsxpkn6j2xv8hrpk19m6_r6m0000gn/T/ipykernel_17290/4288814592.py\u001b[0m in \u001b[0;36m<module>\u001b[0;34m\u001b[0m\n\u001b[0;32m----> 1\u001b[0;31m \u001b[0;34m-\u001b[0m\u001b[0;34m(\u001b[0m\u001b[0mSinf\u001b[0m\u001b[0;34m**\u001b[0m\u001b[0;36m2\u001b[0m\u001b[0;34m*\u001b[0m\u001b[0mgammam\u001b[0m\u001b[0;34m)\u001b[0m\u001b[0;34m\u001b[0m\u001b[0;34m\u001b[0m\u001b[0m\n\u001b[0m",
      "\u001b[0;31mNameError\u001b[0m: name 'gammam' is not defined"
     ]
    }
   ],
   "source": [
    "-(Sinf**2*gammam)"
   ]
  },
  {
   "cell_type": "code",
   "execution_count": 274,
   "id": "491074c7",
   "metadata": {},
   "outputs": [
    {
     "ename": "NameError",
     "evalue": "name 'gammau' is not defined",
     "output_type": "error",
     "traceback": [
      "\u001b[0;31m---------------------------------------------------------------------------\u001b[0m",
      "\u001b[0;31mNameError\u001b[0m                                 Traceback (most recent call last)",
      "\u001b[0;32m/var/folders/n0/rsxpkn6j2xv8hrpk19m6_r6m0000gn/T/ipykernel_17290/871545550.py\u001b[0m in \u001b[0;36m<module>\u001b[0;34m\u001b[0m\n\u001b[0;32m----> 1\u001b[0;31m \u001b[0;34m-\u001b[0m\u001b[0;34m(\u001b[0m\u001b[0mSinf\u001b[0m\u001b[0;34m**\u001b[0m\u001b[0;36m2\u001b[0m\u001b[0;34m*\u001b[0m\u001b[0mgammau\u001b[0m\u001b[0;34m)\u001b[0m\u001b[0;34m\u001b[0m\u001b[0;34m\u001b[0m\u001b[0m\n\u001b[0m",
      "\u001b[0;31mNameError\u001b[0m: name 'gammau' is not defined"
     ]
    }
   ],
   "source": [
    "-(Sinf**2*gammau)"
   ]
  },
  {
   "cell_type": "code",
   "execution_count": 275,
   "id": "c3be4e04",
   "metadata": {},
   "outputs": [
    {
     "data": {
      "text/plain": [
       "0.0003141545686353199"
      ]
     },
     "execution_count": 275,
     "metadata": {},
     "output_type": "execute_result"
    }
   ],
   "source": [
    "lmbd = N2*np.tan(theta)*gammal/f\n",
    "lmbd"
   ]
  },
  {
   "cell_type": "markdown",
   "id": "fcb53acf",
   "metadata": {},
   "source": [
    "The boundary layer height is defined to be \n",
    "$$ h = \\dfrac{fV_\\infty}{\\gamma N^2_\\infty\\theta} $$\n",
    "so we see it is"
   ]
  },
  {
   "cell_type": "code",
   "execution_count": 276,
   "id": "ce305050",
   "metadata": {},
   "outputs": [
    {
     "data": {
      "text/plain": [
       "317.7805039176529"
      ]
     },
     "execution_count": 276,
     "metadata": {},
     "output_type": "execute_result"
    }
   ],
   "source": [
    "h = (f*Vinf)/(gamma*N2*np.tan(theta)) # m height\n",
    "h"
   ]
  },
  {
   "cell_type": "code",
   "execution_count": 277,
   "id": "a91ac56e",
   "metadata": {},
   "outputs": [
    {
     "data": {
      "text/plain": [
       "318.31464503094026"
      ]
     },
     "execution_count": 277,
     "metadata": {},
     "output_type": "execute_result"
    }
   ],
   "source": [
    "hl = (f*Vinf)/(gammal*N2*np.tan(theta)) # m height\n",
    "hl"
   ]
  },
  {
   "cell_type": "code",
   "execution_count": 278,
   "id": "f2ae2f98",
   "metadata": {},
   "outputs": [
    {
     "ename": "NameError",
     "evalue": "name 'gammam' is not defined",
     "output_type": "error",
     "traceback": [
      "\u001b[0;31m---------------------------------------------------------------------------\u001b[0m",
      "\u001b[0;31mNameError\u001b[0m                                 Traceback (most recent call last)",
      "\u001b[0;32m/var/folders/n0/rsxpkn6j2xv8hrpk19m6_r6m0000gn/T/ipykernel_17290/2660723131.py\u001b[0m in \u001b[0;36m<module>\u001b[0;34m\u001b[0m\n\u001b[0;32m----> 1\u001b[0;31m \u001b[0mhm\u001b[0m \u001b[0;34m=\u001b[0m \u001b[0;34m(\u001b[0m\u001b[0mf\u001b[0m\u001b[0;34m*\u001b[0m\u001b[0mVinf\u001b[0m\u001b[0;34m)\u001b[0m\u001b[0;34m/\u001b[0m\u001b[0;34m(\u001b[0m\u001b[0mgammam\u001b[0m\u001b[0;34m*\u001b[0m\u001b[0mN2\u001b[0m\u001b[0;34m*\u001b[0m\u001b[0mnp\u001b[0m\u001b[0;34m.\u001b[0m\u001b[0mtan\u001b[0m\u001b[0;34m(\u001b[0m\u001b[0mtheta\u001b[0m\u001b[0;34m)\u001b[0m\u001b[0;34m)\u001b[0m \u001b[0;31m# m height\u001b[0m\u001b[0;34m\u001b[0m\u001b[0;34m\u001b[0m\u001b[0m\n\u001b[0m\u001b[1;32m      2\u001b[0m \u001b[0mhm\u001b[0m\u001b[0;34m\u001b[0m\u001b[0;34m\u001b[0m\u001b[0m\n",
      "\u001b[0;31mNameError\u001b[0m: name 'gammam' is not defined"
     ]
    }
   ],
   "source": [
    "hm = (f*Vinf)/(gammam*N2*np.tan(theta)) # m height\n",
    "hm"
   ]
  },
  {
   "cell_type": "code",
   "execution_count": 279,
   "id": "12a24481",
   "metadata": {},
   "outputs": [
    {
     "data": {
      "text/plain": [
       "0.9999949991852802"
      ]
     },
     "execution_count": 279,
     "metadata": {},
     "output_type": "execute_result"
    }
   ],
   "source": [
    "np.cos(theta)"
   ]
  },
  {
   "cell_type": "markdown",
   "id": "628deb7a",
   "metadata": {},
   "source": [
    "Note that we round this to the next highest whole number to prevent issues at the boundary height in the simulation. "
   ]
  },
  {
   "cell_type": "markdown",
   "id": "891b710c",
   "metadata": {},
   "source": [
    "We define the modified coriolis parameter to be \n",
    "$$ f^*=(f^2+N^2_\\infty\\theta)^{0.5} $$\n",
    "which we calculate to be "
   ]
  },
  {
   "cell_type": "code",
   "execution_count": 280,
   "id": "fe293659",
   "metadata": {},
   "outputs": [
    {
     "data": {
      "text/plain": [
       "5.0249169217681655e-05"
      ]
     },
     "execution_count": 280,
     "metadata": {},
     "output_type": "execute_result"
    }
   ],
   "source": [
    "fstar = f*np.cos(theta)*(1+Sinf**2)**(0.5) # s^-1 modified coriolis frequency\n",
    "fstar/2"
   ]
  },
  {
   "cell_type": "markdown",
   "id": "8413c233",
   "metadata": {},
   "source": [
    "Richardson number:\n",
    "$$ Ri\\equiv \\dfrac{f^2(1-\\gamma)}{N^2_\\infty\\theta^2\\gamma^2}$$\n",
    "and for $\\gamma=(1+S^2_\\infty)^{-1}$\n",
    "$$ Ri\\equiv \\dfrac{f^2(1-\\gamma)}{N^2_\\infty\\theta^2\\gamma^2}=1+S^2_\\infty$$\n",
    "so we calculate"
   ]
  },
  {
   "cell_type": "code",
   "execution_count": 281,
   "id": "1908aab0",
   "metadata": {},
   "outputs": [
    {
     "data": {
      "text/plain": [
       "0.2497487516716158"
      ]
     },
     "execution_count": 281,
     "metadata": {},
     "output_type": "execute_result"
    }
   ],
   "source": [
    "Ri = (1-gamma)/(Sinf**2*gamma*2)\n",
    "Ri"
   ]
  },
  {
   "cell_type": "code",
   "execution_count": 282,
   "id": "083579eb",
   "metadata": {},
   "outputs": [
    {
     "data": {
      "text/plain": [
       "0.6197484609236825"
      ]
     },
     "execution_count": 282,
     "metadata": {},
     "output_type": "execute_result"
    }
   ],
   "source": [
    "(N2*(1-gamma))/(N2*theta*gamma/f-0.1*N2*theta*gamma/f)**2"
   ]
  },
  {
   "cell_type": "markdown",
   "id": "c3244caf",
   "metadata": {},
   "source": [
    "Rossby Number:\n",
    "$$ Ro\\equiv \\dfrac{\\gamma N_\\infty^2\\theta^2}{f^2}=\\dfrac{S^2_\\infty}{1+S^2_\\infty}$$\n",
    "so we calculate"
   ]
  },
  {
   "cell_type": "code",
   "execution_count": 283,
   "id": "a8bf49a8",
   "metadata": {},
   "outputs": [
    {
     "data": {
      "text/plain": [
       "-0.009951986069575286"
      ]
     },
     "execution_count": 283,
     "metadata": {},
     "output_type": "execute_result"
    }
   ],
   "source": [
    "Ro = -(Sinf**2)*gamma\n",
    "Ro"
   ]
  },
  {
   "cell_type": "code",
   "execution_count": 284,
   "id": "069a832d",
   "metadata": {},
   "outputs": [
    {
     "data": {
      "text/plain": [
       "0.9999949991852802"
      ]
     },
     "execution_count": 284,
     "metadata": {},
     "output_type": "execute_result"
    }
   ],
   "source": [
    "np.cos(theta)"
   ]
  },
  {
   "cell_type": "code",
   "execution_count": 285,
   "id": "b60f6a7f",
   "metadata": {},
   "outputs": [
    {
     "data": {
      "text/plain": [
       "8.349817418582684e-15"
      ]
     },
     "execution_count": 285,
     "metadata": {},
     "output_type": "execute_result"
    }
   ],
   "source": [
    "f*N2*np.cos(theta)*(np.cos(theta)-gamma)+f*np.sin(theta)**2*N2-(1-delta)*lmbd*N2*np.sin(theta)"
   ]
  },
  {
   "cell_type": "code",
   "execution_count": 286,
   "id": "05e31262",
   "metadata": {},
   "outputs": [
    {
     "data": {
      "text/plain": [
       "3.306852803055988e-14"
      ]
     },
     "execution_count": 286,
     "metadata": {},
     "output_type": "execute_result"
    }
   ],
   "source": [
    "f*N2*(1-gamma*np.cos(theta))+np.sin(theta)*((1-delta)*lmbd)*N2*(1-gamma*np.cos(theta))-((1-delta)*lmbd)*N2*np.sin(theta)"
   ]
  },
  {
   "cell_type": "code",
   "execution_count": 287,
   "id": "e3acd39f",
   "metadata": {},
   "outputs": [
    {
     "data": {
      "text/plain": [
       "0.0"
      ]
     },
     "execution_count": 287,
     "metadata": {},
     "output_type": "execute_result"
    }
   ],
   "source": [
    "f*N2*(1-gamma*np.cos(theta)*(1+(1-delta)*Sinf**2))"
   ]
  },
  {
   "cell_type": "code",
   "execution_count": 288,
   "id": "255d1998",
   "metadata": {},
   "outputs": [],
   "source": [
    "# 3.41614763e-16"
   ]
  },
  {
   "cell_type": "code",
   "execution_count": 289,
   "id": "8e746644",
   "metadata": {},
   "outputs": [
    {
     "data": {
      "text/plain": [
       "5.0249169217681655e-05"
      ]
     },
     "execution_count": 289,
     "metadata": {},
     "output_type": "execute_result"
    }
   ],
   "source": [
    "fstar/2"
   ]
  },
  {
   "cell_type": "code",
   "execution_count": 290,
   "id": "216039a4",
   "metadata": {},
   "outputs": [
    {
     "data": {
      "text/plain": [
       "0.2497487516716158"
      ]
     },
     "execution_count": 290,
     "metadata": {},
     "output_type": "execute_result"
    }
   ],
   "source": [
    "Ri"
   ]
  },
  {
   "cell_type": "markdown",
   "id": "cd555068",
   "metadata": {},
   "source": [
    "The initial conditions and the shear parameter are declared below:"
   ]
  },
  {
   "cell_type": "code",
   "execution_count": 291,
   "id": "b96b9c5d",
   "metadata": {},
   "outputs": [],
   "source": [
    "delta = 0.5 # perturbed shear parameter\n",
    "vo = delta*(gamma*N2*np.tan(theta))/(f) # s^-1 initial pertubation shear v\n",
    "lmbd = (np.tan(theta)*N2*gamma)/(f)"
   ]
  },
  {
   "cell_type": "code",
   "execution_count": 292,
   "id": "a85c71f9",
   "metadata": {},
   "outputs": [
    {
     "data": {
      "text/plain": [
       "0.0"
      ]
     },
     "execution_count": 292,
     "metadata": {},
     "output_type": "execute_result"
    }
   ],
   "source": [
    "PV_test = f*N2*(1-gamma*np.cos(theta)*(1+(1-delta)*Sinf**2))\n",
    "((f*PV_test)/(N2*(1-gamma*np.cos(theta))))**(0.5)"
   ]
  },
  {
   "cell_type": "code",
   "execution_count": 293,
   "id": "36072ddb",
   "metadata": {},
   "outputs": [
    {
     "data": {
      "text/plain": [
       "0.0"
      ]
     },
     "execution_count": 293,
     "metadata": {},
     "output_type": "execute_result"
    }
   ],
   "source": [
    "PV_test"
   ]
  },
  {
   "cell_type": "code",
   "execution_count": 294,
   "id": "c70f4497",
   "metadata": {},
   "outputs": [
    {
     "data": {
      "text/plain": [
       "5.0249169217681655e-05"
      ]
     },
     "execution_count": 294,
     "metadata": {},
     "output_type": "execute_result"
    }
   ],
   "source": [
    "fstar/2"
   ]
  },
  {
   "cell_type": "code",
   "execution_count": 295,
   "id": "465d7015",
   "metadata": {},
   "outputs": [
    {
     "data": {
      "text/plain": [
       "0.9950240318492317"
      ]
     },
     "execution_count": 295,
     "metadata": {},
     "output_type": "execute_result"
    }
   ],
   "source": [
    "gamma*np.cos(theta)"
   ]
  },
  {
   "cell_type": "code",
   "execution_count": 296,
   "id": "22f2a4af",
   "metadata": {},
   "outputs": [
    {
     "data": {
      "text/plain": [
       "0.0025000000000000005"
      ]
     },
     "execution_count": 296,
     "metadata": {},
     "output_type": "execute_result"
    }
   ],
   "source": [
    "(delta*Vinf)**2"
   ]
  },
  {
   "cell_type": "code",
   "execution_count": 297,
   "id": "bfff63a6",
   "metadata": {},
   "outputs": [
    {
     "data": {
      "text/plain": [
       "0.0006250000000000001"
      ]
     },
     "execution_count": 297,
     "metadata": {},
     "output_type": "execute_result"
    }
   ],
   "source": [
    "(0.5*0.05)**2"
   ]
  },
  {
   "cell_type": "markdown",
   "id": "c8604b8a",
   "metadata": {},
   "source": [
    "Now, we define the oscillations and calculate them:"
   ]
  },
  {
   "cell_type": "code",
   "execution_count": 298,
   "id": "aa5f6d44",
   "metadata": {},
   "outputs": [],
   "source": [
    "def shear_osc(t):\n",
    "        u = (f*vo)/(fstar)*np.sin(fstar*t)\n",
    "        v = vo+(f**2*vo)/(fstar**2)*(np.cos(fstar*t)-1)\n",
    "        N = N2*theta*(f*vo)/(fstar**2)*(np.cos(fstar*t)-1)\n",
    "        return [u,v,N]"
   ]
  },
  {
   "cell_type": "code",
   "execution_count": 299,
   "id": "9a748d97",
   "metadata": {},
   "outputs": [],
   "source": [
    "t = np.linspace(0,(2*np.pi)/fstar,100)\n",
    "perts = shear_osc(t)"
   ]
  },
  {
   "cell_type": "code",
   "execution_count": 300,
   "id": "f443e573",
   "metadata": {},
   "outputs": [
    {
     "data": {
      "text/plain": [
       "100"
      ]
     },
     "execution_count": 300,
     "metadata": {},
     "output_type": "execute_result"
    }
   ],
   "source": [
    "len(t)"
   ]
  },
  {
   "cell_type": "markdown",
   "id": "149fa1eb",
   "metadata": {},
   "source": [
    "We know that the ertel potential vorticity is defined to be \n",
    "$$ q\\equiv fN^2_\\infty(1-\\gamma)-\\dfrac{N^4_\\infty \\theta^2\\gamma}{f}+N^2_\\infty\\theta v_o-fb_o$$\n",
    "so we calculate"
   ]
  },
  {
   "cell_type": "code",
   "execution_count": 301,
   "id": "0b165007",
   "metadata": {},
   "outputs": [
    {
     "data": {
      "text/plain": [
       "2.963718200455841e-14"
      ]
     },
     "execution_count": 301,
     "metadata": {},
     "output_type": "execute_result"
    }
   ],
   "source": [
    "PV = (f-theta*(lmbd-vo))*(N2*(1-gamma)+N2*theta**2*gamma)-(lmbd-vo)*(f*lmbd-theta*N2*(1-gamma)) # s^-2 potential vorticity\n",
    "PV"
   ]
  },
  {
   "cell_type": "code",
   "execution_count": 302,
   "id": "88dea874",
   "metadata": {},
   "outputs": [
    {
     "data": {
      "text/plain": [
       "-4.984250357137526e-15"
      ]
     },
     "execution_count": 302,
     "metadata": {},
     "output_type": "execute_result"
    }
   ],
   "source": [
    "PV = (f-theta*(lmbd-vo))*(N2*(1-gamma))-(lmbd-vo)*(theta*N2*gamma) # s^-2 potential vorticity\n",
    "PV"
   ]
  },
  {
   "cell_type": "code",
   "execution_count": 303,
   "id": "254e030f",
   "metadata": {},
   "outputs": [
    {
     "data": {
      "text/plain": [
       "-5.000839728097617e-15"
      ]
     },
     "execution_count": 303,
     "metadata": {},
     "output_type": "execute_result"
    }
   ],
   "source": [
    "f*N2*(1-gamma*(1+(1-delta)*Sinf**2))"
   ]
  },
  {
   "cell_type": "markdown",
   "id": "d6f484f1",
   "metadata": {},
   "source": [
    "The mininum frequency in a baroclinic flow is given by for our case\n",
    "$$ \\omega_{\\text{min}}\\equiv \\sqrt{\\dfrac{fq}{N^2_\\infty(1-\\gamma)}}$$\n",
    "which we calculate to be"
   ]
  },
  {
   "cell_type": "code",
   "execution_count": 304,
   "id": "9419d413",
   "metadata": {
    "scrolled": true
   },
   "outputs": [
    {
     "name": "stderr",
     "output_type": "stream",
     "text": [
      "/var/folders/n0/rsxpkn6j2xv8hrpk19m6_r6m0000gn/T/ipykernel_17290/3593138245.py:1: RuntimeWarning: invalid value encountered in scalar power\n",
      "  omega_min = (f*PV/(N2*(gamma)))**(0.5)\n"
     ]
    },
    {
     "data": {
      "text/plain": [
       "nan"
      ]
     },
     "execution_count": 304,
     "metadata": {},
     "output_type": "execute_result"
    }
   ],
   "source": [
    "omega_min = (f*PV/(N2*(gamma)))**(0.5)\n",
    "omega_min"
   ]
  },
  {
   "cell_type": "code",
   "execution_count": 305,
   "id": "389baced",
   "metadata": {
    "scrolled": true
   },
   "outputs": [
    {
     "data": {
      "image/png": "[encoded data removed]",
      "text/plain": [
       "<Figure size 432x288 with 1 Axes>"
      ]
     },
     "metadata": {
      "needs_background": "light"
     },
     "output_type": "display_data"
    }
   ],
   "source": [
    "plt.plot(perts[0],perts[1],color=\"blue\")\n",
    "plt.xlabel(\"u-velocity\")\n",
    "plt.ylabel(\"v-velocity\")\n",
    "plt.gca().set_aspect(1)"
   ]
  },
  {
   "cell_type": "code",
   "execution_count": 306,
   "id": "41d8f840",
   "metadata": {},
   "outputs": [
    {
     "data": {
      "image/png": "[encoded data removed]",
      "text/plain": [
       "<Figure size 432x288 with 1 Axes>"
      ]
     },
     "metadata": {
      "needs_background": "light"
     },
     "output_type": "display_data"
    }
   ],
   "source": [
    "plt.plot(perts[0],perts[1],color=\"blue\")\n",
    "plt.xlabel(\"u-velocity\")\n",
    "# plt.xticks(ticks=[-0.0008,-0.0004,0,0.0004,0.0008])\n",
    "plt.ylabel(\"v-velocity\")\n",
    "plt.gca().set_aspect(1)"
   ]
  },
  {
   "cell_type": "code",
   "execution_count": 322,
   "id": "0c1c9a6f",
   "metadata": {},
   "outputs": [],
   "source": [
    "def background_in_flow(perts):\n",
    "    u = perts[0]\n",
    "    v = perts[1]\n",
    "    b = perts[2]\n",
    "    u_T = u*(h-10)\n",
    "    v_T = v*(h-10)  # 0.1-lmbd*(h-10)+\n",
    "    B = b*(h-10)  # N2*(np.sin(theta)*1000+10*np.cos(theta))+N2*gamma*(h-10)+\n",
    "    return [u_T,v_T,B]"
   ]
  },
  {
   "cell_type": "code",
   "execution_count": 338,
   "id": "78aa0a89",
   "metadata": {},
   "outputs": [
    {
     "data": {
      "text/plain": [
       "[<matplotlib.lines.Line2D at 0x7fb655795220>]"
      ]
     },
     "execution_count": 338,
     "metadata": {},
     "output_type": "execute_result"
    },
    {
     "data": {
      "image/png": "[encoded data removed]",
      "text/plain": [
       "<Figure size 432x288 with 1 Axes>"
      ]
     },
     "metadata": {
      "needs_background": "light"
     },
     "output_type": "display_data"
    }
   ],
   "source": [
    "plt.plot(t*fstar/(2*np.pi),perts[0]*lmbd**(-1),color=\"red\")\n",
    "plt.plot(t*fstar/(2*np.pi),perts[1]*lmbd**(-1),color=\"magenta\")\n",
    "plt.plot(t*fstar/(2*np.pi),perts[2]*lmbd**(-2)*gamma**(-1),color=\"blue\")"
   ]
  },
  {
   "cell_type": "code",
   "execution_count": 339,
   "id": "524e9cb7",
   "metadata": {},
   "outputs": [
    {
     "data": {
      "text/plain": [
       "0"
      ]
     },
     "execution_count": 339,
     "metadata": {},
     "output_type": "execute_result"
    }
   ],
   "source": [
    "np.argmax(perts[1])"
   ]
  },
  {
   "cell_type": "code",
   "execution_count": 324,
   "id": "3d9c71c7",
   "metadata": {},
   "outputs": [
    {
     "data": {
      "text/plain": [
       "Text(0, 0.5, 'Energy [$m^2\\\\,s^{-2}$]')"
      ]
     },
     "execution_count": 324,
     "metadata": {},
     "output_type": "execute_result"
    },
    {
     "data": {
      "image/png": "[encoded data removed]",
      "text/plain": [
       "<Figure size 432x288 with 1 Axes>"
      ]
     },
     "metadata": {
      "needs_background": "light"
     },
     "output_type": "display_data"
    }
   ],
   "source": [
    "plt.plot(t*fstar/(2*np.pi),(perts[0]**2+perts[1]**2)/2,color=\"red\",label=\"KE\")\n",
    "plt.plot(t*fstar/(2*np.pi),(perts[2]**2*1e5)/2,color=\"blue\",label=\"PE\")\n",
    "plt.xlabel(\"Inertial Period\")\n",
    "plt.ylabel(\"Energy [$m^2\\,s^{-2}$]\")"
   ]
  },
  {
   "cell_type": "code",
   "execution_count": 328,
   "id": "f7c4c71c",
   "metadata": {},
   "outputs": [
    {
     "data": {
      "text/plain": [
       "[<matplotlib.lines.Line2D at 0x7fb655002bb0>]"
      ]
     },
     "execution_count": 328,
     "metadata": {},
     "output_type": "execute_result"
    },
    {
     "data": {
      "image/png": "[encoded data removed]",
      "text/plain": [
       "<Figure size 432x288 with 1 Axes>"
      ]
     },
     "metadata": {
      "needs_background": "light"
     },
     "output_type": "display_data"
    }
   ],
   "source": [
    "u,v,B=background_in_flow(perts)\n",
    "plt.plot(t,u,color=\"red\")\n",
    "plt.plot(t,v,color=\"magenta\")\n",
    "plt.plot(t,B1e-5,color=\"blue\")\n",
    "# plt.yscale(\"symlog\",linthresh=1e-3)"
   ]
  },
  {
   "cell_type": "code",
   "execution_count": 317,
   "id": "85d7f266",
   "metadata": {},
   "outputs": [
    {
     "data": {
      "text/plain": [
       "0.0027961185044740075"
      ]
     },
     "execution_count": 317,
     "metadata": {},
     "output_type": "execute_result"
    }
   ],
   "source": [
    "B[0]"
   ]
  },
  {
   "cell_type": "code",
   "execution_count": null,
   "id": "47b43389",
   "metadata": {},
   "outputs": [],
   "source": [
    "Ri = (N2*(1-gamma)-perts[-1])/(perts[0]**2+(lmbd-perts[1])**2)\n",
    "plt.plot(Ri)"
   ]
  },
  {
   "cell_type": "code",
   "execution_count": null,
   "id": "451de3fd",
   "metadata": {},
   "outputs": [],
   "source": [
    "f*N2*(1-gamma)-(lmbd*0.001-delta*lmbd)*N2*theta"
   ]
  },
  {
   "cell_type": "code",
   "execution_count": null,
   "id": "5eac453f",
   "metadata": {},
   "outputs": [],
   "source": [
    "t = np.arange(0,(2*np.pi)/fstar,0.1)\n",
    "plt.plot(f*perts[1]+theta*perts[2])\n",
    "plt.plot((f*vo)*np.cos(fstar*t))"
   ]
  },
  {
   "cell_type": "code",
   "execution_count": null,
   "id": "e460169d",
   "metadata": {},
   "outputs": [],
   "source": [
    "t = np.arange(0,(2*np.pi)/fstar,0.1)\n",
    "plt.plot(f*theta*perts[1])\n",
    "plt.plot(perts[2])"
   ]
  },
  {
   "cell_type": "code",
   "execution_count": null,
   "id": "366b473c",
   "metadata": {},
   "outputs": [],
   "source": [
    "Ro_t = -theta*(lmbd-perts[1])/f\n",
    "plt.plot(Ro_t)"
   ]
  },
  {
   "cell_type": "code",
   "execution_count": null,
   "id": "b83acefa",
   "metadata": {
    "scrolled": true
   },
   "outputs": [],
   "source": [
    "PV_t = (f-theta*(lmbd-perts[1]))*(N2*(1-gamma))-(lmbd-perts[1])*(N2*theta)\n",
    "plt.plot(PV_t)"
   ]
  },
  {
   "cell_type": "code",
   "execution_count": null,
   "id": "4e6b314c",
   "metadata": {
    "scrolled": true
   },
   "outputs": [],
   "source": [
    "PV_t[0]"
   ]
  },
  {
   "cell_type": "code",
   "execution_count": null,
   "id": "205a1680",
   "metadata": {},
   "outputs": [],
   "source": [
    "perts[-1][0]"
   ]
  },
  {
   "cell_type": "markdown",
   "id": "1dbbdcb7",
   "metadata": {},
   "source": [
    "Note that under our definition of $\\gamma$ this reduces to \n",
    "$$\\omega_{\\text{min}}=f\\sqrt{\\delta}$$\n",
    "which we can verify as"
   ]
  },
  {
   "cell_type": "code",
   "execution_count": null,
   "id": "7aba2a9a",
   "metadata": {},
   "outputs": [],
   "source": [
    "omega_min_delta = (theta*vo*f/(gamma))**(0.5)\n",
    "omega_min_delta"
   ]
  },
  {
   "cell_type": "code",
   "execution_count": null,
   "id": "7a99663e",
   "metadata": {
    "scrolled": true
   },
   "outputs": [],
   "source": [
    "omega_min_delta = f*Sinf*(delta)**(0.5)\n",
    "omega_min_delta"
   ]
  },
  {
   "cell_type": "code",
   "execution_count": null,
   "id": "7b3d73ed",
   "metadata": {
    "scrolled": true
   },
   "outputs": [],
   "source": [
    "j = np.where(t==round(0.25*(2*np.pi)/fstar,1))[0]\n",
    "t[j[0]]"
   ]
  },
  {
   "cell_type": "code",
   "execution_count": null,
   "id": "3b637fdd",
   "metadata": {},
   "outputs": [],
   "source": [
    "N2"
   ]
  },
  {
   "cell_type": "code",
   "execution_count": null,
   "id": "4b0ecaa6",
   "metadata": {},
   "outputs": [],
   "source": [
    "def x2x1(i,perts):\n",
    "    return (1-gamma)*h/theta + perts[2][i]*h/(N2*theta)"
   ]
  },
  {
   "cell_type": "code",
   "execution_count": null,
   "id": "1325adcb",
   "metadata": {},
   "outputs": [],
   "source": [
    "def angle(i,perts):\n",
    "    return np.arctan(h/x2x1(i,perts))"
   ]
  },
  {
   "cell_type": "code",
   "execution_count": null,
   "id": "02177215",
   "metadata": {},
   "outputs": [],
   "source": [
    "np.pi - angle(j,perts)"
   ]
  },
  {
   "cell_type": "code",
   "execution_count": null,
   "id": "c9740506",
   "metadata": {},
   "outputs": [],
   "source": [
    "k = np.where(t==round(0.5*(2*np.pi)/fstar,1))\n",
    "t[k[0]]"
   ]
  },
  {
   "cell_type": "code",
   "execution_count": null,
   "id": "18fe7806",
   "metadata": {},
   "outputs": [],
   "source": [
    "amax = (angle(k,perts)-angle(j,perts))[0]\n",
    "amax"
   ]
  },
  {
   "cell_type": "code",
   "execution_count": null,
   "id": "f35280a3",
   "metadata": {},
   "outputs": [],
   "source": [
    "intlphi = np.pi -angle(j,perts)"
   ]
  },
  {
   "cell_type": "code",
   "execution_count": null,
   "id": "e1d5d2c0",
   "metadata": {
    "scrolled": true
   },
   "outputs": [],
   "source": [
    "plt.plot(t*(fstar)/(2*np.pi),perts[1])"
   ]
  },
  {
   "cell_type": "code",
   "execution_count": null,
   "id": "670a36b3",
   "metadata": {},
   "outputs": [],
   "source": [
    "plt.plot(t*(fstar)/(2*np.pi),perts[2])"
   ]
  },
  {
   "cell_type": "code",
   "execution_count": null,
   "id": "c1e424f1",
   "metadata": {},
   "outputs": [],
   "source": [
    "np.sin(intlphi)+N2*theta*f*vo/fstar*(np.cos(fstar*np.pi/(2*fstar))-1)*h"
   ]
  },
  {
   "cell_type": "code",
   "execution_count": null,
   "id": "b230a3be",
   "metadata": {},
   "outputs": [],
   "source": [
    "np.sin(intlphi)"
   ]
  },
  {
   "cell_type": "code",
   "execution_count": null,
   "id": "eca58325",
   "metadata": {},
   "outputs": [],
   "source": [
    "plt.plot(t*(fstar)/(2*np.pi),N2*theta*f*vo/fstar*np.cos(fstar*t)+np.cos(intlphi))"
   ]
  },
  {
   "cell_type": "code",
   "execution_count": null,
   "id": "b9eaf075",
   "metadata": {},
   "outputs": [],
   "source": [
    "q = (np.sin(intlphi))**(-1)*(2*fstar**2*1e-8)/(1e-8*(f*vo*np.sqrt(2)+fstar*vo+fstar*N2**(0.5)*gamma*Sinf))\n",
    "q"
   ]
  },
  {
   "cell_type": "code",
   "execution_count": null,
   "id": "96fd8434",
   "metadata": {
    "scrolled": true
   },
   "outputs": [],
   "source": [
    "2*fstar/np.pi*np.log(q)"
   ]
  },
  {
   "cell_type": "code",
   "execution_count": null,
   "id": "85973241",
   "metadata": {},
   "outputs": [],
   "source": [
    "uma = max(perts[0])\n",
    "vma = max(perts[1])\n",
    "bma = max(perts[2])\n",
    "print(f\"u max{uma}\")\n",
    "print(f\"v max{vma}\")\n",
    "print(f\"b max{bma}\")"
   ]
  },
  {
   "cell_type": "code",
   "execution_count": null,
   "id": "8eacddc8",
   "metadata": {},
   "outputs": [],
   "source": [
    "umi = min(perts[0])\n",
    "vmi = min(perts[1])\n",
    "bmi = min(perts[2])\n",
    "print(f\"u min{umi}\")\n",
    "print(f\"v min{vmi}\")\n",
    "print(f\"b min{bmi}\")"
   ]
  },
  {
   "cell_type": "code",
   "execution_count": null,
   "id": "a9743a76",
   "metadata": {},
   "outputs": [],
   "source": [
    "plt.plot(perts[0],perts[1])\n",
    "plt.hlines(0,umi,uma,colors=\"k\")\n",
    "plt.vlines(0,0,vma,colors=\"k\")\n",
    "plt.gca().set_aspect('equal')"
   ]
  },
  {
   "cell_type": "code",
   "execution_count": null,
   "id": "75fd17e6",
   "metadata": {},
   "outputs": [],
   "source": [
    "plt.plot(perts[0],perts[2])\n",
    "plt.hlines(0,umi,uma,colors=\"k\")\n",
    "plt.vlines(0,bmi,bma,colors=\"k\")"
   ]
  },
  {
   "cell_type": "code",
   "execution_count": null,
   "id": "722bd9ab",
   "metadata": {},
   "outputs": [],
   "source": [
    "plt.plot(perts[2])\n",
    "# plt.gca().set_aspect('equal')"
   ]
  },
  {
   "cell_type": "code",
   "execution_count": null,
   "id": "8a39c71f",
   "metadata": {},
   "outputs": [],
   "source": [
    "z = np.arange(0,h+1,1)\n",
    "# plt.plot(vprofile,z,color=\"r\")\n",
    "vprofile = Vinf-gamma*theta*N2/f*(h-z)\n",
    "plt.plot(vprofile,z,color=\"b\")\n",
    "plt.plot(vprofile+perts[1][-1]*(h-z),z,c=\"y\")\n",
    "# plt.ylim([0,1])"
   ]
  },
  {
   "cell_type": "code",
   "execution_count": null,
   "id": "6531a349",
   "metadata": {},
   "outputs": [],
   "source": [
    "# plt.plot(vprofile,z,color=\"r\")\n",
    "uprofile = h*uo*np.ones(np.size(z))\n",
    "# plt.plot(uprofile,z,color=\"b\")\n",
    "plt.plot(perts[0][0]*(h-z),z,c=\"y\")\n",
    "plt.vlines(0,0,h)\n",
    "# plt.ylim([0,1])"
   ]
  },
  {
   "cell_type": "code",
   "execution_count": null,
   "id": "3a42006a",
   "metadata": {},
   "outputs": [],
   "source": [
    "gamma1\n",
    "Sinf21"
   ]
  },
  {
   "cell_type": "code",
   "execution_count": null,
   "id": "6855cc1d",
   "metadata": {},
   "outputs": [],
   "source": [
    "bint = N2*(h+z)+N2*theta*100\n",
    "bprofile = N2*z+gamma*N2*(h-z)+N2*theta*100\n",
    "plt.plot(bint,z+h,\"y\")\n",
    "plt.plot(bprofile,z,c=\"b\")\n",
    "plt.plot(bprofile+perts[2][15515]*(h-z),z,c=\"r\")\n",
    "# plt.ylim([99,111])"
   ]
  },
  {
   "cell_type": "code",
   "execution_count": null,
   "id": "a9272c7d",
   "metadata": {},
   "outputs": [],
   "source": [
    "PV = f*N2*(1-gamma)-(N2**2*theta**2*gamma)/f+N2*theta*vo-f*bo\n",
    "# omega_min = np.sqrt(PV/N2)\n",
    "PV"
   ]
  },
  {
   "cell_type": "code",
   "execution_count": null,
   "id": "d606bb7a",
   "metadata": {},
   "outputs": [],
   "source": [
    "fstar"
   ]
  },
  {
   "cell_type": "code",
   "execution_count": null,
   "id": "5a6b5ee5",
   "metadata": {},
   "outputs": [],
   "source": [
    "np.Im"
   ]
  },
  {
   "cell_type": "code",
   "execution_count": null,
   "id": "47279a77",
   "metadata": {},
   "outputs": [],
   "source": []
  }
 ],
 "metadata": {
  "kernelspec": {
   "display_name": "Python 3 (ipykernel)",
   "language": "python",
   "name": "python3"
  },
  "language_info": {
   "codemirror_mode": {
    "name": "ipython",
    "version": 3
   },
   "file_extension": ".py",
   "mimetype": "text/x-python",
   "name": "python",
   "nbconvert_exporter": "python",
   "pygments_lexer": "ipython3",
   "version": "3.8.10"
  }
 },
 "nbformat": 4,
 "nbformat_minor": 5
}
