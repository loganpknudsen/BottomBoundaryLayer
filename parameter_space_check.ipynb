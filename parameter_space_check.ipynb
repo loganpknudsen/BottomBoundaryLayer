{
 "cells": [
  {
   "cell_type": "code",
   "execution_count": 1,
   "id": "5bd991f6",
   "metadata": {},
   "outputs": [],
   "source": [
    "import numpy as np\n",
    "import matplotlib.pyplot as plt\n",
    "import math as mt"
   ]
  },
  {
   "cell_type": "markdown",
   "id": "691f9f87",
   "metadata": {},
   "source": [
    "The parameters for the simulation are declared:"
   ]
  },
  {
   "cell_type": "code",
   "execution_count": 233,
   "id": "eca78195",
   "metadata": {},
   "outputs": [],
   "source": [
    "N2 = 1e-5 # s^-2, interior stratification\n",
    "theta = 1e-3 # 0.01 # angle of the slope\n",
    "f = 1e-4 # s^-1 coriolis parameter\n",
    "Vinf = 0.02 # m s^-1 interior velocity\n",
    "delta = 0.5"
   ]
  },
  {
   "cell_type": "markdown",
   "id": "410ea341",
   "metadata": {},
   "source": [
    "The Slope Burger Number is defined as \n",
    "$$ S_\\infty = \\dfrac{N_\\infty\\theta}{f}$$\n",
    "so we calculate it to be"
   ]
  },
  {
   "cell_type": "code",
   "execution_count": 234,
   "id": "478331cb",
   "metadata": {},
   "outputs": [
    {
     "data": {
      "text/plain": [
       "0.03162277660168379"
      ]
     },
     "execution_count": 234,
     "metadata": {},
     "output_type": "execute_result"
    }
   ],
   "source": [
    "Sinf = (N2**(0.5)*theta)/f # Slope Burger Number\n",
    "Sinf"
   ]
  },
  {
   "cell_type": "markdown",
   "id": "c22c2fd6",
   "metadata": {},
   "source": [
    "The gamma parameter is defined to be \n",
    "$$ \\gamma = (1+S_\\infty^2)^{-1}$$\n",
    "so we calculate it to be"
   ]
  },
  {
   "cell_type": "code",
   "execution_count": 235,
   "id": "c26155a5",
   "metadata": {},
   "outputs": [
    {
     "data": {
      "text/plain": [
       "0.9991672773105538"
      ]
     },
     "execution_count": 235,
     "metadata": {},
     "output_type": "execute_result"
    }
   ],
   "source": [
    "gamma = ((1+Sinf**2*(1-delta))**(-1)+(3-Sinf**2)/(3*(1+Sinf**2)-delta*Sinf**2))/2 #(1+Sinf**2*(1-delta))**(-1) # 0 PV parameter\n",
    "gamma"
   ]
  },
  {
   "cell_type": "code",
   "execution_count": null,
   "id": "c3be4e04",
   "metadata": {},
   "outputs": [],
   "source": []
  },
  {
   "cell_type": "markdown",
   "id": "fcb53acf",
   "metadata": {},
   "source": [
    "The boundary layer height is defined to be \n",
    "$$ h = \\dfrac{fV_\\infty}{\\gamma N^2_\\infty\\theta} $$\n",
    "so we see it is"
   ]
  },
  {
   "cell_type": "code",
   "execution_count": 236,
   "id": "ce305050",
   "metadata": {},
   "outputs": [
    {
     "data": {
      "text/plain": [
       "200.16668333888748"
      ]
     },
     "execution_count": 236,
     "metadata": {},
     "output_type": "execute_result"
    }
   ],
   "source": [
    "h = (f*Vinf)/(gamma*N2*theta) # m height\n",
    "h"
   ]
  },
  {
   "cell_type": "code",
   "execution_count": 237,
   "id": "a91ac56e",
   "metadata": {},
   "outputs": [
    {
     "data": {
      "text/plain": [
       "200.16668333888748"
      ]
     },
     "execution_count": 237,
     "metadata": {},
     "output_type": "execute_result"
    }
   ],
   "source": [
    "h = (f*Vinf)/(gamma*N2*theta) # m height\n",
    "h"
   ]
  },
  {
   "cell_type": "code",
   "execution_count": null,
   "id": "12a24481",
   "metadata": {},
   "outputs": [],
   "source": []
  },
  {
   "cell_type": "markdown",
   "id": "628deb7a",
   "metadata": {},
   "source": [
    "Note that we round this to the next highest whole number to prevent issues at the boundary height in the simulation. "
   ]
  },
  {
   "cell_type": "markdown",
   "id": "891b710c",
   "metadata": {},
   "source": [
    "We define the modified coriolis parameter to be \n",
    "$$ f^*=(f^2+N^2_\\infty\\theta)^{0.5} $$\n",
    "which we calculate to be "
   ]
  },
  {
   "cell_type": "code",
   "execution_count": 238,
   "id": "fe293659",
   "metadata": {},
   "outputs": [
    {
     "data": {
      "text/plain": [
       "5.0024993753123045e-05"
      ]
     },
     "execution_count": 238,
     "metadata": {},
     "output_type": "execute_result"
    }
   ],
   "source": [
    "fstar = (f**2+theta**2*N2)**(0.5) # s^-1 modified coriolis frequency\n",
    "fstar/2"
   ]
  },
  {
   "cell_type": "markdown",
   "id": "8413c233",
   "metadata": {},
   "source": [
    "Richardson number:\n",
    "$$ Ri\\equiv \\dfrac{f^2(1-\\gamma)}{N^2_\\infty\\theta^2\\gamma^2}$$\n",
    "and for $\\gamma=(1+S^2_\\infty)^{-1}$\n",
    "$$ Ri\\equiv \\dfrac{f^2(1-\\gamma)}{N^2_\\infty\\theta^2\\gamma^2}=1+S^2_\\infty$$\n",
    "so we calculate"
   ]
  },
  {
   "cell_type": "code",
   "execution_count": 239,
   "id": "1908aab0",
   "metadata": {},
   "outputs": [
    {
     "data": {
      "text/plain": [
       "0.41670834721872585"
      ]
     },
     "execution_count": 239,
     "metadata": {},
     "output_type": "execute_result"
    }
   ],
   "source": [
    "Ri = (1-gamma)/(Sinf**2*gamma*2)\n",
    "Ri"
   ]
  },
  {
   "cell_type": "code",
   "execution_count": 240,
   "id": "083579eb",
   "metadata": {},
   "outputs": [
    {
     "data": {
      "text/plain": [
       "1.0297670096592824"
      ]
     },
     "execution_count": 240,
     "metadata": {},
     "output_type": "execute_result"
    }
   ],
   "source": [
    "(N2*(1-gamma))/(N2*theta*gamma/f-0.1*N2*theta*gamma/f)**2"
   ]
  },
  {
   "cell_type": "markdown",
   "id": "c3244caf",
   "metadata": {},
   "source": [
    "Rossby Number:\n",
    "$$ Ro\\equiv \\dfrac{\\gamma N_\\infty^2\\theta^2}{f^2}=\\dfrac{S^2_\\infty}{1+S^2_\\infty}$$\n",
    "so we calculate"
   ]
  },
  {
   "cell_type": "code",
   "execution_count": 241,
   "id": "a8bf49a8",
   "metadata": {},
   "outputs": [
    {
     "data": {
      "text/plain": [
       "-0.0009991672773105537"
      ]
     },
     "execution_count": 241,
     "metadata": {},
     "output_type": "execute_result"
    }
   ],
   "source": [
    "Ro = -(Sinf**2)*gamma\n",
    "Ro"
   ]
  },
  {
   "cell_type": "code",
   "execution_count": 242,
   "id": "b60f6a7f",
   "metadata": {},
   "outputs": [
    {
     "data": {
      "text/plain": [
       "3.331390507910204e-13"
      ]
     },
     "execution_count": 242,
     "metadata": {},
     "output_type": "execute_result"
    }
   ],
   "source": [
    "f*N2*(1-gamma*(1+(1-delta)*Sinf**2))"
   ]
  },
  {
   "cell_type": "code",
   "execution_count": 243,
   "id": "8e746644",
   "metadata": {},
   "outputs": [
    {
     "data": {
      "text/plain": [
       "5.0024993753123045e-05"
      ]
     },
     "execution_count": 243,
     "metadata": {},
     "output_type": "execute_result"
    }
   ],
   "source": [
    "fstar/2"
   ]
  },
  {
   "cell_type": "code",
   "execution_count": 244,
   "id": "216039a4",
   "metadata": {},
   "outputs": [
    {
     "data": {
      "text/plain": [
       "0.41670834721872585"
      ]
     },
     "execution_count": 244,
     "metadata": {},
     "output_type": "execute_result"
    }
   ],
   "source": [
    "Ri"
   ]
  },
  {
   "cell_type": "markdown",
   "id": "cd555068",
   "metadata": {},
   "source": [
    "The initial conditions and the shear parameter are declared below:"
   ]
  },
  {
   "cell_type": "code",
   "execution_count": 245,
   "id": "b96b9c5d",
   "metadata": {},
   "outputs": [],
   "source": [
    "delta = 0.5 # perturbed shear parameter\n",
    "vo = delta*(gamma*N2*theta)/(f) # s^-1 initial pertubation shear v\n",
    "lmbd = (gamma*N2*theta)/(f)"
   ]
  },
  {
   "cell_type": "code",
   "execution_count": 246,
   "id": "a85c71f9",
   "metadata": {},
   "outputs": [
    {
     "data": {
      "text/plain": [
       "-1.6461438965989263e-13"
      ]
     },
     "execution_count": 246,
     "metadata": {},
     "output_type": "execute_result"
    }
   ],
   "source": [
    "(f-theta*(lmbd))*(N2*(1-gamma)+N2*theta**2*gamma)-(lmbd)*(f*lmbd-theta*N2*(1-gamma))"
   ]
  },
  {
   "cell_type": "code",
   "execution_count": 247,
   "id": "c70f4497",
   "metadata": {},
   "outputs": [
    {
     "data": {
      "text/plain": [
       "5.0024993753123045e-05"
      ]
     },
     "execution_count": 247,
     "metadata": {},
     "output_type": "execute_result"
    }
   ],
   "source": [
    "fstar/2"
   ]
  },
  {
   "cell_type": "code",
   "execution_count": 248,
   "id": "465d7015",
   "metadata": {},
   "outputs": [
    {
     "data": {
      "text/plain": [
       "0.00010000000000000005"
      ]
     },
     "execution_count": 248,
     "metadata": {},
     "output_type": "execute_result"
    }
   ],
   "source": [
    "(vo*h)**2"
   ]
  },
  {
   "cell_type": "code",
   "execution_count": null,
   "id": "d7c81f83",
   "metadata": {},
   "outputs": [],
   "source": []
  },
  {
   "cell_type": "markdown",
   "id": "c8604b8a",
   "metadata": {},
   "source": [
    "Now, we define the oscillations and calculate them:"
   ]
  },
  {
   "cell_type": "code",
   "execution_count": 211,
   "id": "aa5f6d44",
   "metadata": {},
   "outputs": [],
   "source": [
    "def shear_osc(t):\n",
    "        u = (f*vo)/(fstar)*np.sin(fstar*t)\n",
    "        v = vo+(f**2*vo)/(fstar**2)*(np.cos(fstar*t)-1)\n",
    "        N = N2*theta*(f*vo)/(fstar**2)*(np.cos(fstar*t)-1)\n",
    "        return [u,v,N]"
   ]
  },
  {
   "cell_type": "code",
   "execution_count": 212,
   "id": "9a748d97",
   "metadata": {},
   "outputs": [],
   "source": [
    "t = np.arange(0,(2*np.pi)/fstar,0.1)\n",
    "perts = shear_osc(t)"
   ]
  },
  {
   "cell_type": "markdown",
   "id": "149fa1eb",
   "metadata": {},
   "source": [
    "We know that the ertel potential vorticity is defined to be \n",
    "$$ q\\equiv fN^2_\\infty(1-\\gamma)-\\dfrac{N^4_\\infty \\theta^2\\gamma}{f}+N^2_\\infty\\theta v_o-fb_o$$\n",
    "so we calculate"
   ]
  },
  {
   "cell_type": "code",
   "execution_count": 213,
   "id": "0b165007",
   "metadata": {},
   "outputs": [
    {
     "data": {
      "text/plain": [
       "3.356057640574167e-11"
      ]
     },
     "execution_count": 213,
     "metadata": {},
     "output_type": "execute_result"
    }
   ],
   "source": [
    "PV = (f-theta*(lmbd-vo))*(N2*(1-gamma)+N2*theta**2*gamma)-(lmbd-vo)*(f*lmbd-theta*N2*(1-gamma)) # s^-2 potential vorticity\n",
    "PV"
   ]
  },
  {
   "cell_type": "code",
   "execution_count": 214,
   "id": "88dea874",
   "metadata": {},
   "outputs": [
    {
     "data": {
      "text/plain": [
       "3.3140495867768403e-11"
      ]
     },
     "execution_count": 214,
     "metadata": {},
     "output_type": "execute_result"
    }
   ],
   "source": [
    "PV = (f-theta*(lmbd-vo))*(N2*(1-gamma))-(lmbd-vo)*(theta*N2*gamma) # s^-2 potential vorticity\n",
    "PV"
   ]
  },
  {
   "cell_type": "code",
   "execution_count": 215,
   "id": "254e030f",
   "metadata": {},
   "outputs": [
    {
     "data": {
      "text/plain": [
       "3.3140495867769463e-11"
      ]
     },
     "execution_count": 215,
     "metadata": {},
     "output_type": "execute_result"
    }
   ],
   "source": [
    "f*N2*(1-gamma*(1+(1-delta)*Sinf**2))"
   ]
  },
  {
   "cell_type": "markdown",
   "id": "d6f484f1",
   "metadata": {},
   "source": [
    "The mininum frequency in a baroclinic flow is given by for our case\n",
    "$$ \\omega_{\\text{min}}\\equiv \\sqrt{\\dfrac{fq}{N^2_\\infty(1-\\gamma)}}$$\n",
    "which we calculate to be"
   ]
  },
  {
   "cell_type": "code",
   "execution_count": 216,
   "id": "9419d413",
   "metadata": {
    "scrolled": true
   },
   "outputs": [
    {
     "data": {
      "text/plain": [
       "5.780739031970942e-06"
      ]
     },
     "execution_count": 216,
     "metadata": {},
     "output_type": "execute_result"
    }
   ],
   "source": [
    "omega_min = (f*PV/(N2*(gamma)))**(0.5)\n",
    "omega_min"
   ]
  },
  {
   "cell_type": "code",
   "execution_count": 217,
   "id": "85d7f266",
   "metadata": {},
   "outputs": [
    {
     "data": {
      "text/plain": [
       "1.674979270186815e-05"
      ]
     },
     "execution_count": 217,
     "metadata": {},
     "output_type": "execute_result"
    }
   ],
   "source": [
    "fstar/6"
   ]
  },
  {
   "cell_type": "code",
   "execution_count": 218,
   "id": "47b43389",
   "metadata": {},
   "outputs": [
    {
     "data": {
      "text/plain": [
       "[<matplotlib.lines.Line2D at 0x7fdf8f2ef280>]"
      ]
     },
     "execution_count": 218,
     "metadata": {},
     "output_type": "execute_result"
    },
    {
     "data": {
      "image/png": "[encoded data removed]",
      "text/plain": [
       "<Figure size 432x288 with 1 Axes>"
      ]
     },
     "metadata": {
      "needs_background": "light"
     },
     "output_type": "display_data"
    }
   ],
   "source": [
    "Ri = (N2*(1-gamma)-perts[-1])/(perts[0]**2+(lmbd-perts[1])**2)\n",
    "plt.plot(Ri)"
   ]
  },
  {
   "cell_type": "code",
   "execution_count": 219,
   "id": "451de3fd",
   "metadata": {},
   "outputs": [
    {
     "data": {
      "text/plain": [
       "1.322140545207843e-10"
      ]
     },
     "execution_count": 219,
     "metadata": {},
     "output_type": "execute_result"
    }
   ],
   "source": [
    "f*N2*(1-gamma)-(lmbd*0.001-delta*lmbd)*N2*theta"
   ]
  },
  {
   "cell_type": "code",
   "execution_count": 220,
   "id": "5eac453f",
   "metadata": {},
   "outputs": [
    {
     "data": {
      "text/plain": [
       "[<matplotlib.lines.Line2D at 0x7fdf91a635b0>]"
      ]
     },
     "execution_count": 220,
     "metadata": {},
     "output_type": "execute_result"
    },
    {
     "data": {
      "image/png": "[encoded data removed]",
      "text/plain": [
       "<Figure size 432x288 with 1 Axes>"
      ]
     },
     "metadata": {
      "needs_background": "light"
     },
     "output_type": "display_data"
    }
   ],
   "source": [
    "t = np.arange(0,(2*np.pi)/fstar,0.1)\n",
    "plt.plot(f*perts[1]+theta*perts[2])\n",
    "plt.plot((f*vo)*np.cos(fstar*t))"
   ]
  },
  {
   "cell_type": "code",
   "execution_count": 221,
   "id": "e460169d",
   "metadata": {},
   "outputs": [
    {
     "data": {
      "text/plain": [
       "[<matplotlib.lines.Line2D at 0x7fdf76a2d6a0>]"
      ]
     },
     "execution_count": 221,
     "metadata": {},
     "output_type": "execute_result"
    },
    {
     "data": {
      "image/png": "[encoded data removed]",
      "text/plain": [
       "<Figure size 432x288 with 1 Axes>"
      ]
     },
     "metadata": {
      "needs_background": "light"
     },
     "output_type": "display_data"
    }
   ],
   "source": [
    "t = np.arange(0,(2*np.pi)/fstar,0.1)\n",
    "plt.plot(f*theta*perts[1])\n",
    "plt.plot(perts[2])"
   ]
  },
  {
   "cell_type": "code",
   "execution_count": 222,
   "id": "366b473c",
   "metadata": {},
   "outputs": [
    {
     "data": {
      "text/plain": [
       "[<matplotlib.lines.Line2D at 0x7fdf79b09d00>]"
      ]
     },
     "execution_count": 222,
     "metadata": {},
     "output_type": "execute_result"
    },
    {
     "data": {
      "image/png": "[encoded data removed]",
      "text/plain": [
       "<Figure size 432x288 with 1 Axes>"
      ]
     },
     "metadata": {
      "needs_background": "light"
     },
     "output_type": "display_data"
    }
   ],
   "source": [
    "Ro_t = -theta*(lmbd-perts[1])/f\n",
    "plt.plot(Ro_t)"
   ]
  },
  {
   "cell_type": "code",
   "execution_count": 223,
   "id": "b83acefa",
   "metadata": {
    "scrolled": true
   },
   "outputs": [
    {
     "data": {
      "text/plain": [
       "[<matplotlib.lines.Line2D at 0x7fdf7e3d2610>]"
      ]
     },
     "execution_count": 223,
     "metadata": {},
     "output_type": "execute_result"
    },
    {
     "data": {
      "image/png": "[encoded data removed]",
      "text/plain": [
       "<Figure size 432x288 with 1 Axes>"
      ]
     },
     "metadata": {
      "needs_background": "light"
     },
     "output_type": "display_data"
    }
   ],
   "source": [
    "PV_t = (f-theta*(lmbd-perts[1]))*(N2*(1-gamma))-(lmbd-perts[1])*(N2*theta)\n",
    "plt.plot(PV_t)"
   ]
  },
  {
   "cell_type": "code",
   "execution_count": 224,
   "id": "4e6b314c",
   "metadata": {
    "scrolled": true
   },
   "outputs": [
    {
     "data": {
      "text/plain": [
       "3.273028342678034e-11"
      ]
     },
     "execution_count": 224,
     "metadata": {},
     "output_type": "execute_result"
    }
   ],
   "source": [
    "PV_t[0]"
   ]
  },
  {
   "cell_type": "code",
   "execution_count": null,
   "id": "205a1680",
   "metadata": {},
   "outputs": [],
   "source": [
    "perts[-1][0]"
   ]
  },
  {
   "cell_type": "markdown",
   "id": "1dbbdcb7",
   "metadata": {},
   "source": [
    "Note that under our definition of $\\gamma$ this reduces to \n",
    "$$\\omega_{\\text{min}}=f\\sqrt{\\delta}$$\n",
    "which we can verify as"
   ]
  },
  {
   "cell_type": "code",
   "execution_count": null,
   "id": "7aba2a9a",
   "metadata": {},
   "outputs": [],
   "source": [
    "omega_min_delta = (theta*vo*f/(gamma))**(0.5)\n",
    "omega_min_delta"
   ]
  },
  {
   "cell_type": "code",
   "execution_count": null,
   "id": "7a99663e",
   "metadata": {
    "scrolled": true
   },
   "outputs": [],
   "source": [
    "omega_min_delta = f*Sinf*(delta)**(0.5)\n",
    "omega_min_delta"
   ]
  },
  {
   "cell_type": "code",
   "execution_count": null,
   "id": "7b3d73ed",
   "metadata": {
    "scrolled": true
   },
   "outputs": [],
   "source": [
    "j = np.where(t==round(0.25*(2*np.pi)/fstar,1))[0]\n",
    "t[j[0]]"
   ]
  },
  {
   "cell_type": "code",
   "execution_count": null,
   "id": "3b637fdd",
   "metadata": {},
   "outputs": [],
   "source": [
    "N2"
   ]
  },
  {
   "cell_type": "code",
   "execution_count": null,
   "id": "4b0ecaa6",
   "metadata": {},
   "outputs": [],
   "source": [
    "def x2x1(i,perts):\n",
    "    return (1-gamma)*h/theta + perts[2][i]*h/(N2*theta)"
   ]
  },
  {
   "cell_type": "code",
   "execution_count": null,
   "id": "1325adcb",
   "metadata": {},
   "outputs": [],
   "source": [
    "def angle(i,perts):\n",
    "    return np.arctan(h/x2x1(i,perts))"
   ]
  },
  {
   "cell_type": "code",
   "execution_count": null,
   "id": "02177215",
   "metadata": {},
   "outputs": [],
   "source": [
    "np.pi - angle(j,perts)"
   ]
  },
  {
   "cell_type": "code",
   "execution_count": null,
   "id": "c9740506",
   "metadata": {},
   "outputs": [],
   "source": [
    "k = np.where(t==round(0.5*(2*np.pi)/fstar,1))\n",
    "t[k[0]]"
   ]
  },
  {
   "cell_type": "code",
   "execution_count": null,
   "id": "18fe7806",
   "metadata": {},
   "outputs": [],
   "source": [
    "amax = (angle(k,perts)-angle(j,perts))[0]\n",
    "amax"
   ]
  },
  {
   "cell_type": "code",
   "execution_count": null,
   "id": "f35280a3",
   "metadata": {},
   "outputs": [],
   "source": [
    "intlphi = np.pi -angle(j,perts)"
   ]
  },
  {
   "cell_type": "code",
   "execution_count": null,
   "id": "e1d5d2c0",
   "metadata": {
    "scrolled": true
   },
   "outputs": [],
   "source": [
    "plt.plot(t*(fstar)/(2*np.pi),perts[1])"
   ]
  },
  {
   "cell_type": "code",
   "execution_count": null,
   "id": "670a36b3",
   "metadata": {},
   "outputs": [],
   "source": [
    "plt.plot(t*(fstar)/(2*np.pi),perts[2])"
   ]
  },
  {
   "cell_type": "code",
   "execution_count": null,
   "id": "c1e424f1",
   "metadata": {},
   "outputs": [],
   "source": [
    "np.sin(intlphi)+N2*theta*f*vo/fstar*(np.cos(fstar*np.pi/(2*fstar))-1)*h"
   ]
  },
  {
   "cell_type": "code",
   "execution_count": null,
   "id": "b230a3be",
   "metadata": {},
   "outputs": [],
   "source": [
    "np.sin(intlphi)"
   ]
  },
  {
   "cell_type": "code",
   "execution_count": null,
   "id": "eca58325",
   "metadata": {},
   "outputs": [],
   "source": [
    "plt.plot(t*(fstar)/(2*np.pi),N2*theta*f*vo/fstar*np.cos(fstar*t)+np.cos(intlphi))"
   ]
  },
  {
   "cell_type": "code",
   "execution_count": null,
   "id": "b9eaf075",
   "metadata": {},
   "outputs": [],
   "source": [
    "q = (np.sin(intlphi))**(-1)*(2*fstar**2*1e-8)/(1e-8*(f*vo*np.sqrt(2)+fstar*vo+fstar*N2**(0.5)*gamma*Sinf))\n",
    "q"
   ]
  },
  {
   "cell_type": "code",
   "execution_count": null,
   "id": "96fd8434",
   "metadata": {
    "scrolled": true
   },
   "outputs": [],
   "source": [
    "2*fstar/np.pi*np.log(q)"
   ]
  },
  {
   "cell_type": "code",
   "execution_count": null,
   "id": "85973241",
   "metadata": {},
   "outputs": [],
   "source": [
    "uma = max(perts[0])\n",
    "vma = max(perts[1])\n",
    "bma = max(perts[2])\n",
    "print(f\"u max{uma}\")\n",
    "print(f\"v max{vma}\")\n",
    "print(f\"b max{bma}\")"
   ]
  },
  {
   "cell_type": "code",
   "execution_count": null,
   "id": "8eacddc8",
   "metadata": {},
   "outputs": [],
   "source": [
    "umi = min(perts[0])\n",
    "vmi = min(perts[1])\n",
    "bmi = min(perts[2])\n",
    "print(f\"u min{umi}\")\n",
    "print(f\"v min{vmi}\")\n",
    "print(f\"b min{bmi}\")"
   ]
  },
  {
   "cell_type": "code",
   "execution_count": null,
   "id": "a9743a76",
   "metadata": {},
   "outputs": [],
   "source": [
    "plt.plot(perts[0],perts[1])\n",
    "plt.hlines(0,umi,uma,colors=\"k\")\n",
    "plt.vlines(0,0,vma,colors=\"k\")\n",
    "plt.gca().set_aspect('equal')"
   ]
  },
  {
   "cell_type": "code",
   "execution_count": null,
   "id": "75fd17e6",
   "metadata": {},
   "outputs": [],
   "source": [
    "plt.plot(perts[0],perts[2])\n",
    "plt.hlines(0,umi,uma,colors=\"k\")\n",
    "plt.vlines(0,bmi,bma,colors=\"k\")"
   ]
  },
  {
   "cell_type": "code",
   "execution_count": null,
   "id": "722bd9ab",
   "metadata": {},
   "outputs": [],
   "source": [
    "plt.plot(perts[2])\n",
    "# plt.gca().set_aspect('equal')"
   ]
  },
  {
   "cell_type": "code",
   "execution_count": null,
   "id": "8a39c71f",
   "metadata": {},
   "outputs": [],
   "source": [
    "z = np.arange(0,h+1,1)\n",
    "# plt.plot(vprofile,z,color=\"r\")\n",
    "vprofile = Vinf-gamma*theta*N2/f*(h-z)\n",
    "plt.plot(vprofile,z,color=\"b\")\n",
    "plt.plot(vprofile+perts[1][-1]*(h-z),z,c=\"y\")\n",
    "# plt.ylim([0,1])"
   ]
  },
  {
   "cell_type": "code",
   "execution_count": null,
   "id": "6531a349",
   "metadata": {},
   "outputs": [],
   "source": [
    "# plt.plot(vprofile,z,color=\"r\")\n",
    "uprofile = h*uo*np.ones(np.size(z))\n",
    "# plt.plot(uprofile,z,color=\"b\")\n",
    "plt.plot(perts[0][0]*(h-z),z,c=\"y\")\n",
    "plt.vlines(0,0,h)\n",
    "# plt.ylim([0,1])"
   ]
  },
  {
   "cell_type": "code",
   "execution_count": null,
   "id": "3a42006a",
   "metadata": {},
   "outputs": [],
   "source": [
    "gamma1\n",
    "Sinf21"
   ]
  },
  {
   "cell_type": "code",
   "execution_count": null,
   "id": "6855cc1d",
   "metadata": {},
   "outputs": [],
   "source": [
    "bint = N2*(h+z)+N2*theta*100\n",
    "bprofile = N2*z+gamma*N2*(h-z)+N2*theta*100\n",
    "plt.plot(bint,z+h,\"y\")\n",
    "plt.plot(bprofile,z,c=\"b\")\n",
    "plt.plot(bprofile+perts[2][15515]*(h-z),z,c=\"r\")\n",
    "# plt.ylim([99,111])"
   ]
  },
  {
   "cell_type": "code",
   "execution_count": null,
   "id": "a9272c7d",
   "metadata": {},
   "outputs": [],
   "source": [
    "PV = f*N2*(1-gamma)-(N2**2*theta**2*gamma)/f+N2*theta*vo-f*bo\n",
    "# omega_min = np.sqrt(PV/N2)\n",
    "PV"
   ]
  },
  {
   "cell_type": "code",
   "execution_count": null,
   "id": "d606bb7a",
   "metadata": {},
   "outputs": [],
   "source": [
    "fstar"
   ]
  },
  {
   "cell_type": "code",
   "execution_count": null,
   "id": "5a6b5ee5",
   "metadata": {},
   "outputs": [],
   "source": [
    "np.Im"
   ]
  },
  {
   "cell_type": "code",
   "execution_count": null,
   "id": "47279a77",
   "metadata": {},
   "outputs": [],
   "source": []
  }
 ],
 "metadata": {
  "kernelspec": {
   "display_name": "Python 3 (ipykernel)",
   "language": "python",
   "name": "python3"
  },
  "language_info": {
   "codemirror_mode": {
    "name": "ipython",
    "version": 3
   },
   "file_extension": ".py",
   "mimetype": "text/x-python",
   "name": "python",
   "nbconvert_exporter": "python",
   "pygments_lexer": "ipython3",
   "version": "3.8.10"
  }
 },
 "nbformat": 4,
 "nbformat_minor": 5
}
