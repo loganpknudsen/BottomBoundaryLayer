{
 "cells": [
  {
   "cell_type": "code",
   "execution_count": null,
   "id": "0c5f3220-9679-4b98-bd5d-234ce65d9fc8",
   "metadata": {},
   "outputs": [],
   "source": [
    "import numpy as np\n",
    "import matplotlib.pyplot as plt\n",
    "import xarray as xr"
   ]
  },
  {
   "cell_type": "code",
   "execution_count": null,
   "id": "6ca405b9",
   "metadata": {},
   "outputs": [],
   "source": [
    "data4 = xr.open_dataset(\"PSI_non_dim_full_form_visc_low_res.nc\")"
   ]
  },
  {
   "cell_type": "code",
   "execution_count": null,
   "id": "b74fd719-1801-46f7-99bd-cc437af5a384",
   "metadata": {},
   "outputs": [],
   "source": [
    "N_list = [(1*10**(-5))**(0.5)]  # np.linspace((1e-7)**(0.5),(8e-4)**(0.5),51)  # np.array([(1e-5)**(0.5)])  # stratification\n",
    "theta = 5*10**(-3)\n",
    "delta_list = [0.5]  # np.linspace(0, 1, 26)\n",
    "f = 10**(-4)\n",
    "S2 = N_list[0]**2*theta**2/f**2\n",
    "gm = (1+S2)**(-1)\n",
    "beta = (1 + S2)**(-0.5)\n",
    "Gshear = N_list[0]**2*theta*gm/f\n",
    "Ri = N_list[0]**2*(1-gm)/Gshear**2"
   ]
  },
  {
   "cell_type": "code",
   "execution_count": null,
   "id": "2df16657-7047-4b7c-924b-acc0428c2261",
   "metadata": {},
   "outputs": [],
   "source": [
    "def vsz(t):\n",
    "    return 1 + beta**(-2)*(np.cos(beta*t)-1)"
   ]
  },
  {
   "cell_type": "code",
   "execution_count": null,
   "id": "04c919b7-e590-4112-bc14-b09fb911dfa7",
   "metadata": {},
   "outputs": [],
   "source": [
    "def usz(t):\n",
    "    return beta**(-1)*(np.sin(beta*t))"
   ]
  },
  {
   "cell_type": "code",
   "execution_count": null,
   "id": "f3e0fcbd-d90b-46ac-becd-0bc89dccc291",
   "metadata": {},
   "outputs": [],
   "source": [
    "def bsz(t):\n",
    "    return beta**(-2)*(np.cos(beta*t)-1)"
   ]
  },
  {
   "cell_type": "code",
   "execution_count": null,
   "id": "16162133-6352-4083-a8a8-397fe6a77d49",
   "metadata": {},
   "outputs": [],
   "source": [
    "data4.t"
   ]
  },
  {
   "cell_type": "code",
   "execution_count": null,
   "id": "14a1953a-9d0c-42a2-b171-3c0289c28238",
   "metadata": {},
   "outputs": [],
   "source": [
    "plt.contourf(data4.k, data4.t*beta/(2*np.pi), data4.growth_rate.isel(N=0, delta=0,gamma_index=0), cmap=\"seismic\", levels=12)\n",
    "plt.colorbar(label=\"Growth Rate\")\n",
    "plt.xlabel(\"Horizontal Wavenumber\")\n",
    "plt.ylabel(\"$t^*$\")\n",
    "plt.title(\"Growth rates for Phase and Horizontal wavenumbers\")\n",
    "plt.savefig(\"grwthrt_wv_nmbr_phs.pdf\")\n",
    "plt.show()"
   ]
  },
  {
   "cell_type": "code",
   "execution_count": null,
   "id": "83aeef30-a1f6-43f5-9d54-eab824428447",
   "metadata": {},
   "outputs": [],
   "source": [
    "plt.contourf(data4.k,data4.t*beta/(2*np.pi), data4.oscillation.isel(N=0, gamma_index=0,delta=0),cmap=\"bwr\")\n",
    "plt.colorbar(label=\"Frequency\")\n",
    "plt.xlabel(\"Horizontal Wavenumber\")\n",
    "plt.ylabel(\"$t^*$\")\n",
    "plt.title(\"Frequency for Phase and Horizontal wavenumbers\")\n",
    "plt.savefig(\"frqncy_wv_nmbr_phs.pdf\")\n",
    "plt.show()"
   ]
  },
  {
   "cell_type": "code",
   "execution_count": null,
   "id": "ae82cb54-d70e-453e-a6c6-291c32142622",
   "metadata": {},
   "outputs": [],
   "source": [
    "plt.plot(data4.k, data4.growth_rate.isel(N=0, delta=0,gamma_index=0).mean(['t']),c=\"k\")\n",
    "plt.xlabel(\"Horizontal Wavenumber\")\n",
    "plt.ylabel(\"Growth Rate\")\n",
    "plt.title(\"Phase-Averaged Growth Rate\")\n",
    "plt.savefig(\"phs_avg_grwth_rt.pdf\")\n",
    "plt.show()"
   ]
  },
  {
   "cell_type": "code",
   "execution_count": null,
   "id": "dab28cc3",
   "metadata": {},
   "outputs": [],
   "source": [
    "plt.plot(data4.k, data4.growth_rate.isel(N=0, delta=0,gamma_index=0, t=0))\n",
    "plt.xlabel(\"Horizontal Wavenumber\")\n",
    "plt.ylabel(\"Growth Rate\")"
   ]
  },
  {
   "cell_type": "code",
   "execution_count": null,
   "id": "ce6f7d37-e094-43f8-b877-bf558e0ec758",
   "metadata": {
    "scrolled": true
   },
   "outputs": [],
   "source": [
    "idx = data4.growth_rate.isel(N=0, delta=0).idxmax(dim=\"k\")\n",
    "# idx = data4.growth_rate.isel(N=0, delta=0, gamma_index=0).mean(['t']).idxmax(dim=\"k\")\n",
    "\n",
    "# data4.growth_rate.isel(N=0, delta=0, gamma_index=0).sel(k=idx)\n",
    "\n",
    "# idx = np.unique(idx)\n",
    "# idx =  data4.k\n",
    "# idx = np.array([idx[-1]])"
   ]
  },
  {
   "cell_type": "code",
   "execution_count": null,
   "id": "159d7060-509c-420f-8fa6-268ec2857c81",
   "metadata": {},
   "outputs": [],
   "source": [
    "idx"
   ]
  },
  {
   "cell_type": "code",
   "execution_count": null,
   "id": "0afeda3d",
   "metadata": {},
   "outputs": [],
   "source": [
    "data4.growth_rate.isel(N=0, delta=0,gamma_index=0).mean(['t']).idxmax()"
   ]
  },
  {
   "cell_type": "code",
   "execution_count": null,
   "id": "282afdd1-be64-4eb9-8726-51e5e09126e5",
   "metadata": {},
   "outputs": [],
   "source": [
    "data5 = xr.open_dataset(\"PSI_non_dim_field_low_res.nc\")"
   ]
  },
  {
   "cell_type": "code",
   "execution_count": null,
   "id": "e983b25f-0eb6-4243-b466-e1c552ba2f63",
   "metadata": {},
   "outputs": [],
   "source": [
    "data5"
   ]
  },
  {
   "cell_type": "code",
   "execution_count": null,
   "id": "cd77441e",
   "metadata": {},
   "outputs": [],
   "source": [
    "q = 4\n",
    "i = 30 #idx[q]\n",
    "plt.contourf(data5.x_domain.isel(t=q).sel(k=i,method=\"nearest\"), np.array(data5.z), data5.u_structure.isel(t=q).sel(k=i,method=\"nearest\"))\n",
    "plt.colorbar()\n",
    "plt.show()"
   ]
  },
  {
   "cell_type": "code",
   "execution_count": null,
   "id": "c0008885",
   "metadata": {},
   "outputs": [],
   "source": [
    "nz = 128\n",
    "fig, axs = plt.subplots()\n",
    "x_domain = np.linspace(0, 2*np.pi/4, nz)\n",
    "q = 3\n",
    "i =  58.0 #idx[q]\n",
    "ti =  q\n",
    "total_t_v = np.zeros((nz, nz))\n",
    "total_t_b = np.zeros((nz, nz))\n",
    "# for i in idx:\n",
    "# i = idx[ti]\n",
    "omega_r = data4.growth_rate.isel(N=0, delta=0, t=q).sel(k=i)\n",
    "omega_i = data4.oscillation.isel(N=0, delta=0,  t=q).sel(k=i)\n",
    "total_v = np.real(np.array([data5.v_structure.isel(t=ti).sel(k=i)+1j*data5.v_structure_complex.isel(t=ti).sel(k=i)]).T@np.array([np.exp(1j*np.array([i])*x_domain)]))\n",
    "mx_v = np.max(total_v)\n",
    "total_v = total_v/mx_v\n",
    "total_t_v += total_v\n",
    "total_b = np.real(np.array([data5.b_structure.isel(t=ti).sel(k=i)+1j*data5.b_structure_complex.isel(t=ti).sel(k=i)]).T@np.array([np.exp(1j*np.array([i])*x_domain)]))\n",
    "mx_b = np.max(total_b)\n",
    "total_b = total_b/mx_b\n",
    "total_t_b += total_b\n",
    "plt.contourf(np.array(x_domain), np.array(data5.z), total_t_v) #+0.5*usz(ti)*(1-np.array([data5.z]).T)+np.array([data5.z]).T\n",
    "plt.colorbar(label=\"v-velocity\")\n",
    "# plt.contour(np.array(x_domain), np.array(data5.z),  total_t_b) # +gm**(-1)*Ri**(-1)*np.array([x_domain])+np.array([data5.z]).T+gm/(1-gm)+gm**(-1)*Ri**(-1)*0.5*bsz(ti)*(1-np.array([data5.z]).T)\n",
    "plt.title(\"u-velocity structure at $t^*$ = \"+str(round(np.array(data5.t[ti])*beta/(2*np.pi),2)))\n",
    "plt.ylabel(\"z\")\n",
    "plt.xlabel(\"x\")"
   ]
  },
  {
   "cell_type": "code",
   "execution_count": null,
   "id": "07d5cf22-ac52-4279-97dd-0f1decf609e8",
   "metadata": {},
   "outputs": [],
   "source": [
    "import matplotlib.animation\n",
    "import matplotlib.pyplot as plt\n",
    "import numpy as np\n",
    "\n",
    "plt.rcParams[\"animation.html\"] = \"jshtml\"\n",
    "plt.rcParams['animation.embed_limit'] = 2**128\n",
    "# plt.rcParams['figure.dpi'] = 150  \n",
    "plt.ioff()\n",
    "nz = 64\n",
    "fig, axs = plt.subplots()\n",
    "x_domain = np.linspace(0, 2*np.pi/4, nz)\n",
    "\n",
    "def animate(ti):\n",
    "    plt.clf()\n",
    "    total_t_v = np.zeros((nz, nz))\n",
    "    total_t_b = np.zeros((nz, nz))\n",
    "    # for i in idx:\n",
    "    # i = idx[ti]\n",
    "    total_v = np.real(np.array([data5.u_structure.isel(t=ti).sel(k=i)+1j*data5.u_structure_complex.isel(t=ti).sel(k=i)]).T*np.array([np.exp(1j*np.array([i])*x_domain)]))\n",
    "    mx_v = np.max(total_v)\n",
    "    total_v = total_v/mx_v\n",
    "    total_t_v += total_v\n",
    "    total_b = np.real(np.array([data5.b_structure.isel(t=ti).sel(k=i)+data5.b_structure_complex.isel(t=ti).sel(k=i)]).T*np.array([np.exp(1j*np.array([i])*x_domain)]))\n",
    "    mx_b = np.max(total_b)\n",
    "    total_b = total_b/mx_b\n",
    "    total_t_b += total_b\n",
    "    plt.contourf(np.array(x_domain), np.array(data5.z), total_t_v+0.5*vsz(ti)*(1-np.array([data5.z]).T)+np.array([data5.z]).T) # \n",
    "    plt.colorbar(label=\"v-velocity\")\n",
    "    plt.contour(np.array(x_domain), np.array(data5.z),  total_t_b+gm**(-1)*Ri**(-1)*np.array([x_domain])+np.array([data5.z]).T+gm/(1-gm)+gm**(-1)*Ri**(-1)*0.5*bsz(ti)*(1-np.array([data5.z]).T),cmap=\"grey\")\n",
    "    plt.title(\"u-velocity structure at $t^*$ = \"+str(round(np.array(data5.t[ti])*beta/(2*np.pi),2)))\n",
    "    plt.ylabel(\"z\")\n",
    "    plt.xlabel(\"x\")\n",
    "\n",
    "frms = len(data5.t)\n",
    "anim = matplotlib.animation.FuncAnimation(fig, animate, frames=frms, interval=1000)\n",
    "# writervideo = matplotlib.animation.FFMpegWriter(fps=0.5) \n",
    "anim.save('PSI_u_structure_fastest_mode_each_time.gif') \n",
    "plt.close()\n",
    "# anim.show()"
   ]
  },
  {
   "cell_type": "code",
   "execution_count": null,
   "id": "e79eb784-8bd3-4b8c-abb1-912914867645",
   "metadata": {},
   "outputs": [],
   "source": [
    "import matplotlib.animation\n",
    "import matplotlib.pyplot as plt\n",
    "import numpy as np\n",
    "\n",
    "plt.rcParams[\"animation.html\"] = \"jshtml\"\n",
    "plt.rcParams['animation.embed_limit'] = 2**128\n",
    "# plt.rcParams['figure.dpi'] = 150  \n",
    "plt.ioff()\n",
    "fig, axs = plt.subplots()\n",
    "x_domain = np.linspace(0, 2*np.pi/4, 256)\n",
    "\n",
    "def animate(ti):\n",
    "    plt.clf()\n",
    "    total_t_v = np.zeros((256, 256))\n",
    "    total_t_b = np.zeros((256, 256))\n",
    "    for i in idx:\n",
    "        total_v = np.real(np.array([data5.u_structure.isel(t=ti).sel(k=i)+data5.u_structure_complex.isel(t=ti).sel(k=i)]).T*np.array([np.exp(1j*np.array([i])*x_domain)]))\n",
    "        mx_v = np.max(total_v)\n",
    "        total_v = total_v/mx_v\n",
    "        total_t_v += total_v\n",
    "        total_b = np.real(np.array([data5.b_structure.isel(t=ti).sel(k=i)+data5.b_structure_complex.isel(t=ti).sel(k=i)]).T*np.array([np.exp(1j*np.array([i])*x_domain)]))\n",
    "        mx_b = np.max(total_b)\n",
    "        total_b = total_b/mx_b\n",
    "        total_t_b += total_b\n",
    "    plt.contourf(np.array(x_domain), np.array(data5.z), total_t_v+0.5*vsz(ti)*(1-np.array([data5.z]).T)+np.array([data5.z]).T) # \n",
    "    plt.colorbar(label=\"v-velocity\")\n",
    "    plt.contour(np.array(x_domain), np.array(data5.z),  total_t_b+gm**(-1)*Ri**(-1)*np.array([x_domain])+np.array([data5.z]).T+gm/(1-gm)+gm**(-1)*Ri**(-1)*0.5*bsz(ti)*(1-np.array([data5.z]).T),cmap=\"grey\")\n",
    "    plt.title(\"u-velocity structure at $t^*$ = \"+str(round(np.array(data5.t[ti])*beta/(2*np.pi),2)))\n",
    "    plt.ylabel(\"z\")\n",
    "    plt.xlabel(\"x\")\n",
    "\n",
    "frms = len(data5.t)\n",
    "anim = matplotlib.animation.FuncAnimation(fig, animate, frames=frms, interval=1000)\n",
    "# writervideo = matplotlib.animation.FFMpegWriter(fps=0.5) \n",
    "anim.save('PSI_u_structure_largest_growing_mode.gif') \n",
    "plt.close()\n",
    "# anim.show()"
   ]
  },
  {
   "cell_type": "code",
   "execution_count": null,
   "id": "df4f24d6-62f5-4dc4-a56f-1d92cd915305",
   "metadata": {},
   "outputs": [],
   "source": [
    "# np.array(data5.z)"
   ]
  },
  {
   "cell_type": "code",
   "execution_count": null,
   "id": "5983ef18-16ed-425e-baa4-3cef1cf70a70",
   "metadata": {
    "scrolled": true
   },
   "outputs": [],
   "source": [
    "np.shape(total)"
   ]
  },
  {
   "cell_type": "code",
   "execution_count": null,
   "id": "83ea2a05-3bd7-468f-85aa-2d3fd0ffd88a",
   "metadata": {},
   "outputs": [],
   "source": [
    "np.shape(np.array(x_domain))"
   ]
  },
  {
   "cell_type": "code",
   "execution_count": null,
   "id": "1c4c0f70-7b1a-4c3c-b941-5b62cee468e3",
   "metadata": {},
   "outputs": [],
   "source": [
    "np.shape(x_domain)"
   ]
  },
  {
   "cell_type": "code",
   "execution_count": null,
   "id": "d7ed6011",
   "metadata": {},
   "outputs": [],
   "source": [
    "plt.pcolormesh(data5.z, data5.t*beta/(2*np.pi), data5.v_structure.isel(k=-1)/data5.v_structure.isel(k=-1).max())  # f/theta*S2*data5.z background shear\n",
    "plt.ylabel(\"Time\")\n",
    "plt.xlabel(\"z\")\n",
    "plt.title(\"Largest Growing Mode Normalized Vertical Structure\")\n",
    "plt.colorbar()\n",
    "# plt.xlabel(\"v-velocity\")"
   ]
  },
  {
   "cell_type": "code",
   "execution_count": null,
   "id": "f3094db5",
   "metadata": {},
   "outputs": [],
   "source": [
    "plt.plot(data5.z, data5.v_structure.isel(k=-1,t=6))"
   ]
  },
  {
   "cell_type": "code",
   "execution_count": null,
   "id": "bf514de9-ef94-46fc-b431-e63faafc1188",
   "metadata": {},
   "outputs": [],
   "source": [
    "plt.pcolormesh(data5.z, data5.t*beta/(2*np.pi), data5.v_structure.isel(k=-1)+data5.z-0.9*vsz(data5.t)*(1-data5.z))  # f/theta*S2*data5.z background shear\n",
    "plt.ylabel(\"Time\")\n",
    "plt.colorbar()\n",
    "# plt.xlabel(\"v-velocity\")"
   ]
  },
  {
   "cell_type": "code",
   "execution_count": null,
   "id": "3aa90f34-b267-4d8d-8925-bbff71e8e74b",
   "metadata": {},
   "outputs": [],
   "source": [
    "data5.v_structure.isel(k=14)"
   ]
  },
  {
   "cell_type": "code",
   "execution_count": null,
   "id": "3c5c1f6c-6a7f-4ae4-81fa-1a9203f704f1",
   "metadata": {},
   "outputs": [],
   "source": []
  },
  {
   "cell_type": "code",
   "execution_count": null,
   "id": "df3c0d9b-4309-4e1b-8365-0c88e6878a72",
   "metadata": {},
   "outputs": [],
   "source": []
  }
 ],
 "metadata": {
  "kernelspec": {
   "display_name": "Python 3 (ipykernel)",
   "language": "python",
   "name": "python3"
  },
  "language_info": {
   "codemirror_mode": {
    "name": "ipython",
    "version": 3
   },
   "file_extension": ".py",
   "mimetype": "text/x-python",
   "name": "python",
   "nbconvert_exporter": "python",
   "pygments_lexer": "ipython3",
   "version": "3.8.10"
  }
 },
 "nbformat": 4,
 "nbformat_minor": 5
}
