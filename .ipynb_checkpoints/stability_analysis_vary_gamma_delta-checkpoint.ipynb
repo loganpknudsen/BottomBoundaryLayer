{
 "cells": [
  {
   "cell_type": "code",
   "execution_count": null,
   "id": "4884ed94-ed7b-494b-bdfb-b4a5bec88f58",
   "metadata": {},
   "outputs": [],
   "source": [
    "\"\"\"\n",
    "Dedalus script solving for the eigenvalues of the Mathieu equation. This script\n",
    "demonstrates solving a periodic eigenvalue problem with nonconstant coefficients\n",
    "and produces a plot of the Mathieu eigenvalues 'a' as a function of the\n",
    "parameter 'q'. It should take just a few seconds to run (serial only).\n",
    "\n",
    "We use a Fourier basis to solve the EVP:\n",
    "    dx(dx(y)) + (a - 2*q*cos(2*x))*y = 0\n",
    "where 'a' is the eigenvalue. Periodicity is enforced by using the Fourier basis.\n",
    "\n",
    "To run and plot:\n",
    "    $ python3 mathieu_evp.py\n",
    "\"\"\"\n",
    "\n",
    "import numpy as np\n",
    "import matplotlib.pyplot as plt\n",
    "import dedalus.public as d3\n",
    "# import logging\n",
    "# logger = logging.getLogger(__name__)\n",
    "\n",
    "\n",
    "# Parameters\n",
    "N_list = [(4e-4)**(0.5)] #np.array([(1e-5)**(0.5)]) # stratification\n",
    "delta_list =  np.linspace(0, 1, 26)\n",
    "theta = 5*10**(-3)\n",
    "f = 10**(-4)\n",
    "uz = np.sin(np.pi/2)\n",
    "vz = np.cos(np.pi/2)-1\n",
    "bz = np.cos(np.pi/2)-1"
   ]
  },
  {
   "cell_type": "code",
   "execution_count": null,
   "id": "0ee052be-bf27-44c7-8dc7-deb1024dd2e0",
   "metadata": {},
   "outputs": [],
   "source": [
    "N_list[0]*theta/f"
   ]
  },
  {
   "cell_type": "code",
   "execution_count": null,
   "id": "dc081536-9478-4611-a4bb-2e086708200f",
   "metadata": {},
   "outputs": [],
   "source": [
    "# N**2*0.5*(200**2-103**2)"
   ]
  },
  {
   "cell_type": "code",
   "execution_count": null,
   "id": "da8b44ed-6090-43a7-94d9-1ded32b1a3f3",
   "metadata": {},
   "outputs": [],
   "source": [
    "# Basis\n",
    "coord = d3.Coordinate('z')\n",
    "dist = d3.Distributor(coord, dtype=np.complex128)\n",
    "basis = d3.Legendre(coord, 56, bounds=(0, 1),dealias=3/2)"
   ]
  },
  {
   "cell_type": "code",
   "execution_count": null,
   "id": "a3d1b1d3-828f-4ace-a179-4c91e8a2f4f0",
   "metadata": {},
   "outputs": [],
   "source": [
    "# Fields\n",
    "u = dist.Field(bases=basis)\n",
    "v = dist.Field(bases=basis)\n",
    "w = dist.Field(bases=basis)\n",
    "b = dist.Field(bases=basis)\n",
    "p = dist.Field(bases=basis)\n",
    "tau_1 = dist.Field(name=\"tau_1\")\n",
    "tau_2 = dist.Field(name=\"tau_2\")\n",
    "tau_3 = dist.Field(name=\"tau_3\")\n",
    "tau_4 = dist.Field(name=\"tau_4\")\n",
    "omega = dist.Field()"
   ]
  },
  {
   "cell_type": "code",
   "execution_count": null,
   "id": "647ad8cf-5baa-4c1d-96db-c8b294cf5080",
   "metadata": {},
   "outputs": [],
   "source": [
    "# Substitutions\n",
    "z = dist.local_grid(basis)\n",
    "delta = dist.Field()\n",
    "N = dist.Field()\n",
    "# S = dist.Field()\n",
    "gamma = dist.Field()\n",
    "Gshear = dist.Field()\n",
    "n = dist.Field()\n",
    "Ri = dist.Field()\n",
    "alpha = dist.Field()\n",
    "k = dist.Field()\n",
    "# t = dist.Field()\n",
    "# uz = dist.Field()\n",
    "# vz = dist.Field()\n",
    "# bz = dist.Field()\n",
    "one_z = dist.Field(bases=basis)\n",
    "one_z['g'] = 1-z\n",
    "lift_basis = basis.derivative_basis(1)\n",
    "lift = lambda A: d3.Lift(A,lift_basis,-1)\n",
    "dz = lambda A: d3.Differentiate(A, coord)\n",
    "wz = dz(w)+lift(tau_1)+lift(tau_2)\n",
    "pz = dz(p)+lift(tau_3)+lift(tau_4)"
   ]
  },
  {
   "cell_type": "code",
   "execution_count": null,
   "id": "d2edb7e8-58b6-47d4-8285-b93655167fae",
   "metadata": {},
   "outputs": [],
   "source": [
    "# Problem\n",
    "problem = d3.EVP([u,v,w,b,p,tau_1,tau_2,tau_3,tau_4], eigenvalue=omega, namespace=locals())\n",
    "problem.add_equation(\"-1j*omega*u-gamma**(0.5)*delta*uz*w+1j*k*gamma**(0.5)*delta*uz*one_z*u+1j*k*Ri*p-alpha*b= 0\")\n",
    "problem.add_equation(\"-1j*omega*v-(1+delta+delta*gamma*vz)*w+1j*k*gamma**(0.5)*delta*uz*one_z*v+u-n*theta*w= 0\")\n",
    "problem.add_equation(\"-1j*omega*n**2*w+1j*k*gamma**(0.5)*delta*n*uz*one_z*w+n*theta*v+Ri*pz-Ri*b= 0\")\n",
    "problem.add_equation(\"1j*k*u+wz=0\")\n",
    "problem.add_equation(\"-1j*omega*b + u*theta/(n*(1-gamma)) + (1-gamma)**(-1)*(1-gamma-gamma*delta*bz*theta)*w + 1j*k*gamma**(0.5)*delta*uz*one_z*b = 0\")\n",
    "problem.add_equation(\"w(z=0)=0\")\n",
    "problem.add_equation(\"w(z=1)=0\")\n",
    "problem.add_equation(\"p(z=0)=0\")\n",
    "problem.add_equation(\"p(z=1)=0\")"
   ]
  },
  {
   "cell_type": "code",
   "execution_count": null,
   "id": "907e8281-0fd9-4f5a-823a-473e97688ec1",
   "metadata": {},
   "outputs": [],
   "source": [
    "def gamma_lower_limit(N,delta):\n",
    "    S2 = N**2*theta**2/f**2\n",
    "    return (3-S2)/(3*(1+S2)-delta*S2)"
   ]
  },
  {
   "cell_type": "code",
   "execution_count": null,
   "id": "bc88f959-d910-464e-b256-7a431bcd60a4",
   "metadata": {},
   "outputs": [],
   "source": [
    "def gamma_upper_limit(N,delta):\n",
    "    S2 = N**2*theta**2/f**2\n",
    "    return (1+S2)**(-1)"
   ]
  },
  {
   "cell_type": "code",
   "execution_count": null,
   "id": "8d908387-cfe0-4484-98d9-a36fa8fb5739",
   "metadata": {
    "scrolled": true
   },
   "outputs": [],
   "source": [
    "# Solver\n",
    "solver = problem.build_solver()\n",
    "evals = []\n",
    "for Ni in N_list:\n",
    "    N['g'] = Ni\n",
    "    eval2 = []\n",
    "    for deltai in delta_list:\n",
    "        delta['g'] = deltai\n",
    "        gamma_list = np.linspace(gamma_lower_limit(Ni,deltai),gamma_upper_limit(Ni,deltai),21)\n",
    "        eval3 = []\n",
    "        for gammai in gamma_list:\n",
    "            gamma['g'] = gammai\n",
    "            Gsheari = (theta*(Ni)**2*gammai)/f\n",
    "            Gshear['g'] = Gsheari\n",
    "            n['g'] = f/(Gsheari)\n",
    "            Ri['g'] = Ni**2*(1-gammai)/((Gsheari)**2)\n",
    "            alpha['g'] = (Ni**2*theta*(1-gammai))/(f*Gsheari)\n",
    "            Hi = 1 # (f*0.05)/(gammai*Ni**2*theta)\n",
    "            k['g'] = 2*np.pi*(Gsheari*Hi/f)\n",
    "            solver.solve_dense(solver.subproblems[0], rebuild_matrices=True)\n",
    "            sorted_evals = np.sort(solver.eigenvalues.imag)\n",
    "            eval3.append(sorted_evals[:1])\n",
    "        eval2.append(eval3)\n",
    "    evals.append(eval2)\n",
    "evals = np.array(evals)\n"
   ]
  },
  {
   "cell_type": "code",
   "execution_count": null,
   "id": "293ed799-6b16-4252-a301-4771194d8691",
   "metadata": {},
   "outputs": [],
   "source": [
    "gamma_l = []\n",
    "for Ni in N_list:\n",
    "    N['g'] = Ni\n",
    "    gamma_l2 = []\n",
    "    for deltai in delta_list:\n",
    "        delta['g'] = deltai\n",
    "        gamma_li = np.linspace(gamma_lower_limit(Ni,deltai),gamma_upper_limit(Ni,deltai),21)\n",
    "        gamma_l2.append(gamma_li)\n",
    "    gamma_l.append(gamma_l2)\n",
    "gamma_l = np.array(gamma_l)"
   ]
  },
  {
   "cell_type": "code",
   "execution_count": null,
   "id": "86b118a4-49cc-4b94-9424-ba973219d010",
   "metadata": {},
   "outputs": [],
   "source": [
    "np.shape(gamma_l[:,:,:])"
   ]
  },
  {
   "cell_type": "code",
   "execution_count": null,
   "id": "21f7387c-c257-4cb6-9d0c-17e78ec19c61",
   "metadata": {},
   "outputs": [],
   "source": [
    "np.shape(evals)"
   ]
  },
  {
   "cell_type": "code",
   "execution_count": null,
   "id": "a194b4ba-2773-4711-9340-85ab519b4cfb",
   "metadata": {},
   "outputs": [],
   "source": [
    "for i in range(21):\n",
    "    plt.scatter(delta_list,gamma_l[0,:,i],c=np.log10(evals[0,:,i,0]*(-1)))\n",
    "plt.xlabel(r\"$\\delta$\")\n",
    "plt.colorbar()\n",
    "plt.ylabel(r\"$\\gamma$\")\n",
    "plt.show()"
   ]
  },
  {
   "cell_type": "code",
   "execution_count": null,
   "id": "08510b31-d42a-45a9-a835-81520ede094d",
   "metadata": {},
   "outputs": [],
   "source": []
  },
  {
   "cell_type": "code",
   "execution_count": null,
   "id": "f36f6ab5-984e-47d7-9962-93f7b1034ad9",
   "metadata": {},
   "outputs": [],
   "source": []
  }
 ],
 "metadata": {
  "kernelspec": {
   "display_name": "Python 3 (ipykernel)",
   "language": "python",
   "name": "python3"
  },
  "language_info": {
   "codemirror_mode": {
    "name": "ipython",
    "version": 3
   },
   "file_extension": ".py",
   "mimetype": "text/x-python",
   "name": "python",
   "nbconvert_exporter": "python",
   "pygments_lexer": "ipython3",
   "version": "3.13.0"
  }
 },
 "nbformat": 4,
 "nbformat_minor": 5
}
