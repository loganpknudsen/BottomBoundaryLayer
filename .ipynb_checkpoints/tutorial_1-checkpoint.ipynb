{
 "cells": [
  {
   "cell_type": "code",
   "execution_count": null,
   "id": "25e81672",
   "metadata": {},
   "outputs": [],
   "source": [
    "import numpy as np\n",
    "import matplotlib.pyplot as plt\n",
    "import dedalus.public as d3"
   ]
  },
  {
   "cell_type": "code",
   "execution_count": null,
   "id": "f5d14e38-e877-4a28-ae14-fd4e79e784ef",
   "metadata": {},
   "outputs": [],
   "source": [
    "%matplotlib inline\n",
    "%config InlineBackend.figure_format = 'retina'"
   ]
  },
  {
   "cell_type": "code",
   "execution_count": null,
   "id": "5531d37c-2a13-4bce-bf7d-b95865dac35a",
   "metadata": {},
   "outputs": [],
   "source": [
    "coords = d3.CartesianCoordinates('x', 'y', 'z')"
   ]
  },
  {
   "cell_type": "code",
   "execution_count": null,
   "id": "ff9fc8a4-86e9-4c85-829b-4aa99dd7a73b",
   "metadata": {},
   "outputs": [],
   "source": [
    "dist = d3.Distributor(coords, dtype=np.float64) # No mesh for serial / automatic parallelization"
   ]
  },
  {
   "cell_type": "code",
   "execution_count": null,
   "id": "7aa52600-9036-4edd-9587-c67d560ace85",
   "metadata": {},
   "outputs": [],
   "source": [
    "for layout in dist.layouts:\n",
    "    print('Layout {}:  Grid space: {}  Local: {}'.format(layout.index, layout.grid_space, layout.local))"
   ]
  },
  {
   "cell_type": "code",
   "execution_count": null,
   "id": "2c5d482b-b2fd-458c-8446-7e61faaaa913",
   "metadata": {},
   "outputs": [],
   "source": [
    "xbasis = d3.RealFourier(coords['x'], size=32, bounds=(0,1), dealias=3/2)\n",
    "ybasis = d3.RealFourier(coords['y'], size=32, bounds=(0,1), dealias=3/2)\n",
    "zbasis = d3.Chebyshev(coords['z'], size=32, bounds=(0,1), dealias=3/2)"
   ]
  },
  {
   "cell_type": "code",
   "execution_count": null,
   "id": "9db81f8f-7ece-41be-8fd4-3337427edae6",
   "metadata": {},
   "outputs": [],
   "source": [
    "grid_normal = zbasis.global_grid(dist, scale=1).ravel()\n",
    "grid_dealias = zbasis.global_grid(dist, scale=3/2).ravel()\n",
    "\n",
    "plt.figure(figsize=(6, 1.5), dpi=100)\n",
    "plt.plot(grid_normal, 0*grid_normal+1, 'o', markersize=5)\n",
    "plt.plot(grid_dealias, 0*grid_dealias-1, 'o', markersize=5)\n",
    "plt.xlabel('z')\n",
    "plt.title('Chebyshev grid with scales 1 and 3/2')\n",
    "plt.ylim([-2, 2])\n",
    "plt.gca().yaxis.set_ticks([]);\n",
    "plt.tight_layout()"
   ]
  },
  {
   "cell_type": "code",
   "execution_count": null,
   "id": "2a4b024f-79c6-4437-abe3-cee2850518e0",
   "metadata": {},
   "outputs": [],
   "source": [
    "local_x = dist.local_grid(xbasis)\n",
    "local_y = dist.local_grid(ybasis)\n",
    "local_z = dist.local_grid(zbasis)\n",
    "print('Local x shape:', local_x.shape)\n",
    "print('Local y shape:', local_y.shape)\n",
    "print('Local z shape:', local_z.shape)"
   ]
  },
  {
   "cell_type": "code",
   "execution_count": null,
   "id": "b0b4632b-7aeb-45d7-87b0-8b15678cdca6",
   "metadata": {},
   "outputs": [],
   "source": [
    "local_kx = dist.local_modes(xbasis)\n",
    "local_ky = dist.local_modes(ybasis)\n",
    "local_nz = dist.local_modes(zbasis)\n",
    "print('Local kx shape:', local_kx.shape)\n",
    "print('Local ky shape:', local_ky.shape)\n",
    "print('Local nz shape:', local_nz.shape)"
   ]
  },
  {
   "cell_type": "code",
   "execution_count": null,
   "id": "cc302c28-c9c9-42c2-b306-59ba5a3894ca",
   "metadata": {},
   "outputs": [],
   "source": []
  }
 ],
 "metadata": {
  "kernelspec": {
   "display_name": "Python 3 (ipykernel)",
   "language": "python",
   "name": "python3"
  },
  "language_info": {
   "codemirror_mode": {
    "name": "ipython",
    "version": 3
   },
   "file_extension": ".py",
   "mimetype": "text/x-python",
   "name": "python",
   "nbconvert_exporter": "python",
   "pygments_lexer": "ipython3",
   "version": "3.13.0"
  }
 },
 "nbformat": 4,
 "nbformat_minor": 5
}
