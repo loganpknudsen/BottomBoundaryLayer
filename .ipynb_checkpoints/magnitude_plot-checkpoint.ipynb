{
 "cells": [
  {
   "cell_type": "code",
   "execution_count": null,
   "id": "03f05a8d",
   "metadata": {},
   "outputs": [],
   "source": [
    "import numpy as np\n",
    "import matplotlib.pyplot as plt"
   ]
  },
  {
   "cell_type": "code",
   "execution_count": null,
   "id": "d9485382",
   "metadata": {},
   "outputs": [],
   "source": [
    "Sinf = np.arange(0,2,0.000001)"
   ]
  },
  {
   "cell_type": "code",
   "execution_count": null,
   "id": "e4490cb9",
   "metadata": {},
   "outputs": [],
   "source": [
    "def magnitude_u_vel_upper_limit(Sinf):\n",
    "    N2 = 1e-5\n",
    "    delta = 0.5\n",
    "    f = 1e-4\n",
    "    theta = np.arctan(Sinf*f/N2**(0.5))\n",
    "    gamma = (np.cos(theta)*(1+(1-delta)*Sinf**2))**(-1)\n",
    "    lmbd = N2*gamma*np.tan(theta)/f\n",
    "    beta = (1+Sinf**2)**(0.5)\n",
    "    return lmbd*delta*beta**(-1)"
   ]
  },
  {
   "cell_type": "code",
   "execution_count": null,
   "id": "6c64b866",
   "metadata": {},
   "outputs": [],
   "source": [
    "def magnitude_v_vel_upper_limit(Sinf):\n",
    "    N2 = 1e-5\n",
    "    delta = 0.5\n",
    "    f = 1e-4\n",
    "    theta = np.arctan(Sinf*f/N2**(0.5))\n",
    "    gamma = (np.cos(theta)*(1+(1-delta)*Sinf**2))**(-1)\n",
    "    lmbd = N2*gamma*np.tan(theta)/f\n",
    "    beta = (1+Sinf**2)**(0.5)\n",
    "    return lmbd*delta*beta**(-2)"
   ]
  },
  {
   "cell_type": "code",
   "execution_count": null,
   "id": "bd6eb863",
   "metadata": {},
   "outputs": [],
   "source": [
    "def magnitude_u_vel_lower_limit(Sinf):\n",
    "    N2 = 1e-5\n",
    "    delta = 0.5\n",
    "    f = 1e-4\n",
    "    theta = np.arctan(Sinf*f/N2**(0.5))\n",
    "    gamma = (3-Sinf**2)*(np.cos(theta)*(3*(1+Sinf**2)-4*delta*Sinf**2))**(-1)\n",
    "    lmbd = N2*gamma*np.tan(theta)/f\n",
    "    beta = (1+Sinf**2)**(0.5)\n",
    "    return delta*lmbd+lmbd*delta*beta**(-1)"
   ]
  },
  {
   "cell_type": "code",
   "execution_count": null,
   "id": "7bb0f819",
   "metadata": {},
   "outputs": [],
   "source": [
    "def magnitude_v_vel_lower_limit(Sinf):\n",
    "    N2 = 1e-5\n",
    "    delta = 0.5\n",
    "    f = 1e-4\n",
    "    theta = np.arctan(Sinf*f/N2**(0.5))\n",
    "    gamma = (3-Sinf**2)*(np.cos(theta)*(3*(1+Sinf**2)-4*delta*Sinf**2))**(-1)\n",
    "    lmbd = N2*gamma*np.tan(theta)/f\n",
    "    beta = (1+Sinf**2)**(0.5)\n",
    "    return delta*lmbd+lmbd*delta*beta**(-2)"
   ]
  },
  {
   "cell_type": "code",
   "execution_count": null,
   "id": "87313a38",
   "metadata": {},
   "outputs": [],
   "source": [
    "def magnitude_strat_upper_limit(Sinf):\n",
    "    N2 = 1e-5\n",
    "    delta = 0.5\n",
    "    f = 1e-4\n",
    "    theta = np.arctan(Sinf*f/N2**(0.5))\n",
    "    gamma = (np.cos(theta)*(1+(1-delta)*Sinf**2))**(-1)\n",
    "    lmbd = N2*gamma*np.tan(theta)/f\n",
    "    beta = (1+Sinf**2)**(0.5)\n",
    "    return -1*lmbd**2*delta*gamma**(-1)*beta**(-2)"
   ]
  },
  {
   "cell_type": "code",
   "execution_count": null,
   "id": "2aee6d36",
   "metadata": {},
   "outputs": [],
   "source": [
    "def magnitude_strat_lower_limit(Sinf):\n",
    "    N2 = 1e-5\n",
    "    delta = 0.5\n",
    "    f = 1e-4\n",
    "    theta = np.arctan(Sinf*f/N2**(0.5))\n",
    "    gamma = (3-Sinf**2)*(np.cos(theta)*(3*(1+Sinf**2)-4*delta*Sinf**2))**(-1)\n",
    "    lmbd = N2*gamma*np.tan(theta)/f\n",
    "    beta = (1+Sinf**2)**(0.5)\n",
    "    return -1*lmbd**2*delta*gamma**(-1)*beta**(-2)"
   ]
  },
  {
   "cell_type": "code",
   "execution_count": null,
   "id": "2b968414",
   "metadata": {},
   "outputs": [],
   "source": [
    "uu = magnitude_u_vel_upper_limit(Sinf)\n",
    "vu = magnitude_v_vel_upper_limit(Sinf)\n",
    "Bu = magnitude_strat_upper_limit(Sinf)\n",
    "plt.plot(Sinf,uu,color=\"red\")\n",
    "plt.plot(Sinf,vu,color=\"blue\")\n",
    "plt.plot(Sinf,Bu,color=\"magenta\")\n",
    "# plt.hlines(-2.75,xmin=0,xmax=2,color=\"k\",linestyle=\"--\")"
   ]
  },
  {
   "cell_type": "code",
   "execution_count": null,
   "id": "5b5a5a4d",
   "metadata": {},
   "outputs": [],
   "source": [
    "ul = magnitude_u_vel_lower_limit(Sinf)\n",
    "vl = magnitude_v_vel_lower_limit(Sinf)\n",
    "Bl = magnitude_strat_lower_limit(Sinf)\n",
    "plt.plot(Sinf,ul,color=\"red\")\n",
    "plt.plot(Sinf,vl,color=\"blue\")\n",
    "plt.plot(Sinf,Bl,color=\"magenta\")\n",
    "# plt.vlines(np.sqrt(3),ymin=-0.2,ymax=0.4)\n",
    "# plt.hlines(0,xmin=0,xmax=4,color=\"k\",linestyle=\"--\")"
   ]
  },
  {
   "cell_type": "code",
   "execution_count": null,
   "id": "9a144061",
   "metadata": {},
   "outputs": [],
   "source": [
    "ul[np.argmax(np.abs(ul))]"
   ]
  },
  {
   "cell_type": "code",
   "execution_count": null,
   "id": "0e79207b",
   "metadata": {},
   "outputs": [],
   "source": [
    "Sinf[np.argmax(np.abs(ul))]"
   ]
  },
  {
   "cell_type": "code",
   "execution_count": null,
   "id": "bb4b6aed",
   "metadata": {},
   "outputs": [],
   "source": [
    "Bl[np.argmax(np.abs(Bl))]"
   ]
  },
  {
   "cell_type": "code",
   "execution_count": null,
   "id": "7d297742",
   "metadata": {},
   "outputs": [],
   "source": [
    "Sinf[np.argmax(np.abs(Bl))]"
   ]
  },
  {
   "cell_type": "code",
   "execution_count": null,
   "id": "2fe0add7",
   "metadata": {},
   "outputs": [],
   "source": [
    "uu[np.argmax(np.abs(uu))]"
   ]
  },
  {
   "cell_type": "code",
   "execution_count": null,
   "id": "098d1041",
   "metadata": {},
   "outputs": [],
   "source": [
    "Sinf[np.argmax(np.abs(uu))]"
   ]
  },
  {
   "cell_type": "code",
   "execution_count": null,
   "id": "593cac91",
   "metadata": {},
   "outputs": [],
   "source": [
    "vu[np.argmax(np.abs(vu))]"
   ]
  },
  {
   "cell_type": "code",
   "execution_count": null,
   "id": "ad5c1eea",
   "metadata": {},
   "outputs": [],
   "source": [
    "Sinf[np.argmax(np.abs(vu))]"
   ]
  },
  {
   "cell_type": "code",
   "execution_count": null,
   "id": "7a14c3c6",
   "metadata": {},
   "outputs": [],
   "source": [
    "Bu[np.argmax(np.abs(Bu))]"
   ]
  },
  {
   "cell_type": "code",
   "execution_count": null,
   "id": "2e539d1d",
   "metadata": {},
   "outputs": [],
   "source": [
    "Sinf[np.argmax(np.abs(Bu))"
   ]
  },
  {
   "cell_type": "code",
   "execution_count": null,
   "id": "ac277599",
   "metadata": {},
   "outputs": [],
   "source": [
    "vl[np.argmax(np.abs(vl))]"
   ]
  },
  {
   "cell_type": "code",
   "execution_count": null,
   "id": "d5423a05",
   "metadata": {},
   "outputs": [],
   "source": [
    "Sinf[np.argmax(np.abs(vl))]"
   ]
  },
  {
   "cell_type": "code",
   "execution_count": null,
   "id": "176885d2",
   "metadata": {},
   "outputs": [],
   "source": []
  }
 ],
 "metadata": {
  "kernelspec": {
   "display_name": "Python 3 (ipykernel)",
   "language": "python",
   "name": "python3"
  },
  "language_info": {
   "codemirror_mode": {
    "name": "ipython",
    "version": 3
   },
   "file_extension": ".py",
   "mimetype": "text/x-python",
   "name": "python",
   "nbconvert_exporter": "python",
   "pygments_lexer": "ipython3",
   "version": "3.8.10"
  }
 },
 "nbformat": 4,
 "nbformat_minor": 5
}
