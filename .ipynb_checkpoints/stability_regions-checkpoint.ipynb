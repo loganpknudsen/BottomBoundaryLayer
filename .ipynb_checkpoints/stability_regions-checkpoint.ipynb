{
 "cells": [
  {
   "cell_type": "code",
   "execution_count": null,
   "id": "bd53e81d",
   "metadata": {},
   "outputs": [],
   "source": [
    "import numpy as np\n",
    "import matplotlib.pyplot as plt"
   ]
  },
  {
   "cell_type": "markdown",
   "id": "79d67842",
   "metadata": {},
   "source": [
    "$$\\gamma \\geq \\dfrac{3-S^2_\\infty}{3(1+S^2_\\infty)}$$"
   ]
  },
  {
   "cell_type": "code",
   "execution_count": null,
   "id": "bdac8f94",
   "metadata": {},
   "outputs": [],
   "source": [
    "def gamma_lower_limit_no_delta(S):\n",
    "    return (3-S**2)/(3*(1+S**2))"
   ]
  },
  {
   "cell_type": "code",
   "execution_count": null,
   "id": "525bb4a4",
   "metadata": {},
   "outputs": [],
   "source": [
    "def gamma_upper_limit_no_delta(S):\n",
    "    return (1+S**2)**(-1)"
   ]
  },
  {
   "cell_type": "code",
   "execution_count": null,
   "id": "d224c8c6",
   "metadata": {},
   "outputs": [],
   "source": [
    "Sinf = np.arange(-10**(-3),1*10**(1),0.0001)\n",
    "g = gamma_lower_limit_no_delta(Sinf)"
   ]
  },
  {
   "cell_type": "code",
   "execution_count": null,
   "id": "e13373ee",
   "metadata": {},
   "outputs": [],
   "source": [
    "plt.fill_between(Sinf,g,gamma_upper_limit_no_delta(Sinf),color=\"k\",alpha=0.2)\n",
    "plt.fill_between(Sinf,gamma_upper_limit_no_delta(Sinf),1.01,color=\"b\",alpha=0.2)\n",
    "plt.plot(Sinf,gamma_upper_limit_no_delta(Sinf),c=\"k\")\n",
    "plt.plot(Sinf,g,c=\"k\")\n",
    "plt.ylabel(r\"$\\gamma$\",fontsize=14)\n",
    "plt.xlabel(r\"$S_\\infty$\",fontsize=14)\n",
    "plt.text(2.5,0.5,\"Symmetrically Unstable\",fontsize=16)\n",
    "plt.text(4,-0.15,\"PSI Unstable\",fontsize=16)\n",
    "plt.title(r\"Unstable Region for $\\gamma$ with respect to $S_\\infty$\")\n",
    "plt.show()"
   ]
  },
  {
   "cell_type": "markdown",
   "id": "5c69d93d",
   "metadata": {},
   "source": [
    "$$ \\gamma \\geq \\dfrac{3-S^2_\\infty}{3(1+S^2_\\infty)-\\delta S^2_\\infty} $$ "
   ]
  },
  {
   "cell_type": "code",
   "execution_count": null,
   "id": "bcf945a2",
   "metadata": {},
   "outputs": [],
   "source": [
    "def gamma_lower_limit(S,d):\n",
    "    return (3-S**2)/(3*(1+S**2)-4*d*S**2)"
   ]
  },
  {
   "cell_type": "code",
   "execution_count": null,
   "id": "108f6d21",
   "metadata": {},
   "outputs": [],
   "source": [
    "def gamma_upper_limit(S,d):\n",
    "    return ((1+S**2)-d*S**2)**(-1)"
   ]
  },
  {
   "cell_type": "code",
   "execution_count": null,
   "id": "bc324297",
   "metadata": {},
   "outputs": [],
   "source": [
    "deltafix = 0.5\n",
    "gd = gamma_lower_limit(Sinf,deltafix)"
   ]
  },
  {
   "cell_type": "code",
   "execution_count": null,
   "id": "875b7fca",
   "metadata": {},
   "outputs": [],
   "source": [
    "plt.fill_between(Sinf,gd,gamma_upper_limit(Sinf,deltafix),color=\"k\",alpha=0.2)\n",
    "plt.fill_between(Sinf,gamma_upper_limit(Sinf,deltafix),1.01,color=\"b\",alpha=0.2)\n",
    "plt.plot(Sinf,gamma_upper_limit(Sinf,deltafix),c=\"k\")\n",
    "plt.plot(Sinf,gd,c=\"k\")\n",
    "plt.ylabel(r\"$\\gamma$\",fontsize=14)\n",
    "plt.xlabel(r\"$S_\\infty$\",fontsize=14)\n",
    "plt.text(2.5,0.5,\"Symmetrically Unstable\",fontsize=16)\n",
    "plt.text(4,-0.2,\"PSI Unstable\",fontsize=16)\n",
    "plt.title(r\"Unstable Region for $\\gamma$ for $S_\\infty$ and $\\delta=0.5$\")\n",
    "plt.show()"
   ]
  },
  {
   "cell_type": "code",
   "execution_count": null,
   "id": "d7e6d45b",
   "metadata": {},
   "outputs": [],
   "source": [
    "((1e-5)**(0.5)*(5*10**(-3))*1e4)"
   ]
  },
  {
   "cell_type": "code",
   "execution_count": null,
   "id": "38652edb",
   "metadata": {},
   "outputs": [],
   "source": [
    "delta = np.arange(0,1,0.001)\n",
    "Sfix = (1e-5)**(0.5)*(5*10**(-3))*1e4\n",
    "gd2 = gamma_lower_limit(Sfix,delta)"
   ]
  },
  {
   "cell_type": "code",
   "execution_count": null,
   "id": "880dfeff",
   "metadata": {},
   "outputs": [],
   "source": [
    "plt.fill_between(delta,gd2,gamma_upper_limit(Sfix,delta),color=\"k\",alpha=0.2)\n",
    "plt.fill_between(delta,gamma_upper_limit(Sfix,delta),1,color=\"b\",alpha=0.2)\n",
    "plt.plot(delta,gd2,c=\"k\")\n",
    "plt.plot(delta,gamma_upper_limit(Sfix,delta),c=\"k\")\n",
    "plt.ylabel(r\"$\\gamma$\",fontsize=14)\n",
    "plt.xlabel(r\"$\\delta$\",fontsize=14)\n",
    "# plt.text(0.2,0.6,\"Symmetrically Unstable\",fontsize=16)\n",
    "# plt.text(0.35,0.425,\"PSI Unstable\",fontsize=16)\n",
    "plt.title(r\"Unstable Region for $\\gamma$ for $S_\\infty=1$ and $\\delta$\")\n",
    "plt.show()"
   ]
  },
  {
   "cell_type": "code",
   "execution_count": null,
   "id": "06a118b6",
   "metadata": {},
   "outputs": [],
   "source": [
    "plt.fill_between(delta,gd2,1.)\n",
    "plt.plot(delta,gd2,c=\"k\")"
   ]
  },
  {
   "cell_type": "code",
   "execution_count": null,
   "id": "00816cb4",
   "metadata": {},
   "outputs": [],
   "source": [
    "f = 1e-4\n",
    "N2 = Sinf**2*f**2/(5e-3)**2"
   ]
  },
  {
   "cell_type": "code",
   "execution_count": null,
   "id": "5fd68f5b",
   "metadata": {},
   "outputs": [],
   "source": [
    "plt.fill_between(Sinf,f*N2*(1-gd*(1+Sinf**2)+gd*deltafix*Sinf**2),f*N2*(1-gamma_upper_limit(Sinf,deltafix)*(1+Sinf**2)+gamma_upper_limit(Sinf,deltafix)*deltafix*Sinf**2),color=\"k\",alpha=0.2)\n",
    "plt.fill_between(Sinf,10**(-20),f*N2*(1-gamma_upper_limit(Sinf,deltafix)*(1+Sinf**2)+gamma_upper_limit(Sinf,deltafix)*deltafix*Sinf**2),color=\"b\",alpha=0.2)\n",
    "plt.plot(Sinf,f*N2*(1-gamma_upper_limit(Sinf,deltafix)*(1+Sinf**2)+gamma_upper_limit(Sinf,deltafix)*deltafix*Sinf**2),c=\"k\")\n",
    "plt.plot(Sinf,f*N2*(1-gd*(1+Sinf**2)+gd*deltafix*Sinf**2),c=\"y\")\n",
    "plt.ylabel(r\"$\\gamma$\",fontsize=14)\n",
    "plt.xlabel(r\"$S_\\infty$\",fontsize=14)\n",
    "# plt.text(2.5,0.5,\"Symmetrically Unstable\",fontsize=16)\n",
    "# plt.text(4,-0.2,\"PSI Unstable\",fontsize=16)\n",
    "# plt.yscale(\"log\")\n",
    "plt.title(r\"Unstable Region for $\\gamma$ for $S_\\infty$ and $\\delta=0.5$\")\n",
    "plt.show()"
   ]
  },
  {
   "cell_type": "code",
   "execution_count": null,
   "id": "04a5441f",
   "metadata": {},
   "outputs": [],
   "source": [
    "f**2*(1-gamma_lower_limit(((1e-5*(5e-3)**2)*1e8)**(0.5),0)*(1+(1e-5*(5e-3)**2)*1e8))"
   ]
  },
  {
   "cell_type": "code",
   "execution_count": null,
   "id": "05ccee26",
   "metadata": {},
   "outputs": [],
   "source": [
    "f**2*(1+1e-5*(5e-3)**2*1e8)/4"
   ]
  },
  {
   "cell_type": "code",
   "execution_count": null,
   "id": "1a4890ae",
   "metadata": {},
   "outputs": [],
   "source": []
  }
 ],
 "metadata": {
  "kernelspec": {
   "display_name": "Python 3 (ipykernel)",
   "language": "python",
   "name": "python3"
  },
  "language_info": {
   "codemirror_mode": {
    "name": "ipython",
    "version": 3
   },
   "file_extension": ".py",
   "mimetype": "text/x-python",
   "name": "python",
   "nbconvert_exporter": "python",
   "pygments_lexer": "ipython3",
   "version": "3.8.10"
  }
 },
 "nbformat": 4,
 "nbformat_minor": 5
}
