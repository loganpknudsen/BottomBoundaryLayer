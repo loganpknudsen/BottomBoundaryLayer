{
 "cells": [
  {
   "cell_type": "code",
   "execution_count": null,
   "id": "d4b33249",
   "metadata": {},
   "outputs": [],
   "source": [
    "import numpy as np\n",
    "import matplotlib.pyplot as plt"
   ]
  },
  {
   "cell_type": "code",
   "execution_count": null,
   "id": "d7563bf8",
   "metadata": {},
   "outputs": [],
   "source": [
    "def oscillation(t,S,gamma_set):\n",
    "    theta = 0.01\n",
    "    f = 1e-4\n",
    "    N = S*f/np.tan(theta)\n",
    "    if gamma_set == \"gamma_u\":\n",
    "        gm = 1/(1+S**2)\n",
    "    elif gamma_set == \"gamma_m\":\n",
    "        gm = 0.5*(1/(1+S**2)+(3-S**2)/(3*(1+S**2)))\n",
    "    elif gamma_set == \"gamma_l\":\n",
    "        gm = (3-S**2)/(3*(1+S**2))\n",
    "    delta = 0.5\n",
    "    phi = np.pi/2\n",
    "    lmbd = N**2*theta*gm/f\n",
    "    fstar = f*(1+S**2)**(0.5)\n",
    "    u = delta*np.cos(t+phi)\n",
    "    v = -f*delta*np.sin(t+phi)/(fstar)\n",
    "    b = -N**2*theta*delta*np.sin(t+phi)/(fstar)\n",
    "    return [u,v,b]"
   ]
  },
  {
   "cell_type": "code",
   "execution_count": null,
   "id": "82db85aa",
   "metadata": {},
   "outputs": [],
   "source": [
    "th = 0.01\n",
    "S_vals = np.arange(0,2,0.01)\n",
    "N_vals = S_vals*1e-4/th\n",
    "plt.plot(S_vals,N_vals**2)"
   ]
  },
  {
   "cell_type": "code",
   "execution_count": null,
   "id": "77af9b57",
   "metadata": {},
   "outputs": [],
   "source": [
    "S = 1\n",
    "t = np.linspace(0,2*np.pi,100)\n",
    "u_S1_u, v_S1_u, b_S1_u = oscillation(t,S,\"gamma_u\")"
   ]
  },
  {
   "cell_type": "code",
   "execution_count": null,
   "id": "0bc52da7",
   "metadata": {},
   "outputs": [],
   "source": [
    "S = 0.5\n",
    "t = np.linspace(0,2*np.pi,100)\n",
    "u_S05_u, v_S05_u, b_S05_u = oscillation(t,S,\"gamma_u\")"
   ]
  },
  {
   "cell_type": "code",
   "execution_count": null,
   "id": "1a0ff5ac",
   "metadata": {},
   "outputs": [],
   "source": [
    "S = 1.5\n",
    "t = np.linspace(0,2*np.pi,100)\n",
    "u_S15_u, v_S15_u, b_S15_u = oscillation(t,S,\"gamma_u\")"
   ]
  },
  {
   "cell_type": "code",
   "execution_count": null,
   "id": "b86ff243",
   "metadata": {},
   "outputs": [],
   "source": [
    "S = 1\n",
    "t = np.linspace(0,2*np.pi,100)\n",
    "u_S1_m, v_S1_m, b_S1_m = oscillation(t,S,\"gamma_m\")"
   ]
  },
  {
   "cell_type": "code",
   "execution_count": null,
   "id": "ca8b236e",
   "metadata": {},
   "outputs": [],
   "source": [
    "S = 1\n",
    "t = np.linspace(0,2*np.pi,100)\n",
    "u_S1_l, v_S1_l, b_S1_l = oscillation(t,S,\"gamma_l\")"
   ]
  },
  {
   "cell_type": "code",
   "execution_count": null,
   "id": "069e54f2",
   "metadata": {},
   "outputs": [],
   "source": [
    "plt.plot(u_S05_u,v_S05_u,color=\"k\",label=r\"$S_\\infty =0.5$\")\n",
    "plt.scatter(u_S05_u[0],v_S05_u[0],color=\"k\")\n",
    "plt.plot(u_S1_u,v_S1_u,color=\"b\",label=r\"$S_\\infty =1$\")\n",
    "plt.scatter(u_S05_u[0],v_S05_u[0],color=\"k\")\n",
    "plt.plot(u_S15_u,v_S15_u,color=\"g\",label=r\"$S_\\infty =1.5$\")\n",
    "plt.xlabel(r\"$\\breve{u}$\")\n",
    "plt.ylabel(r\"$\\breve{v}$\")\n",
    "# plt.ylim([-0.0026,0.002])\n",
    "# plt.gca().set_aspect(\"equal\")\n",
    "plt.legend(loc=\"lower left\",ncol=3)\n",
    "plt.savefig(\"hodograph_u_v.pdf\")\n",
    "plt.show()"
   ]
  },
  {
   "cell_type": "code",
   "execution_count": null,
   "id": "852e6705",
   "metadata": {},
   "outputs": [],
   "source": [
    "plt.plot(u_S05_u,b_S05_u,color=\"k\",label=r\"$S_\\infty =0.5$\")\n",
    "plt.plot(u_S1_u,b_S1_u,color=\"b\",label=r\"$S_\\infty =1$\")\n",
    "plt.plot(u_S15_u,b_S15_u,color=\"g\",label=r\"$S_\\infty =1.5$\")\n",
    "plt.xlabel(r\"$\\breve{u}$\")\n",
    "plt.ylabel(r\"$\\breve{v}$\")\n",
    "# plt.ylim([-0.0026,0.002])\n",
    "# plt.gca().set_aspect(\"equal\")\n",
    "plt.legend(loc=\"lower left\",ncol=3)\n",
    "plt.savefig(\"hodograph_u_b.pdf\")\n",
    "plt.show()"
   ]
  },
  {
   "cell_type": "code",
   "execution_count": null,
   "id": "37f3faae",
   "metadata": {},
   "outputs": [],
   "source": [
    "fig, axes = plt.subplots(nrows=2, ncols=1, sharex=True,figsize=(8*0.9, 11*0.9))\n",
    "\n",
    "axes[0].plot(u_S05_u,v_S05_u,color=\"k\",label=r\"$S_\\infty =0.5$\")\n",
    "axes[0].scatter(u_S05_u[0],v_S05_u[0],color=\"k\")\n",
    "axes[0].plot(u_S1_u,v_S1_u,color=\"b\",label=r\"$S_\\infty =1$\")\n",
    "axes[0].scatter(u_S1_u[0],v_S1_u[0],color=\"k\")\n",
    "axes[0].plot(u_S15_u,v_S15_u,color=\"g\",label=r\"$S_\\infty =1.5$\")\n",
    "axes[0].scatter(u_S15_u[0],v_S15_u[0],color=\"k\")\n",
    "axes[0].set_ylabel(r'$\\breve{v}/\\Lambda$',fontsize=12)\n",
    "\n",
    "axes[1].plot(u_S05_u,b_S05_u,color=\"k\",label=r\"$S_\\infty =0.5$\")\n",
    "axes[1].scatter(u_S05_u[0],b_S05_u[0],color=\"k\",label=\"Initial Condtions\")\n",
    "axes[1].plot(u_S1_u,b_S1_u,color=\"b\",label=r\"$S_\\infty =1$\")\n",
    "axes[1].scatter(u_S1_u[0],b_S1_u[0],color=\"k\")\n",
    "axes[1].plot(u_S15_u,b_S15_u,color=\"g\",label=r\"$S_\\infty =1.5$\")\n",
    "axes[1].scatter(u_S15_u[0],b_S15_u[0],color=\"k\")\n",
    "axes[1].set_xlabel(r'$\\breve{u}/\\Lambda$',fontsize=12)\n",
    "axes[1].set_ylabel(r'$\\breve{b}/\\Lambda$',fontsize=12)\n",
    "axes[1].set_ylim([-0.008,0.007])\n",
    "axes[1].legend(loc=\"lower left\",ncol=4)\n",
    "\n",
    "plt.tight_layout()\n",
    "plt.savefig(\"hodographs.pdf\")\n",
    "plt.show()\n"
   ]
  },
  {
   "cell_type": "code",
   "execution_count": null,
   "id": "872d60e0",
   "metadata": {},
   "outputs": [],
   "source": [
    "plt.plot(u_S1_u,v_S1_u,color=\"k\")\n",
    "plt.plot(u_S1_m,v_S1_m,color=\"b\")\n",
    "plt.plot(u_S1_l,v_S1_l,color=\"g\")\n",
    "plt.gca().set_aspect(\"equal\")"
   ]
  },
  {
   "cell_type": "code",
   "execution_count": null,
   "id": "cbe6de3d",
   "metadata": {},
   "outputs": [],
   "source": [
    "N = 1*1e-4/0.01\n",
    "ke = (u_S1_u**2+v_S1_u**2)/2\n",
    "pe = b_S1_u**2/(2*N**2)\n",
    "plt.plot(t,ke,c=\"r\")\n",
    "plt.plot(t,pe,c=\"b\")\n",
    "plt.plot(t,ke+pe,c=\"k\")"
   ]
  },
  {
   "cell_type": "code",
   "execution_count": null,
   "id": "5cb2c080",
   "metadata": {},
   "outputs": [],
   "source": [
    "N = 1*1e-4/0.01\n",
    "dkdt = np.gradient(ke,t[-1]-t[-2])\n",
    "dpdt = np.gradient(pe,t[-1]-t[-2])\n",
    "plt.plot(t,dkdt,c=\"r\")\n",
    "plt.plot(t,dpdt,c=\"b\")\n",
    "plt.plot(t,dkdt+dpdt,c=\"k\")"
   ]
  },
  {
   "cell_type": "code",
   "execution_count": null,
   "id": "97a6ef5f",
   "metadata": {},
   "outputs": [],
   "source": [
    "plt.plot(u,b)\n",
    "# plt.gca().set_aspect(\"equal\")"
   ]
  },
  {
   "cell_type": "code",
   "execution_count": null,
   "id": "2f2c56b9",
   "metadata": {},
   "outputs": [],
   "source": [
    "a = np.max(u)\n",
    "b = np.max(v)\n",
    "c = (a**2-b**2)**(0.5)\n",
    "ecc = c/a"
   ]
  },
  {
   "cell_type": "code",
   "execution_count": null,
   "id": "9dd0a52d",
   "metadata": {},
   "outputs": [],
   "source": []
  },
  {
   "cell_type": "code",
   "execution_count": null,
   "id": "9672ddbc",
   "metadata": {},
   "outputs": [],
   "source": []
  },
  {
   "cell_type": "code",
   "execution_count": null,
   "id": "f2bf52bb",
   "metadata": {},
   "outputs": [],
   "source": []
  }
 ],
 "metadata": {
  "kernelspec": {
   "display_name": "Python 3 (ipykernel)",
   "language": "python",
   "name": "python3"
  },
  "language_info": {
   "codemirror_mode": {
    "name": "ipython",
    "version": 3
   },
   "file_extension": ".py",
   "mimetype": "text/x-python",
   "name": "python",
   "nbconvert_exporter": "python",
   "pygments_lexer": "ipython3",
   "version": "3.8.10"
  }
 },
 "nbformat": 4,
 "nbformat_minor": 5
}
