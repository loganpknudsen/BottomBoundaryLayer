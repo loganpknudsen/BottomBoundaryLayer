{
 "cells": [
  {
   "cell_type": "code",
   "execution_count": null,
   "id": "5bd991f6",
   "metadata": {},
   "outputs": [],
   "source": [
    "import numpy as np\n",
    "import matplotlib.pyplot as plt\n",
    "import math as mt"
   ]
  },
  {
   "cell_type": "code",
   "execution_count": null,
   "id": "eca78195",
   "metadata": {},
   "outputs": [],
   "source": [
    "# parameters\n",
    "N2 = 1e-5\n",
    "theta = 0.005\n",
    "f = 1e-4\n",
    "Vinf = 0.05\n",
    "Sinf2 = (N2*theta**2)/f**2\n",
    "gamma = (1+Sinf2)**(-1)\n",
    "h = mt.ceil((f*Vinf)/(gamma*N2*theta))\n",
    "fstar = (f**2+theta**2*N2)**(0.5)\n",
    "delta = 0.5\n",
    "theta1 = 0.0005\n",
    "Vinf1 = 0.005\n",
    "Sinf21 = (N2*theta1**2)/f**2\n",
    "gamma1 = (1+Sinf21)**(-1)+0.01\n",
    "h1 = mt.ceil((f*Vinf1)/(gamma1*N2*theta1))\n",
    "uo = 0.1\n",
    "vo = 0 #.1 #gamma*delta*N2*theta/f\n",
    "bo = 0 #-0.01 #vₒ*(N2*theta/(f))*0.1 # 0#-gamma*N2#"
   ]
  },
  {
   "cell_type": "code",
   "execution_count": null,
   "id": "650460a5",
   "metadata": {},
   "outputs": [],
   "source": [
    "def shear_osc(t):\n",
    "    u = uo*np.cos(fstar*t)+(f*vo+bo*theta)/(fstar)*np.sin(fstar*t)\n",
    "    v = (f**2*vo+f*bo*theta)/(fstar**2)*np.cos(fstar*t)-(f*uo)/(fstar)*np.sin(fstar*t)+((fstar**2-f**2)*vo-f*theta*bo)/(fstar**2)\n",
    "    N = N2*theta*(f*vo+bo*theta)/(fstar**2)*np.cos(fstar*t)-N2*theta*(uo)/(fstar)*np.sin(fstar*t)+bo-N2*theta*(f*vo+theta*bo)/(fstar**2)\n",
    "    return [u,v,N]"
   ]
  },
  {
   "cell_type": "code",
   "execution_count": null,
   "id": "9a748d97",
   "metadata": {},
   "outputs": [],
   "source": [
    "t = np.arange(0,(2*np.pi)/fstar*0.75,1)\n",
    "perts = shear_osc(t)"
   ]
  },
  {
   "cell_type": "code",
   "execution_count": null,
   "id": "f35280a3",
   "metadata": {},
   "outputs": [],
   "source": [
    "np.where(t==round(0.75*(2*np.pi)/fstar))"
   ]
  },
  {
   "cell_type": "code",
   "execution_count": null,
   "id": "85973241",
   "metadata": {},
   "outputs": [],
   "source": [
    "uma = max(perts[0])\n",
    "vma = max(perts[1])\n",
    "bma = max(perts[2])\n",
    "print(f\"u max{uma}\")\n",
    "print(f\"v max{vma}\")\n",
    "print(f\"b max{bma}\")"
   ]
  },
  {
   "cell_type": "code",
   "execution_count": null,
   "id": "8eacddc8",
   "metadata": {},
   "outputs": [],
   "source": [
    "umi = min(perts[0])\n",
    "vmi = min(perts[1])\n",
    "bmi = min(perts[2])\n",
    "print(f\"u max{umi}\")\n",
    "print(f\"v max{vmi}\")\n",
    "print(f\"b max{bmi}\")"
   ]
  },
  {
   "cell_type": "code",
   "execution_count": null,
   "id": "a9743a76",
   "metadata": {},
   "outputs": [],
   "source": [
    "plt.plot(perts[0],perts[1])\n",
    "plt.hlines(0,umi,uma,colors=\"k\")\n",
    "plt.vlines(0,vmi,vma,colors=\"k\")"
   ]
  },
  {
   "cell_type": "code",
   "execution_count": null,
   "id": "75fd17e6",
   "metadata": {},
   "outputs": [],
   "source": [
    "plt.plot(perts[0],perts[2])\n",
    "plt.hlines(0,umi,uma,colors=\"k\")\n",
    "plt.vlines(0,bmi,bma,colors=\"k\")"
   ]
  },
  {
   "cell_type": "code",
   "execution_count": null,
   "id": "722bd9ab",
   "metadata": {},
   "outputs": [],
   "source": [
    "plt.plot(perts[2])\n",
    "# plt.gca().set_aspect('equal')"
   ]
  },
  {
   "cell_type": "code",
   "execution_count": null,
   "id": "8a39c71f",
   "metadata": {},
   "outputs": [],
   "source": [
    "z = np.arange(0,h+1,1)\n",
    "# plt.plot(vprofile,z,color=\"r\")\n",
    "vprofile = Vinf-gamma*theta*N2/f*(h-z)\n",
    "plt.plot(vprofile,z,color=\"b\")\n",
    "plt.plot(vprofile+perts[1][-1]*(h-z),z,c=\"y\")\n",
    "# plt.ylim([0,1])"
   ]
  },
  {
   "cell_type": "code",
   "execution_count": null,
   "id": "6531a349",
   "metadata": {},
   "outputs": [],
   "source": [
    "# plt.plot(vprofile,z,color=\"r\")\n",
    "uprofile = h*uo*np.ones(np.size(z))\n",
    "# plt.plot(uprofile,z,color=\"b\")\n",
    "plt.plot(perts[0][0]*(h-z),z,c=\"y\")\n",
    "plt.vlines(0,0,h)\n",
    "# plt.ylim([0,1])"
   ]
  },
  {
   "cell_type": "code",
   "execution_count": null,
   "id": "3a42006a",
   "metadata": {},
   "outputs": [],
   "source": [
    "gamma1\n",
    "Sinf21"
   ]
  },
  {
   "cell_type": "code",
   "execution_count": null,
   "id": "6855cc1d",
   "metadata": {},
   "outputs": [],
   "source": [
    "bint = N2*(h+z)+N2*theta*100\n",
    "bprofile = N2*z+gamma*N2*(h-z)+N2*theta*100\n",
    "plt.plot(bint,z+h,\"y\")\n",
    "plt.plot(bprofile,z,c=\"b\")\n",
    "plt.plot(bprofile+perts[2][15515]*(h-z),z,c=\"r\")\n",
    "# plt.ylim([99,111])"
   ]
  },
  {
   "cell_type": "code",
   "execution_count": null,
   "id": "a9272c7d",
   "metadata": {},
   "outputs": [],
   "source": [
    "PV = f*N2*(1-gamma)-(N2**2*theta**2*gamma)/f+N2*theta*vo-f*bo\n",
    "# omega_min = np.sqrt(PV/N2)\n",
    "PV"
   ]
  },
  {
   "cell_type": "code",
   "execution_count": null,
   "id": "d606bb7a",
   "metadata": {},
   "outputs": [],
   "source": [
    "fstar"
   ]
  },
  {
   "cell_type": "code",
   "execution_count": null,
   "id": "5a6b5ee5",
   "metadata": {},
   "outputs": [],
   "source": []
  }
 ],
 "metadata": {
  "kernelspec": {
   "display_name": "Python 3 (ipykernel)",
   "language": "python",
   "name": "python3"
  },
  "language_info": {
   "codemirror_mode": {
    "name": "ipython",
    "version": 3
   },
   "file_extension": ".py",
   "mimetype": "text/x-python",
   "name": "python",
   "nbconvert_exporter": "python",
   "pygments_lexer": "ipython3",
   "version": "3.8.10"
  }
 },
 "nbformat": 4,
 "nbformat_minor": 5
}
