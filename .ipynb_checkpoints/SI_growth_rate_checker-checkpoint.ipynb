{
 "cells": [
  {
   "cell_type": "code",
   "execution_count": null,
   "id": "0c5f3220-9679-4b98-bd5d-234ce65d9fc8",
   "metadata": {},
   "outputs": [],
   "source": [
    "import numpy as np\n",
    "import matplotlib.pyplot as plt"
   ]
  },
  {
   "cell_type": "code",
   "execution_count": null,
   "id": "4f909ef2-1323-47e2-af0a-03c47c2d5324",
   "metadata": {},
   "outputs": [],
   "source": [
    "N = 1e-5\n",
    "f = 1e-8\n",
    "alpha = (0.4225*f/N) # note changed the angle name to alppha for consistency\n",
    "S2 = N*alpha/f\n",
    "gamma = 0.5*(1+(1+S2)**(-1))\n",
    "omega = np.arange(0,1.1,0.1)"
   ]
  },
  {
   "cell_type": "code",
   "execution_count": null,
   "id": "b4b770cf-6a1f-4fe6-8f1c-f32245f26a55",
   "metadata": {},
   "outputs": [],
   "source": [
    "alpha"
   ]
  },
  {
   "cell_type": "code",
   "execution_count": null,
   "id": "a8eec6c1-cfa9-4b4f-bc64-386559347e75",
   "metadata": {},
   "outputs": [],
   "source": [
    "def theta(omega):\n",
    "    top = -1*(1+omega**2)*(1-gamma)+gamma*S2\n",
    "    bottom = 1+omega**2\n",
    "    return -1*(top/bottom)**(0.5)"
   ]
  },
  {
   "cell_type": "code",
   "execution_count": null,
   "id": "94053e14-3096-4909-8484-0b0f56a65044",
   "metadata": {},
   "outputs": [],
   "source": [
    "def k(omega):\n",
    "    t = theta(omega)\n",
    "    tp = (1+S2+omega**2)*(np.arctan(t)+np.pi)\n",
    "    bttm = S2*(-1*(1+omega**2)*(1-gamma)+gamma*S2)\n",
    "    return tp/(bttm)**(0.5)"
   ]
  },
  {
   "cell_type": "code",
   "execution_count": null,
   "id": "493e9e10-6d90-4d28-81a1-9359c00dd2c7",
   "metadata": {},
   "outputs": [],
   "source": [
    "k_list = k(omega)"
   ]
  },
  {
   "cell_type": "code",
   "execution_count": null,
   "id": "5598be46-d0af-4b00-b127-33eeca4a30da",
   "metadata": {},
   "outputs": [],
   "source": [
    "plt.plot(k_list,omega)"
   ]
  },
  {
   "cell_type": "code",
   "execution_count": null,
   "id": "2342a02e-0871-4913-96aa-01274196d3e7",
   "metadata": {},
   "outputs": [],
   "source": []
  },
  {
   "cell_type": "code",
   "execution_count": null,
   "id": "86876191-c98c-4f94-a609-420d9215751c",
   "metadata": {},
   "outputs": [],
   "source": []
  },
  {
   "cell_type": "code",
   "execution_count": null,
   "id": "875ce42e-9229-4588-afd8-f5a20d8db11a",
   "metadata": {},
   "outputs": [],
   "source": []
  }
 ],
 "metadata": {
  "kernelspec": {
   "display_name": "Python 3 (ipykernel)",
   "language": "python",
   "name": "python3"
  },
  "language_info": {
   "codemirror_mode": {
    "name": "ipython",
    "version": 3
   },
   "file_extension": ".py",
   "mimetype": "text/x-python",
   "name": "python",
   "nbconvert_exporter": "python",
   "pygments_lexer": "ipython3",
   "version": "3.8.10"
  }
 },
 "nbformat": 4,
 "nbformat_minor": 5
}
