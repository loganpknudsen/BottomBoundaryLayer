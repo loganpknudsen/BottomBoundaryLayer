{
 "cells": [
  {
   "cell_type": "code",
   "execution_count": null,
   "id": "59e5fc3f",
   "metadata": {},
   "outputs": [],
   "source": [
    "import numpy as np\n",
    "import scipy.integrate as sc\n",
    "import matplotlib.pyplot as plt"
   ]
  },
  {
   "cell_type": "code",
   "execution_count": null,
   "id": "156c0cc0",
   "metadata": {},
   "outputs": [],
   "source": []
  },
  {
   "cell_type": "code",
   "execution_count": null,
   "id": "b381e377",
   "metadata": {},
   "outputs": [],
   "source": [
    "def m_t(t,m,fstar):\n",
    "    phi = np.pi/2 #np.pi/2 #np.pi/2\n",
    "    return m+delta*lmbd/(fstar)*np.sin(t+phi)"
   ]
  },
  {
   "cell_type": "code",
   "execution_count": null,
   "id": "0ce869d5",
   "metadata": {},
   "outputs": [],
   "source": [
    "def PSI_system(v,t,m,theta,gm,S2):\n",
    "    psi, D = v\n",
    "    fstar = f*np.cos(theta)*(1+S2)**(0.5)\n",
    "    A0 = (np.tan(theta)**2-S2)/(np.tan(theta)*(1+S2))*(m-np.tan(theta)*(np.tan(theta)**2-S2)**(-1)*((S2/(np.tan(theta)**2))*(1-gm*np.cos(theta)**(-4))+np.tan(theta)**2))\n",
    "    A1 = m+(S2-np.tan(theta)**2)*(np.tan(theta)*(1+S2))**(-1)\n",
    "    dpsidt = (A0-A1*m_t(t,m,fstar))*D\n",
    "    dDdt = (1+m_t(t,m,fstar)**2)**(-1)*psi\n",
    "    return [dpsidt, dDdt]"
   ]
  },
  {
   "cell_type": "code",
   "execution_count": null,
   "id": "697cfc5d",
   "metadata": {},
   "outputs": [],
   "source": []
  },
  {
   "cell_type": "code",
   "execution_count": null,
   "id": "2a5a37f5",
   "metadata": {
    "scrolled": true
   },
   "outputs": [],
   "source": [
    "max_grs = []\n",
    "max_ms = []\n",
    "max_frs = []\n",
    "max_WSP = []\n",
    "max_GSP = []\n",
    "max_BFLUX = []\n",
    "N2 = 1e-5\n",
    "# theta = 1.8113*np.pi/180*np.array([0.1,0.25,0.5,0.75,1.0,1.25,1.5,1.75,2])\n",
    "theta = 1.8113*np.pi/180*np.array([0.1,0.2,0.3,0.4,0.5,0.6,0.7,0.8,0.9,1.0,1.1,1.2,1.3,1.4,1.5,1.6,1.7,1.8,1.9,2])\n",
    "f = 1e-4\n",
    "for i in theta:\n",
    "    print(i)\n",
    "    max_grs_sub = []\n",
    "    max_ms_sub = []\n",
    "    max_frs_sub = []\n",
    "    S2 = N2*np.tan(i)**2/f**2\n",
    "    beta = (1+S2)**(0.5)\n",
    "    fstar = f*np.cos(i)*beta\n",
    "    delta = 0.5\n",
    "    gm = np.linspace(max(0.05,(3-S2)*(np.cos(i)*(3*(1+S2)))**(-1)),(np.cos(i)*(1+S2))**(-1),10)\n",
    "    for g in gm:\n",
    "        lmbd = N2*np.tan(i)*g/f\n",
    "        n = f/lmbd\n",
    "        Ri = N2*(np.cos(i)-g)/lmbd**2\n",
    "        alpha = N2*(np.cos(i)-g)*np.tan(i)/(f*lmbd)\n",
    "        m = np.linspace(-40,40,400)\n",
    "        frequencies = []\n",
    "        growth_rates = []\n",
    "        tau = 2*np.pi\n",
    "        dt = 50\n",
    "        t = np.linspace(0,tau+1/dt,dt)\n",
    "        for q in m:\n",
    "            sol1 = sc.odeint(PSI_system,[1,0],t,args=(q,i,g,S2))\n",
    "        #     print(sol1[-1,:])\n",
    "            sol2 = sc.odeint(PSI_system,[0,1],t,args=(q,i,g,S2)) \n",
    "        #     print(sol2[-1,:])\n",
    "            M = np.array([[sol1[-1,0],sol1[-1,1]],[sol2[-1,0],sol2[-1,1]]])\n",
    "        #     print(M)\n",
    "            eigs = np.log(np.linalg.eig(M)[0]+0*1j)/(tau)\n",
    "        #     print(np.linalg.eig(M)[1][:,0])\n",
    "        #     print(eigs)\n",
    "            growth_rates.append(eigs.real)\n",
    "            frequencies.append(eigs.imag)\n",
    "        frequencies = np.array(frequencies)\n",
    "        growth_rates = np.array(growth_rates)\n",
    "        gr = growth_rates[np.argmax(np.abs(growth_rates[:,0])),:]\n",
    "        fr = frequencies[np.argmax(np.abs(growth_rates[:,0])),:]\n",
    "        m_max = m[np.argmax(np.abs(growth_rates[:,0]))]\n",
    "        max_grs_sub.append(gr)\n",
    "        max_ms_sub.append(m_max)\n",
    "        max_frs_sub.append(fr)\n",
    "    max_grs.append(max_grs_sub)\n",
    "    max_ms.append(max_ms_sub)\n",
    "    max_frs.append(max_frs_sub)\n",
    "max_gr = np.array(max_grs)\n",
    "max_ms = np.array(max_ms)\n",
    "max_fr = np.array(max_frs)"
   ]
  },
  {
   "cell_type": "code",
   "execution_count": null,
   "id": "a5be4212",
   "metadata": {},
   "outputs": [],
   "source": []
  }
 ],
 "metadata": {
  "kernelspec": {
   "display_name": "Python 3 (ipykernel)",
   "language": "python",
   "name": "python3"
  },
  "language_info": {
   "codemirror_mode": {
    "name": "ipython",
    "version": 3
   },
   "file_extension": ".py",
   "mimetype": "text/x-python",
   "name": "python",
   "nbconvert_exporter": "python",
   "pygments_lexer": "ipython3",
   "version": "3.8.10"
  }
 },
 "nbformat": 4,
 "nbformat_minor": 5
}
