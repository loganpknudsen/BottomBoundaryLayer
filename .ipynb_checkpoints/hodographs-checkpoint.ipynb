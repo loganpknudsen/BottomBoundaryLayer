{
 "cells": [
  {
   "cell_type": "code",
   "execution_count": null,
   "id": "53d101b3",
   "metadata": {},
   "outputs": [],
   "source": [
    "import numpy as np\n",
    "import matplotlib.pyplot as plt"
   ]
  },
  {
   "cell_type": "code",
   "execution_count": null,
   "id": "ae9ea811",
   "metadata": {},
   "outputs": [],
   "source": [
    "N2 = 1e-5 # s^-2, interior stratification\n",
    "# theta = 0.1812*np.pi/180 # 0.01 # angle of the slope 2.716\n",
    "f = 1e-4 # s^-1 coriolis parameter\n",
    "Vinf = 0.1\n",
    "# m s^-1 interior velocity\n",
    "delta = 0.5\n"
   ]
  },
  {
   "cell_type": "code",
   "execution_count": null,
   "id": "faafb922",
   "metadata": {},
   "outputs": [],
   "source": [
    "def shear_osc(t,Sinf,g):\n",
    "    theta = np.arctan(Sinf*f/N2**(0.5))\n",
    "    if g==\"gammau\":\n",
    "        gamma = (np.cos(theta)*(1+(1-delta)*Sinf**2))**(-1)\n",
    "    elif g==\"gammal\":\n",
    "        gamma = (3-Sinf**2)*(np.cos(theta)*(3*(1+Sinf**2)-4*delta*Sinf**2))**(-1)\n",
    "    vo = N2**(0.5)*Sinf*gamma*delta\n",
    "    fstar = f*np.cos(theta)*(1+Sinf**2)**(0.5)\n",
    "    u = (f*vo)/(fstar)*np.sin(fstar*t)\n",
    "    v = vo+(f**2*vo)/(fstar**2)*(np.cos(fstar*t)-1)\n",
    "    N = N2*theta*(f*vo)/(fstar**2)*(np.cos(fstar*t)-1)\n",
    "    return [u,v,N]"
   ]
  },
  {
   "cell_type": "code",
   "execution_count": null,
   "id": "12a0d9a0",
   "metadata": {},
   "outputs": [],
   "source": [
    "Sinf1 = 0.1\n",
    "theta = np.arctan(Sinf1*f/N2**(0.5))\n",
    "fstar1 = f*np.cos(theta)*(1+Sinf1**2)**(0.5)\n",
    "t1 = np.linspace(0,2*np.pi/fstar1,50)\n",
    "u1,v1,b1 = shear_osc(t1, Sinf1, \"gammau\")"
   ]
  },
  {
   "cell_type": "code",
   "execution_count": null,
   "id": "1c249ca7",
   "metadata": {},
   "outputs": [],
   "source": [
    "Sinf2 = 0.5\n",
    "theta = np.arctan(Sinf2*f/N2**(0.5))\n",
    "fstar2 = f*np.cos(theta)*(1+Sinf2**2)**(0.5)\n",
    "t2 = np.linspace(0,2*np.pi/fstar2,50)\n",
    "u2,v2,b2 = shear_osc(t2, Sinf2, \"gammau\")"
   ]
  },
  {
   "cell_type": "code",
   "execution_count": null,
   "id": "9eb35a11",
   "metadata": {},
   "outputs": [],
   "source": [
    "Sinf3 = 1\n",
    "theta = np.arctan(Sinf3*f/N2**(0.5))\n",
    "fstar3 = f*np.cos(theta)*(1+Sinf3**2)**(0.5)\n",
    "t3 = np.linspace(0,2*np.pi/fstar3,50)\n",
    "u3,v3,b3 = shear_osc(t3, Sinf3, \"gammau\")"
   ]
  },
  {
   "cell_type": "code",
   "execution_count": null,
   "id": "e05f1349",
   "metadata": {},
   "outputs": [],
   "source": [
    "Sinf4 = 1.5\n",
    "theta = np.arctan(Sinf4*f/N2**(0.5))\n",
    "fstar4 = f*np.cos(theta)*(1+Sinf4**2)**(0.5)\n",
    "t4 = np.linspace(0,2*np.pi/fstar4,50)\n",
    "u4,v4,b4 = shear_osc(t4, Sinf4, \"gammau\")"
   ]
  },
  {
   "cell_type": "code",
   "execution_count": null,
   "id": "bf27c9a1",
   "metadata": {},
   "outputs": [],
   "source": [
    "Sinf5 = 2\n",
    "theta = np.arctan(Sinf5*f/N2**(0.5))\n",
    "fstar5 = f*np.cos(theta)*(1+Sinf5**2)**(0.5)\n",
    "t5 = np.linspace(0,2*np.pi/fstar5,50)\n",
    "u5, v5, b5 = shear_osc(t5, Sinf5, \"gammau\")"
   ]
  },
  {
   "cell_type": "code",
   "execution_count": null,
   "id": "b9bd0342",
   "metadata": {},
   "outputs": [],
   "source": [
    "plt.plot(u1,v1,color=\"red\",label = \"$S_\\infty$=0.1\")\n",
    "plt.plot(u2,v2,color=\"orange\",label = \"$S_\\infty$=0.5\")\n",
    "plt.plot(u3,v3,color=\"green\",label = \"$S_\\infty$=1\")\n",
    "plt.plot(u4,v4,color=\"blue\",label = \"$S_\\infty$=1.5\")\n",
    "plt.plot(u5,v5,color=\"magenta\",label = \"$S_\\infty$=2\")\n",
    "plt.legend()\n",
    "plt.xlabel(r\"$\\breve{u}$\")\n",
    "plt.ylabel(r\"$\\breve{v}$\")"
   ]
  },
  {
   "cell_type": "code",
   "execution_count": null,
   "id": "4a2db76d",
   "metadata": {},
   "outputs": [],
   "source": [
    "plt.plot(u1,b1,color=\"red\",label = \"$S_\\infty$=0.1\")\n",
    "plt.plot(u2,b2,color=\"orange\",label = \"$S_\\infty$=0.5\")\n",
    "plt.plot(u3,b3,color=\"green\",label = \"$S_\\infty$=1\")\n",
    "plt.plot(u4,b4,color=\"blue\",label = \"$S_\\infty$=1.5\")\n",
    "plt.plot(u5,b5,color=\"magenta\",label = \"$S_\\infty$=2\")\n",
    "plt.legend(loc=\"lower left\")\n",
    "plt.xlabel(r\"$\\breve{u}$\")\n",
    "plt.ylabel(r\"$\\breve{b}$\")"
   ]
  },
  {
   "cell_type": "code",
   "execution_count": null,
   "id": "0cfa6c0a",
   "metadata": {},
   "outputs": [],
   "source": [
    "fig, ax = plt.subplots(1,2,figsize=(10.6,4),constrained_layout=True)\n",
    "ax[0].plot(u1,v1,color=\"red\",label = \"$S_\\infty$=0.1\")\n",
    "ax[0].plot(u2,v2,color=\"lime\",label = \"$S_\\infty$=0.5\")\n",
    "ax[0].plot(u3,v3,color=\"green\",label = \"$S_\\infty$=1\")\n",
    "ax[0].plot(u4,v4,color=\"blue\",label = \"$S_\\infty$=1.5\")\n",
    "ax[0].plot(u5,v5,color=\"magenta\",label = \"$S_\\infty$=2\")\n",
    "ax[0].set_xticks(ticks=[-8e-4,8e-4,-4e-4,4e-4,0])\n",
    "ax[0].legend(loc=\"lower left\")\n",
    "ax[0].set_xlabel(r\"$\\breve{u}$\",fontsize=12)\n",
    "ax[0].set_ylabel(r\"$\\breve{v}$\",fontsize=12)\n",
    "ax[1].plot(u1,b1,color=\"red\",label = \"$S_\\infty$=0.1\")\n",
    "ax[1].plot(u2,b2,color=\"lime\",label = \"$S_\\infty$=0.5\")\n",
    "ax[1].plot(u3,b3,color=\"green\",label = \"$S_\\infty$=1\")\n",
    "ax[1].plot(u4,b4,color=\"blue\",label = \"$S_\\infty$=1.5\")\n",
    "ax[1].plot(u5,b5,color=\"magenta\",label = \"$S_\\infty$=2\")\n",
    "ax[1].legend(loc=\"lower left\")\n",
    "ax[1].set_xlabel(r\"$\\breve{u}$\",fontsize=12)\n",
    "ax[1].set_ylabel(r\"$\\breve{b}$\",fontsize=12)\n",
    "ax[1].set_xticks(ticks=[-8e-4,8e-4,-4e-4,4e-4,0])\n",
    "ax[1].set_yticks(ticks = [-3.5e-6,-3e-6,-2.5e-6,-2e-6,-1.5e-6,-1e-6,-0.5e-6,0])\n",
    "ax[1].set_yticklabels([r\"$-3.5\\cdot 10^{-6}$\",r\"$-3$\",r\"$-2.5$\",r\"$-2$\",r\"$-1.5$\",r\"$-1$\",r\"$-0.5$\",r\"$0$\"])\n",
    "# ax[2].plot(v1,b1,color=\"red\",label = \"$S_\\infty$=0.1\")\n",
    "# ax[2].plot(v2,b2,color=\"olive\",label = \"$S_\\infty$=0.5\")\n",
    "# ax[2].plot(v3,b3,color=\"green\",label = \"$S_\\infty$=1\")\n",
    "# ax[2].plot(v4,b4,color=\"blue\",label = \"$S_\\infty$=1.5\")\n",
    "# ax[2].plot(v5,b5,color=\"magenta\",label = \"$S_\\infty$=2\")\n",
    "# ax[2].legend(loc=\"lower left\")\n",
    "# ax[2].set_xlabel(r\"$\\breve{v}$\",fontsize=14)\n",
    "# ax[2].set_ylabel(r\"$\\breve{b}$\",fontsize=14)\n",
    "plt.show()"
   ]
  },
  {
   "cell_type": "code",
   "execution_count": null,
   "id": "63ed3afb",
   "metadata": {},
   "outputs": [],
   "source": [
    "Sinf6 = 0.1\n",
    "theta = np.arctan(Sinf6*f/N2**(0.5))\n",
    "fstar = f*np.cos(theta)*(1+Sinf6**2)**(0.5)\n",
    "t6 = np.linspace(0,2*np.pi/fstar,50)\n",
    "u6, v6, b6= shear_osc(t6, Sinf6, \"gammal\")"
   ]
  },
  {
   "cell_type": "code",
   "execution_count": null,
   "id": "fed21fd4",
   "metadata": {},
   "outputs": [],
   "source": [
    "Sinf7 = 0.5\n",
    "theta = np.arctan(Sinf7*f/N2**(0.5))\n",
    "fstar = f*np.cos(theta)*(1+Sinf7**2)**(0.5)\n",
    "t7 = np.linspace(0,2*np.pi/fstar,50)\n",
    "u7,v7,b7 = shear_osc(t7, Sinf7, \"gammal\")"
   ]
  },
  {
   "cell_type": "code",
   "execution_count": null,
   "id": "66363a73",
   "metadata": {},
   "outputs": [],
   "source": [
    "Sinf8 = 1\n",
    "theta = np.arctan(Sinf8*f/N2**(0.5))\n",
    "fstar8 = f*np.cos(theta)*(1+Sinf8**2)**(0.5)\n",
    "t8 = np.linspace(0,2*np.pi/fstar8,50)\n",
    "u8, v8, b8 = shear_osc(t8, Sinf8, \"gammal\")"
   ]
  },
  {
   "cell_type": "code",
   "execution_count": null,
   "id": "d9a8d3f7",
   "metadata": {},
   "outputs": [],
   "source": [
    "Sinf9 = 1.5\n",
    "theta = np.arctan(Sinf9*f/N2**(0.5))\n",
    "fstar = f*np.cos(theta)*(1+Sinf9**2)**(0.5)\n",
    "t9 = np.linspace(0,2*np.pi/fstar,50)\n",
    "u9, v9, b9 = shear_osc(t9, Sinf9, \"gammal\")"
   ]
  },
  {
   "cell_type": "code",
   "execution_count": null,
   "id": "d1c55264",
   "metadata": {},
   "outputs": [],
   "source": [
    "Sinf10 = 2\n",
    "theta = np.arctan(Sinf10*f/N2**(0.5))\n",
    "fstar10 = f*np.cos(theta)*(1+Sinf10**2)**(0.5)\n",
    "t10 = np.linspace(0,2*np.pi/fstar10,50)\n",
    "u10, v10, b10 = shear_osc(t10, Sinf10, \"gammal\")"
   ]
  },
  {
   "cell_type": "code",
   "execution_count": null,
   "id": "14274851",
   "metadata": {},
   "outputs": [],
   "source": [
    "plt.plot(u6,v6,color=\"red\",label = \"$S_\\infty$=0.1\")\n",
    "plt.plot(u7,v7,color=\"orange\",label = \"$S_\\infty$=0.5\")\n",
    "plt.plot(u8,v8,color=\"green\",label = \"$S_\\infty$=1\")\n",
    "plt.plot(u9,v9,color=\"blue\",label = \"$S_\\infty$=1.5\")\n",
    "plt.plot(u10,v10,color=\"magenta\",label = \"$S_\\infty$=2\")\n",
    "plt.legend()\n",
    "plt.xlabel(r\"$\\breve{u}$\")\n",
    "plt.ylabel(r\"$\\breve{v}$\")"
   ]
  },
  {
   "cell_type": "code",
   "execution_count": null,
   "id": "b78c2371",
   "metadata": {},
   "outputs": [],
   "source": [
    "plt.plot(u6,b6,color=\"red\",label = \"$S_\\infty$=0.1\")\n",
    "plt.plot(u7,b7,color=\"orange\",label = \"$S_\\infty$=0.5\")\n",
    "plt.plot(u8,b8,color=\"green\",label = \"$S_\\infty$=1\")\n",
    "plt.plot(u9,b9,color=\"blue\",label = \"$S_\\infty$=1.5\")\n",
    "plt.plot(u10,b10,color=\"magenta\",label = \"$S_\\infty$=2\")\n",
    "plt.legend(loc=\"lower left\")\n",
    "plt.xlabel(r\"$\\breve{u}$\")\n",
    "plt.ylabel(r\"$\\breve{b}$\")"
   ]
  },
  {
   "cell_type": "code",
   "execution_count": null,
   "id": "dfd056fb",
   "metadata": {},
   "outputs": [],
   "source": [
    "ax = plt.figure(figsize=(10.6,4),tight_layout=True).subplots(1,2)\n",
    "ax[0].plot(u6,v6,color=\"red\",label = \"$S_\\infty$=0.1\")\n",
    "ax[0].plot(u7,v7,color=\"lime\",label = \"$S_\\infty$=0.5\")\n",
    "ax[0].plot(u8,v8,color=\"green\",label = \"$S_\\infty$=1\")\n",
    "ax[0].plot(u9,v9,color=\"blue\",label = \"$S_\\infty$=1.5\")\n",
    "ax[0].plot(u10,v10,color=\"magenta\",label = \"$S_\\infty$=2\")\n",
    "ax[0].set_xticks(ticks=[-6e-4,6e-4,-3e-4,3e-4,0])\n",
    "ax[0].legend()\n",
    "ax[0].set_xlabel(r\"$\\breve{u}$\",fontsize=12)\n",
    "ax[0].set_ylabel(r\"$\\breve{v}$\",fontsize=12)\n",
    "ax[1].plot(u6,b6,color=\"red\")\n",
    "ax[1].plot(u7,b7,color=\"lime\")\n",
    "ax[1].plot(u8,b8,color=\"green\")\n",
    "ax[1].plot(u9,b9,color=\"blue\")\n",
    "ax[1].plot(u10,b10,color=\"magenta\")\n",
    "ax[1].set_xlabel(r\"$\\breve{u}$\",fontsize=12)\n",
    "ax[1].set_ylabel(r\"$\\breve{b}$\",fontsize=12)\n",
    "ax[1].set_xticks(ticks=[-6e-4,6e-4,-3e-4,3e-4,0])\n",
    "ax[1].set_yticks(ticks = [-2.5e-6,-2e-6,-1.5e-6,-1e-6,-0.5e-6,0,0.5e-6,1e-6])\n",
    "ax[1].set_yticklabels([r\"$-2.5$\",r\"$-2$\",r\"$-1.5$\",r\"$-1$\",r\"$-0.5$\",r\"$0$\",r\"$0.5$\",r\"$1\\cdot 10^{-6}$\"])\n",
    "# ax[2].plot(v6,b6,color=\"red\",label = \"$S_\\infty$=0.1\")\n",
    "# ax[2].plot(v7,b7,color=\"orange\",label = \"$S_\\infty$=0.5\")\n",
    "# ax[2].plot(v8,b8,color=\"green\",label = \"$S_\\infty$=1\")\n",
    "# ax[2].plot(v9,b9,color=\"blue\",label = \"$S_\\infty$=1.5\")\n",
    "# ax[2].plot(v10,b10,color=\"magenta\",label = \"$S_\\infty$=2\")\n",
    "# ax[2].legend(loc=\"lower left\")\n",
    "# ax[2].set_xlabel(r\"$\\breve{v}$\")\n",
    "# ax[2].set_ylabel(r\"$\\breve{b}$\")\n",
    "plt.show()"
   ]
  },
  {
   "cell_type": "code",
   "execution_count": null,
   "id": "ea37aa82",
   "metadata": {},
   "outputs": [],
   "source": [
    "plt.figure(figsize=(8,4))\n",
    "plt.plot(t3*fstar3/(2*np.pi),u3/np.abs(v3[0]),color=\"k\",label=r\"$u/v_{max}$\")\n",
    "plt.plot(t3*fstar3/(2*np.pi),v3/np.abs(v3[0]),color=\"blue\",label=r\"$v/v_{max}$\")\n",
    "plt.plot(t3*fstar3/(2*np.pi),b3/np.abs(b3[25]),color=\"red\",label=r\"$b/b_{max}$\")\n",
    "plt.xlabel(\"Inertial Period\")\n",
    "plt.legend()"
   ]
  },
  {
   "cell_type": "code",
   "execution_count": null,
   "id": "90afbc83",
   "metadata": {},
   "outputs": [],
   "source": [
    "plt.plot(t5*fstar5/(2*np.pi),u5/v5[0],color=\"k\",label=r\"$u/v_{max}$ for $\\gamma_u$\")\n",
    "plt.plot(t5*fstar5/(2*np.pi),v5/v5[0],color=\"blue\",label=r\"$v/v_{max}$ for $\\gamma_u$\")\n",
    "plt.plot(t5*fstar5/(2*np.pi),b5/np.abs(b5[25]),color=\"red\",label=r\"$b/b_{max}$ for $\\gamma_u$\")\n",
    "plt.xlabel(\"Inertial Period\")\n",
    "plt.legend()"
   ]
  },
  {
   "cell_type": "code",
   "execution_count": null,
   "id": "d8cf47c9",
   "metadata": {},
   "outputs": [],
   "source": [
    "plt.plot(t1*fstar1/(2*np.pi),b1/np.abs(b3[25]),color=\"k\",label=r\"$S_\\infty=0.1$\")\n",
    "plt.plot(t2*fstar2/(2*np.pi),b2/np.abs(b3[25]),color=\"red\",label=r\"$S_\\infty=0.5$\")\n",
    "plt.plot(t3*fstar3/(2*np.pi),b3/np.abs(b3[25]),color=\"blue\",label=r\"$S_\\infty=1$\")\n",
    "plt.plot(t4*fstar4/(2*np.pi),b4/np.abs(b3[25]),color=\"green\",label=r\"$S_\\infty=1.5$\")\n",
    "plt.plot(t5*fstar5/(2*np.pi),b5/np.abs(b3[25]),color=\"magenta\",label=r\"$S_\\infty=2$\")\n",
    "\n",
    "plt.xlabel(\"Inertial Period\")\n",
    "plt.legend()"
   ]
  },
  {
   "cell_type": "code",
   "execution_count": null,
   "id": "372cb38e",
   "metadata": {},
   "outputs": [],
   "source": []
  },
  {
   "cell_type": "code",
   "execution_count": null,
   "id": "f6b87d44",
   "metadata": {},
   "outputs": [],
   "source": []
  },
  {
   "cell_type": "code",
   "execution_count": null,
   "id": "fcfddb46",
   "metadata": {},
   "outputs": [],
   "source": []
  },
  {
   "cell_type": "code",
   "execution_count": null,
   "id": "6f7bc3e8",
   "metadata": {},
   "outputs": [],
   "source": []
  },
  {
   "cell_type": "code",
   "execution_count": null,
   "id": "87b950ca",
   "metadata": {},
   "outputs": [],
   "source": []
  },
  {
   "cell_type": "code",
   "execution_count": null,
   "id": "093380a2",
   "metadata": {},
   "outputs": [],
   "source": []
  }
 ],
 "metadata": {
  "kernelspec": {
   "display_name": "Python 3 (ipykernel)",
   "language": "python",
   "name": "python3"
  },
  "language_info": {
   "codemirror_mode": {
    "name": "ipython",
    "version": 3
   },
   "file_extension": ".py",
   "mimetype": "text/x-python",
   "name": "python",
   "nbconvert_exporter": "python",
   "pygments_lexer": "ipython3",
   "version": "3.8.10"
  }
 },
 "nbformat": 4,
 "nbformat_minor": 5
}
