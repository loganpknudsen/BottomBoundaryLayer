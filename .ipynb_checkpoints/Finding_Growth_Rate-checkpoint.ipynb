{
 "cells": [
  {
   "cell_type": "code",
   "execution_count": null,
   "id": "08cf4d59",
   "metadata": {},
   "outputs": [],
   "source": [
    "import numpy as np\n",
    "import scipy.optimize as sc\n",
    "import matplotlib.pyplot as plt"
   ]
  },
  {
   "cell_type": "code",
   "execution_count": null,
   "id": "17813b17",
   "metadata": {},
   "outputs": [],
   "source": [
    "def linear_growth_function(sigma,*args):\n",
    "    N = args[0]\n",
    "    dkdt = -fstar*kpo*np.exp((sigma*np.pi)/(2*fstar))\n",
    "    strn = (upo**2-vpo**2)\n",
    "    ffs2 = (f/fstar)**2\n",
    "    WSP = -vo*(1-ffs2)*strn*np.exp(sigma*np.pi/fstar)-ffs2*vo*2*upo*vpo*np.exp(sigma*np.pi/fstar)\n",
    "    GSP = -N*gamma*Sinf*strn*np.exp(sigma*np.pi/fstar)\n",
    "    return dkdt - WSP - GSP"
   ]
  },
  {
   "cell_type": "code",
   "execution_count": null,
   "id": "3362d0ee",
   "metadata": {},
   "outputs": [],
   "source": [
    "# sigma = np.arange(-0.00001,0.00001,0.000001)\n",
    "# plt.plot(sigma,linear_growth_function(sigma,1e-5))\n"
   ]
  },
  {
   "cell_type": "code",
   "execution_count": null,
   "id": "63456533",
   "metadata": {},
   "outputs": [],
   "source": []
  },
  {
   "cell_type": "code",
   "execution_count": null,
   "id": "55b76a47",
   "metadata": {},
   "outputs": [],
   "source": [
    "N = (np.arange(5e-6,2e-5,1e-8))**(0.5)\n",
    "array = []\n",
    "for i in N:\n",
    "    f = 1e-4\n",
    "    theta = 5e-3\n",
    "    fstar = (f**2+theta**2*i**2)**(0.5)\n",
    "    Sinf = i*theta/f\n",
    "    gamma = (1+Sinf**2)**(-1)\n",
    "    upo = 1e-4\n",
    "    vpo = 1e-4\n",
    "    wpo = np.sin(theta*np.pi/180)*upo\n",
    "    kpo = 2e-8\n",
    "    delta = 0.1\n",
    "    vo = delta*i**2*theta*gamma/f\n",
    "    array = np.append(array, sc.newton(linear_growth_function,2e-5,args=[i],maxiter=10000))"
   ]
  },
  {
   "cell_type": "code",
   "execution_count": null,
   "id": "36820cc8",
   "metadata": {},
   "outputs": [],
   "source": [
    "plt.plot(N**2,array)"
   ]
  },
  {
   "cell_type": "code",
   "execution_count": null,
   "id": "c9d3bb2c",
   "metadata": {},
   "outputs": [],
   "source": [
    "(1e-5)**0.5"
   ]
  },
  {
   "cell_type": "code",
   "execution_count": null,
   "id": "7ac87fa7",
   "metadata": {},
   "outputs": [],
   "source": []
  }
 ],
 "metadata": {
  "kernelspec": {
   "display_name": "Python 3 (ipykernel)",
   "language": "python",
   "name": "python3"
  },
  "language_info": {
   "codemirror_mode": {
    "name": "ipython",
    "version": 3
   },
   "file_extension": ".py",
   "mimetype": "text/x-python",
   "name": "python",
   "nbconvert_exporter": "python",
   "pygments_lexer": "ipython3",
   "version": "3.8.10"
  }
 },
 "nbformat": 4,
 "nbformat_minor": 5
}
