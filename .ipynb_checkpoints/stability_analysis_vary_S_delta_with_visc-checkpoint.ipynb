{
 "cells": [
  {
   "cell_type": "code",
   "execution_count": null,
   "id": "4884ed94-ed7b-494b-bdfb-b4a5bec88f58",
   "metadata": {},
   "outputs": [],
   "source": [
    "\"\"\"\n",
    "Dedalus script solving for the eigenvalues of the Mathieu equation. This script\n",
    "demonstrates solving a periodic eigenvalue problem with nonconstant coefficients\n",
    "and produces a plot of the Mathieu eigenvalues 'a' as a function of the\n",
    "parameter 'q'. It should take just a few seconds to run (serial only).\n",
    "\n",
    "We use a Fourier basis to solve the EVP:\n",
    "    dx(dx(y)) + (a - 2*q*cos(2*x))*y = 0\n",
    "where 'a' is the eigenvalue. Periodicity is enforced by using the Fourier basis.\n",
    "\n",
    "To run and plot:\n",
    "    $ python3 mathieu_evp.py\n",
    "\"\"\"\n",
    "\n",
    "import numpy as np\n",
    "import matplotlib.pyplot as plt\n",
    "import dedalus.public as d3\n",
    "# import logging\n",
    "# logger = logging.getLogger(__name__)\n",
    "\n",
    "\n",
    "# Parameters\n",
    "N_list = np.linspace((1e-7)**(0.5),(16e-3)**(0.5),11) #np.array([(1e-5)**(0.5)]) # stratification\n",
    "delta_list =  np.linspace(0, 1, 11)\n",
    "theta = 5*10**(-3)\n",
    "f = 10**(-4)\n",
    "phi = 0\n",
    "usz = np.sin(phi)\n",
    "vsz = np.cos(phi)-1\n",
    "bsz = np.cos(phi)-1"
   ]
  },
  {
   "cell_type": "code",
   "execution_count": null,
   "id": "0ee052be-bf27-44c7-8dc7-deb1024dd2e0",
   "metadata": {},
   "outputs": [],
   "source": [
    "delta_list"
   ]
  },
  {
   "cell_type": "code",
   "execution_count": null,
   "id": "dc081536-9478-4611-a4bb-2e086708200f",
   "metadata": {},
   "outputs": [],
   "source": [
    "# N**2*0.5*(200**2-103**2)"
   ]
  },
  {
   "cell_type": "code",
   "execution_count": null,
   "id": "da8b44ed-6090-43a7-94d9-1ded32b1a3f3",
   "metadata": {},
   "outputs": [],
   "source": [
    "# Basis\n",
    "coord = d3.Coordinate('z')\n",
    "dist = d3.Distributor(coord, dtype=np.complex128)\n",
    "basis = d3.Legendre(coord, 56, bounds=(0, 1),dealias=3/2)"
   ]
  },
  {
   "cell_type": "code",
   "execution_count": null,
   "id": "a3d1b1d3-828f-4ace-a179-4c91e8a2f4f0",
   "metadata": {},
   "outputs": [],
   "source": [
    "# Fields\n",
    "u = dist.Field(bases=basis)\n",
    "v = dist.Field(bases=basis)\n",
    "w = dist.Field(bases=basis)\n",
    "b = dist.Field(bases=basis)\n",
    "p = dist.Field(bases=basis)\n",
    "tau_1 = dist.Field(name=\"tau_1\")\n",
    "tau_2 = dist.Field(name=\"tau_2\")\n",
    "tau_3 = dist.Field(name=\"tau_3\")\n",
    "tau_4 = dist.Field(name=\"tau_4\")\n",
    "tau_5 = dist.Field(name=\"tau_5\")\n",
    "tau_6 = dist.Field(name=\"tau_6\")\n",
    "tau_7 = dist.Field(name=\"tau_7\")\n",
    "tau_8 = dist.Field(name=\"tau_8\")\n",
    "tau_9 = dist.Field(name=\"tau_9\")\n",
    "tau_10 = dist.Field(name=\"tau_10\")\n",
    "omega = dist.Field()"
   ]
  },
  {
   "cell_type": "code",
   "execution_count": null,
   "id": "647ad8cf-5baa-4c1d-96db-c8b294cf5080",
   "metadata": {},
   "outputs": [],
   "source": [
    "# Substitutions\n",
    "z = dist.local_grid(basis)\n",
    "delta = dist.Field()\n",
    "N = dist.Field()\n",
    "# S = dist.Field()\n",
    "gamma = dist.Field()\n",
    "Gshear = dist.Field()\n",
    "n = dist.Field()\n",
    "Ri = dist.Field()\n",
    "alpha = dist.Field()\n",
    "k = dist.Field()\n",
    "Ek = dist.Field()\n",
    "# t = dist.Field()\n",
    "# uz = dist.Field()\n",
    "# vz = dist.Field()\n",
    "# bz = dist.Field()\n",
    "one_z = dist.Field(bases=basis)\n",
    "one_z['g'] = 1-z\n",
    "lift_basis = basis.derivative_basis(1)\n",
    "lift = lambda A: d3.Lift(A,lift_basis,-1)\n",
    "dz = lambda A: d3.Differentiate(A, coord)\n",
    "wz = dz(w)+lift(tau_1)\n",
    "wzz = dz(wz) +lift(tau_2)\n",
    "uz = dz(u) + lift(tau_3)\n",
    "uzz = dz(uz) + lift(tau_4)\n",
    "vz = dz(v) + lift(tau_5)\n",
    "vzz = dz(vz) + lift(tau_6)\n",
    "pz = dz(p)+lift(tau_7)+lift(tau_8)\n",
    "bz = dz(b) + lift(tau_9)\n",
    "bzz = dz(bz) + lift(tau_10)"
   ]
  },
  {
   "cell_type": "code",
   "execution_count": null,
   "id": "d2edb7e8-58b6-47d4-8285-b93655167fae",
   "metadata": {},
   "outputs": [],
   "source": [
    "# Problem\n",
    "problem = d3.EVP([u,v,w,b,p,tau_1,tau_2,tau_3,tau_4,tau_5,tau_6,tau_7,tau_8,tau_9,tau_10], eigenvalue=omega, namespace=locals())\n",
    "problem.add_equation(\"-1j*omega*u-gamma**(0.5)*delta*usz*w+1j*k*gamma**(0.5)*delta*usz*one_z*u+1j*k*Ri*p-alpha*b -Ek*uzz= 0\")\n",
    "problem.add_equation(\"-1j*omega*v-(1+delta+delta*gamma*vsz)*w+1j*k*gamma**(0.5)*delta*usz*one_z*v+u-n*theta*w-Ek*vzz= 0\")\n",
    "problem.add_equation(\"-1j*omega*n**2*w+1j*k*gamma**(0.5)*delta*n*usz*one_z*w+n*theta*v+Ri*pz-Ri*b -n**2*Ek*wzz= 0\")\n",
    "problem.add_equation(\"1j*k*u+wz=0\")\n",
    "problem.add_equation(\"-1j*omega*b + u*theta/(n*(1-gamma)) + (1-gamma)**(-1)*(1-gamma-gamma*delta*bsz*theta)*w + 1j*k*gamma**(0.5)*delta*usz*one_z*b-Ek*bzz = 0\")\n",
    "problem.add_equation(\"u(z=0)=0\")\n",
    "problem.add_equation(\"u(z=1)=0\")\n",
    "problem.add_equation(\"v(z=0)=0\")\n",
    "problem.add_equation(\"v(z=1)=0\")\n",
    "problem.add_equation(\"w(z=0)=0\")\n",
    "problem.add_equation(\"w(z=1)=0\")\n",
    "problem.add_equation(\"p(z=0)=0\")\n",
    "problem.add_equation(\"p(z=1)=0\")\n",
    "problem.add_equation(\"b(z=0)=0\")\n",
    "problem.add_equation(\"b(z=1)=0\")"
   ]
  },
  {
   "cell_type": "code",
   "execution_count": null,
   "id": "907e8281-0fd9-4f5a-823a-473e97688ec1",
   "metadata": {},
   "outputs": [],
   "source": [
    "def gamma_lower_limit(N,delta):\n",
    "    S2 = N**2*theta**2/f**2\n",
    "    return (3-S2)/(3*(1+S2)-delta*S2)"
   ]
  },
  {
   "cell_type": "code",
   "execution_count": null,
   "id": "bc88f959-d910-464e-b256-7a431bcd60a4",
   "metadata": {},
   "outputs": [],
   "source": [
    "def gamma_upper_limit(N,delta):\n",
    "    S2 = N**2*theta**2/f**2\n",
    "    return (1+S2)**(-1)"
   ]
  },
  {
   "cell_type": "code",
   "execution_count": null,
   "id": "8d908387-cfe0-4484-98d9-a36fa8fb5739",
   "metadata": {
    "scrolled": true
   },
   "outputs": [],
   "source": [
    "# Solver\n",
    "solver = problem.build_solver()\n",
    "evals = []\n",
    "for Ni in N_list:\n",
    "    N['g'] = Ni\n",
    "    eval2 = []\n",
    "    for deltai in delta_list:\n",
    "        delta['g'] = deltai\n",
    "        gamma_list = [gamma_upper_limit(Ni,deltai)]#np.linspace(gamma_lower_limit(Ni,deltai),gamma_upper_limit(Ni,deltai),5)\n",
    "        eval3 = []\n",
    "        for gammai in gamma_list:\n",
    "            gamma['g'] = gammai\n",
    "            Gsheari = (theta*(Ni)**2*gammai)/f\n",
    "            Gshear['g'] = Gsheari\n",
    "            n['g'] = f/(Gsheari)\n",
    "            Ri['g'] = Ni**2*(1-gammai)/((Gsheari)**2)\n",
    "            alpha['g'] = (Ni**2*theta*(1-gammai))/(f*Gsheari)\n",
    "            Hi = 1 # (f*0.05)/(gammai*Ni**2*theta)\n",
    "            Ek['g'] = 1e-4/(f*Hi**2)\n",
    "            k['g'] = (2*np.pi)*(Gsheari*Hi/f)\n",
    "            solver.solve_dense(solver.subproblems[0], rebuild_matrices=True)\n",
    "            sorted_evals = np.sort(solver.eigenvalues.imag)\n",
    "            eval3.append(sorted_evals[:1])\n",
    "        eval2.append(eval3)\n",
    "    evals.append(eval2)\n",
    "evals = np.array(evals)\n"
   ]
  },
  {
   "cell_type": "code",
   "execution_count": null,
   "id": "725b1e35-65fc-4107-8c58-648e2b6f49bc",
   "metadata": {
    "scrolled": true
   },
   "outputs": [],
   "source": [
    "# # Solver\n",
    "# solver = problem.build_solver()\n",
    "# evals_u = []\n",
    "# for Ni in N_list:\n",
    "#     N['g'] = Ni\n",
    "#     eval2 = []\n",
    "#     for deltai in delta_list:\n",
    "#         delta['g'] = deltai\n",
    "#         gamma_list = [gamma_upper_limit(Ni,deltai)]#np.linspace(gamma_lower_limit(Ni,deltai),gamma_upper_limit(Ni,deltai),5)\n",
    "#         eval3 = []\n",
    "#         for gammai in gamma_list:\n",
    "#             gamma['g'] = gammai\n",
    "#             Gshear['g'] = (theta*(Ni)**2*gammai)/f\n",
    "#             n['g'] = f/((theta*(Ni)**2*gammai)/f)\n",
    "#             Ri['g'] = Ni**2/(((theta*(Ni)**2*gammai)/f)**2)\n",
    "#             alpha['g'] = (Ni**2*theta)/(f*((theta*(Ni)**2*gammai)/f))\n",
    "#             k['g'] = (2*np.pi)/2000*(((theta*(Ni)**2*gammai)/f)*103/f)\n",
    "#             solver.solve_dense(solver.subproblems[0], rebuild_matrices=True)\n",
    "#             sorted_evals = np.sort(solver.eigenvalues.imag)\n",
    "#             eval3.append(sorted_evals[:1])\n",
    "#         eval2.append(eval3)\n",
    "#     evals_u.append(eval2)\n",
    "# evals_u = np.array(evals_u)"
   ]
  },
  {
   "cell_type": "code",
   "execution_count": null,
   "id": "293ed799-6b16-4252-a301-4771194d8691",
   "metadata": {},
   "outputs": [],
   "source": [
    "# gamma_l = []\n",
    "# for Ni in N_list:\n",
    "#     N['g'] = Ni\n",
    "#     gamma_l2 = []\n",
    "#     for deltai in delta_list:\n",
    "#         delta['g'] = deltai\n",
    "#         gamma_li = [gamma_]#np.linspace(gamma_lower_limit(Ni,deltai),gamma_upper_limit(Ni,deltai),5)\n",
    "#         gamma_l2.append(gamma_li)\n",
    "#     gamma_l.append(gamma_l2)\n",
    "# gamma_l = np.array(gamma_l)"
   ]
  },
  {
   "cell_type": "code",
   "execution_count": null,
   "id": "86b118a4-49cc-4b94-9424-ba973219d010",
   "metadata": {},
   "outputs": [],
   "source": [
    "# gamma_l[:,0,:]"
   ]
  },
  {
   "cell_type": "code",
   "execution_count": null,
   "id": "f9bc842a-a4db-4b15-9f93-cbfc04357a77",
   "metadata": {},
   "outputs": [],
   "source": [
    "np.shape(evals[:,:,:,:])"
   ]
  },
  {
   "cell_type": "code",
   "execution_count": null,
   "id": "04e7e2be-38fe-4354-9b03-3cae7f3c6ca9",
   "metadata": {},
   "outputs": [],
   "source": [
    "import matplotlib.colors as colors"
   ]
  },
  {
   "cell_type": "code",
   "execution_count": null,
   "id": "a4087372-4580-4dee-8699-dccbeccc740f",
   "metadata": {},
   "outputs": [],
   "source": [
    "10**(-9)"
   ]
  },
  {
   "cell_type": "code",
   "execution_count": null,
   "id": "b1b95e72-602b-4ae3-96de-d20dc9304ae8",
   "metadata": {},
   "outputs": [],
   "source": [
    "lvls = [10**(-9),10**(-8),10**(-7),10**(-6),10**(-5),10**(-4),10**(-3),10**(-2),10**(-1),10**(0),10**1,10**(2),10**(3)]\n"
   ]
  },
  {
   "cell_type": "code",
   "execution_count": null,
   "id": "45c11f6c-5312-44fc-ba09-28a72fc24ce2",
   "metadata": {},
   "outputs": [],
   "source": [
    "fig, ax = plt.subplots()\n",
    "cs = ax.contourf(delta_list,N_list*theta/f,np.log10(evals[:,:,0,0]*(-1)))\n",
    "cbar = fig.colorbar(cs,ticks=[-2,-1,0,1,2,3,4,5,6,7,8,9])\n",
    "ax.set_xlabel(r\"$\\delta$\")\n",
    "ax.set_ylabel(r\"$S_\\infty$\")\n",
    "cbar.ax.set_ylabel(\"log of growth rate\")\n",
    "plt.show()"
   ]
  },
  {
   "cell_type": "code",
   "execution_count": null,
   "id": "ee081d5b-9411-4090-839a-e0c341634b9f",
   "metadata": {},
   "outputs": [],
   "source": [
    "fig2, ax2 = plt.subplots()\n",
    "cs2 = ax2.contourf(delta_list,N_list*theta/f,np.log10(evals_u[:,:,0,0]*(-1)),levels=20)\n",
    "cbar2 = fig2.colorbar(cs2,ticks=[-2,-1,0,1,2,3])\n",
    "ax2.set_xlabel(r\"$\\delta$\")\n",
    "ax2.set_ylabel(r\"$S_\\infty$\")\n",
    "cbar2.ax.set_ylabel(\"log of growth rate\")\n",
    "plt.show()"
   ]
  },
  {
   "cell_type": "code",
   "execution_count": null,
   "id": "8384a054-b0b4-4964-aa1d-b43c02c7e1b1",
   "metadata": {},
   "outputs": [],
   "source": [
    "fig3, ax3 = plt.subplots()\n",
    "cs3 = ax3.contourf(delta_list,N_list*theta/f,np.log10(np.abs(evals[:,:,0,0]-evals_u[:,:,0,0])),levels=30)\n",
    "cbar3 = fig3.colorbar(cs3,ticks=[-9,-8,-7,-6,-5,-4,-3,-2,-1,0,1,2,3])\n",
    "ax3.set_xlabel(\"delta\")\n",
    "ax3.set_ylabel(\"S\")\n",
    "cbar3.ax.set_ylabel(\"log of growth rate differencey\")\n",
    "plt.show()"
   ]
  },
  {
   "cell_type": "code",
   "execution_count": null,
   "id": "2e10067a-31da-4749-9aee-329ccbcb609f",
   "metadata": {},
   "outputs": [],
   "source": []
  },
  {
   "cell_type": "code",
   "execution_count": null,
   "id": "59d2717f-87b9-4685-b7ae-952b150215b8",
   "metadata": {},
   "outputs": [],
   "source": [
    "np.shape(np.reshape(gamma_l[:,0,:],-1))"
   ]
  },
  {
   "cell_type": "code",
   "execution_count": null,
   "id": "8e218a1c-749b-4920-b290-a0686cd2ada7",
   "metadata": {
    "scrolled": true
   },
   "outputs": [],
   "source": [
    "np.shape(evals[0,:,:,0])"
   ]
  },
  {
   "cell_type": "code",
   "execution_count": null,
   "id": "50bfe9e9-b560-4e69-aad6-9c8595d09416",
   "metadata": {},
   "outputs": [],
   "source": [
    "np.shape(delta_list)"
   ]
  },
  {
   "cell_type": "code",
   "execution_count": null,
   "id": "a03b8418-a3fd-4c74-b980-f2ff2f88a7a2",
   "metadata": {},
   "outputs": [],
   "source": [
    "fig, ax = plt.subplots()\n",
    "cs = ax.contourf(np.reshape(gamma_l[:,0,:],-1),delta_list,evals[0,:,:,0]*(-1e-4))\n",
    "cbar = fig.colorbar(cs)\n",
    "ax.set_xlabel(\"delta\")\n",
    "ax.set_ylabel(\"S\")\n",
    "cbar.ax.set_ylabel(\"natural log of growth rate\")\n",
    "plt.show()"
   ]
  },
  {
   "cell_type": "code",
   "execution_count": null,
   "id": "5707d52d-706a-44a7-a064-f08a1534e1e9",
   "metadata": {},
   "outputs": [],
   "source": [
    "# Plot\n",
    "fig = plt.figure(figsize=(6, 4))\n",
    "plt.plot(delta_list, evals[:, 0::2], '.-', c='C0')\n",
    "# plt.plot(delta_list, evals[:, 1::2], '.-', c='C1')\n",
    "plt.xlim(delta_list.min(), delta_list.max())\n",
    "# plt.ylim(-10, 30)\n",
    "# plt.xlim(0.4,0.6)\n",
    "plt.xlabel(\"delta\")\n",
    "plt.ylabel(\"eigenvalues\")\n",
    "plt.title(\"Mathieu eigenvalues\")\n",
    "plt.tight_layout()\n",
    "# plt.savefig(\"mathieu_eigenvalues.png\", dpi=200)"
   ]
  },
  {
   "cell_type": "code",
   "execution_count": null,
   "id": "08510b31-d42a-45a9-a835-81520ede094d",
   "metadata": {},
   "outputs": [],
   "source": []
  },
  {
   "cell_type": "code",
   "execution_count": null,
   "id": "f36f6ab5-984e-47d7-9962-93f7b1034ad9",
   "metadata": {},
   "outputs": [],
   "source": []
  }
 ],
 "metadata": {
  "kernelspec": {
   "display_name": "Python 3 (ipykernel)",
   "language": "python",
   "name": "python3"
  },
  "language_info": {
   "codemirror_mode": {
    "name": "ipython",
    "version": 3
   },
   "file_extension": ".py",
   "mimetype": "text/x-python",
   "name": "python",
   "nbconvert_exporter": "python",
   "pygments_lexer": "ipython3",
   "version": "3.13.0"
  }
 },
 "nbformat": 4,
 "nbformat_minor": 5
}
