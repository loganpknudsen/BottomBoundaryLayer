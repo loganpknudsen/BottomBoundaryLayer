{
 "cells": [
  {
   "cell_type": "code",
   "execution_count": null,
   "id": "fe3b6e80-1c5b-4b97-b785-a684b4c93793",
   "metadata": {},
   "outputs": [],
   "source": [
    "import numpy as np\n",
    "import matplotlib.pyplot as plt\n",
    "import dedalus.public as d3\n",
    "from dedalus.extras.plot_tools import plot_bot_2d\n",
    "figkw = {'figsize':(6,4), 'dpi':100}"
   ]
  },
  {
   "cell_type": "code",
   "execution_count": null,
   "id": "c83d0348-223b-44fc-8a5f-c347397c18df",
   "metadata": {},
   "outputs": [],
   "source": [
    "%matplotlib inline\n",
    "%config InlineBackend.figure_format = 'retina'"
   ]
  },
  {
   "cell_type": "code",
   "execution_count": null,
   "id": "a9f59c1b-d0e3-4ba2-a253-dce3bb45d350",
   "metadata": {},
   "outputs": [],
   "source": [
    "coords = d3.CartesianCoordinates('x', 'y')\n",
    "dist = d3.Distributor(coords, dtype=np.float64)\n",
    "\n",
    "xbasis = d3.RealFourier(coords['x'], 64, bounds=(-np.pi, np.pi), dealias=3/2)\n",
    "ybasis = d3.Chebyshev(coords['y'], 64, bounds=(-1, 1), dealias=3/2)\n",
    "\n",
    "f = dist.Field(name='f', bases=(xbasis, ybasis))"
   ]
  },
  {
   "cell_type": "code",
   "execution_count": null,
   "id": "fa737d2a-be4f-4c30-beba-5372278e4e6b",
   "metadata": {},
   "outputs": [],
   "source": [
    "u = dist.VectorField(coords, name='u', bases=xbasis)"
   ]
  },
  {
   "cell_type": "code",
   "execution_count": null,
   "id": "40ed9fe5-b4b7-4348-9dfb-dbf37888b4c7",
   "metadata": {},
   "outputs": [],
   "source": [
    "f.layout.grid_space"
   ]
  },
  {
   "cell_type": "code",
   "execution_count": null,
   "id": "f126eb5f-5d82-4693-a91d-8f6ec128e1f3",
   "metadata": {},
   "outputs": [],
   "source": [
    "x = dist.local_grid(xbasis)\n",
    "y = dist.local_grid(ybasis)\n",
    "f['g'] = np.exp((1-y**2)*np.cos(x+np.cos(x)*y**2)) * (1 + 0.05*np.cos(10*(x+2*y)))\n",
    "\n",
    "# Plot grid values\n",
    "plot_bot_2d(f, figkw=figkw, title=\"f['g']\");"
   ]
  },
  {
   "cell_type": "code",
   "execution_count": null,
   "id": "1abfaf21-b7cb-489c-9025-e8315484d052",
   "metadata": {},
   "outputs": [],
   "source": [
    "f['c']\n",
    "\n",
    "# Plot log magnitude of spectral coefficients\n",
    "log_mag = lambda xmesh, ymesh, data: (xmesh, ymesh, np.log10(np.abs(data)))\n",
    "plot_bot_2d(f, func=log_mag, clim=(-20, 0), cmap='viridis', title=\"log10(abs(f['c'])\", figkw=figkw);"
   ]
  },
  {
   "cell_type": "code",
   "execution_count": null,
   "id": "1c0b82a4-c420-4ff8-80d7-fbc264ba5650",
   "metadata": {},
   "outputs": [],
   "source": [
    "u['g'].shape"
   ]
  },
  {
   "cell_type": "code",
   "execution_count": null,
   "id": "336adec3-f5a3-409b-a9b9-de2baeda6214",
   "metadata": {},
   "outputs": [],
   "source": [
    "f.change_scales(4)\n",
    "\n",
    "# Plot grid values\n",
    "f['g']\n",
    "plot_bot_2d(f, title=\"f['g']\", figkw=figkw);"
   ]
  },
  {
   "cell_type": "code",
   "execution_count": null,
   "id": "e974d2f7-997e-4168-b54a-d001ecc0da2c",
   "metadata": {},
   "outputs": [],
   "source": [
    "g_op = 1 - 2*f\n",
    "print(g_op)"
   ]
  },
  {
   "cell_type": "code",
   "execution_count": null,
   "id": "f75fd362-171c-4a65-afcc-012c0db2943f",
   "metadata": {},
   "outputs": [],
   "source": [
    "g = g_op.evaluate()\n",
    "\n",
    "# Plot grid values\n",
    "g['g']\n",
    "plot_bot_2d(g, title=\"g['g']\", figkw=figkw);"
   ]
  },
  {
   "cell_type": "code",
   "execution_count": null,
   "id": "d0630b65-806e-47d4-8e1b-b172f32256b2",
   "metadata": {},
   "outputs": [],
   "source": [
    "h_op = 1 / np.cosh(g_op + 2.5)\n",
    "print(h_op)"
   ]
  },
  {
   "cell_type": "code",
   "execution_count": null,
   "id": "f21c1a10-3202-466e-8799-fa8f340f71cc",
   "metadata": {},
   "outputs": [],
   "source": [
    "from dedalus.tools.plot_op import plot_operator\n",
    "plot_operator(h_op, figsize=6, fontsize=14, opsize=0.4)"
   ]
  },
  {
   "cell_type": "code",
   "execution_count": null,
   "id": "479ab627-3463-487f-962b-e119fa9deb00",
   "metadata": {},
   "outputs": [],
   "source": [
    "h = h_op.evaluate()\n",
    "\n",
    "# Plot grid values\n",
    "h['g']\n",
    "plot_bot_2d(h, title=\"h['g']\", figkw=figkw);"
   ]
  },
  {
   "cell_type": "code",
   "execution_count": null,
   "id": "adcb4972-a515-4c06-8eb4-03f1846dac68",
   "metadata": {},
   "outputs": [],
   "source": [
    "# Change scales back to 1 to build new grid data\n",
    "f.change_scales(1)\n",
    "f['g'] = 3*np.cos(1.5*np.pi*y)**2 * np.cos(x/2)**4 + 3*np.exp(-((2*x+2)**2 + (4*y+4/3)**2)) + 3*np.exp(-((2*x+2)**2 + (4*y-4/3)**2))\n",
    "\n",
    "# Plot grid values\n",
    "f['g']\n",
    "plot_bot_2d(f, title=\"f['g']\", figkw=figkw);"
   ]
  },
  {
   "cell_type": "code",
   "execution_count": null,
   "id": "7f1a89c3-4a6d-4d27-89ea-ead4291faaa6",
   "metadata": {},
   "outputs": [],
   "source": [
    "h = h_op.evaluate()\n",
    "\n",
    "# Plot grid values\n",
    "h['g']\n",
    "plot_bot_2d(h, title=\"h['g']\", figkw=figkw);"
   ]
  },
  {
   "cell_type": "code",
   "execution_count": null,
   "id": "1922cb99-00da-43aa-b0a4-c7d18edcf28b",
   "metadata": {},
   "outputs": [],
   "source": [
    "fx = d3.Differentiate(f, coords['x'])"
   ]
  },
  {
   "cell_type": "code",
   "execution_count": null,
   "id": "3ee88274-0c32-4f42-b847-d52d53d5349a",
   "metadata": {},
   "outputs": [],
   "source": [
    "lap_f = d3.Laplacian(f).evaluate()\n",
    "grad_f = d3.Gradient(f).evaluate()\n",
    "print('f shape:', f['g'].shape)\n",
    "print('Grad(f) shape:', grad_f['g'].shape)\n",
    "print('Lap(f) shape:', lap_f['g'].shape)\n",
    "\n",
    "div_grad_f = d3.Divergence(d3.Gradient(f)).evaluate()\n",
    "print('Lap(f) is Div(Grad(f)):', np.allclose(lap_f['g'], div_grad_f['g']))"
   ]
  },
  {
   "cell_type": "code",
   "execution_count": null,
   "id": "c0dc9613-c934-426a-8caa-8da8f9c7085b",
   "metadata": {},
   "outputs": [],
   "source": [
    "grad_u = d3.Gradient(u)\n",
    "transpose_grad_u = d3.TransposeComponents(grad_u)"
   ]
  },
  {
   "cell_type": "code",
   "execution_count": null,
   "id": "8c584005-e618-4774-b187-89e7555f1960",
   "metadata": {},
   "outputs": [],
   "source": [
    "# Total integral of the field\n",
    "f_int = d3.Integrate(f, ('x', 'y'))\n",
    "print('f integral:', f_int.evaluate()['g'])\n",
    "\n",
    "# Average of the field\n",
    "f_ave = d3.Average(f, ('x', 'y'))\n",
    "print('f average:', f_ave.evaluate()['g'])"
   ]
  },
  {
   "cell_type": "code",
   "execution_count": null,
   "id": "797e0c86-a2d7-4e8d-a64e-15ce7bcc9d1e",
   "metadata": {},
   "outputs": [],
   "source": [
    "f00 = f(x=0, y=0)\n",
    "print('f(0,0):', f00.evaluate()['g'])"
   ]
  },
  {
   "cell_type": "code",
   "execution_count": null,
   "id": "4ae8843e-1250-4b92-a54d-a6c2c7217827",
   "metadata": {},
   "outputs": [],
   "source": []
  }
 ],
 "metadata": {
  "kernelspec": {
   "display_name": "Python 3 (ipykernel)",
   "language": "python",
   "name": "python3"
  },
  "language_info": {
   "codemirror_mode": {
    "name": "ipython",
    "version": 3
   },
   "file_extension": ".py",
   "mimetype": "text/x-python",
   "name": "python",
   "nbconvert_exporter": "python",
   "pygments_lexer": "ipython3",
   "version": "3.13.0"
  }
 },
 "nbformat": 4,
 "nbformat_minor": 5
}
