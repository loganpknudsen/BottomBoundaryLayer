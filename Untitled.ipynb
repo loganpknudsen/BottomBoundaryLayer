{
 "cells": [
  {
   "cell_type": "code",
   "execution_count": 10,
   "id": "269fb364",
   "metadata": {},
   "outputs": [
    {
     "ename": "LoadError",
     "evalue": "The following package names could not be resolved:\n * printf (not found in project, manifest or registry)\n\u001b[36m   Suggestions:\u001b[39m \u001b[0m\u001b[1mP\u001b[22m\u001b[0m\u001b[1mr\u001b[22m\u001b[0m\u001b[1mi\u001b[22m\u001b[0m\u001b[1mn\u001b[22m\u001b[0m\u001b[1mt\u001b[22m\u001b[0m\u001b[1mf\u001b[22m \u001b[0m\u001b[1mP\u001b[22m\u001b[0m\u001b[1mr\u001b[22m\u001b[0m\u001b[1mi\u001b[22m\u001b[0m\u001b[1mn\u001b[22m\u001b[0m\u001b[1mt\u001b[22m\u001b[0m\u001b[1mF\u001b[22mileTree LibTeX\u001b[0m\u001b[1mP\u001b[22m\u001b[0m\u001b[1mr\u001b[22m\u001b[0m\u001b[1mi\u001b[22m\u001b[0m\u001b[1mn\u001b[22m\u001b[0m\u001b[1mt\u001b[22m\u001b[0m\u001b[1mf\u001b[22m LibTeX\u001b[0m\u001b[1mP\u001b[22m\u001b[0m\u001b[1mr\u001b[22m\u001b[0m\u001b[1mi\u001b[22m\u001b[0m\u001b[1mn\u001b[22m\u001b[0m\u001b[1mt\u001b[22m\u001b[0m\u001b[1mf\u001b[22m_jll",
     "output_type": "error",
     "traceback": [
      "The following package names could not be resolved:\n * printf (not found in project, manifest or registry)\n\u001b[36m   Suggestions:\u001b[39m \u001b[0m\u001b[1mP\u001b[22m\u001b[0m\u001b[1mr\u001b[22m\u001b[0m\u001b[1mi\u001b[22m\u001b[0m\u001b[1mn\u001b[22m\u001b[0m\u001b[1mt\u001b[22m\u001b[0m\u001b[1mf\u001b[22m \u001b[0m\u001b[1mP\u001b[22m\u001b[0m\u001b[1mr\u001b[22m\u001b[0m\u001b[1mi\u001b[22m\u001b[0m\u001b[1mn\u001b[22m\u001b[0m\u001b[1mt\u001b[22m\u001b[0m\u001b[1mF\u001b[22mileTree LibTeX\u001b[0m\u001b[1mP\u001b[22m\u001b[0m\u001b[1mr\u001b[22m\u001b[0m\u001b[1mi\u001b[22m\u001b[0m\u001b[1mn\u001b[22m\u001b[0m\u001b[1mt\u001b[22m\u001b[0m\u001b[1mf\u001b[22m LibTeX\u001b[0m\u001b[1mP\u001b[22m\u001b[0m\u001b[1mr\u001b[22m\u001b[0m\u001b[1mi\u001b[22m\u001b[0m\u001b[1mn\u001b[22m\u001b[0m\u001b[1mt\u001b[22m\u001b[0m\u001b[1mf\u001b[22m_jll",
      "",
      "Stacktrace:",
      "  [1] pkgerror(msg::String)",
      "    @ Pkg.Types /Applications/Julia-1.9.2.app/Contents/Resources/julia/share/julia/stdlib/v1.9/Pkg/src/Types.jl:69",
      "  [2] ensure_resolved(ctx::Pkg.Types.Context, manifest::Pkg.Types.Manifest, pkgs::Vector{Pkg.Types.PackageSpec}; registry::Bool)",
      "    @ Pkg.Types /Applications/Julia-1.9.2.app/Contents/Resources/julia/share/julia/stdlib/v1.9/Pkg/src/Types.jl:1003",
      "  [3] ensure_resolved",
      "    @ /Applications/Julia-1.9.2.app/Contents/Resources/julia/share/julia/stdlib/v1.9/Pkg/src/Types.jl:954 [inlined]",
      "  [4] add(ctx::Pkg.Types.Context, pkgs::Vector{Pkg.Types.PackageSpec}; preserve::Pkg.Types.PreserveLevel, platform::Base.BinaryPlatforms.Platform, kwargs::Base.Pairs{Symbol, IJulia.IJuliaStdio{Base.PipeEndpoint}, Tuple{Symbol}, NamedTuple{(:io,), Tuple{IJulia.IJuliaStdio{Base.PipeEndpoint}}}})",
      "    @ Pkg.API /Applications/Julia-1.9.2.app/Contents/Resources/julia/share/julia/stdlib/v1.9/Pkg/src/API.jl:264",
      "  [5] add(pkgs::Vector{Pkg.Types.PackageSpec}; io::IJulia.IJuliaStdio{Base.PipeEndpoint}, kwargs::Base.Pairs{Symbol, Union{}, Tuple{}, NamedTuple{(), Tuple{}}})",
      "    @ Pkg.API /Applications/Julia-1.9.2.app/Contents/Resources/julia/share/julia/stdlib/v1.9/Pkg/src/API.jl:156",
      "  [6] add(pkgs::Vector{Pkg.Types.PackageSpec})",
      "    @ Pkg.API /Applications/Julia-1.9.2.app/Contents/Resources/julia/share/julia/stdlib/v1.9/Pkg/src/API.jl:145",
      "  [7] #add#25",
      "    @ /Applications/Julia-1.9.2.app/Contents/Resources/julia/share/julia/stdlib/v1.9/Pkg/src/API.jl:144 [inlined]",
      "  [8] add",
      "    @ /Applications/Julia-1.9.2.app/Contents/Resources/julia/share/julia/stdlib/v1.9/Pkg/src/API.jl:144 [inlined]",
      "  [9] #add#24",
      "    @ /Applications/Julia-1.9.2.app/Contents/Resources/julia/share/julia/stdlib/v1.9/Pkg/src/API.jl:143 [inlined]",
      " [10] add(pkg::String)",
      "    @ Pkg.API /Applications/Julia-1.9.2.app/Contents/Resources/julia/share/julia/stdlib/v1.9/Pkg/src/API.jl:143",
      " [11] top-level scope",
      "    @ In[10]:1"
     ]
    }
   ],
   "source": [
    "import Pkg; Pkg.add(\"printf\")"
   ]
  },
  {
   "cell_type": "code",
   "execution_count": 1,
   "id": "ea8de00e",
   "metadata": {},
   "outputs": [
    {
     "data": {
      "text/plain": [
       "1-element Vector{Any}:\n",
       " Any[]"
      ]
     },
     "execution_count": 1,
     "metadata": {},
     "output_type": "execute_result"
    }
   ],
   "source": [
    "σ = Vector()\n",
    "power_method_data = Vector()\n",
    "push!(power_method_data, (deepcopy(σ)))"
   ]
  },
  {
   "cell_type": "code",
   "execution_count": 12,
   "id": "2bb8bc35",
   "metadata": {},
   "outputs": [
    {
     "data": {
      "text/plain": [
       "1"
      ]
     },
     "execution_count": 12,
     "metadata": {},
     "output_type": "execute_result"
    }
   ],
   "source": [
    "length(σ)+1"
   ]
  },
  {
   "cell_type": "code",
   "execution_count": 9,
   "id": "5287564e",
   "metadata": {},
   "outputs": [
    {
     "ename": "LoadError",
     "evalue": "LoadError: UndefVarError: `@sprintf` not defined\nin expression starting at In[9]:1",
     "output_type": "error",
     "traceback": [
      "LoadError: UndefVarError: `@sprintf` not defined\nin expression starting at In[9]:1",
      ""
     ]
    }
   ],
   "source": [
    "@info @sprintf(\"About to start power method iteration %d; kinetic energy: %.2e\", leng, energy)"
   ]
  },
  {
   "cell_type": "code",
   "execution_count": null,
   "id": "2e59860f",
   "metadata": {},
   "outputs": [],
   "source": []
  }
 ],
 "metadata": {
  "kernelspec": {
   "display_name": "Julia 1.9.2",
   "language": "julia",
   "name": "julia-1.9"
  },
  "language_info": {
   "file_extension": ".jl",
   "mimetype": "application/julia",
   "name": "julia",
   "version": "1.9.2"
  }
 },
 "nbformat": 4,
 "nbformat_minor": 5
}
