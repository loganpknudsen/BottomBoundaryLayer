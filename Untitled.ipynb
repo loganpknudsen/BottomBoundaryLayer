{
 "cells": [
  {
   "cell_type": "code",
   "execution_count": 26,
   "id": "4653d4e1",
   "metadata": {},
   "outputs": [
    {
     "data": {
      "text/plain": [
       "101.33779264214046"
      ]
     },
     "execution_count": 26,
     "metadata": {},
     "output_type": "execute_result"
    }
   ],
   "source": [
    "S = 0.1\n",
    "th = 0.01\n",
    "f = 1e-4\n",
    "N = S*f/th\n",
    "gm = (3-S**2)*(3*(1+S**2))**(-1)\n",
    "lmbd = N**2*th*gm/f\n",
    "V_inf = 0.01\n",
    "H = V_inf/lmbd\n",
    "H"
   ]
  },
  {
   "cell_type": "code",
   "execution_count": 27,
   "id": "7a524d0f",
   "metadata": {},
   "outputs": [
    {
     "data": {
      "text/plain": [
       "0.78125"
      ]
     },
     "execution_count": 27,
     "metadata": {},
     "output_type": "execute_result"
    }
   ],
   "source": [
    "400/512"
   ]
  },
  {
   "cell_type": "code",
   "execution_count": 29,
   "id": "a78ee972",
   "metadata": {},
   "outputs": [
    {
     "data": {
      "text/plain": [
       "256.0"
      ]
     },
     "execution_count": 29,
     "metadata": {},
     "output_type": "execute_result"
    }
   ],
   "source": [
    "200/0.78125"
   ]
  },
  {
   "cell_type": "code",
   "execution_count": null,
   "id": "92381121",
   "metadata": {},
   "outputs": [],
   "source": []
  }
 ],
 "metadata": {
  "kernelspec": {
   "display_name": "Python 3 (ipykernel)",
   "language": "python",
   "name": "python3"
  },
  "language_info": {
   "codemirror_mode": {
    "name": "ipython",
    "version": 3
   },
   "file_extension": ".py",
   "mimetype": "text/x-python",
   "name": "python",
   "nbconvert_exporter": "python",
   "pygments_lexer": "ipython3",
   "version": "3.8.10"
  }
 },
 "nbformat": 4,
 "nbformat_minor": 5
}
