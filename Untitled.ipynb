{
 "cells": [
  {
   "cell_type": "code",
   "execution_count": 1,
   "id": "4864ea53",
   "metadata": {},
   "outputs": [
    {
     "ename": "LoadError",
     "evalue": "UndefVarError: `..` not defined",
     "output_type": "error",
     "traceback": [
      "UndefVarError: `..` not defined",
      "",
      "Stacktrace:",
      " [1] top-level scope",
      "   @ In[1]:3"
     ]
    }
   ],
   "source": [
    "a = 1\n",
    "b = 2\n",
    "f_approx = Fun(x->f(x), a..b)\n",
    "Stmp = integrate(f_approx)\n",
    "S = Stmp - Stmp(a)"
   ]
  },
  {
   "cell_type": "code",
   "execution_count": null,
   "id": "694b5a7e",
   "metadata": {},
   "outputs": [],
   "source": []
  }
 ],
 "metadata": {
  "kernelspec": {
   "display_name": "Julia 1.9.2",
   "language": "julia",
   "name": "julia-1.9"
  },
  "language_info": {
   "file_extension": ".jl",
   "mimetype": "application/julia",
   "name": "julia",
   "version": "1.9.2"
  }
 },
 "nbformat": 4,
 "nbformat_minor": 5
}
