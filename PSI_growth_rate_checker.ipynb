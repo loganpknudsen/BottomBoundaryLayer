{
 "cells": [
  {
   "cell_type": "code",
   "execution_count": null,
   "id": "0c5f3220-9679-4b98-bd5d-234ce65d9fc8",
   "metadata": {},
   "outputs": [],
   "source": [
    "import numpy as np\n",
    "import matplotlib.pyplot as plt\n",
    "import xarray as xr"
   ]
  },
  {
   "cell_type": "code",
   "execution_count": null,
   "id": "6ca405b9",
   "metadata": {},
   "outputs": [],
   "source": [
    "data4 = xr.open_dataset(\"PSI_non_dim_full_form_visc.nc\")"
   ]
  },
  {
   "cell_type": "code",
   "execution_count": null,
   "id": "b74fd719-1801-46f7-99bd-cc437af5a384",
   "metadata": {},
   "outputs": [],
   "source": [
    "N_list = [(1*10**(-5))**(0.5)]  # np.linspace((1e-7)**(0.5),(8e-4)**(0.5),51)  # np.array([(1e-5)**(0.5)])  # stratification\n",
    "theta = 5*10**(-3)\n",
    "delta_list = [0.5]  # np.linspace(0, 1, 26)\n",
    "f = 10**(-4)\n",
    "S2 = N_list[0]**2*theta**2/f**2\n",
    "gm = (1+S2)**(-1)\n",
    "beta = (1 + S2)**(-0.5)"
   ]
  },
  {
   "cell_type": "code",
   "execution_count": null,
   "id": "2df16657-7047-4b7c-924b-acc0428c2261",
   "metadata": {},
   "outputs": [],
   "source": [
    "def vsz(t):\n",
    "    return 1 + beta**(-2)*(np.cos(beta*t)-1)"
   ]
  },
  {
   "cell_type": "code",
   "execution_count": null,
   "id": "14a1953a-9d0c-42a2-b171-3c0289c28238",
   "metadata": {},
   "outputs": [],
   "source": [
    "plt.pcolormesh(data4.k,data4.t*beta/(2*np.pi), data4.growth_rate.isel(N=0, delta=0, gamma_index=0))"
   ]
  },
  {
   "cell_type": "code",
   "execution_count": null,
   "id": "83aeef30-a1f6-43f5-9d54-eab824428447",
   "metadata": {},
   "outputs": [],
   "source": [
    "# plt.pcolormesh(data4.k,data4.t*beta/(2*np.pi), data4.oscillation.isel(N=0, delta=0, gamma_index=0))"
   ]
  },
  {
   "cell_type": "code",
   "execution_count": null,
   "id": "ae82cb54-d70e-453e-a6c6-291c32142622",
   "metadata": {},
   "outputs": [],
   "source": [
    "plt.plot(data4.k, data4.growth_rate.isel(N=0, delta=0, gamma_index=0).mean(['t']))\n",
    "plt.xlabel(\"Horizontal Wavenumber\")\n",
    "plt.ylabel(\"Growth Rate\")"
   ]
  },
  {
   "cell_type": "code",
   "execution_count": null,
   "id": "dab28cc3",
   "metadata": {},
   "outputs": [],
   "source": [
    "# k_m = data4.k[:]\n",
    "# plt.plot(k_m[:], data4.growth_rate.isel(delta=0, N=0, gamma_index=0)[:], color = \"b\", linestyle = \"dashed\", label = \"Dedalus Ouput\")\n",
    "# plt.xlabel(\"Horizontal Wavenumber\")\n",
    "# plt.ylabel(\"Growth Rate\")"
   ]
  },
  {
   "cell_type": "code",
   "execution_count": null,
   "id": "ce6f7d37-e094-43f8-b877-bf558e0ec758",
   "metadata": {},
   "outputs": [],
   "source": [
    "data4.growth_rate.isel(N=0, delta=0, gamma_index=0).mean(['t'])"
   ]
  },
  {
   "cell_type": "code",
   "execution_count": null,
   "id": "282afdd1-be64-4eb9-8726-51e5e09126e5",
   "metadata": {},
   "outputs": [],
   "source": [
    "data5 = xr.open_dataset(\"PSI_non_dim_field_visc.nc\")"
   ]
  },
  {
   "cell_type": "code",
   "execution_count": null,
   "id": "cd77441e",
   "metadata": {},
   "outputs": [],
   "source": [
    "data5.t*beta/(2*np.pi)"
   ]
  },
  {
   "cell_type": "code",
   "execution_count": null,
   "id": "d7ed6011",
   "metadata": {},
   "outputs": [],
   "source": [
    "plt.pcolormesh(data5.z, data5.t*beta/(2*np.pi), data5.v_structure.isel(k=-1)/data5.v_structure.isel(k=-1).max())  # f/theta*S2*data5.z background shear\n",
    "plt.ylabel(\"Time\")\n",
    "plt.xlabel(\"z\")\n",
    "plt.title(\"Largest Growing Mode Normalized Vertical Structure\")\n",
    "plt.colorbar()\n",
    "# plt.xlabel(\"v-velocity\")"
   ]
  },
  {
   "cell_type": "code",
   "execution_count": null,
   "id": "f3094db5",
   "metadata": {},
   "outputs": [],
   "source": [
    "plt.plot(data5.z, data5.v_structure.isel(k=-1,t=4))"
   ]
  },
  {
   "cell_type": "code",
   "execution_count": null,
   "id": "bf514de9-ef94-46fc-b431-e63faafc1188",
   "metadata": {},
   "outputs": [],
   "source": [
    "plt.pcolormesh(data5.z, data5.t*beta/(2*np.pi), data5.v_structure.isel(k=-1)+data5.z-0.9*vsz(data5.t)*(1-data5.z))  # f/theta*S2*data5.z background shear\n",
    "plt.ylabel(\"Time\")\n",
    "plt.colorbar()\n",
    "# plt.xlabel(\"v-velocity\")"
   ]
  },
  {
   "cell_type": "code",
   "execution_count": null,
   "id": "3aa90f34-b267-4d8d-8925-bbff71e8e74b",
   "metadata": {},
   "outputs": [],
   "source": [
    "data5.v_structure.isel(k=14)"
   ]
  },
  {
   "cell_type": "code",
   "execution_count": null,
   "id": "3c5c1f6c-6a7f-4ae4-81fa-1a9203f704f1",
   "metadata": {},
   "outputs": [],
   "source": []
  }
 ],
 "metadata": {
  "kernelspec": {
   "display_name": "Python 3 (ipykernel)",
   "language": "python",
   "name": "python3"
  },
  "language_info": {
   "codemirror_mode": {
    "name": "ipython",
    "version": 3
   },
   "file_extension": ".py",
   "mimetype": "text/x-python",
   "name": "python",
   "nbconvert_exporter": "python",
   "pygments_lexer": "ipython3",
   "version": "3.10.13"
  }
 },
 "nbformat": 4,
 "nbformat_minor": 5
}
