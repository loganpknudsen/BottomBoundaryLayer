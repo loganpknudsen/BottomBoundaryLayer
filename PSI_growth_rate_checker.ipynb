{
 "cells": [
  {
   "cell_type": "code",
   "execution_count": null,
   "id": "0c5f3220-9679-4b98-bd5d-234ce65d9fc8",
   "metadata": {},
   "outputs": [],
   "source": [
    "import numpy as np\n",
    "import matplotlib.pyplot as plt\n",
    "import xarray as xr"
   ]
  },
  {
   "cell_type": "code",
   "execution_count": null,
   "id": "6ca405b9",
   "metadata": {},
   "outputs": [],
   "source": [
    "data4 = xr.open_dataset(\"PSI_non_dim_full_form_low_res.nc\")"
   ]
  },
  {
   "cell_type": "code",
   "execution_count": null,
   "id": "b74fd719-1801-46f7-99bd-cc437af5a384",
   "metadata": {},
   "outputs": [],
   "source": [
    "N_list = [(1*10**(-5))**(0.5)]  # np.linspace((1e-7)**(0.5),(8e-4)**(0.5),51)  # np.array([(1e-5)**(0.5)])  # stratification\n",
    "theta = 5*10**(-3)\n",
    "delta_list = [0.5]  # np.linspace(0, 1, 26)\n",
    "f = 10**(-4)\n",
    "S2 = N_list[0]**2*theta**2/f**2\n",
    "gm = (1+S2)**(-1)\n",
    "beta = (1 + S2)**(-0.5)"
   ]
  },
  {
   "cell_type": "code",
   "execution_count": null,
   "id": "2df16657-7047-4b7c-924b-acc0428c2261",
   "metadata": {},
   "outputs": [],
   "source": [
    "def vsz(t):\n",
    "    return 1 + beta**(-2)*(np.cos(beta*t)-1)"
   ]
  },
  {
   "cell_type": "code",
   "execution_count": null,
   "id": "04c919b7-e590-4112-bc14-b09fb911dfa7",
   "metadata": {},
   "outputs": [],
   "source": [
    "def usz(t):\n",
    "    return beta**(-1)*(np.sin(beta*t))"
   ]
  },
  {
   "cell_type": "code",
   "execution_count": null,
   "id": "16162133-6352-4083-a8a8-397fe6a77d49",
   "metadata": {},
   "outputs": [],
   "source": [
    "data4.t"
   ]
  },
  {
   "cell_type": "code",
   "execution_count": null,
   "id": "14a1953a-9d0c-42a2-b171-3c0289c28238",
   "metadata": {},
   "outputs": [],
   "source": [
    "plt.contourf(data4.k,data4.t*beta/(2*np.pi), data4.growth_rate.isel(N=0, delta=0, gamma_index=0))\n",
    "plt.colorbar()"
   ]
  },
  {
   "cell_type": "code",
   "execution_count": null,
   "id": "83aeef30-a1f6-43f5-9d54-eab824428447",
   "metadata": {},
   "outputs": [],
   "source": [
    "plt.contourf(data4.k,data4.t*beta/(2*np.pi), data4.oscillation.isel(N=0, delta=0, gamma_index=0))\n",
    "plt.colorbar()"
   ]
  },
  {
   "cell_type": "code",
   "execution_count": null,
   "id": "ae82cb54-d70e-453e-a6c6-291c32142622",
   "metadata": {},
   "outputs": [],
   "source": [
    "plt.plot(data4.k, data4.growth_rate.isel(N=0, delta=0, gamma_index=0).mean(['t']))\n",
    "plt.xlabel(\"Horizontal Wavenumber\")\n",
    "plt.ylabel(\"Growth Rate\")"
   ]
  },
  {
   "cell_type": "code",
   "execution_count": null,
   "id": "dab28cc3",
   "metadata": {},
   "outputs": [],
   "source": [
    "data4.growth_rate.isel(N=0, delta=0, gamma_index=0).max(dim=\"k\")"
   ]
  },
  {
   "cell_type": "code",
   "execution_count": null,
   "id": "ce6f7d37-e094-43f8-b877-bf558e0ec758",
   "metadata": {
    "scrolled": true
   },
   "outputs": [],
   "source": [
    "idx = data4.growth_rate.isel(N=0, delta=0, gamma_index=0).idxmax(dim=\"k\")\n",
    "# idx = data4.growth_rate.isel(N=0, delta=0, gamma_index=0).mean(['t']).idxmax(dim=\"k\")\n",
    "\n",
    "# data4.growth_rate.isel(N=0, delta=0, gamma_index=0).sel(k=idx)\n",
    "\n",
    "idx = np.unique(idx)\n",
    "# idx =  data4.k\n",
    "# idx = idx[-1:]"
   ]
  },
  {
   "cell_type": "code",
   "execution_count": null,
   "id": "159d7060-509c-420f-8fa6-268ec2857c81",
   "metadata": {},
   "outputs": [],
   "source": [
    "idx"
   ]
  },
  {
   "cell_type": "code",
   "execution_count": null,
   "id": "282afdd1-be64-4eb9-8726-51e5e09126e5",
   "metadata": {},
   "outputs": [],
   "source": [
    "data5 = xr.open_dataset(\"PSI_non_dim_field_low_res.nc\")"
   ]
  },
  {
   "cell_type": "code",
   "execution_count": null,
   "id": "cd77441e",
   "metadata": {},
   "outputs": [],
   "source": [
    "q = 0\n",
    "i = idx[q]\n",
    "x_domain = np.linspace(0, 2*np.pi/8.1, 64)\n",
    "omega_r = data4.growth_rate.isel(N=0, delta=0, gamma_index=0, t=q).sel(k=i)\n",
    "omega_i = data4.oscillation.isel(N=0, delta=0, gamma_index=0, t=q).sel(k=i)\n",
    "v_z = data5.v_structure.isel(t=q).sel(k=i)\n",
    "p_s = np.cos(np.array(i)*x_domain-np.array(omega_r)*np.array(data5.t[q]))*np.exp(np.array(omega_i)*np.array(data5.t[q]))\n",
    "p_s2 = np.sin(np.array(i)*x_domain-np.array(omega_r)*np.array(data5.t[q]))*np.exp(np.array(omega_i)*np.array(data5.t[q]))\n",
    "total = np.array([data5.v_structure.isel(t=q).sel(k=i)]).T*np.array([p_s])+np.array([data5.v_structure_complex.isel(t=q).sel(k=i)]).T*np.array([p_s2])\n",
    "plt.contourf(np.array(x_domain), np.array(data5.z), total)\n",
    "plt.colorbar()"
   ]
  },
  {
   "cell_type": "code",
   "execution_count": null,
   "id": "711f6eb1-34ad-44d3-9b13-3d74c57f08e0",
   "metadata": {},
   "outputs": [],
   "source": [
    "q = 2\n",
    "# i = idx[q]\n",
    "x_domain = np.linspace(0, 2*np.pi/7, 64)\n",
    "total_t = np.zeros((64, 64))\n",
    "for i in idx:\n",
    "    omega_r = data4.growth_rate.isel(N=0, delta=0, gamma_index=0, t=q).sel(k=i)\n",
    "    omega_i = data4.oscillation.isel(N=0, delta=0, gamma_index=0, t=q).sel(k=i)\n",
    "    v_z = data5.v_structure.isel(t=q).sel(k=i)\n",
    "    p_s = np.cos(np.array(i)*x_domain-np.array(omega_r)*np.array(data5.t[q]))*np.exp(np.array(omega_i)*np.array(data5.t[q]))\n",
    "    p_s2 = np.sin(np.array(i)*x_domain-np.array(omega_r)*np.array(data5.t[q]))*np.exp(np.array(omega_i)*np.array(data5.t[q]))\n",
    "    total = np.array([data5.v_structure.isel(t=q).sel(k=i)]).T*np.array([p_s])+np.array([data5.v_structure_complex.isel(t=q).sel(k=i)]).T*np.array([p_s2])\n",
    "    total_t += total\n",
    "plt.contourf(np.array(x_domain), np.array(data5.z), total_t)\n",
    "plt.colorbar()"
   ]
  },
  {
   "cell_type": "code",
   "execution_count": null,
   "id": "df4f24d6-62f5-4dc4-a56f-1d92cd915305",
   "metadata": {},
   "outputs": [],
   "source": [
    "data5.z"
   ]
  },
  {
   "cell_type": "code",
   "execution_count": null,
   "id": "5983ef18-16ed-425e-baa4-3cef1cf70a70",
   "metadata": {
    "scrolled": true
   },
   "outputs": [],
   "source": [
    "np.shape(total)"
   ]
  },
  {
   "cell_type": "code",
   "execution_count": null,
   "id": "83ea2a05-3bd7-468f-85aa-2d3fd0ffd88a",
   "metadata": {},
   "outputs": [],
   "source": [
    "np.shape(np.array(x_domain))"
   ]
  },
  {
   "cell_type": "code",
   "execution_count": null,
   "id": "1c4c0f70-7b1a-4c3c-b941-5b62cee468e3",
   "metadata": {},
   "outputs": [],
   "source": [
    "np.shape(x_domain)"
   ]
  },
  {
   "cell_type": "code",
   "execution_count": null,
   "id": "d7ed6011",
   "metadata": {},
   "outputs": [],
   "source": [
    "plt.pcolormesh(data5.z, data5.t*beta/(2*np.pi), data5.v_structure.isel(k=-1)/data5.v_structure.isel(k=-1).max())  # f/theta*S2*data5.z background shear\n",
    "plt.ylabel(\"Time\")\n",
    "plt.xlabel(\"z\")\n",
    "plt.title(\"Largest Growing Mode Normalized Vertical Structure\")\n",
    "plt.colorbar()\n",
    "# plt.xlabel(\"v-velocity\")"
   ]
  },
  {
   "cell_type": "code",
   "execution_count": null,
   "id": "f3094db5",
   "metadata": {},
   "outputs": [],
   "source": [
    "plt.plot(data5.z, data5.v_structure.isel(k=-1,t=5))"
   ]
  },
  {
   "cell_type": "code",
   "execution_count": null,
   "id": "bf514de9-ef94-46fc-b431-e63faafc1188",
   "metadata": {},
   "outputs": [],
   "source": [
    "plt.pcolormesh(data5.z, data5.t*beta/(2*np.pi), data5.v_structure.isel(k=-1)+data5.z-0.9*vsz(data5.t)*(1-data5.z))  # f/theta*S2*data5.z background shear\n",
    "plt.ylabel(\"Time\")\n",
    "plt.colorbar()\n",
    "# plt.xlabel(\"v-velocity\")"
   ]
  },
  {
   "cell_type": "code",
   "execution_count": null,
   "id": "3aa90f34-b267-4d8d-8925-bbff71e8e74b",
   "metadata": {},
   "outputs": [],
   "source": [
    "data5.v_structure.isel(k=14)"
   ]
  },
  {
   "cell_type": "code",
   "execution_count": null,
   "id": "3c5c1f6c-6a7f-4ae4-81fa-1a9203f704f1",
   "metadata": {},
   "outputs": [],
   "source": []
  },
  {
   "cell_type": "code",
   "execution_count": null,
   "id": "df3c0d9b-4309-4e1b-8365-0c88e6878a72",
   "metadata": {},
   "outputs": [],
   "source": []
  }
 ],
 "metadata": {
  "kernelspec": {
   "display_name": "Python 3 (ipykernel)",
   "language": "python",
   "name": "python3"
  },
  "language_info": {
   "codemirror_mode": {
    "name": "ipython",
    "version": 3
   },
   "file_extension": ".py",
   "mimetype": "text/x-python",
   "name": "python",
   "nbconvert_exporter": "python",
   "pygments_lexer": "ipython3",
   "version": "3.8.10"
  }
 },
 "nbformat": 4,
 "nbformat_minor": 5
}
