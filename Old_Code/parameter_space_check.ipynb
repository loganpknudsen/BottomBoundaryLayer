{
 "cells": [
  {
   "cell_type": "code",
   "execution_count": 4,
   "id": "5bd991f6",
   "metadata": {},
   "outputs": [],
   "source": [
    "import numpy as np\n",
    "import matplotlib.pyplot as plt\n",
    "import math as mt"
   ]
  },
  {
   "cell_type": "markdown",
   "id": "691f9f87",
   "metadata": {},
   "source": [
    "The parameters for the simulation are declared:"
   ]
  },
  {
   "cell_type": "code",
   "execution_count": 294,
   "id": "eca78195",
   "metadata": {},
   "outputs": [],
   "source": [
    "S = 2\n",
    "f = 1e-4\n",
    "theta = 0.01 # angle of the slope 2.716\n",
    "N = S*f/theta # s^-2, interior stratification\n",
    "Vinf = 0.5\n",
    "# m s^-1 interior velocity\n",
    "delta = 0.5"
   ]
  },
  {
   "cell_type": "markdown",
   "id": "410ea341",
   "metadata": {},
   "source": [
    "The Slope Burger Number is defined as \n",
    "$$ S_\\infty = \\dfrac{N_\\infty\\theta}{f}$$\n",
    "so we calculate it to be"
   ]
  },
  {
   "cell_type": "code",
   "execution_count": 295,
   "id": "dc42fbf5",
   "metadata": {},
   "outputs": [
    {
     "data": {
      "text/plain": [
       "0.0004"
      ]
     },
     "execution_count": 295,
     "metadata": {},
     "output_type": "execute_result"
    }
   ],
   "source": [
    "N**2"
   ]
  },
  {
   "cell_type": "code",
   "execution_count": 296,
   "id": "478331cb",
   "metadata": {},
   "outputs": [
    {
     "data": {
      "text/plain": [
       "2.0"
      ]
     },
     "execution_count": 296,
     "metadata": {},
     "output_type": "execute_result"
    }
   ],
   "source": [
    "Sinf = (N*theta)/f # Slope Burger Number\n",
    "Sinf"
   ]
  },
  {
   "cell_type": "markdown",
   "id": "c22c2fd6",
   "metadata": {},
   "source": [
    "we calculate three different values corresponding to $\\gamma$ going forward. The upper limit\n",
    "$$ \\gamma_u = (\\cos\\theta (1+S^2_\\infty))^{-1},$$\n",
    "the lower limit is\n",
    "$$ \\gamma_l = (3-S^2_\\infty)(3\\cos\\theta (1+S^2_\\infty))^{-1},$$\n",
    "abnd middle value of \n",
    "$$ \\gamma_m = (\\gamma_u+\\gamma_l)/2 $$"
   ]
  },
  {
   "cell_type": "code",
   "execution_count": 297,
   "id": "94186b67",
   "metadata": {},
   "outputs": [
    {
     "data": {
      "text/plain": [
       "0.2"
      ]
     },
     "execution_count": 297,
     "metadata": {},
     "output_type": "execute_result"
    }
   ],
   "source": [
    "gammau= ((1+Sinf**2))**(-1)  # upper limit\n",
    "gammau"
   ]
  },
  {
   "cell_type": "code",
   "execution_count": 298,
   "id": "c26155a5",
   "metadata": {},
   "outputs": [
    {
     "data": {
      "text/plain": [
       "-0.06666666666666667"
      ]
     },
     "execution_count": 298,
     "metadata": {},
     "output_type": "execute_result"
    }
   ],
   "source": [
    "gammal = (3-Sinf**2)*((3+3*Sinf**2))**(-1)  # lower limit\n",
    "gammal"
   ]
  },
  {
   "cell_type": "code",
   "execution_count": 299,
   "id": "c75decda",
   "metadata": {},
   "outputs": [
    {
     "data": {
      "text/plain": [
       "0.06666666666666668"
      ]
     },
     "execution_count": 299,
     "metadata": {},
     "output_type": "execute_result"
    }
   ],
   "source": [
    "gammam = (gammau+gammal)/2  # middle value\n",
    "gammam"
   ]
  },
  {
   "cell_type": "markdown",
   "id": "b42dbd3d",
   "metadata": {},
   "source": [
    "The geostrophic shear is:\n",
    "$$ \\Lambda := \\dfrac{N^2_\\infty \\tan\\theta \\gamma}{f\\cos\\theta}$$"
   ]
  },
  {
   "cell_type": "code",
   "execution_count": 300,
   "id": "c3be4e04",
   "metadata": {},
   "outputs": [
    {
     "data": {
      "text/plain": [
       "0.008000000000000002"
      ]
     },
     "execution_count": 300,
     "metadata": {},
     "output_type": "execute_result"
    }
   ],
   "source": [
    "lmbdu = N**2*theta*gammau/(f)\n",
    "lmbdu"
   ]
  },
  {
   "cell_type": "code",
   "execution_count": 301,
   "id": "3492df11",
   "metadata": {},
   "outputs": [
    {
     "data": {
      "text/plain": [
       "-0.002666666666666667"
      ]
     },
     "execution_count": 301,
     "metadata": {},
     "output_type": "execute_result"
    }
   ],
   "source": [
    "lmbdl = N**2*theta*gammal/(f)\n",
    "lmbdl"
   ]
  },
  {
   "cell_type": "code",
   "execution_count": 302,
   "id": "65866390",
   "metadata": {},
   "outputs": [
    {
     "data": {
      "text/plain": [
       "0.0026666666666666674"
      ]
     },
     "execution_count": 302,
     "metadata": {},
     "output_type": "execute_result"
    }
   ],
   "source": [
    "lmbdm = N**2*theta*gammam/(f)\n",
    "lmbdm"
   ]
  },
  {
   "cell_type": "markdown",
   "id": "fcb53acf",
   "metadata": {},
   "source": [
    "The boundary layer height is defined to be \n",
    "$$ h = \\dfrac{V_\\infty}{\\Lambda}  = \\dfrac{V_\\infty f \\cos\\theta}{N^2_\\infty\\tan\\theta\\gamma} $$\n",
    "so we see it is"
   ]
  },
  {
   "cell_type": "code",
   "execution_count": 303,
   "id": "ce305050",
   "metadata": {},
   "outputs": [
    {
     "data": {
      "text/plain": [
       "62.5"
      ]
     },
     "execution_count": 303,
     "metadata": {},
     "output_type": "execute_result"
    }
   ],
   "source": [
    "hu = (f*Vinf)/(gammau*N**2*theta) # m height\n",
    "hu"
   ]
  },
  {
   "cell_type": "code",
   "execution_count": 304,
   "id": "a91ac56e",
   "metadata": {},
   "outputs": [
    {
     "data": {
      "text/plain": [
       "250.0"
      ]
     },
     "execution_count": 304,
     "metadata": {},
     "output_type": "execute_result"
    }
   ],
   "source": [
    "hl = (f*Vinf)/(0.05*N**2*theta) # m height\n",
    "hl"
   ]
  },
  {
   "cell_type": "code",
   "execution_count": 293,
   "id": "f2ae2f98",
   "metadata": {},
   "outputs": [
    {
     "data": {
      "text/plain": [
       "135.4754667824577"
      ]
     },
     "execution_count": 293,
     "metadata": {},
     "output_type": "execute_result"
    }
   ],
   "source": [
    "hm = (f*Vinf)/(gammam*N**2*theta) # m height\n",
    "hm"
   ]
  },
  {
   "cell_type": "markdown",
   "id": "628deb7a",
   "metadata": {},
   "source": [
    "Note that we round this to the next highest whole number to prevent issues at the boundary height in the simulation. "
   ]
  },
  {
   "cell_type": "markdown",
   "id": "891b710c",
   "metadata": {},
   "source": [
    "We define the modified coriolis parameter to be \n",
    "$$ f^*=(f^2+N^2_\\infty\\theta)^{0.5} $$\n",
    "which we calculate to be "
   ]
  },
  {
   "cell_type": "code",
   "execution_count": 170,
   "id": "fe293659",
   "metadata": {},
   "outputs": [
    {
     "data": {
      "text/plain": [
       "7.070714261421151e-05"
      ]
     },
     "execution_count": 170,
     "metadata": {},
     "output_type": "execute_result"
    }
   ],
   "source": [
    "fstar = f*np.cos(theta)*(1+Sinf**2)**(0.5) # s^-1 modified coriolis frequency\n",
    "fstar/2"
   ]
  },
  {
   "cell_type": "markdown",
   "id": "8413c233",
   "metadata": {},
   "source": [
    "Richardson number:\n",
    "$$ Ri\\equiv \\dfrac{N^2_\\infty(1-\\gamma)}{\\Lambda^2}$$"
   ]
  },
  {
   "cell_type": "code",
   "execution_count": 100,
   "id": "1908aab0",
   "metadata": {},
   "outputs": [
    {
     "data": {
      "text/plain": [
       "49.99999999999997"
      ]
     },
     "execution_count": 100,
     "metadata": {},
     "output_type": "execute_result"
    }
   ],
   "source": [
    "Riu = (N2*(1-gammau))/(lmbdu**2)\n",
    "Riu"
   ]
  },
  {
   "cell_type": "code",
   "execution_count": 101,
   "id": "d178d77e",
   "metadata": {},
   "outputs": [
    {
     "data": {
      "text/plain": [
       "79.33884297520662"
      ]
     },
     "execution_count": 101,
     "metadata": {},
     "output_type": "execute_result"
    }
   ],
   "source": [
    "Ril = (N2*(1-gammal))/(lmbdl**2)\n",
    "Ril"
   ]
  },
  {
   "cell_type": "code",
   "execution_count": 102,
   "id": "92fd6d20",
   "metadata": {},
   "outputs": [
    {
     "data": {
      "text/plain": [
       "63.51606805293007"
      ]
     },
     "execution_count": 102,
     "metadata": {},
     "output_type": "execute_result"
    }
   ],
   "source": [
    "Rim = (N2*(1-gammam))/(lmbdm**2)\n",
    "Rim"
   ]
  },
  {
   "cell_type": "markdown",
   "id": "c3244caf",
   "metadata": {},
   "source": [
    "Rossby Number:\n",
    "$$ Ro\\equiv \\dfrac{-\\tan\\theta\\Lambda}{f}$$\n",
    "so we calculate"
   ]
  },
  {
   "cell_type": "code",
   "execution_count": 103,
   "id": "a8bf49a8",
   "metadata": {},
   "outputs": [
    {
     "data": {
      "text/plain": [
       "-0.20000666693334412"
      ]
     },
     "execution_count": 103,
     "metadata": {},
     "output_type": "execute_result"
    }
   ],
   "source": [
    "Rou = -1*(np.tan(theta)*lmbdu)/f\n",
    "Rou"
   ]
  },
  {
   "cell_type": "code",
   "execution_count": 104,
   "id": "47279a77",
   "metadata": {},
   "outputs": [
    {
     "data": {
      "text/plain": [
       "-0.18333944468889876"
      ]
     },
     "execution_count": 104,
     "metadata": {},
     "output_type": "execute_result"
    }
   ],
   "source": [
    "Rol = -1*(np.tan(theta)*lmbdl)/f\n",
    "Rol"
   ]
  },
  {
   "cell_type": "code",
   "execution_count": 105,
   "id": "98ee7460",
   "metadata": {},
   "outputs": [
    {
     "data": {
      "text/plain": [
       "-0.19167305581112143"
      ]
     },
     "execution_count": 105,
     "metadata": {},
     "output_type": "execute_result"
    }
   ],
   "source": [
    "Rom = -1*(np.tan(theta)*lmbdm)/f\n",
    "Rom"
   ]
  },
  {
   "cell_type": "code",
   "execution_count": 106,
   "id": "c18dada2",
   "metadata": {},
   "outputs": [],
   "source": [
    "dz = 200/256"
   ]
  },
  {
   "cell_type": "code",
   "execution_count": 281,
   "id": "aca35f64",
   "metadata": {},
   "outputs": [
    {
     "data": {
      "text/plain": [
       "416.0"
      ]
     },
     "execution_count": 281,
     "metadata": {},
     "output_type": "execute_result"
    }
   ],
   "source": [
    "325/dz"
   ]
  },
  {
   "cell_type": "code",
   "execution_count": null,
   "id": "3af3deeb",
   "metadata": {},
   "outputs": [],
   "source": []
  }
 ],
 "metadata": {
  "kernelspec": {
   "display_name": "Python 3 (ipykernel)",
   "language": "python",
   "name": "python3"
  },
  "language_info": {
   "codemirror_mode": {
    "name": "ipython",
    "version": 3
   },
   "file_extension": ".py",
   "mimetype": "text/x-python",
   "name": "python",
   "nbconvert_exporter": "python",
   "pygments_lexer": "ipython3",
   "version": "3.8.10"
  }
 },
 "nbformat": 4,
 "nbformat_minor": 5
}
