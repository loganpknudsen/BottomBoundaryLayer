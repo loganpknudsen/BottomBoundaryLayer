{
 "cells": [
  {
   "cell_type": "code",
   "execution_count": 1,
   "id": "5bd991f6",
   "metadata": {},
   "outputs": [],
   "source": [
    "import numpy as np\n",
    "import matplotlib.pyplot as plt\n",
    "import math as mt"
   ]
  },
  {
   "cell_type": "markdown",
   "id": "691f9f87",
   "metadata": {},
   "source": [
    "The parameters for the simulation are declared:"
   ]
  },
  {
   "cell_type": "code",
   "execution_count": 592,
   "id": "eca78195",
   "metadata": {},
   "outputs": [],
   "source": [
    "S = 1\n",
    "f = 1e-4\n",
    "theta = 0.1 # angle of the slope 2.716\n",
    "N = S*f/np.tan(theta) # s^-2, interior stratification\n",
    "Vinf = 0.05\n",
    "Riinv = 0.95\n",
    "# m s^-1 interior velocity\n",
    "delta = 0.8\n",
    "fstar = f*(1+S**2)**(0.5)"
   ]
  },
  {
   "cell_type": "markdown",
   "id": "410ea341",
   "metadata": {},
   "source": [
    "The Slope Burger Number is defined as \n",
    "$$ S_\\infty = \\dfrac{N_\\infty\\theta}{f}$$\n",
    "so we calculate it to be"
   ]
  },
  {
   "cell_type": "code",
   "execution_count": 586,
   "id": "6add3b1b",
   "metadata": {},
   "outputs": [
    {
     "data": {
      "text/plain": [
       "9.933400105968446e-07"
      ]
     },
     "execution_count": 586,
     "metadata": {},
     "output_type": "execute_result"
    }
   ],
   "source": [
    "N**2"
   ]
  },
  {
   "cell_type": "code",
   "execution_count": 603,
   "id": "478331cb",
   "metadata": {},
   "outputs": [
    {
     "data": {
      "text/plain": [
       "1"
      ]
     },
     "execution_count": 603,
     "metadata": {},
     "output_type": "execute_result"
    }
   ],
   "source": [
    "Sinf = S # Slope Burger Number\n",
    "Sinf"
   ]
  },
  {
   "cell_type": "markdown",
   "id": "c22c2fd6",
   "metadata": {},
   "source": [
    "we calculate three different values corresponding to $\\gamma$ going forward. The upper limit\n",
    "$$ \\gamma_u = (\\cos\\theta (1+S^2_\\infty))^{-1},$$\n",
    "the lower limit is\n",
    "$$ \\gamma_l = (3-S^2_\\infty)(3\\cos\\theta (1+S^2_\\infty))^{-1},$$\n",
    "abnd middle value of \n",
    "$$ \\gamma_m = (\\gamma_u+\\gamma_l)/2 $$"
   ]
  },
  {
   "cell_type": "code",
   "execution_count": 604,
   "id": "b6c98641",
   "metadata": {},
   "outputs": [
    {
     "data": {
      "text/plain": [
       "0.4736842105263158"
      ]
     },
     "execution_count": 604,
     "metadata": {},
     "output_type": "execute_result"
    }
   ],
   "source": [
    "gamma_riinv = (1+(1-Riinv**(-1))*S**2)/(1+S**2)\n",
    "gamma_riinv"
   ]
  },
  {
   "cell_type": "code",
   "execution_count": 605,
   "id": "94186b67",
   "metadata": {},
   "outputs": [
    {
     "data": {
      "text/plain": [
       "0.5"
      ]
     },
     "execution_count": 605,
     "metadata": {},
     "output_type": "execute_result"
    }
   ],
   "source": [
    "gammau= (1+Sinf**2)**(-1)  # upper limit\n",
    "gammau"
   ]
  },
  {
   "cell_type": "code",
   "execution_count": 606,
   "id": "c26155a5",
   "metadata": {},
   "outputs": [
    {
     "data": {
      "text/plain": [
       "0.3333333333333333"
      ]
     },
     "execution_count": 606,
     "metadata": {},
     "output_type": "execute_result"
    }
   ],
   "source": [
    "gammal = (3-Sinf**2)*((3+3*Sinf**2))**(-1)  # lower limit\n",
    "gammal"
   ]
  },
  {
   "cell_type": "code",
   "execution_count": 607,
   "id": "c75decda",
   "metadata": {},
   "outputs": [
    {
     "data": {
      "text/plain": [
       "0.41666666666666663"
      ]
     },
     "execution_count": 607,
     "metadata": {},
     "output_type": "execute_result"
    }
   ],
   "source": [
    "gammam = (gammau+gammal)/2  # middle value\n",
    "gammam"
   ]
  },
  {
   "cell_type": "markdown",
   "id": "b42dbd3d",
   "metadata": {},
   "source": [
    "The geostrophic shear is:\n",
    "$$ \\Lambda := \\dfrac{N^2_\\infty \\tan\\theta \\gamma}{f\\cos\\theta}$$"
   ]
  },
  {
   "cell_type": "code",
   "execution_count": 610,
   "id": "4dd7390b",
   "metadata": {},
   "outputs": [
    {
     "data": {
      "text/plain": [
       "5e-09"
      ]
     },
     "execution_count": 610,
     "metadata": {},
     "output_type": "execute_result"
    }
   ],
   "source": [
    "fstar**2/4"
   ]
  },
  {
   "cell_type": "code",
   "execution_count": 616,
   "id": "a642b1cb",
   "metadata": {},
   "outputs": [
    {
     "data": {
      "text/plain": [
       "5e-09"
      ]
     },
     "execution_count": 616,
     "metadata": {},
     "output_type": "execute_result"
    }
   ],
   "source": [
    "f**2/(1-gammal)*(1-gammal*(1+S**2))"
   ]
  },
  {
   "cell_type": "code",
   "execution_count": 617,
   "id": "ccb570b9",
   "metadata": {},
   "outputs": [
    {
     "data": {
      "text/plain": [
       "0.00047052947870376854"
      ]
     },
     "execution_count": 617,
     "metadata": {},
     "output_type": "execute_result"
    }
   ],
   "source": [
    "lmbd_riinv = N**2*theta*gamma_riinv/f\n",
    "lmbd_riinv"
   ]
  },
  {
   "cell_type": "code",
   "execution_count": 574,
   "id": "c3be4e04",
   "metadata": {},
   "outputs": [
    {
     "data": {
      "text/plain": [
       "0.0004983294396922376"
      ]
     },
     "execution_count": 574,
     "metadata": {},
     "output_type": "execute_result"
    }
   ],
   "source": [
    "lmbdu = N**2*theta*gammau/(f)\n",
    "lmbdu"
   ]
  },
  {
   "cell_type": "code",
   "execution_count": 575,
   "id": "3492df11",
   "metadata": {},
   "outputs": [
    {
     "data": {
      "text/plain": [
       "0.00033332591605736867"
      ]
     },
     "execution_count": 575,
     "metadata": {},
     "output_type": "execute_result"
    }
   ],
   "source": [
    "lmbdl = N**2*theta*gammal/(f)\n",
    "lmbdl"
   ]
  },
  {
   "cell_type": "code",
   "execution_count": 576,
   "id": "65866390",
   "metadata": {},
   "outputs": [
    {
     "data": {
      "text/plain": [
       "0.0004158276778748031"
      ]
     },
     "execution_count": 576,
     "metadata": {},
     "output_type": "execute_result"
    }
   ],
   "source": [
    "lmbdm = N**2*theta*gammam/(f)\n",
    "lmbdm"
   ]
  },
  {
   "cell_type": "markdown",
   "id": "fcb53acf",
   "metadata": {},
   "source": [
    "The boundary layer height is defined to be \n",
    "$$ h = \\dfrac{V_\\infty}{\\Lambda}  = \\dfrac{V_\\infty f \\cos\\theta}{N^2_\\infty\\tan\\theta\\gamma} $$\n",
    "so we see it is"
   ]
  },
  {
   "cell_type": "code",
   "execution_count": 577,
   "id": "3311477c",
   "metadata": {},
   "outputs": [
    {
     "data": {
      "text/plain": [
       "134.22728563326518"
      ]
     },
     "execution_count": 577,
     "metadata": {},
     "output_type": "execute_result"
    }
   ],
   "source": [
    "h_riinv = Vinf/lmbd_riinv\n",
    "h_riinv"
   ]
  },
  {
   "cell_type": "code",
   "execution_count": 481,
   "id": "ce305050",
   "metadata": {},
   "outputs": [
    {
     "data": {
      "text/plain": [
       "100.33523211247446"
      ]
     },
     "execution_count": 481,
     "metadata": {},
     "output_type": "execute_result"
    }
   ],
   "source": [
    "hu = (f*Vinf)/(gammau*N**2*theta) # m height\n",
    "hu"
   ]
  },
  {
   "cell_type": "code",
   "execution_count": 394,
   "id": "a91ac56e",
   "metadata": {},
   "outputs": [
    {
     "data": {
      "text/plain": [
       "4026.8185689979555"
      ]
     },
     "execution_count": 394,
     "metadata": {},
     "output_type": "execute_result"
    }
   ],
   "source": [
    "hl = (f*Vinf)/(0.05*N**2*theta) # m height\n",
    "hl"
   ]
  },
  {
   "cell_type": "code",
   "execution_count": 395,
   "id": "f2ae2f98",
   "metadata": {},
   "outputs": [
    {
     "data": {
      "text/plain": [
       "262.19287308874755"
      ]
     },
     "execution_count": 395,
     "metadata": {},
     "output_type": "execute_result"
    }
   ],
   "source": [
    "hm = (f*Vinf)/(gammam*N**2*theta) # m height\n",
    "hm"
   ]
  },
  {
   "cell_type": "markdown",
   "id": "628deb7a",
   "metadata": {},
   "source": [
    "Note that we round this to the next highest whole number to prevent issues at the boundary height in the simulation. "
   ]
  },
  {
   "cell_type": "markdown",
   "id": "891b710c",
   "metadata": {},
   "source": [
    "We define the modified coriolis parameter to be \n",
    "$$ f^*=(f^2+N^2_\\infty\\theta)^{0.5} $$\n",
    "which we calculate to be "
   ]
  },
  {
   "cell_type": "code",
   "execution_count": null,
   "id": "fe293659",
   "metadata": {},
   "outputs": [],
   "source": [
    "fstar = f*np.cos(theta)*(1+Sinf**2)**(0.5) # s^-1 modified coriolis frequency\n",
    "fstar/2"
   ]
  },
  {
   "cell_type": "markdown",
   "id": "8413c233",
   "metadata": {},
   "source": [
    "Richardson number:\n",
    "$$ Ri\\equiv \\dfrac{N^2_\\infty(1-\\gamma)}{\\Lambda^2}$$"
   ]
  },
  {
   "cell_type": "code",
   "execution_count": null,
   "id": "1908aab0",
   "metadata": {},
   "outputs": [],
   "source": [
    "Riu = (N2*(1-gammau))/(lmbdu**2)\n",
    "Riu"
   ]
  },
  {
   "cell_type": "code",
   "execution_count": null,
   "id": "d178d77e",
   "metadata": {},
   "outputs": [],
   "source": [
    "Ril = (N2*(1-gammal))/(lmbdl**2)\n",
    "Ril"
   ]
  },
  {
   "cell_type": "code",
   "execution_count": null,
   "id": "92fd6d20",
   "metadata": {},
   "outputs": [],
   "source": [
    "Rim = (N2*(1-gammam))/(lmbdm**2)\n",
    "Rim"
   ]
  },
  {
   "cell_type": "markdown",
   "id": "c3244caf",
   "metadata": {},
   "source": [
    "Rossby Number:\n",
    "$$ Ro\\equiv \\dfrac{-\\tan\\theta\\Lambda}{f}$$\n",
    "so we calculate"
   ]
  },
  {
   "cell_type": "code",
   "execution_count": null,
   "id": "a8bf49a8",
   "metadata": {},
   "outputs": [],
   "source": [
    "Rou = -1*(np.tan(theta)*lmbdu)/f\n",
    "Rou"
   ]
  },
  {
   "cell_type": "code",
   "execution_count": null,
   "id": "47279a77",
   "metadata": {},
   "outputs": [],
   "source": [
    "Rol = -1*(np.tan(theta)*lmbdl)/f\n",
    "Rol"
   ]
  },
  {
   "cell_type": "code",
   "execution_count": null,
   "id": "98ee7460",
   "metadata": {},
   "outputs": [],
   "source": [
    "Rom = -1*(np.tan(theta)*lmbdm)/f\n",
    "Rom"
   ]
  },
  {
   "cell_type": "code",
   "execution_count": null,
   "id": "c18dada2",
   "metadata": {},
   "outputs": [],
   "source": [
    "dz = 200/256"
   ]
  },
  {
   "cell_type": "code",
   "execution_count": null,
   "id": "605e52ff",
   "metadata": {},
   "outputs": [],
   "source": [
    "325/dz"
   ]
  },
  {
   "cell_type": "code",
   "execution_count": null,
   "id": "78796df9",
   "metadata": {},
   "outputs": [],
   "source": []
  }
 ],
 "metadata": {
  "kernelspec": {
   "display_name": "Python 3 (ipykernel)",
   "language": "python",
   "name": "python3"
  },
  "language_info": {
   "codemirror_mode": {
    "name": "ipython",
    "version": 3
   },
   "file_extension": ".py",
   "mimetype": "text/x-python",
   "name": "python",
   "nbconvert_exporter": "python",
   "pygments_lexer": "ipython3",
   "version": "3.8.10"
  }
 },
 "nbformat": 4,
 "nbformat_minor": 5
}
