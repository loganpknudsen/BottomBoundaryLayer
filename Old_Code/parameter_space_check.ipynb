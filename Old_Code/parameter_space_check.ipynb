{
 "cells": [
  {
   "cell_type": "code",
   "execution_count": null,
   "id": "5bd991f6",
   "metadata": {},
   "outputs": [],
   "source": [
    "import numpy as np\n",
    "import matplotlib.pyplot as plt\n",
    "import math as mt"
   ]
  },
  {
   "cell_type": "markdown",
   "id": "691f9f87",
   "metadata": {},
   "source": [
    "The parameters for the simulation are declared:"
   ]
  },
  {
   "cell_type": "code",
   "execution_count": null,
   "id": "eca78195",
   "metadata": {},
   "outputs": [],
   "source": [
    "S = 2\n",
    "f = 1e-4\n",
    "theta = 0.01 # angle of the slope 2.716\n",
    "N = S*f/theta # s^-2, interior stratification\n",
    "Vinf = 0.5\n",
    "# m s^-1 interior velocity\n",
    "delta = 0.5"
   ]
  },
  {
   "cell_type": "markdown",
   "id": "410ea341",
   "metadata": {},
   "source": [
    "The Slope Burger Number is defined as \n",
    "$$ S_\\infty = \\dfrac{N_\\infty\\theta}{f}$$\n",
    "so we calculate it to be"
   ]
  },
  {
   "cell_type": "code",
   "execution_count": null,
   "id": "6add3b1b",
   "metadata": {},
   "outputs": [],
   "source": [
    "N**2"
   ]
  },
  {
   "cell_type": "code",
   "execution_count": null,
   "id": "478331cb",
   "metadata": {},
   "outputs": [],
   "source": [
    "Sinf = (N*theta)/f # Slope Burger Number\n",
    "Sinf"
   ]
  },
  {
   "cell_type": "markdown",
   "id": "c22c2fd6",
   "metadata": {},
   "source": [
    "we calculate three different values corresponding to $\\gamma$ going forward. The upper limit\n",
    "$$ \\gamma_u = (\\cos\\theta (1+S^2_\\infty))^{-1},$$\n",
    "the lower limit is\n",
    "$$ \\gamma_l = (3-S^2_\\infty)(3\\cos\\theta (1+S^2_\\infty))^{-1},$$\n",
    "abnd middle value of \n",
    "$$ \\gamma_m = (\\gamma_u+\\gamma_l)/2 $$"
   ]
  },
  {
   "cell_type": "code",
   "execution_count": null,
   "id": "94186b67",
   "metadata": {},
   "outputs": [],
   "source": [
    "gammau= ((1+Sinf**2))**(-1)  # upper limit\n",
    "gammau"
   ]
  },
  {
   "cell_type": "code",
   "execution_count": null,
   "id": "c26155a5",
   "metadata": {},
   "outputs": [],
   "source": [
    "gammal = (3-Sinf**2)*((3+3*Sinf**2))**(-1)  # lower limit\n",
    "gammal"
   ]
  },
  {
   "cell_type": "code",
   "execution_count": null,
   "id": "c75decda",
   "metadata": {},
   "outputs": [],
   "source": [
    "gammam = (gammau+gammal)/2  # middle value\n",
    "gammam"
   ]
  },
  {
   "cell_type": "markdown",
   "id": "b42dbd3d",
   "metadata": {},
   "source": [
    "The geostrophic shear is:\n",
    "$$ \\Lambda := \\dfrac{N^2_\\infty \\tan\\theta \\gamma}{f\\cos\\theta}$$"
   ]
  },
  {
   "cell_type": "code",
   "execution_count": null,
   "id": "c3be4e04",
   "metadata": {},
   "outputs": [],
   "source": [
    "lmbdu = N**2*theta*gammau/(f)\n",
    "lmbdu"
   ]
  },
  {
   "cell_type": "code",
   "execution_count": null,
   "id": "3492df11",
   "metadata": {},
   "outputs": [],
   "source": [
    "lmbdl = N**2*theta*gammal/(f)\n",
    "lmbdl"
   ]
  },
  {
   "cell_type": "code",
   "execution_count": null,
   "id": "65866390",
   "metadata": {},
   "outputs": [],
   "source": [
    "lmbdm = N**2*theta*gammam/(f)\n",
    "lmbdm"
   ]
  },
  {
   "cell_type": "markdown",
   "id": "fcb53acf",
   "metadata": {},
   "source": [
    "The boundary layer height is defined to be \n",
    "$$ h = \\dfrac{V_\\infty}{\\Lambda}  = \\dfrac{V_\\infty f \\cos\\theta}{N^2_\\infty\\tan\\theta\\gamma} $$\n",
    "so we see it is"
   ]
  },
  {
   "cell_type": "code",
   "execution_count": null,
   "id": "ce305050",
   "metadata": {},
   "outputs": [],
   "source": [
    "hu = (f*Vinf)/(gammau*N**2*theta) # m height\n",
    "hu"
   ]
  },
  {
   "cell_type": "code",
   "execution_count": null,
   "id": "a91ac56e",
   "metadata": {},
   "outputs": [],
   "source": [
    "hl = (f*Vinf)/(0.05*N**2*theta) # m height\n",
    "hl"
   ]
  },
  {
   "cell_type": "code",
   "execution_count": null,
   "id": "f2ae2f98",
   "metadata": {},
   "outputs": [],
   "source": [
    "hm = (f*Vinf)/(gammam*N**2*theta) # m height\n",
    "hm"
   ]
  },
  {
   "cell_type": "markdown",
   "id": "628deb7a",
   "metadata": {},
   "source": [
    "Note that we round this to the next highest whole number to prevent issues at the boundary height in the simulation. "
   ]
  },
  {
   "cell_type": "markdown",
   "id": "891b710c",
   "metadata": {},
   "source": [
    "We define the modified coriolis parameter to be \n",
    "$$ f^*=(f^2+N^2_\\infty\\theta)^{0.5} $$\n",
    "which we calculate to be "
   ]
  },
  {
   "cell_type": "code",
   "execution_count": null,
   "id": "fe293659",
   "metadata": {},
   "outputs": [],
   "source": [
    "fstar = f*np.cos(theta)*(1+Sinf**2)**(0.5) # s^-1 modified coriolis frequency\n",
    "fstar/2"
   ]
  },
  {
   "cell_type": "markdown",
   "id": "8413c233",
   "metadata": {},
   "source": [
    "Richardson number:\n",
    "$$ Ri\\equiv \\dfrac{N^2_\\infty(1-\\gamma)}{\\Lambda^2}$$"
   ]
  },
  {
   "cell_type": "code",
   "execution_count": null,
   "id": "1908aab0",
   "metadata": {},
   "outputs": [],
   "source": [
    "Riu = (N2*(1-gammau))/(lmbdu**2)\n",
    "Riu"
   ]
  },
  {
   "cell_type": "code",
   "execution_count": null,
   "id": "d178d77e",
   "metadata": {},
   "outputs": [],
   "source": [
    "Ril = (N2*(1-gammal))/(lmbdl**2)\n",
    "Ril"
   ]
  },
  {
   "cell_type": "code",
   "execution_count": null,
   "id": "92fd6d20",
   "metadata": {},
   "outputs": [],
   "source": [
    "Rim = (N2*(1-gammam))/(lmbdm**2)\n",
    "Rim"
   ]
  },
  {
   "cell_type": "markdown",
   "id": "c3244caf",
   "metadata": {},
   "source": [
    "Rossby Number:\n",
    "$$ Ro\\equiv \\dfrac{-\\tan\\theta\\Lambda}{f}$$\n",
    "so we calculate"
   ]
  },
  {
   "cell_type": "code",
   "execution_count": null,
   "id": "a8bf49a8",
   "metadata": {},
   "outputs": [],
   "source": [
    "Rou = -1*(np.tan(theta)*lmbdu)/f\n",
    "Rou"
   ]
  },
  {
   "cell_type": "code",
   "execution_count": null,
   "id": "47279a77",
   "metadata": {},
   "outputs": [],
   "source": [
    "Rol = -1*(np.tan(theta)*lmbdl)/f\n",
    "Rol"
   ]
  },
  {
   "cell_type": "code",
   "execution_count": null,
   "id": "98ee7460",
   "metadata": {},
   "outputs": [],
   "source": [
    "Rom = -1*(np.tan(theta)*lmbdm)/f\n",
    "Rom"
   ]
  },
  {
   "cell_type": "code",
   "execution_count": null,
   "id": "c18dada2",
   "metadata": {},
   "outputs": [],
   "source": [
    "dz = 200/256"
   ]
  },
  {
   "cell_type": "code",
   "execution_count": null,
   "id": "605e52ff",
   "metadata": {},
   "outputs": [],
   "source": [
    "325/dz"
   ]
  },
  {
   "cell_type": "code",
   "execution_count": null,
   "id": "78796df9",
   "metadata": {},
   "outputs": [],
   "source": []
  }
 ],
 "metadata": {
  "kernelspec": {
   "display_name": "Python 3 (ipykernel)",
   "language": "python",
   "name": "python3"
  },
  "language_info": {
   "codemirror_mode": {
    "name": "ipython",
    "version": 3
   },
   "file_extension": ".py",
   "mimetype": "text/x-python",
   "name": "python",
   "nbconvert_exporter": "python",
   "pygments_lexer": "ipython3",
   "version": "3.8.10"
  }
 },
 "nbformat": 4,
 "nbformat_minor": 5
}
