{
 "cells": [
  {
   "cell_type": "code",
   "execution_count": null,
   "id": "3b8b4d44-e168-4826-9a9c-a61868f3e935",
   "metadata": {},
   "outputs": [],
   "source": [
    "import xarray as xr\n",
    "import scipy.integrate as sc\n",
    "import matplotlib.pyplot as plt\n",
    "import numpy as np\n",
    "import matplotlib.colors as cl"
   ]
  },
  {
   "cell_type": "code",
   "execution_count": null,
   "id": "050ed3d1-a3b1-48f5-93d0-d2350d15200a",
   "metadata": {},
   "outputs": [],
   "source": [
    "data = xr.open_dataset(\"stability_analysis_output_5.nc\")"
   ]
  },
  {
   "cell_type": "code",
   "execution_count": null,
   "id": "4dcdcbf8-c264-4563-8277-149500b5b242",
   "metadata": {},
   "outputs": [],
   "source": [
    "strat_values = data.strat_values\n",
    "Sinf = 10**(-2.5)*np.tan(data.theta)*1e4\n",
    "Riinv = Sinf**2/((1+Sinf**2)*(1-strat_values))\n",
    "N2 = 1e-5"
   ]
  },
  {
   "cell_type": "code",
   "execution_count": null,
   "id": "e999236e-ae62-4935-85b2-9520dffd6eb4",
   "metadata": {},
   "outputs": [],
   "source": [
    "# data.theta[30]"
   ]
  },
  {
   "cell_type": "code",
   "execution_count": null,
   "id": "249aa7d0-5d26-45d6-baa8-5ed22bea3b0d",
   "metadata": {},
   "outputs": [],
   "source": [
    "# Sinf[29]"
   ]
  },
  {
   "cell_type": "code",
   "execution_count": null,
   "id": "1e5e343f-657e-42d9-867f-beb2424496a1",
   "metadata": {},
   "outputs": [],
   "source": [
    "data.theta"
   ]
  },
  {
   "cell_type": "code",
   "execution_count": null,
   "id": "fce17719-ada7-48ea-9582-fa9e32e56094",
   "metadata": {},
   "outputs": [],
   "source": [
    "ti = 0\n",
    "data2 = data.isel(theta=ti)\n",
    "data2 = data2.where(np.abs(data2.growth_rate)>1e-3,other=0)\n",
    "th = data.theta[ti]\n",
    "mean_angle = -(N2*np.cos(th)*(1-data.strat_values.isel(theta=ti)/np.cos(th)**2)/(N2*np.sin(th))) # *np.tan(theta[i])\n",
    "th"
   ]
  },
  {
   "cell_type": "code",
   "execution_count": null,
   "id": "06454702-a381-40c7-9dab-32af4a8e1603",
   "metadata": {},
   "outputs": [],
   "source": [
    "ti = 0\n",
    "# plt.contourf(Riinv.isel(theta=ti),np.array([data.delta]).T*np.ones(np.shape(Riinv.isel(theta=ti))),data2.slope_angle,levels=100,cmap=\"RdYlBu\")\n",
    "plt.contourf(Riinv.isel(theta=ti),np.array([data.delta]).T*np.ones(np.shape(Riinv.isel(theta=ti))),data2.slope_angle/mean_angle,levels=100,cmap=\"RdYlBu\")\n",
    "plt.colorbar(label=r\"Slope Angle Normalized\")\n",
    "plt.contour(Riinv.isel(theta=ti),np.array([data.delta]).T*np.ones(np.shape(Riinv.isel(theta=ti))),data.frequency.isel(theta=ti),levels=[0.49],cmap=\"gray\")\n",
    "plt.xlabel(r\"$\\text{Ri}^{-1}$\")\n",
    "plt.ylabel(r\"$\\delta$\")\n",
    "plt.savefig(\"slope_angle_norm.jpeg\")\n",
    "plt.show()"
   ]
  },
  {
   "cell_type": "code",
   "execution_count": null,
   "id": "4c111121-158a-478f-96ed-1660b389c33a",
   "metadata": {},
   "outputs": [],
   "source": [
    "ti = 0\n",
    "plt.contourf(Riinv.isel(theta=ti),np.array([data.delta]).T*np.ones(np.shape(Riinv.isel(theta=ti))),data.slope_angle.isel(theta=ti),levels=100,cmap=\"RdYlBu\")\n",
    "plt.colorbar(label=r\"Slope Angle\")\n",
    "plt.contour(Riinv.isel(theta=ti),np.array([data.delta]).T*np.ones(np.shape(Riinv.isel(theta=ti))),data.frequency.isel(theta=ti),levels=[0.49],cmap=\"gray\")\n",
    "plt.xlabel(r\"$\\text{Ri}^{-1}$\")\n",
    "plt.ylabel(r\"$\\delta$\")\n",
    "plt.savefig(\"slope_angle.jpeg\")\n",
    "plt.show()"
   ]
  },
  {
   "cell_type": "code",
   "execution_count": null,
   "id": "19d823d0-61a7-4a11-98f2-43dd0bf61dcd",
   "metadata": {},
   "outputs": [],
   "source": [
    "ti = 0\n",
    "plt.contourf(Riinv.isel(theta=ti),np.array([data.delta]).T*np.ones(np.shape(Riinv.isel(theta=ti))),data.growth_rate.isel(theta=ti),levels=100,cmap=\"RdYlBu\")\n",
    "plt.colorbar(label=r\"Growth Rate ($ \\omega (f^*)^{-1}$)\")\n",
    "plt.contour(Riinv.isel(theta=ti),np.array([data.delta]).T*np.ones(np.shape(Riinv.isel(theta=ti))),data.frequency.isel(theta=ti),levels=[0.49],cmap=\"gray\")\n",
    "\n",
    "plt.xlabel(r\"$\\text{Ri}^{-1}$\")\n",
    "plt.ylabel(r\"$\\delta$\")\n",
    "plt.savefig(\"growth_rate.jpeg\")\n",
    "plt.show()"
   ]
  },
  {
   "cell_type": "code",
   "execution_count": null,
   "id": "26ca9b3f-65e7-4f46-9c2b-8455d2289e7a",
   "metadata": {},
   "outputs": [],
   "source": []
  },
  {
   "cell_type": "code",
   "execution_count": null,
   "id": "6b1eb941-489e-4d08-82da-685a71b7dcb8",
   "metadata": {},
   "outputs": [],
   "source": [
    "plt.contourf(Riinv.isel(theta=ti),np.array([data.delta]).T*np.ones(np.shape(Riinv.isel(theta=ti))),mean_angle,levels=100,cmap=\"RdYlBu\")\n",
    "plt.colorbar(label=r\"$\\mu_o/\\mu_B$\")\n",
    "plt.xlabel(r\"$\\text{Ri}^{-1}$\")\n",
    "plt.ylabel(r\"$\\delta$\")\n",
    "plt.savefig(\"slope_angle.jpeg\")\n",
    "plt.show()"
   ]
  },
  {
   "cell_type": "code",
   "execution_count": null,
   "id": "a911ca00-5495-4c0b-a31f-086129ab4622",
   "metadata": {},
   "outputs": [],
   "source": [
    "plt.contourf(Riinv.isel(theta=ti),np.array([data.delta]).T*np.ones(np.shape(Riinv.isel(theta=ti))),data.slope_angle.isel(theta=ti)/mean_angle,levels=100,cmap=\"RdYlBu\")\n",
    "plt.colorbar(label=r\"$\\mu_o/\\mu_B$\")\n",
    "plt.xlabel(r\"$\\text{Ri}^{-1}$\")\n",
    "plt.ylabel(r\"$\\delta$\")\n",
    "plt.savefig(\"slope_angle.jpeg\")\n",
    "plt.show()"
   ]
  },
  {
   "cell_type": "code",
   "execution_count": null,
   "id": "56cb7d89-364f-4474-ab7e-22de605611ca",
   "metadata": {},
   "outputs": [],
   "source": [
    "ti = 0\n",
    "plt.contourf(Riinv.isel(theta=ti),np.array([data.delta]).T*np.ones(np.shape(Riinv.isel(theta=ti))),data.frequency.isel(theta=ti),levels=100,cmap=\"RdYlBu\")\n",
    "plt.colorbar(label=r\"Growth Rate ($ \\omega (f^*)^{-1}$)\")\n",
    "plt.xlabel(r\"$\\text{Ri}^{-1}$\")\n",
    "plt.ylabel(r\"$\\delta$\")\n",
    "plt.savefig(\"growth_rate.jpeg\")\n",
    "plt.show()"
   ]
  },
  {
   "cell_type": "code",
   "execution_count": null,
   "id": "4fc7f738-ab78-4be5-aca3-9fee0ed842b5",
   "metadata": {},
   "outputs": [],
   "source": [
    "di = 0\n",
    "plt.contourf(np.array([Sinf]).T*np.ones(np.shape(data.growth_rate.isel(delta=di))),Riinv.isel(delta=di),data.growth_rate.isel(delta=di),levels=100,cmap=\"RdYlBu\")\n",
    "plt.colorbar()"
   ]
  },
  {
   "cell_type": "code",
   "execution_count": null,
   "id": "d5ac8f29-2f9f-4ec4-9c02-93b18510c000",
   "metadata": {},
   "outputs": [],
   "source": [
    "plt.plot(Riinv.isel(theta=0),data.delta)\n",
    "plt.show()"
   ]
  },
  {
   "cell_type": "code",
   "execution_count": null,
   "id": "c3de9ff6-3334-471e-8ae7-23ea462b140e",
   "metadata": {},
   "outputs": [],
   "source": [
    "plt.contourf(Riinv.mean(\"theta\"),np.array([data.delta]).T*np.ones(np.shape(data.growth_rate.mean(\"theta\"))),data.growth_rate.mean(\"theta\"),levels=100,cmap=\"RdYlBu\")\n",
    "plt.colorbar()"
   ]
  },
  {
   "cell_type": "code",
   "execution_count": null,
   "id": "30cf034a-5d9f-4ce7-9efa-9e08ab47159a",
   "metadata": {},
   "outputs": [],
   "source": []
  },
  {
   "cell_type": "code",
   "execution_count": null,
   "id": "1be5e868-ee3e-4bd8-a5aa-24e8a28d3fec",
   "metadata": {},
   "outputs": [],
   "source": [
    "plt.contourf(Riinv.mean(\"theta\"),np.array([data.delta]).T*np.ones(np.shape(data.frequency.mean(\"theta\"))),data.frequency.mean(\"theta\"),levels=100,cmap=\"RdYlBu\")\n",
    "plt.colorbar()"
   ]
  },
  {
   "cell_type": "code",
   "execution_count": null,
   "id": "9846a6ab-b684-4c02-97be-1c22205d5ff3",
   "metadata": {},
   "outputs": [],
   "source": [
    "plt.contourf(Riinv.mean(\"theta\"),np.array([data.delta]).T*np.ones(np.shape(data.slope_angle.mean(\"theta\"))),data.slope_angle.mean(\"theta\"),levels=100,cmap=\"RdYlBu\")\n",
    "plt.colorbar()"
   ]
  },
  {
   "cell_type": "code",
   "execution_count": null,
   "id": "bc1cc51b-ce06-4adf-9926-6c4733454fac",
   "metadata": {},
   "outputs": [],
   "source": [
    "plt.contourf(np.array([Sinf]).T*np.ones(np.shape(strat_values.isel(delta=-1))),strat_values.isel(delta=-1),data.growth_rate.isel(delta=-1),levels=100,cmap=\"RdYlBu\")\n",
    "plt.colorbar()"
   ]
  },
  {
   "cell_type": "code",
   "execution_count": null,
   "id": "2b4aaf2d-d59f-41de-8426-37d4368fa418",
   "metadata": {},
   "outputs": [],
   "source": [
    "plt.contourf(Riinv.isel(theta=ti),np.array([data.delta]).T*np.ones(np.shape(Riinv.isel(theta=ti))),data.frequency.isel(theta=ti),levels=100,cmap=\"RdYlBu\")\n",
    "plt.colorbar()"
   ]
  },
  {
   "cell_type": "code",
   "execution_count": null,
   "id": "09cf0681-4056-4c4c-ba36-9d42f78ce815",
   "metadata": {},
   "outputs": [],
   "source": [
    "plt.contourf(Riinv.isel(theta=ti),np.array([data.delta]).T*np.ones(np.shape(Riinv.isel(theta=ti))),data.slope_angle.isel(theta=ti),levels=100,cmap=\"RdYlBu\")\n",
    "plt.colorbar()"
   ]
  },
  {
   "cell_type": "code",
   "execution_count": null,
   "id": "5f6a818e-7c9c-4002-88ef-f7458217c9dc",
   "metadata": {},
   "outputs": [],
   "source": [
    "def m_t(t, m, fstar, delta, lmbd, phi):\n",
    "    # print(delta*lmbd/(fstar)*np.sin(t+phi))\n",
    "    return m+delta*lmbd/(fstar)*np.sin(t+phi)"
   ]
  },
  {
   "cell_type": "code",
   "execution_count": null,
   "id": "c52c5b93-d0a9-45fb-9337-39c3f3cd7506",
   "metadata": {},
   "outputs": [],
   "source": [
    "def PSI_system(v,t,m,theta,gm,S2,delta,lmbd,phi):\n",
    "    psi, D = v\n",
    "    fstar = f*np.cos(theta)*(1+S2)**(0.5)\n",
    "    A0 = (np.tan(theta)**2-S2)/(np.tan(theta)*(1+S2))*(m-np.tan(theta)*(np.tan(theta)**2-S2)**(-1)*((S2/(np.tan(theta)**2))*(1-gm*np.cos(theta)**(-4))+np.tan(theta)**2))\n",
    "    A1 = m+(S2-np.tan(theta)**2)*(np.tan(theta)*(1+S2))**(-1)\n",
    "    dpsidt = (A0-A1*m_t(t,m,fstar,delta,lmbd,phi))*D\n",
    "    dDdt = (1+m_t(t,m,fstar,delta,lmbd,phi)**2)**(-1)*psi\n",
    "    return [dpsidt, dDdt]"
   ]
  },
  {
   "cell_type": "code",
   "execution_count": null,
   "id": "4abc8537-e2e6-415f-a2c9-2e3e4c16a157",
   "metadata": {},
   "outputs": [],
   "source": [
    "data"
   ]
  },
  {
   "cell_type": "code",
   "execution_count": null,
   "id": "5c53a554-3a85-47b7-ba9c-b03bbf6c82ff",
   "metadata": {},
   "outputs": [],
   "source": [
    "len(data.theta)"
   ]
  },
  {
   "cell_type": "code",
   "execution_count": null,
   "id": "9f3a7b52-6994-4c0c-9cf3-bdd7cce1a57a",
   "metadata": {},
   "outputs": [],
   "source": [
    "tau = 2*np.pi\n",
    "dt = 200\n",
    "phi = np.pi/2\n",
    "d_di = 12\n",
    "f = 1e-4\n",
    "N2 = 1e-5\n",
    "strt_ind = 25\n",
    "j = 20\n",
    "t = np.linspace(0, tau+1/dt, dt)\n",
    "WSPRT = []\n",
    "WSPxRT = []\n",
    "WSPyRT = []\n",
    "BFLUXRT = []\n",
    "BFLUXxRT = []\n",
    "BFLUXzRT = []\n",
    "GSPRT = []\n",
    "ke_l = []\n",
    "q = 0\n",
    "for j in range(len(data.theta)):\n",
    "    print(q)\n",
    "    q+=1\n",
    "    WSPRT3 = []\n",
    "    WSPxRT3 = []\n",
    "    WSPyRT3 = []\n",
    "    BFLUXRT3 = []\n",
    "    BFLUXxRT3 = []\n",
    "    BFLUXzRT3 = []\n",
    "    GSPRT3 = []\n",
    "    ke_l3 = []\n",
    "    for i in range(len(data.strat_values.isel(delta=d_di,theta=j))):\n",
    "        WSPRT2 = []\n",
    "        WSPxRT2 = []\n",
    "        WSPyRT2 = []\n",
    "        BFLUXRT2 = []\n",
    "        BFLUXxRT2 = []\n",
    "        BFLUXzRT2 = []\n",
    "        GSPRT2 = []\n",
    "        ke_l2 = []\n",
    "        S2 = (Sinf[j]**2).values\n",
    "        theta = data.theta[j].values\n",
    "        for d_di in range(len(data.delta)):\n",
    "            # if np.isclose(data.frequency.isel(delta=d_di,theta=j,strat_index=i),0.5,rtol=1e-3):\n",
    "            #     WSPRT2.append(0)\n",
    "            #     WSPxRT2.append(0)\n",
    "            #     WSPyRT2.append(0)\n",
    "            #     BFLUXRT2.append(0)\n",
    "            #     BFLUXxRT2.append(0)\n",
    "            #     BFLUXzRT2.append(0)\n",
    "            #     GSPRT2.append(0)\n",
    "            #     ke_l2.append(ke[-1]-ke[0])\n",
    "            # else:\n",
    "            delta = data.delta[d_di].values\n",
    "            gm = data.strat_values.isel(delta=d_di,theta=j,strat_index=i).values\n",
    "            m_max = data.slope_angle.isel(delta=d_di,theta=j,strat_index=i).values\n",
    "            lmbd = N2*np.tan(theta)*gm/(f*np.cos(theta))\n",
    "            sol = sc.odeint(PSI_system, [0, 1], t, args=(m_max, theta, gm, S2, delta, lmbd, phi))\n",
    "            n = (f*np.cos(theta)*(1+S2)**(0.5)/lmbd)\n",
    "            beta = (1+S2)**(0.5)\n",
    "            alpha = N2*np.cos(theta)*(1-gm/np.cos(theta)**2)*np.tan(theta)/(f*lmbd)\n",
    "            Ri = N2*np.cos(theta)*(1-gm/np.cos(theta)**2)/lmbd**2\n",
    "            fstar = (f*np.cos(theta)*beta)\n",
    "            w = ((m_t(t, m_max, fstar, delta, lmbd, phi))**2+1)**(-1)*sol[:,0]\n",
    "            u = m_t(t, m_max, fstar, delta, lmbd, phi)*w*n\n",
    "            v = -f*(gm*S2/np.sin(theta)-np.sin(theta)+m_max*np.cos(theta))*sol[:,1]/(lmbd)\n",
    "            b = -N2*np.sin(theta)*(m_max+(1-gm/np.cos(theta)**2)/np.tan(theta))*sol[:,1]/(N2*np.cos(theta)*(1-gm/(np.cos(theta)**2)))\n",
    "            ke = 0.5*(u**2+v**2+n**2*w**2)\n",
    "            BFLUX = alpha*beta**(-1)*u*b+w*b*Ri\n",
    "            BFLUX_int = sc.simpson(BFLUX,x=t)\n",
    "            BFLUXx = alpha*beta**(-1)*u*b\n",
    "            BFLUXx_int = sc.simpson(BFLUXx,x=t)\n",
    "            BFLUXz = w*b*Ri\n",
    "            BFLUXz_int = sc.simpson(BFLUXz,x=t)\n",
    "            GSP = -v*w\n",
    "            GSP_int = sc.simpson(GSP,x=t)\n",
    "            WSP = -u*w*delta*np.cos(t+phi)+v*w*(f*np.cos(theta)*delta/fstar*np.sin(t+phi))\n",
    "            WSP_int = sc.simpson(WSP,x=t)\n",
    "            WSPx = -u*w*delta*np.cos(t+phi)\n",
    "            WSPx_int = sc.simpson(WSPx,x=t)\n",
    "            WSPy = v*w*(f*np.cos(theta)*delta/fstar*np.sin(t+phi))\n",
    "            WSPy_int = sc.simpson(WSPy,x=t)\n",
    "            # ke = BFLUX_int+GSP_int+WSP_int\n",
    "            WSPRT2.append((WSP_int)/(ke[-1]-ke[0]))\n",
    "            WSPxRT2.append((WSPx_int)/(ke[-1]-ke[0]))\n",
    "            WSPyRT2.append((WSPy_int)/(ke[-1]-ke[0]))\n",
    "            BFLUXRT2.append((BFLUX_int)/(ke[-1]-ke[0]))\n",
    "            BFLUXxRT2.append((BFLUXx_int)/(ke[-1]-ke[0]))\n",
    "            BFLUXzRT2.append((BFLUXz_int)/(ke[-1]-ke[0]))\n",
    "            GSPRT2.append((GSP_int)/(ke[-1]-ke[0]))\n",
    "            ke_l2.append(ke[-1]-ke[0])\n",
    "        WSPRT3.append(WSPRT2)\n",
    "        WSPxRT3.append(WSPxRT2)\n",
    "        WSPyRT3.append(WSPyRT2)\n",
    "        BFLUXRT3.append(BFLUXRT2)\n",
    "        BFLUXxRT3.append(BFLUXxRT2)\n",
    "        BFLUXzRT3.append(BFLUXzRT2)\n",
    "        GSPRT3.append(GSPRT2)\n",
    "        ke_l3.append(ke_l2)\n",
    "    WSPRT.append(WSPRT3)\n",
    "    WSPxRT.append(WSPxRT3)\n",
    "    WSPyRT.append(WSPyRT3)\n",
    "    BFLUXRT.append(BFLUXRT3)\n",
    "    BFLUXxRT.append(BFLUXxRT3)\n",
    "    BFLUXzRT.append(BFLUXzRT3)\n",
    "    GSPRT.append(GSPRT3)\n",
    "    ke_l.append(ke_l3)\n",
    "WSPRT = np.array(WSPRT)\n",
    "WSPxRT = np.array(WSPxRT)\n",
    "WSPyRT = np.array(WSPyRT)\n",
    "BFLUXRT = np.array(BFLUXRT)\n",
    "BFLUXxRT = np.array(BFLUXxRT)\n",
    "BFLUXzRT = np.array(BFLUXzRT)\n",
    "GSPRT = np.array(GSPRT)\n",
    "ke_l = np.array(ke_l)"
   ]
  },
  {
   "cell_type": "code",
   "execution_count": null,
   "id": "7219dd23-6f66-482e-a5d1-9149596a9799",
   "metadata": {},
   "outputs": [],
   "source": []
  },
  {
   "cell_type": "code",
   "execution_count": null,
   "id": "a9ab459c-bf0f-47ae-9446-64f53dc7e8eb",
   "metadata": {},
   "outputs": [],
   "source": [
    "np.shape(WSPRT)"
   ]
  },
  {
   "cell_type": "code",
   "execution_count": null,
   "id": "ac33eb40-0ecb-47e2-9c3c-b00f5ce06db0",
   "metadata": {},
   "outputs": [],
   "source": [
    "Riinv.isel(theta=j).T"
   ]
  },
  {
   "cell_type": "code",
   "execution_count": null,
   "id": "ae6f210e-af71-4ef8-b43d-50452ed87ad8",
   "metadata": {},
   "outputs": [],
   "source": []
  },
  {
   "cell_type": "code",
   "execution_count": null,
   "id": "919d3abe-e435-453f-9d10-f00cd132db99",
   "metadata": {},
   "outputs": [],
   "source": [
    "# WSPRT_cleaned = WSPRT.copy()\n",
    "# WSPRT_cleaned[np.isclose(data.frequency,0.5)]=0"
   ]
  },
  {
   "cell_type": "code",
   "execution_count": null,
   "id": "a9c51636-4f0d-410c-984d-082a5e478eee",
   "metadata": {},
   "outputs": [],
   "source": []
  },
  {
   "cell_type": "code",
   "execution_count": null,
   "id": "ae64c79a-7205-4fce-a89c-53e2f97c5089",
   "metadata": {},
   "outputs": [],
   "source": [
    "# data_copy = data.growth_rate.isel(theta=ti).copy()"
   ]
  },
  {
   "cell_type": "code",
   "execution_count": null,
   "id": "73db76e4-3626-4374-a82b-91ea6d8856c5",
   "metadata": {},
   "outputs": [],
   "source": [
    "np.shape(WSPRT)"
   ]
  },
  {
   "cell_type": "code",
   "execution_count": null,
   "id": "11948dfe-e115-4c04-bbd1-692f6cd5aef4",
   "metadata": {},
   "outputs": [],
   "source": [
    "Riinv.isel(theta=0,delta=12)[45]"
   ]
  },
  {
   "cell_type": "code",
   "execution_count": null,
   "id": "877db85f-a7d7-4e12-ae53-9b620e7c71a1",
   "metadata": {},
   "outputs": [],
   "source": [
    "data.delta[12]"
   ]
  },
  {
   "cell_type": "code",
   "execution_count": null,
   "id": "6a40dc28-86cb-4f6a-9021-2bc35de85b6e",
   "metadata": {},
   "outputs": [],
   "source": [
    "WSPRT[0,10,16]*ke_l[0,10,16]"
   ]
  },
  {
   "cell_type": "code",
   "execution_count": null,
   "id": "50909b75-c3c8-4c3a-9de9-a8f13ecd8f6b",
   "metadata": {},
   "outputs": [],
   "source": [
    "ke_l[0,0,16]"
   ]
  },
  {
   "cell_type": "code",
   "execution_count": null,
   "id": "f8c78abf-dc81-445c-8226-1983636dfef6",
   "metadata": {},
   "outputs": [],
   "source": [
    "WSPRT[0,45,16]*ke_l[0,45,16]"
   ]
  },
  {
   "cell_type": "code",
   "execution_count": null,
   "id": "396312b6-6d6b-446d-b0dd-8e2932fe974a",
   "metadata": {},
   "outputs": [],
   "source": [
    "ke_l[0,10,16]"
   ]
  },
  {
   "cell_type": "code",
   "execution_count": null,
   "id": "f1cfa0ac-8721-4fa6-ad1c-9a20abe63e2b",
   "metadata": {},
   "outputs": [],
   "source": [
    "fig, ax = plt.subplots()\n",
    "max = 5\n",
    "levels= np.linspace(-max,max+1/100,100)\n",
    "\n",
    "tj = 0\n",
    "cf = ax.contourf(Riinv.isel(theta=tj).T,np.array([data.delta])*np.ones(np.shape(WSPRT[tj,:,:])),WSPRT[tj,:,:], levels=levels, cmap='seismic')\n",
    "\n",
    "# Add colorbar with same limits\n",
    "cbar = fig.colorbar(cf, ax=ax)\n",
    "cbar.set_label(\"TKE contribution\")\n",
    "# cbar.set_ticks(np.linspace(vmin, vmax, 5))"
   ]
  },
  {
   "cell_type": "code",
   "execution_count": null,
   "id": "6142876f-04f8-4196-849c-c27d7db8d968",
   "metadata": {},
   "outputs": [],
   "source": [
    "fig, ax = plt.subplots()\n",
    "max = 5\n",
    "levels= np.linspace(-max,max+1/100,100)\n",
    "levels2= np.linspace(-max,max+1/100,20)\n",
    "\n",
    "tj = 0\n",
    "cf = ax.contourf(Riinv.isel(theta=tj).T,np.array([data.delta])*np.ones(np.shape(WSPRT[tj,:,:])),WSPxRT[tj,:,:], levels=levels, cmap='seismic')\n",
    "# ax.contour(Riinv.isel(theta=tj).T,np.array([data.delta])*np.ones(np.shape(WSPRT[tj,:,:])),WSPxRT[tj,:,:], levels=levels2,colors=\"black\")\n",
    "\n",
    "# Add colorbar with same limits\n",
    "cbar = fig.colorbar(cf, ax=ax)\n",
    "cbar.set_label(\"TKE contribution\")\n",
    "# cbar.set_ticks(np.linspace(vmin, vmax, 5))"
   ]
  },
  {
   "cell_type": "code",
   "execution_count": null,
   "id": "3ccc1443-50f2-4db2-8ac2-db693c5b69ea",
   "metadata": {},
   "outputs": [],
   "source": [
    "fig, axs = plt.subplots(1, 3, figsize=(8, 3),sharey=True,layout=\"constrained\")  # 1 row, 3 columns\n",
    "max = 5\n",
    "levels= np.linspace(-max,max+1/100,100)\n",
    "levels2= np.linspace(-max,max+1/100,20)\n",
    "\n",
    "tj = 0\n",
    "\n",
    "# Plot on each subplot\n",
    "cf = axs[0].contourf(Riinv.isel(theta=tj).T,np.array([data.delta])*np.ones(np.shape(WSPRT[tj,:,:])),WSPRT[tj,:,:], levels=levels, cmap='seismic')\n",
    "axs[0].contour(Riinv.isel(theta=ti),np.array([data.delta]).T*np.ones(np.shape(Riinv.isel(theta=ti))),data.frequency.isel(theta=ti),levels=[0.49],cmap=\"gray\")\n",
    "\n",
    "\n",
    "axs[1].contourf(Riinv.isel(theta=tj).T,np.array([data.delta])*np.ones(np.shape(WSPRT[tj,:,:])),BFLUXRT[tj,:,:], levels=levels, cmap='seismic')\n",
    "axs[1].contour(Riinv.isel(theta=ti),np.array([data.delta]).T*np.ones(np.shape(Riinv.isel(theta=ti))),data.frequency.isel(theta=ti),levels=[0.49],cmap=\"gray\")\n",
    "\n",
    "axs[2].contourf(Riinv.isel(theta=tj).T,np.array([data.delta])*np.ones(np.shape(WSPRT[tj,:,:])),GSPRT[tj,:,:], levels=levels, cmap='seismic')\n",
    "axs[2].contour(Riinv.isel(theta=ti),np.array([data.delta]).T*np.ones(np.shape(Riinv.isel(theta=ti))),data.frequency.isel(theta=ti),levels=[0.49],cmap=\"gray\")\n",
    "\n",
    "axs[0].text(0.51,1.05,\"(a.)\")\n",
    "axs[1].text(0.51,1.05,\"(b.)\")\n",
    "axs[2].text(0.51,1.05,\"(c.)\")\n",
    "\n",
    "axs[0].set_xlabel(r\"$\\text{Ri}^{-1}$\")\n",
    "axs[1].set_xlabel(r\"$\\text{Ri}^{-1}$\")\n",
    "axs[2].set_xlabel(r\"$\\text{Ri}^{-1}$\")\n",
    "\n",
    "axs[0].set_ylabel(r\"$\\delta$\")\n",
    "\n",
    "\n",
    "cbar = fig.colorbar(cf, ax=axs[2],ticks=np.arange(-max,max+0.25,1))\n",
    "# cbar.set_label(\"TKE contribution\")\n",
    "# Adjust layout\n",
    "# plt.tight_layout()\n",
    "plt.savefig(\"TKE_term_relative_contr.jpeg\")\n",
    "plt.show()"
   ]
  },
  {
   "cell_type": "code",
   "execution_count": null,
   "id": "11608db2-ef6e-4e01-9034-6ad7d594b5b5",
   "metadata": {},
   "outputs": [],
   "source": [
    "fig, axs = plt.subplots(1, 3, figsize=(8, 3),sharey=True,layout=\"constrained\")  # 1 row, 3 columns\n",
    "max = 5\n",
    "levels= np.linspace(-max,max+1/100,100)\n",
    "levels2= np.linspace(-max,max+1/100,20)\n",
    "\n",
    "tj = 0\n",
    "\n",
    "# Plot on each subplot\n",
    "cf = axs[2].contourf(Riinv.isel(theta=tj).T,np.array([data.delta])*np.ones(np.shape(WSPRT[tj,:,:])),GSPRT[tj,:,:], levels=levels, cmap='seismic')\n",
    "axs[2].contour(Riinv.isel(theta=ti),np.array([data.delta]).T*np.ones(np.shape(Riinv.isel(theta=ti))),data.frequency.isel(theta=ti),levels=[0.49],cmap=\"gray\")\n",
    "\n",
    "axs[1].contourf(Riinv.isel(theta=tj).T,np.array([data.delta])*np.ones(np.shape(WSPRT[tj,:,:])),BFLUXRT[tj,:,:], levels=levels, cmap='seismic')\n",
    "axs[1].contour(Riinv.isel(theta=ti),np.array([data.delta]).T*np.ones(np.shape(Riinv.isel(theta=ti))),data.frequency.isel(theta=ti),levels=[0.49],cmap=\"gray\")\n",
    "\n",
    "axs[0].contourf(Riinv.isel(theta=tj).T,np.array([data.delta])*np.ones(np.shape(WSPRT[tj,:,:])),GSPRT[tj,:,:]+BFLUXRT[tj,:,:], levels=levels, cmap='seismic')\n",
    "axs[0].contour(Riinv.isel(theta=ti),np.array([data.delta]).T*np.ones(np.shape(Riinv.isel(theta=ti))),data.frequency.isel(theta=ti),levels=[0.49],cmap=\"gray\")\n",
    "\n",
    "axs[0].text(0.51,1.05,\"(a.)\")\n",
    "axs[1].text(0.51,1.05,\"(b.)\")\n",
    "axs[2].text(0.51,1.05,\"(c.)\")\n",
    "\n",
    "axs[0].set_ylabel(r\"$\\delta$\")\n",
    "\n",
    "\n",
    "cbar = fig.colorbar(cf, ax=axs[2],ticks=np.arange(-max,max+0.25,1))\n",
    "# cbar.set_label(\"TKE contribution\")\n",
    "# Adjust layout\n",
    "# plt.tight_layout()\n",
    "plt.savefig(\"TKE_term_GSP_BFLUX.jpeg\")\n",
    "plt.show()"
   ]
  },
  {
   "cell_type": "code",
   "execution_count": null,
   "id": "23955532-539e-4d5e-a2f1-bcd4646a7d0c",
   "metadata": {},
   "outputs": [],
   "source": [
    "fig, axs = plt.subplots(1, 3, figsize=(8, 3),sharey=True,layout=\"constrained\")  # 1 row, 3 columns\n",
    "max = 5\n",
    "levels= np.linspace(-max,max+1/100,100)\n",
    "levels2= np.linspace(-max,max+1/100,25)\n",
    "\n",
    "tj = 0\n",
    "\n",
    "# Plot on each subplot\n",
    "cf = axs[0].contourf(Riinv.isel(theta=tj).T,np.array([data.delta])*np.ones(np.shape(WSPRT[tj,:,:])),WSPRT[tj,:,:], levels=levels, cmap='seismic')\n",
    "axs[0].contour(Riinv.isel(theta=ti),np.array([data.delta]).T*np.ones(np.shape(Riinv.isel(theta=ti))),data.frequency.isel(theta=ti),levels=[0.49],cmap=\"gray\")\n",
    "\n",
    "axs[1].contourf(Riinv.isel(theta=tj).T,np.array([data.delta])*np.ones(np.shape(WSPRT[tj,:,:])),WSPxRT[tj,:,:], levels=levels, cmap='seismic')\n",
    "axs[1].contour(Riinv.isel(theta=ti),np.array([data.delta]).T*np.ones(np.shape(Riinv.isel(theta=ti))),data.frequency.isel(theta=ti),levels=[0.49],cmap=\"gray\")\n",
    "\n",
    "axs[2].contourf(Riinv.isel(theta=tj).T,np.array([data.delta])*np.ones(np.shape(WSPRT[tj,:,:])),WSPyRT[tj,:,:], levels=levels, cmap='seismic')\n",
    "axs[2].contour(Riinv.isel(theta=ti),np.array([data.delta]).T*np.ones(np.shape(Riinv.isel(theta=ti))),data.frequency.isel(theta=ti),levels=[0.49],cmap=\"gray\")\n",
    "\n",
    "axs[0].text(0.51,1.05,\"(a.)\")\n",
    "axs[1].text(0.51,1.05,\"(b.)\")\n",
    "axs[2].text(0.51,1.05,\"(c.)\")\n",
    "\n",
    "axs[0].set_xlabel(r\"$\\text{Ri}^{-1}$\")\n",
    "axs[1].set_xlabel(r\"$\\text{Ri}^{-1}$\")\n",
    "axs[2].set_xlabel(r\"$\\text{Ri}^{-1}$\")\n",
    "\n",
    "axs[0].set_ylabel(r\"$\\delta$\")\n",
    "\n",
    "cbar = fig.colorbar(cf, ax=axs[2],ticks=np.arange(-max,max+0.5,1))\n",
    "cbar.set_label(\"TKE contribution\")\n",
    "# Adjust layout\n",
    "# plt.tight_layout()\n",
    "plt.show()"
   ]
  },
  {
   "cell_type": "code",
   "execution_count": null,
   "id": "ca3a806c-fe43-4395-87cc-89abaa18932a",
   "metadata": {},
   "outputs": [],
   "source": [
    "fig, axs = plt.subplots(1, 3, figsize=(8, 3),sharey=True,sharex=False,layout=\"constrained\")  # 1 row, 3 columns\n",
    "max = 5\n",
    "levels= np.linspace(-max,max+1/100,100)\n",
    "levels2= np.linspace(-max,max+1/100,25)\n",
    "\n",
    "tj = 0\n",
    "\n",
    "# Plot on each subplot\n",
    "cf = axs[0].contourf(Riinv.isel(theta=tj).T,np.array([data.delta])*np.ones(np.shape(WSPRT[tj,:,:])),BFLUXRT[tj,:,:], levels=levels, cmap='seismic')\n",
    "axs[0].contour(Riinv.isel(theta=ti),np.array([data.delta]).T*np.ones(np.shape(Riinv.isel(theta=ti))),data.frequency.isel(theta=ti),levels=[0.49],cmap=\"gray\")\n",
    "\n",
    "axs[1].contourf(Riinv.isel(theta=tj).T,np.array([data.delta])*np.ones(np.shape(WSPRT[tj,:,:])),BFLUXxRT[tj,:,:], levels=levels, cmap='seismic')\n",
    "axs[1].contour(Riinv.isel(theta=ti),np.array([data.delta]).T*np.ones(np.shape(Riinv.isel(theta=ti))),data.frequency.isel(theta=ti),levels=[0.49],cmap=\"gray\")\n",
    "\n",
    "axs[2].contourf(Riinv.isel(theta=tj).T,np.array([data.delta])*np.ones(np.shape(WSPRT[tj,:,:])),BFLUXzRT[tj,:,:], levels=levels, cmap='seismic')\n",
    "axs[2].contour(Riinv.isel(theta=ti),np.array([data.delta]).T*np.ones(np.shape(Riinv.isel(theta=ti))),data.frequency.isel(theta=ti),levels=[0.49],cmap=\"gray\")\n",
    "\n",
    "axs[0].text(0.51,1.05,\"(a.)\")\n",
    "axs[1].text(0.51,1.05,\"(b.)\")\n",
    "axs[2].text(0.51,1.05,\"(c.)\")\n",
    "\n",
    "axs[0].set_xlabel(r\"$\\text{Ri}^{-1}$\")\n",
    "axs[1].set_xlabel(r\"$\\text{Ri}^{-1}$\")\n",
    "axs[2].set_xlabel(r\"$\\text{Ri}^{-1}$\")\n",
    "\n",
    "axs[0].set_ylabel(r\"$\\delta$\")\n",
    "\n",
    "cbar = fig.colorbar(cf, ax=axs[2],ticks=np.arange(-max,max+0.25,1))\n",
    "cbar.set_label(\"TKE contribution\")\n",
    "# Adjust layout\n",
    "plt.savefig(\"BFLUX_components.jpeg\")\n",
    "# plt.tight_layout()\n",
    "plt.show()"
   ]
  },
  {
   "cell_type": "code",
   "execution_count": null,
   "id": "b903197a-0225-4e0f-a59d-a81691f54435",
   "metadata": {},
   "outputs": [],
   "source": [
    "fig, ax = plt.subplots()\n",
    "max = 3\n",
    "levels= np.linspace(-max,max+1/100,100)\n",
    "\n",
    "tj = 0\n",
    "cf = ax.contourf(Riinv.isel(theta=tj).T,np.array([data.delta])*np.ones(np.shape(WSPRT[tj,:,:])),WSPyRT[tj,:,:], levels=levels, cmap='seismic')\n",
    "\n",
    "# Add colorbar with same limits\n",
    "cbar = fig.colorbar(cf, ax=ax)\n",
    "cbar.set_label(\"TKE contribution\")\n",
    "# cbar.set_ticks(np.linspace(vmin, vmax, 5))"
   ]
  },
  {
   "cell_type": "code",
   "execution_count": null,
   "id": "68c56ae0-ebc7-4701-a259-6c2556e7a37a",
   "metadata": {},
   "outputs": [],
   "source": [
    "fig, ax = plt.subplots()\n",
    "max = 3\n",
    "levels= np.linspace(-max,max+1/100,100)\n",
    "\n",
    "tj = 0\n",
    "cf = ax.contourf(Riinv.isel(theta=tj).T,np.array([data.delta])*np.ones(np.shape(WSPRT[tj,:,:])),BFLUXRT[tj,:,:], levels=levels, cmap='seismic')\n",
    "\n",
    "# Add colorbar with same limits\n",
    "cbar = fig.colorbar(cf, ax=ax)\n",
    "cbar.set_label(\"TKE contribution\")\n",
    "# cbar.set_ticks(np.linspace(vmin, vmax, 5))"
   ]
  },
  {
   "cell_type": "code",
   "execution_count": null,
   "id": "40b18992-bcf2-48da-8e82-9b947b4500df",
   "metadata": {},
   "outputs": [],
   "source": [
    "fig, ax = plt.subplots()\n",
    "max = 3\n",
    "levels= np.linspace(-max,max+1/100,100)\n",
    "\n",
    "tj = 0\n",
    "cf = ax.contourf(Riinv.isel(theta=tj).T,np.array([data.delta])*np.ones(np.shape(WSPRT[tj,:,:])),BFLUXxRT[tj,:,:], levels=levels, cmap='seismic')\n",
    "\n",
    "# Add colorbar with same limits\n",
    "cbar = fig.colorbar(cf, ax=ax)\n",
    "cbar.set_label(\"TKE contribution\")\n",
    "# cbar.set_ticks(np.linspace(vmin, vmax, 5))"
   ]
  },
  {
   "cell_type": "code",
   "execution_count": null,
   "id": "1a2c41b2-811c-4d16-a200-f3db5f2709a3",
   "metadata": {},
   "outputs": [],
   "source": [
    "fig, ax = plt.subplots()\n",
    "max = 3\n",
    "levels= np.linspace(-max,max+1/100,100)\n",
    "levels2= np.linspace(-max,max+1/100,20)\n",
    "tj = 0\n",
    "\n",
    "cf = ax.contourf(Riinv.isel(theta=tj).T,np.array([data.delta])*np.ones(np.shape(WSPRT[tj,:,:])),BFLUXzRT[tj,:,:], levels=levels, cmap='seismic')\n",
    "# ax.contour(Riinv.isel(theta=tj).T,np.array([data.delta])*np.ones(np.shape(WSPRT[tj,:,:])),BFLUXzRT[tj,:,:], levels=levels2,colors=\"black\")\n",
    "\n",
    "# Add colorbar with same limits\n",
    "cbar = fig.colorbar(cf, ax=ax)\n",
    "cbar.set_label(\"TKE contribution\")\n",
    "# cbar.set_ticks(np.linspace(vmin, vmax, 5))"
   ]
  },
  {
   "cell_type": "code",
   "execution_count": null,
   "id": "8ef47cda-ec0f-41bd-ac74-81f0f704ac80",
   "metadata": {},
   "outputs": [],
   "source": []
  },
  {
   "cell_type": "code",
   "execution_count": null,
   "id": "46bb1047-4e92-4999-bda7-d214ddf11c66",
   "metadata": {},
   "outputs": [],
   "source": [
    "fig, ax = plt.subplots()\n",
    "max = 3\n",
    "levels= np.linspace(-max,max+1/100,100)\n",
    "\n",
    "tj = 0\n",
    "cf = ax.contourf(Riinv.isel(theta=tj).T,np.array([data.delta])*np.ones(np.shape(WSPRT[tj,:,:])),GSPRT[tj,:,:], levels=levels, cmap='seismic')\n",
    "# Add colorbar with same limits\n",
    "cbar = fig.colorbar(cf, ax=ax)\n",
    "cbar.set_label(\"TKE contribution\")\n",
    "# cbar.set_ticks(np.linspace(vmin, vmax, 5))"
   ]
  },
  {
   "cell_type": "code",
   "execution_count": null,
   "id": "d4ec9fb8-5ce6-4f7d-bf7f-9262688f1b0e",
   "metadata": {},
   "outputs": [],
   "source": [
    "fig, ax = plt.subplots()\n",
    "max = 3\n",
    "levels= np.linspace(-max,max+1/100,100)\n",
    "levels2= np.linspace(-max,max+1/100,20)\n",
    "\n",
    "tj = 0\n",
    "cf = ax.contourf(Riinv.isel(theta=tj).T,np.array([data.delta])*np.ones(np.shape(WSPRT[tj,:,:])),GSPRT[tj,:,:]+BFLUXRT[tj,:,:], levels=levels, cmap='seismic')\n",
    "# ax.contour(Riinv.isel(theta=tj).T,np.array([data.delta])*np.ones(np.shape(WSPRT[tj,:,:])),GSPRT[tj,:,:]+BFLUXRT[tj,:,:], levels=levels2,colors=\"black\")\n",
    "plt.xlabel(r\"$\\text{Ri}^{-1}$\")\n",
    "plt.ylabel(r\"$\\delta$\")\n",
    "\n",
    "# Add colorbar with same limits\n",
    "cbar = fig.colorbar(cf, ax=ax,ticks=np.arange(-3,3.5,0.5))\n",
    "cbar.set_label(\"TKE contribution\")\n",
    "plt.savefig(\"GSP_v_BFLUX.jpeg\")\n",
    "# cbar.set_ticks(np.linspace(vmin, vmax, 5))"
   ]
  },
  {
   "cell_type": "code",
   "execution_count": null,
   "id": "065844f6-dd3f-4194-945f-70c07aa1214b",
   "metadata": {},
   "outputs": [],
   "source": [
    "np.shape(WSPRT)"
   ]
  },
  {
   "cell_type": "code",
   "execution_count": null,
   "id": "a713c630-a1af-48c2-8da2-6ecdca6f54e4",
   "metadata": {},
   "outputs": [],
   "source": [
    "fig, axs = plt.subplots(1, 3, figsize=(16, 4),sharey=True)  # 1 row, 3 columns\n",
    "max = 3\n",
    "levels= np.linspace(-max,max+1/100,100)\n",
    "levels2= np.linspace(-max,max+1/100,25)\n",
    "\n",
    "di = 12\n",
    "\n",
    "# Plot on each subplot\n",
    "cf = axs[0].contourf(np.array([Sinf]).T*np.ones(np.shape(WSPRT[:,:,di])),data.strat_values.isel(delta=di),BFLUXRT[:,:,di], levels=levels, cmap='seismic')\n",
    "# axs[0].contour(np.array([Sinf]).T*np.ones(np.shape(WSPRT[:,:,di])),data.strat_values.isel(delta=di),BFLUXRT[:,:,di], levels=levels2,colors=\"black\")\n",
    "\n",
    "axs[1].contourf(np.array([Sinf]).T*np.ones(np.shape(WSPRT[:,:,di])),data.strat_values.isel(delta=di),BFLUXxRT[:,:,di], levels=levels, cmap='seismic')\n",
    "# axs[1].contour(np.array([Sinf]).T*np.ones(np.shape(WSPRT[:,:,di])),data.strat_values.isel(delta=di),BFLUXxRT[:,:,di], levels=levels2,colors=\"black\")\n",
    "\n",
    "axs[2].contourf(np.array([Sinf]).T*np.ones(np.shape(WSPRT[:,:,di])),data.strat_values.isel(delta=di),BFLUXzRT[:,:,di], levels=levels, cmap='seismic')\n",
    "# axs[2].contour(np.array([Sinf]).T*np.ones(np.shape(WSPRT[:,:,di])),data.strat_values.isel(delta=di),BFLUXzRT[:,:,di], levels=levels2,colors=\"black\")\n",
    "\n",
    "axs[0].text(0.1,0.9,\"(a.)\")\n",
    "axs[1].text(0.1,0.9,\"(b.)\")\n",
    "axs[2].text(0.1,0.9,\"(c.)\")\n",
    "\n",
    "axs[0].set_xlabel(r\"$S_\\infty$\")\n",
    "axs[1].set_xlabel(r\"$S_\\infty$\")\n",
    "axs[2].set_xlabel(r\"$S_\\infty$\")\n",
    "\n",
    "axs[0].set_ylabel(r\"$\\gamma$\")\n",
    "\n",
    "cbar = fig.colorbar(cf, ax=axs[2],ticks=np.arange(-3,3+0.25,0.5))\n",
    "cbar.set_label(\"TKE contribution\")\n",
    "# Adjust layout\n",
    "plt.tight_layout()\n",
    "plt.savefig(\"\")\n",
    "plt.show()"
   ]
  },
  {
   "cell_type": "code",
   "execution_count": null,
   "id": "5f2e7ed9-7309-4e09-b76f-e7e11c0fa115",
   "metadata": {},
   "outputs": [],
   "source": [
    "fig, ax = plt.subplots()\n",
    "max = 3\n",
    "levels= np.linspace(-max,max+1/100,100)\n",
    "\n",
    "di = 10\n",
    "cf = ax.contourf(np.array([Sinf]).T*np.ones(np.shape(WSPRT[:,:,di])),data.strat_values.isel(delta=di),BFLUXRT[:,:,di], levels=levels, cmap='seismic')\n",
    "\n",
    "# Add colorbar with same limits\n",
    "cbar = fig.colorbar(cf, ax=ax)\n",
    "cbar.set_label(\"TKE contribution\")\n",
    "# cbar.set_ticks(np.linspace(vmin, vmax, 5))"
   ]
  },
  {
   "cell_type": "code",
   "execution_count": null,
   "id": "9265443a-f911-49b7-8be9-20a462c01dcd",
   "metadata": {},
   "outputs": [],
   "source": [
    "fig, ax = plt.subplots()\n",
    "max = 10\n",
    "levels= np.linspace(-max,max+1/100,100)\n",
    "\n",
    "di = 13\n",
    "cf = ax.contourf(np.array([Sinf])*np.ones(np.shape(WSPRT[:,:,di].T)),Riinv.isel(delta=di).T,WSPRT[:,:,di].T, levels=levels, cmap='seismic')\n",
    "\n",
    "# Add colorbar with same limits\n",
    "cbar = fig.colorbar(cf, ax=ax)\n",
    "cbar.set_label(\"TKE contribution\")"
   ]
  },
  {
   "cell_type": "code",
   "execution_count": null,
   "id": "b7cfc789-1d60-41c3-92d8-79df42ec6d7c",
   "metadata": {},
   "outputs": [],
   "source": [
    "fig, ax = plt.subplots()\n",
    "max = 10\n",
    "levels= np.linspace(-max,max+1/100,100)\n",
    "\n",
    "di = 13\n",
    "cf = ax.contourf(np.array([Sinf])*np.ones(np.shape(WSPRT[:,:,di].T)),Riinv.isel(delta=di).T,BFLUXRT[:,:,di].T, levels=levels, cmap='seismic')\n",
    "\n",
    "# Add colorbar with same limits\n",
    "cbar = fig.colorbar(cf, ax=ax)\n",
    "cbar.set_label(\"TKE contribution\")"
   ]
  },
  {
   "cell_type": "code",
   "execution_count": null,
   "id": "ef2a922e-aa00-44fb-af76-a33dd37968df",
   "metadata": {},
   "outputs": [],
   "source": []
  }
 ],
 "metadata": {
  "kernelspec": {
   "display_name": "Python 3 (ipykernel)",
   "language": "python",
   "name": "python3"
  },
  "language_info": {
   "codemirror_mode": {
    "name": "ipython",
    "version": 3
   },
   "file_extension": ".py",
   "mimetype": "text/x-python",
   "name": "python",
   "nbconvert_exporter": "python",
   "pygments_lexer": "ipython3",
   "version": "3.10.13"
  }
 },
 "nbformat": 4,
 "nbformat_minor": 5
}
