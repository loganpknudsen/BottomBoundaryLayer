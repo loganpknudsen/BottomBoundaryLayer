{
 "cells": [
  {
   "cell_type": "code",
   "execution_count": null,
   "id": "4884ed94-ed7b-494b-bdfb-b4a5bec88f58",
   "metadata": {},
   "outputs": [],
   "source": [
    "\"\"\"\n",
    "Dedalus script solving for the eigenvalues of the Mathieu equation. This script\n",
    "demonstrates solving a periodic eigenvalue problem with nonconstant coefficients\n",
    "and produces a plot of the Mathieu eigenvalues 'a' as a function of the\n",
    "parameter 'q'. It should take just a few seconds to run (serial only).\n",
    "\n",
    "We use a Fourier basis to solve the EVP:\n",
    "    dx(dx(y)) + (a - 2*q*cos(2*x))*y = 0\n",
    "where 'a' is the eigenvalue. Periodicity is enforced by using the Fourier basis.\n",
    "\n",
    "To run and plot:\n",
    "    $ python3 mathieu_evp.py\n",
    "\"\"\"\n",
    "\n",
    "import numpy as np\n",
    "import matplotlib.pyplot as plt\n",
    "import dedalus.public as d3\n",
    "import logging\n",
    "logger = logging.getLogger(__name__)\n",
    "\n",
    "\n",
    "# Parameters\n",
    "N = (1e-5)**(0.5) # stratification\n",
    "theta = 5*10**(-3)\n",
    "f = 10**(-4)\n",
    "S = theta*N/f\n",
    "gamma = (1+S**2)**(-1)\n",
    "Gshear = (theta*N**2*gamma)/f\n",
    "n = f/Gshear\n",
    "Ri = N**2/(Gshear**2)\n",
    "alpha = (N**2*theta)/(f*Gshear)\n",
    "k = (2*np.pi)/2000\n",
    "delta_list =  np.linspace(0, 1, 10)\n",
    "t = gamma**(0.5)*np.pi/2\n",
    "uz = np.sin(gamma**(-0.5)*t)\n",
    "vz = np.cos(gamma**(-0.5)*t)-1\n",
    "bz = np.cos(gamma**(-0.5)*t)-1"
   ]
  },
  {
   "cell_type": "code",
   "execution_count": null,
   "id": "dc081536-9478-4611-a4bb-2e086708200f",
   "metadata": {},
   "outputs": [],
   "source": [
    "N**2*0.5*(200**2-103**2)"
   ]
  },
  {
   "cell_type": "code",
   "execution_count": null,
   "id": "da8b44ed-6090-43a7-94d9-1ded32b1a3f3",
   "metadata": {},
   "outputs": [],
   "source": [
    "# Basis\n",
    "coord = d3.Coordinate('z')\n",
    "dist = d3.Distributor(coord, dtype=np.complex128)\n",
    "basis = d3.Legendre(coord, 56, bounds=(0, 103),dealias=3/2)"
   ]
  },
  {
   "cell_type": "code",
   "execution_count": null,
   "id": "a3d1b1d3-828f-4ace-a179-4c91e8a2f4f0",
   "metadata": {},
   "outputs": [],
   "source": [
    "# Fields\n",
    "u = dist.Field(bases=basis)\n",
    "v = dist.Field(bases=basis)\n",
    "w = dist.Field(bases=basis)\n",
    "b = dist.Field(bases=basis)\n",
    "p = dist.Field(bases=basis)\n",
    "tau_1 = dist.Field(name=\"tau_1\")\n",
    "tau_2 = dist.Field(name=\"tau_2\")\n",
    "tau_3 = dist.Field(name=\"tau_3\")\n",
    "omega = dist.Field()"
   ]
  },
  {
   "cell_type": "code",
   "execution_count": null,
   "id": "647ad8cf-5baa-4c1d-96db-c8b294cf5080",
   "metadata": {},
   "outputs": [],
   "source": [
    "# Substitutions\n",
    "z = dist.local_grid(basis)\n",
    "delta = dist.Field()\n",
    "one_z = dist.Field(bases=basis)\n",
    "one_z['g'] = 1-z\n",
    "lift_basis = basis.derivative_basis(1)\n",
    "lift = lambda A: d3.Lift(A,lift_basis,-1)\n",
    "dz = lambda A: d3.Differentiate(A, coord)\n",
    "wz = dz(w)+lift(tau_1)+lift(tau_3)\n",
    "pz = dz(p)+lift(tau_2)"
   ]
  },
  {
   "cell_type": "code",
   "execution_count": null,
   "id": "d2edb7e8-58b6-47d4-8285-b93655167fae",
   "metadata": {},
   "outputs": [],
   "source": [
    "# Problem\n",
    "problem = d3.EVP([u,v,w,b,p,tau_1,tau_2,tau_3], eigenvalue=omega, namespace=locals())\n",
    "problem.add_equation(\"-1j*omega*u-gamma**(0.5)*delta*uz*w+1j*k*gamma**(0.5)*delta*uz*one_z*u+1j*k*Ri*p-alpha*b = 0\")\n",
    "problem.add_equation(\"-1j*omega*v-(1+delta+delta*gamma*vz)*w+1j*k*gamma**(0.5)*delta*uz*one_z*v+u-n*theta*w= 0\")\n",
    "problem.add_equation(\"-1j*omega*n**2*w+1j*k*gamma**(0.5)*delta*n*uz*one_z*w+n*theta*v+Ri*pz-Ri*b = 0\")\n",
    "problem.add_equation(\"1j*k*u+wz=0\")\n",
    "problem.add_equation(\"-1j*omega*b+u*(alpha)/(Ri)+(1-gamma-gamma*delta*bz)*w+1j*k*gamma**(0.5)*delta*uz*one_z*b = 0\")\n",
    "problem.add_equation(\"w(z=0)=0\")\n",
    "problem.add_equation(\"w(z=103)+u*theta=0\")\n",
    "problem.add_equation(\"p(z=103)=0\")"
   ]
  },
  {
   "cell_type": "code",
   "execution_count": null,
   "id": "8d908387-cfe0-4484-98d9-a36fa8fb5739",
   "metadata": {},
   "outputs": [],
   "source": [
    "# Solver\n",
    "solver = problem.build_solver()\n",
    "evals = []\n",
    "for deltai in delta_list:\n",
    "    delta['g'] = deltai\n",
    "    solver.solve_dense(solver.subproblems[0], rebuild_matrices=True)\n",
    "    sorted_evals = np.sort(solver.eigenvalues.imag)\n",
    "    evals.append(sorted_evals[:10])\n",
    "evals = np.array(evals)\n"
   ]
  },
  {
   "cell_type": "code",
   "execution_count": null,
   "id": "86b118a4-49cc-4b94-9424-ba973219d010",
   "metadata": {},
   "outputs": [],
   "source": [
    "evals*1e-4"
   ]
  },
  {
   "cell_type": "code",
   "execution_count": null,
   "id": "45c11f6c-5312-44fc-ba09-28a72fc24ce2",
   "metadata": {},
   "outputs": [],
   "source": [
    "solver.subproblems[0]"
   ]
  },
  {
   "cell_type": "code",
   "execution_count": null,
   "id": "5707d52d-706a-44a7-a064-f08a1534e1e9",
   "metadata": {},
   "outputs": [],
   "source": [
    "# Plot\n",
    "fig = plt.figure(figsize=(6, 4))\n",
    "plt.plot(delta_list, evals[:, 0::2], '.-', c='C0')\n",
    "plt.plot(delta_list, evals[:, 1::2], '.-', c='C1')\n",
    "plt.xlim(delta_list.min(), delta_list.max())\n",
    "# plt.ylim(-10, 30)\n",
    "# plt.xlim(0.4,0.6)\n",
    "plt.xlabel(\"delta\")\n",
    "plt.ylabel(\"eigenvalues\")\n",
    "plt.title(\"Mathieu eigenvalues\")\n",
    "plt.tight_layout()\n",
    "# plt.savefig(\"mathieu_eigenvalues.png\", dpi=200)"
   ]
  },
  {
   "cell_type": "code",
   "execution_count": null,
   "id": "08510b31-d42a-45a9-a835-81520ede094d",
   "metadata": {},
   "outputs": [],
   "source": []
  },
  {
   "cell_type": "code",
   "execution_count": null,
   "id": "f36f6ab5-984e-47d7-9962-93f7b1034ad9",
   "metadata": {},
   "outputs": [],
   "source": []
  }
 ],
 "metadata": {
  "kernelspec": {
   "display_name": "Python 3 (ipykernel)",
   "language": "python",
   "name": "python3"
  },
  "language_info": {
   "codemirror_mode": {
    "name": "ipython",
    "version": 3
   },
   "file_extension": ".py",
   "mimetype": "text/x-python",
   "name": "python",
   "nbconvert_exporter": "python",
   "pygments_lexer": "ipython3",
   "version": "3.13.0"
  }
 },
 "nbformat": 4,
 "nbformat_minor": 5
}
