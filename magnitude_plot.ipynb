{
 "cells": [
  {
   "cell_type": "code",
   "execution_count": 1,
   "id": "03f05a8d",
   "metadata": {},
   "outputs": [],
   "source": [
    "import numpy as np\n",
    "import matplotlib.pyplot as plt"
   ]
  },
  {
   "cell_type": "code",
   "execution_count": 2,
   "id": "d9485382",
   "metadata": {},
   "outputs": [],
   "source": [
    "Sinf = np.arange(0,2,0.00001)"
   ]
  },
  {
   "cell_type": "code",
   "execution_count": 3,
   "id": "e4490cb9",
   "metadata": {},
   "outputs": [],
   "source": [
    "def magnitude_u_vel_upper_limit(Sinf):\n",
    "    N2 = 1e-5\n",
    "    delta = 0.5\n",
    "    f = 1e-4\n",
    "    theta = np.arctan(Sinf*f/N2)\n",
    "    gamma = (np.cos(theta)*(1+(1-delta)*Sinf**2))**(-1)\n",
    "    lmbd = N2*gamma*np.tan(theta)/f\n",
    "    beta = (1+Sinf**2)**(0.5)\n",
    "    return lmbd*delta*beta**(-1)"
   ]
  },
  {
   "cell_type": "code",
   "execution_count": 4,
   "id": "6c64b866",
   "metadata": {},
   "outputs": [],
   "source": [
    "def magnitude_v_vel_upper_limit(Sinf):\n",
    "    N2 = 1e-5\n",
    "    delta = 0.5\n",
    "    f = 1e-4\n",
    "    theta = np.arctan(Sinf*f/N2)\n",
    "    gamma = (np.cos(theta)*(1+(1-delta)*Sinf**2))**(-1)\n",
    "    lmbd = N2*gamma*np.tan(theta)/f\n",
    "    beta = (1+Sinf**2)**(0.5)\n",
    "    return lmbd*delta*beta**(-2)"
   ]
  },
  {
   "cell_type": "code",
   "execution_count": 5,
   "id": "bd6eb863",
   "metadata": {},
   "outputs": [],
   "source": [
    "def magnitude_u_vel_lower_limit(Sinf):\n",
    "    N2 = 1e-5\n",
    "    delta = 0.5\n",
    "    f = 1e-4\n",
    "    theta = np.arctan(Sinf*f/N2)\n",
    "    gamma = (3-Sinf**2)*(np.cos(theta)*(3*(1+Sinf**2)-4*delta*Sinf**2))**(-1)\n",
    "    lmbd = N2*gamma*np.tan(theta)/f\n",
    "    beta = (1+Sinf**2)**(0.5)\n",
    "    return delta*lmbd+lmbd*delta*beta**(-1)"
   ]
  },
  {
   "cell_type": "code",
   "execution_count": 6,
   "id": "7bb0f819",
   "metadata": {},
   "outputs": [],
   "source": [
    "def magnitude_v_vel_lower_limit(Sinf):\n",
    "    N2 = 1e-5\n",
    "    delta = 0.5\n",
    "    f = 1e-4\n",
    "    theta = np.arctan(Sinf*f/N2)\n",
    "    gamma = (3-Sinf**2)*(np.cos(theta)*(3*(1+Sinf**2)-4*delta*Sinf**2))**(-1)\n",
    "    lmbd = N2*gamma*np.tan(theta)/f\n",
    "    beta = (1+Sinf**2)**(0.5)\n",
    "    return delta*lmbd+lmbd*delta*beta**(-2)"
   ]
  },
  {
   "cell_type": "code",
   "execution_count": 7,
   "id": "87313a38",
   "metadata": {},
   "outputs": [],
   "source": [
    "def magnitude_strat_upper_limit(Sinf):\n",
    "    N2 = 1e-5\n",
    "    delta = 0.5\n",
    "    f = 1e-4\n",
    "    theta = np.arctan(Sinf*f/N2)\n",
    "    gamma = (np.cos(theta)*(1+(1-delta)*Sinf**2))**(-1)\n",
    "    lmbd = N2*gamma*np.tan(theta)/f\n",
    "    beta = (1+Sinf**2)**(0.5)\n",
    "    return -1*lmbd**2*delta*gamma**(-1)*beta**(-2)"
   ]
  },
  {
   "cell_type": "code",
   "execution_count": 8,
   "id": "2aee6d36",
   "metadata": {},
   "outputs": [],
   "source": [
    "def magnitude_strat_lower_limit(Sinf):\n",
    "    N2 = 1e-5\n",
    "    delta = 0.5\n",
    "    f = 1e-4\n",
    "    theta = np.arctan(Sinf*f/N2)\n",
    "    gamma = (3-Sinf**2)*(np.cos(theta)*(3*(1+Sinf**2)-4*delta*Sinf**2))**(-1)\n",
    "    lmbd = N2*gamma*np.tan(theta)/f\n",
    "    beta = (1+Sinf**2)**(0.5)\n",
    "    return -1*lmbd**2*delta*gamma**(-1)*beta**(-2)"
   ]
  },
  {
   "cell_type": "code",
   "execution_count": 9,
   "id": "2b968414",
   "metadata": {},
   "outputs": [
    {
     "data": {
      "text/plain": [
       "<matplotlib.collections.LineCollection at 0x7fbf12e69a30>"
      ]
     },
     "execution_count": 9,
     "metadata": {},
     "output_type": "execute_result"
    },
    {
     "data": {
      "image/png": "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\n",
      "text/plain": [
       "<Figure size 432x288 with 1 Axes>"
      ]
     },
     "metadata": {
      "needs_background": "light"
     },
     "output_type": "display_data"
    }
   ],
   "source": [
    "uu = magnitude_u_vel_upper_limit(Sinf)\n",
    "vu = magnitude_v_vel_upper_limit(Sinf)\n",
    "Bu = magnitude_strat_upper_limit(Sinf)\n",
    "plt.plot(Sinf,uu,color=\"red\")\n",
    "plt.plot(Sinf,vu,color=\"blue\")\n",
    "plt.plot(Sinf,Bu,color=\"magenta\")\n",
    "plt.hlines(-2.75,xmin=0,xmax=2,color=\"k\",linestyle=\"--\")"
   ]
  },
  {
   "cell_type": "code",
   "execution_count": 10,
   "id": "5b5a5a4d",
   "metadata": {},
   "outputs": [
    {
     "data": {
      "text/plain": [
       "[<matplotlib.lines.Line2D at 0x7fbf15d505b0>]"
      ]
     },
     "execution_count": 10,
     "metadata": {},
     "output_type": "execute_result"
    },
    {
     "data": {
      "image/png": "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\n",
      "text/plain": [
       "<Figure size 432x288 with 1 Axes>"
      ]
     },
     "metadata": {
      "needs_background": "light"
     },
     "output_type": "display_data"
    }
   ],
   "source": [
    "ul = magnitude_u_vel_lower_limit(Sinf)\